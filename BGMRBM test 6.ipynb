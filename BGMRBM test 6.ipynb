{
 "metadata": {
  "name": "",
  "signature": "sha256:3735e502d4a22b5def105a0e933ec6e76d8ec300631a8c87c1a3dd7009ec2bca"
 },
 "nbformat": 3,
 "nbformat_minor": 0,
 "worksheets": [
  {
   "cells": [
    {
     "cell_type": "code",
     "collapsed": false,
     "input": [
      "# GET DISTRIBUTION OF DIHEDRAL ANGLES IN THE LINKAGE OF TWO TRIANGLES\n",
      "# FIX BOTH THE CENTER OF MASS AND ROTATION"
     ],
     "language": "python",
     "metadata": {},
     "outputs": [],
     "prompt_number": 440
    },
    {
     "cell_type": "code",
     "collapsed": false,
     "input": [
      "%matplotlib inline"
     ],
     "language": "python",
     "metadata": {},
     "outputs": [],
     "prompt_number": 441
    },
    {
     "cell_type": "code",
     "collapsed": false,
     "input": [
      "import datetime\n",
      "dts = str(datetime.datetime.now())\n",
      "date_time_str = dts[:10] + \"-\" + dts[11:13] + \"-\" + dts[14:16]\n",
      "print date_time_str"
     ],
     "language": "python",
     "metadata": {},
     "outputs": [
      {
       "output_type": "stream",
       "stream": "stdout",
       "text": [
        "2015-02-05-21-59\n"
       ]
      }
     ],
     "prompt_number": 442
    },
    {
     "cell_type": "code",
     "collapsed": false,
     "input": [
      "import numpy as np\n",
      "\n",
      "import matplotlib.pyplot as plt\n",
      "\n",
      "import bga_4_0 as bga\n",
      "import manifold_reflected_brownian_motion as mrbm\n",
      "\n",
      "bga = reload(bga)\n",
      "mrbm = reload(mrbm)"
     ],
     "language": "python",
     "metadata": {},
     "outputs": [],
     "prompt_number": 443
    },
    {
     "cell_type": "code",
     "collapsed": false,
     "input": [
      "save_images = True"
     ],
     "language": "python",
     "metadata": {},
     "outputs": [],
     "prompt_number": 444
    },
    {
     "cell_type": "code",
     "collapsed": false,
     "input": [
      "manifold_name = 'building_game'\n",
      "poly_name = 'octahedron'\n",
      "int_num = 2\n",
      "\n",
      "unary_boundary_name = 'self_intersection'\n",
      "binary_boundary_name = 'dihedrals'\n",
      "\n",
      "stat_name = 'test_1'"
     ],
     "language": "python",
     "metadata": {},
     "outputs": [],
     "prompt_number": 445
    },
    {
     "cell_type": "code",
     "collapsed": false,
     "input": [
      "manifold_kwargs = {'poly_name': poly_name, \n",
      "                   'int_num': int_num, \n",
      "                   'fixed_com': True,\n",
      "                   'fixed_rotation': True}\n",
      "unary_boundary_kwargs = {'poly_name': poly_name, 'int_num': int_num}\n",
      "binary_boundary_kwargs = {'poly_name': poly_name, 'int_num': int_num}\n",
      "stat_kwargs = {}"
     ],
     "language": "python",
     "metadata": {},
     "outputs": [],
     "prompt_number": 446
    },
    {
     "cell_type": "code",
     "collapsed": false,
     "input": [
      "err_tol = 10**-12\n",
      "h = 0.025\n",
      "N = 10**7\n",
      "\n",
      "hist_min = 0.0\n",
      "hist_max = 2.0*np.pi\n",
      "hist_bins = 1000"
     ],
     "language": "python",
     "metadata": {},
     "outputs": [],
     "prompt_number": 447
    },
    {
     "cell_type": "code",
     "collapsed": false,
     "input": [
      "kwargs_nb = {'manifold_name': manifold_name,  \n",
      "             'stat_name': stat_name,\n",
      "             'manifold_kwargs': manifold_kwargs,\n",
      "             'stat_kwargs': stat_kwargs,\n",
      "             'record_hist': True, \n",
      "             'hist_min': hist_min, \n",
      "             'hist_max': hist_max, \n",
      "             'hist_bins': hist_bins,\n",
      "             'err_tol': err_tol}\n",
      "\n",
      "kwargs_b  = {'manifold_name': manifold_name,  \n",
      "             'unary_boundary_name': unary_boundary_name,\n",
      "             'binary_boundary_name': binary_boundary_name,\n",
      "             'stat_name': stat_name,\n",
      "             'manifold_kwargs': manifold_kwargs,\n",
      "             'unary_boundary_kwargs': unary_boundary_kwargs,\n",
      "             'binary_boundary_kwargs': binary_boundary_kwargs,\n",
      "             'stat_kwargs': stat_kwargs,\n",
      "             'record_hist': True, \n",
      "             'hist_min': hist_min, \n",
      "             'hist_max': hist_max, \n",
      "             'hist_bins': hist_bins,\n",
      "             'err_tol': err_tol}"
     ],
     "language": "python",
     "metadata": {},
     "outputs": [],
     "prompt_number": 448
    },
    {
     "cell_type": "code",
     "collapsed": false,
     "input": [
      "x0, links, lengths, faces = bga.load_bg_int(poly_name, int_num)"
     ],
     "language": "python",
     "metadata": {},
     "outputs": [],
     "prompt_number": 449
    },
    {
     "cell_type": "code",
     "collapsed": false,
     "input": [
      "z_nb = mrbm.MRBM(x0, h, **kwargs_nb)\n",
      "#z_b = mrbm.MRBM(x0, h, **kwargs_b)"
     ],
     "language": "python",
     "metadata": {},
     "outputs": [],
     "prompt_number": 450
    },
    {
     "cell_type": "code",
     "collapsed": false,
     "input": [
      "s_nb = z_nb.sample(N=N, record_trace=False, record_stats=True)\n",
      "print 'done'"
     ],
     "language": "python",
     "metadata": {},
     "outputs": [
      {
       "output_type": "stream",
       "stream": "stdout",
       "text": [
        "____________________\n"
       ]
      },
      {
       "output_type": "stream",
       "stream": "stdout",
       "text": [
        "-"
       ]
      },
      {
       "output_type": "stream",
       "stream": "stdout",
       "text": [
        "-"
       ]
      },
      {
       "output_type": "stream",
       "stream": "stdout",
       "text": [
        "-"
       ]
      },
      {
       "output_type": "stream",
       "stream": "stdout",
       "text": [
        "-"
       ]
      },
      {
       "output_type": "stream",
       "stream": "stdout",
       "text": [
        "-"
       ]
      },
      {
       "output_type": "stream",
       "stream": "stdout",
       "text": [
        "-"
       ]
      },
      {
       "output_type": "stream",
       "stream": "stdout",
       "text": [
        "-"
       ]
      },
      {
       "output_type": "stream",
       "stream": "stdout",
       "text": [
        "-"
       ]
      },
      {
       "output_type": "stream",
       "stream": "stdout",
       "text": [
        "-"
       ]
      },
      {
       "output_type": "stream",
       "stream": "stdout",
       "text": [
        "-"
       ]
      },
      {
       "output_type": "stream",
       "stream": "stdout",
       "text": [
        "-"
       ]
      },
      {
       "output_type": "stream",
       "stream": "stdout",
       "text": [
        "-"
       ]
      },
      {
       "output_type": "stream",
       "stream": "stdout",
       "text": [
        "-"
       ]
      },
      {
       "output_type": "stream",
       "stream": "stdout",
       "text": [
        "-"
       ]
      },
      {
       "output_type": "stream",
       "stream": "stdout",
       "text": [
        "-"
       ]
      },
      {
       "output_type": "stream",
       "stream": "stdout",
       "text": [
        "-"
       ]
      },
      {
       "output_type": "stream",
       "stream": "stdout",
       "text": [
        "-"
       ]
      },
      {
       "output_type": "stream",
       "stream": "stdout",
       "text": [
        "-"
       ]
      },
      {
       "output_type": "stream",
       "stream": "stdout",
       "text": [
        "-"
       ]
      },
      {
       "output_type": "stream",
       "stream": "stdout",
       "text": [
        "-"
       ]
      },
      {
       "output_type": "stream",
       "stream": "stdout",
       "text": [
        "\n",
        "done\n"
       ]
      }
     ],
     "prompt_number": 451
    },
    {
     "cell_type": "code",
     "collapsed": false,
     "input": [
      "#s_b = z_b.sample(N=N, record_trace=False, record_stats=False)\n",
      "#print 'done'"
     ],
     "language": "python",
     "metadata": {},
     "outputs": [],
     "prompt_number": 452
    },
    {
     "cell_type": "code",
     "collapsed": false,
     "input": [
      "a = 0.5/np.pi\n",
      "b = -a*0.1\n",
      "c = -a*0.1\n",
      "a2 = a\n",
      "b2 = 0.028\n",
      "x_range = np.linspace(0.0, 2.0*np.pi)\n",
      "ys = a + b*np.cos(x_range) + c*np.cos(2*x_range)\n",
      "ys2 = a2 + b2*np.cos(x_range)"
     ],
     "language": "python",
     "metadata": {},
     "outputs": [],
     "prompt_number": 453
    },
    {
     "cell_type": "code",
     "collapsed": false,
     "input": [
      "xx1 = plt.hist(z_nb.hist.midpoints, weights=z_nb.hist.hist[0,:], normed=True, bins=40)\n",
      "yy1 = plt.plot(x_range, ys, 'r') \n",
      "yy2 = plt.plot(x_range, ys2, 'g') \n",
      "if save_images == True:\n",
      "    plt.savefig('test_6_n_'+date_time_str+'.png')"
     ],
     "language": "python",
     "metadata": {},
     "outputs": [
      {
       "metadata": {},
       "output_type": "display_data",
       "png": "[encoded data removed]",
       "text": [
        "<matplotlib.figure.Figure at 0x7f4474be52d0>"
       ]
      }
     ],
     "prompt_number": 454
    },
    {
     "cell_type": "code",
     "collapsed": false,
     "input": [
      "#xx2 = plt.hist(z_b.hist.midpoints, weights=z_b.hist.hist[0,:], normed=True, bins=40)\n",
      "#yy2 = plt.plot(x_range, ys, 'r')\n",
      "#if save_images == True:\n",
      "#    plt.savefig('test_1_b_'+date_time_str+'.png')"
     ],
     "language": "python",
     "metadata": {},
     "outputs": [],
     "prompt_number": 455
    },
    {
     "cell_type": "raw",
     "metadata": {},
     "source": [
      "plt.plot(z_nb.stat_log[:100])"
     ]
    }
   ],
   "metadata": {}
  }
 ]
}