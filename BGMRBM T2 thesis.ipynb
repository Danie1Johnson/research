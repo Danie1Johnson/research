{
 "metadata": {
  "name": "",
  "signature": "sha256:5c91d49e5ff0b66926aa37274bf625695348fc6886de027f83efd58ef3553ed2"
 },
 "nbformat": 3,
 "nbformat_minor": 0,
 "worksheets": [
  {
   "cells": [
    {
     "cell_type": "markdown",
     "metadata": {},
     "source": [
      "Plots of the two triangle linkage that this file generates:\n",
      "\n",
      "1. no boundary, no fixing of trivial dofs\n",
      "2. boundary, nofixing of trivial dofs\n",
      "3. no boundary, fixed face\n",
      "4. no boundary, fixed center of mass\n",
      "5. no boundary, fixed center of mass and rotation\n",
      "6. boundary, fixed center of mass and rotation"
     ]
    },
    {
     "cell_type": "code",
     "collapsed": false,
     "input": [
      "%matplotlib inline"
     ],
     "language": "python",
     "metadata": {},
     "outputs": []
    },
    {
     "cell_type": "code",
     "collapsed": false,
     "input": [
      "import datetime\n",
      "dts = str(datetime.datetime.now())\n",
      "date_time_str = dts[:10] + \"-\" + dts[11:13] + \"-\" + dts[14:16]\n",
      "print date_time_str"
     ],
     "language": "python",
     "metadata": {},
     "outputs": []
    },
    {
     "cell_type": "code",
     "collapsed": false,
     "input": [
      "import numpy as np\n",
      "\n",
      "import matplotlib.pyplot as plt\n",
      "\n",
      "import bga_4_0 as bga\n",
      "import manifold_reflected_brownian_motion as mrbm\n",
      "\n",
      "import os\n",
      "\n",
      "bga = reload(bga)\n",
      "mrbm = reload(mrbm)"
     ],
     "language": "python",
     "metadata": {},
     "outputs": []
    },
    {
     "cell_type": "code",
     "collapsed": false,
     "input": [
      "save_images = False\n",
      "\n",
      "from matplotlib import rc\n",
      "rc('font', **{'family':'serif','serif':['Palatino']})\n",
      "rc('text', usetex=True)\n",
      "\n",
      "fig_width = 10\n",
      "fig_height = 6\n",
      "my_figsize = (fig_width, fig_height)\n",
      "fig_dpi = 200\n",
      "my_dpi = fig_dpi"
     ],
     "language": "python",
     "metadata": {},
     "outputs": []
    },
    {
     "cell_type": "code",
     "collapsed": false,
     "input": [
      "manifold_name = 'building_game'\n",
      "poly_name = 'octahedron'\n",
      "int_num = 2\n",
      "\n",
      "unary_boundary_name = 'self_intersection'\n",
      "binary_boundary_name = 'dihedrals'\n",
      "\n",
      "stat_name = 'test_1'"
     ],
     "language": "python",
     "metadata": {},
     "outputs": []
    },
    {
     "cell_type": "code",
     "collapsed": false,
     "input": [
      "manifold_kwargs_simple = {'poly_name': poly_name, \n",
      "                          'int_num': int_num}\n",
      "manifold_kwargs_fface = {'poly_name': poly_name, \n",
      "                          'int_num': int_num, \n",
      "                          'fixed_face': 0}\n",
      "manifold_kwargs_com = {'poly_name': poly_name, \n",
      "                          'int_num': int_num, \n",
      "                          'fixed_com': True}\n",
      "manifold_kwargs_comrot = {'poly_name': poly_name, \n",
      "                          'int_num': int_num, \n",
      "                          'fixed_com': True,\n",
      "                          'fixed_rotation': True}"
     ],
     "language": "python",
     "metadata": {},
     "outputs": []
    },
    {
     "cell_type": "code",
     "collapsed": false,
     "input": [
      "unary_boundary_kwargs = {'poly_name': poly_name, 'int_num': int_num}\n",
      "binary_boundary_kwargs = {'poly_name': poly_name, 'int_num': int_num}"
     ],
     "language": "python",
     "metadata": {},
     "outputs": []
    },
    {
     "cell_type": "code",
     "collapsed": false,
     "input": [
      "stat_kwargs = {}"
     ],
     "language": "python",
     "metadata": {},
     "outputs": []
    },
    {
     "cell_type": "code",
     "collapsed": false,
     "input": [
      "err_tol = 10**-11\n",
      "h = 0.025\n",
      "N = 10**7\n",
      "\n",
      "hist_min = 0.0\n",
      "hist_max = 2.0*np.pi\n",
      "hist_bins = 1000"
     ],
     "language": "python",
     "metadata": {},
     "outputs": []
    },
    {
     "cell_type": "code",
     "collapsed": false,
     "input": [
      "kwargs_1  = {'manifold_name': manifold_name,  \n",
      "             'stat_name': stat_name,\n",
      "             'manifold_kwargs': manifold_kwargs_simple,\n",
      "             'stat_kwargs': stat_kwargs,\n",
      "             'record_hist': True, \n",
      "             'hist_min': hist_min, \n",
      "             'hist_max': hist_max, \n",
      "             'hist_bins': hist_bins,\n",
      "             'err_tol': err_tol}"
     ],
     "language": "python",
     "metadata": {},
     "outputs": []
    },
    {
     "cell_type": "code",
     "collapsed": false,
     "input": [
      "kwargs_2  = {'manifold_name': manifold_name,  \n",
      "             'unary_boundary_name': unary_boundary_name,\n",
      "             'binary_boundary_name': binary_boundary_name,\n",
      "             'stat_name': stat_name,\n",
      "             'manifold_kwargs': manifold_kwargs_simple,\n",
      "             'unary_boundary_kwargs': unary_boundary_kwargs,\n",
      "             'binary_boundary_kwargs': binary_boundary_kwargs,\n",
      "             'stat_kwargs': stat_kwargs,\n",
      "             'record_hist': True, \n",
      "             'hist_min': hist_min, \n",
      "             'hist_max': hist_max, \n",
      "             'hist_bins': hist_bins,\n",
      "             'err_tol': err_tol}"
     ],
     "language": "python",
     "metadata": {},
     "outputs": []
    },
    {
     "cell_type": "code",
     "collapsed": false,
     "input": [
      "kwargs_3  = {'manifold_name': manifold_name,  \n",
      "             'stat_name': stat_name,\n",
      "             'manifold_kwargs': manifold_kwargs_fface,\n",
      "             'stat_kwargs': stat_kwargs,\n",
      "             'record_hist': True, \n",
      "             'hist_min': hist_min, \n",
      "             'hist_max': hist_max, \n",
      "             'hist_bins': hist_bins,\n",
      "             'err_tol': err_tol}"
     ],
     "language": "python",
     "metadata": {},
     "outputs": []
    },
    {
     "cell_type": "code",
     "collapsed": false,
     "input": [
      "kwargs_4  = {'manifold_name': manifold_name,  \n",
      "             'stat_name': stat_name,\n",
      "             'manifold_kwargs': manifold_kwargs_com,\n",
      "             'stat_kwargs': stat_kwargs,\n",
      "             'record_hist': True, \n",
      "             'hist_min': hist_min, \n",
      "             'hist_max': hist_max, \n",
      "             'hist_bins': hist_bins,\n",
      "             'err_tol': err_tol}"
     ],
     "language": "python",
     "metadata": {},
     "outputs": []
    },
    {
     "cell_type": "code",
     "collapsed": false,
     "input": [
      "kwargs_5  = {'manifold_name': manifold_name,  \n",
      "             'stat_name': stat_name,\n",
      "             'manifold_kwargs': manifold_kwargs_comrot,\n",
      "             'stat_kwargs': stat_kwargs,\n",
      "             'record_hist': True, \n",
      "             'hist_min': hist_min, \n",
      "             'hist_max': hist_max, \n",
      "             'hist_bins': hist_bins,\n",
      "             'err_tol': err_tol}"
     ],
     "language": "python",
     "metadata": {},
     "outputs": []
    },
    {
     "cell_type": "code",
     "collapsed": false,
     "input": [
      "kwargs_6  = {'manifold_name': manifold_name,  \n",
      "             'unary_boundary_name': unary_boundary_name,\n",
      "             'binary_boundary_name': binary_boundary_name,\n",
      "             'stat_name': stat_name,\n",
      "             'manifold_kwargs': manifold_kwargs_comrot,\n",
      "             'unary_boundary_kwargs': unary_boundary_kwargs,\n",
      "             'binary_boundary_kwargs': binary_boundary_kwargs,\n",
      "             'stat_kwargs': stat_kwargs,\n",
      "             'record_hist': True, \n",
      "             'hist_min': hist_min, \n",
      "             'hist_max': hist_max, \n",
      "             'hist_bins': hist_bins,\n",
      "             'err_tol': err_tol}"
     ],
     "language": "python",
     "metadata": {},
     "outputs": []
    },
    {
     "cell_type": "code",
     "collapsed": false,
     "input": [
      "x0, links, lengths, faces = bga.load_bg_int(poly_name, int_num)"
     ],
     "language": "python",
     "metadata": {},
     "outputs": []
    },
    {
     "cell_type": "code",
     "collapsed": false,
     "input": [
      "filename = lambda n: \"T2_\" + str(n) + \".pkl\""
     ],
     "language": "python",
     "metadata": {},
     "outputs": []
    },
    {
     "cell_type": "code",
     "collapsed": false,
     "input": [
      "a = 0.5/np.pi\n",
      "b = -a*0.1\n",
      "c = -a*0.1\n",
      "a2 = a\n",
      "b2 = 0.028\n",
      "x_range = np.linspace(0.0, 2.0*np.pi)\n",
      "ys = a + b*np.cos(x_range) + c*np.cos(2*x_range)\n",
      "ys2 = a2 + b2*np.cos(x_range)"
     ],
     "language": "python",
     "metadata": {},
     "outputs": []
    },
    {
     "cell_type": "code",
     "collapsed": false,
     "input": [
      "if os.path.isfile(filename(1)):\n",
      "    print \"Reading z_1 from file...\"\n",
      "    z_1 = mrbm.MRBM.load(filename(1))\n",
      "else:\n",
      "    print \"Generating z_1 samples...\"\n",
      "    z_1 = mrbm.MRBM(x0, h, **kwargs_1)\n",
      "    s_1 = z_1.sample(N=N, record_trace=False, record_stats=False)\n",
      "    z_1.dump(filename(1))"
     ],
     "language": "python",
     "metadata": {},
     "outputs": []
    },
    {
     "cell_type": "code",
     "collapsed": false,
     "input": [
      "fig = plt.figure(dpi=my_dpi, figsize=my_figsize)\n",
      "xx1 = plt.hist(z_1.hist.midpoints, weights=z_1.hist.hist[0,:], normed=True, bins=40)\n",
      "yy1 = plt.plot(x_range, ys, 'r', lw=2) \n",
      "plt.title(\"Two Triangle Linkage with No Boundaries\")\n",
      "plt.xlabel(\"Dihedral Angle\")\n",
      "plt.ylabel(\"Frequency\")\n",
      "plt.xlim(0.0, np.pi*2)"
     ],
     "language": "python",
     "metadata": {},
     "outputs": []
    },
    {
     "cell_type": "code",
     "collapsed": false,
     "input": [
      "if os.path.isfile(filename(2)):\n",
      "    print \"Reading z_2 from file...\"\n",
      "    z_2 = mrbm.MRBM.load(filename(2))\n",
      "else:\n",
      "    print \"Generating z_2 samples...\"\n",
      "    z_2 = mrbm.MRBM(x0, h, **kwargs_2)\n",
      "    s_2 = z_2.sample(N=N, record_trace=False, record_stats=False)\n",
      "    z_2.dump(filename(2))"
     ],
     "language": "python",
     "metadata": {},
     "outputs": []
    },
    {
     "cell_type": "code",
     "collapsed": false,
     "input": [
      "fig = plt.figure(dpi=my_dpi, figsize=my_figsize)\n",
      "xx1 = plt.hist(z_2.hist.midpoints, weights=z_2.hist.hist[0,:], normed=True, bins=50)\n",
      "yy1 = plt.plot(x_range, ys, 'r', lw=2) \n",
      "plt.title(\"Two Triangle Linkage with Boundaries\")\n",
      "plt.xlabel(\"Dihedral Angle\")\n",
      "plt.ylabel(\"Frequency\")\n",
      "plt.xlim(0.0, np.pi*2)"
     ],
     "language": "python",
     "metadata": {},
     "outputs": []
    },
    {
     "cell_type": "code",
     "collapsed": false,
     "input": [
      "\"\"\"if os.path.isfile(filename(3)):\n",
      "    print \"Reading z_3 from file...\"\n",
      "    z_3 = mrbm.MRBM.load(filename(3))\n",
      "else:\n",
      "    print \"Generating z_3 samples...\"\n",
      "    z_3 = mrbm.MRBM(x0, h, **kwargs_3)\n",
      "    s_3 = z_3.sample(N=N, record_trace=False, record_stats=False)\n",
      "    z_3.dump(filename(3))\"\"\""
     ],
     "language": "python",
     "metadata": {},
     "outputs": []
    },
    {
     "cell_type": "code",
     "collapsed": false,
     "input": [],
     "language": "python",
     "metadata": {},
     "outputs": []
    },
    {
     "cell_type": "code",
     "collapsed": false,
     "input": [
      "if os.path.isfile(filename(4)):\n",
      "    print \"Reading z_4 from file...\"\n",
      "    z_4 = mrbm.MRBM.load(filename(4))\n",
      "else:\n",
      "    print \"Generating z_4 samples...\"\n",
      "    z_4 = mrbm.MRBM(x0, h, **kwargs_4)\n",
      "    s_4 = z_4.sample(N=N, record_trace=False, record_stats=False)\n",
      "    z_4.dump(filename(4))"
     ],
     "language": "python",
     "metadata": {},
     "outputs": []
    },
    {
     "cell_type": "code",
     "collapsed": false,
     "input": [
      "fig = plt.figure(dpi=my_dpi, figsize=my_figsize)\n",
      "xx1 = plt.hist(z_4.hist.midpoints, weights=z_4.hist.hist[0,:], normed=True, bins=50)\n",
      "yy1 = plt.plot(x_range, ys, 'r', lw=2) \n",
      "plt.title(\"Two Triangle Linkage with Fixed Center of Mass and No Boundaries\")\n",
      "plt.xlabel(\"Dihedral Angle\")\n",
      "plt.ylabel(\"Frequency\")\n",
      "plt.xlim(0.0, np.pi*2)"
     ],
     "language": "python",
     "metadata": {},
     "outputs": []
    },
    {
     "cell_type": "code",
     "collapsed": false,
     "input": [
      "if os.path.isfile(filename(5)):\n",
      "    print \"Reading z_5 from file...\"\n",
      "    z_5 = mrbm.MRBM.load(filename(5))\n",
      "else:\n",
      "    print \"Generating z_5 samples...\"\n",
      "    z_5 = mrbm.MRBM(x0, h, **kwargs_5)\n",
      "    s_5 = z_5.sample(N=N, record_trace=False, record_stats=False)\n",
      "    z_5.dump(filename(5))"
     ],
     "language": "python",
     "metadata": {},
     "outputs": []
    },
    {
     "cell_type": "code",
     "collapsed": false,
     "input": [
      "fig = plt.figure(dpi=my_dpi, figsize=my_figsize)\n",
      "xx1 = plt.hist(z_5.hist.midpoints, weights=z_5.hist.hist[0,:], normed=True, bins=50)\n",
      "yy1 = plt.plot(x_range, ys, 'r', lw=2) \n",
      "plt.title(\"Two Triangle Linkage with Fixed Center of Mass and Rotation with No Boundaries\")\n",
      "plt.xlabel(\"Dihedral Angle\")\n",
      "plt.ylabel(\"Frequency\")\n",
      "plt.xlim(0.0, np.pi*2)"
     ],
     "language": "python",
     "metadata": {},
     "outputs": []
    },
    {
     "cell_type": "code",
     "collapsed": false,
     "input": [
      "if os.path.isfile(filename(6)):\n",
      "    print \"Reading z_6 from file...\"\n",
      "    z_6 = mrbm.MRBM.load(filename(6))\n",
      "else:\n",
      "    print \"Generating z_6 samples...\"\n",
      "    z_6 = mrbm.MRBM(x0, h, **kwargs_6)\n",
      "    s_6 = z_6.sample(N=N, record_trace=False, record_stats=False)\n",
      "    z_6.dump(filename(6))"
     ],
     "language": "python",
     "metadata": {},
     "outputs": []
    },
    {
     "cell_type": "code",
     "collapsed": false,
     "input": [
      "fig = plt.figure(dpi=my_dpi, figsize=my_figsize)\n",
      "xx1 = plt.hist(z_6.hist.midpoints, weights=z_6.hist.hist[0,:], normed=True, bins=50)\n",
      "yy1 = plt.plot(x_range, ys, 'r', lw=2) \n",
      "plt.title(\"Two Triangle Linkage with Fixed Center of Mass and Rotation with Boundaries\")\n",
      "plt.xlabel(\"Dihedral Angle\")\n",
      "plt.ylabel(\"Frequency\")\n",
      "plt.xlim(0.0, np.pi*2)"
     ],
     "language": "python",
     "metadata": {},
     "outputs": []
    }
   ],
   "metadata": {}
  }
 ]
}