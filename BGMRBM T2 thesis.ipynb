{
 "metadata": {
  "name": "",
  "signature": "sha256:c0173a153fb8f78940063453b613575f153bf2ed29a6a20e9c99d3d2e9f9564e"
 },
 "nbformat": 3,
 "nbformat_minor": 0,
 "worksheets": [
  {
   "cells": [
    {
     "cell_type": "markdown",
     "metadata": {},
     "source": [
      "Plots of the two triangle linkage that this file generates:\n",
      "\n",
      "1. no boundary, no fixing of trivial dofs\n",
      "2. boundary, nofixing of trivial dofs\n",
      "3. no boundary, fixed face\n",
      "4. no boundary, fixed center of mass\n",
      "5. no boundary, fixed center of mass and rotation\n",
      "6. boundary, fixed center of mass and rotation"
     ]
    },
    {
     "cell_type": "code",
     "collapsed": false,
     "input": [
      "%matplotlib inline"
     ],
     "language": "python",
     "metadata": {},
     "outputs": [],
     "prompt_number": 42
    },
    {
     "cell_type": "code",
     "collapsed": false,
     "input": [
      "import datetime\n",
      "dts = str(datetime.datetime.now())\n",
      "date_time_str = dts[:10] + \"-\" + dts[11:13] + \"-\" + dts[14:16]\n",
      "print date_time_str"
     ],
     "language": "python",
     "metadata": {},
     "outputs": [
      {
       "output_type": "stream",
       "stream": "stdout",
       "text": [
        "2015-03-22-14-01\n"
       ]
      }
     ],
     "prompt_number": 43
    },
    {
     "cell_type": "code",
     "collapsed": false,
     "input": [
      "import numpy as np\n",
      "\n",
      "import matplotlib.pyplot as plt\n",
      "\n",
      "import bga_4_0 as bga\n",
      "import manifold_reflected_brownian_motion as mrbm\n",
      "\n",
      "bga = reload(bga)\n",
      "mrbm = reload(mrbm)"
     ],
     "language": "python",
     "metadata": {},
     "outputs": [],
     "prompt_number": 44
    },
    {
     "cell_type": "code",
     "collapsed": false,
     "input": [
      "save_images = False\n",
      "\n",
      "from matplotlib import rc\n",
      "rc('font', **{'family':'serif','serif':['Palatino']})\n",
      "rc('text', usetex=True)\n",
      "\n",
      "fig_width = 10\n",
      "fig_height = 6\n",
      "my_figsize = (fig_width, fig_height)\n",
      "fig_dpi = 200\n",
      "my_dpi = fig_dpi"
     ],
     "language": "python",
     "metadata": {},
     "outputs": [],
     "prompt_number": 45
    },
    {
     "cell_type": "code",
     "collapsed": false,
     "input": [
      "manifold_name = 'building_game'\n",
      "poly_name = 'octahedron'\n",
      "int_num = 2\n",
      "\n",
      "unary_boundary_name = 'self_intersection'\n",
      "binary_boundary_name = 'dihedrals'\n",
      "\n",
      "stat_name = 'test_1'"
     ],
     "language": "python",
     "metadata": {},
     "outputs": [],
     "prompt_number": 46
    },
    {
     "cell_type": "code",
     "collapsed": false,
     "input": [
      "manifold_kwargs_simple = {'poly_name': poly_name, \n",
      "                          'int_num': int_num}\n",
      "manifold_kwargs_fface = {'poly_name': poly_name, \n",
      "                          'int_num': int_num, \n",
      "                          'fixed_face': 0}\n",
      "manifold_kwargs_com = {'poly_name': poly_name, \n",
      "                          'int_num': int_num, \n",
      "                          'fixed_com': True}\n",
      "manifold_kwargs_comrot = {'poly_name': poly_name, \n",
      "                          'int_num': int_num, \n",
      "                          'fixed_com': True,\n",
      "                          'fixed_rotation': True}"
     ],
     "language": "python",
     "metadata": {},
     "outputs": [],
     "prompt_number": 47
    },
    {
     "cell_type": "code",
     "collapsed": false,
     "input": [
      "unary_boundary_kwargs = {'poly_name': poly_name, 'int_num': int_num}\n",
      "binary_boundary_kwargs = {'poly_name': poly_name, 'int_num': int_num}"
     ],
     "language": "python",
     "metadata": {},
     "outputs": [],
     "prompt_number": 48
    },
    {
     "cell_type": "code",
     "collapsed": false,
     "input": [
      "stat_kwargs = {}"
     ],
     "language": "python",
     "metadata": {},
     "outputs": [],
     "prompt_number": 49
    },
    {
     "cell_type": "code",
     "collapsed": false,
     "input": [
      "err_tol = 10**-12\n",
      "h = 0.025\n",
      "N = 10**1\n",
      "\n",
      "hist_min = 0.0\n",
      "hist_max = 2.0*np.pi\n",
      "hist_bins = 1000"
     ],
     "language": "python",
     "metadata": {},
     "outputs": [],
     "prompt_number": 50
    },
    {
     "cell_type": "code",
     "collapsed": false,
     "input": [
      "kwargs_1  = {'manifold_name': manifold_name,  \n",
      "             'stat_name': stat_name,\n",
      "             'manifold_kwargs': manifold_kwargs_simple,\n",
      "             'stat_kwargs': stat_kwargs,\n",
      "             'record_hist': True, \n",
      "             'hist_min': hist_min, \n",
      "             'hist_max': hist_max, \n",
      "             'hist_bins': hist_bins,\n",
      "             'err_tol': err_tol}"
     ],
     "language": "python",
     "metadata": {},
     "outputs": [],
     "prompt_number": 51
    },
    {
     "cell_type": "code",
     "collapsed": false,
     "input": [
      "kwargs_2  = {'manifold_name': manifold_name,  \n",
      "             'unary_boundary_name': unary_boundary_name,\n",
      "             'binary_boundary_name': binary_boundary_name,\n",
      "             'stat_name': stat_name,\n",
      "             'manifold_kwargs': manifold_kwargs_simple,\n",
      "             'unary_boundary_kwargs': unary_boundary_kwargs,\n",
      "             'binary_boundary_kwargs': binary_boundary_kwargs,\n",
      "             'stat_kwargs': stat_kwargs,\n",
      "             'record_hist': True, \n",
      "             'hist_min': hist_min, \n",
      "             'hist_max': hist_max, \n",
      "             'hist_bins': hist_bins,\n",
      "             'err_tol': err_tol}"
     ],
     "language": "python",
     "metadata": {},
     "outputs": [],
     "prompt_number": 52
    },
    {
     "cell_type": "code",
     "collapsed": false,
     "input": [
      "kwargs_3  = {'manifold_name': manifold_name,  \n",
      "             'stat_name': stat_name,\n",
      "             'manifold_kwargs': manifold_kwargs_fface,\n",
      "             'stat_kwargs': stat_kwargs,\n",
      "             'record_hist': True, \n",
      "             'hist_min': hist_min, \n",
      "             'hist_max': hist_max, \n",
      "             'hist_bins': hist_bins,\n",
      "             'err_tol': err_tol}"
     ],
     "language": "python",
     "metadata": {},
     "outputs": [],
     "prompt_number": 53
    },
    {
     "cell_type": "code",
     "collapsed": false,
     "input": [
      "kwargs_4  = {'manifold_name': manifold_name,  \n",
      "             'stat_name': stat_name,\n",
      "             'manifold_kwargs': manifold_kwargs_com,\n",
      "             'stat_kwargs': stat_kwargs,\n",
      "             'record_hist': True, \n",
      "             'hist_min': hist_min, \n",
      "             'hist_max': hist_max, \n",
      "             'hist_bins': hist_bins,\n",
      "             'err_tol': err_tol}"
     ],
     "language": "python",
     "metadata": {},
     "outputs": [],
     "prompt_number": 54
    },
    {
     "cell_type": "code",
     "collapsed": false,
     "input": [
      "kwargs_5  = {'manifold_name': manifold_name,  \n",
      "             'stat_name': stat_name,\n",
      "             'manifold_kwargs': manifold_kwargs_comrot,\n",
      "             'stat_kwargs': stat_kwargs,\n",
      "             'record_hist': True, \n",
      "             'hist_min': hist_min, \n",
      "             'hist_max': hist_max, \n",
      "             'hist_bins': hist_bins,\n",
      "             'err_tol': err_tol}"
     ],
     "language": "python",
     "metadata": {},
     "outputs": [],
     "prompt_number": 55
    },
    {
     "cell_type": "code",
     "collapsed": false,
     "input": [
      "kwargs_6  = {'manifold_name': manifold_name,  \n",
      "             'unary_boundary_name': unary_boundary_name,\n",
      "             'binary_boundary_name': binary_boundary_name,\n",
      "             'stat_name': stat_name,\n",
      "             'manifold_kwargs': manifold_kwargs_comrot,\n",
      "             'unary_boundary_kwargs': unary_boundary_kwargs,\n",
      "             'binary_boundary_kwargs': binary_boundary_kwargs,\n",
      "             'stat_kwargs': stat_kwargs,\n",
      "             'record_hist': True, \n",
      "             'hist_min': hist_min, \n",
      "             'hist_max': hist_max, \n",
      "             'hist_bins': hist_bins,\n",
      "             'err_tol': err_tol}"
     ],
     "language": "python",
     "metadata": {},
     "outputs": [],
     "prompt_number": 56
    },
    {
     "cell_type": "code",
     "collapsed": false,
     "input": [
      "x0, links, lengths, faces = bga.load_bg_int(poly_name, int_num)"
     ],
     "language": "python",
     "metadata": {},
     "outputs": [],
     "prompt_number": 57
    },
    {
     "cell_type": "code",
     "collapsed": false,
     "input": [
      "z_1 = mrbm.MRBM(x0, h, **kwargs_1)\n",
      "z_2 = mrbm.MRBM(x0, h, **kwargs_2)\n",
      "z_3 = mrbm.MRBM(x0, h, **kwargs_3)\n",
      "z_4 = mrbm.MRBM(x0, h, **kwargs_4)\n",
      "z_5 = mrbm.MRBM(x0, h, **kwargs_5)\n",
      "z_6 = mrbm.MRBM(x0, h, **kwargs_6)"
     ],
     "language": "python",
     "metadata": {},
     "outputs": [],
     "prompt_number": 58
    },
    {
     "cell_type": "code",
     "collapsed": false,
     "input": [
      "a = 0.5/np.pi\n",
      "b = -a*0.1\n",
      "c = -a*0.1\n",
      "a2 = a\n",
      "b2 = 0.028\n",
      "x_range = np.linspace(0.0, 2.0*np.pi)\n",
      "ys = a + b*np.cos(x_range) + c*np.cos(2*x_range)\n",
      "ys2 = a2 + b2*np.cos(x_range)"
     ],
     "language": "python",
     "metadata": {},
     "outputs": [],
     "prompt_number": 59
    },
    {
     "cell_type": "code",
     "collapsed": false,
     "input": [
      "s_1 = z_1.sample(N=N, record_trace=False, record_stats=False)"
     ],
     "language": "python",
     "metadata": {},
     "outputs": [],
     "prompt_number": 60
    },
    {
     "cell_type": "code",
     "collapsed": false,
     "input": [],
     "language": "python",
     "metadata": {},
     "outputs": [],
     "prompt_number": 60
    },
    {
     "cell_type": "code",
     "collapsed": false,
     "input": [
      "s_2 = z_2.sample(N=N, record_trace=False, record_stats=False)"
     ],
     "language": "python",
     "metadata": {},
     "outputs": [],
     "prompt_number": 61
    },
    {
     "cell_type": "code",
     "collapsed": false,
     "input": [],
     "language": "python",
     "metadata": {},
     "outputs": []
    },
    {
     "cell_type": "code",
     "collapsed": false,
     "input": [
      "s_3 = z_3.sample(N=N, record_trace=False, record_stats=False)"
     ],
     "language": "python",
     "metadata": {},
     "outputs": [
      {
       "output_type": "stream",
       "stream": "stderr",
       "text": [
        "manifold_reflected_brownian_motion.py:218: UserWarning: Newton iteration failed for the 1th time. Process reset to x0.\n",
        "  + str(self.newton_failures) + \"th time. Process reset to x0.\")\n",
        "manifold_reflected_brownian_motion.py:218: UserWarning: Newton iteration failed for the 2th time. Process reset to x0.\n",
        "  + str(self.newton_failures) + \"th time. Process reset to x0.\")\n",
        "manifold_reflected_brownian_motion.py:218: UserWarning: Newton iteration failed for the 3th time. Process reset to x0.\n",
        "  + str(self.newton_failures) + \"th time. Process reset to x0.\")\n",
        "manifold_reflected_brownian_motion.py:218: UserWarning: Newton iteration failed for the 4th time. Process reset to x0.\n",
        "  + str(self.newton_failures) + \"th time. Process reset to x0.\")\n"
       ]
      },
      {
       "output_type": "stream",
       "stream": "stderr",
       "text": [
        "manifold_reflected_brownian_motion.py:218: UserWarning: Newton iteration failed for the 5th time. Process reset to x0.\n",
        "  + str(self.newton_failures) + \"th time. Process reset to x0.\")\n",
        "manifold_reflected_brownian_motion.py:218: UserWarning: Newton iteration failed for the 6th time. Process reset to x0.\n",
        "  + str(self.newton_failures) + \"th time. Process reset to x0.\")\n",
        "manifold_reflected_brownian_motion.py:218: UserWarning: Newton iteration failed for the 7th time. Process reset to x0.\n",
        "  + str(self.newton_failures) + \"th time. Process reset to x0.\")\n",
        "manifold_reflected_brownian_motion.py:218: UserWarning: Newton iteration failed for the 8th time. Process reset to x0.\n",
        "  + str(self.newton_failures) + \"th time. Process reset to x0.\")\n",
        "manifold_reflected_brownian_motion.py:218: UserWarning: Newton iteration failed for the 9th time. Process reset to x0.\n",
        "  + str(self.newton_failures) + \"th time. Process reset to x0.\")\n"
       ]
      },
      {
       "output_type": "stream",
       "stream": "stderr",
       "text": [
        "manifold_reflected_brownian_motion.py:218: UserWarning: Newton iteration failed for the 10th time. Process reset to x0.\n",
        "  + str(self.newton_failures) + \"th time. Process reset to x0.\")\n",
        "manifold_reflected_brownian_motion.py:218: UserWarning: Newton iteration failed for the 11th time. Process reset to x0.\n",
        "  + str(self.newton_failures) + \"th time. Process reset to x0.\")\n",
        "manifold_reflected_brownian_motion.py:218: UserWarning: Newton iteration failed for the 12th time. Process reset to x0.\n",
        "  + str(self.newton_failures) + \"th time. Process reset to x0.\")\n",
        "manifold_reflected_brownian_motion.py:218: UserWarning: Newton iteration failed for the 13th time. Process reset to x0.\n",
        "  + str(self.newton_failures) + \"th time. Process reset to x0.\")\n",
        "manifold_reflected_brownian_motion.py:218: UserWarning: Newton iteration failed for the 14th time. Process reset to x0.\n",
        "  + str(self.newton_failures) + \"th time. Process reset to x0.\")\n"
       ]
      },
      {
       "output_type": "stream",
       "stream": "stderr",
       "text": [
        "manifold_reflected_brownian_motion.py:218: UserWarning: Newton iteration failed for the 15th time. Process reset to x0.\n",
        "  + str(self.newton_failures) + \"th time. Process reset to x0.\")\n",
        "manifold_reflected_brownian_motion.py:218: UserWarning: Newton iteration failed for the 16th time. Process reset to x0.\n",
        "  + str(self.newton_failures) + \"th time. Process reset to x0.\")\n",
        "manifold_reflected_brownian_motion.py:218: UserWarning: Newton iteration failed for the 17th time. Process reset to x0.\n",
        "  + str(self.newton_failures) + \"th time. Process reset to x0.\")\n",
        "manifold_reflected_brownian_motion.py:218: UserWarning: Newton iteration failed for the 18th time. Process reset to x0.\n",
        "  + str(self.newton_failures) + \"th time. Process reset to x0.\")\n",
        "manifold_reflected_brownian_motion.py:218: UserWarning: Newton iteration failed for the 19th time. Process reset to x0.\n",
        "  + str(self.newton_failures) + \"th time. Process reset to x0.\")\n"
       ]
      },
      {
       "output_type": "stream",
       "stream": "stderr",
       "text": [
        "manifold_reflected_brownian_motion.py:218: UserWarning: Newton iteration failed for the 20th time. Process reset to x0.\n",
        "  + str(self.newton_failures) + \"th time. Process reset to x0.\")\n",
        "manifold_reflected_brownian_motion.py:218: UserWarning: Newton iteration failed for the 21th time. Process reset to x0.\n",
        "  + str(self.newton_failures) + \"th time. Process reset to x0.\")\n",
        "manifold_reflected_brownian_motion.py:218: UserWarning: Newton iteration failed for the 22th time. Process reset to x0.\n",
        "  + str(self.newton_failures) + \"th time. Process reset to x0.\")\n",
        "manifold_reflected_brownian_motion.py:218: UserWarning: Newton iteration failed for the 23th time. Process reset to x0.\n",
        "  + str(self.newton_failures) + \"th time. Process reset to x0.\")\n",
        "manifold_reflected_brownian_motion.py:218: UserWarning: Newton iteration failed for the 24th time. Process reset to x0.\n",
        "  + str(self.newton_failures) + \"th time. Process reset to x0.\")\n"
       ]
      },
      {
       "output_type": "stream",
       "stream": "stderr",
       "text": [
        "manifold_reflected_brownian_motion.py:218: UserWarning: Newton iteration failed for the 25th time. Process reset to x0.\n",
        "  + str(self.newton_failures) + \"th time. Process reset to x0.\")\n",
        "manifold_reflected_brownian_motion.py:218: UserWarning: Newton iteration failed for the 26th time. Process reset to x0.\n",
        "  + str(self.newton_failures) + \"th time. Process reset to x0.\")\n",
        "manifold_reflected_brownian_motion.py:218: UserWarning: Newton iteration failed for the 27th time. Process reset to x0.\n",
        "  + str(self.newton_failures) + \"th time. Process reset to x0.\")\n",
        "manifold_reflected_brownian_motion.py:218: UserWarning: Newton iteration failed for the 28th time. Process reset to x0.\n",
        "  + str(self.newton_failures) + \"th time. Process reset to x0.\")\n",
        "manifold_reflected_brownian_motion.py:218: UserWarning: Newton iteration failed for the 29th time. Process reset to x0.\n",
        "  + str(self.newton_failures) + \"th time. Process reset to x0.\")\n"
       ]
      },
      {
       "output_type": "stream",
       "stream": "stderr",
       "text": [
        "manifold_reflected_brownian_motion.py:218: UserWarning: Newton iteration failed for the 30th time. Process reset to x0.\n",
        "  + str(self.newton_failures) + \"th time. Process reset to x0.\")\n",
        "manifold_reflected_brownian_motion.py:218: UserWarning: Newton iteration failed for the 31th time. Process reset to x0.\n",
        "  + str(self.newton_failures) + \"th time. Process reset to x0.\")\n",
        "manifold_reflected_brownian_motion.py:218: UserWarning: Newton iteration failed for the 32th time. Process reset to x0.\n",
        "  + str(self.newton_failures) + \"th time. Process reset to x0.\")\n",
        "manifold_reflected_brownian_motion.py:218: UserWarning: Newton iteration failed for the 33th time. Process reset to x0.\n",
        "  + str(self.newton_failures) + \"th time. Process reset to x0.\")\n",
        "manifold_reflected_brownian_motion.py:218: UserWarning: Newton iteration failed for the 34th time. Process reset to x0.\n",
        "  + str(self.newton_failures) + \"th time. Process reset to x0.\")\n"
       ]
      },
      {
       "output_type": "stream",
       "stream": "stderr",
       "text": [
        "manifold_reflected_brownian_motion.py:218: UserWarning: Newton iteration failed for the 35th time. Process reset to x0.\n",
        "  + str(self.newton_failures) + \"th time. Process reset to x0.\")\n",
        "manifold_reflected_brownian_motion.py:218: UserWarning: Newton iteration failed for the 36th time. Process reset to x0.\n",
        "  + str(self.newton_failures) + \"th time. Process reset to x0.\")\n",
        "manifold_reflected_brownian_motion.py:218: UserWarning: Newton iteration failed for the 37th time. Process reset to x0.\n",
        "  + str(self.newton_failures) + \"th time. Process reset to x0.\")\n",
        "manifold_reflected_brownian_motion.py:218: UserWarning: Newton iteration failed for the 38th time. Process reset to x0.\n",
        "  + str(self.newton_failures) + \"th time. Process reset to x0.\")\n"
       ]
      },
      {
       "output_type": "stream",
       "stream": "stderr",
       "text": [
        "manifold_reflected_brownian_motion.py:218: UserWarning: Newton iteration failed for the 39th time. Process reset to x0.\n",
        "  + str(self.newton_failures) + \"th time. Process reset to x0.\")\n",
        "manifold_reflected_brownian_motion.py:218: UserWarning: Newton iteration failed for the 40th time. Process reset to x0.\n",
        "  + str(self.newton_failures) + \"th time. Process reset to x0.\")\n",
        "manifold_reflected_brownian_motion.py:218: UserWarning: Newton iteration failed for the 41th time. Process reset to x0.\n",
        "  + str(self.newton_failures) + \"th time. Process reset to x0.\")\n",
        "manifold_reflected_brownian_motion.py:218: UserWarning: Newton iteration failed for the 42th time. Process reset to x0.\n",
        "  + str(self.newton_failures) + \"th time. Process reset to x0.\")\n"
       ]
      },
      {
       "output_type": "stream",
       "stream": "stderr",
       "text": [
        "manifold_reflected_brownian_motion.py:218: UserWarning: Newton iteration failed for the 43th time. Process reset to x0.\n",
        "  + str(self.newton_failures) + \"th time. Process reset to x0.\")\n",
        "manifold_reflected_brownian_motion.py:218: UserWarning: Newton iteration failed for the 44th time. Process reset to x0.\n",
        "  + str(self.newton_failures) + \"th time. Process reset to x0.\")\n",
        "manifold_reflected_brownian_motion.py:218: UserWarning: Newton iteration failed for the 45th time. Process reset to x0.\n",
        "  + str(self.newton_failures) + \"th time. Process reset to x0.\")\n",
        "manifold_reflected_brownian_motion.py:218: UserWarning: Newton iteration failed for the 46th time. Process reset to x0.\n",
        "  + str(self.newton_failures) + \"th time. Process reset to x0.\")\n"
       ]
      },
      {
       "output_type": "stream",
       "stream": "stderr",
       "text": [
        "manifold_reflected_brownian_motion.py:218: UserWarning: Newton iteration failed for the 47th time. Process reset to x0.\n",
        "  + str(self.newton_failures) + \"th time. Process reset to x0.\")\n",
        "manifold_reflected_brownian_motion.py:218: UserWarning: Newton iteration failed for the 48th time. Process reset to x0.\n",
        "  + str(self.newton_failures) + \"th time. Process reset to x0.\")\n",
        "manifold_reflected_brownian_motion.py:218: UserWarning: Newton iteration failed for the 49th time. Process reset to x0.\n",
        "  + str(self.newton_failures) + \"th time. Process reset to x0.\")\n",
        "manifold_reflected_brownian_motion.py:218: UserWarning: Newton iteration failed for the 50th time. Process reset to x0.\n",
        "  + str(self.newton_failures) + \"th time. Process reset to x0.\")\n"
       ]
      },
      {
       "output_type": "stream",
       "stream": "stderr",
       "text": [
        "manifold_reflected_brownian_motion.py:218: UserWarning: Newton iteration failed for the 51th time. Process reset to x0.\n",
        "  + str(self.newton_failures) + \"th time. Process reset to x0.\")\n",
        "manifold_reflected_brownian_motion.py:218: UserWarning: Newton iteration failed for the 52th time. Process reset to x0.\n",
        "  + str(self.newton_failures) + \"th time. Process reset to x0.\")\n",
        "manifold_reflected_brownian_motion.py:218: UserWarning: Newton iteration failed for the 53th time. Process reset to x0.\n",
        "  + str(self.newton_failures) + \"th time. Process reset to x0.\")\n",
        "manifold_reflected_brownian_motion.py:218: UserWarning: Newton iteration failed for the 54th time. Process reset to x0.\n",
        "  + str(self.newton_failures) + \"th time. Process reset to x0.\")\n"
       ]
      },
      {
       "output_type": "stream",
       "stream": "stderr",
       "text": [
        "manifold_reflected_brownian_motion.py:218: UserWarning: Newton iteration failed for the 55th time. Process reset to x0.\n",
        "  + str(self.newton_failures) + \"th time. Process reset to x0.\")\n",
        "manifold_reflected_brownian_motion.py:218: UserWarning: Newton iteration failed for the 56th time. Process reset to x0.\n",
        "  + str(self.newton_failures) + \"th time. Process reset to x0.\")\n",
        "manifold_reflected_brownian_motion.py:218: UserWarning: Newton iteration failed for the 57th time. Process reset to x0.\n",
        "  + str(self.newton_failures) + \"th time. Process reset to x0.\")\n",
        "manifold_reflected_brownian_motion.py:218: UserWarning: Newton iteration failed for the 58th time. Process reset to x0.\n",
        "  + str(self.newton_failures) + \"th time. Process reset to x0.\")\n",
        "manifold_reflected_brownian_motion.py:218: UserWarning: Newton iteration failed for the 59th time. Process reset to x0.\n",
        "  + str(self.newton_failures) + \"th time. Process reset to x0.\")\n"
       ]
      },
      {
       "output_type": "stream",
       "stream": "stderr",
       "text": [
        "manifold_reflected_brownian_motion.py:218: UserWarning: Newton iteration failed for the 60th time. Process reset to x0.\n",
        "  + str(self.newton_failures) + \"th time. Process reset to x0.\")\n",
        "manifold_reflected_brownian_motion.py:218: UserWarning: Newton iteration failed for the 61th time. Process reset to x0.\n",
        "  + str(self.newton_failures) + \"th time. Process reset to x0.\")\n",
        "manifold_reflected_brownian_motion.py:218: UserWarning: Newton iteration failed for the 62th time. Process reset to x0.\n",
        "  + str(self.newton_failures) + \"th time. Process reset to x0.\")\n",
        "manifold_reflected_brownian_motion.py:218: UserWarning: Newton iteration failed for the 63th time. Process reset to x0.\n",
        "  + str(self.newton_failures) + \"th time. Process reset to x0.\")\n",
        "manifold_reflected_brownian_motion.py:218: UserWarning: Newton iteration failed for the 64th time. Process reset to x0.\n",
        "  + str(self.newton_failures) + \"th time. Process reset to x0.\")\n"
       ]
      },
      {
       "output_type": "stream",
       "stream": "stderr",
       "text": [
        "manifold_reflected_brownian_motion.py:218: UserWarning: Newton iteration failed for the 65th time. Process reset to x0.\n",
        "  + str(self.newton_failures) + \"th time. Process reset to x0.\")\n",
        "manifold_reflected_brownian_motion.py:218: UserWarning: Newton iteration failed for the 66th time. Process reset to x0.\n",
        "  + str(self.newton_failures) + \"th time. Process reset to x0.\")\n",
        "manifold_reflected_brownian_motion.py:218: UserWarning: Newton iteration failed for the 67th time. Process reset to x0.\n",
        "  + str(self.newton_failures) + \"th time. Process reset to x0.\")\n",
        "manifold_reflected_brownian_motion.py:218: UserWarning: Newton iteration failed for the 68th time. Process reset to x0.\n",
        "  + str(self.newton_failures) + \"th time. Process reset to x0.\")\n",
        "manifold_reflected_brownian_motion.py:218: UserWarning: Newton iteration failed for the 69th time. Process reset to x0.\n",
        "  + str(self.newton_failures) + \"th time. Process reset to x0.\")\n"
       ]
      },
      {
       "output_type": "stream",
       "stream": "stderr",
       "text": [
        "manifold_reflected_brownian_motion.py:218: UserWarning: Newton iteration failed for the 70th time. Process reset to x0.\n",
        "  + str(self.newton_failures) + \"th time. Process reset to x0.\")\n",
        "manifold_reflected_brownian_motion.py:218: UserWarning: Newton iteration failed for the 71th time. Process reset to x0.\n",
        "  + str(self.newton_failures) + \"th time. Process reset to x0.\")\n",
        "manifold_reflected_brownian_motion.py:218: UserWarning: Newton iteration failed for the 72th time. Process reset to x0.\n",
        "  + str(self.newton_failures) + \"th time. Process reset to x0.\")\n",
        "manifold_reflected_brownian_motion.py:218: UserWarning: Newton iteration failed for the 73th time. Process reset to x0.\n",
        "  + str(self.newton_failures) + \"th time. Process reset to x0.\")\n",
        "manifold_reflected_brownian_motion.py:218: UserWarning: Newton iteration failed for the 74th time. Process reset to x0.\n",
        "  + str(self.newton_failures) + \"th time. Process reset to x0.\")\n"
       ]
      },
      {
       "output_type": "stream",
       "stream": "stderr",
       "text": [
        "manifold_reflected_brownian_motion.py:218: UserWarning: Newton iteration failed for the 75th time. Process reset to x0.\n",
        "  + str(self.newton_failures) + \"th time. Process reset to x0.\")\n",
        "manifold_reflected_brownian_motion.py:218: UserWarning: Newton iteration failed for the 76th time. Process reset to x0.\n",
        "  + str(self.newton_failures) + \"th time. Process reset to x0.\")\n",
        "manifold_reflected_brownian_motion.py:218: UserWarning: Newton iteration failed for the 77th time. Process reset to x0.\n",
        "  + str(self.newton_failures) + \"th time. Process reset to x0.\")\n",
        "manifold_reflected_brownian_motion.py:218: UserWarning: Newton iteration failed for the 78th time. Process reset to x0.\n",
        "  + str(self.newton_failures) + \"th time. Process reset to x0.\")\n"
       ]
      },
      {
       "output_type": "stream",
       "stream": "stderr",
       "text": [
        "manifold_reflected_brownian_motion.py:218: UserWarning: Newton iteration failed for the 79th time. Process reset to x0.\n",
        "  + str(self.newton_failures) + \"th time. Process reset to x0.\")\n",
        "manifold_reflected_brownian_motion.py:218: UserWarning: Newton iteration failed for the 80th time. Process reset to x0.\n",
        "  + str(self.newton_failures) + \"th time. Process reset to x0.\")\n",
        "manifold_reflected_brownian_motion.py:218: UserWarning: Newton iteration failed for the 81th time. Process reset to x0.\n",
        "  + str(self.newton_failures) + \"th time. Process reset to x0.\")\n",
        "manifold_reflected_brownian_motion.py:218: UserWarning: Newton iteration failed for the 82th time. Process reset to x0.\n",
        "  + str(self.newton_failures) + \"th time. Process reset to x0.\")\n",
        "manifold_reflected_brownian_motion.py:218: UserWarning: Newton iteration failed for the 83th time. Process reset to x0.\n",
        "  + str(self.newton_failures) + \"th time. Process reset to x0.\")\n"
       ]
      },
      {
       "output_type": "stream",
       "stream": "stderr",
       "text": [
        "manifold_reflected_brownian_motion.py:218: UserWarning: Newton iteration failed for the 84th time. Process reset to x0.\n",
        "  + str(self.newton_failures) + \"th time. Process reset to x0.\")\n",
        "manifold_reflected_brownian_motion.py:218: UserWarning: Newton iteration failed for the 85th time. Process reset to x0.\n",
        "  + str(self.newton_failures) + \"th time. Process reset to x0.\")\n",
        "manifold_reflected_brownian_motion.py:218: UserWarning: Newton iteration failed for the 86th time. Process reset to x0.\n",
        "  + str(self.newton_failures) + \"th time. Process reset to x0.\")\n",
        "manifold_reflected_brownian_motion.py:218: UserWarning: Newton iteration failed for the 87th time. Process reset to x0.\n",
        "  + str(self.newton_failures) + \"th time. Process reset to x0.\")\n"
       ]
      },
      {
       "output_type": "stream",
       "stream": "stderr",
       "text": [
        "manifold_reflected_brownian_motion.py:218: UserWarning: Newton iteration failed for the 88th time. Process reset to x0.\n",
        "  + str(self.newton_failures) + \"th time. Process reset to x0.\")\n",
        "manifold_reflected_brownian_motion.py:218: UserWarning: Newton iteration failed for the 89th time. Process reset to x0.\n",
        "  + str(self.newton_failures) + \"th time. Process reset to x0.\")\n",
        "manifold_reflected_brownian_motion.py:218: UserWarning: Newton iteration failed for the 90th time. Process reset to x0.\n",
        "  + str(self.newton_failures) + \"th time. Process reset to x0.\")\n",
        "manifold_reflected_brownian_motion.py:218: UserWarning: Newton iteration failed for the 91th time. Process reset to x0.\n",
        "  + str(self.newton_failures) + \"th time. Process reset to x0.\")\n"
       ]
      },
      {
       "output_type": "stream",
       "stream": "stderr",
       "text": [
        "manifold_reflected_brownian_motion.py:218: UserWarning: Newton iteration failed for the 92th time. Process reset to x0.\n",
        "  + str(self.newton_failures) + \"th time. Process reset to x0.\")\n",
        "manifold_reflected_brownian_motion.py:218: UserWarning: Newton iteration failed for the 93th time. Process reset to x0.\n",
        "  + str(self.newton_failures) + \"th time. Process reset to x0.\")\n",
        "manifold_reflected_brownian_motion.py:218: UserWarning: Newton iteration failed for the 94th time. Process reset to x0.\n",
        "  + str(self.newton_failures) + \"th time. Process reset to x0.\")\n",
        "manifold_reflected_brownian_motion.py:218: UserWarning: Newton iteration failed for the 95th time. Process reset to x0.\n",
        "  + str(self.newton_failures) + \"th time. Process reset to x0.\")\n"
       ]
      },
      {
       "output_type": "stream",
       "stream": "stderr",
       "text": [
        "manifold_reflected_brownian_motion.py:218: UserWarning: Newton iteration failed for the 96th time. Process reset to x0.\n",
        "  + str(self.newton_failures) + \"th time. Process reset to x0.\")\n",
        "manifold_reflected_brownian_motion.py:218: UserWarning: Newton iteration failed for the 97th time. Process reset to x0.\n",
        "  + str(self.newton_failures) + \"th time. Process reset to x0.\")\n",
        "manifold_reflected_brownian_motion.py:218: UserWarning: Newton iteration failed for the 98th time. Process reset to x0.\n",
        "  + str(self.newton_failures) + \"th time. Process reset to x0.\")\n",
        "manifold_reflected_brownian_motion.py:218: UserWarning: Newton iteration failed for the 99th time. Process reset to x0.\n",
        "  + str(self.newton_failures) + \"th time. Process reset to x0.\")\n"
       ]
      },
      {
       "output_type": "stream",
       "stream": "stderr",
       "text": [
        "manifold_reflected_brownian_motion.py:218: UserWarning: Newton iteration failed for the 100th time. Process reset to x0.\n",
        "  + str(self.newton_failures) + \"th time. Process reset to x0.\")\n",
        "manifold_reflected_brownian_motion.py:218: UserWarning: Newton iteration failed for the 101th time. Process reset to x0.\n",
        "  + str(self.newton_failures) + \"th time. Process reset to x0.\")\n",
        "manifold_reflected_brownian_motion.py:218: UserWarning: Newton iteration failed for the 102th time. Process reset to x0.\n",
        "  + str(self.newton_failures) + \"th time. Process reset to x0.\")\n",
        "manifold_reflected_brownian_motion.py:218: UserWarning: Newton iteration failed for the 103th time. Process reset to x0.\n",
        "  + str(self.newton_failures) + \"th time. Process reset to x0.\")\n"
       ]
      },
      {
       "output_type": "stream",
       "stream": "stderr",
       "text": [
        "manifold_reflected_brownian_motion.py:218: UserWarning: Newton iteration failed for the 104th time. Process reset to x0.\n",
        "  + str(self.newton_failures) + \"th time. Process reset to x0.\")\n",
        "manifold_reflected_brownian_motion.py:218: UserWarning: Newton iteration failed for the 105th time. Process reset to x0.\n",
        "  + str(self.newton_failures) + \"th time. Process reset to x0.\")\n",
        "manifold_reflected_brownian_motion.py:218: UserWarning: Newton iteration failed for the 106th time. Process reset to x0.\n",
        "  + str(self.newton_failures) + \"th time. Process reset to x0.\")\n",
        "manifold_reflected_brownian_motion.py:218: UserWarning: Newton iteration failed for the 107th time. Process reset to x0.\n",
        "  + str(self.newton_failures) + \"th time. Process reset to x0.\")\n"
       ]
      },
      {
       "output_type": "stream",
       "stream": "stderr",
       "text": [
        "manifold_reflected_brownian_motion.py:218: UserWarning: Newton iteration failed for the 108th time. Process reset to x0.\n",
        "  + str(self.newton_failures) + \"th time. Process reset to x0.\")\n",
        "manifold_reflected_brownian_motion.py:218: UserWarning: Newton iteration failed for the 109th time. Process reset to x0.\n",
        "  + str(self.newton_failures) + \"th time. Process reset to x0.\")\n",
        "manifold_reflected_brownian_motion.py:218: UserWarning: Newton iteration failed for the 110th time. Process reset to x0.\n",
        "  + str(self.newton_failures) + \"th time. Process reset to x0.\")\n",
        "manifold_reflected_brownian_motion.py:218: UserWarning: Newton iteration failed for the 111th time. Process reset to x0.\n",
        "  + str(self.newton_failures) + \"th time. Process reset to x0.\")\n",
        "manifold_reflected_brownian_motion.py:218: UserWarning: Newton iteration failed for the 112th time. Process reset to x0.\n",
        "  + str(self.newton_failures) + \"th time. Process reset to x0.\")\n"
       ]
      },
      {
       "output_type": "stream",
       "stream": "stderr",
       "text": [
        "manifold_reflected_brownian_motion.py:218: UserWarning: Newton iteration failed for the 113th time. Process reset to x0.\n",
        "  + str(self.newton_failures) + \"th time. Process reset to x0.\")\n",
        "manifold_reflected_brownian_motion.py:218: UserWarning: Newton iteration failed for the 114th time. Process reset to x0.\n",
        "  + str(self.newton_failures) + \"th time. Process reset to x0.\")\n",
        "manifold_reflected_brownian_motion.py:218: UserWarning: Newton iteration failed for the 115th time. Process reset to x0.\n",
        "  + str(self.newton_failures) + \"th time. Process reset to x0.\")\n",
        "manifold_reflected_brownian_motion.py:218: UserWarning: Newton iteration failed for the 116th time. Process reset to x0.\n",
        "  + str(self.newton_failures) + \"th time. Process reset to x0.\")\n"
       ]
      },
      {
       "output_type": "stream",
       "stream": "stderr",
       "text": [
        "manifold_reflected_brownian_motion.py:218: UserWarning: Newton iteration failed for the 117th time. Process reset to x0.\n",
        "  + str(self.newton_failures) + \"th time. Process reset to x0.\")\n",
        "manifold_reflected_brownian_motion.py:218: UserWarning: Newton iteration failed for the 118th time. Process reset to x0.\n",
        "  + str(self.newton_failures) + \"th time. Process reset to x0.\")\n",
        "manifold_reflected_brownian_motion.py:218: UserWarning: Newton iteration failed for the 119th time. Process reset to x0.\n",
        "  + str(self.newton_failures) + \"th time. Process reset to x0.\")\n",
        "manifold_reflected_brownian_motion.py:218: UserWarning: Newton iteration failed for the 120th time. Process reset to x0.\n",
        "  + str(self.newton_failures) + \"th time. Process reset to x0.\")\n"
       ]
      },
      {
       "output_type": "stream",
       "stream": "stderr",
       "text": [
        "manifold_reflected_brownian_motion.py:218: UserWarning: Newton iteration failed for the 121th time. Process reset to x0.\n",
        "  + str(self.newton_failures) + \"th time. Process reset to x0.\")\n",
        "manifold_reflected_brownian_motion.py:218: UserWarning: Newton iteration failed for the 122th time. Process reset to x0.\n",
        "  + str(self.newton_failures) + \"th time. Process reset to x0.\")\n",
        "manifold_reflected_brownian_motion.py:218: UserWarning: Newton iteration failed for the 123th time. Process reset to x0.\n",
        "  + str(self.newton_failures) + \"th time. Process reset to x0.\")\n",
        "manifold_reflected_brownian_motion.py:218: UserWarning: Newton iteration failed for the 124th time. Process reset to x0.\n",
        "  + str(self.newton_failures) + \"th time. Process reset to x0.\")\n"
       ]
      },
      {
       "output_type": "stream",
       "stream": "stderr",
       "text": [
        "manifold_reflected_brownian_motion.py:218: UserWarning: Newton iteration failed for the 125th time. Process reset to x0.\n",
        "  + str(self.newton_failures) + \"th time. Process reset to x0.\")\n",
        "manifold_reflected_brownian_motion.py:218: UserWarning: Newton iteration failed for the 126th time. Process reset to x0.\n",
        "  + str(self.newton_failures) + \"th time. Process reset to x0.\")\n",
        "manifold_reflected_brownian_motion.py:218: UserWarning: Newton iteration failed for the 127th time. Process reset to x0.\n",
        "  + str(self.newton_failures) + \"th time. Process reset to x0.\")\n",
        "manifold_reflected_brownian_motion.py:218: UserWarning: Newton iteration failed for the 128th time. Process reset to x0.\n",
        "  + str(self.newton_failures) + \"th time. Process reset to x0.\")\n"
       ]
      },
      {
       "output_type": "stream",
       "stream": "stderr",
       "text": [
        "manifold_reflected_brownian_motion.py:218: UserWarning: Newton iteration failed for the 129th time. Process reset to x0.\n",
        "  + str(self.newton_failures) + \"th time. Process reset to x0.\")\n",
        "manifold_reflected_brownian_motion.py:218: UserWarning: Newton iteration failed for the 130th time. Process reset to x0.\n",
        "  + str(self.newton_failures) + \"th time. Process reset to x0.\")\n",
        "manifold_reflected_brownian_motion.py:218: UserWarning: Newton iteration failed for the 131th time. Process reset to x0.\n",
        "  + str(self.newton_failures) + \"th time. Process reset to x0.\")\n",
        "manifold_reflected_brownian_motion.py:218: UserWarning: Newton iteration failed for the 132th time. Process reset to x0.\n",
        "  + str(self.newton_failures) + \"th time. Process reset to x0.\")\n"
       ]
      },
      {
       "output_type": "stream",
       "stream": "stderr",
       "text": [
        "manifold_reflected_brownian_motion.py:218: UserWarning: Newton iteration failed for the 133th time. Process reset to x0.\n",
        "  + str(self.newton_failures) + \"th time. Process reset to x0.\")\n",
        "manifold_reflected_brownian_motion.py:218: UserWarning: Newton iteration failed for the 134th time. Process reset to x0.\n",
        "  + str(self.newton_failures) + \"th time. Process reset to x0.\")\n",
        "manifold_reflected_brownian_motion.py:218: UserWarning: Newton iteration failed for the 135th time. Process reset to x0.\n",
        "  + str(self.newton_failures) + \"th time. Process reset to x0.\")\n",
        "manifold_reflected_brownian_motion.py:218: UserWarning: Newton iteration failed for the 136th time. Process reset to x0.\n",
        "  + str(self.newton_failures) + \"th time. Process reset to x0.\")\n"
       ]
      },
      {
       "output_type": "stream",
       "stream": "stderr",
       "text": [
        "manifold_reflected_brownian_motion.py:218: UserWarning: Newton iteration failed for the 137th time. Process reset to x0.\n",
        "  + str(self.newton_failures) + \"th time. Process reset to x0.\")\n",
        "manifold_reflected_brownian_motion.py:218: UserWarning: Newton iteration failed for the 138th time. Process reset to x0.\n",
        "  + str(self.newton_failures) + \"th time. Process reset to x0.\")\n",
        "manifold_reflected_brownian_motion.py:218: UserWarning: Newton iteration failed for the 139th time. Process reset to x0.\n",
        "  + str(self.newton_failures) + \"th time. Process reset to x0.\")\n",
        "manifold_reflected_brownian_motion.py:218: UserWarning: Newton iteration failed for the 140th time. Process reset to x0.\n",
        "  + str(self.newton_failures) + \"th time. Process reset to x0.\")\n"
       ]
      },
      {
       "output_type": "stream",
       "stream": "stderr",
       "text": [
        "manifold_reflected_brownian_motion.py:218: UserWarning: Newton iteration failed for the 141th time. Process reset to x0.\n",
        "  + str(self.newton_failures) + \"th time. Process reset to x0.\")\n",
        "manifold_reflected_brownian_motion.py:218: UserWarning: Newton iteration failed for the 142th time. Process reset to x0.\n",
        "  + str(self.newton_failures) + \"th time. Process reset to x0.\")\n",
        "manifold_reflected_brownian_motion.py:218: UserWarning: Newton iteration failed for the 143th time. Process reset to x0.\n",
        "  + str(self.newton_failures) + \"th time. Process reset to x0.\")\n",
        "manifold_reflected_brownian_motion.py:218: UserWarning: Newton iteration failed for the 144th time. Process reset to x0.\n",
        "  + str(self.newton_failures) + \"th time. Process reset to x0.\")\n"
       ]
      },
      {
       "output_type": "stream",
       "stream": "stderr",
       "text": [
        "manifold_reflected_brownian_motion.py:218: UserWarning: Newton iteration failed for the 145th time. Process reset to x0.\n",
        "  + str(self.newton_failures) + \"th time. Process reset to x0.\")\n",
        "manifold_reflected_brownian_motion.py:218: UserWarning: Newton iteration failed for the 146th time. Process reset to x0.\n",
        "  + str(self.newton_failures) + \"th time. Process reset to x0.\")\n",
        "manifold_reflected_brownian_motion.py:218: UserWarning: Newton iteration failed for the 147th time. Process reset to x0.\n",
        "  + str(self.newton_failures) + \"th time. Process reset to x0.\")\n",
        "manifold_reflected_brownian_motion.py:218: UserWarning: Newton iteration failed for the 148th time. Process reset to x0.\n",
        "  + str(self.newton_failures) + \"th time. Process reset to x0.\")\n",
        "manifold_reflected_brownian_motion.py:218: UserWarning: Newton iteration failed for the 149th time. Process reset to x0.\n",
        "  + str(self.newton_failures) + \"th time. Process reset to x0.\")\n"
       ]
      },
      {
       "output_type": "stream",
       "stream": "stderr",
       "text": [
        "manifold_reflected_brownian_motion.py:218: UserWarning: Newton iteration failed for the 150th time. Process reset to x0.\n",
        "  + str(self.newton_failures) + \"th time. Process reset to x0.\")\n",
        "manifold_reflected_brownian_motion.py:218: UserWarning: Newton iteration failed for the 151th time. Process reset to x0.\n",
        "  + str(self.newton_failures) + \"th time. Process reset to x0.\")\n",
        "manifold_reflected_brownian_motion.py:218: UserWarning: Newton iteration failed for the 152th time. Process reset to x0.\n",
        "  + str(self.newton_failures) + \"th time. Process reset to x0.\")\n",
        "manifold_reflected_brownian_motion.py:218: UserWarning: Newton iteration failed for the 153th time. Process reset to x0.\n",
        "  + str(self.newton_failures) + \"th time. Process reset to x0.\")\n"
       ]
      },
      {
       "output_type": "stream",
       "stream": "stderr",
       "text": [
        "manifold_reflected_brownian_motion.py:218: UserWarning: Newton iteration failed for the 154th time. Process reset to x0.\n",
        "  + str(self.newton_failures) + \"th time. Process reset to x0.\")\n",
        "manifold_reflected_brownian_motion.py:218: UserWarning: Newton iteration failed for the 155th time. Process reset to x0.\n",
        "  + str(self.newton_failures) + \"th time. Process reset to x0.\")\n",
        "manifold_reflected_brownian_motion.py:218: UserWarning: Newton iteration failed for the 156th time. Process reset to x0.\n",
        "  + str(self.newton_failures) + \"th time. Process reset to x0.\")\n",
        "manifold_reflected_brownian_motion.py:218: UserWarning: Newton iteration failed for the 157th time. Process reset to x0.\n",
        "  + str(self.newton_failures) + \"th time. Process reset to x0.\")\n",
        "manifold_reflected_brownian_motion.py:218: UserWarning: Newton iteration failed for the 158th time. Process reset to x0.\n",
        "  + str(self.newton_failures) + \"th time. Process reset to x0.\")\n"
       ]
      },
      {
       "output_type": "stream",
       "stream": "stderr",
       "text": [
        "manifold_reflected_brownian_motion.py:218: UserWarning: Newton iteration failed for the 159th time. Process reset to x0.\n",
        "  + str(self.newton_failures) + \"th time. Process reset to x0.\")\n",
        "manifold_reflected_brownian_motion.py:218: UserWarning: Newton iteration failed for the 160th time. Process reset to x0.\n",
        "  + str(self.newton_failures) + \"th time. Process reset to x0.\")\n",
        "manifold_reflected_brownian_motion.py:218: UserWarning: Newton iteration failed for the 161th time. Process reset to x0.\n",
        "  + str(self.newton_failures) + \"th time. Process reset to x0.\")\n",
        "manifold_reflected_brownian_motion.py:218: UserWarning: Newton iteration failed for the 162th time. Process reset to x0.\n",
        "  + str(self.newton_failures) + \"th time. Process reset to x0.\")\n"
       ]
      },
      {
       "output_type": "stream",
       "stream": "stderr",
       "text": [
        "manifold_reflected_brownian_motion.py:218: UserWarning: Newton iteration failed for the 163th time. Process reset to x0.\n",
        "  + str(self.newton_failures) + \"th time. Process reset to x0.\")\n",
        "manifold_reflected_brownian_motion.py:218: UserWarning: Newton iteration failed for the 164th time. Process reset to x0.\n",
        "  + str(self.newton_failures) + \"th time. Process reset to x0.\")\n",
        "manifold_reflected_brownian_motion.py:218: UserWarning: Newton iteration failed for the 165th time. Process reset to x0.\n",
        "  + str(self.newton_failures) + \"th time. Process reset to x0.\")\n",
        "manifold_reflected_brownian_motion.py:218: UserWarning: Newton iteration failed for the 166th time. Process reset to x0.\n",
        "  + str(self.newton_failures) + \"th time. Process reset to x0.\")\n"
       ]
      },
      {
       "output_type": "stream",
       "stream": "stderr",
       "text": [
        "manifold_reflected_brownian_motion.py:218: UserWarning: Newton iteration failed for the 167th time. Process reset to x0.\n",
        "  + str(self.newton_failures) + \"th time. Process reset to x0.\")\n",
        "manifold_reflected_brownian_motion.py:218: UserWarning: Newton iteration failed for the 168th time. Process reset to x0.\n",
        "  + str(self.newton_failures) + \"th time. Process reset to x0.\")\n",
        "manifold_reflected_brownian_motion.py:218: UserWarning: Newton iteration failed for the 169th time. Process reset to x0.\n",
        "  + str(self.newton_failures) + \"th time. Process reset to x0.\")\n",
        "manifold_reflected_brownian_motion.py:218: UserWarning: Newton iteration failed for the 170th time. Process reset to x0.\n",
        "  + str(self.newton_failures) + \"th time. Process reset to x0.\")\n"
       ]
      },
      {
       "output_type": "stream",
       "stream": "stderr",
       "text": [
        "manifold_reflected_brownian_motion.py:218: UserWarning: Newton iteration failed for the 171th time. Process reset to x0.\n",
        "  + str(self.newton_failures) + \"th time. Process reset to x0.\")\n",
        "manifold_reflected_brownian_motion.py:218: UserWarning: Newton iteration failed for the 172th time. Process reset to x0.\n",
        "  + str(self.newton_failures) + \"th time. Process reset to x0.\")\n",
        "manifold_reflected_brownian_motion.py:218: UserWarning: Newton iteration failed for the 173th time. Process reset to x0.\n",
        "  + str(self.newton_failures) + \"th time. Process reset to x0.\")\n",
        "manifold_reflected_brownian_motion.py:218: UserWarning: Newton iteration failed for the 174th time. Process reset to x0.\n",
        "  + str(self.newton_failures) + \"th time. Process reset to x0.\")\n"
       ]
      },
      {
       "output_type": "stream",
       "stream": "stderr",
       "text": [
        "manifold_reflected_brownian_motion.py:218: UserWarning: Newton iteration failed for the 175th time. Process reset to x0.\n",
        "  + str(self.newton_failures) + \"th time. Process reset to x0.\")\n",
        "manifold_reflected_brownian_motion.py:218: UserWarning: Newton iteration failed for the 176th time. Process reset to x0.\n",
        "  + str(self.newton_failures) + \"th time. Process reset to x0.\")\n",
        "manifold_reflected_brownian_motion.py:218: UserWarning: Newton iteration failed for the 177th time. Process reset to x0.\n",
        "  + str(self.newton_failures) + \"th time. Process reset to x0.\")\n",
        "manifold_reflected_brownian_motion.py:218: UserWarning: Newton iteration failed for the 178th time. Process reset to x0.\n",
        "  + str(self.newton_failures) + \"th time. Process reset to x0.\")\n"
       ]
      },
      {
       "output_type": "stream",
       "stream": "stderr",
       "text": [
        "manifold_reflected_brownian_motion.py:218: UserWarning: Newton iteration failed for the 179th time. Process reset to x0.\n",
        "  + str(self.newton_failures) + \"th time. Process reset to x0.\")\n",
        "manifold_reflected_brownian_motion.py:218: UserWarning: Newton iteration failed for the 180th time. Process reset to x0.\n",
        "  + str(self.newton_failures) + \"th time. Process reset to x0.\")\n",
        "manifold_reflected_brownian_motion.py:218: UserWarning: Newton iteration failed for the 181th time. Process reset to x0.\n",
        "  + str(self.newton_failures) + \"th time. Process reset to x0.\")\n",
        "manifold_reflected_brownian_motion.py:218: UserWarning: Newton iteration failed for the 182th time. Process reset to x0.\n",
        "  + str(self.newton_failures) + \"th time. Process reset to x0.\")\n",
        "manifold_reflected_brownian_motion.py:218: UserWarning: Newton iteration failed for the 183th time. Process reset to x0.\n",
        "  + str(self.newton_failures) + \"th time. Process reset to x0.\")\n"
       ]
      },
      {
       "output_type": "stream",
       "stream": "stderr",
       "text": [
        "manifold_reflected_brownian_motion.py:218: UserWarning: Newton iteration failed for the 184th time. Process reset to x0.\n",
        "  + str(self.newton_failures) + \"th time. Process reset to x0.\")\n",
        "manifold_reflected_brownian_motion.py:218: UserWarning: Newton iteration failed for the 185th time. Process reset to x0.\n",
        "  + str(self.newton_failures) + \"th time. Process reset to x0.\")\n",
        "manifold_reflected_brownian_motion.py:218: UserWarning: Newton iteration failed for the 186th time. Process reset to x0.\n",
        "  + str(self.newton_failures) + \"th time. Process reset to x0.\")\n",
        "manifold_reflected_brownian_motion.py:218: UserWarning: Newton iteration failed for the 187th time. Process reset to x0.\n",
        "  + str(self.newton_failures) + \"th time. Process reset to x0.\")\n",
        "manifold_reflected_brownian_motion.py:218: UserWarning: Newton iteration failed for the 188th time. Process reset to x0.\n",
        "  + str(self.newton_failures) + \"th time. Process reset to x0.\")\n"
       ]
      },
      {
       "output_type": "stream",
       "stream": "stderr",
       "text": [
        "manifold_reflected_brownian_motion.py:218: UserWarning: Newton iteration failed for the 189th time. Process reset to x0.\n",
        "  + str(self.newton_failures) + \"th time. Process reset to x0.\")\n",
        "manifold_reflected_brownian_motion.py:218: UserWarning: Newton iteration failed for the 190th time. Process reset to x0.\n",
        "  + str(self.newton_failures) + \"th time. Process reset to x0.\")\n",
        "manifold_reflected_brownian_motion.py:218: UserWarning: Newton iteration failed for the 191th time. Process reset to x0.\n",
        "  + str(self.newton_failures) + \"th time. Process reset to x0.\")\n",
        "manifold_reflected_brownian_motion.py:218: UserWarning: Newton iteration failed for the 192th time. Process reset to x0.\n",
        "  + str(self.newton_failures) + \"th time. Process reset to x0.\")\n"
       ]
      },
      {
       "output_type": "stream",
       "stream": "stderr",
       "text": [
        "manifold_reflected_brownian_motion.py:218: UserWarning: Newton iteration failed for the 193th time. Process reset to x0.\n",
        "  + str(self.newton_failures) + \"th time. Process reset to x0.\")\n",
        "manifold_reflected_brownian_motion.py:218: UserWarning: Newton iteration failed for the 194th time. Process reset to x0.\n",
        "  + str(self.newton_failures) + \"th time. Process reset to x0.\")\n",
        "manifold_reflected_brownian_motion.py:218: UserWarning: Newton iteration failed for the 195th time. Process reset to x0.\n",
        "  + str(self.newton_failures) + \"th time. Process reset to x0.\")\n",
        "manifold_reflected_brownian_motion.py:218: UserWarning: Newton iteration failed for the 196th time. Process reset to x0.\n",
        "  + str(self.newton_failures) + \"th time. Process reset to x0.\")\n"
       ]
      },
      {
       "output_type": "stream",
       "stream": "stderr",
       "text": [
        "manifold_reflected_brownian_motion.py:218: UserWarning: Newton iteration failed for the 197th time. Process reset to x0.\n",
        "  + str(self.newton_failures) + \"th time. Process reset to x0.\")\n",
        "manifold_reflected_brownian_motion.py:218: UserWarning: Newton iteration failed for the 198th time. Process reset to x0.\n",
        "  + str(self.newton_failures) + \"th time. Process reset to x0.\")\n",
        "manifold_reflected_brownian_motion.py:218: UserWarning: Newton iteration failed for the 199th time. Process reset to x0.\n",
        "  + str(self.newton_failures) + \"th time. Process reset to x0.\")\n",
        "manifold_reflected_brownian_motion.py:218: UserWarning: Newton iteration failed for the 200th time. Process reset to x0.\n",
        "  + str(self.newton_failures) + \"th time. Process reset to x0.\")\n"
       ]
      },
      {
       "output_type": "stream",
       "stream": "stderr",
       "text": [
        "manifold_reflected_brownian_motion.py:218: UserWarning: Newton iteration failed for the 201th time. Process reset to x0.\n",
        "  + str(self.newton_failures) + \"th time. Process reset to x0.\")\n",
        "manifold_reflected_brownian_motion.py:218: UserWarning: Newton iteration failed for the 202th time. Process reset to x0.\n",
        "  + str(self.newton_failures) + \"th time. Process reset to x0.\")\n",
        "manifold_reflected_brownian_motion.py:218: UserWarning: Newton iteration failed for the 203th time. Process reset to x0.\n",
        "  + str(self.newton_failures) + \"th time. Process reset to x0.\")\n",
        "manifold_reflected_brownian_motion.py:218: UserWarning: Newton iteration failed for the 204th time. Process reset to x0.\n",
        "  + str(self.newton_failures) + \"th time. Process reset to x0.\")\n"
       ]
      },
      {
       "output_type": "stream",
       "stream": "stderr",
       "text": [
        "manifold_reflected_brownian_motion.py:218: UserWarning: Newton iteration failed for the 205th time. Process reset to x0.\n",
        "  + str(self.newton_failures) + \"th time. Process reset to x0.\")\n",
        "manifold_reflected_brownian_motion.py:218: UserWarning: Newton iteration failed for the 206th time. Process reset to x0.\n",
        "  + str(self.newton_failures) + \"th time. Process reset to x0.\")\n",
        "manifold_reflected_brownian_motion.py:218: UserWarning: Newton iteration failed for the 207th time. Process reset to x0.\n",
        "  + str(self.newton_failures) + \"th time. Process reset to x0.\")\n",
        "manifold_reflected_brownian_motion.py:218: UserWarning: Newton iteration failed for the 208th time. Process reset to x0.\n",
        "  + str(self.newton_failures) + \"th time. Process reset to x0.\")\n"
       ]
      },
      {
       "output_type": "stream",
       "stream": "stderr",
       "text": [
        "manifold_reflected_brownian_motion.py:218: UserWarning: Newton iteration failed for the 209th time. Process reset to x0.\n",
        "  + str(self.newton_failures) + \"th time. Process reset to x0.\")\n",
        "manifold_reflected_brownian_motion.py:218: UserWarning: Newton iteration failed for the 210th time. Process reset to x0.\n",
        "  + str(self.newton_failures) + \"th time. Process reset to x0.\")\n",
        "manifold_reflected_brownian_motion.py:218: UserWarning: Newton iteration failed for the 211th time. Process reset to x0.\n",
        "  + str(self.newton_failures) + \"th time. Process reset to x0.\")\n",
        "manifold_reflected_brownian_motion.py:218: UserWarning: Newton iteration failed for the 212th time. Process reset to x0.\n",
        "  + str(self.newton_failures) + \"th time. Process reset to x0.\")\n"
       ]
      },
      {
       "output_type": "stream",
       "stream": "stderr",
       "text": [
        "manifold_reflected_brownian_motion.py:218: UserWarning: Newton iteration failed for the 213th time. Process reset to x0.\n",
        "  + str(self.newton_failures) + \"th time. Process reset to x0.\")\n",
        "manifold_reflected_brownian_motion.py:218: UserWarning: Newton iteration failed for the 214th time. Process reset to x0.\n",
        "  + str(self.newton_failures) + \"th time. Process reset to x0.\")\n",
        "manifold_reflected_brownian_motion.py:218: UserWarning: Newton iteration failed for the 215th time. Process reset to x0.\n",
        "  + str(self.newton_failures) + \"th time. Process reset to x0.\")\n",
        "manifold_reflected_brownian_motion.py:218: UserWarning: Newton iteration failed for the 216th time. Process reset to x0.\n",
        "  + str(self.newton_failures) + \"th time. Process reset to x0.\")\n",
        "manifold_reflected_brownian_motion.py:218: UserWarning: Newton iteration failed for the 217th time. Process reset to x0.\n",
        "  + str(self.newton_failures) + \"th time. Process reset to x0.\")\n"
       ]
      },
      {
       "output_type": "stream",
       "stream": "stderr",
       "text": [
        "manifold_reflected_brownian_motion.py:218: UserWarning: Newton iteration failed for the 218th time. Process reset to x0.\n",
        "  + str(self.newton_failures) + \"th time. Process reset to x0.\")\n",
        "manifold_reflected_brownian_motion.py:218: UserWarning: Newton iteration failed for the 219th time. Process reset to x0.\n",
        "  + str(self.newton_failures) + \"th time. Process reset to x0.\")\n",
        "manifold_reflected_brownian_motion.py:218: UserWarning: Newton iteration failed for the 220th time. Process reset to x0.\n",
        "  + str(self.newton_failures) + \"th time. Process reset to x0.\")\n",
        "manifold_reflected_brownian_motion.py:218: UserWarning: Newton iteration failed for the 221th time. Process reset to x0.\n",
        "  + str(self.newton_failures) + \"th time. Process reset to x0.\")\n"
       ]
      },
      {
       "output_type": "stream",
       "stream": "stderr",
       "text": [
        "manifold_reflected_brownian_motion.py:218: UserWarning: Newton iteration failed for the 222th time. Process reset to x0.\n",
        "  + str(self.newton_failures) + \"th time. Process reset to x0.\")\n",
        "manifold_reflected_brownian_motion.py:218: UserWarning: Newton iteration failed for the 223th time. Process reset to x0.\n",
        "  + str(self.newton_failures) + \"th time. Process reset to x0.\")\n",
        "manifold_reflected_brownian_motion.py:218: UserWarning: Newton iteration failed for the 224th time. Process reset to x0.\n",
        "  + str(self.newton_failures) + \"th time. Process reset to x0.\")\n",
        "manifold_reflected_brownian_motion.py:218: UserWarning: Newton iteration failed for the 225th time. Process reset to x0.\n",
        "  + str(self.newton_failures) + \"th time. Process reset to x0.\")\n"
       ]
      },
      {
       "output_type": "stream",
       "stream": "stderr",
       "text": [
        "manifold_reflected_brownian_motion.py:218: UserWarning: Newton iteration failed for the 226th time. Process reset to x0.\n",
        "  + str(self.newton_failures) + \"th time. Process reset to x0.\")\n",
        "manifold_reflected_brownian_motion.py:218: UserWarning: Newton iteration failed for the 227th time. Process reset to x0.\n",
        "  + str(self.newton_failures) + \"th time. Process reset to x0.\")\n",
        "manifold_reflected_brownian_motion.py:218: UserWarning: Newton iteration failed for the 228th time. Process reset to x0.\n",
        "  + str(self.newton_failures) + \"th time. Process reset to x0.\")\n",
        "manifold_reflected_brownian_motion.py:218: UserWarning: Newton iteration failed for the 229th time. Process reset to x0.\n",
        "  + str(self.newton_failures) + \"th time. Process reset to x0.\")\n"
       ]
      },
      {
       "output_type": "stream",
       "stream": "stderr",
       "text": [
        "manifold_reflected_brownian_motion.py:218: UserWarning: Newton iteration failed for the 230th time. Process reset to x0.\n",
        "  + str(self.newton_failures) + \"th time. Process reset to x0.\")\n",
        "manifold_reflected_brownian_motion.py:218: UserWarning: Newton iteration failed for the 231th time. Process reset to x0.\n",
        "  + str(self.newton_failures) + \"th time. Process reset to x0.\")\n",
        "manifold_reflected_brownian_motion.py:218: UserWarning: Newton iteration failed for the 232th time. Process reset to x0.\n",
        "  + str(self.newton_failures) + \"th time. Process reset to x0.\")\n",
        "manifold_reflected_brownian_motion.py:218: UserWarning: Newton iteration failed for the 233th time. Process reset to x0.\n",
        "  + str(self.newton_failures) + \"th time. Process reset to x0.\")\n"
       ]
      },
      {
       "output_type": "stream",
       "stream": "stderr",
       "text": [
        "manifold_reflected_brownian_motion.py:218: UserWarning: Newton iteration failed for the 234th time. Process reset to x0.\n",
        "  + str(self.newton_failures) + \"th time. Process reset to x0.\")\n",
        "manifold_reflected_brownian_motion.py:218: UserWarning: Newton iteration failed for the 235th time. Process reset to x0.\n",
        "  + str(self.newton_failures) + \"th time. Process reset to x0.\")\n",
        "manifold_reflected_brownian_motion.py:218: UserWarning: Newton iteration failed for the 236th time. Process reset to x0.\n",
        "  + str(self.newton_failures) + \"th time. Process reset to x0.\")\n",
        "manifold_reflected_brownian_motion.py:218: UserWarning: Newton iteration failed for the 237th time. Process reset to x0.\n",
        "  + str(self.newton_failures) + \"th time. Process reset to x0.\")\n"
       ]
      },
      {
       "output_type": "stream",
       "stream": "stderr",
       "text": [
        "manifold_reflected_brownian_motion.py:218: UserWarning: Newton iteration failed for the 238th time. Process reset to x0.\n",
        "  + str(self.newton_failures) + \"th time. Process reset to x0.\")\n",
        "manifold_reflected_brownian_motion.py:218: UserWarning: Newton iteration failed for the 239th time. Process reset to x0.\n",
        "  + str(self.newton_failures) + \"th time. Process reset to x0.\")\n",
        "manifold_reflected_brownian_motion.py:218: UserWarning: Newton iteration failed for the 240th time. Process reset to x0.\n",
        "  + str(self.newton_failures) + \"th time. Process reset to x0.\")\n",
        "manifold_reflected_brownian_motion.py:218: UserWarning: Newton iteration failed for the 241th time. Process reset to x0.\n",
        "  + str(self.newton_failures) + \"th time. Process reset to x0.\")\n"
       ]
      },
      {
       "output_type": "stream",
       "stream": "stderr",
       "text": [
        "manifold_reflected_brownian_motion.py:218: UserWarning: Newton iteration failed for the 242th time. Process reset to x0.\n",
        "  + str(self.newton_failures) + \"th time. Process reset to x0.\")\n",
        "manifold_reflected_brownian_motion.py:218: UserWarning: Newton iteration failed for the 243th time. Process reset to x0.\n",
        "  + str(self.newton_failures) + \"th time. Process reset to x0.\")\n",
        "manifold_reflected_brownian_motion.py:218: UserWarning: Newton iteration failed for the 244th time. Process reset to x0.\n",
        "  + str(self.newton_failures) + \"th time. Process reset to x0.\")\n",
        "manifold_reflected_brownian_motion.py:218: UserWarning: Newton iteration failed for the 245th time. Process reset to x0.\n",
        "  + str(self.newton_failures) + \"th time. Process reset to x0.\")\n"
       ]
      },
      {
       "output_type": "stream",
       "stream": "stderr",
       "text": [
        "manifold_reflected_brownian_motion.py:218: UserWarning: Newton iteration failed for the 246th time. Process reset to x0.\n",
        "  + str(self.newton_failures) + \"th time. Process reset to x0.\")\n",
        "manifold_reflected_brownian_motion.py:218: UserWarning: Newton iteration failed for the 247th time. Process reset to x0.\n",
        "  + str(self.newton_failures) + \"th time. Process reset to x0.\")\n",
        "manifold_reflected_brownian_motion.py:218: UserWarning: Newton iteration failed for the 248th time. Process reset to x0.\n",
        "  + str(self.newton_failures) + \"th time. Process reset to x0.\")\n",
        "manifold_reflected_brownian_motion.py:218: UserWarning: Newton iteration failed for the 249th time. Process reset to x0.\n",
        "  + str(self.newton_failures) + \"th time. Process reset to x0.\")\n"
       ]
      },
      {
       "output_type": "stream",
       "stream": "stderr",
       "text": [
        "manifold_reflected_brownian_motion.py:218: UserWarning: Newton iteration failed for the 250th time. Process reset to x0.\n",
        "  + str(self.newton_failures) + \"th time. Process reset to x0.\")\n",
        "manifold_reflected_brownian_motion.py:218: UserWarning: Newton iteration failed for the 251th time. Process reset to x0.\n",
        "  + str(self.newton_failures) + \"th time. Process reset to x0.\")\n",
        "manifold_reflected_brownian_motion.py:218: UserWarning: Newton iteration failed for the 252th time. Process reset to x0.\n",
        "  + str(self.newton_failures) + \"th time. Process reset to x0.\")\n",
        "manifold_reflected_brownian_motion.py:218: UserWarning: Newton iteration failed for the 253th time. Process reset to x0.\n",
        "  + str(self.newton_failures) + \"th time. Process reset to x0.\")\n"
       ]
      },
      {
       "output_type": "stream",
       "stream": "stderr",
       "text": [
        "manifold_reflected_brownian_motion.py:218: UserWarning: Newton iteration failed for the 254th time. Process reset to x0.\n",
        "  + str(self.newton_failures) + \"th time. Process reset to x0.\")\n",
        "manifold_reflected_brownian_motion.py:218: UserWarning: Newton iteration failed for the 255th time. Process reset to x0.\n",
        "  + str(self.newton_failures) + \"th time. Process reset to x0.\")\n",
        "manifold_reflected_brownian_motion.py:218: UserWarning: Newton iteration failed for the 256th time. Process reset to x0.\n",
        "  + str(self.newton_failures) + \"th time. Process reset to x0.\")\n",
        "manifold_reflected_brownian_motion.py:218: UserWarning: Newton iteration failed for the 257th time. Process reset to x0.\n",
        "  + str(self.newton_failures) + \"th time. Process reset to x0.\")\n"
       ]
      },
      {
       "output_type": "stream",
       "stream": "stderr",
       "text": [
        "manifold_reflected_brownian_motion.py:218: UserWarning: Newton iteration failed for the 258th time. Process reset to x0.\n",
        "  + str(self.newton_failures) + \"th time. Process reset to x0.\")\n",
        "manifold_reflected_brownian_motion.py:218: UserWarning: Newton iteration failed for the 259th time. Process reset to x0.\n",
        "  + str(self.newton_failures) + \"th time. Process reset to x0.\")\n",
        "manifold_reflected_brownian_motion.py:218: UserWarning: Newton iteration failed for the 260th time. Process reset to x0.\n",
        "  + str(self.newton_failures) + \"th time. Process reset to x0.\")\n",
        "manifold_reflected_brownian_motion.py:218: UserWarning: Newton iteration failed for the 261th time. Process reset to x0.\n",
        "  + str(self.newton_failures) + \"th time. Process reset to x0.\")\n"
       ]
      },
      {
       "output_type": "stream",
       "stream": "stderr",
       "text": [
        "manifold_reflected_brownian_motion.py:218: UserWarning: Newton iteration failed for the 262th time. Process reset to x0.\n",
        "  + str(self.newton_failures) + \"th time. Process reset to x0.\")\n",
        "manifold_reflected_brownian_motion.py:218: UserWarning: Newton iteration failed for the 263th time. Process reset to x0.\n",
        "  + str(self.newton_failures) + \"th time. Process reset to x0.\")\n",
        "manifold_reflected_brownian_motion.py:218: UserWarning: Newton iteration failed for the 264th time. Process reset to x0.\n",
        "  + str(self.newton_failures) + \"th time. Process reset to x0.\")\n",
        "manifold_reflected_brownian_motion.py:218: UserWarning: Newton iteration failed for the 265th time. Process reset to x0.\n",
        "  + str(self.newton_failures) + \"th time. Process reset to x0.\")\n"
       ]
      },
      {
       "output_type": "stream",
       "stream": "stderr",
       "text": [
        "manifold_reflected_brownian_motion.py:218: UserWarning: Newton iteration failed for the 266th time. Process reset to x0.\n",
        "  + str(self.newton_failures) + \"th time. Process reset to x0.\")\n",
        "manifold_reflected_brownian_motion.py:218: UserWarning: Newton iteration failed for the 267th time. Process reset to x0.\n",
        "  + str(self.newton_failures) + \"th time. Process reset to x0.\")\n",
        "manifold_reflected_brownian_motion.py:218: UserWarning: Newton iteration failed for the 268th time. Process reset to x0.\n",
        "  + str(self.newton_failures) + \"th time. Process reset to x0.\")\n",
        "manifold_reflected_brownian_motion.py:218: UserWarning: Newton iteration failed for the 269th time. Process reset to x0.\n",
        "  + str(self.newton_failures) + \"th time. Process reset to x0.\")\n"
       ]
      },
      {
       "output_type": "stream",
       "stream": "stderr",
       "text": [
        "manifold_reflected_brownian_motion.py:218: UserWarning: Newton iteration failed for the 270th time. Process reset to x0.\n",
        "  + str(self.newton_failures) + \"th time. Process reset to x0.\")\n",
        "manifold_reflected_brownian_motion.py:218: UserWarning: Newton iteration failed for the 271th time. Process reset to x0.\n",
        "  + str(self.newton_failures) + \"th time. Process reset to x0.\")\n",
        "manifold_reflected_brownian_motion.py:218: UserWarning: Newton iteration failed for the 272th time. Process reset to x0.\n",
        "  + str(self.newton_failures) + \"th time. Process reset to x0.\")\n",
        "manifold_reflected_brownian_motion.py:218: UserWarning: Newton iteration failed for the 273th time. Process reset to x0.\n",
        "  + str(self.newton_failures) + \"th time. Process reset to x0.\")\n"
       ]
      },
      {
       "output_type": "stream",
       "stream": "stderr",
       "text": [
        "manifold_reflected_brownian_motion.py:218: UserWarning: Newton iteration failed for the 274th time. Process reset to x0.\n",
        "  + str(self.newton_failures) + \"th time. Process reset to x0.\")\n",
        "manifold_reflected_brownian_motion.py:218: UserWarning: Newton iteration failed for the 275th time. Process reset to x0.\n",
        "  + str(self.newton_failures) + \"th time. Process reset to x0.\")\n",
        "manifold_reflected_brownian_motion.py:218: UserWarning: Newton iteration failed for the 276th time. Process reset to x0.\n",
        "  + str(self.newton_failures) + \"th time. Process reset to x0.\")\n",
        "manifold_reflected_brownian_motion.py:218: UserWarning: Newton iteration failed for the 277th time. Process reset to x0.\n",
        "  + str(self.newton_failures) + \"th time. Process reset to x0.\")\n"
       ]
      },
      {
       "output_type": "stream",
       "stream": "stderr",
       "text": [
        "manifold_reflected_brownian_motion.py:218: UserWarning: Newton iteration failed for the 278th time. Process reset to x0.\n",
        "  + str(self.newton_failures) + \"th time. Process reset to x0.\")\n",
        "manifold_reflected_brownian_motion.py:218: UserWarning: Newton iteration failed for the 279th time. Process reset to x0.\n",
        "  + str(self.newton_failures) + \"th time. Process reset to x0.\")\n",
        "manifold_reflected_brownian_motion.py:218: UserWarning: Newton iteration failed for the 280th time. Process reset to x0.\n",
        "  + str(self.newton_failures) + \"th time. Process reset to x0.\")\n",
        "manifold_reflected_brownian_motion.py:218: UserWarning: Newton iteration failed for the 281th time. Process reset to x0.\n",
        "  + str(self.newton_failures) + \"th time. Process reset to x0.\")\n"
       ]
      },
      {
       "output_type": "stream",
       "stream": "stderr",
       "text": [
        "manifold_reflected_brownian_motion.py:218: UserWarning: Newton iteration failed for the 282th time. Process reset to x0.\n",
        "  + str(self.newton_failures) + \"th time. Process reset to x0.\")\n",
        "manifold_reflected_brownian_motion.py:218: UserWarning: Newton iteration failed for the 283th time. Process reset to x0.\n",
        "  + str(self.newton_failures) + \"th time. Process reset to x0.\")\n",
        "manifold_reflected_brownian_motion.py:218: UserWarning: Newton iteration failed for the 284th time. Process reset to x0.\n",
        "  + str(self.newton_failures) + \"th time. Process reset to x0.\")\n",
        "manifold_reflected_brownian_motion.py:218: UserWarning: Newton iteration failed for the 285th time. Process reset to x0.\n",
        "  + str(self.newton_failures) + \"th time. Process reset to x0.\")\n"
       ]
      },
      {
       "output_type": "stream",
       "stream": "stderr",
       "text": [
        "manifold_reflected_brownian_motion.py:218: UserWarning: Newton iteration failed for the 286th time. Process reset to x0.\n",
        "  + str(self.newton_failures) + \"th time. Process reset to x0.\")\n",
        "manifold_reflected_brownian_motion.py:218: UserWarning: Newton iteration failed for the 287th time. Process reset to x0.\n",
        "  + str(self.newton_failures) + \"th time. Process reset to x0.\")\n",
        "manifold_reflected_brownian_motion.py:218: UserWarning: Newton iteration failed for the 288th time. Process reset to x0.\n",
        "  + str(self.newton_failures) + \"th time. Process reset to x0.\")\n",
        "manifold_reflected_brownian_motion.py:218: UserWarning: Newton iteration failed for the 289th time. Process reset to x0.\n",
        "  + str(self.newton_failures) + \"th time. Process reset to x0.\")\n"
       ]
      },
      {
       "output_type": "stream",
       "stream": "stderr",
       "text": [
        "manifold_reflected_brownian_motion.py:218: UserWarning: Newton iteration failed for the 290th time. Process reset to x0.\n",
        "  + str(self.newton_failures) + \"th time. Process reset to x0.\")\n",
        "manifold_reflected_brownian_motion.py:218: UserWarning: Newton iteration failed for the 291th time. Process reset to x0.\n",
        "  + str(self.newton_failures) + \"th time. Process reset to x0.\")\n",
        "manifold_reflected_brownian_motion.py:218: UserWarning: Newton iteration failed for the 292th time. Process reset to x0.\n",
        "  + str(self.newton_failures) + \"th time. Process reset to x0.\")\n",
        "manifold_reflected_brownian_motion.py:218: UserWarning: Newton iteration failed for the 293th time. Process reset to x0.\n",
        "  + str(self.newton_failures) + \"th time. Process reset to x0.\")\n"
       ]
      },
      {
       "output_type": "stream",
       "stream": "stderr",
       "text": [
        "manifold_reflected_brownian_motion.py:218: UserWarning: Newton iteration failed for the 294th time. Process reset to x0.\n",
        "  + str(self.newton_failures) + \"th time. Process reset to x0.\")\n",
        "manifold_reflected_brownian_motion.py:218: UserWarning: Newton iteration failed for the 295th time. Process reset to x0.\n",
        "  + str(self.newton_failures) + \"th time. Process reset to x0.\")\n",
        "manifold_reflected_brownian_motion.py:218: UserWarning: Newton iteration failed for the 296th time. Process reset to x0.\n",
        "  + str(self.newton_failures) + \"th time. Process reset to x0.\")\n",
        "manifold_reflected_brownian_motion.py:218: UserWarning: Newton iteration failed for the 297th time. Process reset to x0.\n",
        "  + str(self.newton_failures) + \"th time. Process reset to x0.\")\n"
       ]
      },
      {
       "output_type": "stream",
       "stream": "stderr",
       "text": [
        "manifold_reflected_brownian_motion.py:218: UserWarning: Newton iteration failed for the 298th time. Process reset to x0.\n",
        "  + str(self.newton_failures) + \"th time. Process reset to x0.\")\n",
        "manifold_reflected_brownian_motion.py:218: UserWarning: Newton iteration failed for the 299th time. Process reset to x0.\n",
        "  + str(self.newton_failures) + \"th time. Process reset to x0.\")\n",
        "manifold_reflected_brownian_motion.py:218: UserWarning: Newton iteration failed for the 300th time. Process reset to x0.\n",
        "  + str(self.newton_failures) + \"th time. Process reset to x0.\")\n",
        "manifold_reflected_brownian_motion.py:218: UserWarning: Newton iteration failed for the 301th time. Process reset to x0.\n",
        "  + str(self.newton_failures) + \"th time. Process reset to x0.\")\n"
       ]
      },
      {
       "output_type": "stream",
       "stream": "stderr",
       "text": [
        "manifold_reflected_brownian_motion.py:218: UserWarning: Newton iteration failed for the 302th time. Process reset to x0.\n",
        "  + str(self.newton_failures) + \"th time. Process reset to x0.\")\n",
        "manifold_reflected_brownian_motion.py:218: UserWarning: Newton iteration failed for the 303th time. Process reset to x0.\n",
        "  + str(self.newton_failures) + \"th time. Process reset to x0.\")\n",
        "manifold_reflected_brownian_motion.py:218: UserWarning: Newton iteration failed for the 304th time. Process reset to x0.\n",
        "  + str(self.newton_failures) + \"th time. Process reset to x0.\")\n",
        "manifold_reflected_brownian_motion.py:218: UserWarning: Newton iteration failed for the 305th time. Process reset to x0.\n",
        "  + str(self.newton_failures) + \"th time. Process reset to x0.\")\n"
       ]
      },
      {
       "output_type": "stream",
       "stream": "stderr",
       "text": [
        "manifold_reflected_brownian_motion.py:218: UserWarning: Newton iteration failed for the 306th time. Process reset to x0.\n",
        "  + str(self.newton_failures) + \"th time. Process reset to x0.\")\n",
        "manifold_reflected_brownian_motion.py:218: UserWarning: Newton iteration failed for the 307th time. Process reset to x0.\n",
        "  + str(self.newton_failures) + \"th time. Process reset to x0.\")\n",
        "manifold_reflected_brownian_motion.py:218: UserWarning: Newton iteration failed for the 308th time. Process reset to x0.\n",
        "  + str(self.newton_failures) + \"th time. Process reset to x0.\")\n",
        "manifold_reflected_brownian_motion.py:218: UserWarning: Newton iteration failed for the 309th time. Process reset to x0.\n",
        "  + str(self.newton_failures) + \"th time. Process reset to x0.\")\n"
       ]
      },
      {
       "output_type": "stream",
       "stream": "stderr",
       "text": [
        "manifold_reflected_brownian_motion.py:218: UserWarning: Newton iteration failed for the 310th time. Process reset to x0.\n",
        "  + str(self.newton_failures) + \"th time. Process reset to x0.\")\n",
        "manifold_reflected_brownian_motion.py:218: UserWarning: Newton iteration failed for the 311th time. Process reset to x0.\n",
        "  + str(self.newton_failures) + \"th time. Process reset to x0.\")\n",
        "manifold_reflected_brownian_motion.py:218: UserWarning: Newton iteration failed for the 312th time. Process reset to x0.\n",
        "  + str(self.newton_failures) + \"th time. Process reset to x0.\")\n",
        "manifold_reflected_brownian_motion.py:218: UserWarning: Newton iteration failed for the 313th time. Process reset to x0.\n",
        "  + str(self.newton_failures) + \"th time. Process reset to x0.\")\n"
       ]
      },
      {
       "output_type": "stream",
       "stream": "stderr",
       "text": [
        "manifold_reflected_brownian_motion.py:218: UserWarning: Newton iteration failed for the 314th time. Process reset to x0.\n",
        "  + str(self.newton_failures) + \"th time. Process reset to x0.\")\n",
        "manifold_reflected_brownian_motion.py:218: UserWarning: Newton iteration failed for the 315th time. Process reset to x0.\n",
        "  + str(self.newton_failures) + \"th time. Process reset to x0.\")\n",
        "manifold_reflected_brownian_motion.py:218: UserWarning: Newton iteration failed for the 316th time. Process reset to x0.\n",
        "  + str(self.newton_failures) + \"th time. Process reset to x0.\")\n",
        "manifold_reflected_brownian_motion.py:218: UserWarning: Newton iteration failed for the 317th time. Process reset to x0.\n",
        "  + str(self.newton_failures) + \"th time. Process reset to x0.\")\n"
       ]
      },
      {
       "output_type": "stream",
       "stream": "stderr",
       "text": [
        "manifold_reflected_brownian_motion.py:218: UserWarning: Newton iteration failed for the 318th time. Process reset to x0.\n",
        "  + str(self.newton_failures) + \"th time. Process reset to x0.\")\n",
        "manifold_reflected_brownian_motion.py:218: UserWarning: Newton iteration failed for the 319th time. Process reset to x0.\n",
        "  + str(self.newton_failures) + \"th time. Process reset to x0.\")\n",
        "manifold_reflected_brownian_motion.py:218: UserWarning: Newton iteration failed for the 320th time. Process reset to x0.\n",
        "  + str(self.newton_failures) + \"th time. Process reset to x0.\")\n",
        "manifold_reflected_brownian_motion.py:218: UserWarning: Newton iteration failed for the 321th time. Process reset to x0.\n",
        "  + str(self.newton_failures) + \"th time. Process reset to x0.\")\n"
       ]
      },
      {
       "output_type": "stream",
       "stream": "stderr",
       "text": [
        "manifold_reflected_brownian_motion.py:218: UserWarning: Newton iteration failed for the 322th time. Process reset to x0.\n",
        "  + str(self.newton_failures) + \"th time. Process reset to x0.\")\n",
        "manifold_reflected_brownian_motion.py:218: UserWarning: Newton iteration failed for the 323th time. Process reset to x0.\n",
        "  + str(self.newton_failures) + \"th time. Process reset to x0.\")\n",
        "manifold_reflected_brownian_motion.py:218: UserWarning: Newton iteration failed for the 324th time. Process reset to x0.\n",
        "  + str(self.newton_failures) + \"th time. Process reset to x0.\")\n",
        "manifold_reflected_brownian_motion.py:218: UserWarning: Newton iteration failed for the 325th time. Process reset to x0.\n",
        "  + str(self.newton_failures) + \"th time. Process reset to x0.\")\n"
       ]
      },
      {
       "output_type": "stream",
       "stream": "stderr",
       "text": [
        "manifold_reflected_brownian_motion.py:218: UserWarning: Newton iteration failed for the 326th time. Process reset to x0.\n",
        "  + str(self.newton_failures) + \"th time. Process reset to x0.\")\n",
        "manifold_reflected_brownian_motion.py:218: UserWarning: Newton iteration failed for the 327th time. Process reset to x0.\n",
        "  + str(self.newton_failures) + \"th time. Process reset to x0.\")\n",
        "manifold_reflected_brownian_motion.py:218: UserWarning: Newton iteration failed for the 328th time. Process reset to x0.\n",
        "  + str(self.newton_failures) + \"th time. Process reset to x0.\")\n",
        "manifold_reflected_brownian_motion.py:218: UserWarning: Newton iteration failed for the 329th time. Process reset to x0.\n",
        "  + str(self.newton_failures) + \"th time. Process reset to x0.\")\n"
       ]
      },
      {
       "output_type": "stream",
       "stream": "stderr",
       "text": [
        "manifold_reflected_brownian_motion.py:218: UserWarning: Newton iteration failed for the 330th time. Process reset to x0.\n",
        "  + str(self.newton_failures) + \"th time. Process reset to x0.\")\n",
        "manifold_reflected_brownian_motion.py:218: UserWarning: Newton iteration failed for the 331th time. Process reset to x0.\n",
        "  + str(self.newton_failures) + \"th time. Process reset to x0.\")\n",
        "manifold_reflected_brownian_motion.py:218: UserWarning: Newton iteration failed for the 332th time. Process reset to x0.\n",
        "  + str(self.newton_failures) + \"th time. Process reset to x0.\")\n",
        "manifold_reflected_brownian_motion.py:218: UserWarning: Newton iteration failed for the 333th time. Process reset to x0.\n",
        "  + str(self.newton_failures) + \"th time. Process reset to x0.\")\n"
       ]
      },
      {
       "output_type": "stream",
       "stream": "stderr",
       "text": [
        "manifold_reflected_brownian_motion.py:218: UserWarning: Newton iteration failed for the 334th time. Process reset to x0.\n",
        "  + str(self.newton_failures) + \"th time. Process reset to x0.\")\n",
        "manifold_reflected_brownian_motion.py:218: UserWarning: Newton iteration failed for the 335th time. Process reset to x0.\n",
        "  + str(self.newton_failures) + \"th time. Process reset to x0.\")\n",
        "manifold_reflected_brownian_motion.py:218: UserWarning: Newton iteration failed for the 336th time. Process reset to x0.\n",
        "  + str(self.newton_failures) + \"th time. Process reset to x0.\")\n",
        "manifold_reflected_brownian_motion.py:218: UserWarning: Newton iteration failed for the 337th time. Process reset to x0.\n",
        "  + str(self.newton_failures) + \"th time. Process reset to x0.\")\n"
       ]
      },
      {
       "output_type": "stream",
       "stream": "stderr",
       "text": [
        "manifold_reflected_brownian_motion.py:218: UserWarning: Newton iteration failed for the 338th time. Process reset to x0.\n",
        "  + str(self.newton_failures) + \"th time. Process reset to x0.\")\n",
        "manifold_reflected_brownian_motion.py:218: UserWarning: Newton iteration failed for the 339th time. Process reset to x0.\n",
        "  + str(self.newton_failures) + \"th time. Process reset to x0.\")\n",
        "manifold_reflected_brownian_motion.py:218: UserWarning: Newton iteration failed for the 340th time. Process reset to x0.\n",
        "  + str(self.newton_failures) + \"th time. Process reset to x0.\")\n",
        "manifold_reflected_brownian_motion.py:218: UserWarning: Newton iteration failed for the 341th time. Process reset to x0.\n",
        "  + str(self.newton_failures) + \"th time. Process reset to x0.\")\n",
        "manifold_reflected_brownian_motion.py:218: UserWarning: Newton iteration failed for the 342th time. Process reset to x0.\n",
        "  + str(self.newton_failures) + \"th time. Process reset to x0.\")\n"
       ]
      },
      {
       "output_type": "stream",
       "stream": "stderr",
       "text": [
        "manifold_reflected_brownian_motion.py:218: UserWarning: Newton iteration failed for the 343th time. Process reset to x0.\n",
        "  + str(self.newton_failures) + \"th time. Process reset to x0.\")\n",
        "manifold_reflected_brownian_motion.py:218: UserWarning: Newton iteration failed for the 344th time. Process reset to x0.\n",
        "  + str(self.newton_failures) + \"th time. Process reset to x0.\")\n",
        "manifold_reflected_brownian_motion.py:218: UserWarning: Newton iteration failed for the 345th time. Process reset to x0.\n",
        "  + str(self.newton_failures) + \"th time. Process reset to x0.\")\n",
        "manifold_reflected_brownian_motion.py:218: UserWarning: Newton iteration failed for the 346th time. Process reset to x0.\n",
        "  + str(self.newton_failures) + \"th time. Process reset to x0.\")\n"
       ]
      },
      {
       "output_type": "stream",
       "stream": "stderr",
       "text": [
        "manifold_reflected_brownian_motion.py:218: UserWarning: Newton iteration failed for the 347th time. Process reset to x0.\n",
        "  + str(self.newton_failures) + \"th time. Process reset to x0.\")\n",
        "manifold_reflected_brownian_motion.py:218: UserWarning: Newton iteration failed for the 348th time. Process reset to x0.\n",
        "  + str(self.newton_failures) + \"th time. Process reset to x0.\")\n",
        "manifold_reflected_brownian_motion.py:218: UserWarning: Newton iteration failed for the 349th time. Process reset to x0.\n",
        "  + str(self.newton_failures) + \"th time. Process reset to x0.\")\n",
        "manifold_reflected_brownian_motion.py:218: UserWarning: Newton iteration failed for the 350th time. Process reset to x0.\n",
        "  + str(self.newton_failures) + \"th time. Process reset to x0.\")\n"
       ]
      },
      {
       "output_type": "stream",
       "stream": "stderr",
       "text": [
        "manifold_reflected_brownian_motion.py:218: UserWarning: Newton iteration failed for the 351th time. Process reset to x0.\n",
        "  + str(self.newton_failures) + \"th time. Process reset to x0.\")\n",
        "manifold_reflected_brownian_motion.py:218: UserWarning: Newton iteration failed for the 352th time. Process reset to x0.\n",
        "  + str(self.newton_failures) + \"th time. Process reset to x0.\")\n",
        "manifold_reflected_brownian_motion.py:218: UserWarning: Newton iteration failed for the 353th time. Process reset to x0.\n",
        "  + str(self.newton_failures) + \"th time. Process reset to x0.\")\n",
        "manifold_reflected_brownian_motion.py:218: UserWarning: Newton iteration failed for the 354th time. Process reset to x0.\n",
        "  + str(self.newton_failures) + \"th time. Process reset to x0.\")\n"
       ]
      },
      {
       "output_type": "stream",
       "stream": "stderr",
       "text": [
        "manifold_reflected_brownian_motion.py:218: UserWarning: Newton iteration failed for the 355th time. Process reset to x0.\n",
        "  + str(self.newton_failures) + \"th time. Process reset to x0.\")\n",
        "manifold_reflected_brownian_motion.py:218: UserWarning: Newton iteration failed for the 356th time. Process reset to x0.\n",
        "  + str(self.newton_failures) + \"th time. Process reset to x0.\")\n",
        "manifold_reflected_brownian_motion.py:218: UserWarning: Newton iteration failed for the 357th time. Process reset to x0.\n",
        "  + str(self.newton_failures) + \"th time. Process reset to x0.\")\n",
        "manifold_reflected_brownian_motion.py:218: UserWarning: Newton iteration failed for the 358th time. Process reset to x0.\n",
        "  + str(self.newton_failures) + \"th time. Process reset to x0.\")\n"
       ]
      },
      {
       "output_type": "stream",
       "stream": "stderr",
       "text": [
        "manifold_reflected_brownian_motion.py:218: UserWarning: Newton iteration failed for the 359th time. Process reset to x0.\n",
        "  + str(self.newton_failures) + \"th time. Process reset to x0.\")\n",
        "manifold_reflected_brownian_motion.py:218: UserWarning: Newton iteration failed for the 360th time. Process reset to x0.\n",
        "  + str(self.newton_failures) + \"th time. Process reset to x0.\")\n",
        "manifold_reflected_brownian_motion.py:218: UserWarning: Newton iteration failed for the 361th time. Process reset to x0.\n",
        "  + str(self.newton_failures) + \"th time. Process reset to x0.\")\n",
        "manifold_reflected_brownian_motion.py:218: UserWarning: Newton iteration failed for the 362th time. Process reset to x0.\n",
        "  + str(self.newton_failures) + \"th time. Process reset to x0.\")\n"
       ]
      },
      {
       "output_type": "stream",
       "stream": "stderr",
       "text": [
        "manifold_reflected_brownian_motion.py:218: UserWarning: Newton iteration failed for the 363th time. Process reset to x0.\n",
        "  + str(self.newton_failures) + \"th time. Process reset to x0.\")\n",
        "manifold_reflected_brownian_motion.py:218: UserWarning: Newton iteration failed for the 364th time. Process reset to x0.\n",
        "  + str(self.newton_failures) + \"th time. Process reset to x0.\")\n",
        "manifold_reflected_brownian_motion.py:218: UserWarning: Newton iteration failed for the 365th time. Process reset to x0.\n",
        "  + str(self.newton_failures) + \"th time. Process reset to x0.\")\n",
        "manifold_reflected_brownian_motion.py:218: UserWarning: Newton iteration failed for the 366th time. Process reset to x0.\n",
        "  + str(self.newton_failures) + \"th time. Process reset to x0.\")\n"
       ]
      },
      {
       "output_type": "stream",
       "stream": "stderr",
       "text": [
        "manifold_reflected_brownian_motion.py:218: UserWarning: Newton iteration failed for the 367th time. Process reset to x0.\n",
        "  + str(self.newton_failures) + \"th time. Process reset to x0.\")\n",
        "manifold_reflected_brownian_motion.py:218: UserWarning: Newton iteration failed for the 368th time. Process reset to x0.\n",
        "  + str(self.newton_failures) + \"th time. Process reset to x0.\")\n",
        "manifold_reflected_brownian_motion.py:218: UserWarning: Newton iteration failed for the 369th time. Process reset to x0.\n",
        "  + str(self.newton_failures) + \"th time. Process reset to x0.\")\n",
        "manifold_reflected_brownian_motion.py:218: UserWarning: Newton iteration failed for the 370th time. Process reset to x0.\n",
        "  + str(self.newton_failures) + \"th time. Process reset to x0.\")\n"
       ]
      },
      {
       "output_type": "stream",
       "stream": "stderr",
       "text": [
        "manifold_reflected_brownian_motion.py:218: UserWarning: Newton iteration failed for the 371th time. Process reset to x0.\n",
        "  + str(self.newton_failures) + \"th time. Process reset to x0.\")\n",
        "manifold_reflected_brownian_motion.py:218: UserWarning: Newton iteration failed for the 372th time. Process reset to x0.\n",
        "  + str(self.newton_failures) + \"th time. Process reset to x0.\")\n",
        "manifold_reflected_brownian_motion.py:218: UserWarning: Newton iteration failed for the 373th time. Process reset to x0.\n",
        "  + str(self.newton_failures) + \"th time. Process reset to x0.\")\n",
        "manifold_reflected_brownian_motion.py:218: UserWarning: Newton iteration failed for the 374th time. Process reset to x0.\n",
        "  + str(self.newton_failures) + \"th time. Process reset to x0.\")\n"
       ]
      },
      {
       "output_type": "stream",
       "stream": "stderr",
       "text": [
        "manifold_reflected_brownian_motion.py:218: UserWarning: Newton iteration failed for the 375th time. Process reset to x0.\n",
        "  + str(self.newton_failures) + \"th time. Process reset to x0.\")\n",
        "manifold_reflected_brownian_motion.py:218: UserWarning: Newton iteration failed for the 376th time. Process reset to x0.\n",
        "  + str(self.newton_failures) + \"th time. Process reset to x0.\")\n",
        "manifold_reflected_brownian_motion.py:218: UserWarning: Newton iteration failed for the 377th time. Process reset to x0.\n",
        "  + str(self.newton_failures) + \"th time. Process reset to x0.\")\n",
        "manifold_reflected_brownian_motion.py:218: UserWarning: Newton iteration failed for the 378th time. Process reset to x0.\n",
        "  + str(self.newton_failures) + \"th time. Process reset to x0.\")\n"
       ]
      },
      {
       "output_type": "stream",
       "stream": "stderr",
       "text": [
        "manifold_reflected_brownian_motion.py:218: UserWarning: Newton iteration failed for the 379th time. Process reset to x0.\n",
        "  + str(self.newton_failures) + \"th time. Process reset to x0.\")\n",
        "manifold_reflected_brownian_motion.py:218: UserWarning: Newton iteration failed for the 380th time. Process reset to x0.\n",
        "  + str(self.newton_failures) + \"th time. Process reset to x0.\")\n",
        "manifold_reflected_brownian_motion.py:218: UserWarning: Newton iteration failed for the 381th time. Process reset to x0.\n",
        "  + str(self.newton_failures) + \"th time. Process reset to x0.\")\n",
        "manifold_reflected_brownian_motion.py:218: UserWarning: Newton iteration failed for the 382th time. Process reset to x0.\n",
        "  + str(self.newton_failures) + \"th time. Process reset to x0.\")\n"
       ]
      },
      {
       "output_type": "stream",
       "stream": "stderr",
       "text": [
        "manifold_reflected_brownian_motion.py:218: UserWarning: Newton iteration failed for the 383th time. Process reset to x0.\n",
        "  + str(self.newton_failures) + \"th time. Process reset to x0.\")\n",
        "manifold_reflected_brownian_motion.py:218: UserWarning: Newton iteration failed for the 384th time. Process reset to x0.\n",
        "  + str(self.newton_failures) + \"th time. Process reset to x0.\")\n",
        "manifold_reflected_brownian_motion.py:218: UserWarning: Newton iteration failed for the 385th time. Process reset to x0.\n",
        "  + str(self.newton_failures) + \"th time. Process reset to x0.\")\n",
        "manifold_reflected_brownian_motion.py:218: UserWarning: Newton iteration failed for the 386th time. Process reset to x0.\n",
        "  + str(self.newton_failures) + \"th time. Process reset to x0.\")\n"
       ]
      },
      {
       "output_type": "stream",
       "stream": "stderr",
       "text": [
        "manifold_reflected_brownian_motion.py:218: UserWarning: Newton iteration failed for the 387th time. Process reset to x0.\n",
        "  + str(self.newton_failures) + \"th time. Process reset to x0.\")\n",
        "manifold_reflected_brownian_motion.py:218: UserWarning: Newton iteration failed for the 388th time. Process reset to x0.\n",
        "  + str(self.newton_failures) + \"th time. Process reset to x0.\")\n",
        "manifold_reflected_brownian_motion.py:218: UserWarning: Newton iteration failed for the 389th time. Process reset to x0.\n",
        "  + str(self.newton_failures) + \"th time. Process reset to x0.\")\n",
        "manifold_reflected_brownian_motion.py:218: UserWarning: Newton iteration failed for the 390th time. Process reset to x0.\n",
        "  + str(self.newton_failures) + \"th time. Process reset to x0.\")\n"
       ]
      },
      {
       "output_type": "stream",
       "stream": "stderr",
       "text": [
        "manifold_reflected_brownian_motion.py:218: UserWarning: Newton iteration failed for the 391th time. Process reset to x0.\n",
        "  + str(self.newton_failures) + \"th time. Process reset to x0.\")\n",
        "manifold_reflected_brownian_motion.py:218: UserWarning: Newton iteration failed for the 392th time. Process reset to x0.\n",
        "  + str(self.newton_failures) + \"th time. Process reset to x0.\")\n",
        "manifold_reflected_brownian_motion.py:218: UserWarning: Newton iteration failed for the 393th time. Process reset to x0.\n",
        "  + str(self.newton_failures) + \"th time. Process reset to x0.\")\n",
        "manifold_reflected_brownian_motion.py:218: UserWarning: Newton iteration failed for the 394th time. Process reset to x0.\n",
        "  + str(self.newton_failures) + \"th time. Process reset to x0.\")\n"
       ]
      },
      {
       "output_type": "stream",
       "stream": "stderr",
       "text": [
        "manifold_reflected_brownian_motion.py:218: UserWarning: Newton iteration failed for the 395th time. Process reset to x0.\n",
        "  + str(self.newton_failures) + \"th time. Process reset to x0.\")\n",
        "manifold_reflected_brownian_motion.py:218: UserWarning: Newton iteration failed for the 396th time. Process reset to x0.\n",
        "  + str(self.newton_failures) + \"th time. Process reset to x0.\")\n",
        "manifold_reflected_brownian_motion.py:218: UserWarning: Newton iteration failed for the 397th time. Process reset to x0.\n",
        "  + str(self.newton_failures) + \"th time. Process reset to x0.\")\n",
        "manifold_reflected_brownian_motion.py:218: UserWarning: Newton iteration failed for the 398th time. Process reset to x0.\n",
        "  + str(self.newton_failures) + \"th time. Process reset to x0.\")\n"
       ]
      },
      {
       "output_type": "stream",
       "stream": "stderr",
       "text": [
        "manifold_reflected_brownian_motion.py:218: UserWarning: Newton iteration failed for the 399th time. Process reset to x0.\n",
        "  + str(self.newton_failures) + \"th time. Process reset to x0.\")\n",
        "manifold_reflected_brownian_motion.py:218: UserWarning: Newton iteration failed for the 400th time. Process reset to x0.\n",
        "  + str(self.newton_failures) + \"th time. Process reset to x0.\")\n",
        "manifold_reflected_brownian_motion.py:218: UserWarning: Newton iteration failed for the 401th time. Process reset to x0.\n",
        "  + str(self.newton_failures) + \"th time. Process reset to x0.\")\n",
        "manifold_reflected_brownian_motion.py:218: UserWarning: Newton iteration failed for the 402th time. Process reset to x0.\n",
        "  + str(self.newton_failures) + \"th time. Process reset to x0.\")\n"
       ]
      },
      {
       "output_type": "stream",
       "stream": "stderr",
       "text": [
        "manifold_reflected_brownian_motion.py:218: UserWarning: Newton iteration failed for the 403th time. Process reset to x0.\n",
        "  + str(self.newton_failures) + \"th time. Process reset to x0.\")\n",
        "manifold_reflected_brownian_motion.py:218: UserWarning: Newton iteration failed for the 404th time. Process reset to x0.\n",
        "  + str(self.newton_failures) + \"th time. Process reset to x0.\")\n",
        "manifold_reflected_brownian_motion.py:218: UserWarning: Newton iteration failed for the 405th time. Process reset to x0.\n",
        "  + str(self.newton_failures) + \"th time. Process reset to x0.\")\n",
        "manifold_reflected_brownian_motion.py:218: UserWarning: Newton iteration failed for the 406th time. Process reset to x0.\n",
        "  + str(self.newton_failures) + \"th time. Process reset to x0.\")\n",
        "manifold_reflected_brownian_motion.py:218: UserWarning: Newton iteration failed for the 407th time. Process reset to x0.\n",
        "  + str(self.newton_failures) + \"th time. Process reset to x0.\")\n"
       ]
      },
      {
       "output_type": "stream",
       "stream": "stderr",
       "text": [
        "manifold_reflected_brownian_motion.py:218: UserWarning: Newton iteration failed for the 408th time. Process reset to x0.\n",
        "  + str(self.newton_failures) + \"th time. Process reset to x0.\")\n",
        "manifold_reflected_brownian_motion.py:218: UserWarning: Newton iteration failed for the 409th time. Process reset to x0.\n",
        "  + str(self.newton_failures) + \"th time. Process reset to x0.\")\n",
        "manifold_reflected_brownian_motion.py:218: UserWarning: Newton iteration failed for the 410th time. Process reset to x0.\n",
        "  + str(self.newton_failures) + \"th time. Process reset to x0.\")\n",
        "manifold_reflected_brownian_motion.py:218: UserWarning: Newton iteration failed for the 411th time. Process reset to x0.\n",
        "  + str(self.newton_failures) + \"th time. Process reset to x0.\")\n",
        "manifold_reflected_brownian_motion.py:218: UserWarning: Newton iteration failed for the 412th time. Process reset to x0.\n",
        "  + str(self.newton_failures) + \"th time. Process reset to x0.\")\n"
       ]
      },
      {
       "output_type": "stream",
       "stream": "stderr",
       "text": [
        "manifold_reflected_brownian_motion.py:218: UserWarning: Newton iteration failed for the 413th time. Process reset to x0.\n",
        "  + str(self.newton_failures) + \"th time. Process reset to x0.\")\n",
        "manifold_reflected_brownian_motion.py:218: UserWarning: Newton iteration failed for the 414th time. Process reset to x0.\n",
        "  + str(self.newton_failures) + \"th time. Process reset to x0.\")\n",
        "manifold_reflected_brownian_motion.py:218: UserWarning: Newton iteration failed for the 415th time. Process reset to x0.\n",
        "  + str(self.newton_failures) + \"th time. Process reset to x0.\")\n",
        "manifold_reflected_brownian_motion.py:218: UserWarning: Newton iteration failed for the 416th time. Process reset to x0.\n",
        "  + str(self.newton_failures) + \"th time. Process reset to x0.\")\n"
       ]
      },
      {
       "output_type": "stream",
       "stream": "stderr",
       "text": [
        "manifold_reflected_brownian_motion.py:218: UserWarning: Newton iteration failed for the 417th time. Process reset to x0.\n",
        "  + str(self.newton_failures) + \"th time. Process reset to x0.\")\n",
        "manifold_reflected_brownian_motion.py:218: UserWarning: Newton iteration failed for the 418th time. Process reset to x0.\n",
        "  + str(self.newton_failures) + \"th time. Process reset to x0.\")\n",
        "manifold_reflected_brownian_motion.py:218: UserWarning: Newton iteration failed for the 419th time. Process reset to x0.\n",
        "  + str(self.newton_failures) + \"th time. Process reset to x0.\")\n",
        "manifold_reflected_brownian_motion.py:218: UserWarning: Newton iteration failed for the 420th time. Process reset to x0.\n",
        "  + str(self.newton_failures) + \"th time. Process reset to x0.\")\n"
       ]
      },
      {
       "output_type": "stream",
       "stream": "stderr",
       "text": [
        "manifold_reflected_brownian_motion.py:218: UserWarning: Newton iteration failed for the 421th time. Process reset to x0.\n",
        "  + str(self.newton_failures) + \"th time. Process reset to x0.\")\n",
        "manifold_reflected_brownian_motion.py:218: UserWarning: Newton iteration failed for the 422th time. Process reset to x0.\n",
        "  + str(self.newton_failures) + \"th time. Process reset to x0.\")\n",
        "manifold_reflected_brownian_motion.py:218: UserWarning: Newton iteration failed for the 423th time. Process reset to x0.\n",
        "  + str(self.newton_failures) + \"th time. Process reset to x0.\")\n",
        "manifold_reflected_brownian_motion.py:218: UserWarning: Newton iteration failed for the 424th time. Process reset to x0.\n",
        "  + str(self.newton_failures) + \"th time. Process reset to x0.\")\n"
       ]
      },
      {
       "output_type": "stream",
       "stream": "stderr",
       "text": [
        "manifold_reflected_brownian_motion.py:218: UserWarning: Newton iteration failed for the 425th time. Process reset to x0.\n",
        "  + str(self.newton_failures) + \"th time. Process reset to x0.\")\n",
        "manifold_reflected_brownian_motion.py:218: UserWarning: Newton iteration failed for the 426th time. Process reset to x0.\n",
        "  + str(self.newton_failures) + \"th time. Process reset to x0.\")\n",
        "manifold_reflected_brownian_motion.py:218: UserWarning: Newton iteration failed for the 427th time. Process reset to x0.\n",
        "  + str(self.newton_failures) + \"th time. Process reset to x0.\")\n",
        "manifold_reflected_brownian_motion.py:218: UserWarning: Newton iteration failed for the 428th time. Process reset to x0.\n",
        "  + str(self.newton_failures) + \"th time. Process reset to x0.\")\n"
       ]
      },
      {
       "output_type": "stream",
       "stream": "stderr",
       "text": [
        "manifold_reflected_brownian_motion.py:218: UserWarning: Newton iteration failed for the 429th time. Process reset to x0.\n",
        "  + str(self.newton_failures) + \"th time. Process reset to x0.\")\n",
        "manifold_reflected_brownian_motion.py:218: UserWarning: Newton iteration failed for the 430th time. Process reset to x0.\n",
        "  + str(self.newton_failures) + \"th time. Process reset to x0.\")\n",
        "manifold_reflected_brownian_motion.py:218: UserWarning: Newton iteration failed for the 431th time. Process reset to x0.\n",
        "  + str(self.newton_failures) + \"th time. Process reset to x0.\")\n",
        "manifold_reflected_brownian_motion.py:218: UserWarning: Newton iteration failed for the 432th time. Process reset to x0.\n",
        "  + str(self.newton_failures) + \"th time. Process reset to x0.\")\n"
       ]
      },
      {
       "output_type": "stream",
       "stream": "stderr",
       "text": [
        "manifold_reflected_brownian_motion.py:218: UserWarning: Newton iteration failed for the 433th time. Process reset to x0.\n",
        "  + str(self.newton_failures) + \"th time. Process reset to x0.\")\n",
        "manifold_reflected_brownian_motion.py:218: UserWarning: Newton iteration failed for the 434th time. Process reset to x0.\n",
        "  + str(self.newton_failures) + \"th time. Process reset to x0.\")\n",
        "manifold_reflected_brownian_motion.py:218: UserWarning: Newton iteration failed for the 435th time. Process reset to x0.\n",
        "  + str(self.newton_failures) + \"th time. Process reset to x0.\")\n",
        "manifold_reflected_brownian_motion.py:218: UserWarning: Newton iteration failed for the 436th time. Process reset to x0.\n",
        "  + str(self.newton_failures) + \"th time. Process reset to x0.\")\n",
        "manifold_reflected_brownian_motion.py:218: UserWarning: Newton iteration failed for the 437th time. Process reset to x0.\n",
        "  + str(self.newton_failures) + \"th time. Process reset to x0.\")\n"
       ]
      },
      {
       "output_type": "stream",
       "stream": "stderr",
       "text": [
        "manifold_reflected_brownian_motion.py:218: UserWarning: Newton iteration failed for the 438th time. Process reset to x0.\n",
        "  + str(self.newton_failures) + \"th time. Process reset to x0.\")\n",
        "manifold_reflected_brownian_motion.py:218: UserWarning: Newton iteration failed for the 439th time. Process reset to x0.\n",
        "  + str(self.newton_failures) + \"th time. Process reset to x0.\")\n",
        "manifold_reflected_brownian_motion.py:218: UserWarning: Newton iteration failed for the 440th time. Process reset to x0.\n",
        "  + str(self.newton_failures) + \"th time. Process reset to x0.\")\n",
        "manifold_reflected_brownian_motion.py:218: UserWarning: Newton iteration failed for the 441th time. Process reset to x0.\n",
        "  + str(self.newton_failures) + \"th time. Process reset to x0.\")\n",
        "manifold_reflected_brownian_motion.py:218: UserWarning: Newton iteration failed for the 442th time. Process reset to x0.\n",
        "  + str(self.newton_failures) + \"th time. Process reset to x0.\")\n"
       ]
      },
      {
       "output_type": "stream",
       "stream": "stderr",
       "text": [
        "manifold_reflected_brownian_motion.py:218: UserWarning: Newton iteration failed for the 443th time. Process reset to x0.\n",
        "  + str(self.newton_failures) + \"th time. Process reset to x0.\")\n",
        "manifold_reflected_brownian_motion.py:218: UserWarning: Newton iteration failed for the 444th time. Process reset to x0.\n",
        "  + str(self.newton_failures) + \"th time. Process reset to x0.\")\n",
        "manifold_reflected_brownian_motion.py:218: UserWarning: Newton iteration failed for the 445th time. Process reset to x0.\n",
        "  + str(self.newton_failures) + \"th time. Process reset to x0.\")\n",
        "manifold_reflected_brownian_motion.py:218: UserWarning: Newton iteration failed for the 446th time. Process reset to x0.\n",
        "  + str(self.newton_failures) + \"th time. Process reset to x0.\")\n"
       ]
      },
      {
       "output_type": "stream",
       "stream": "stderr",
       "text": [
        "manifold_reflected_brownian_motion.py:218: UserWarning: Newton iteration failed for the 447th time. Process reset to x0.\n",
        "  + str(self.newton_failures) + \"th time. Process reset to x0.\")\n",
        "manifold_reflected_brownian_motion.py:218: UserWarning: Newton iteration failed for the 448th time. Process reset to x0.\n",
        "  + str(self.newton_failures) + \"th time. Process reset to x0.\")\n",
        "manifold_reflected_brownian_motion.py:218: UserWarning: Newton iteration failed for the 449th time. Process reset to x0.\n",
        "  + str(self.newton_failures) + \"th time. Process reset to x0.\")\n",
        "manifold_reflected_brownian_motion.py:218: UserWarning: Newton iteration failed for the 450th time. Process reset to x0.\n",
        "  + str(self.newton_failures) + \"th time. Process reset to x0.\")\n"
       ]
      },
      {
       "output_type": "stream",
       "stream": "stderr",
       "text": [
        "manifold_reflected_brownian_motion.py:218: UserWarning: Newton iteration failed for the 451th time. Process reset to x0.\n",
        "  + str(self.newton_failures) + \"th time. Process reset to x0.\")\n",
        "manifold_reflected_brownian_motion.py:218: UserWarning: Newton iteration failed for the 452th time. Process reset to x0.\n",
        "  + str(self.newton_failures) + \"th time. Process reset to x0.\")\n",
        "manifold_reflected_brownian_motion.py:218: UserWarning: Newton iteration failed for the 453th time. Process reset to x0.\n",
        "  + str(self.newton_failures) + \"th time. Process reset to x0.\")\n",
        "manifold_reflected_brownian_motion.py:218: UserWarning: Newton iteration failed for the 454th time. Process reset to x0.\n",
        "  + str(self.newton_failures) + \"th time. Process reset to x0.\")\n"
       ]
      },
      {
       "output_type": "stream",
       "stream": "stderr",
       "text": [
        "manifold_reflected_brownian_motion.py:218: UserWarning: Newton iteration failed for the 455th time. Process reset to x0.\n",
        "  + str(self.newton_failures) + \"th time. Process reset to x0.\")\n",
        "manifold_reflected_brownian_motion.py:218: UserWarning: Newton iteration failed for the 456th time. Process reset to x0.\n",
        "  + str(self.newton_failures) + \"th time. Process reset to x0.\")\n",
        "manifold_reflected_brownian_motion.py:218: UserWarning: Newton iteration failed for the 457th time. Process reset to x0.\n",
        "  + str(self.newton_failures) + \"th time. Process reset to x0.\")\n",
        "manifold_reflected_brownian_motion.py:218: UserWarning: Newton iteration failed for the 458th time. Process reset to x0.\n",
        "  + str(self.newton_failures) + \"th time. Process reset to x0.\")\n"
       ]
      },
      {
       "output_type": "stream",
       "stream": "stderr",
       "text": [
        "manifold_reflected_brownian_motion.py:218: UserWarning: Newton iteration failed for the 459th time. Process reset to x0.\n",
        "  + str(self.newton_failures) + \"th time. Process reset to x0.\")\n",
        "manifold_reflected_brownian_motion.py:218: UserWarning: Newton iteration failed for the 460th time. Process reset to x0.\n",
        "  + str(self.newton_failures) + \"th time. Process reset to x0.\")\n",
        "manifold_reflected_brownian_motion.py:218: UserWarning: Newton iteration failed for the 461th time. Process reset to x0.\n",
        "  + str(self.newton_failures) + \"th time. Process reset to x0.\")\n",
        "manifold_reflected_brownian_motion.py:218: UserWarning: Newton iteration failed for the 462th time. Process reset to x0.\n",
        "  + str(self.newton_failures) + \"th time. Process reset to x0.\")\n"
       ]
      },
      {
       "output_type": "stream",
       "stream": "stderr",
       "text": [
        "manifold_reflected_brownian_motion.py:218: UserWarning: Newton iteration failed for the 463th time. Process reset to x0.\n",
        "  + str(self.newton_failures) + \"th time. Process reset to x0.\")\n",
        "manifold_reflected_brownian_motion.py:218: UserWarning: Newton iteration failed for the 464th time. Process reset to x0.\n",
        "  + str(self.newton_failures) + \"th time. Process reset to x0.\")\n",
        "manifold_reflected_brownian_motion.py:218: UserWarning: Newton iteration failed for the 465th time. Process reset to x0.\n",
        "  + str(self.newton_failures) + \"th time. Process reset to x0.\")\n",
        "manifold_reflected_brownian_motion.py:218: UserWarning: Newton iteration failed for the 466th time. Process reset to x0.\n",
        "  + str(self.newton_failures) + \"th time. Process reset to x0.\")\n"
       ]
      },
      {
       "output_type": "stream",
       "stream": "stderr",
       "text": [
        "manifold_reflected_brownian_motion.py:218: UserWarning: Newton iteration failed for the 467th time. Process reset to x0.\n",
        "  + str(self.newton_failures) + \"th time. Process reset to x0.\")\n",
        "manifold_reflected_brownian_motion.py:218: UserWarning: Newton iteration failed for the 468th time. Process reset to x0.\n",
        "  + str(self.newton_failures) + \"th time. Process reset to x0.\")\n",
        "manifold_reflected_brownian_motion.py:218: UserWarning: Newton iteration failed for the 469th time. Process reset to x0.\n",
        "  + str(self.newton_failures) + \"th time. Process reset to x0.\")\n",
        "manifold_reflected_brownian_motion.py:218: UserWarning: Newton iteration failed for the 470th time. Process reset to x0.\n",
        "  + str(self.newton_failures) + \"th time. Process reset to x0.\")\n"
       ]
      },
      {
       "output_type": "stream",
       "stream": "stderr",
       "text": [
        "manifold_reflected_brownian_motion.py:218: UserWarning: Newton iteration failed for the 471th time. Process reset to x0.\n",
        "  + str(self.newton_failures) + \"th time. Process reset to x0.\")\n",
        "manifold_reflected_brownian_motion.py:218: UserWarning: Newton iteration failed for the 472th time. Process reset to x0.\n",
        "  + str(self.newton_failures) + \"th time. Process reset to x0.\")\n",
        "manifold_reflected_brownian_motion.py:218: UserWarning: Newton iteration failed for the 473th time. Process reset to x0.\n",
        "  + str(self.newton_failures) + \"th time. Process reset to x0.\")\n",
        "manifold_reflected_brownian_motion.py:218: UserWarning: Newton iteration failed for the 474th time. Process reset to x0.\n",
        "  + str(self.newton_failures) + \"th time. Process reset to x0.\")\n"
       ]
      },
      {
       "output_type": "stream",
       "stream": "stderr",
       "text": [
        "manifold_reflected_brownian_motion.py:218: UserWarning: Newton iteration failed for the 475th time. Process reset to x0.\n",
        "  + str(self.newton_failures) + \"th time. Process reset to x0.\")\n",
        "manifold_reflected_brownian_motion.py:218: UserWarning: Newton iteration failed for the 476th time. Process reset to x0.\n",
        "  + str(self.newton_failures) + \"th time. Process reset to x0.\")\n",
        "manifold_reflected_brownian_motion.py:218: UserWarning: Newton iteration failed for the 477th time. Process reset to x0.\n",
        "  + str(self.newton_failures) + \"th time. Process reset to x0.\")\n",
        "manifold_reflected_brownian_motion.py:218: UserWarning: Newton iteration failed for the 478th time. Process reset to x0.\n",
        "  + str(self.newton_failures) + \"th time. Process reset to x0.\")\n"
       ]
      },
      {
       "output_type": "stream",
       "stream": "stderr",
       "text": [
        "manifold_reflected_brownian_motion.py:218: UserWarning: Newton iteration failed for the 479th time. Process reset to x0.\n",
        "  + str(self.newton_failures) + \"th time. Process reset to x0.\")\n",
        "manifold_reflected_brownian_motion.py:218: UserWarning: Newton iteration failed for the 480th time. Process reset to x0.\n",
        "  + str(self.newton_failures) + \"th time. Process reset to x0.\")\n",
        "manifold_reflected_brownian_motion.py:218: UserWarning: Newton iteration failed for the 481th time. Process reset to x0.\n",
        "  + str(self.newton_failures) + \"th time. Process reset to x0.\")\n",
        "manifold_reflected_brownian_motion.py:218: UserWarning: Newton iteration failed for the 482th time. Process reset to x0.\n",
        "  + str(self.newton_failures) + \"th time. Process reset to x0.\")\n"
       ]
      },
      {
       "output_type": "stream",
       "stream": "stderr",
       "text": [
        "manifold_reflected_brownian_motion.py:218: UserWarning: Newton iteration failed for the 483th time. Process reset to x0.\n",
        "  + str(self.newton_failures) + \"th time. Process reset to x0.\")\n",
        "manifold_reflected_brownian_motion.py:218: UserWarning: Newton iteration failed for the 484th time. Process reset to x0.\n",
        "  + str(self.newton_failures) + \"th time. Process reset to x0.\")\n",
        "manifold_reflected_brownian_motion.py:218: UserWarning: Newton iteration failed for the 485th time. Process reset to x0.\n",
        "  + str(self.newton_failures) + \"th time. Process reset to x0.\")\n",
        "manifold_reflected_brownian_motion.py:218: UserWarning: Newton iteration failed for the 486th time. Process reset to x0.\n",
        "  + str(self.newton_failures) + \"th time. Process reset to x0.\")\n"
       ]
      },
      {
       "output_type": "stream",
       "stream": "stderr",
       "text": [
        "manifold_reflected_brownian_motion.py:218: UserWarning: Newton iteration failed for the 487th time. Process reset to x0.\n",
        "  + str(self.newton_failures) + \"th time. Process reset to x0.\")\n",
        "manifold_reflected_brownian_motion.py:218: UserWarning: Newton iteration failed for the 488th time. Process reset to x0.\n",
        "  + str(self.newton_failures) + \"th time. Process reset to x0.\")\n",
        "manifold_reflected_brownian_motion.py:218: UserWarning: Newton iteration failed for the 489th time. Process reset to x0.\n",
        "  + str(self.newton_failures) + \"th time. Process reset to x0.\")\n",
        "manifold_reflected_brownian_motion.py:218: UserWarning: Newton iteration failed for the 490th time. Process reset to x0.\n",
        "  + str(self.newton_failures) + \"th time. Process reset to x0.\")\n"
       ]
      },
      {
       "output_type": "stream",
       "stream": "stderr",
       "text": [
        "manifold_reflected_brownian_motion.py:218: UserWarning: Newton iteration failed for the 491th time. Process reset to x0.\n",
        "  + str(self.newton_failures) + \"th time. Process reset to x0.\")\n",
        "manifold_reflected_brownian_motion.py:218: UserWarning: Newton iteration failed for the 492th time. Process reset to x0.\n",
        "  + str(self.newton_failures) + \"th time. Process reset to x0.\")\n",
        "manifold_reflected_brownian_motion.py:218: UserWarning: Newton iteration failed for the 493th time. Process reset to x0.\n",
        "  + str(self.newton_failures) + \"th time. Process reset to x0.\")\n",
        "manifold_reflected_brownian_motion.py:218: UserWarning: Newton iteration failed for the 494th time. Process reset to x0.\n",
        "  + str(self.newton_failures) + \"th time. Process reset to x0.\")\n"
       ]
      },
      {
       "output_type": "stream",
       "stream": "stderr",
       "text": [
        "manifold_reflected_brownian_motion.py:218: UserWarning: Newton iteration failed for the 495th time. Process reset to x0.\n",
        "  + str(self.newton_failures) + \"th time. Process reset to x0.\")\n",
        "manifold_reflected_brownian_motion.py:218: UserWarning: Newton iteration failed for the 496th time. Process reset to x0.\n",
        "  + str(self.newton_failures) + \"th time. Process reset to x0.\")\n",
        "manifold_reflected_brownian_motion.py:218: UserWarning: Newton iteration failed for the 497th time. Process reset to x0.\n",
        "  + str(self.newton_failures) + \"th time. Process reset to x0.\")\n",
        "manifold_reflected_brownian_motion.py:218: UserWarning: Newton iteration failed for the 498th time. Process reset to x0.\n",
        "  + str(self.newton_failures) + \"th time. Process reset to x0.\")\n"
       ]
      },
      {
       "output_type": "stream",
       "stream": "stderr",
       "text": [
        "manifold_reflected_brownian_motion.py:218: UserWarning: Newton iteration failed for the 499th time. Process reset to x0.\n",
        "  + str(self.newton_failures) + \"th time. Process reset to x0.\")\n",
        "manifold_reflected_brownian_motion.py:218: UserWarning: Newton iteration failed for the 500th time. Process reset to x0.\n",
        "  + str(self.newton_failures) + \"th time. Process reset to x0.\")\n",
        "manifold_reflected_brownian_motion.py:218: UserWarning: Newton iteration failed for the 501th time. Process reset to x0.\n",
        "  + str(self.newton_failures) + \"th time. Process reset to x0.\")\n",
        "manifold_reflected_brownian_motion.py:218: UserWarning: Newton iteration failed for the 502th time. Process reset to x0.\n",
        "  + str(self.newton_failures) + \"th time. Process reset to x0.\")\n"
       ]
      },
      {
       "output_type": "stream",
       "stream": "stderr",
       "text": [
        "manifold_reflected_brownian_motion.py:218: UserWarning: Newton iteration failed for the 503th time. Process reset to x0.\n",
        "  + str(self.newton_failures) + \"th time. Process reset to x0.\")\n",
        "manifold_reflected_brownian_motion.py:218: UserWarning: Newton iteration failed for the 504th time. Process reset to x0.\n",
        "  + str(self.newton_failures) + \"th time. Process reset to x0.\")\n",
        "manifold_reflected_brownian_motion.py:218: UserWarning: Newton iteration failed for the 505th time. Process reset to x0.\n",
        "  + str(self.newton_failures) + \"th time. Process reset to x0.\")\n",
        "manifold_reflected_brownian_motion.py:218: UserWarning: Newton iteration failed for the 506th time. Process reset to x0.\n",
        "  + str(self.newton_failures) + \"th time. Process reset to x0.\")\n"
       ]
      },
      {
       "output_type": "stream",
       "stream": "stderr",
       "text": [
        "manifold_reflected_brownian_motion.py:218: UserWarning: Newton iteration failed for the 507th time. Process reset to x0.\n",
        "  + str(self.newton_failures) + \"th time. Process reset to x0.\")\n",
        "manifold_reflected_brownian_motion.py:218: UserWarning: Newton iteration failed for the 508th time. Process reset to x0.\n",
        "  + str(self.newton_failures) + \"th time. Process reset to x0.\")\n",
        "manifold_reflected_brownian_motion.py:218: UserWarning: Newton iteration failed for the 509th time. Process reset to x0.\n",
        "  + str(self.newton_failures) + \"th time. Process reset to x0.\")\n",
        "manifold_reflected_brownian_motion.py:218: UserWarning: Newton iteration failed for the 510th time. Process reset to x0.\n",
        "  + str(self.newton_failures) + \"th time. Process reset to x0.\")\n"
       ]
      },
      {
       "output_type": "stream",
       "stream": "stderr",
       "text": [
        "manifold_reflected_brownian_motion.py:218: UserWarning: Newton iteration failed for the 511th time. Process reset to x0.\n",
        "  + str(self.newton_failures) + \"th time. Process reset to x0.\")\n",
        "manifold_reflected_brownian_motion.py:218: UserWarning: Newton iteration failed for the 512th time. Process reset to x0.\n",
        "  + str(self.newton_failures) + \"th time. Process reset to x0.\")\n",
        "manifold_reflected_brownian_motion.py:218: UserWarning: Newton iteration failed for the 513th time. Process reset to x0.\n",
        "  + str(self.newton_failures) + \"th time. Process reset to x0.\")\n",
        "manifold_reflected_brownian_motion.py:218: UserWarning: Newton iteration failed for the 514th time. Process reset to x0.\n",
        "  + str(self.newton_failures) + \"th time. Process reset to x0.\")\n"
       ]
      },
      {
       "output_type": "stream",
       "stream": "stderr",
       "text": [
        "manifold_reflected_brownian_motion.py:218: UserWarning: Newton iteration failed for the 515th time. Process reset to x0.\n",
        "  + str(self.newton_failures) + \"th time. Process reset to x0.\")\n",
        "manifold_reflected_brownian_motion.py:218: UserWarning: Newton iteration failed for the 516th time. Process reset to x0.\n",
        "  + str(self.newton_failures) + \"th time. Process reset to x0.\")\n",
        "manifold_reflected_brownian_motion.py:218: UserWarning: Newton iteration failed for the 517th time. Process reset to x0.\n",
        "  + str(self.newton_failures) + \"th time. Process reset to x0.\")\n",
        "manifold_reflected_brownian_motion.py:218: UserWarning: Newton iteration failed for the 518th time. Process reset to x0.\n",
        "  + str(self.newton_failures) + \"th time. Process reset to x0.\")\n"
       ]
      },
      {
       "output_type": "stream",
       "stream": "stderr",
       "text": [
        "manifold_reflected_brownian_motion.py:218: UserWarning: Newton iteration failed for the 519th time. Process reset to x0.\n",
        "  + str(self.newton_failures) + \"th time. Process reset to x0.\")\n",
        "manifold_reflected_brownian_motion.py:218: UserWarning: Newton iteration failed for the 520th time. Process reset to x0.\n",
        "  + str(self.newton_failures) + \"th time. Process reset to x0.\")\n",
        "manifold_reflected_brownian_motion.py:218: UserWarning: Newton iteration failed for the 521th time. Process reset to x0.\n",
        "  + str(self.newton_failures) + \"th time. Process reset to x0.\")\n",
        "manifold_reflected_brownian_motion.py:218: UserWarning: Newton iteration failed for the 522th time. Process reset to x0.\n",
        "  + str(self.newton_failures) + \"th time. Process reset to x0.\")\n"
       ]
      },
      {
       "output_type": "stream",
       "stream": "stderr",
       "text": [
        "manifold_reflected_brownian_motion.py:218: UserWarning: Newton iteration failed for the 523th time. Process reset to x0.\n",
        "  + str(self.newton_failures) + \"th time. Process reset to x0.\")\n",
        "manifold_reflected_brownian_motion.py:218: UserWarning: Newton iteration failed for the 524th time. Process reset to x0.\n",
        "  + str(self.newton_failures) + \"th time. Process reset to x0.\")\n",
        "manifold_reflected_brownian_motion.py:218: UserWarning: Newton iteration failed for the 525th time. Process reset to x0.\n",
        "  + str(self.newton_failures) + \"th time. Process reset to x0.\")\n",
        "manifold_reflected_brownian_motion.py:218: UserWarning: Newton iteration failed for the 526th time. Process reset to x0.\n",
        "  + str(self.newton_failures) + \"th time. Process reset to x0.\")\n"
       ]
      },
      {
       "output_type": "stream",
       "stream": "stderr",
       "text": [
        "manifold_reflected_brownian_motion.py:218: UserWarning: Newton iteration failed for the 527th time. Process reset to x0.\n",
        "  + str(self.newton_failures) + \"th time. Process reset to x0.\")\n",
        "manifold_reflected_brownian_motion.py:218: UserWarning: Newton iteration failed for the 528th time. Process reset to x0.\n",
        "  + str(self.newton_failures) + \"th time. Process reset to x0.\")\n",
        "manifold_reflected_brownian_motion.py:218: UserWarning: Newton iteration failed for the 529th time. Process reset to x0.\n",
        "  + str(self.newton_failures) + \"th time. Process reset to x0.\")\n",
        "manifold_reflected_brownian_motion.py:218: UserWarning: Newton iteration failed for the 530th time. Process reset to x0.\n",
        "  + str(self.newton_failures) + \"th time. Process reset to x0.\")\n"
       ]
      },
      {
       "output_type": "stream",
       "stream": "stderr",
       "text": [
        "manifold_reflected_brownian_motion.py:218: UserWarning: Newton iteration failed for the 531th time. Process reset to x0.\n",
        "  + str(self.newton_failures) + \"th time. Process reset to x0.\")\n",
        "manifold_reflected_brownian_motion.py:218: UserWarning: Newton iteration failed for the 532th time. Process reset to x0.\n",
        "  + str(self.newton_failures) + \"th time. Process reset to x0.\")\n",
        "manifold_reflected_brownian_motion.py:218: UserWarning: Newton iteration failed for the 533th time. Process reset to x0.\n",
        "  + str(self.newton_failures) + \"th time. Process reset to x0.\")\n",
        "manifold_reflected_brownian_motion.py:218: UserWarning: Newton iteration failed for the 534th time. Process reset to x0.\n",
        "  + str(self.newton_failures) + \"th time. Process reset to x0.\")\n"
       ]
      },
      {
       "output_type": "stream",
       "stream": "stderr",
       "text": [
        "manifold_reflected_brownian_motion.py:218: UserWarning: Newton iteration failed for the 535th time. Process reset to x0.\n",
        "  + str(self.newton_failures) + \"th time. Process reset to x0.\")\n",
        "manifold_reflected_brownian_motion.py:218: UserWarning: Newton iteration failed for the 536th time. Process reset to x0.\n",
        "  + str(self.newton_failures) + \"th time. Process reset to x0.\")\n",
        "manifold_reflected_brownian_motion.py:218: UserWarning: Newton iteration failed for the 537th time. Process reset to x0.\n",
        "  + str(self.newton_failures) + \"th time. Process reset to x0.\")\n",
        "manifold_reflected_brownian_motion.py:218: UserWarning: Newton iteration failed for the 538th time. Process reset to x0.\n",
        "  + str(self.newton_failures) + \"th time. Process reset to x0.\")\n"
       ]
      },
      {
       "output_type": "stream",
       "stream": "stderr",
       "text": [
        "manifold_reflected_brownian_motion.py:218: UserWarning: Newton iteration failed for the 539th time. Process reset to x0.\n",
        "  + str(self.newton_failures) + \"th time. Process reset to x0.\")\n",
        "manifold_reflected_brownian_motion.py:218: UserWarning: Newton iteration failed for the 540th time. Process reset to x0.\n",
        "  + str(self.newton_failures) + \"th time. Process reset to x0.\")\n",
        "manifold_reflected_brownian_motion.py:218: UserWarning: Newton iteration failed for the 541th time. Process reset to x0.\n",
        "  + str(self.newton_failures) + \"th time. Process reset to x0.\")\n",
        "manifold_reflected_brownian_motion.py:218: UserWarning: Newton iteration failed for the 542th time. Process reset to x0.\n",
        "  + str(self.newton_failures) + \"th time. Process reset to x0.\")\n"
       ]
      },
      {
       "output_type": "stream",
       "stream": "stderr",
       "text": [
        "manifold_reflected_brownian_motion.py:218: UserWarning: Newton iteration failed for the 543th time. Process reset to x0.\n",
        "  + str(self.newton_failures) + \"th time. Process reset to x0.\")\n",
        "manifold_reflected_brownian_motion.py:218: UserWarning: Newton iteration failed for the 544th time. Process reset to x0.\n",
        "  + str(self.newton_failures) + \"th time. Process reset to x0.\")\n",
        "manifold_reflected_brownian_motion.py:218: UserWarning: Newton iteration failed for the 545th time. Process reset to x0.\n",
        "  + str(self.newton_failures) + \"th time. Process reset to x0.\")\n",
        "manifold_reflected_brownian_motion.py:218: UserWarning: Newton iteration failed for the 546th time. Process reset to x0.\n",
        "  + str(self.newton_failures) + \"th time. Process reset to x0.\")\n"
       ]
      },
      {
       "output_type": "stream",
       "stream": "stderr",
       "text": [
        "manifold_reflected_brownian_motion.py:218: UserWarning: Newton iteration failed for the 547th time. Process reset to x0.\n",
        "  + str(self.newton_failures) + \"th time. Process reset to x0.\")\n",
        "manifold_reflected_brownian_motion.py:218: UserWarning: Newton iteration failed for the 548th time. Process reset to x0.\n",
        "  + str(self.newton_failures) + \"th time. Process reset to x0.\")\n",
        "manifold_reflected_brownian_motion.py:218: UserWarning: Newton iteration failed for the 549th time. Process reset to x0.\n",
        "  + str(self.newton_failures) + \"th time. Process reset to x0.\")\n",
        "manifold_reflected_brownian_motion.py:218: UserWarning: Newton iteration failed for the 550th time. Process reset to x0.\n",
        "  + str(self.newton_failures) + \"th time. Process reset to x0.\")\n"
       ]
      },
      {
       "output_type": "stream",
       "stream": "stderr",
       "text": [
        "manifold_reflected_brownian_motion.py:218: UserWarning: Newton iteration failed for the 551th time. Process reset to x0.\n",
        "  + str(self.newton_failures) + \"th time. Process reset to x0.\")\n",
        "manifold_reflected_brownian_motion.py:218: UserWarning: Newton iteration failed for the 552th time. Process reset to x0.\n",
        "  + str(self.newton_failures) + \"th time. Process reset to x0.\")\n",
        "manifold_reflected_brownian_motion.py:218: UserWarning: Newton iteration failed for the 553th time. Process reset to x0.\n",
        "  + str(self.newton_failures) + \"th time. Process reset to x0.\")\n",
        "manifold_reflected_brownian_motion.py:218: UserWarning: Newton iteration failed for the 554th time. Process reset to x0.\n",
        "  + str(self.newton_failures) + \"th time. Process reset to x0.\")\n"
       ]
      },
      {
       "output_type": "stream",
       "stream": "stderr",
       "text": [
        "manifold_reflected_brownian_motion.py:218: UserWarning: Newton iteration failed for the 555th time. Process reset to x0.\n",
        "  + str(self.newton_failures) + \"th time. Process reset to x0.\")\n",
        "manifold_reflected_brownian_motion.py:218: UserWarning: Newton iteration failed for the 556th time. Process reset to x0.\n",
        "  + str(self.newton_failures) + \"th time. Process reset to x0.\")\n",
        "manifold_reflected_brownian_motion.py:218: UserWarning: Newton iteration failed for the 557th time. Process reset to x0.\n",
        "  + str(self.newton_failures) + \"th time. Process reset to x0.\")\n",
        "manifold_reflected_brownian_motion.py:218: UserWarning: Newton iteration failed for the 558th time. Process reset to x0.\n",
        "  + str(self.newton_failures) + \"th time. Process reset to x0.\")\n"
       ]
      },
      {
       "output_type": "stream",
       "stream": "stderr",
       "text": [
        "manifold_reflected_brownian_motion.py:218: UserWarning: Newton iteration failed for the 559th time. Process reset to x0.\n",
        "  + str(self.newton_failures) + \"th time. Process reset to x0.\")\n",
        "manifold_reflected_brownian_motion.py:218: UserWarning: Newton iteration failed for the 560th time. Process reset to x0.\n",
        "  + str(self.newton_failures) + \"th time. Process reset to x0.\")\n",
        "manifold_reflected_brownian_motion.py:218: UserWarning: Newton iteration failed for the 561th time. Process reset to x0.\n",
        "  + str(self.newton_failures) + \"th time. Process reset to x0.\")\n",
        "manifold_reflected_brownian_motion.py:218: UserWarning: Newton iteration failed for the 562th time. Process reset to x0.\n",
        "  + str(self.newton_failures) + \"th time. Process reset to x0.\")\n"
       ]
      },
      {
       "output_type": "stream",
       "stream": "stderr",
       "text": [
        "manifold_reflected_brownian_motion.py:218: UserWarning: Newton iteration failed for the 563th time. Process reset to x0.\n",
        "  + str(self.newton_failures) + \"th time. Process reset to x0.\")\n",
        "manifold_reflected_brownian_motion.py:218: UserWarning: Newton iteration failed for the 564th time. Process reset to x0.\n",
        "  + str(self.newton_failures) + \"th time. Process reset to x0.\")\n",
        "manifold_reflected_brownian_motion.py:218: UserWarning: Newton iteration failed for the 565th time. Process reset to x0.\n",
        "  + str(self.newton_failures) + \"th time. Process reset to x0.\")\n",
        "manifold_reflected_brownian_motion.py:218: UserWarning: Newton iteration failed for the 566th time. Process reset to x0.\n",
        "  + str(self.newton_failures) + \"th time. Process reset to x0.\")\n"
       ]
      },
      {
       "output_type": "stream",
       "stream": "stderr",
       "text": [
        "manifold_reflected_brownian_motion.py:218: UserWarning: Newton iteration failed for the 567th time. Process reset to x0.\n",
        "  + str(self.newton_failures) + \"th time. Process reset to x0.\")\n",
        "manifold_reflected_brownian_motion.py:218: UserWarning: Newton iteration failed for the 568th time. Process reset to x0.\n",
        "  + str(self.newton_failures) + \"th time. Process reset to x0.\")\n",
        "manifold_reflected_brownian_motion.py:218: UserWarning: Newton iteration failed for the 569th time. Process reset to x0.\n",
        "  + str(self.newton_failures) + \"th time. Process reset to x0.\")\n",
        "manifold_reflected_brownian_motion.py:218: UserWarning: Newton iteration failed for the 570th time. Process reset to x0.\n",
        "  + str(self.newton_failures) + \"th time. Process reset to x0.\")\n"
       ]
      },
      {
       "output_type": "stream",
       "stream": "stderr",
       "text": [
        "manifold_reflected_brownian_motion.py:218: UserWarning: Newton iteration failed for the 571th time. Process reset to x0.\n",
        "  + str(self.newton_failures) + \"th time. Process reset to x0.\")\n",
        "manifold_reflected_brownian_motion.py:218: UserWarning: Newton iteration failed for the 572th time. Process reset to x0.\n",
        "  + str(self.newton_failures) + \"th time. Process reset to x0.\")\n",
        "manifold_reflected_brownian_motion.py:218: UserWarning: Newton iteration failed for the 573th time. Process reset to x0.\n",
        "  + str(self.newton_failures) + \"th time. Process reset to x0.\")\n",
        "manifold_reflected_brownian_motion.py:218: UserWarning: Newton iteration failed for the 574th time. Process reset to x0.\n",
        "  + str(self.newton_failures) + \"th time. Process reset to x0.\")\n"
       ]
      },
      {
       "output_type": "stream",
       "stream": "stderr",
       "text": [
        "manifold_reflected_brownian_motion.py:218: UserWarning: Newton iteration failed for the 575th time. Process reset to x0.\n",
        "  + str(self.newton_failures) + \"th time. Process reset to x0.\")\n",
        "manifold_reflected_brownian_motion.py:218: UserWarning: Newton iteration failed for the 576th time. Process reset to x0.\n",
        "  + str(self.newton_failures) + \"th time. Process reset to x0.\")\n",
        "manifold_reflected_brownian_motion.py:218: UserWarning: Newton iteration failed for the 577th time. Process reset to x0.\n",
        "  + str(self.newton_failures) + \"th time. Process reset to x0.\")\n",
        "manifold_reflected_brownian_motion.py:218: UserWarning: Newton iteration failed for the 578th time. Process reset to x0.\n",
        "  + str(self.newton_failures) + \"th time. Process reset to x0.\")\n"
       ]
      },
      {
       "output_type": "stream",
       "stream": "stderr",
       "text": [
        "manifold_reflected_brownian_motion.py:218: UserWarning: Newton iteration failed for the 579th time. Process reset to x0.\n",
        "  + str(self.newton_failures) + \"th time. Process reset to x0.\")\n",
        "manifold_reflected_brownian_motion.py:218: UserWarning: Newton iteration failed for the 580th time. Process reset to x0.\n",
        "  + str(self.newton_failures) + \"th time. Process reset to x0.\")\n",
        "manifold_reflected_brownian_motion.py:218: UserWarning: Newton iteration failed for the 581th time. Process reset to x0.\n",
        "  + str(self.newton_failures) + \"th time. Process reset to x0.\")\n",
        "manifold_reflected_brownian_motion.py:218: UserWarning: Newton iteration failed for the 582th time. Process reset to x0.\n",
        "  + str(self.newton_failures) + \"th time. Process reset to x0.\")\n"
       ]
      },
      {
       "output_type": "stream",
       "stream": "stderr",
       "text": [
        "manifold_reflected_brownian_motion.py:218: UserWarning: Newton iteration failed for the 583th time. Process reset to x0.\n",
        "  + str(self.newton_failures) + \"th time. Process reset to x0.\")\n",
        "manifold_reflected_brownian_motion.py:218: UserWarning: Newton iteration failed for the 584th time. Process reset to x0.\n",
        "  + str(self.newton_failures) + \"th time. Process reset to x0.\")\n",
        "manifold_reflected_brownian_motion.py:218: UserWarning: Newton iteration failed for the 585th time. Process reset to x0.\n",
        "  + str(self.newton_failures) + \"th time. Process reset to x0.\")\n",
        "manifold_reflected_brownian_motion.py:218: UserWarning: Newton iteration failed for the 586th time. Process reset to x0.\n",
        "  + str(self.newton_failures) + \"th time. Process reset to x0.\")\n"
       ]
      },
      {
       "output_type": "stream",
       "stream": "stderr",
       "text": [
        "manifold_reflected_brownian_motion.py:218: UserWarning: Newton iteration failed for the 587th time. Process reset to x0.\n",
        "  + str(self.newton_failures) + \"th time. Process reset to x0.\")\n",
        "manifold_reflected_brownian_motion.py:218: UserWarning: Newton iteration failed for the 588th time. Process reset to x0.\n",
        "  + str(self.newton_failures) + \"th time. Process reset to x0.\")\n",
        "manifold_reflected_brownian_motion.py:218: UserWarning: Newton iteration failed for the 589th time. Process reset to x0.\n",
        "  + str(self.newton_failures) + \"th time. Process reset to x0.\")\n",
        "manifold_reflected_brownian_motion.py:218: UserWarning: Newton iteration failed for the 590th time. Process reset to x0.\n",
        "  + str(self.newton_failures) + \"th time. Process reset to x0.\")\n"
       ]
      },
      {
       "output_type": "stream",
       "stream": "stderr",
       "text": [
        "manifold_reflected_brownian_motion.py:218: UserWarning: Newton iteration failed for the 591th time. Process reset to x0.\n",
        "  + str(self.newton_failures) + \"th time. Process reset to x0.\")\n",
        "manifold_reflected_brownian_motion.py:218: UserWarning: Newton iteration failed for the 592th time. Process reset to x0.\n",
        "  + str(self.newton_failures) + \"th time. Process reset to x0.\")\n",
        "manifold_reflected_brownian_motion.py:218: UserWarning: Newton iteration failed for the 593th time. Process reset to x0.\n",
        "  + str(self.newton_failures) + \"th time. Process reset to x0.\")\n",
        "manifold_reflected_brownian_motion.py:218: UserWarning: Newton iteration failed for the 594th time. Process reset to x0.\n",
        "  + str(self.newton_failures) + \"th time. Process reset to x0.\")\n"
       ]
      },
      {
       "output_type": "stream",
       "stream": "stderr",
       "text": [
        "manifold_reflected_brownian_motion.py:218: UserWarning: Newton iteration failed for the 595th time. Process reset to x0.\n",
        "  + str(self.newton_failures) + \"th time. Process reset to x0.\")\n",
        "manifold_reflected_brownian_motion.py:218: UserWarning: Newton iteration failed for the 596th time. Process reset to x0.\n",
        "  + str(self.newton_failures) + \"th time. Process reset to x0.\")\n",
        "manifold_reflected_brownian_motion.py:218: UserWarning: Newton iteration failed for the 597th time. Process reset to x0.\n",
        "  + str(self.newton_failures) + \"th time. Process reset to x0.\")\n",
        "manifold_reflected_brownian_motion.py:218: UserWarning: Newton iteration failed for the 598th time. Process reset to x0.\n",
        "  + str(self.newton_failures) + \"th time. Process reset to x0.\")\n"
       ]
      },
      {
       "output_type": "stream",
       "stream": "stderr",
       "text": [
        "manifold_reflected_brownian_motion.py:218: UserWarning: Newton iteration failed for the 599th time. Process reset to x0.\n",
        "  + str(self.newton_failures) + \"th time. Process reset to x0.\")\n",
        "manifold_reflected_brownian_motion.py:218: UserWarning: Newton iteration failed for the 600th time. Process reset to x0.\n",
        "  + str(self.newton_failures) + \"th time. Process reset to x0.\")\n",
        "manifold_reflected_brownian_motion.py:218: UserWarning: Newton iteration failed for the 601th time. Process reset to x0.\n",
        "  + str(self.newton_failures) + \"th time. Process reset to x0.\")\n",
        "manifold_reflected_brownian_motion.py:218: UserWarning: Newton iteration failed for the 602th time. Process reset to x0.\n",
        "  + str(self.newton_failures) + \"th time. Process reset to x0.\")\n"
       ]
      },
      {
       "output_type": "stream",
       "stream": "stderr",
       "text": [
        "manifold_reflected_brownian_motion.py:218: UserWarning: Newton iteration failed for the 603th time. Process reset to x0.\n",
        "  + str(self.newton_failures) + \"th time. Process reset to x0.\")\n",
        "manifold_reflected_brownian_motion.py:218: UserWarning: Newton iteration failed for the 604th time. Process reset to x0.\n",
        "  + str(self.newton_failures) + \"th time. Process reset to x0.\")\n",
        "manifold_reflected_brownian_motion.py:218: UserWarning: Newton iteration failed for the 605th time. Process reset to x0.\n",
        "  + str(self.newton_failures) + \"th time. Process reset to x0.\")\n",
        "manifold_reflected_brownian_motion.py:218: UserWarning: Newton iteration failed for the 606th time. Process reset to x0.\n",
        "  + str(self.newton_failures) + \"th time. Process reset to x0.\")\n"
       ]
      },
      {
       "output_type": "stream",
       "stream": "stderr",
       "text": [
        "manifold_reflected_brownian_motion.py:218: UserWarning: Newton iteration failed for the 607th time. Process reset to x0.\n",
        "  + str(self.newton_failures) + \"th time. Process reset to x0.\")\n",
        "manifold_reflected_brownian_motion.py:218: UserWarning: Newton iteration failed for the 608th time. Process reset to x0.\n",
        "  + str(self.newton_failures) + \"th time. Process reset to x0.\")\n",
        "manifold_reflected_brownian_motion.py:218: UserWarning: Newton iteration failed for the 609th time. Process reset to x0.\n",
        "  + str(self.newton_failures) + \"th time. Process reset to x0.\")\n",
        "manifold_reflected_brownian_motion.py:218: UserWarning: Newton iteration failed for the 610th time. Process reset to x0.\n",
        "  + str(self.newton_failures) + \"th time. Process reset to x0.\")\n"
       ]
      },
      {
       "output_type": "stream",
       "stream": "stderr",
       "text": [
        "manifold_reflected_brownian_motion.py:218: UserWarning: Newton iteration failed for the 611th time. Process reset to x0.\n",
        "  + str(self.newton_failures) + \"th time. Process reset to x0.\")\n",
        "manifold_reflected_brownian_motion.py:218: UserWarning: Newton iteration failed for the 612th time. Process reset to x0.\n",
        "  + str(self.newton_failures) + \"th time. Process reset to x0.\")\n",
        "manifold_reflected_brownian_motion.py:218: UserWarning: Newton iteration failed for the 613th time. Process reset to x0.\n",
        "  + str(self.newton_failures) + \"th time. Process reset to x0.\")\n",
        "manifold_reflected_brownian_motion.py:218: UserWarning: Newton iteration failed for the 614th time. Process reset to x0.\n",
        "  + str(self.newton_failures) + \"th time. Process reset to x0.\")\n"
       ]
      },
      {
       "output_type": "stream",
       "stream": "stderr",
       "text": [
        "manifold_reflected_brownian_motion.py:218: UserWarning: Newton iteration failed for the 615th time. Process reset to x0.\n",
        "  + str(self.newton_failures) + \"th time. Process reset to x0.\")\n",
        "manifold_reflected_brownian_motion.py:218: UserWarning: Newton iteration failed for the 616th time. Process reset to x0.\n",
        "  + str(self.newton_failures) + \"th time. Process reset to x0.\")\n",
        "manifold_reflected_brownian_motion.py:218: UserWarning: Newton iteration failed for the 617th time. Process reset to x0.\n",
        "  + str(self.newton_failures) + \"th time. Process reset to x0.\")\n",
        "manifold_reflected_brownian_motion.py:218: UserWarning: Newton iteration failed for the 618th time. Process reset to x0.\n",
        "  + str(self.newton_failures) + \"th time. Process reset to x0.\")\n"
       ]
      },
      {
       "output_type": "stream",
       "stream": "stderr",
       "text": [
        "manifold_reflected_brownian_motion.py:218: UserWarning: Newton iteration failed for the 619th time. Process reset to x0.\n",
        "  + str(self.newton_failures) + \"th time. Process reset to x0.\")\n",
        "manifold_reflected_brownian_motion.py:218: UserWarning: Newton iteration failed for the 620th time. Process reset to x0.\n",
        "  + str(self.newton_failures) + \"th time. Process reset to x0.\")\n",
        "manifold_reflected_brownian_motion.py:218: UserWarning: Newton iteration failed for the 621th time. Process reset to x0.\n",
        "  + str(self.newton_failures) + \"th time. Process reset to x0.\")\n",
        "manifold_reflected_brownian_motion.py:218: UserWarning: Newton iteration failed for the 622th time. Process reset to x0.\n",
        "  + str(self.newton_failures) + \"th time. Process reset to x0.\")\n"
       ]
      },
      {
       "output_type": "stream",
       "stream": "stderr",
       "text": [
        "manifold_reflected_brownian_motion.py:218: UserWarning: Newton iteration failed for the 623th time. Process reset to x0.\n",
        "  + str(self.newton_failures) + \"th time. Process reset to x0.\")\n",
        "manifold_reflected_brownian_motion.py:218: UserWarning: Newton iteration failed for the 624th time. Process reset to x0.\n",
        "  + str(self.newton_failures) + \"th time. Process reset to x0.\")\n",
        "manifold_reflected_brownian_motion.py:218: UserWarning: Newton iteration failed for the 625th time. Process reset to x0.\n",
        "  + str(self.newton_failures) + \"th time. Process reset to x0.\")\n",
        "manifold_reflected_brownian_motion.py:218: UserWarning: Newton iteration failed for the 626th time. Process reset to x0.\n",
        "  + str(self.newton_failures) + \"th time. Process reset to x0.\")\n"
       ]
      },
      {
       "output_type": "stream",
       "stream": "stderr",
       "text": [
        "manifold_reflected_brownian_motion.py:218: UserWarning: Newton iteration failed for the 627th time. Process reset to x0.\n",
        "  + str(self.newton_failures) + \"th time. Process reset to x0.\")\n",
        "manifold_reflected_brownian_motion.py:218: UserWarning: Newton iteration failed for the 628th time. Process reset to x0.\n",
        "  + str(self.newton_failures) + \"th time. Process reset to x0.\")\n",
        "manifold_reflected_brownian_motion.py:218: UserWarning: Newton iteration failed for the 629th time. Process reset to x0.\n",
        "  + str(self.newton_failures) + \"th time. Process reset to x0.\")\n",
        "manifold_reflected_brownian_motion.py:218: UserWarning: Newton iteration failed for the 630th time. Process reset to x0.\n",
        "  + str(self.newton_failures) + \"th time. Process reset to x0.\")\n"
       ]
      },
      {
       "output_type": "stream",
       "stream": "stderr",
       "text": [
        "manifold_reflected_brownian_motion.py:218: UserWarning: Newton iteration failed for the 631th time. Process reset to x0.\n",
        "  + str(self.newton_failures) + \"th time. Process reset to x0.\")\n",
        "manifold_reflected_brownian_motion.py:218: UserWarning: Newton iteration failed for the 632th time. Process reset to x0.\n",
        "  + str(self.newton_failures) + \"th time. Process reset to x0.\")\n",
        "manifold_reflected_brownian_motion.py:218: UserWarning: Newton iteration failed for the 633th time. Process reset to x0.\n",
        "  + str(self.newton_failures) + \"th time. Process reset to x0.\")\n",
        "manifold_reflected_brownian_motion.py:218: UserWarning: Newton iteration failed for the 634th time. Process reset to x0.\n",
        "  + str(self.newton_failures) + \"th time. Process reset to x0.\")\n"
       ]
      },
      {
       "output_type": "stream",
       "stream": "stderr",
       "text": [
        "manifold_reflected_brownian_motion.py:218: UserWarning: Newton iteration failed for the 635th time. Process reset to x0.\n",
        "  + str(self.newton_failures) + \"th time. Process reset to x0.\")\n",
        "manifold_reflected_brownian_motion.py:218: UserWarning: Newton iteration failed for the 636th time. Process reset to x0.\n",
        "  + str(self.newton_failures) + \"th time. Process reset to x0.\")\n",
        "manifold_reflected_brownian_motion.py:218: UserWarning: Newton iteration failed for the 637th time. Process reset to x0.\n",
        "  + str(self.newton_failures) + \"th time. Process reset to x0.\")\n",
        "manifold_reflected_brownian_motion.py:218: UserWarning: Newton iteration failed for the 638th time. Process reset to x0.\n",
        "  + str(self.newton_failures) + \"th time. Process reset to x0.\")\n"
       ]
      },
      {
       "output_type": "stream",
       "stream": "stderr",
       "text": [
        "manifold_reflected_brownian_motion.py:218: UserWarning: Newton iteration failed for the 639th time. Process reset to x0.\n",
        "  + str(self.newton_failures) + \"th time. Process reset to x0.\")\n",
        "manifold_reflected_brownian_motion.py:218: UserWarning: Newton iteration failed for the 640th time. Process reset to x0.\n",
        "  + str(self.newton_failures) + \"th time. Process reset to x0.\")\n",
        "manifold_reflected_brownian_motion.py:218: UserWarning: Newton iteration failed for the 641th time. Process reset to x0.\n",
        "  + str(self.newton_failures) + \"th time. Process reset to x0.\")\n",
        "manifold_reflected_brownian_motion.py:218: UserWarning: Newton iteration failed for the 642th time. Process reset to x0.\n",
        "  + str(self.newton_failures) + \"th time. Process reset to x0.\")\n"
       ]
      },
      {
       "output_type": "stream",
       "stream": "stderr",
       "text": [
        "manifold_reflected_brownian_motion.py:218: UserWarning: Newton iteration failed for the 643th time. Process reset to x0.\n",
        "  + str(self.newton_failures) + \"th time. Process reset to x0.\")\n",
        "manifold_reflected_brownian_motion.py:218: UserWarning: Newton iteration failed for the 644th time. Process reset to x0.\n",
        "  + str(self.newton_failures) + \"th time. Process reset to x0.\")\n",
        "manifold_reflected_brownian_motion.py:218: UserWarning: Newton iteration failed for the 645th time. Process reset to x0.\n",
        "  + str(self.newton_failures) + \"th time. Process reset to x0.\")\n",
        "manifold_reflected_brownian_motion.py:218: UserWarning: Newton iteration failed for the 646th time. Process reset to x0.\n",
        "  + str(self.newton_failures) + \"th time. Process reset to x0.\")\n"
       ]
      },
      {
       "output_type": "stream",
       "stream": "stderr",
       "text": [
        "manifold_reflected_brownian_motion.py:218: UserWarning: Newton iteration failed for the 647th time. Process reset to x0.\n",
        "  + str(self.newton_failures) + \"th time. Process reset to x0.\")\n",
        "manifold_reflected_brownian_motion.py:218: UserWarning: Newton iteration failed for the 648th time. Process reset to x0.\n",
        "  + str(self.newton_failures) + \"th time. Process reset to x0.\")\n",
        "manifold_reflected_brownian_motion.py:218: UserWarning: Newton iteration failed for the 649th time. Process reset to x0.\n",
        "  + str(self.newton_failures) + \"th time. Process reset to x0.\")\n",
        "manifold_reflected_brownian_motion.py:218: UserWarning: Newton iteration failed for the 650th time. Process reset to x0.\n",
        "  + str(self.newton_failures) + \"th time. Process reset to x0.\")\n"
       ]
      },
      {
       "output_type": "stream",
       "stream": "stderr",
       "text": [
        "manifold_reflected_brownian_motion.py:218: UserWarning: Newton iteration failed for the 651th time. Process reset to x0.\n",
        "  + str(self.newton_failures) + \"th time. Process reset to x0.\")\n",
        "manifold_reflected_brownian_motion.py:218: UserWarning: Newton iteration failed for the 652th time. Process reset to x0.\n",
        "  + str(self.newton_failures) + \"th time. Process reset to x0.\")\n",
        "manifold_reflected_brownian_motion.py:218: UserWarning: Newton iteration failed for the 653th time. Process reset to x0.\n",
        "  + str(self.newton_failures) + \"th time. Process reset to x0.\")\n",
        "manifold_reflected_brownian_motion.py:218: UserWarning: Newton iteration failed for the 654th time. Process reset to x0.\n",
        "  + str(self.newton_failures) + \"th time. Process reset to x0.\")\n"
       ]
      },
      {
       "output_type": "stream",
       "stream": "stderr",
       "text": [
        "manifold_reflected_brownian_motion.py:218: UserWarning: Newton iteration failed for the 655th time. Process reset to x0.\n",
        "  + str(self.newton_failures) + \"th time. Process reset to x0.\")\n",
        "manifold_reflected_brownian_motion.py:218: UserWarning: Newton iteration failed for the 656th time. Process reset to x0.\n",
        "  + str(self.newton_failures) + \"th time. Process reset to x0.\")\n",
        "manifold_reflected_brownian_motion.py:218: UserWarning: Newton iteration failed for the 657th time. Process reset to x0.\n",
        "  + str(self.newton_failures) + \"th time. Process reset to x0.\")\n",
        "manifold_reflected_brownian_motion.py:218: UserWarning: Newton iteration failed for the 658th time. Process reset to x0.\n",
        "  + str(self.newton_failures) + \"th time. Process reset to x0.\")\n",
        "manifold_reflected_brownian_motion.py:218: UserWarning: Newton iteration failed for the 659th time. Process reset to x0.\n",
        "  + str(self.newton_failures) + \"th time. Process reset to x0.\")\n"
       ]
      },
      {
       "output_type": "stream",
       "stream": "stderr",
       "text": [
        "manifold_reflected_brownian_motion.py:218: UserWarning: Newton iteration failed for the 660th time. Process reset to x0.\n",
        "  + str(self.newton_failures) + \"th time. Process reset to x0.\")\n",
        "manifold_reflected_brownian_motion.py:218: UserWarning: Newton iteration failed for the 661th time. Process reset to x0.\n",
        "  + str(self.newton_failures) + \"th time. Process reset to x0.\")\n",
        "manifold_reflected_brownian_motion.py:218: UserWarning: Newton iteration failed for the 662th time. Process reset to x0.\n",
        "  + str(self.newton_failures) + \"th time. Process reset to x0.\")\n",
        "manifold_reflected_brownian_motion.py:218: UserWarning: Newton iteration failed for the 663th time. Process reset to x0.\n",
        "  + str(self.newton_failures) + \"th time. Process reset to x0.\")\n"
       ]
      },
      {
       "output_type": "stream",
       "stream": "stderr",
       "text": [
        "manifold_reflected_brownian_motion.py:218: UserWarning: Newton iteration failed for the 664th time. Process reset to x0.\n",
        "  + str(self.newton_failures) + \"th time. Process reset to x0.\")\n",
        "manifold_reflected_brownian_motion.py:218: UserWarning: Newton iteration failed for the 665th time. Process reset to x0.\n",
        "  + str(self.newton_failures) + \"th time. Process reset to x0.\")\n",
        "manifold_reflected_brownian_motion.py:218: UserWarning: Newton iteration failed for the 666th time. Process reset to x0.\n",
        "  + str(self.newton_failures) + \"th time. Process reset to x0.\")\n",
        "manifold_reflected_brownian_motion.py:218: UserWarning: Newton iteration failed for the 667th time. Process reset to x0.\n",
        "  + str(self.newton_failures) + \"th time. Process reset to x0.\")\n"
       ]
      },
      {
       "output_type": "stream",
       "stream": "stderr",
       "text": [
        "manifold_reflected_brownian_motion.py:218: UserWarning: Newton iteration failed for the 668th time. Process reset to x0.\n",
        "  + str(self.newton_failures) + \"th time. Process reset to x0.\")\n",
        "manifold_reflected_brownian_motion.py:218: UserWarning: Newton iteration failed for the 669th time. Process reset to x0.\n",
        "  + str(self.newton_failures) + \"th time. Process reset to x0.\")\n",
        "manifold_reflected_brownian_motion.py:218: UserWarning: Newton iteration failed for the 670th time. Process reset to x0.\n",
        "  + str(self.newton_failures) + \"th time. Process reset to x0.\")\n",
        "manifold_reflected_brownian_motion.py:218: UserWarning: Newton iteration failed for the 671th time. Process reset to x0.\n",
        "  + str(self.newton_failures) + \"th time. Process reset to x0.\")\n"
       ]
      },
      {
       "output_type": "stream",
       "stream": "stderr",
       "text": [
        "manifold_reflected_brownian_motion.py:218: UserWarning: Newton iteration failed for the 672th time. Process reset to x0.\n",
        "  + str(self.newton_failures) + \"th time. Process reset to x0.\")\n",
        "manifold_reflected_brownian_motion.py:218: UserWarning: Newton iteration failed for the 673th time. Process reset to x0.\n",
        "  + str(self.newton_failures) + \"th time. Process reset to x0.\")\n",
        "manifold_reflected_brownian_motion.py:218: UserWarning: Newton iteration failed for the 674th time. Process reset to x0.\n",
        "  + str(self.newton_failures) + \"th time. Process reset to x0.\")\n",
        "manifold_reflected_brownian_motion.py:218: UserWarning: Newton iteration failed for the 675th time. Process reset to x0.\n",
        "  + str(self.newton_failures) + \"th time. Process reset to x0.\")\n"
       ]
      },
      {
       "output_type": "stream",
       "stream": "stderr",
       "text": [
        "manifold_reflected_brownian_motion.py:218: UserWarning: Newton iteration failed for the 676th time. Process reset to x0.\n",
        "  + str(self.newton_failures) + \"th time. Process reset to x0.\")\n",
        "manifold_reflected_brownian_motion.py:218: UserWarning: Newton iteration failed for the 677th time. Process reset to x0.\n",
        "  + str(self.newton_failures) + \"th time. Process reset to x0.\")\n",
        "manifold_reflected_brownian_motion.py:218: UserWarning: Newton iteration failed for the 678th time. Process reset to x0.\n",
        "  + str(self.newton_failures) + \"th time. Process reset to x0.\")\n",
        "manifold_reflected_brownian_motion.py:218: UserWarning: Newton iteration failed for the 679th time. Process reset to x0.\n",
        "  + str(self.newton_failures) + \"th time. Process reset to x0.\")\n"
       ]
      },
      {
       "output_type": "stream",
       "stream": "stderr",
       "text": [
        "manifold_reflected_brownian_motion.py:218: UserWarning: Newton iteration failed for the 680th time. Process reset to x0.\n",
        "  + str(self.newton_failures) + \"th time. Process reset to x0.\")\n",
        "manifold_reflected_brownian_motion.py:218: UserWarning: Newton iteration failed for the 681th time. Process reset to x0.\n",
        "  + str(self.newton_failures) + \"th time. Process reset to x0.\")\n",
        "manifold_reflected_brownian_motion.py:218: UserWarning: Newton iteration failed for the 682th time. Process reset to x0.\n",
        "  + str(self.newton_failures) + \"th time. Process reset to x0.\")\n",
        "manifold_reflected_brownian_motion.py:218: UserWarning: Newton iteration failed for the 683th time. Process reset to x0.\n",
        "  + str(self.newton_failures) + \"th time. Process reset to x0.\")\n"
       ]
      },
      {
       "output_type": "stream",
       "stream": "stderr",
       "text": [
        "manifold_reflected_brownian_motion.py:218: UserWarning: Newton iteration failed for the 684th time. Process reset to x0.\n",
        "  + str(self.newton_failures) + \"th time. Process reset to x0.\")\n",
        "manifold_reflected_brownian_motion.py:218: UserWarning: Newton iteration failed for the 685th time. Process reset to x0.\n",
        "  + str(self.newton_failures) + \"th time. Process reset to x0.\")\n",
        "manifold_reflected_brownian_motion.py:218: UserWarning: Newton iteration failed for the 686th time. Process reset to x0.\n",
        "  + str(self.newton_failures) + \"th time. Process reset to x0.\")\n",
        "manifold_reflected_brownian_motion.py:218: UserWarning: Newton iteration failed for the 687th time. Process reset to x0.\n",
        "  + str(self.newton_failures) + \"th time. Process reset to x0.\")\n"
       ]
      },
      {
       "output_type": "stream",
       "stream": "stderr",
       "text": [
        "manifold_reflected_brownian_motion.py:218: UserWarning: Newton iteration failed for the 688th time. Process reset to x0.\n",
        "  + str(self.newton_failures) + \"th time. Process reset to x0.\")\n",
        "manifold_reflected_brownian_motion.py:218: UserWarning: Newton iteration failed for the 689th time. Process reset to x0.\n",
        "  + str(self.newton_failures) + \"th time. Process reset to x0.\")\n",
        "manifold_reflected_brownian_motion.py:218: UserWarning: Newton iteration failed for the 690th time. Process reset to x0.\n",
        "  + str(self.newton_failures) + \"th time. Process reset to x0.\")\n",
        "manifold_reflected_brownian_motion.py:218: UserWarning: Newton iteration failed for the 691th time. Process reset to x0.\n",
        "  + str(self.newton_failures) + \"th time. Process reset to x0.\")\n"
       ]
      },
      {
       "output_type": "stream",
       "stream": "stderr",
       "text": [
        "manifold_reflected_brownian_motion.py:218: UserWarning: Newton iteration failed for the 692th time. Process reset to x0.\n",
        "  + str(self.newton_failures) + \"th time. Process reset to x0.\")\n",
        "manifold_reflected_brownian_motion.py:218: UserWarning: Newton iteration failed for the 693th time. Process reset to x0.\n",
        "  + str(self.newton_failures) + \"th time. Process reset to x0.\")\n",
        "manifold_reflected_brownian_motion.py:218: UserWarning: Newton iteration failed for the 694th time. Process reset to x0.\n",
        "  + str(self.newton_failures) + \"th time. Process reset to x0.\")\n",
        "manifold_reflected_brownian_motion.py:218: UserWarning: Newton iteration failed for the 695th time. Process reset to x0.\n",
        "  + str(self.newton_failures) + \"th time. Process reset to x0.\")\n"
       ]
      },
      {
       "output_type": "stream",
       "stream": "stderr",
       "text": [
        "manifold_reflected_brownian_motion.py:218: UserWarning: Newton iteration failed for the 696th time. Process reset to x0.\n",
        "  + str(self.newton_failures) + \"th time. Process reset to x0.\")\n",
        "manifold_reflected_brownian_motion.py:218: UserWarning: Newton iteration failed for the 697th time. Process reset to x0.\n",
        "  + str(self.newton_failures) + \"th time. Process reset to x0.\")\n",
        "manifold_reflected_brownian_motion.py:218: UserWarning: Newton iteration failed for the 698th time. Process reset to x0.\n",
        "  + str(self.newton_failures) + \"th time. Process reset to x0.\")\n",
        "manifold_reflected_brownian_motion.py:218: UserWarning: Newton iteration failed for the 699th time. Process reset to x0.\n",
        "  + str(self.newton_failures) + \"th time. Process reset to x0.\")\n"
       ]
      },
      {
       "output_type": "stream",
       "stream": "stderr",
       "text": [
        "manifold_reflected_brownian_motion.py:218: UserWarning: Newton iteration failed for the 700th time. Process reset to x0.\n",
        "  + str(self.newton_failures) + \"th time. Process reset to x0.\")\n",
        "manifold_reflected_brownian_motion.py:218: UserWarning: Newton iteration failed for the 701th time. Process reset to x0.\n",
        "  + str(self.newton_failures) + \"th time. Process reset to x0.\")\n",
        "manifold_reflected_brownian_motion.py:218: UserWarning: Newton iteration failed for the 702th time. Process reset to x0.\n",
        "  + str(self.newton_failures) + \"th time. Process reset to x0.\")\n",
        "manifold_reflected_brownian_motion.py:218: UserWarning: Newton iteration failed for the 703th time. Process reset to x0.\n",
        "  + str(self.newton_failures) + \"th time. Process reset to x0.\")\n"
       ]
      },
      {
       "output_type": "stream",
       "stream": "stderr",
       "text": [
        "manifold_reflected_brownian_motion.py:218: UserWarning: Newton iteration failed for the 704th time. Process reset to x0.\n",
        "  + str(self.newton_failures) + \"th time. Process reset to x0.\")\n",
        "manifold_reflected_brownian_motion.py:218: UserWarning: Newton iteration failed for the 705th time. Process reset to x0.\n",
        "  + str(self.newton_failures) + \"th time. Process reset to x0.\")\n",
        "manifold_reflected_brownian_motion.py:218: UserWarning: Newton iteration failed for the 706th time. Process reset to x0.\n",
        "  + str(self.newton_failures) + \"th time. Process reset to x0.\")\n",
        "manifold_reflected_brownian_motion.py:218: UserWarning: Newton iteration failed for the 707th time. Process reset to x0.\n",
        "  + str(self.newton_failures) + \"th time. Process reset to x0.\")\n"
       ]
      },
      {
       "output_type": "stream",
       "stream": "stderr",
       "text": [
        "manifold_reflected_brownian_motion.py:218: UserWarning: Newton iteration failed for the 708th time. Process reset to x0.\n",
        "  + str(self.newton_failures) + \"th time. Process reset to x0.\")\n",
        "manifold_reflected_brownian_motion.py:218: UserWarning: Newton iteration failed for the 709th time. Process reset to x0.\n",
        "  + str(self.newton_failures) + \"th time. Process reset to x0.\")\n",
        "manifold_reflected_brownian_motion.py:218: UserWarning: Newton iteration failed for the 710th time. Process reset to x0.\n",
        "  + str(self.newton_failures) + \"th time. Process reset to x0.\")\n",
        "manifold_reflected_brownian_motion.py:218: UserWarning: Newton iteration failed for the 711th time. Process reset to x0.\n",
        "  + str(self.newton_failures) + \"th time. Process reset to x0.\")\n"
       ]
      },
      {
       "output_type": "stream",
       "stream": "stderr",
       "text": [
        "manifold_reflected_brownian_motion.py:218: UserWarning: Newton iteration failed for the 712th time. Process reset to x0.\n",
        "  + str(self.newton_failures) + \"th time. Process reset to x0.\")\n",
        "manifold_reflected_brownian_motion.py:218: UserWarning: Newton iteration failed for the 713th time. Process reset to x0.\n",
        "  + str(self.newton_failures) + \"th time. Process reset to x0.\")\n",
        "manifold_reflected_brownian_motion.py:218: UserWarning: Newton iteration failed for the 714th time. Process reset to x0.\n",
        "  + str(self.newton_failures) + \"th time. Process reset to x0.\")\n",
        "manifold_reflected_brownian_motion.py:218: UserWarning: Newton iteration failed for the 715th time. Process reset to x0.\n",
        "  + str(self.newton_failures) + \"th time. Process reset to x0.\")\n"
       ]
      },
      {
       "output_type": "stream",
       "stream": "stderr",
       "text": [
        "manifold_reflected_brownian_motion.py:218: UserWarning: Newton iteration failed for the 716th time. Process reset to x0.\n",
        "  + str(self.newton_failures) + \"th time. Process reset to x0.\")\n",
        "manifold_reflected_brownian_motion.py:218: UserWarning: Newton iteration failed for the 717th time. Process reset to x0.\n",
        "  + str(self.newton_failures) + \"th time. Process reset to x0.\")\n",
        "manifold_reflected_brownian_motion.py:218: UserWarning: Newton iteration failed for the 718th time. Process reset to x0.\n",
        "  + str(self.newton_failures) + \"th time. Process reset to x0.\")\n",
        "manifold_reflected_brownian_motion.py:218: UserWarning: Newton iteration failed for the 719th time. Process reset to x0.\n",
        "  + str(self.newton_failures) + \"th time. Process reset to x0.\")\n"
       ]
      },
      {
       "output_type": "stream",
       "stream": "stderr",
       "text": [
        "manifold_reflected_brownian_motion.py:218: UserWarning: Newton iteration failed for the 720th time. Process reset to x0.\n",
        "  + str(self.newton_failures) + \"th time. Process reset to x0.\")\n",
        "manifold_reflected_brownian_motion.py:218: UserWarning: Newton iteration failed for the 721th time. Process reset to x0.\n",
        "  + str(self.newton_failures) + \"th time. Process reset to x0.\")\n",
        "manifold_reflected_brownian_motion.py:218: UserWarning: Newton iteration failed for the 722th time. Process reset to x0.\n",
        "  + str(self.newton_failures) + \"th time. Process reset to x0.\")\n",
        "manifold_reflected_brownian_motion.py:218: UserWarning: Newton iteration failed for the 723th time. Process reset to x0.\n",
        "  + str(self.newton_failures) + \"th time. Process reset to x0.\")\n"
       ]
      },
      {
       "output_type": "stream",
       "stream": "stderr",
       "text": [
        "manifold_reflected_brownian_motion.py:218: UserWarning: Newton iteration failed for the 724th time. Process reset to x0.\n",
        "  + str(self.newton_failures) + \"th time. Process reset to x0.\")\n",
        "manifold_reflected_brownian_motion.py:218: UserWarning: Newton iteration failed for the 725th time. Process reset to x0.\n",
        "  + str(self.newton_failures) + \"th time. Process reset to x0.\")\n",
        "manifold_reflected_brownian_motion.py:218: UserWarning: Newton iteration failed for the 726th time. Process reset to x0.\n",
        "  + str(self.newton_failures) + \"th time. Process reset to x0.\")\n",
        "manifold_reflected_brownian_motion.py:218: UserWarning: Newton iteration failed for the 727th time. Process reset to x0.\n",
        "  + str(self.newton_failures) + \"th time. Process reset to x0.\")\n"
       ]
      },
      {
       "output_type": "stream",
       "stream": "stderr",
       "text": [
        "manifold_reflected_brownian_motion.py:218: UserWarning: Newton iteration failed for the 728th time. Process reset to x0.\n",
        "  + str(self.newton_failures) + \"th time. Process reset to x0.\")\n",
        "manifold_reflected_brownian_motion.py:218: UserWarning: Newton iteration failed for the 729th time. Process reset to x0.\n",
        "  + str(self.newton_failures) + \"th time. Process reset to x0.\")\n",
        "manifold_reflected_brownian_motion.py:218: UserWarning: Newton iteration failed for the 730th time. Process reset to x0.\n",
        "  + str(self.newton_failures) + \"th time. Process reset to x0.\")\n",
        "manifold_reflected_brownian_motion.py:218: UserWarning: Newton iteration failed for the 731th time. Process reset to x0.\n",
        "  + str(self.newton_failures) + \"th time. Process reset to x0.\")\n"
       ]
      },
      {
       "output_type": "stream",
       "stream": "stderr",
       "text": [
        "manifold_reflected_brownian_motion.py:218: UserWarning: Newton iteration failed for the 732th time. Process reset to x0.\n",
        "  + str(self.newton_failures) + \"th time. Process reset to x0.\")\n",
        "manifold_reflected_brownian_motion.py:218: UserWarning: Newton iteration failed for the 733th time. Process reset to x0.\n",
        "  + str(self.newton_failures) + \"th time. Process reset to x0.\")\n",
        "manifold_reflected_brownian_motion.py:218: UserWarning: Newton iteration failed for the 734th time. Process reset to x0.\n",
        "  + str(self.newton_failures) + \"th time. Process reset to x0.\")\n",
        "manifold_reflected_brownian_motion.py:218: UserWarning: Newton iteration failed for the 735th time. Process reset to x0.\n",
        "  + str(self.newton_failures) + \"th time. Process reset to x0.\")\n"
       ]
      },
      {
       "output_type": "stream",
       "stream": "stderr",
       "text": [
        "manifold_reflected_brownian_motion.py:218: UserWarning: Newton iteration failed for the 736th time. Process reset to x0.\n",
        "  + str(self.newton_failures) + \"th time. Process reset to x0.\")\n",
        "manifold_reflected_brownian_motion.py:218: UserWarning: Newton iteration failed for the 737th time. Process reset to x0.\n",
        "  + str(self.newton_failures) + \"th time. Process reset to x0.\")\n",
        "manifold_reflected_brownian_motion.py:218: UserWarning: Newton iteration failed for the 738th time. Process reset to x0.\n",
        "  + str(self.newton_failures) + \"th time. Process reset to x0.\")\n",
        "manifold_reflected_brownian_motion.py:218: UserWarning: Newton iteration failed for the 739th time. Process reset to x0.\n",
        "  + str(self.newton_failures) + \"th time. Process reset to x0.\")\n"
       ]
      },
      {
       "output_type": "stream",
       "stream": "stderr",
       "text": [
        "manifold_reflected_brownian_motion.py:218: UserWarning: Newton iteration failed for the 740th time. Process reset to x0.\n",
        "  + str(self.newton_failures) + \"th time. Process reset to x0.\")\n",
        "manifold_reflected_brownian_motion.py:218: UserWarning: Newton iteration failed for the 741th time. Process reset to x0.\n",
        "  + str(self.newton_failures) + \"th time. Process reset to x0.\")\n",
        "manifold_reflected_brownian_motion.py:218: UserWarning: Newton iteration failed for the 742th time. Process reset to x0.\n",
        "  + str(self.newton_failures) + \"th time. Process reset to x0.\")\n",
        "manifold_reflected_brownian_motion.py:218: UserWarning: Newton iteration failed for the 743th time. Process reset to x0.\n",
        "  + str(self.newton_failures) + \"th time. Process reset to x0.\")\n"
       ]
      },
      {
       "output_type": "stream",
       "stream": "stderr",
       "text": [
        "manifold_reflected_brownian_motion.py:218: UserWarning: Newton iteration failed for the 744th time. Process reset to x0.\n",
        "  + str(self.newton_failures) + \"th time. Process reset to x0.\")\n",
        "manifold_reflected_brownian_motion.py:218: UserWarning: Newton iteration failed for the 745th time. Process reset to x0.\n",
        "  + str(self.newton_failures) + \"th time. Process reset to x0.\")\n",
        "manifold_reflected_brownian_motion.py:218: UserWarning: Newton iteration failed for the 746th time. Process reset to x0.\n",
        "  + str(self.newton_failures) + \"th time. Process reset to x0.\")\n",
        "manifold_reflected_brownian_motion.py:218: UserWarning: Newton iteration failed for the 747th time. Process reset to x0.\n",
        "  + str(self.newton_failures) + \"th time. Process reset to x0.\")\n"
       ]
      },
      {
       "output_type": "stream",
       "stream": "stderr",
       "text": [
        "manifold_reflected_brownian_motion.py:218: UserWarning: Newton iteration failed for the 748th time. Process reset to x0.\n",
        "  + str(self.newton_failures) + \"th time. Process reset to x0.\")\n",
        "manifold_reflected_brownian_motion.py:218: UserWarning: Newton iteration failed for the 749th time. Process reset to x0.\n",
        "  + str(self.newton_failures) + \"th time. Process reset to x0.\")\n",
        "manifold_reflected_brownian_motion.py:218: UserWarning: Newton iteration failed for the 750th time. Process reset to x0.\n",
        "  + str(self.newton_failures) + \"th time. Process reset to x0.\")\n",
        "manifold_reflected_brownian_motion.py:218: UserWarning: Newton iteration failed for the 751th time. Process reset to x0.\n",
        "  + str(self.newton_failures) + \"th time. Process reset to x0.\")\n"
       ]
      },
      {
       "output_type": "stream",
       "stream": "stderr",
       "text": [
        "manifold_reflected_brownian_motion.py:218: UserWarning: Newton iteration failed for the 752th time. Process reset to x0.\n",
        "  + str(self.newton_failures) + \"th time. Process reset to x0.\")\n",
        "manifold_reflected_brownian_motion.py:218: UserWarning: Newton iteration failed for the 753th time. Process reset to x0.\n",
        "  + str(self.newton_failures) + \"th time. Process reset to x0.\")\n",
        "manifold_reflected_brownian_motion.py:218: UserWarning: Newton iteration failed for the 754th time. Process reset to x0.\n",
        "  + str(self.newton_failures) + \"th time. Process reset to x0.\")\n",
        "manifold_reflected_brownian_motion.py:218: UserWarning: Newton iteration failed for the 755th time. Process reset to x0.\n",
        "  + str(self.newton_failures) + \"th time. Process reset to x0.\")\n"
       ]
      },
      {
       "output_type": "stream",
       "stream": "stderr",
       "text": [
        "manifold_reflected_brownian_motion.py:218: UserWarning: Newton iteration failed for the 756th time. Process reset to x0.\n",
        "  + str(self.newton_failures) + \"th time. Process reset to x0.\")\n",
        "manifold_reflected_brownian_motion.py:218: UserWarning: Newton iteration failed for the 757th time. Process reset to x0.\n",
        "  + str(self.newton_failures) + \"th time. Process reset to x0.\")\n",
        "manifold_reflected_brownian_motion.py:218: UserWarning: Newton iteration failed for the 758th time. Process reset to x0.\n",
        "  + str(self.newton_failures) + \"th time. Process reset to x0.\")\n",
        "manifold_reflected_brownian_motion.py:218: UserWarning: Newton iteration failed for the 759th time. Process reset to x0.\n",
        "  + str(self.newton_failures) + \"th time. Process reset to x0.\")\n"
       ]
      },
      {
       "output_type": "stream",
       "stream": "stderr",
       "text": [
        "manifold_reflected_brownian_motion.py:218: UserWarning: Newton iteration failed for the 760th time. Process reset to x0.\n",
        "  + str(self.newton_failures) + \"th time. Process reset to x0.\")\n",
        "manifold_reflected_brownian_motion.py:218: UserWarning: Newton iteration failed for the 761th time. Process reset to x0.\n",
        "  + str(self.newton_failures) + \"th time. Process reset to x0.\")\n",
        "manifold_reflected_brownian_motion.py:218: UserWarning: Newton iteration failed for the 762th time. Process reset to x0.\n",
        "  + str(self.newton_failures) + \"th time. Process reset to x0.\")\n",
        "manifold_reflected_brownian_motion.py:218: UserWarning: Newton iteration failed for the 763th time. Process reset to x0.\n",
        "  + str(self.newton_failures) + \"th time. Process reset to x0.\")\n"
       ]
      },
      {
       "output_type": "stream",
       "stream": "stderr",
       "text": [
        "manifold_reflected_brownian_motion.py:218: UserWarning: Newton iteration failed for the 764th time. Process reset to x0.\n",
        "  + str(self.newton_failures) + \"th time. Process reset to x0.\")\n",
        "manifold_reflected_brownian_motion.py:218: UserWarning: Newton iteration failed for the 765th time. Process reset to x0.\n",
        "  + str(self.newton_failures) + \"th time. Process reset to x0.\")\n",
        "manifold_reflected_brownian_motion.py:218: UserWarning: Newton iteration failed for the 766th time. Process reset to x0.\n",
        "  + str(self.newton_failures) + \"th time. Process reset to x0.\")\n",
        "manifold_reflected_brownian_motion.py:218: UserWarning: Newton iteration failed for the 767th time. Process reset to x0.\n",
        "  + str(self.newton_failures) + \"th time. Process reset to x0.\")\n"
       ]
      },
      {
       "output_type": "stream",
       "stream": "stderr",
       "text": [
        "manifold_reflected_brownian_motion.py:218: UserWarning: Newton iteration failed for the 768th time. Process reset to x0.\n",
        "  + str(self.newton_failures) + \"th time. Process reset to x0.\")\n",
        "manifold_reflected_brownian_motion.py:218: UserWarning: Newton iteration failed for the 769th time. Process reset to x0.\n",
        "  + str(self.newton_failures) + \"th time. Process reset to x0.\")\n",
        "manifold_reflected_brownian_motion.py:218: UserWarning: Newton iteration failed for the 770th time. Process reset to x0.\n",
        "  + str(self.newton_failures) + \"th time. Process reset to x0.\")\n",
        "manifold_reflected_brownian_motion.py:218: UserWarning: Newton iteration failed for the 771th time. Process reset to x0.\n",
        "  + str(self.newton_failures) + \"th time. Process reset to x0.\")\n"
       ]
      },
      {
       "output_type": "stream",
       "stream": "stderr",
       "text": [
        "manifold_reflected_brownian_motion.py:218: UserWarning: Newton iteration failed for the 772th time. Process reset to x0.\n",
        "  + str(self.newton_failures) + \"th time. Process reset to x0.\")\n",
        "manifold_reflected_brownian_motion.py:218: UserWarning: Newton iteration failed for the 773th time. Process reset to x0.\n",
        "  + str(self.newton_failures) + \"th time. Process reset to x0.\")\n",
        "manifold_reflected_brownian_motion.py:218: UserWarning: Newton iteration failed for the 774th time. Process reset to x0.\n",
        "  + str(self.newton_failures) + \"th time. Process reset to x0.\")\n",
        "manifold_reflected_brownian_motion.py:218: UserWarning: Newton iteration failed for the 775th time. Process reset to x0.\n",
        "  + str(self.newton_failures) + \"th time. Process reset to x0.\")\n"
       ]
      },
      {
       "output_type": "stream",
       "stream": "stderr",
       "text": [
        "manifold_reflected_brownian_motion.py:218: UserWarning: Newton iteration failed for the 776th time. Process reset to x0.\n",
        "  + str(self.newton_failures) + \"th time. Process reset to x0.\")\n",
        "manifold_reflected_brownian_motion.py:218: UserWarning: Newton iteration failed for the 777th time. Process reset to x0.\n",
        "  + str(self.newton_failures) + \"th time. Process reset to x0.\")\n",
        "manifold_reflected_brownian_motion.py:218: UserWarning: Newton iteration failed for the 778th time. Process reset to x0.\n",
        "  + str(self.newton_failures) + \"th time. Process reset to x0.\")\n",
        "manifold_reflected_brownian_motion.py:218: UserWarning: Newton iteration failed for the 779th time. Process reset to x0.\n",
        "  + str(self.newton_failures) + \"th time. Process reset to x0.\")\n"
       ]
      },
      {
       "output_type": "stream",
       "stream": "stderr",
       "text": [
        "manifold_reflected_brownian_motion.py:218: UserWarning: Newton iteration failed for the 780th time. Process reset to x0.\n",
        "  + str(self.newton_failures) + \"th time. Process reset to x0.\")\n",
        "manifold_reflected_brownian_motion.py:218: UserWarning: Newton iteration failed for the 781th time. Process reset to x0.\n",
        "  + str(self.newton_failures) + \"th time. Process reset to x0.\")\n",
        "manifold_reflected_brownian_motion.py:218: UserWarning: Newton iteration failed for the 782th time. Process reset to x0.\n",
        "  + str(self.newton_failures) + \"th time. Process reset to x0.\")\n",
        "manifold_reflected_brownian_motion.py:218: UserWarning: Newton iteration failed for the 783th time. Process reset to x0.\n",
        "  + str(self.newton_failures) + \"th time. Process reset to x0.\")\n"
       ]
      },
      {
       "output_type": "stream",
       "stream": "stderr",
       "text": [
        "manifold_reflected_brownian_motion.py:218: UserWarning: Newton iteration failed for the 784th time. Process reset to x0.\n",
        "  + str(self.newton_failures) + \"th time. Process reset to x0.\")\n",
        "manifold_reflected_brownian_motion.py:218: UserWarning: Newton iteration failed for the 785th time. Process reset to x0.\n",
        "  + str(self.newton_failures) + \"th time. Process reset to x0.\")\n",
        "manifold_reflected_brownian_motion.py:218: UserWarning: Newton iteration failed for the 786th time. Process reset to x0.\n",
        "  + str(self.newton_failures) + \"th time. Process reset to x0.\")\n",
        "manifold_reflected_brownian_motion.py:218: UserWarning: Newton iteration failed for the 787th time. Process reset to x0.\n",
        "  + str(self.newton_failures) + \"th time. Process reset to x0.\")\n"
       ]
      },
      {
       "output_type": "stream",
       "stream": "stderr",
       "text": [
        "manifold_reflected_brownian_motion.py:218: UserWarning: Newton iteration failed for the 788th time. Process reset to x0.\n",
        "  + str(self.newton_failures) + \"th time. Process reset to x0.\")\n",
        "manifold_reflected_brownian_motion.py:218: UserWarning: Newton iteration failed for the 789th time. Process reset to x0.\n",
        "  + str(self.newton_failures) + \"th time. Process reset to x0.\")\n",
        "manifold_reflected_brownian_motion.py:218: UserWarning: Newton iteration failed for the 790th time. Process reset to x0.\n",
        "  + str(self.newton_failures) + \"th time. Process reset to x0.\")\n",
        "manifold_reflected_brownian_motion.py:218: UserWarning: Newton iteration failed for the 791th time. Process reset to x0.\n",
        "  + str(self.newton_failures) + \"th time. Process reset to x0.\")\n"
       ]
      },
      {
       "output_type": "stream",
       "stream": "stderr",
       "text": [
        "manifold_reflected_brownian_motion.py:218: UserWarning: Newton iteration failed for the 792th time. Process reset to x0.\n",
        "  + str(self.newton_failures) + \"th time. Process reset to x0.\")\n",
        "manifold_reflected_brownian_motion.py:218: UserWarning: Newton iteration failed for the 793th time. Process reset to x0.\n",
        "  + str(self.newton_failures) + \"th time. Process reset to x0.\")\n",
        "manifold_reflected_brownian_motion.py:218: UserWarning: Newton iteration failed for the 794th time. Process reset to x0.\n",
        "  + str(self.newton_failures) + \"th time. Process reset to x0.\")\n",
        "manifold_reflected_brownian_motion.py:218: UserWarning: Newton iteration failed for the 795th time. Process reset to x0.\n",
        "  + str(self.newton_failures) + \"th time. Process reset to x0.\")\n"
       ]
      },
      {
       "output_type": "stream",
       "stream": "stderr",
       "text": [
        "manifold_reflected_brownian_motion.py:218: UserWarning: Newton iteration failed for the 796th time. Process reset to x0.\n",
        "  + str(self.newton_failures) + \"th time. Process reset to x0.\")\n",
        "manifold_reflected_brownian_motion.py:218: UserWarning: Newton iteration failed for the 797th time. Process reset to x0.\n",
        "  + str(self.newton_failures) + \"th time. Process reset to x0.\")\n",
        "manifold_reflected_brownian_motion.py:218: UserWarning: Newton iteration failed for the 798th time. Process reset to x0.\n",
        "  + str(self.newton_failures) + \"th time. Process reset to x0.\")\n",
        "manifold_reflected_brownian_motion.py:218: UserWarning: Newton iteration failed for the 799th time. Process reset to x0.\n",
        "  + str(self.newton_failures) + \"th time. Process reset to x0.\")\n"
       ]
      },
      {
       "output_type": "stream",
       "stream": "stderr",
       "text": [
        "manifold_reflected_brownian_motion.py:218: UserWarning: Newton iteration failed for the 800th time. Process reset to x0.\n",
        "  + str(self.newton_failures) + \"th time. Process reset to x0.\")\n",
        "manifold_reflected_brownian_motion.py:218: UserWarning: Newton iteration failed for the 801th time. Process reset to x0.\n",
        "  + str(self.newton_failures) + \"th time. Process reset to x0.\")\n",
        "manifold_reflected_brownian_motion.py:218: UserWarning: Newton iteration failed for the 802th time. Process reset to x0.\n",
        "  + str(self.newton_failures) + \"th time. Process reset to x0.\")\n",
        "manifold_reflected_brownian_motion.py:218: UserWarning: Newton iteration failed for the 803th time. Process reset to x0.\n",
        "  + str(self.newton_failures) + \"th time. Process reset to x0.\")\n"
       ]
      },
      {
       "output_type": "stream",
       "stream": "stderr",
       "text": [
        "manifold_reflected_brownian_motion.py:218: UserWarning: Newton iteration failed for the 804th time. Process reset to x0.\n",
        "  + str(self.newton_failures) + \"th time. Process reset to x0.\")\n",
        "manifold_reflected_brownian_motion.py:218: UserWarning: Newton iteration failed for the 805th time. Process reset to x0.\n",
        "  + str(self.newton_failures) + \"th time. Process reset to x0.\")\n",
        "manifold_reflected_brownian_motion.py:218: UserWarning: Newton iteration failed for the 806th time. Process reset to x0.\n",
        "  + str(self.newton_failures) + \"th time. Process reset to x0.\")\n",
        "manifold_reflected_brownian_motion.py:218: UserWarning: Newton iteration failed for the 807th time. Process reset to x0.\n",
        "  + str(self.newton_failures) + \"th time. Process reset to x0.\")\n"
       ]
      },
      {
       "output_type": "stream",
       "stream": "stderr",
       "text": [
        "manifold_reflected_brownian_motion.py:218: UserWarning: Newton iteration failed for the 808th time. Process reset to x0.\n",
        "  + str(self.newton_failures) + \"th time. Process reset to x0.\")\n",
        "manifold_reflected_brownian_motion.py:218: UserWarning: Newton iteration failed for the 809th time. Process reset to x0.\n",
        "  + str(self.newton_failures) + \"th time. Process reset to x0.\")\n",
        "manifold_reflected_brownian_motion.py:218: UserWarning: Newton iteration failed for the 810th time. Process reset to x0.\n",
        "  + str(self.newton_failures) + \"th time. Process reset to x0.\")\n",
        "manifold_reflected_brownian_motion.py:218: UserWarning: Newton iteration failed for the 811th time. Process reset to x0.\n",
        "  + str(self.newton_failures) + \"th time. Process reset to x0.\")\n"
       ]
      },
      {
       "output_type": "stream",
       "stream": "stderr",
       "text": [
        "manifold_reflected_brownian_motion.py:218: UserWarning: Newton iteration failed for the 812th time. Process reset to x0.\n",
        "  + str(self.newton_failures) + \"th time. Process reset to x0.\")\n",
        "manifold_reflected_brownian_motion.py:218: UserWarning: Newton iteration failed for the 813th time. Process reset to x0.\n",
        "  + str(self.newton_failures) + \"th time. Process reset to x0.\")\n",
        "manifold_reflected_brownian_motion.py:218: UserWarning: Newton iteration failed for the 814th time. Process reset to x0.\n",
        "  + str(self.newton_failures) + \"th time. Process reset to x0.\")\n",
        "manifold_reflected_brownian_motion.py:218: UserWarning: Newton iteration failed for the 815th time. Process reset to x0.\n",
        "  + str(self.newton_failures) + \"th time. Process reset to x0.\")\n"
       ]
      },
      {
       "output_type": "stream",
       "stream": "stderr",
       "text": [
        "manifold_reflected_brownian_motion.py:218: UserWarning: Newton iteration failed for the 816th time. Process reset to x0.\n",
        "  + str(self.newton_failures) + \"th time. Process reset to x0.\")\n",
        "manifold_reflected_brownian_motion.py:218: UserWarning: Newton iteration failed for the 817th time. Process reset to x0.\n",
        "  + str(self.newton_failures) + \"th time. Process reset to x0.\")\n",
        "manifold_reflected_brownian_motion.py:218: UserWarning: Newton iteration failed for the 818th time. Process reset to x0.\n",
        "  + str(self.newton_failures) + \"th time. Process reset to x0.\")\n",
        "manifold_reflected_brownian_motion.py:218: UserWarning: Newton iteration failed for the 819th time. Process reset to x0.\n",
        "  + str(self.newton_failures) + \"th time. Process reset to x0.\")\n"
       ]
      },
      {
       "output_type": "stream",
       "stream": "stderr",
       "text": [
        "manifold_reflected_brownian_motion.py:218: UserWarning: Newton iteration failed for the 820th time. Process reset to x0.\n",
        "  + str(self.newton_failures) + \"th time. Process reset to x0.\")\n",
        "manifold_reflected_brownian_motion.py:218: UserWarning: Newton iteration failed for the 821th time. Process reset to x0.\n",
        "  + str(self.newton_failures) + \"th time. Process reset to x0.\")\n",
        "manifold_reflected_brownian_motion.py:218: UserWarning: Newton iteration failed for the 822th time. Process reset to x0.\n",
        "  + str(self.newton_failures) + \"th time. Process reset to x0.\")\n",
        "manifold_reflected_brownian_motion.py:218: UserWarning: Newton iteration failed for the 823th time. Process reset to x0.\n",
        "  + str(self.newton_failures) + \"th time. Process reset to x0.\")\n",
        "manifold_reflected_brownian_motion.py:218: UserWarning: Newton iteration failed for the 824th time. Process reset to x0.\n",
        "  + str(self.newton_failures) + \"th time. Process reset to x0.\")\n"
       ]
      },
      {
       "output_type": "stream",
       "stream": "stderr",
       "text": [
        "manifold_reflected_brownian_motion.py:218: UserWarning: Newton iteration failed for the 825th time. Process reset to x0.\n",
        "  + str(self.newton_failures) + \"th time. Process reset to x0.\")\n",
        "manifold_reflected_brownian_motion.py:218: UserWarning: Newton iteration failed for the 826th time. Process reset to x0.\n",
        "  + str(self.newton_failures) + \"th time. Process reset to x0.\")\n",
        "manifold_reflected_brownian_motion.py:218: UserWarning: Newton iteration failed for the 827th time. Process reset to x0.\n",
        "  + str(self.newton_failures) + \"th time. Process reset to x0.\")\n",
        "manifold_reflected_brownian_motion.py:218: UserWarning: Newton iteration failed for the 828th time. Process reset to x0.\n",
        "  + str(self.newton_failures) + \"th time. Process reset to x0.\")\n"
       ]
      },
      {
       "output_type": "stream",
       "stream": "stderr",
       "text": [
        "manifold_reflected_brownian_motion.py:218: UserWarning: Newton iteration failed for the 829th time. Process reset to x0.\n",
        "  + str(self.newton_failures) + \"th time. Process reset to x0.\")\n",
        "manifold_reflected_brownian_motion.py:218: UserWarning: Newton iteration failed for the 830th time. Process reset to x0.\n",
        "  + str(self.newton_failures) + \"th time. Process reset to x0.\")\n",
        "manifold_reflected_brownian_motion.py:218: UserWarning: Newton iteration failed for the 831th time. Process reset to x0.\n",
        "  + str(self.newton_failures) + \"th time. Process reset to x0.\")\n",
        "manifold_reflected_brownian_motion.py:218: UserWarning: Newton iteration failed for the 832th time. Process reset to x0.\n",
        "  + str(self.newton_failures) + \"th time. Process reset to x0.\")\n"
       ]
      },
      {
       "output_type": "stream",
       "stream": "stderr",
       "text": [
        "manifold_reflected_brownian_motion.py:218: UserWarning: Newton iteration failed for the 833th time. Process reset to x0.\n",
        "  + str(self.newton_failures) + \"th time. Process reset to x0.\")\n",
        "manifold_reflected_brownian_motion.py:218: UserWarning: Newton iteration failed for the 834th time. Process reset to x0.\n",
        "  + str(self.newton_failures) + \"th time. Process reset to x0.\")\n",
        "manifold_reflected_brownian_motion.py:218: UserWarning: Newton iteration failed for the 835th time. Process reset to x0.\n",
        "  + str(self.newton_failures) + \"th time. Process reset to x0.\")\n",
        "manifold_reflected_brownian_motion.py:218: UserWarning: Newton iteration failed for the 836th time. Process reset to x0.\n",
        "  + str(self.newton_failures) + \"th time. Process reset to x0.\")\n",
        "manifold_reflected_brownian_motion.py:218: UserWarning: Newton iteration failed for the 837th time. Process reset to x0.\n",
        "  + str(self.newton_failures) + \"th time. Process reset to x0.\")\n"
       ]
      },
      {
       "output_type": "stream",
       "stream": "stderr",
       "text": [
        "manifold_reflected_brownian_motion.py:218: UserWarning: Newton iteration failed for the 838th time. Process reset to x0.\n",
        "  + str(self.newton_failures) + \"th time. Process reset to x0.\")\n",
        "manifold_reflected_brownian_motion.py:218: UserWarning: Newton iteration failed for the 839th time. Process reset to x0.\n",
        "  + str(self.newton_failures) + \"th time. Process reset to x0.\")\n",
        "manifold_reflected_brownian_motion.py:218: UserWarning: Newton iteration failed for the 840th time. Process reset to x0.\n",
        "  + str(self.newton_failures) + \"th time. Process reset to x0.\")\n",
        "manifold_reflected_brownian_motion.py:218: UserWarning: Newton iteration failed for the 841th time. Process reset to x0.\n",
        "  + str(self.newton_failures) + \"th time. Process reset to x0.\")\n"
       ]
      },
      {
       "output_type": "stream",
       "stream": "stderr",
       "text": [
        "manifold_reflected_brownian_motion.py:218: UserWarning: Newton iteration failed for the 842th time. Process reset to x0.\n",
        "  + str(self.newton_failures) + \"th time. Process reset to x0.\")\n",
        "manifold_reflected_brownian_motion.py:218: UserWarning: Newton iteration failed for the 843th time. Process reset to x0.\n",
        "  + str(self.newton_failures) + \"th time. Process reset to x0.\")\n",
        "manifold_reflected_brownian_motion.py:218: UserWarning: Newton iteration failed for the 844th time. Process reset to x0.\n",
        "  + str(self.newton_failures) + \"th time. Process reset to x0.\")\n",
        "manifold_reflected_brownian_motion.py:218: UserWarning: Newton iteration failed for the 845th time. Process reset to x0.\n",
        "  + str(self.newton_failures) + \"th time. Process reset to x0.\")\n"
       ]
      },
      {
       "output_type": "stream",
       "stream": "stderr",
       "text": [
        "manifold_reflected_brownian_motion.py:218: UserWarning: Newton iteration failed for the 846th time. Process reset to x0.\n",
        "  + str(self.newton_failures) + \"th time. Process reset to x0.\")\n",
        "manifold_reflected_brownian_motion.py:218: UserWarning: Newton iteration failed for the 847th time. Process reset to x0.\n",
        "  + str(self.newton_failures) + \"th time. Process reset to x0.\")\n",
        "manifold_reflected_brownian_motion.py:218: UserWarning: Newton iteration failed for the 848th time. Process reset to x0.\n",
        "  + str(self.newton_failures) + \"th time. Process reset to x0.\")\n",
        "manifold_reflected_brownian_motion.py:218: UserWarning: Newton iteration failed for the 849th time. Process reset to x0.\n",
        "  + str(self.newton_failures) + \"th time. Process reset to x0.\")\n"
       ]
      },
      {
       "output_type": "stream",
       "stream": "stderr",
       "text": [
        "manifold_reflected_brownian_motion.py:218: UserWarning: Newton iteration failed for the 850th time. Process reset to x0.\n",
        "  + str(self.newton_failures) + \"th time. Process reset to x0.\")\n",
        "manifold_reflected_brownian_motion.py:218: UserWarning: Newton iteration failed for the 851th time. Process reset to x0.\n",
        "  + str(self.newton_failures) + \"th time. Process reset to x0.\")\n",
        "manifold_reflected_brownian_motion.py:218: UserWarning: Newton iteration failed for the 852th time. Process reset to x0.\n",
        "  + str(self.newton_failures) + \"th time. Process reset to x0.\")\n",
        "manifold_reflected_brownian_motion.py:218: UserWarning: Newton iteration failed for the 853th time. Process reset to x0.\n",
        "  + str(self.newton_failures) + \"th time. Process reset to x0.\")\n"
       ]
      },
      {
       "output_type": "stream",
       "stream": "stderr",
       "text": [
        "manifold_reflected_brownian_motion.py:218: UserWarning: Newton iteration failed for the 854th time. Process reset to x0.\n",
        "  + str(self.newton_failures) + \"th time. Process reset to x0.\")\n",
        "manifold_reflected_brownian_motion.py:218: UserWarning: Newton iteration failed for the 855th time. Process reset to x0.\n",
        "  + str(self.newton_failures) + \"th time. Process reset to x0.\")\n",
        "manifold_reflected_brownian_motion.py:218: UserWarning: Newton iteration failed for the 856th time. Process reset to x0.\n",
        "  + str(self.newton_failures) + \"th time. Process reset to x0.\")\n",
        "manifold_reflected_brownian_motion.py:218: UserWarning: Newton iteration failed for the 857th time. Process reset to x0.\n",
        "  + str(self.newton_failures) + \"th time. Process reset to x0.\")\n"
       ]
      },
      {
       "output_type": "stream",
       "stream": "stderr",
       "text": [
        "manifold_reflected_brownian_motion.py:218: UserWarning: Newton iteration failed for the 858th time. Process reset to x0.\n",
        "  + str(self.newton_failures) + \"th time. Process reset to x0.\")\n",
        "manifold_reflected_brownian_motion.py:218: UserWarning: Newton iteration failed for the 859th time. Process reset to x0.\n",
        "  + str(self.newton_failures) + \"th time. Process reset to x0.\")\n",
        "manifold_reflected_brownian_motion.py:218: UserWarning: Newton iteration failed for the 860th time. Process reset to x0.\n",
        "  + str(self.newton_failures) + \"th time. Process reset to x0.\")\n",
        "manifold_reflected_brownian_motion.py:218: UserWarning: Newton iteration failed for the 861th time. Process reset to x0.\n",
        "  + str(self.newton_failures) + \"th time. Process reset to x0.\")\n"
       ]
      },
      {
       "output_type": "stream",
       "stream": "stderr",
       "text": [
        "manifold_reflected_brownian_motion.py:218: UserWarning: Newton iteration failed for the 862th time. Process reset to x0.\n",
        "  + str(self.newton_failures) + \"th time. Process reset to x0.\")\n",
        "manifold_reflected_brownian_motion.py:218: UserWarning: Newton iteration failed for the 863th time. Process reset to x0.\n",
        "  + str(self.newton_failures) + \"th time. Process reset to x0.\")\n",
        "manifold_reflected_brownian_motion.py:218: UserWarning: Newton iteration failed for the 864th time. Process reset to x0.\n",
        "  + str(self.newton_failures) + \"th time. Process reset to x0.\")\n",
        "manifold_reflected_brownian_motion.py:218: UserWarning: Newton iteration failed for the 865th time. Process reset to x0.\n",
        "  + str(self.newton_failures) + \"th time. Process reset to x0.\")\n",
        "manifold_reflected_brownian_motion.py:218: UserWarning: Newton iteration failed for the 866th time. Process reset to x0.\n",
        "  + str(self.newton_failures) + \"th time. Process reset to x0.\")\n"
       ]
      },
      {
       "output_type": "stream",
       "stream": "stderr",
       "text": [
        "manifold_reflected_brownian_motion.py:218: UserWarning: Newton iteration failed for the 867th time. Process reset to x0.\n",
        "  + str(self.newton_failures) + \"th time. Process reset to x0.\")\n",
        "manifold_reflected_brownian_motion.py:218: UserWarning: Newton iteration failed for the 868th time. Process reset to x0.\n",
        "  + str(self.newton_failures) + \"th time. Process reset to x0.\")\n",
        "manifold_reflected_brownian_motion.py:218: UserWarning: Newton iteration failed for the 869th time. Process reset to x0.\n",
        "  + str(self.newton_failures) + \"th time. Process reset to x0.\")\n",
        "manifold_reflected_brownian_motion.py:218: UserWarning: Newton iteration failed for the 870th time. Process reset to x0.\n",
        "  + str(self.newton_failures) + \"th time. Process reset to x0.\")\n"
       ]
      },
      {
       "output_type": "stream",
       "stream": "stderr",
       "text": [
        "manifold_reflected_brownian_motion.py:218: UserWarning: Newton iteration failed for the 871th time. Process reset to x0.\n",
        "  + str(self.newton_failures) + \"th time. Process reset to x0.\")\n",
        "manifold_reflected_brownian_motion.py:218: UserWarning: Newton iteration failed for the 872th time. Process reset to x0.\n",
        "  + str(self.newton_failures) + \"th time. Process reset to x0.\")\n",
        "manifold_reflected_brownian_motion.py:218: UserWarning: Newton iteration failed for the 873th time. Process reset to x0.\n",
        "  + str(self.newton_failures) + \"th time. Process reset to x0.\")\n",
        "manifold_reflected_brownian_motion.py:218: UserWarning: Newton iteration failed for the 874th time. Process reset to x0.\n",
        "  + str(self.newton_failures) + \"th time. Process reset to x0.\")\n"
       ]
      },
      {
       "output_type": "stream",
       "stream": "stderr",
       "text": [
        "manifold_reflected_brownian_motion.py:218: UserWarning: Newton iteration failed for the 875th time. Process reset to x0.\n",
        "  + str(self.newton_failures) + \"th time. Process reset to x0.\")\n",
        "manifold_reflected_brownian_motion.py:218: UserWarning: Newton iteration failed for the 876th time. Process reset to x0.\n",
        "  + str(self.newton_failures) + \"th time. Process reset to x0.\")\n",
        "manifold_reflected_brownian_motion.py:218: UserWarning: Newton iteration failed for the 877th time. Process reset to x0.\n",
        "  + str(self.newton_failures) + \"th time. Process reset to x0.\")\n",
        "manifold_reflected_brownian_motion.py:218: UserWarning: Newton iteration failed for the 878th time. Process reset to x0.\n",
        "  + str(self.newton_failures) + \"th time. Process reset to x0.\")\n"
       ]
      },
      {
       "output_type": "stream",
       "stream": "stderr",
       "text": [
        "manifold_reflected_brownian_motion.py:218: UserWarning: Newton iteration failed for the 879th time. Process reset to x0.\n",
        "  + str(self.newton_failures) + \"th time. Process reset to x0.\")\n",
        "manifold_reflected_brownian_motion.py:218: UserWarning: Newton iteration failed for the 880th time. Process reset to x0.\n",
        "  + str(self.newton_failures) + \"th time. Process reset to x0.\")\n",
        "manifold_reflected_brownian_motion.py:218: UserWarning: Newton iteration failed for the 881th time. Process reset to x0.\n",
        "  + str(self.newton_failures) + \"th time. Process reset to x0.\")\n",
        "manifold_reflected_brownian_motion.py:218: UserWarning: Newton iteration failed for the 882th time. Process reset to x0.\n",
        "  + str(self.newton_failures) + \"th time. Process reset to x0.\")\n"
       ]
      },
      {
       "output_type": "stream",
       "stream": "stderr",
       "text": [
        "manifold_reflected_brownian_motion.py:218: UserWarning: Newton iteration failed for the 883th time. Process reset to x0.\n",
        "  + str(self.newton_failures) + \"th time. Process reset to x0.\")\n",
        "manifold_reflected_brownian_motion.py:218: UserWarning: Newton iteration failed for the 884th time. Process reset to x0.\n",
        "  + str(self.newton_failures) + \"th time. Process reset to x0.\")\n",
        "manifold_reflected_brownian_motion.py:218: UserWarning: Newton iteration failed for the 885th time. Process reset to x0.\n",
        "  + str(self.newton_failures) + \"th time. Process reset to x0.\")\n",
        "manifold_reflected_brownian_motion.py:218: UserWarning: Newton iteration failed for the 886th time. Process reset to x0.\n",
        "  + str(self.newton_failures) + \"th time. Process reset to x0.\")\n"
       ]
      },
      {
       "output_type": "stream",
       "stream": "stderr",
       "text": [
        "manifold_reflected_brownian_motion.py:218: UserWarning: Newton iteration failed for the 887th time. Process reset to x0.\n",
        "  + str(self.newton_failures) + \"th time. Process reset to x0.\")\n",
        "manifold_reflected_brownian_motion.py:218: UserWarning: Newton iteration failed for the 888th time. Process reset to x0.\n",
        "  + str(self.newton_failures) + \"th time. Process reset to x0.\")\n",
        "manifold_reflected_brownian_motion.py:218: UserWarning: Newton iteration failed for the 889th time. Process reset to x0.\n",
        "  + str(self.newton_failures) + \"th time. Process reset to x0.\")\n",
        "manifold_reflected_brownian_motion.py:218: UserWarning: Newton iteration failed for the 890th time. Process reset to x0.\n",
        "  + str(self.newton_failures) + \"th time. Process reset to x0.\")\n"
       ]
      },
      {
       "output_type": "stream",
       "stream": "stderr",
       "text": [
        "manifold_reflected_brownian_motion.py:218: UserWarning: Newton iteration failed for the 891th time. Process reset to x0.\n",
        "  + str(self.newton_failures) + \"th time. Process reset to x0.\")\n",
        "manifold_reflected_brownian_motion.py:218: UserWarning: Newton iteration failed for the 892th time. Process reset to x0.\n",
        "  + str(self.newton_failures) + \"th time. Process reset to x0.\")\n",
        "manifold_reflected_brownian_motion.py:218: UserWarning: Newton iteration failed for the 893th time. Process reset to x0.\n",
        "  + str(self.newton_failures) + \"th time. Process reset to x0.\")\n",
        "manifold_reflected_brownian_motion.py:218: UserWarning: Newton iteration failed for the 894th time. Process reset to x0.\n",
        "  + str(self.newton_failures) + \"th time. Process reset to x0.\")\n"
       ]
      },
      {
       "output_type": "stream",
       "stream": "stderr",
       "text": [
        "manifold_reflected_brownian_motion.py:218: UserWarning: Newton iteration failed for the 895th time. Process reset to x0.\n",
        "  + str(self.newton_failures) + \"th time. Process reset to x0.\")\n",
        "manifold_reflected_brownian_motion.py:218: UserWarning: Newton iteration failed for the 896th time. Process reset to x0.\n",
        "  + str(self.newton_failures) + \"th time. Process reset to x0.\")\n",
        "manifold_reflected_brownian_motion.py:218: UserWarning: Newton iteration failed for the 897th time. Process reset to x0.\n",
        "  + str(self.newton_failures) + \"th time. Process reset to x0.\")\n",
        "manifold_reflected_brownian_motion.py:218: UserWarning: Newton iteration failed for the 898th time. Process reset to x0.\n",
        "  + str(self.newton_failures) + \"th time. Process reset to x0.\")\n"
       ]
      },
      {
       "output_type": "stream",
       "stream": "stderr",
       "text": [
        "manifold_reflected_brownian_motion.py:218: UserWarning: Newton iteration failed for the 899th time. Process reset to x0.\n",
        "  + str(self.newton_failures) + \"th time. Process reset to x0.\")\n",
        "manifold_reflected_brownian_motion.py:218: UserWarning: Newton iteration failed for the 900th time. Process reset to x0.\n",
        "  + str(self.newton_failures) + \"th time. Process reset to x0.\")\n",
        "manifold_reflected_brownian_motion.py:218: UserWarning: Newton iteration failed for the 901th time. Process reset to x0.\n",
        "  + str(self.newton_failures) + \"th time. Process reset to x0.\")\n",
        "manifold_reflected_brownian_motion.py:218: UserWarning: Newton iteration failed for the 902th time. Process reset to x0.\n",
        "  + str(self.newton_failures) + \"th time. Process reset to x0.\")\n"
       ]
      },
      {
       "output_type": "stream",
       "stream": "stderr",
       "text": [
        "manifold_reflected_brownian_motion.py:218: UserWarning: Newton iteration failed for the 903th time. Process reset to x0.\n",
        "  + str(self.newton_failures) + \"th time. Process reset to x0.\")\n",
        "manifold_reflected_brownian_motion.py:218: UserWarning: Newton iteration failed for the 904th time. Process reset to x0.\n",
        "  + str(self.newton_failures) + \"th time. Process reset to x0.\")\n",
        "manifold_reflected_brownian_motion.py:218: UserWarning: Newton iteration failed for the 905th time. Process reset to x0.\n",
        "  + str(self.newton_failures) + \"th time. Process reset to x0.\")\n",
        "manifold_reflected_brownian_motion.py:218: UserWarning: Newton iteration failed for the 906th time. Process reset to x0.\n",
        "  + str(self.newton_failures) + \"th time. Process reset to x0.\")\n"
       ]
      },
      {
       "output_type": "stream",
       "stream": "stderr",
       "text": [
        "manifold_reflected_brownian_motion.py:218: UserWarning: Newton iteration failed for the 907th time. Process reset to x0.\n",
        "  + str(self.newton_failures) + \"th time. Process reset to x0.\")\n",
        "manifold_reflected_brownian_motion.py:218: UserWarning: Newton iteration failed for the 908th time. Process reset to x0.\n",
        "  + str(self.newton_failures) + \"th time. Process reset to x0.\")\n",
        "manifold_reflected_brownian_motion.py:218: UserWarning: Newton iteration failed for the 909th time. Process reset to x0.\n",
        "  + str(self.newton_failures) + \"th time. Process reset to x0.\")\n",
        "manifold_reflected_brownian_motion.py:218: UserWarning: Newton iteration failed for the 910th time. Process reset to x0.\n",
        "  + str(self.newton_failures) + \"th time. Process reset to x0.\")\n"
       ]
      },
      {
       "output_type": "stream",
       "stream": "stderr",
       "text": [
        "manifold_reflected_brownian_motion.py:218: UserWarning: Newton iteration failed for the 911th time. Process reset to x0.\n",
        "  + str(self.newton_failures) + \"th time. Process reset to x0.\")\n",
        "manifold_reflected_brownian_motion.py:218: UserWarning: Newton iteration failed for the 912th time. Process reset to x0.\n",
        "  + str(self.newton_failures) + \"th time. Process reset to x0.\")\n",
        "manifold_reflected_brownian_motion.py:218: UserWarning: Newton iteration failed for the 913th time. Process reset to x0.\n",
        "  + str(self.newton_failures) + \"th time. Process reset to x0.\")\n",
        "manifold_reflected_brownian_motion.py:218: UserWarning: Newton iteration failed for the 914th time. Process reset to x0.\n",
        "  + str(self.newton_failures) + \"th time. Process reset to x0.\")\n"
       ]
      },
      {
       "output_type": "stream",
       "stream": "stderr",
       "text": [
        "manifold_reflected_brownian_motion.py:218: UserWarning: Newton iteration failed for the 915th time. Process reset to x0.\n",
        "  + str(self.newton_failures) + \"th time. Process reset to x0.\")\n",
        "manifold_reflected_brownian_motion.py:218: UserWarning: Newton iteration failed for the 916th time. Process reset to x0.\n",
        "  + str(self.newton_failures) + \"th time. Process reset to x0.\")\n",
        "manifold_reflected_brownian_motion.py:218: UserWarning: Newton iteration failed for the 917th time. Process reset to x0.\n",
        "  + str(self.newton_failures) + \"th time. Process reset to x0.\")\n",
        "manifold_reflected_brownian_motion.py:218: UserWarning: Newton iteration failed for the 918th time. Process reset to x0.\n",
        "  + str(self.newton_failures) + \"th time. Process reset to x0.\")\n",
        "manifold_reflected_brownian_motion.py:218: UserWarning: Newton iteration failed for the 919th time. Process reset to x0.\n",
        "  + str(self.newton_failures) + \"th time. Process reset to x0.\")\n"
       ]
      },
      {
       "output_type": "stream",
       "stream": "stderr",
       "text": [
        "manifold_reflected_brownian_motion.py:218: UserWarning: Newton iteration failed for the 920th time. Process reset to x0.\n",
        "  + str(self.newton_failures) + \"th time. Process reset to x0.\")\n",
        "manifold_reflected_brownian_motion.py:218: UserWarning: Newton iteration failed for the 921th time. Process reset to x0.\n",
        "  + str(self.newton_failures) + \"th time. Process reset to x0.\")\n",
        "manifold_reflected_brownian_motion.py:218: UserWarning: Newton iteration failed for the 922th time. Process reset to x0.\n",
        "  + str(self.newton_failures) + \"th time. Process reset to x0.\")\n",
        "manifold_reflected_brownian_motion.py:218: UserWarning: Newton iteration failed for the 923th time. Process reset to x0.\n",
        "  + str(self.newton_failures) + \"th time. Process reset to x0.\")\n",
        "manifold_reflected_brownian_motion.py:218: UserWarning: Newton iteration failed for the 924th time. Process reset to x0.\n",
        "  + str(self.newton_failures) + \"th time. Process reset to x0.\")\n"
       ]
      },
      {
       "output_type": "stream",
       "stream": "stderr",
       "text": [
        "manifold_reflected_brownian_motion.py:218: UserWarning: Newton iteration failed for the 925th time. Process reset to x0.\n",
        "  + str(self.newton_failures) + \"th time. Process reset to x0.\")\n",
        "manifold_reflected_brownian_motion.py:218: UserWarning: Newton iteration failed for the 926th time. Process reset to x0.\n",
        "  + str(self.newton_failures) + \"th time. Process reset to x0.\")\n",
        "manifold_reflected_brownian_motion.py:218: UserWarning: Newton iteration failed for the 927th time. Process reset to x0.\n",
        "  + str(self.newton_failures) + \"th time. Process reset to x0.\")\n",
        "manifold_reflected_brownian_motion.py:218: UserWarning: Newton iteration failed for the 928th time. Process reset to x0.\n",
        "  + str(self.newton_failures) + \"th time. Process reset to x0.\")\n"
       ]
      },
      {
       "output_type": "stream",
       "stream": "stderr",
       "text": [
        "manifold_reflected_brownian_motion.py:218: UserWarning: Newton iteration failed for the 929th time. Process reset to x0.\n",
        "  + str(self.newton_failures) + \"th time. Process reset to x0.\")\n",
        "manifold_reflected_brownian_motion.py:218: UserWarning: Newton iteration failed for the 930th time. Process reset to x0.\n",
        "  + str(self.newton_failures) + \"th time. Process reset to x0.\")\n",
        "manifold_reflected_brownian_motion.py:218: UserWarning: Newton iteration failed for the 931th time. Process reset to x0.\n",
        "  + str(self.newton_failures) + \"th time. Process reset to x0.\")\n",
        "manifold_reflected_brownian_motion.py:218: UserWarning: Newton iteration failed for the 932th time. Process reset to x0.\n",
        "  + str(self.newton_failures) + \"th time. Process reset to x0.\")\n"
       ]
      },
      {
       "output_type": "stream",
       "stream": "stderr",
       "text": [
        "manifold_reflected_brownian_motion.py:218: UserWarning: Newton iteration failed for the 933th time. Process reset to x0.\n",
        "  + str(self.newton_failures) + \"th time. Process reset to x0.\")\n",
        "manifold_reflected_brownian_motion.py:218: UserWarning: Newton iteration failed for the 934th time. Process reset to x0.\n",
        "  + str(self.newton_failures) + \"th time. Process reset to x0.\")\n",
        "manifold_reflected_brownian_motion.py:218: UserWarning: Newton iteration failed for the 935th time. Process reset to x0.\n",
        "  + str(self.newton_failures) + \"th time. Process reset to x0.\")\n",
        "manifold_reflected_brownian_motion.py:218: UserWarning: Newton iteration failed for the 936th time. Process reset to x0.\n",
        "  + str(self.newton_failures) + \"th time. Process reset to x0.\")\n",
        "manifold_reflected_brownian_motion.py:218: UserWarning: Newton iteration failed for the 937th time. Process reset to x0.\n",
        "  + str(self.newton_failures) + \"th time. Process reset to x0.\")\n"
       ]
      },
      {
       "output_type": "stream",
       "stream": "stderr",
       "text": [
        "manifold_reflected_brownian_motion.py:218: UserWarning: Newton iteration failed for the 938th time. Process reset to x0.\n",
        "  + str(self.newton_failures) + \"th time. Process reset to x0.\")\n",
        "manifold_reflected_brownian_motion.py:218: UserWarning: Newton iteration failed for the 939th time. Process reset to x0.\n",
        "  + str(self.newton_failures) + \"th time. Process reset to x0.\")\n",
        "manifold_reflected_brownian_motion.py:218: UserWarning: Newton iteration failed for the 940th time. Process reset to x0.\n",
        "  + str(self.newton_failures) + \"th time. Process reset to x0.\")\n",
        "manifold_reflected_brownian_motion.py:218: UserWarning: Newton iteration failed for the 941th time. Process reset to x0.\n",
        "  + str(self.newton_failures) + \"th time. Process reset to x0.\")\n",
        "manifold_reflected_brownian_motion.py:218: UserWarning: Newton iteration failed for the 942th time. Process reset to x0.\n",
        "  + str(self.newton_failures) + \"th time. Process reset to x0.\")\n"
       ]
      },
      {
       "output_type": "stream",
       "stream": "stderr",
       "text": [
        "manifold_reflected_brownian_motion.py:218: UserWarning: Newton iteration failed for the 943th time. Process reset to x0.\n",
        "  + str(self.newton_failures) + \"th time. Process reset to x0.\")\n",
        "manifold_reflected_brownian_motion.py:218: UserWarning: Newton iteration failed for the 944th time. Process reset to x0.\n",
        "  + str(self.newton_failures) + \"th time. Process reset to x0.\")\n",
        "manifold_reflected_brownian_motion.py:218: UserWarning: Newton iteration failed for the 945th time. Process reset to x0.\n",
        "  + str(self.newton_failures) + \"th time. Process reset to x0.\")\n",
        "manifold_reflected_brownian_motion.py:218: UserWarning: Newton iteration failed for the 946th time. Process reset to x0.\n",
        "  + str(self.newton_failures) + \"th time. Process reset to x0.\")\n",
        "manifold_reflected_brownian_motion.py:218: UserWarning: Newton iteration failed for the 947th time. Process reset to x0.\n",
        "  + str(self.newton_failures) + \"th time. Process reset to x0.\")\n"
       ]
      },
      {
       "output_type": "stream",
       "stream": "stderr",
       "text": [
        "manifold_reflected_brownian_motion.py:218: UserWarning: Newton iteration failed for the 948th time. Process reset to x0.\n",
        "  + str(self.newton_failures) + \"th time. Process reset to x0.\")\n",
        "manifold_reflected_brownian_motion.py:218: UserWarning: Newton iteration failed for the 949th time. Process reset to x0.\n",
        "  + str(self.newton_failures) + \"th time. Process reset to x0.\")\n",
        "manifold_reflected_brownian_motion.py:218: UserWarning: Newton iteration failed for the 950th time. Process reset to x0.\n",
        "  + str(self.newton_failures) + \"th time. Process reset to x0.\")\n",
        "manifold_reflected_brownian_motion.py:218: UserWarning: Newton iteration failed for the 951th time. Process reset to x0.\n",
        "  + str(self.newton_failures) + \"th time. Process reset to x0.\")\n"
       ]
      },
      {
       "output_type": "stream",
       "stream": "stderr",
       "text": [
        "manifold_reflected_brownian_motion.py:218: UserWarning: Newton iteration failed for the 952th time. Process reset to x0.\n",
        "  + str(self.newton_failures) + \"th time. Process reset to x0.\")\n",
        "manifold_reflected_brownian_motion.py:218: UserWarning: Newton iteration failed for the 953th time. Process reset to x0.\n",
        "  + str(self.newton_failures) + \"th time. Process reset to x0.\")\n",
        "manifold_reflected_brownian_motion.py:218: UserWarning: Newton iteration failed for the 954th time. Process reset to x0.\n",
        "  + str(self.newton_failures) + \"th time. Process reset to x0.\")\n",
        "manifold_reflected_brownian_motion.py:218: UserWarning: Newton iteration failed for the 955th time. Process reset to x0.\n",
        "  + str(self.newton_failures) + \"th time. Process reset to x0.\")\n",
        "manifold_reflected_brownian_motion.py:218: UserWarning: Newton iteration failed for the 956th time. Process reset to x0.\n",
        "  + str(self.newton_failures) + \"th time. Process reset to x0.\")\n"
       ]
      },
      {
       "output_type": "stream",
       "stream": "stderr",
       "text": [
        "manifold_reflected_brownian_motion.py:218: UserWarning: Newton iteration failed for the 957th time. Process reset to x0.\n",
        "  + str(self.newton_failures) + \"th time. Process reset to x0.\")\n",
        "manifold_reflected_brownian_motion.py:218: UserWarning: Newton iteration failed for the 958th time. Process reset to x0.\n",
        "  + str(self.newton_failures) + \"th time. Process reset to x0.\")\n",
        "manifold_reflected_brownian_motion.py:218: UserWarning: Newton iteration failed for the 959th time. Process reset to x0.\n",
        "  + str(self.newton_failures) + \"th time. Process reset to x0.\")\n",
        "manifold_reflected_brownian_motion.py:218: UserWarning: Newton iteration failed for the 960th time. Process reset to x0.\n",
        "  + str(self.newton_failures) + \"th time. Process reset to x0.\")\n"
       ]
      },
      {
       "output_type": "stream",
       "stream": "stderr",
       "text": [
        "manifold_reflected_brownian_motion.py:218: UserWarning: Newton iteration failed for the 961th time. Process reset to x0.\n",
        "  + str(self.newton_failures) + \"th time. Process reset to x0.\")\n",
        "manifold_reflected_brownian_motion.py:218: UserWarning: Newton iteration failed for the 962th time. Process reset to x0.\n",
        "  + str(self.newton_failures) + \"th time. Process reset to x0.\")\n",
        "manifold_reflected_brownian_motion.py:218: UserWarning: Newton iteration failed for the 963th time. Process reset to x0.\n",
        "  + str(self.newton_failures) + \"th time. Process reset to x0.\")\n",
        "manifold_reflected_brownian_motion.py:218: UserWarning: Newton iteration failed for the 964th time. Process reset to x0.\n",
        "  + str(self.newton_failures) + \"th time. Process reset to x0.\")\n"
       ]
      },
      {
       "output_type": "stream",
       "stream": "stderr",
       "text": [
        "manifold_reflected_brownian_motion.py:218: UserWarning: Newton iteration failed for the 965th time. Process reset to x0.\n",
        "  + str(self.newton_failures) + \"th time. Process reset to x0.\")\n",
        "manifold_reflected_brownian_motion.py:218: UserWarning: Newton iteration failed for the 966th time. Process reset to x0.\n",
        "  + str(self.newton_failures) + \"th time. Process reset to x0.\")\n",
        "manifold_reflected_brownian_motion.py:218: UserWarning: Newton iteration failed for the 967th time. Process reset to x0.\n",
        "  + str(self.newton_failures) + \"th time. Process reset to x0.\")\n",
        "manifold_reflected_brownian_motion.py:218: UserWarning: Newton iteration failed for the 968th time. Process reset to x0.\n",
        "  + str(self.newton_failures) + \"th time. Process reset to x0.\")\n"
       ]
      },
      {
       "output_type": "stream",
       "stream": "stderr",
       "text": [
        "manifold_reflected_brownian_motion.py:218: UserWarning: Newton iteration failed for the 969th time. Process reset to x0.\n",
        "  + str(self.newton_failures) + \"th time. Process reset to x0.\")\n",
        "manifold_reflected_brownian_motion.py:218: UserWarning: Newton iteration failed for the 970th time. Process reset to x0.\n",
        "  + str(self.newton_failures) + \"th time. Process reset to x0.\")\n",
        "manifold_reflected_brownian_motion.py:218: UserWarning: Newton iteration failed for the 971th time. Process reset to x0.\n",
        "  + str(self.newton_failures) + \"th time. Process reset to x0.\")\n",
        "manifold_reflected_brownian_motion.py:218: UserWarning: Newton iteration failed for the 972th time. Process reset to x0.\n",
        "  + str(self.newton_failures) + \"th time. Process reset to x0.\")\n"
       ]
      },
      {
       "output_type": "stream",
       "stream": "stderr",
       "text": [
        "manifold_reflected_brownian_motion.py:218: UserWarning: Newton iteration failed for the 973th time. Process reset to x0.\n",
        "  + str(self.newton_failures) + \"th time. Process reset to x0.\")\n",
        "manifold_reflected_brownian_motion.py:218: UserWarning: Newton iteration failed for the 974th time. Process reset to x0.\n",
        "  + str(self.newton_failures) + \"th time. Process reset to x0.\")\n",
        "manifold_reflected_brownian_motion.py:218: UserWarning: Newton iteration failed for the 975th time. Process reset to x0.\n",
        "  + str(self.newton_failures) + \"th time. Process reset to x0.\")\n",
        "manifold_reflected_brownian_motion.py:218: UserWarning: Newton iteration failed for the 976th time. Process reset to x0.\n",
        "  + str(self.newton_failures) + \"th time. Process reset to x0.\")\n",
        "manifold_reflected_brownian_motion.py:218: UserWarning: Newton iteration failed for the 977th time. Process reset to x0.\n",
        "  + str(self.newton_failures) + \"th time. Process reset to x0.\")\n"
       ]
      },
      {
       "output_type": "stream",
       "stream": "stderr",
       "text": [
        "manifold_reflected_brownian_motion.py:218: UserWarning: Newton iteration failed for the 978th time. Process reset to x0.\n",
        "  + str(self.newton_failures) + \"th time. Process reset to x0.\")\n",
        "manifold_reflected_brownian_motion.py:218: UserWarning: Newton iteration failed for the 979th time. Process reset to x0.\n",
        "  + str(self.newton_failures) + \"th time. Process reset to x0.\")\n",
        "manifold_reflected_brownian_motion.py:218: UserWarning: Newton iteration failed for the 980th time. Process reset to x0.\n",
        "  + str(self.newton_failures) + \"th time. Process reset to x0.\")\n",
        "manifold_reflected_brownian_motion.py:218: UserWarning: Newton iteration failed for the 981th time. Process reset to x0.\n",
        "  + str(self.newton_failures) + \"th time. Process reset to x0.\")\n",
        "manifold_reflected_brownian_motion.py:218: UserWarning: Newton iteration failed for the 982th time. Process reset to x0.\n",
        "  + str(self.newton_failures) + \"th time. Process reset to x0.\")\n"
       ]
      },
      {
       "output_type": "stream",
       "stream": "stderr",
       "text": [
        "manifold_reflected_brownian_motion.py:218: UserWarning: Newton iteration failed for the 983th time. Process reset to x0.\n",
        "  + str(self.newton_failures) + \"th time. Process reset to x0.\")\n",
        "manifold_reflected_brownian_motion.py:218: UserWarning: Newton iteration failed for the 984th time. Process reset to x0.\n",
        "  + str(self.newton_failures) + \"th time. Process reset to x0.\")\n",
        "manifold_reflected_brownian_motion.py:218: UserWarning: Newton iteration failed for the 985th time. Process reset to x0.\n",
        "  + str(self.newton_failures) + \"th time. Process reset to x0.\")\n",
        "manifold_reflected_brownian_motion.py:218: UserWarning: Newton iteration failed for the 986th time. Process reset to x0.\n",
        "  + str(self.newton_failures) + \"th time. Process reset to x0.\")\n",
        "manifold_reflected_brownian_motion.py:218: UserWarning: Newton iteration failed for the 987th time. Process reset to x0.\n",
        "  + str(self.newton_failures) + \"th time. Process reset to x0.\")\n"
       ]
      },
      {
       "output_type": "stream",
       "stream": "stderr",
       "text": [
        "manifold_reflected_brownian_motion.py:218: UserWarning: Newton iteration failed for the 988th time. Process reset to x0.\n",
        "  + str(self.newton_failures) + \"th time. Process reset to x0.\")\n",
        "manifold_reflected_brownian_motion.py:218: UserWarning: Newton iteration failed for the 989th time. Process reset to x0.\n",
        "  + str(self.newton_failures) + \"th time. Process reset to x0.\")\n",
        "manifold_reflected_brownian_motion.py:218: UserWarning: Newton iteration failed for the 990th time. Process reset to x0.\n",
        "  + str(self.newton_failures) + \"th time. Process reset to x0.\")\n",
        "manifold_reflected_brownian_motion.py:218: UserWarning: Newton iteration failed for the 991th time. Process reset to x0.\n",
        "  + str(self.newton_failures) + \"th time. Process reset to x0.\")\n"
       ]
      },
      {
       "output_type": "stream",
       "stream": "stderr",
       "text": [
        "manifold_reflected_brownian_motion.py:218: UserWarning: Newton iteration failed for the 992th time. Process reset to x0.\n",
        "  + str(self.newton_failures) + \"th time. Process reset to x0.\")\n",
        "manifold_reflected_brownian_motion.py:218: UserWarning: Newton iteration failed for the 993th time. Process reset to x0.\n",
        "  + str(self.newton_failures) + \"th time. Process reset to x0.\")\n",
        "manifold_reflected_brownian_motion.py:218: UserWarning: Newton iteration failed for the 994th time. Process reset to x0.\n",
        "  + str(self.newton_failures) + \"th time. Process reset to x0.\")\n",
        "manifold_reflected_brownian_motion.py:218: UserWarning: Newton iteration failed for the 995th time. Process reset to x0.\n",
        "  + str(self.newton_failures) + \"th time. Process reset to x0.\")\n",
        "manifold_reflected_brownian_motion.py:218: UserWarning: Newton iteration failed for the 996th time. Process reset to x0.\n",
        "  + str(self.newton_failures) + \"th time. Process reset to x0.\")\n"
       ]
      },
      {
       "output_type": "stream",
       "stream": "stderr",
       "text": [
        "manifold_reflected_brownian_motion.py:218: UserWarning: Newton iteration failed for the 997th time. Process reset to x0.\n",
        "  + str(self.newton_failures) + \"th time. Process reset to x0.\")\n",
        "manifold_reflected_brownian_motion.py:218: UserWarning: Newton iteration failed for the 998th time. Process reset to x0.\n",
        "  + str(self.newton_failures) + \"th time. Process reset to x0.\")\n",
        "manifold_reflected_brownian_motion.py:218: UserWarning: Newton iteration failed for the 999th time. Process reset to x0.\n",
        "  + str(self.newton_failures) + \"th time. Process reset to x0.\")\n",
        "manifold_reflected_brownian_motion.py:218: UserWarning: Newton iteration failed for the 1000th time. Process reset to x0.\n",
        "  + str(self.newton_failures) + \"th time. Process reset to x0.\")\n",
        "manifold_reflected_brownian_motion.py:218: UserWarning: Newton iteration failed for the 1001th time. Process reset to x0.\n",
        "  + str(self.newton_failures) + \"th time. Process reset to x0.\")\n"
       ]
      },
      {
       "output_type": "stream",
       "stream": "stderr",
       "text": [
        "manifold_reflected_brownian_motion.py:218: UserWarning: Newton iteration failed for the 1002th time. Process reset to x0.\n",
        "  + str(self.newton_failures) + \"th time. Process reset to x0.\")\n",
        "manifold_reflected_brownian_motion.py:218: UserWarning: Newton iteration failed for the 1003th time. Process reset to x0.\n",
        "  + str(self.newton_failures) + \"th time. Process reset to x0.\")\n",
        "manifold_reflected_brownian_motion.py:218: UserWarning: Newton iteration failed for the 1004th time. Process reset to x0.\n",
        "  + str(self.newton_failures) + \"th time. Process reset to x0.\")\n",
        "manifold_reflected_brownian_motion.py:218: UserWarning: Newton iteration failed for the 1005th time. Process reset to x0.\n",
        "  + str(self.newton_failures) + \"th time. Process reset to x0.\")\n",
        "manifold_reflected_brownian_motion.py:218: UserWarning: Newton iteration failed for the 1006th time. Process reset to x0.\n",
        "  + str(self.newton_failures) + \"th time. Process reset to x0.\")\n"
       ]
      },
      {
       "output_type": "stream",
       "stream": "stderr",
       "text": [
        "manifold_reflected_brownian_motion.py:218: UserWarning: Newton iteration failed for the 1007th time. Process reset to x0.\n",
        "  + str(self.newton_failures) + \"th time. Process reset to x0.\")\n",
        "manifold_reflected_brownian_motion.py:218: UserWarning: Newton iteration failed for the 1008th time. Process reset to x0.\n",
        "  + str(self.newton_failures) + \"th time. Process reset to x0.\")\n",
        "manifold_reflected_brownian_motion.py:218: UserWarning: Newton iteration failed for the 1009th time. Process reset to x0.\n",
        "  + str(self.newton_failures) + \"th time. Process reset to x0.\")\n",
        "manifold_reflected_brownian_motion.py:218: UserWarning: Newton iteration failed for the 1010th time. Process reset to x0.\n",
        "  + str(self.newton_failures) + \"th time. Process reset to x0.\")\n",
        "manifold_reflected_brownian_motion.py:218: UserWarning: Newton iteration failed for the 1011th time. Process reset to x0.\n",
        "  + str(self.newton_failures) + \"th time. Process reset to x0.\")\n"
       ]
      },
      {
       "output_type": "stream",
       "stream": "stderr",
       "text": [
        "manifold_reflected_brownian_motion.py:218: UserWarning: Newton iteration failed for the 1012th time. Process reset to x0.\n",
        "  + str(self.newton_failures) + \"th time. Process reset to x0.\")\n",
        "manifold_reflected_brownian_motion.py:218: UserWarning: Newton iteration failed for the 1013th time. Process reset to x0.\n",
        "  + str(self.newton_failures) + \"th time. Process reset to x0.\")\n",
        "manifold_reflected_brownian_motion.py:218: UserWarning: Newton iteration failed for the 1014th time. Process reset to x0.\n",
        "  + str(self.newton_failures) + \"th time. Process reset to x0.\")\n",
        "manifold_reflected_brownian_motion.py:218: UserWarning: Newton iteration failed for the 1015th time. Process reset to x0.\n",
        "  + str(self.newton_failures) + \"th time. Process reset to x0.\")\n",
        "manifold_reflected_brownian_motion.py:218: UserWarning: Newton iteration failed for the 1016th time. Process reset to x0.\n",
        "  + str(self.newton_failures) + \"th time. Process reset to x0.\")\n"
       ]
      },
      {
       "output_type": "stream",
       "stream": "stderr",
       "text": [
        "manifold_reflected_brownian_motion.py:218: UserWarning: Newton iteration failed for the 1017th time. Process reset to x0.\n",
        "  + str(self.newton_failures) + \"th time. Process reset to x0.\")\n",
        "manifold_reflected_brownian_motion.py:218: UserWarning: Newton iteration failed for the 1018th time. Process reset to x0.\n",
        "  + str(self.newton_failures) + \"th time. Process reset to x0.\")\n",
        "manifold_reflected_brownian_motion.py:218: UserWarning: Newton iteration failed for the 1019th time. Process reset to x0.\n",
        "  + str(self.newton_failures) + \"th time. Process reset to x0.\")\n",
        "manifold_reflected_brownian_motion.py:218: UserWarning: Newton iteration failed for the 1020th time. Process reset to x0.\n",
        "  + str(self.newton_failures) + \"th time. Process reset to x0.\")\n",
        "manifold_reflected_brownian_motion.py:218: UserWarning: Newton iteration failed for the 1021th time. Process reset to x0.\n",
        "  + str(self.newton_failures) + \"th time. Process reset to x0.\")\n"
       ]
      },
      {
       "output_type": "stream",
       "stream": "stderr",
       "text": [
        "manifold_reflected_brownian_motion.py:218: UserWarning: Newton iteration failed for the 1022th time. Process reset to x0.\n",
        "  + str(self.newton_failures) + \"th time. Process reset to x0.\")\n",
        "manifold_reflected_brownian_motion.py:218: UserWarning: Newton iteration failed for the 1023th time. Process reset to x0.\n",
        "  + str(self.newton_failures) + \"th time. Process reset to x0.\")\n",
        "manifold_reflected_brownian_motion.py:218: UserWarning: Newton iteration failed for the 1024th time. Process reset to x0.\n",
        "  + str(self.newton_failures) + \"th time. Process reset to x0.\")\n",
        "manifold_reflected_brownian_motion.py:218: UserWarning: Newton iteration failed for the 1025th time. Process reset to x0.\n",
        "  + str(self.newton_failures) + \"th time. Process reset to x0.\")\n",
        "manifold_reflected_brownian_motion.py:218: UserWarning: Newton iteration failed for the 1026th time. Process reset to x0.\n",
        "  + str(self.newton_failures) + \"th time. Process reset to x0.\")\n"
       ]
      },
      {
       "output_type": "stream",
       "stream": "stderr",
       "text": [
        "manifold_reflected_brownian_motion.py:218: UserWarning: Newton iteration failed for the 1027th time. Process reset to x0.\n",
        "  + str(self.newton_failures) + \"th time. Process reset to x0.\")\n",
        "manifold_reflected_brownian_motion.py:218: UserWarning: Newton iteration failed for the 1028th time. Process reset to x0.\n",
        "  + str(self.newton_failures) + \"th time. Process reset to x0.\")\n",
        "manifold_reflected_brownian_motion.py:218: UserWarning: Newton iteration failed for the 1029th time. Process reset to x0.\n",
        "  + str(self.newton_failures) + \"th time. Process reset to x0.\")\n",
        "manifold_reflected_brownian_motion.py:218: UserWarning: Newton iteration failed for the 1030th time. Process reset to x0.\n",
        "  + str(self.newton_failures) + \"th time. Process reset to x0.\")\n",
        "manifold_reflected_brownian_motion.py:218: UserWarning: Newton iteration failed for the 1031th time. Process reset to x0.\n",
        "  + str(self.newton_failures) + \"th time. Process reset to x0.\")\n"
       ]
      },
      {
       "output_type": "stream",
       "stream": "stderr",
       "text": [
        "manifold_reflected_brownian_motion.py:218: UserWarning: Newton iteration failed for the 1032th time. Process reset to x0.\n",
        "  + str(self.newton_failures) + \"th time. Process reset to x0.\")\n",
        "manifold_reflected_brownian_motion.py:218: UserWarning: Newton iteration failed for the 1033th time. Process reset to x0.\n",
        "  + str(self.newton_failures) + \"th time. Process reset to x0.\")\n",
        "manifold_reflected_brownian_motion.py:218: UserWarning: Newton iteration failed for the 1034th time. Process reset to x0.\n",
        "  + str(self.newton_failures) + \"th time. Process reset to x0.\")\n",
        "manifold_reflected_brownian_motion.py:218: UserWarning: Newton iteration failed for the 1035th time. Process reset to x0.\n",
        "  + str(self.newton_failures) + \"th time. Process reset to x0.\")\n",
        "manifold_reflected_brownian_motion.py:218: UserWarning: Newton iteration failed for the 1036th time. Process reset to x0.\n",
        "  + str(self.newton_failures) + \"th time. Process reset to x0.\")\n"
       ]
      },
      {
       "output_type": "stream",
       "stream": "stderr",
       "text": [
        "manifold_reflected_brownian_motion.py:218: UserWarning: Newton iteration failed for the 1037th time. Process reset to x0.\n",
        "  + str(self.newton_failures) + \"th time. Process reset to x0.\")\n",
        "manifold_reflected_brownian_motion.py:218: UserWarning: Newton iteration failed for the 1038th time. Process reset to x0.\n",
        "  + str(self.newton_failures) + \"th time. Process reset to x0.\")\n",
        "manifold_reflected_brownian_motion.py:218: UserWarning: Newton iteration failed for the 1039th time. Process reset to x0.\n",
        "  + str(self.newton_failures) + \"th time. Process reset to x0.\")\n",
        "manifold_reflected_brownian_motion.py:218: UserWarning: Newton iteration failed for the 1040th time. Process reset to x0.\n",
        "  + str(self.newton_failures) + \"th time. Process reset to x0.\")\n",
        "manifold_reflected_brownian_motion.py:218: UserWarning: Newton iteration failed for the 1041th time. Process reset to x0.\n",
        "  + str(self.newton_failures) + \"th time. Process reset to x0.\")\n"
       ]
      },
      {
       "output_type": "stream",
       "stream": "stderr",
       "text": [
        "manifold_reflected_brownian_motion.py:218: UserWarning: Newton iteration failed for the 1042th time. Process reset to x0.\n",
        "  + str(self.newton_failures) + \"th time. Process reset to x0.\")\n",
        "manifold_reflected_brownian_motion.py:218: UserWarning: Newton iteration failed for the 1043th time. Process reset to x0.\n",
        "  + str(self.newton_failures) + \"th time. Process reset to x0.\")\n",
        "manifold_reflected_brownian_motion.py:218: UserWarning: Newton iteration failed for the 1044th time. Process reset to x0.\n",
        "  + str(self.newton_failures) + \"th time. Process reset to x0.\")\n",
        "manifold_reflected_brownian_motion.py:218: UserWarning: Newton iteration failed for the 1045th time. Process reset to x0.\n",
        "  + str(self.newton_failures) + \"th time. Process reset to x0.\")\n",
        "manifold_reflected_brownian_motion.py:218: UserWarning: Newton iteration failed for the 1046th time. Process reset to x0.\n",
        "  + str(self.newton_failures) + \"th time. Process reset to x0.\")\n"
       ]
      },
      {
       "output_type": "stream",
       "stream": "stderr",
       "text": [
        "manifold_reflected_brownian_motion.py:218: UserWarning: Newton iteration failed for the 1047th time. Process reset to x0.\n",
        "  + str(self.newton_failures) + \"th time. Process reset to x0.\")\n",
        "manifold_reflected_brownian_motion.py:218: UserWarning: Newton iteration failed for the 1048th time. Process reset to x0.\n",
        "  + str(self.newton_failures) + \"th time. Process reset to x0.\")\n",
        "manifold_reflected_brownian_motion.py:218: UserWarning: Newton iteration failed for the 1049th time. Process reset to x0.\n",
        "  + str(self.newton_failures) + \"th time. Process reset to x0.\")\n",
        "manifold_reflected_brownian_motion.py:218: UserWarning: Newton iteration failed for the 1050th time. Process reset to x0.\n",
        "  + str(self.newton_failures) + \"th time. Process reset to x0.\")\n"
       ]
      },
      {
       "output_type": "stream",
       "stream": "stderr",
       "text": [
        "manifold_reflected_brownian_motion.py:218: UserWarning: Newton iteration failed for the 1051th time. Process reset to x0.\n",
        "  + str(self.newton_failures) + \"th time. Process reset to x0.\")\n",
        "manifold_reflected_brownian_motion.py:218: UserWarning: Newton iteration failed for the 1052th time. Process reset to x0.\n",
        "  + str(self.newton_failures) + \"th time. Process reset to x0.\")\n",
        "manifold_reflected_brownian_motion.py:218: UserWarning: Newton iteration failed for the 1053th time. Process reset to x0.\n",
        "  + str(self.newton_failures) + \"th time. Process reset to x0.\")\n",
        "manifold_reflected_brownian_motion.py:218: UserWarning: Newton iteration failed for the 1054th time. Process reset to x0.\n",
        "  + str(self.newton_failures) + \"th time. Process reset to x0.\")\n",
        "manifold_reflected_brownian_motion.py:218: UserWarning: Newton iteration failed for the 1055th time. Process reset to x0.\n",
        "  + str(self.newton_failures) + \"th time. Process reset to x0.\")\n"
       ]
      },
      {
       "output_type": "stream",
       "stream": "stderr",
       "text": [
        "manifold_reflected_brownian_motion.py:218: UserWarning: Newton iteration failed for the 1056th time. Process reset to x0.\n",
        "  + str(self.newton_failures) + \"th time. Process reset to x0.\")\n",
        "manifold_reflected_brownian_motion.py:218: UserWarning: Newton iteration failed for the 1057th time. Process reset to x0.\n",
        "  + str(self.newton_failures) + \"th time. Process reset to x0.\")\n",
        "manifold_reflected_brownian_motion.py:218: UserWarning: Newton iteration failed for the 1058th time. Process reset to x0.\n",
        "  + str(self.newton_failures) + \"th time. Process reset to x0.\")\n",
        "manifold_reflected_brownian_motion.py:218: UserWarning: Newton iteration failed for the 1059th time. Process reset to x0.\n",
        "  + str(self.newton_failures) + \"th time. Process reset to x0.\")\n",
        "manifold_reflected_brownian_motion.py:218: UserWarning: Newton iteration failed for the 1060th time. Process reset to x0.\n",
        "  + str(self.newton_failures) + \"th time. Process reset to x0.\")\n"
       ]
      },
      {
       "output_type": "stream",
       "stream": "stderr",
       "text": [
        "manifold_reflected_brownian_motion.py:218: UserWarning: Newton iteration failed for the 1061th time. Process reset to x0.\n",
        "  + str(self.newton_failures) + \"th time. Process reset to x0.\")\n",
        "manifold_reflected_brownian_motion.py:218: UserWarning: Newton iteration failed for the 1062th time. Process reset to x0.\n",
        "  + str(self.newton_failures) + \"th time. Process reset to x0.\")\n",
        "manifold_reflected_brownian_motion.py:218: UserWarning: Newton iteration failed for the 1063th time. Process reset to x0.\n",
        "  + str(self.newton_failures) + \"th time. Process reset to x0.\")\n",
        "manifold_reflected_brownian_motion.py:218: UserWarning: Newton iteration failed for the 1064th time. Process reset to x0.\n",
        "  + str(self.newton_failures) + \"th time. Process reset to x0.\")\n",
        "manifold_reflected_brownian_motion.py:218: UserWarning: Newton iteration failed for the 1065th time. Process reset to x0.\n",
        "  + str(self.newton_failures) + \"th time. Process reset to x0.\")\n"
       ]
      },
      {
       "output_type": "stream",
       "stream": "stderr",
       "text": [
        "manifold_reflected_brownian_motion.py:218: UserWarning: Newton iteration failed for the 1066th time. Process reset to x0.\n",
        "  + str(self.newton_failures) + \"th time. Process reset to x0.\")\n",
        "manifold_reflected_brownian_motion.py:218: UserWarning: Newton iteration failed for the 1067th time. Process reset to x0.\n",
        "  + str(self.newton_failures) + \"th time. Process reset to x0.\")\n",
        "manifold_reflected_brownian_motion.py:218: UserWarning: Newton iteration failed for the 1068th time. Process reset to x0.\n",
        "  + str(self.newton_failures) + \"th time. Process reset to x0.\")\n",
        "manifold_reflected_brownian_motion.py:218: UserWarning: Newton iteration failed for the 1069th time. Process reset to x0.\n",
        "  + str(self.newton_failures) + \"th time. Process reset to x0.\")\n",
        "manifold_reflected_brownian_motion.py:218: UserWarning: Newton iteration failed for the 1070th time. Process reset to x0.\n",
        "  + str(self.newton_failures) + \"th time. Process reset to x0.\")\n"
       ]
      },
      {
       "output_type": "stream",
       "stream": "stderr",
       "text": [
        "manifold_reflected_brownian_motion.py:218: UserWarning: Newton iteration failed for the 1071th time. Process reset to x0.\n",
        "  + str(self.newton_failures) + \"th time. Process reset to x0.\")\n",
        "manifold_reflected_brownian_motion.py:218: UserWarning: Newton iteration failed for the 1072th time. Process reset to x0.\n",
        "  + str(self.newton_failures) + \"th time. Process reset to x0.\")\n",
        "manifold_reflected_brownian_motion.py:218: UserWarning: Newton iteration failed for the 1073th time. Process reset to x0.\n",
        "  + str(self.newton_failures) + \"th time. Process reset to x0.\")\n",
        "manifold_reflected_brownian_motion.py:218: UserWarning: Newton iteration failed for the 1074th time. Process reset to x0.\n",
        "  + str(self.newton_failures) + \"th time. Process reset to x0.\")\n",
        "manifold_reflected_brownian_motion.py:218: UserWarning: Newton iteration failed for the 1075th time. Process reset to x0.\n",
        "  + str(self.newton_failures) + \"th time. Process reset to x0.\")\n"
       ]
      },
      {
       "output_type": "stream",
       "stream": "stderr",
       "text": [
        "manifold_reflected_brownian_motion.py:218: UserWarning: Newton iteration failed for the 1076th time. Process reset to x0.\n",
        "  + str(self.newton_failures) + \"th time. Process reset to x0.\")\n",
        "manifold_reflected_brownian_motion.py:218: UserWarning: Newton iteration failed for the 1077th time. Process reset to x0.\n",
        "  + str(self.newton_failures) + \"th time. Process reset to x0.\")\n",
        "manifold_reflected_brownian_motion.py:218: UserWarning: Newton iteration failed for the 1078th time. Process reset to x0.\n",
        "  + str(self.newton_failures) + \"th time. Process reset to x0.\")\n",
        "manifold_reflected_brownian_motion.py:218: UserWarning: Newton iteration failed for the 1079th time. Process reset to x0.\n",
        "  + str(self.newton_failures) + \"th time. Process reset to x0.\")\n",
        "manifold_reflected_brownian_motion.py:218: UserWarning: Newton iteration failed for the 1080th time. Process reset to x0.\n",
        "  + str(self.newton_failures) + \"th time. Process reset to x0.\")\n"
       ]
      },
      {
       "output_type": "stream",
       "stream": "stderr",
       "text": [
        "manifold_reflected_brownian_motion.py:218: UserWarning: Newton iteration failed for the 1081th time. Process reset to x0.\n",
        "  + str(self.newton_failures) + \"th time. Process reset to x0.\")\n",
        "manifold_reflected_brownian_motion.py:218: UserWarning: Newton iteration failed for the 1082th time. Process reset to x0.\n",
        "  + str(self.newton_failures) + \"th time. Process reset to x0.\")\n",
        "manifold_reflected_brownian_motion.py:218: UserWarning: Newton iteration failed for the 1083th time. Process reset to x0.\n",
        "  + str(self.newton_failures) + \"th time. Process reset to x0.\")\n",
        "manifold_reflected_brownian_motion.py:218: UserWarning: Newton iteration failed for the 1084th time. Process reset to x0.\n",
        "  + str(self.newton_failures) + \"th time. Process reset to x0.\")\n",
        "manifold_reflected_brownian_motion.py:218: UserWarning: Newton iteration failed for the 1085th time. Process reset to x0.\n",
        "  + str(self.newton_failures) + \"th time. Process reset to x0.\")\n"
       ]
      },
      {
       "output_type": "stream",
       "stream": "stderr",
       "text": [
        "manifold_reflected_brownian_motion.py:218: UserWarning: Newton iteration failed for the 1086th time. Process reset to x0.\n",
        "  + str(self.newton_failures) + \"th time. Process reset to x0.\")\n",
        "manifold_reflected_brownian_motion.py:218: UserWarning: Newton iteration failed for the 1087th time. Process reset to x0.\n",
        "  + str(self.newton_failures) + \"th time. Process reset to x0.\")\n",
        "manifold_reflected_brownian_motion.py:218: UserWarning: Newton iteration failed for the 1088th time. Process reset to x0.\n",
        "  + str(self.newton_failures) + \"th time. Process reset to x0.\")\n",
        "manifold_reflected_brownian_motion.py:218: UserWarning: Newton iteration failed for the 1089th time. Process reset to x0.\n",
        "  + str(self.newton_failures) + \"th time. Process reset to x0.\")\n",
        "manifold_reflected_brownian_motion.py:218: UserWarning: Newton iteration failed for the 1090th time. Process reset to x0.\n",
        "  + str(self.newton_failures) + \"th time. Process reset to x0.\")\n"
       ]
      },
      {
       "output_type": "stream",
       "stream": "stderr",
       "text": [
        "manifold_reflected_brownian_motion.py:218: UserWarning: Newton iteration failed for the 1091th time. Process reset to x0.\n",
        "  + str(self.newton_failures) + \"th time. Process reset to x0.\")\n",
        "manifold_reflected_brownian_motion.py:218: UserWarning: Newton iteration failed for the 1092th time. Process reset to x0.\n",
        "  + str(self.newton_failures) + \"th time. Process reset to x0.\")\n",
        "manifold_reflected_brownian_motion.py:218: UserWarning: Newton iteration failed for the 1093th time. Process reset to x0.\n",
        "  + str(self.newton_failures) + \"th time. Process reset to x0.\")\n",
        "manifold_reflected_brownian_motion.py:218: UserWarning: Newton iteration failed for the 1094th time. Process reset to x0.\n",
        "  + str(self.newton_failures) + \"th time. Process reset to x0.\")\n",
        "manifold_reflected_brownian_motion.py:218: UserWarning: Newton iteration failed for the 1095th time. Process reset to x0.\n",
        "  + str(self.newton_failures) + \"th time. Process reset to x0.\")\n"
       ]
      },
      {
       "output_type": "stream",
       "stream": "stderr",
       "text": [
        "manifold_reflected_brownian_motion.py:218: UserWarning: Newton iteration failed for the 1096th time. Process reset to x0.\n",
        "  + str(self.newton_failures) + \"th time. Process reset to x0.\")\n",
        "manifold_reflected_brownian_motion.py:218: UserWarning: Newton iteration failed for the 1097th time. Process reset to x0.\n",
        "  + str(self.newton_failures) + \"th time. Process reset to x0.\")\n",
        "manifold_reflected_brownian_motion.py:218: UserWarning: Newton iteration failed for the 1098th time. Process reset to x0.\n",
        "  + str(self.newton_failures) + \"th time. Process reset to x0.\")\n",
        "manifold_reflected_brownian_motion.py:218: UserWarning: Newton iteration failed for the 1099th time. Process reset to x0.\n",
        "  + str(self.newton_failures) + \"th time. Process reset to x0.\")\n"
       ]
      },
      {
       "output_type": "stream",
       "stream": "stderr",
       "text": [
        "manifold_reflected_brownian_motion.py:218: UserWarning: Newton iteration failed for the 1100th time. Process reset to x0.\n",
        "  + str(self.newton_failures) + \"th time. Process reset to x0.\")\n",
        "manifold_reflected_brownian_motion.py:218: UserWarning: Newton iteration failed for the 1101th time. Process reset to x0.\n",
        "  + str(self.newton_failures) + \"th time. Process reset to x0.\")\n",
        "manifold_reflected_brownian_motion.py:218: UserWarning: Newton iteration failed for the 1102th time. Process reset to x0.\n",
        "  + str(self.newton_failures) + \"th time. Process reset to x0.\")\n",
        "manifold_reflected_brownian_motion.py:218: UserWarning: Newton iteration failed for the 1103th time. Process reset to x0.\n",
        "  + str(self.newton_failures) + \"th time. Process reset to x0.\")\n",
        "manifold_reflected_brownian_motion.py:218: UserWarning: Newton iteration failed for the 1104th time. Process reset to x0.\n",
        "  + str(self.newton_failures) + \"th time. Process reset to x0.\")\n"
       ]
      },
      {
       "output_type": "stream",
       "stream": "stderr",
       "text": [
        "manifold_reflected_brownian_motion.py:218: UserWarning: Newton iteration failed for the 1105th time. Process reset to x0.\n",
        "  + str(self.newton_failures) + \"th time. Process reset to x0.\")\n",
        "manifold_reflected_brownian_motion.py:218: UserWarning: Newton iteration failed for the 1106th time. Process reset to x0.\n",
        "  + str(self.newton_failures) + \"th time. Process reset to x0.\")\n",
        "manifold_reflected_brownian_motion.py:218: UserWarning: Newton iteration failed for the 1107th time. Process reset to x0.\n",
        "  + str(self.newton_failures) + \"th time. Process reset to x0.\")\n",
        "manifold_reflected_brownian_motion.py:218: UserWarning: Newton iteration failed for the 1108th time. Process reset to x0.\n",
        "  + str(self.newton_failures) + \"th time. Process reset to x0.\")\n",
        "manifold_reflected_brownian_motion.py:218: UserWarning: Newton iteration failed for the 1109th time. Process reset to x0.\n",
        "  + str(self.newton_failures) + \"th time. Process reset to x0.\")\n"
       ]
      },
      {
       "output_type": "stream",
       "stream": "stderr",
       "text": [
        "manifold_reflected_brownian_motion.py:218: UserWarning: Newton iteration failed for the 1110th time. Process reset to x0.\n",
        "  + str(self.newton_failures) + \"th time. Process reset to x0.\")\n",
        "manifold_reflected_brownian_motion.py:218: UserWarning: Newton iteration failed for the 1111th time. Process reset to x0.\n",
        "  + str(self.newton_failures) + \"th time. Process reset to x0.\")\n",
        "manifold_reflected_brownian_motion.py:218: UserWarning: Newton iteration failed for the 1112th time. Process reset to x0.\n",
        "  + str(self.newton_failures) + \"th time. Process reset to x0.\")\n",
        "manifold_reflected_brownian_motion.py:218: UserWarning: Newton iteration failed for the 1113th time. Process reset to x0.\n",
        "  + str(self.newton_failures) + \"th time. Process reset to x0.\")\n",
        "manifold_reflected_brownian_motion.py:218: UserWarning: Newton iteration failed for the 1114th time. Process reset to x0.\n",
        "  + str(self.newton_failures) + \"th time. Process reset to x0.\")\n"
       ]
      },
      {
       "output_type": "stream",
       "stream": "stderr",
       "text": [
        "manifold_reflected_brownian_motion.py:218: UserWarning: Newton iteration failed for the 1115th time. Process reset to x0.\n",
        "  + str(self.newton_failures) + \"th time. Process reset to x0.\")\n",
        "manifold_reflected_brownian_motion.py:218: UserWarning: Newton iteration failed for the 1116th time. Process reset to x0.\n",
        "  + str(self.newton_failures) + \"th time. Process reset to x0.\")\n",
        "manifold_reflected_brownian_motion.py:218: UserWarning: Newton iteration failed for the 1117th time. Process reset to x0.\n",
        "  + str(self.newton_failures) + \"th time. Process reset to x0.\")\n",
        "manifold_reflected_brownian_motion.py:218: UserWarning: Newton iteration failed for the 1118th time. Process reset to x0.\n",
        "  + str(self.newton_failures) + \"th time. Process reset to x0.\")\n",
        "manifold_reflected_brownian_motion.py:218: UserWarning: Newton iteration failed for the 1119th time. Process reset to x0.\n",
        "  + str(self.newton_failures) + \"th time. Process reset to x0.\")\n"
       ]
      },
      {
       "output_type": "stream",
       "stream": "stderr",
       "text": [
        "manifold_reflected_brownian_motion.py:218: UserWarning: Newton iteration failed for the 1120th time. Process reset to x0.\n",
        "  + str(self.newton_failures) + \"th time. Process reset to x0.\")\n",
        "manifold_reflected_brownian_motion.py:218: UserWarning: Newton iteration failed for the 1121th time. Process reset to x0.\n",
        "  + str(self.newton_failures) + \"th time. Process reset to x0.\")\n",
        "manifold_reflected_brownian_motion.py:218: UserWarning: Newton iteration failed for the 1122th time. Process reset to x0.\n",
        "  + str(self.newton_failures) + \"th time. Process reset to x0.\")\n",
        "manifold_reflected_brownian_motion.py:218: UserWarning: Newton iteration failed for the 1123th time. Process reset to x0.\n",
        "  + str(self.newton_failures) + \"th time. Process reset to x0.\")\n",
        "manifold_reflected_brownian_motion.py:218: UserWarning: Newton iteration failed for the 1124th time. Process reset to x0.\n",
        "  + str(self.newton_failures) + \"th time. Process reset to x0.\")\n"
       ]
      },
      {
       "output_type": "stream",
       "stream": "stderr",
       "text": [
        "manifold_reflected_brownian_motion.py:218: UserWarning: Newton iteration failed for the 1125th time. Process reset to x0.\n",
        "  + str(self.newton_failures) + \"th time. Process reset to x0.\")\n",
        "manifold_reflected_brownian_motion.py:218: UserWarning: Newton iteration failed for the 1126th time. Process reset to x0.\n",
        "  + str(self.newton_failures) + \"th time. Process reset to x0.\")\n",
        "manifold_reflected_brownian_motion.py:218: UserWarning: Newton iteration failed for the 1127th time. Process reset to x0.\n",
        "  + str(self.newton_failures) + \"th time. Process reset to x0.\")\n",
        "manifold_reflected_brownian_motion.py:218: UserWarning: Newton iteration failed for the 1128th time. Process reset to x0.\n",
        "  + str(self.newton_failures) + \"th time. Process reset to x0.\")\n",
        "manifold_reflected_brownian_motion.py:218: UserWarning: Newton iteration failed for the 1129th time. Process reset to x0.\n",
        "  + str(self.newton_failures) + \"th time. Process reset to x0.\")\n"
       ]
      },
      {
       "output_type": "stream",
       "stream": "stderr",
       "text": [
        "manifold_reflected_brownian_motion.py:218: UserWarning: Newton iteration failed for the 1130th time. Process reset to x0.\n",
        "  + str(self.newton_failures) + \"th time. Process reset to x0.\")\n",
        "manifold_reflected_brownian_motion.py:218: UserWarning: Newton iteration failed for the 1131th time. Process reset to x0.\n",
        "  + str(self.newton_failures) + \"th time. Process reset to x0.\")\n",
        "manifold_reflected_brownian_motion.py:218: UserWarning: Newton iteration failed for the 1132th time. Process reset to x0.\n",
        "  + str(self.newton_failures) + \"th time. Process reset to x0.\")\n",
        "manifold_reflected_brownian_motion.py:218: UserWarning: Newton iteration failed for the 1133th time. Process reset to x0.\n",
        "  + str(self.newton_failures) + \"th time. Process reset to x0.\")\n",
        "manifold_reflected_brownian_motion.py:218: UserWarning: Newton iteration failed for the 1134th time. Process reset to x0.\n",
        "  + str(self.newton_failures) + \"th time. Process reset to x0.\")\n"
       ]
      },
      {
       "output_type": "stream",
       "stream": "stderr",
       "text": [
        "manifold_reflected_brownian_motion.py:218: UserWarning: Newton iteration failed for the 1135th time. Process reset to x0.\n",
        "  + str(self.newton_failures) + \"th time. Process reset to x0.\")\n",
        "manifold_reflected_brownian_motion.py:218: UserWarning: Newton iteration failed for the 1136th time. Process reset to x0.\n",
        "  + str(self.newton_failures) + \"th time. Process reset to x0.\")\n",
        "manifold_reflected_brownian_motion.py:218: UserWarning: Newton iteration failed for the 1137th time. Process reset to x0.\n",
        "  + str(self.newton_failures) + \"th time. Process reset to x0.\")\n",
        "manifold_reflected_brownian_motion.py:218: UserWarning: Newton iteration failed for the 1138th time. Process reset to x0.\n",
        "  + str(self.newton_failures) + \"th time. Process reset to x0.\")\n",
        "manifold_reflected_brownian_motion.py:218: UserWarning: Newton iteration failed for the 1139th time. Process reset to x0.\n",
        "  + str(self.newton_failures) + \"th time. Process reset to x0.\")\n"
       ]
      },
      {
       "output_type": "stream",
       "stream": "stderr",
       "text": [
        "manifold_reflected_brownian_motion.py:218: UserWarning: Newton iteration failed for the 1140th time. Process reset to x0.\n",
        "  + str(self.newton_failures) + \"th time. Process reset to x0.\")\n",
        "manifold_reflected_brownian_motion.py:218: UserWarning: Newton iteration failed for the 1141th time. Process reset to x0.\n",
        "  + str(self.newton_failures) + \"th time. Process reset to x0.\")\n",
        "manifold_reflected_brownian_motion.py:218: UserWarning: Newton iteration failed for the 1142th time. Process reset to x0.\n",
        "  + str(self.newton_failures) + \"th time. Process reset to x0.\")\n",
        "manifold_reflected_brownian_motion.py:218: UserWarning: Newton iteration failed for the 1143th time. Process reset to x0.\n",
        "  + str(self.newton_failures) + \"th time. Process reset to x0.\")\n",
        "manifold_reflected_brownian_motion.py:218: UserWarning: Newton iteration failed for the 1144th time. Process reset to x0.\n",
        "  + str(self.newton_failures) + \"th time. Process reset to x0.\")\n"
       ]
      },
      {
       "output_type": "stream",
       "stream": "stderr",
       "text": [
        "manifold_reflected_brownian_motion.py:218: UserWarning: Newton iteration failed for the 1145th time. Process reset to x0.\n",
        "  + str(self.newton_failures) + \"th time. Process reset to x0.\")\n",
        "manifold_reflected_brownian_motion.py:218: UserWarning: Newton iteration failed for the 1146th time. Process reset to x0.\n",
        "  + str(self.newton_failures) + \"th time. Process reset to x0.\")\n",
        "manifold_reflected_brownian_motion.py:218: UserWarning: Newton iteration failed for the 1147th time. Process reset to x0.\n",
        "  + str(self.newton_failures) + \"th time. Process reset to x0.\")\n",
        "manifold_reflected_brownian_motion.py:218: UserWarning: Newton iteration failed for the 1148th time. Process reset to x0.\n",
        "  + str(self.newton_failures) + \"th time. Process reset to x0.\")\n",
        "manifold_reflected_brownian_motion.py:218: UserWarning: Newton iteration failed for the 1149th time. Process reset to x0.\n",
        "  + str(self.newton_failures) + \"th time. Process reset to x0.\")\n"
       ]
      },
      {
       "output_type": "stream",
       "stream": "stderr",
       "text": [
        "manifold_reflected_brownian_motion.py:218: UserWarning: Newton iteration failed for the 1150th time. Process reset to x0.\n",
        "  + str(self.newton_failures) + \"th time. Process reset to x0.\")\n",
        "manifold_reflected_brownian_motion.py:218: UserWarning: Newton iteration failed for the 1151th time. Process reset to x0.\n",
        "  + str(self.newton_failures) + \"th time. Process reset to x0.\")\n",
        "manifold_reflected_brownian_motion.py:218: UserWarning: Newton iteration failed for the 1152th time. Process reset to x0.\n",
        "  + str(self.newton_failures) + \"th time. Process reset to x0.\")\n",
        "manifold_reflected_brownian_motion.py:218: UserWarning: Newton iteration failed for the 1153th time. Process reset to x0.\n",
        "  + str(self.newton_failures) + \"th time. Process reset to x0.\")\n",
        "manifold_reflected_brownian_motion.py:218: UserWarning: Newton iteration failed for the 1154th time. Process reset to x0.\n",
        "  + str(self.newton_failures) + \"th time. Process reset to x0.\")\n"
       ]
      },
      {
       "output_type": "stream",
       "stream": "stderr",
       "text": [
        "manifold_reflected_brownian_motion.py:218: UserWarning: Newton iteration failed for the 1155th time. Process reset to x0.\n",
        "  + str(self.newton_failures) + \"th time. Process reset to x0.\")\n",
        "manifold_reflected_brownian_motion.py:218: UserWarning: Newton iteration failed for the 1156th time. Process reset to x0.\n",
        "  + str(self.newton_failures) + \"th time. Process reset to x0.\")\n",
        "manifold_reflected_brownian_motion.py:218: UserWarning: Newton iteration failed for the 1157th time. Process reset to x0.\n",
        "  + str(self.newton_failures) + \"th time. Process reset to x0.\")\n",
        "manifold_reflected_brownian_motion.py:218: UserWarning: Newton iteration failed for the 1158th time. Process reset to x0.\n",
        "  + str(self.newton_failures) + \"th time. Process reset to x0.\")\n",
        "manifold_reflected_brownian_motion.py:218: UserWarning: Newton iteration failed for the 1159th time. Process reset to x0.\n",
        "  + str(self.newton_failures) + \"th time. Process reset to x0.\")\n"
       ]
      },
      {
       "output_type": "stream",
       "stream": "stderr",
       "text": [
        "manifold_reflected_brownian_motion.py:218: UserWarning: Newton iteration failed for the 1160th time. Process reset to x0.\n",
        "  + str(self.newton_failures) + \"th time. Process reset to x0.\")\n",
        "manifold_reflected_brownian_motion.py:218: UserWarning: Newton iteration failed for the 1161th time. Process reset to x0.\n",
        "  + str(self.newton_failures) + \"th time. Process reset to x0.\")\n",
        "manifold_reflected_brownian_motion.py:218: UserWarning: Newton iteration failed for the 1162th time. Process reset to x0.\n",
        "  + str(self.newton_failures) + \"th time. Process reset to x0.\")\n",
        "manifold_reflected_brownian_motion.py:218: UserWarning: Newton iteration failed for the 1163th time. Process reset to x0.\n",
        "  + str(self.newton_failures) + \"th time. Process reset to x0.\")\n",
        "manifold_reflected_brownian_motion.py:218: UserWarning: Newton iteration failed for the 1164th time. Process reset to x0.\n",
        "  + str(self.newton_failures) + \"th time. Process reset to x0.\")\n"
       ]
      },
      {
       "output_type": "stream",
       "stream": "stderr",
       "text": [
        "manifold_reflected_brownian_motion.py:218: UserWarning: Newton iteration failed for the 1165th time. Process reset to x0.\n",
        "  + str(self.newton_failures) + \"th time. Process reset to x0.\")\n",
        "manifold_reflected_brownian_motion.py:218: UserWarning: Newton iteration failed for the 1166th time. Process reset to x0.\n",
        "  + str(self.newton_failures) + \"th time. Process reset to x0.\")\n",
        "manifold_reflected_brownian_motion.py:218: UserWarning: Newton iteration failed for the 1167th time. Process reset to x0.\n",
        "  + str(self.newton_failures) + \"th time. Process reset to x0.\")\n",
        "manifold_reflected_brownian_motion.py:218: UserWarning: Newton iteration failed for the 1168th time. Process reset to x0.\n",
        "  + str(self.newton_failures) + \"th time. Process reset to x0.\")\n",
        "manifold_reflected_brownian_motion.py:218: UserWarning: Newton iteration failed for the 1169th time. Process reset to x0.\n",
        "  + str(self.newton_failures) + \"th time. Process reset to x0.\")\n"
       ]
      },
      {
       "output_type": "stream",
       "stream": "stderr",
       "text": [
        "manifold_reflected_brownian_motion.py:218: UserWarning: Newton iteration failed for the 1170th time. Process reset to x0.\n",
        "  + str(self.newton_failures) + \"th time. Process reset to x0.\")\n",
        "manifold_reflected_brownian_motion.py:218: UserWarning: Newton iteration failed for the 1171th time. Process reset to x0.\n",
        "  + str(self.newton_failures) + \"th time. Process reset to x0.\")\n",
        "manifold_reflected_brownian_motion.py:218: UserWarning: Newton iteration failed for the 1172th time. Process reset to x0.\n",
        "  + str(self.newton_failures) + \"th time. Process reset to x0.\")\n",
        "manifold_reflected_brownian_motion.py:218: UserWarning: Newton iteration failed for the 1173th time. Process reset to x0.\n",
        "  + str(self.newton_failures) + \"th time. Process reset to x0.\")\n",
        "manifold_reflected_brownian_motion.py:218: UserWarning: Newton iteration failed for the 1174th time. Process reset to x0.\n",
        "  + str(self.newton_failures) + \"th time. Process reset to x0.\")\n"
       ]
      },
      {
       "output_type": "stream",
       "stream": "stderr",
       "text": [
        "manifold_reflected_brownian_motion.py:218: UserWarning: Newton iteration failed for the 1175th time. Process reset to x0.\n",
        "  + str(self.newton_failures) + \"th time. Process reset to x0.\")\n",
        "manifold_reflected_brownian_motion.py:218: UserWarning: Newton iteration failed for the 1176th time. Process reset to x0.\n",
        "  + str(self.newton_failures) + \"th time. Process reset to x0.\")\n",
        "manifold_reflected_brownian_motion.py:218: UserWarning: Newton iteration failed for the 1177th time. Process reset to x0.\n",
        "  + str(self.newton_failures) + \"th time. Process reset to x0.\")\n",
        "manifold_reflected_brownian_motion.py:218: UserWarning: Newton iteration failed for the 1178th time. Process reset to x0.\n",
        "  + str(self.newton_failures) + \"th time. Process reset to x0.\")\n",
        "manifold_reflected_brownian_motion.py:218: UserWarning: Newton iteration failed for the 1179th time. Process reset to x0.\n",
        "  + str(self.newton_failures) + \"th time. Process reset to x0.\")\n"
       ]
      },
      {
       "output_type": "stream",
       "stream": "stderr",
       "text": [
        "manifold_reflected_brownian_motion.py:218: UserWarning: Newton iteration failed for the 1180th time. Process reset to x0.\n",
        "  + str(self.newton_failures) + \"th time. Process reset to x0.\")\n",
        "manifold_reflected_brownian_motion.py:218: UserWarning: Newton iteration failed for the 1181th time. Process reset to x0.\n",
        "  + str(self.newton_failures) + \"th time. Process reset to x0.\")\n",
        "manifold_reflected_brownian_motion.py:218: UserWarning: Newton iteration failed for the 1182th time. Process reset to x0.\n",
        "  + str(self.newton_failures) + \"th time. Process reset to x0.\")\n",
        "manifold_reflected_brownian_motion.py:218: UserWarning: Newton iteration failed for the 1183th time. Process reset to x0.\n",
        "  + str(self.newton_failures) + \"th time. Process reset to x0.\")\n",
        "manifold_reflected_brownian_motion.py:218: UserWarning: Newton iteration failed for the 1184th time. Process reset to x0.\n",
        "  + str(self.newton_failures) + \"th time. Process reset to x0.\")\n"
       ]
      },
      {
       "output_type": "stream",
       "stream": "stderr",
       "text": [
        "manifold_reflected_brownian_motion.py:218: UserWarning: Newton iteration failed for the 1185th time. Process reset to x0.\n",
        "  + str(self.newton_failures) + \"th time. Process reset to x0.\")\n",
        "manifold_reflected_brownian_motion.py:218: UserWarning: Newton iteration failed for the 1186th time. Process reset to x0.\n",
        "  + str(self.newton_failures) + \"th time. Process reset to x0.\")\n",
        "manifold_reflected_brownian_motion.py:218: UserWarning: Newton iteration failed for the 1187th time. Process reset to x0.\n",
        "  + str(self.newton_failures) + \"th time. Process reset to x0.\")\n",
        "manifold_reflected_brownian_motion.py:218: UserWarning: Newton iteration failed for the 1188th time. Process reset to x0.\n",
        "  + str(self.newton_failures) + \"th time. Process reset to x0.\")\n",
        "manifold_reflected_brownian_motion.py:218: UserWarning: Newton iteration failed for the 1189th time. Process reset to x0.\n",
        "  + str(self.newton_failures) + \"th time. Process reset to x0.\")\n"
       ]
      },
      {
       "output_type": "stream",
       "stream": "stderr",
       "text": [
        "manifold_reflected_brownian_motion.py:218: UserWarning: Newton iteration failed for the 1190th time. Process reset to x0.\n",
        "  + str(self.newton_failures) + \"th time. Process reset to x0.\")\n",
        "manifold_reflected_brownian_motion.py:218: UserWarning: Newton iteration failed for the 1191th time. Process reset to x0.\n",
        "  + str(self.newton_failures) + \"th time. Process reset to x0.\")\n",
        "manifold_reflected_brownian_motion.py:218: UserWarning: Newton iteration failed for the 1192th time. Process reset to x0.\n",
        "  + str(self.newton_failures) + \"th time. Process reset to x0.\")\n",
        "manifold_reflected_brownian_motion.py:218: UserWarning: Newton iteration failed for the 1193th time. Process reset to x0.\n",
        "  + str(self.newton_failures) + \"th time. Process reset to x0.\")\n",
        "manifold_reflected_brownian_motion.py:218: UserWarning: Newton iteration failed for the 1194th time. Process reset to x0.\n",
        "  + str(self.newton_failures) + \"th time. Process reset to x0.\")\n"
       ]
      },
      {
       "output_type": "stream",
       "stream": "stderr",
       "text": [
        "manifold_reflected_brownian_motion.py:218: UserWarning: Newton iteration failed for the 1195th time. Process reset to x0.\n",
        "  + str(self.newton_failures) + \"th time. Process reset to x0.\")\n",
        "manifold_reflected_brownian_motion.py:218: UserWarning: Newton iteration failed for the 1196th time. Process reset to x0.\n",
        "  + str(self.newton_failures) + \"th time. Process reset to x0.\")\n",
        "manifold_reflected_brownian_motion.py:218: UserWarning: Newton iteration failed for the 1197th time. Process reset to x0.\n",
        "  + str(self.newton_failures) + \"th time. Process reset to x0.\")\n",
        "manifold_reflected_brownian_motion.py:218: UserWarning: Newton iteration failed for the 1198th time. Process reset to x0.\n",
        "  + str(self.newton_failures) + \"th time. Process reset to x0.\")\n",
        "manifold_reflected_brownian_motion.py:218: UserWarning: Newton iteration failed for the 1199th time. Process reset to x0.\n",
        "  + str(self.newton_failures) + \"th time. Process reset to x0.\")\n"
       ]
      },
      {
       "output_type": "stream",
       "stream": "stderr",
       "text": [
        "manifold_reflected_brownian_motion.py:218: UserWarning: Newton iteration failed for the 1200th time. Process reset to x0.\n",
        "  + str(self.newton_failures) + \"th time. Process reset to x0.\")\n",
        "manifold_reflected_brownian_motion.py:218: UserWarning: Newton iteration failed for the 1201th time. Process reset to x0.\n",
        "  + str(self.newton_failures) + \"th time. Process reset to x0.\")\n",
        "manifold_reflected_brownian_motion.py:218: UserWarning: Newton iteration failed for the 1202th time. Process reset to x0.\n",
        "  + str(self.newton_failures) + \"th time. Process reset to x0.\")\n",
        "manifold_reflected_brownian_motion.py:218: UserWarning: Newton iteration failed for the 1203th time. Process reset to x0.\n",
        "  + str(self.newton_failures) + \"th time. Process reset to x0.\")\n",
        "manifold_reflected_brownian_motion.py:218: UserWarning: Newton iteration failed for the 1204th time. Process reset to x0.\n",
        "  + str(self.newton_failures) + \"th time. Process reset to x0.\")\n"
       ]
      },
      {
       "output_type": "stream",
       "stream": "stderr",
       "text": [
        "manifold_reflected_brownian_motion.py:218: UserWarning: Newton iteration failed for the 1205th time. Process reset to x0.\n",
        "  + str(self.newton_failures) + \"th time. Process reset to x0.\")\n",
        "manifold_reflected_brownian_motion.py:218: UserWarning: Newton iteration failed for the 1206th time. Process reset to x0.\n",
        "  + str(self.newton_failures) + \"th time. Process reset to x0.\")\n",
        "manifold_reflected_brownian_motion.py:218: UserWarning: Newton iteration failed for the 1207th time. Process reset to x0.\n",
        "  + str(self.newton_failures) + \"th time. Process reset to x0.\")\n",
        "manifold_reflected_brownian_motion.py:218: UserWarning: Newton iteration failed for the 1208th time. Process reset to x0.\n",
        "  + str(self.newton_failures) + \"th time. Process reset to x0.\")\n",
        "manifold_reflected_brownian_motion.py:218: UserWarning: Newton iteration failed for the 1209th time. Process reset to x0.\n",
        "  + str(self.newton_failures) + \"th time. Process reset to x0.\")\n"
       ]
      },
      {
       "output_type": "stream",
       "stream": "stderr",
       "text": [
        "manifold_reflected_brownian_motion.py:218: UserWarning: Newton iteration failed for the 1210th time. Process reset to x0.\n",
        "  + str(self.newton_failures) + \"th time. Process reset to x0.\")\n",
        "manifold_reflected_brownian_motion.py:218: UserWarning: Newton iteration failed for the 1211th time. Process reset to x0.\n",
        "  + str(self.newton_failures) + \"th time. Process reset to x0.\")\n",
        "manifold_reflected_brownian_motion.py:218: UserWarning: Newton iteration failed for the 1212th time. Process reset to x0.\n",
        "  + str(self.newton_failures) + \"th time. Process reset to x0.\")\n",
        "manifold_reflected_brownian_motion.py:218: UserWarning: Newton iteration failed for the 1213th time. Process reset to x0.\n",
        "  + str(self.newton_failures) + \"th time. Process reset to x0.\")\n",
        "manifold_reflected_brownian_motion.py:218: UserWarning: Newton iteration failed for the 1214th time. Process reset to x0.\n",
        "  + str(self.newton_failures) + \"th time. Process reset to x0.\")\n"
       ]
      },
      {
       "output_type": "stream",
       "stream": "stderr",
       "text": [
        "manifold_reflected_brownian_motion.py:218: UserWarning: Newton iteration failed for the 1215th time. Process reset to x0.\n",
        "  + str(self.newton_failures) + \"th time. Process reset to x0.\")\n",
        "manifold_reflected_brownian_motion.py:218: UserWarning: Newton iteration failed for the 1216th time. Process reset to x0.\n",
        "  + str(self.newton_failures) + \"th time. Process reset to x0.\")\n",
        "manifold_reflected_brownian_motion.py:218: UserWarning: Newton iteration failed for the 1217th time. Process reset to x0.\n",
        "  + str(self.newton_failures) + \"th time. Process reset to x0.\")\n",
        "manifold_reflected_brownian_motion.py:218: UserWarning: Newton iteration failed for the 1218th time. Process reset to x0.\n",
        "  + str(self.newton_failures) + \"th time. Process reset to x0.\")\n",
        "manifold_reflected_brownian_motion.py:218: UserWarning: Newton iteration failed for the 1219th time. Process reset to x0.\n",
        "  + str(self.newton_failures) + \"th time. Process reset to x0.\")\n"
       ]
      },
      {
       "output_type": "stream",
       "stream": "stderr",
       "text": [
        "manifold_reflected_brownian_motion.py:218: UserWarning: Newton iteration failed for the 1220th time. Process reset to x0.\n",
        "  + str(self.newton_failures) + \"th time. Process reset to x0.\")\n",
        "manifold_reflected_brownian_motion.py:218: UserWarning: Newton iteration failed for the 1221th time. Process reset to x0.\n",
        "  + str(self.newton_failures) + \"th time. Process reset to x0.\")\n",
        "manifold_reflected_brownian_motion.py:218: UserWarning: Newton iteration failed for the 1222th time. Process reset to x0.\n",
        "  + str(self.newton_failures) + \"th time. Process reset to x0.\")\n",
        "manifold_reflected_brownian_motion.py:218: UserWarning: Newton iteration failed for the 1223th time. Process reset to x0.\n",
        "  + str(self.newton_failures) + \"th time. Process reset to x0.\")\n",
        "manifold_reflected_brownian_motion.py:218: UserWarning: Newton iteration failed for the 1224th time. Process reset to x0.\n",
        "  + str(self.newton_failures) + \"th time. Process reset to x0.\")\n"
       ]
      },
      {
       "output_type": "stream",
       "stream": "stderr",
       "text": [
        "manifold_reflected_brownian_motion.py:218: UserWarning: Newton iteration failed for the 1225th time. Process reset to x0.\n",
        "  + str(self.newton_failures) + \"th time. Process reset to x0.\")\n",
        "manifold_reflected_brownian_motion.py:218: UserWarning: Newton iteration failed for the 1226th time. Process reset to x0.\n",
        "  + str(self.newton_failures) + \"th time. Process reset to x0.\")\n",
        "manifold_reflected_brownian_motion.py:218: UserWarning: Newton iteration failed for the 1227th time. Process reset to x0.\n",
        "  + str(self.newton_failures) + \"th time. Process reset to x0.\")\n",
        "manifold_reflected_brownian_motion.py:218: UserWarning: Newton iteration failed for the 1228th time. Process reset to x0.\n",
        "  + str(self.newton_failures) + \"th time. Process reset to x0.\")\n",
        "manifold_reflected_brownian_motion.py:218: UserWarning: Newton iteration failed for the 1229th time. Process reset to x0.\n",
        "  + str(self.newton_failures) + \"th time. Process reset to x0.\")\n"
       ]
      },
      {
       "output_type": "stream",
       "stream": "stderr",
       "text": [
        "manifold_reflected_brownian_motion.py:218: UserWarning: Newton iteration failed for the 1230th time. Process reset to x0.\n",
        "  + str(self.newton_failures) + \"th time. Process reset to x0.\")\n",
        "manifold_reflected_brownian_motion.py:218: UserWarning: Newton iteration failed for the 1231th time. Process reset to x0.\n",
        "  + str(self.newton_failures) + \"th time. Process reset to x0.\")\n",
        "manifold_reflected_brownian_motion.py:218: UserWarning: Newton iteration failed for the 1232th time. Process reset to x0.\n",
        "  + str(self.newton_failures) + \"th time. Process reset to x0.\")\n",
        "manifold_reflected_brownian_motion.py:218: UserWarning: Newton iteration failed for the 1233th time. Process reset to x0.\n",
        "  + str(self.newton_failures) + \"th time. Process reset to x0.\")\n",
        "manifold_reflected_brownian_motion.py:218: UserWarning: Newton iteration failed for the 1234th time. Process reset to x0.\n",
        "  + str(self.newton_failures) + \"th time. Process reset to x0.\")\n"
       ]
      },
      {
       "output_type": "stream",
       "stream": "stderr",
       "text": [
        "manifold_reflected_brownian_motion.py:218: UserWarning: Newton iteration failed for the 1235th time. Process reset to x0.\n",
        "  + str(self.newton_failures) + \"th time. Process reset to x0.\")\n",
        "manifold_reflected_brownian_motion.py:218: UserWarning: Newton iteration failed for the 1236th time. Process reset to x0.\n",
        "  + str(self.newton_failures) + \"th time. Process reset to x0.\")\n",
        "manifold_reflected_brownian_motion.py:218: UserWarning: Newton iteration failed for the 1237th time. Process reset to x0.\n",
        "  + str(self.newton_failures) + \"th time. Process reset to x0.\")\n",
        "manifold_reflected_brownian_motion.py:218: UserWarning: Newton iteration failed for the 1238th time. Process reset to x0.\n",
        "  + str(self.newton_failures) + \"th time. Process reset to x0.\")\n",
        "manifold_reflected_brownian_motion.py:218: UserWarning: Newton iteration failed for the 1239th time. Process reset to x0.\n",
        "  + str(self.newton_failures) + \"th time. Process reset to x0.\")\n"
       ]
      },
      {
       "output_type": "stream",
       "stream": "stderr",
       "text": [
        "manifold_reflected_brownian_motion.py:218: UserWarning: Newton iteration failed for the 1240th time. Process reset to x0.\n",
        "  + str(self.newton_failures) + \"th time. Process reset to x0.\")\n",
        "manifold_reflected_brownian_motion.py:218: UserWarning: Newton iteration failed for the 1241th time. Process reset to x0.\n",
        "  + str(self.newton_failures) + \"th time. Process reset to x0.\")\n",
        "manifold_reflected_brownian_motion.py:218: UserWarning: Newton iteration failed for the 1242th time. Process reset to x0.\n",
        "  + str(self.newton_failures) + \"th time. Process reset to x0.\")\n",
        "manifold_reflected_brownian_motion.py:218: UserWarning: Newton iteration failed for the 1243th time. Process reset to x0.\n",
        "  + str(self.newton_failures) + \"th time. Process reset to x0.\")\n",
        "manifold_reflected_brownian_motion.py:218: UserWarning: Newton iteration failed for the 1244th time. Process reset to x0.\n",
        "  + str(self.newton_failures) + \"th time. Process reset to x0.\")\n"
       ]
      },
      {
       "output_type": "stream",
       "stream": "stderr",
       "text": [
        "manifold_reflected_brownian_motion.py:218: UserWarning: Newton iteration failed for the 1245th time. Process reset to x0.\n",
        "  + str(self.newton_failures) + \"th time. Process reset to x0.\")\n",
        "manifold_reflected_brownian_motion.py:218: UserWarning: Newton iteration failed for the 1246th time. Process reset to x0.\n",
        "  + str(self.newton_failures) + \"th time. Process reset to x0.\")\n",
        "manifold_reflected_brownian_motion.py:218: UserWarning: Newton iteration failed for the 1247th time. Process reset to x0.\n",
        "  + str(self.newton_failures) + \"th time. Process reset to x0.\")\n",
        "manifold_reflected_brownian_motion.py:218: UserWarning: Newton iteration failed for the 1248th time. Process reset to x0.\n",
        "  + str(self.newton_failures) + \"th time. Process reset to x0.\")\n",
        "manifold_reflected_brownian_motion.py:218: UserWarning: Newton iteration failed for the 1249th time. Process reset to x0.\n",
        "  + str(self.newton_failures) + \"th time. Process reset to x0.\")\n"
       ]
      },
      {
       "output_type": "stream",
       "stream": "stderr",
       "text": [
        "manifold_reflected_brownian_motion.py:218: UserWarning: Newton iteration failed for the 1250th time. Process reset to x0.\n",
        "  + str(self.newton_failures) + \"th time. Process reset to x0.\")\n",
        "manifold_reflected_brownian_motion.py:218: UserWarning: Newton iteration failed for the 1251th time. Process reset to x0.\n",
        "  + str(self.newton_failures) + \"th time. Process reset to x0.\")\n",
        "manifold_reflected_brownian_motion.py:218: UserWarning: Newton iteration failed for the 1252th time. Process reset to x0.\n",
        "  + str(self.newton_failures) + \"th time. Process reset to x0.\")\n",
        "manifold_reflected_brownian_motion.py:218: UserWarning: Newton iteration failed for the 1253th time. Process reset to x0.\n",
        "  + str(self.newton_failures) + \"th time. Process reset to x0.\")\n",
        "manifold_reflected_brownian_motion.py:218: UserWarning: Newton iteration failed for the 1254th time. Process reset to x0.\n",
        "  + str(self.newton_failures) + \"th time. Process reset to x0.\")\n"
       ]
      },
      {
       "output_type": "stream",
       "stream": "stderr",
       "text": [
        "manifold_reflected_brownian_motion.py:218: UserWarning: Newton iteration failed for the 1255th time. Process reset to x0.\n",
        "  + str(self.newton_failures) + \"th time. Process reset to x0.\")\n",
        "manifold_reflected_brownian_motion.py:218: UserWarning: Newton iteration failed for the 1256th time. Process reset to x0.\n",
        "  + str(self.newton_failures) + \"th time. Process reset to x0.\")\n",
        "manifold_reflected_brownian_motion.py:218: UserWarning: Newton iteration failed for the 1257th time. Process reset to x0.\n",
        "  + str(self.newton_failures) + \"th time. Process reset to x0.\")\n",
        "manifold_reflected_brownian_motion.py:218: UserWarning: Newton iteration failed for the 1258th time. Process reset to x0.\n",
        "  + str(self.newton_failures) + \"th time. Process reset to x0.\")\n"
       ]
      },
      {
       "output_type": "stream",
       "stream": "stderr",
       "text": [
        "manifold_reflected_brownian_motion.py:218: UserWarning: Newton iteration failed for the 1259th time. Process reset to x0.\n",
        "  + str(self.newton_failures) + \"th time. Process reset to x0.\")\n",
        "manifold_reflected_brownian_motion.py:218: UserWarning: Newton iteration failed for the 1260th time. Process reset to x0.\n",
        "  + str(self.newton_failures) + \"th time. Process reset to x0.\")\n",
        "manifold_reflected_brownian_motion.py:218: UserWarning: Newton iteration failed for the 1261th time. Process reset to x0.\n",
        "  + str(self.newton_failures) + \"th time. Process reset to x0.\")\n",
        "manifold_reflected_brownian_motion.py:218: UserWarning: Newton iteration failed for the 1262th time. Process reset to x0.\n",
        "  + str(self.newton_failures) + \"th time. Process reset to x0.\")\n"
       ]
      },
      {
       "output_type": "stream",
       "stream": "stderr",
       "text": [
        "manifold_reflected_brownian_motion.py:218: UserWarning: Newton iteration failed for the 1263th time. Process reset to x0.\n",
        "  + str(self.newton_failures) + \"th time. Process reset to x0.\")\n",
        "manifold_reflected_brownian_motion.py:218: UserWarning: Newton iteration failed for the 1264th time. Process reset to x0.\n",
        "  + str(self.newton_failures) + \"th time. Process reset to x0.\")\n",
        "manifold_reflected_brownian_motion.py:218: UserWarning: Newton iteration failed for the 1265th time. Process reset to x0.\n",
        "  + str(self.newton_failures) + \"th time. Process reset to x0.\")\n",
        "manifold_reflected_brownian_motion.py:218: UserWarning: Newton iteration failed for the 1266th time. Process reset to x0.\n",
        "  + str(self.newton_failures) + \"th time. Process reset to x0.\")\n"
       ]
      },
      {
       "output_type": "stream",
       "stream": "stderr",
       "text": [
        "manifold_reflected_brownian_motion.py:218: UserWarning: Newton iteration failed for the 1267th time. Process reset to x0.\n",
        "  + str(self.newton_failures) + \"th time. Process reset to x0.\")\n",
        "manifold_reflected_brownian_motion.py:218: UserWarning: Newton iteration failed for the 1268th time. Process reset to x0.\n",
        "  + str(self.newton_failures) + \"th time. Process reset to x0.\")\n",
        "manifold_reflected_brownian_motion.py:218: UserWarning: Newton iteration failed for the 1269th time. Process reset to x0.\n",
        "  + str(self.newton_failures) + \"th time. Process reset to x0.\")\n",
        "manifold_reflected_brownian_motion.py:218: UserWarning: Newton iteration failed for the 1270th time. Process reset to x0.\n",
        "  + str(self.newton_failures) + \"th time. Process reset to x0.\")\n"
       ]
      },
      {
       "output_type": "stream",
       "stream": "stderr",
       "text": [
        "manifold_reflected_brownian_motion.py:218: UserWarning: Newton iteration failed for the 1271th time. Process reset to x0.\n",
        "  + str(self.newton_failures) + \"th time. Process reset to x0.\")\n",
        "manifold_reflected_brownian_motion.py:218: UserWarning: Newton iteration failed for the 1272th time. Process reset to x0.\n",
        "  + str(self.newton_failures) + \"th time. Process reset to x0.\")\n",
        "manifold_reflected_brownian_motion.py:218: UserWarning: Newton iteration failed for the 1273th time. Process reset to x0.\n",
        "  + str(self.newton_failures) + \"th time. Process reset to x0.\")\n",
        "manifold_reflected_brownian_motion.py:218: UserWarning: Newton iteration failed for the 1274th time. Process reset to x0.\n",
        "  + str(self.newton_failures) + \"th time. Process reset to x0.\")\n"
       ]
      },
      {
       "output_type": "stream",
       "stream": "stderr",
       "text": [
        "manifold_reflected_brownian_motion.py:218: UserWarning: Newton iteration failed for the 1275th time. Process reset to x0.\n",
        "  + str(self.newton_failures) + \"th time. Process reset to x0.\")\n",
        "manifold_reflected_brownian_motion.py:218: UserWarning: Newton iteration failed for the 1276th time. Process reset to x0.\n",
        "  + str(self.newton_failures) + \"th time. Process reset to x0.\")\n",
        "manifold_reflected_brownian_motion.py:218: UserWarning: Newton iteration failed for the 1277th time. Process reset to x0.\n",
        "  + str(self.newton_failures) + \"th time. Process reset to x0.\")\n",
        "manifold_reflected_brownian_motion.py:218: UserWarning: Newton iteration failed for the 1278th time. Process reset to x0.\n",
        "  + str(self.newton_failures) + \"th time. Process reset to x0.\")\n"
       ]
      },
      {
       "output_type": "stream",
       "stream": "stderr",
       "text": [
        "manifold_reflected_brownian_motion.py:218: UserWarning: Newton iteration failed for the 1279th time. Process reset to x0.\n",
        "  + str(self.newton_failures) + \"th time. Process reset to x0.\")\n",
        "manifold_reflected_brownian_motion.py:218: UserWarning: Newton iteration failed for the 1280th time. Process reset to x0.\n",
        "  + str(self.newton_failures) + \"th time. Process reset to x0.\")\n",
        "manifold_reflected_brownian_motion.py:218: UserWarning: Newton iteration failed for the 1281th time. Process reset to x0.\n",
        "  + str(self.newton_failures) + \"th time. Process reset to x0.\")\n",
        "manifold_reflected_brownian_motion.py:218: UserWarning: Newton iteration failed for the 1282th time. Process reset to x0.\n",
        "  + str(self.newton_failures) + \"th time. Process reset to x0.\")\n"
       ]
      },
      {
       "output_type": "stream",
       "stream": "stderr",
       "text": [
        "manifold_reflected_brownian_motion.py:218: UserWarning: Newton iteration failed for the 1283th time. Process reset to x0.\n",
        "  + str(self.newton_failures) + \"th time. Process reset to x0.\")\n",
        "manifold_reflected_brownian_motion.py:218: UserWarning: Newton iteration failed for the 1284th time. Process reset to x0.\n",
        "  + str(self.newton_failures) + \"th time. Process reset to x0.\")\n",
        "manifold_reflected_brownian_motion.py:218: UserWarning: Newton iteration failed for the 1285th time. Process reset to x0.\n",
        "  + str(self.newton_failures) + \"th time. Process reset to x0.\")\n",
        "manifold_reflected_brownian_motion.py:218: UserWarning: Newton iteration failed for the 1286th time. Process reset to x0.\n",
        "  + str(self.newton_failures) + \"th time. Process reset to x0.\")\n"
       ]
      },
      {
       "output_type": "stream",
       "stream": "stderr",
       "text": [
        "manifold_reflected_brownian_motion.py:218: UserWarning: Newton iteration failed for the 1287th time. Process reset to x0.\n",
        "  + str(self.newton_failures) + \"th time. Process reset to x0.\")\n",
        "manifold_reflected_brownian_motion.py:218: UserWarning: Newton iteration failed for the 1288th time. Process reset to x0.\n",
        "  + str(self.newton_failures) + \"th time. Process reset to x0.\")\n",
        "manifold_reflected_brownian_motion.py:218: UserWarning: Newton iteration failed for the 1289th time. Process reset to x0.\n",
        "  + str(self.newton_failures) + \"th time. Process reset to x0.\")\n",
        "manifold_reflected_brownian_motion.py:218: UserWarning: Newton iteration failed for the 1290th time. Process reset to x0.\n",
        "  + str(self.newton_failures) + \"th time. Process reset to x0.\")\n"
       ]
      },
      {
       "output_type": "stream",
       "stream": "stderr",
       "text": [
        "manifold_reflected_brownian_motion.py:218: UserWarning: Newton iteration failed for the 1291th time. Process reset to x0.\n",
        "  + str(self.newton_failures) + \"th time. Process reset to x0.\")\n",
        "manifold_reflected_brownian_motion.py:218: UserWarning: Newton iteration failed for the 1292th time. Process reset to x0.\n",
        "  + str(self.newton_failures) + \"th time. Process reset to x0.\")\n",
        "manifold_reflected_brownian_motion.py:218: UserWarning: Newton iteration failed for the 1293th time. Process reset to x0.\n",
        "  + str(self.newton_failures) + \"th time. Process reset to x0.\")\n",
        "manifold_reflected_brownian_motion.py:218: UserWarning: Newton iteration failed for the 1294th time. Process reset to x0.\n",
        "  + str(self.newton_failures) + \"th time. Process reset to x0.\")\n",
        "manifold_reflected_brownian_motion.py:218: UserWarning: Newton iteration failed for the 1295th time. Process reset to x0.\n",
        "  + str(self.newton_failures) + \"th time. Process reset to x0.\")\n"
       ]
      },
      {
       "output_type": "stream",
       "stream": "stderr",
       "text": [
        "manifold_reflected_brownian_motion.py:218: UserWarning: Newton iteration failed for the 1296th time. Process reset to x0.\n",
        "  + str(self.newton_failures) + \"th time. Process reset to x0.\")\n",
        "manifold_reflected_brownian_motion.py:218: UserWarning: Newton iteration failed for the 1297th time. Process reset to x0.\n",
        "  + str(self.newton_failures) + \"th time. Process reset to x0.\")\n",
        "manifold_reflected_brownian_motion.py:218: UserWarning: Newton iteration failed for the 1298th time. Process reset to x0.\n",
        "  + str(self.newton_failures) + \"th time. Process reset to x0.\")\n",
        "manifold_reflected_brownian_motion.py:218: UserWarning: Newton iteration failed for the 1299th time. Process reset to x0.\n",
        "  + str(self.newton_failures) + \"th time. Process reset to x0.\")\n"
       ]
      },
      {
       "output_type": "stream",
       "stream": "stderr",
       "text": [
        "manifold_reflected_brownian_motion.py:218: UserWarning: Newton iteration failed for the 1300th time. Process reset to x0.\n",
        "  + str(self.newton_failures) + \"th time. Process reset to x0.\")\n",
        "manifold_reflected_brownian_motion.py:218: UserWarning: Newton iteration failed for the 1301th time. Process reset to x0.\n",
        "  + str(self.newton_failures) + \"th time. Process reset to x0.\")\n",
        "manifold_reflected_brownian_motion.py:218: UserWarning: Newton iteration failed for the 1302th time. Process reset to x0.\n",
        "  + str(self.newton_failures) + \"th time. Process reset to x0.\")\n",
        "manifold_reflected_brownian_motion.py:218: UserWarning: Newton iteration failed for the 1303th time. Process reset to x0.\n",
        "  + str(self.newton_failures) + \"th time. Process reset to x0.\")\n"
       ]
      },
      {
       "output_type": "stream",
       "stream": "stderr",
       "text": [
        "manifold_reflected_brownian_motion.py:218: UserWarning: Newton iteration failed for the 1304th time. Process reset to x0.\n",
        "  + str(self.newton_failures) + \"th time. Process reset to x0.\")\n",
        "manifold_reflected_brownian_motion.py:218: UserWarning: Newton iteration failed for the 1305th time. Process reset to x0.\n",
        "  + str(self.newton_failures) + \"th time. Process reset to x0.\")\n",
        "manifold_reflected_brownian_motion.py:218: UserWarning: Newton iteration failed for the 1306th time. Process reset to x0.\n",
        "  + str(self.newton_failures) + \"th time. Process reset to x0.\")\n",
        "manifold_reflected_brownian_motion.py:218: UserWarning: Newton iteration failed for the 1307th time. Process reset to x0.\n",
        "  + str(self.newton_failures) + \"th time. Process reset to x0.\")\n",
        "manifold_reflected_brownian_motion.py:218: UserWarning: Newton iteration failed for the 1308th time. Process reset to x0.\n",
        "  + str(self.newton_failures) + \"th time. Process reset to x0.\")\n"
       ]
      },
      {
       "output_type": "stream",
       "stream": "stderr",
       "text": [
        "manifold_reflected_brownian_motion.py:218: UserWarning: Newton iteration failed for the 1309th time. Process reset to x0.\n",
        "  + str(self.newton_failures) + \"th time. Process reset to x0.\")\n",
        "manifold_reflected_brownian_motion.py:218: UserWarning: Newton iteration failed for the 1310th time. Process reset to x0.\n",
        "  + str(self.newton_failures) + \"th time. Process reset to x0.\")\n",
        "manifold_reflected_brownian_motion.py:218: UserWarning: Newton iteration failed for the 1311th time. Process reset to x0.\n",
        "  + str(self.newton_failures) + \"th time. Process reset to x0.\")\n",
        "manifold_reflected_brownian_motion.py:218: UserWarning: Newton iteration failed for the 1312th time. Process reset to x0.\n",
        "  + str(self.newton_failures) + \"th time. Process reset to x0.\")\n",
        "manifold_reflected_brownian_motion.py:218: UserWarning: Newton iteration failed for the 1313th time. Process reset to x0.\n",
        "  + str(self.newton_failures) + \"th time. Process reset to x0.\")\n"
       ]
      },
      {
       "output_type": "stream",
       "stream": "stderr",
       "text": [
        "manifold_reflected_brownian_motion.py:218: UserWarning: Newton iteration failed for the 1314th time. Process reset to x0.\n",
        "  + str(self.newton_failures) + \"th time. Process reset to x0.\")\n",
        "manifold_reflected_brownian_motion.py:218: UserWarning: Newton iteration failed for the 1315th time. Process reset to x0.\n",
        "  + str(self.newton_failures) + \"th time. Process reset to x0.\")\n",
        "manifold_reflected_brownian_motion.py:218: UserWarning: Newton iteration failed for the 1316th time. Process reset to x0.\n",
        "  + str(self.newton_failures) + \"th time. Process reset to x0.\")\n",
        "manifold_reflected_brownian_motion.py:218: UserWarning: Newton iteration failed for the 1317th time. Process reset to x0.\n",
        "  + str(self.newton_failures) + \"th time. Process reset to x0.\")\n"
       ]
      },
      {
       "output_type": "stream",
       "stream": "stderr",
       "text": [
        "manifold_reflected_brownian_motion.py:218: UserWarning: Newton iteration failed for the 1318th time. Process reset to x0.\n",
        "  + str(self.newton_failures) + \"th time. Process reset to x0.\")\n",
        "manifold_reflected_brownian_motion.py:218: UserWarning: Newton iteration failed for the 1319th time. Process reset to x0.\n",
        "  + str(self.newton_failures) + \"th time. Process reset to x0.\")\n",
        "manifold_reflected_brownian_motion.py:218: UserWarning: Newton iteration failed for the 1320th time. Process reset to x0.\n",
        "  + str(self.newton_failures) + \"th time. Process reset to x0.\")\n",
        "manifold_reflected_brownian_motion.py:218: UserWarning: Newton iteration failed for the 1321th time. Process reset to x0.\n",
        "  + str(self.newton_failures) + \"th time. Process reset to x0.\")\n",
        "manifold_reflected_brownian_motion.py:218: UserWarning: Newton iteration failed for the 1322th time. Process reset to x0.\n",
        "  + str(self.newton_failures) + \"th time. Process reset to x0.\")\n"
       ]
      },
      {
       "output_type": "stream",
       "stream": "stderr",
       "text": [
        "manifold_reflected_brownian_motion.py:218: UserWarning: Newton iteration failed for the 1323th time. Process reset to x0.\n",
        "  + str(self.newton_failures) + \"th time. Process reset to x0.\")\n",
        "manifold_reflected_brownian_motion.py:218: UserWarning: Newton iteration failed for the 1324th time. Process reset to x0.\n",
        "  + str(self.newton_failures) + \"th time. Process reset to x0.\")\n",
        "manifold_reflected_brownian_motion.py:218: UserWarning: Newton iteration failed for the 1325th time. Process reset to x0.\n",
        "  + str(self.newton_failures) + \"th time. Process reset to x0.\")\n",
        "manifold_reflected_brownian_motion.py:218: UserWarning: Newton iteration failed for the 1326th time. Process reset to x0.\n",
        "  + str(self.newton_failures) + \"th time. Process reset to x0.\")\n"
       ]
      },
      {
       "output_type": "stream",
       "stream": "stderr",
       "text": [
        "manifold_reflected_brownian_motion.py:218: UserWarning: Newton iteration failed for the 1327th time. Process reset to x0.\n",
        "  + str(self.newton_failures) + \"th time. Process reset to x0.\")\n",
        "manifold_reflected_brownian_motion.py:218: UserWarning: Newton iteration failed for the 1328th time. Process reset to x0.\n",
        "  + str(self.newton_failures) + \"th time. Process reset to x0.\")\n",
        "manifold_reflected_brownian_motion.py:218: UserWarning: Newton iteration failed for the 1329th time. Process reset to x0.\n",
        "  + str(self.newton_failures) + \"th time. Process reset to x0.\")\n",
        "manifold_reflected_brownian_motion.py:218: UserWarning: Newton iteration failed for the 1330th time. Process reset to x0.\n",
        "  + str(self.newton_failures) + \"th time. Process reset to x0.\")\n"
       ]
      },
      {
       "output_type": "stream",
       "stream": "stderr",
       "text": [
        "manifold_reflected_brownian_motion.py:218: UserWarning: Newton iteration failed for the 1331th time. Process reset to x0.\n",
        "  + str(self.newton_failures) + \"th time. Process reset to x0.\")\n",
        "manifold_reflected_brownian_motion.py:218: UserWarning: Newton iteration failed for the 1332th time. Process reset to x0.\n",
        "  + str(self.newton_failures) + \"th time. Process reset to x0.\")\n",
        "manifold_reflected_brownian_motion.py:218: UserWarning: Newton iteration failed for the 1333th time. Process reset to x0.\n",
        "  + str(self.newton_failures) + \"th time. Process reset to x0.\")\n",
        "manifold_reflected_brownian_motion.py:218: UserWarning: Newton iteration failed for the 1334th time. Process reset to x0.\n",
        "  + str(self.newton_failures) + \"th time. Process reset to x0.\")\n",
        "manifold_reflected_brownian_motion.py:218: UserWarning: Newton iteration failed for the 1335th time. Process reset to x0.\n",
        "  + str(self.newton_failures) + \"th time. Process reset to x0.\")\n"
       ]
      },
      {
       "output_type": "stream",
       "stream": "stderr",
       "text": [
        "manifold_reflected_brownian_motion.py:218: UserWarning: Newton iteration failed for the 1336th time. Process reset to x0.\n",
        "  + str(self.newton_failures) + \"th time. Process reset to x0.\")\n",
        "manifold_reflected_brownian_motion.py:218: UserWarning: Newton iteration failed for the 1337th time. Process reset to x0.\n",
        "  + str(self.newton_failures) + \"th time. Process reset to x0.\")\n",
        "manifold_reflected_brownian_motion.py:218: UserWarning: Newton iteration failed for the 1338th time. Process reset to x0.\n",
        "  + str(self.newton_failures) + \"th time. Process reset to x0.\")\n",
        "manifold_reflected_brownian_motion.py:218: UserWarning: Newton iteration failed for the 1339th time. Process reset to x0.\n",
        "  + str(self.newton_failures) + \"th time. Process reset to x0.\")\n"
       ]
      },
      {
       "output_type": "stream",
       "stream": "stderr",
       "text": [
        "manifold_reflected_brownian_motion.py:218: UserWarning: Newton iteration failed for the 1340th time. Process reset to x0.\n",
        "  + str(self.newton_failures) + \"th time. Process reset to x0.\")\n",
        "manifold_reflected_brownian_motion.py:218: UserWarning: Newton iteration failed for the 1341th time. Process reset to x0.\n",
        "  + str(self.newton_failures) + \"th time. Process reset to x0.\")\n",
        "manifold_reflected_brownian_motion.py:218: UserWarning: Newton iteration failed for the 1342th time. Process reset to x0.\n",
        "  + str(self.newton_failures) + \"th time. Process reset to x0.\")\n",
        "manifold_reflected_brownian_motion.py:218: UserWarning: Newton iteration failed for the 1343th time. Process reset to x0.\n",
        "  + str(self.newton_failures) + \"th time. Process reset to x0.\")\n",
        "manifold_reflected_brownian_motion.py:218: UserWarning: Newton iteration failed for the 1344th time. Process reset to x0.\n",
        "  + str(self.newton_failures) + \"th time. Process reset to x0.\")\n"
       ]
      },
      {
       "output_type": "stream",
       "stream": "stderr",
       "text": [
        "manifold_reflected_brownian_motion.py:218: UserWarning: Newton iteration failed for the 1345th time. Process reset to x0.\n",
        "  + str(self.newton_failures) + \"th time. Process reset to x0.\")\n",
        "manifold_reflected_brownian_motion.py:218: UserWarning: Newton iteration failed for the 1346th time. Process reset to x0.\n",
        "  + str(self.newton_failures) + \"th time. Process reset to x0.\")\n",
        "manifold_reflected_brownian_motion.py:218: UserWarning: Newton iteration failed for the 1347th time. Process reset to x0.\n",
        "  + str(self.newton_failures) + \"th time. Process reset to x0.\")\n",
        "manifold_reflected_brownian_motion.py:218: UserWarning: Newton iteration failed for the 1348th time. Process reset to x0.\n",
        "  + str(self.newton_failures) + \"th time. Process reset to x0.\")\n"
       ]
      },
      {
       "output_type": "stream",
       "stream": "stderr",
       "text": [
        "manifold_reflected_brownian_motion.py:218: UserWarning: Newton iteration failed for the 1349th time. Process reset to x0.\n",
        "  + str(self.newton_failures) + \"th time. Process reset to x0.\")\n",
        "manifold_reflected_brownian_motion.py:218: UserWarning: Newton iteration failed for the 1350th time. Process reset to x0.\n",
        "  + str(self.newton_failures) + \"th time. Process reset to x0.\")\n",
        "manifold_reflected_brownian_motion.py:218: UserWarning: Newton iteration failed for the 1351th time. Process reset to x0.\n",
        "  + str(self.newton_failures) + \"th time. Process reset to x0.\")\n",
        "manifold_reflected_brownian_motion.py:218: UserWarning: Newton iteration failed for the 1352th time. Process reset to x0.\n",
        "  + str(self.newton_failures) + \"th time. Process reset to x0.\")\n",
        "manifold_reflected_brownian_motion.py:218: UserWarning: Newton iteration failed for the 1353th time. Process reset to x0.\n",
        "  + str(self.newton_failures) + \"th time. Process reset to x0.\")\n"
       ]
      },
      {
       "output_type": "stream",
       "stream": "stderr",
       "text": [
        "manifold_reflected_brownian_motion.py:218: UserWarning: Newton iteration failed for the 1354th time. Process reset to x0.\n",
        "  + str(self.newton_failures) + \"th time. Process reset to x0.\")\n",
        "manifold_reflected_brownian_motion.py:218: UserWarning: Newton iteration failed for the 1355th time. Process reset to x0.\n",
        "  + str(self.newton_failures) + \"th time. Process reset to x0.\")\n",
        "manifold_reflected_brownian_motion.py:218: UserWarning: Newton iteration failed for the 1356th time. Process reset to x0.\n",
        "  + str(self.newton_failures) + \"th time. Process reset to x0.\")\n",
        "manifold_reflected_brownian_motion.py:218: UserWarning: Newton iteration failed for the 1357th time. Process reset to x0.\n",
        "  + str(self.newton_failures) + \"th time. Process reset to x0.\")\n",
        "manifold_reflected_brownian_motion.py:218: UserWarning: Newton iteration failed for the 1358th time. Process reset to x0.\n",
        "  + str(self.newton_failures) + \"th time. Process reset to x0.\")\n"
       ]
      },
      {
       "output_type": "stream",
       "stream": "stderr",
       "text": [
        "manifold_reflected_brownian_motion.py:218: UserWarning: Newton iteration failed for the 1359th time. Process reset to x0.\n",
        "  + str(self.newton_failures) + \"th time. Process reset to x0.\")\n",
        "manifold_reflected_brownian_motion.py:218: UserWarning: Newton iteration failed for the 1360th time. Process reset to x0.\n",
        "  + str(self.newton_failures) + \"th time. Process reset to x0.\")\n",
        "manifold_reflected_brownian_motion.py:218: UserWarning: Newton iteration failed for the 1361th time. Process reset to x0.\n",
        "  + str(self.newton_failures) + \"th time. Process reset to x0.\")\n",
        "manifold_reflected_brownian_motion.py:218: UserWarning: Newton iteration failed for the 1362th time. Process reset to x0.\n",
        "  + str(self.newton_failures) + \"th time. Process reset to x0.\")\n",
        "manifold_reflected_brownian_motion.py:218: UserWarning: Newton iteration failed for the 1363th time. Process reset to x0.\n",
        "  + str(self.newton_failures) + \"th time. Process reset to x0.\")\n"
       ]
      },
      {
       "output_type": "stream",
       "stream": "stderr",
       "text": [
        "manifold_reflected_brownian_motion.py:218: UserWarning: Newton iteration failed for the 1364th time. Process reset to x0.\n",
        "  + str(self.newton_failures) + \"th time. Process reset to x0.\")\n",
        "manifold_reflected_brownian_motion.py:218: UserWarning: Newton iteration failed for the 1365th time. Process reset to x0.\n",
        "  + str(self.newton_failures) + \"th time. Process reset to x0.\")\n",
        "manifold_reflected_brownian_motion.py:218: UserWarning: Newton iteration failed for the 1366th time. Process reset to x0.\n",
        "  + str(self.newton_failures) + \"th time. Process reset to x0.\")\n",
        "manifold_reflected_brownian_motion.py:218: UserWarning: Newton iteration failed for the 1367th time. Process reset to x0.\n",
        "  + str(self.newton_failures) + \"th time. Process reset to x0.\")\n"
       ]
      },
      {
       "output_type": "stream",
       "stream": "stderr",
       "text": [
        "manifold_reflected_brownian_motion.py:218: UserWarning: Newton iteration failed for the 1368th time. Process reset to x0.\n",
        "  + str(self.newton_failures) + \"th time. Process reset to x0.\")\n",
        "manifold_reflected_brownian_motion.py:218: UserWarning: Newton iteration failed for the 1369th time. Process reset to x0.\n",
        "  + str(self.newton_failures) + \"th time. Process reset to x0.\")\n",
        "manifold_reflected_brownian_motion.py:218: UserWarning: Newton iteration failed for the 1370th time. Process reset to x0.\n",
        "  + str(self.newton_failures) + \"th time. Process reset to x0.\")\n",
        "manifold_reflected_brownian_motion.py:218: UserWarning: Newton iteration failed for the 1371th time. Process reset to x0.\n",
        "  + str(self.newton_failures) + \"th time. Process reset to x0.\")\n",
        "manifold_reflected_brownian_motion.py:218: UserWarning: Newton iteration failed for the 1372th time. Process reset to x0.\n",
        "  + str(self.newton_failures) + \"th time. Process reset to x0.\")\n"
       ]
      },
      {
       "output_type": "stream",
       "stream": "stderr",
       "text": [
        "manifold_reflected_brownian_motion.py:218: UserWarning: Newton iteration failed for the 1373th time. Process reset to x0.\n",
        "  + str(self.newton_failures) + \"th time. Process reset to x0.\")\n",
        "manifold_reflected_brownian_motion.py:218: UserWarning: Newton iteration failed for the 1374th time. Process reset to x0.\n",
        "  + str(self.newton_failures) + \"th time. Process reset to x0.\")\n",
        "manifold_reflected_brownian_motion.py:218: UserWarning: Newton iteration failed for the 1375th time. Process reset to x0.\n",
        "  + str(self.newton_failures) + \"th time. Process reset to x0.\")\n",
        "manifold_reflected_brownian_motion.py:218: UserWarning: Newton iteration failed for the 1376th time. Process reset to x0.\n",
        "  + str(self.newton_failures) + \"th time. Process reset to x0.\")\n"
       ]
      },
      {
       "output_type": "stream",
       "stream": "stderr",
       "text": [
        "manifold_reflected_brownian_motion.py:218: UserWarning: Newton iteration failed for the 1377th time. Process reset to x0.\n",
        "  + str(self.newton_failures) + \"th time. Process reset to x0.\")\n",
        "manifold_reflected_brownian_motion.py:218: UserWarning: Newton iteration failed for the 1378th time. Process reset to x0.\n",
        "  + str(self.newton_failures) + \"th time. Process reset to x0.\")\n",
        "manifold_reflected_brownian_motion.py:218: UserWarning: Newton iteration failed for the 1379th time. Process reset to x0.\n",
        "  + str(self.newton_failures) + \"th time. Process reset to x0.\")\n",
        "manifold_reflected_brownian_motion.py:218: UserWarning: Newton iteration failed for the 1380th time. Process reset to x0.\n",
        "  + str(self.newton_failures) + \"th time. Process reset to x0.\")\n",
        "manifold_reflected_brownian_motion.py:218: UserWarning: Newton iteration failed for the 1381th time. Process reset to x0.\n",
        "  + str(self.newton_failures) + \"th time. Process reset to x0.\")\n"
       ]
      },
      {
       "output_type": "stream",
       "stream": "stderr",
       "text": [
        "manifold_reflected_brownian_motion.py:218: UserWarning: Newton iteration failed for the 1382th time. Process reset to x0.\n",
        "  + str(self.newton_failures) + \"th time. Process reset to x0.\")\n",
        "manifold_reflected_brownian_motion.py:218: UserWarning: Newton iteration failed for the 1383th time. Process reset to x0.\n",
        "  + str(self.newton_failures) + \"th time. Process reset to x0.\")\n",
        "manifold_reflected_brownian_motion.py:218: UserWarning: Newton iteration failed for the 1384th time. Process reset to x0.\n",
        "  + str(self.newton_failures) + \"th time. Process reset to x0.\")\n",
        "manifold_reflected_brownian_motion.py:218: UserWarning: Newton iteration failed for the 1385th time. Process reset to x0.\n",
        "  + str(self.newton_failures) + \"th time. Process reset to x0.\")\n",
        "manifold_reflected_brownian_motion.py:218: UserWarning: Newton iteration failed for the 1386th time. Process reset to x0.\n",
        "  + str(self.newton_failures) + \"th time. Process reset to x0.\")\n"
       ]
      },
      {
       "output_type": "stream",
       "stream": "stderr",
       "text": [
        "manifold_reflected_brownian_motion.py:218: UserWarning: Newton iteration failed for the 1387th time. Process reset to x0.\n",
        "  + str(self.newton_failures) + \"th time. Process reset to x0.\")\n",
        "manifold_reflected_brownian_motion.py:218: UserWarning: Newton iteration failed for the 1388th time. Process reset to x0.\n",
        "  + str(self.newton_failures) + \"th time. Process reset to x0.\")\n",
        "manifold_reflected_brownian_motion.py:218: UserWarning: Newton iteration failed for the 1389th time. Process reset to x0.\n",
        "  + str(self.newton_failures) + \"th time. Process reset to x0.\")\n",
        "manifold_reflected_brownian_motion.py:218: UserWarning: Newton iteration failed for the 1390th time. Process reset to x0.\n",
        "  + str(self.newton_failures) + \"th time. Process reset to x0.\")\n",
        "manifold_reflected_brownian_motion.py:218: UserWarning: Newton iteration failed for the 1391th time. Process reset to x0.\n",
        "  + str(self.newton_failures) + \"th time. Process reset to x0.\")\n"
       ]
      },
      {
       "output_type": "stream",
       "stream": "stderr",
       "text": [
        "manifold_reflected_brownian_motion.py:218: UserWarning: Newton iteration failed for the 1392th time. Process reset to x0.\n",
        "  + str(self.newton_failures) + \"th time. Process reset to x0.\")\n",
        "manifold_reflected_brownian_motion.py:218: UserWarning: Newton iteration failed for the 1393th time. Process reset to x0.\n",
        "  + str(self.newton_failures) + \"th time. Process reset to x0.\")\n",
        "manifold_reflected_brownian_motion.py:218: UserWarning: Newton iteration failed for the 1394th time. Process reset to x0.\n",
        "  + str(self.newton_failures) + \"th time. Process reset to x0.\")\n",
        "manifold_reflected_brownian_motion.py:218: UserWarning: Newton iteration failed for the 1395th time. Process reset to x0.\n",
        "  + str(self.newton_failures) + \"th time. Process reset to x0.\")\n",
        "manifold_reflected_brownian_motion.py:218: UserWarning: Newton iteration failed for the 1396th time. Process reset to x0.\n",
        "  + str(self.newton_failures) + \"th time. Process reset to x0.\")\n"
       ]
      },
      {
       "output_type": "stream",
       "stream": "stderr",
       "text": [
        "manifold_reflected_brownian_motion.py:218: UserWarning: Newton iteration failed for the 1397th time. Process reset to x0.\n",
        "  + str(self.newton_failures) + \"th time. Process reset to x0.\")\n",
        "manifold_reflected_brownian_motion.py:218: UserWarning: Newton iteration failed for the 1398th time. Process reset to x0.\n",
        "  + str(self.newton_failures) + \"th time. Process reset to x0.\")\n",
        "manifold_reflected_brownian_motion.py:218: UserWarning: Newton iteration failed for the 1399th time. Process reset to x0.\n",
        "  + str(self.newton_failures) + \"th time. Process reset to x0.\")\n",
        "manifold_reflected_brownian_motion.py:218: UserWarning: Newton iteration failed for the 1400th time. Process reset to x0.\n",
        "  + str(self.newton_failures) + \"th time. Process reset to x0.\")\n",
        "manifold_reflected_brownian_motion.py:218: UserWarning: Newton iteration failed for the 1401th time. Process reset to x0.\n",
        "  + str(self.newton_failures) + \"th time. Process reset to x0.\")\n"
       ]
      },
      {
       "output_type": "stream",
       "stream": "stderr",
       "text": [
        "manifold_reflected_brownian_motion.py:218: UserWarning: Newton iteration failed for the 1402th time. Process reset to x0.\n",
        "  + str(self.newton_failures) + \"th time. Process reset to x0.\")\n",
        "manifold_reflected_brownian_motion.py:218: UserWarning: Newton iteration failed for the 1403th time. Process reset to x0.\n",
        "  + str(self.newton_failures) + \"th time. Process reset to x0.\")\n",
        "manifold_reflected_brownian_motion.py:218: UserWarning: Newton iteration failed for the 1404th time. Process reset to x0.\n",
        "  + str(self.newton_failures) + \"th time. Process reset to x0.\")\n",
        "manifold_reflected_brownian_motion.py:218: UserWarning: Newton iteration failed for the 1405th time. Process reset to x0.\n",
        "  + str(self.newton_failures) + \"th time. Process reset to x0.\")\n"
       ]
      },
      {
       "output_type": "stream",
       "stream": "stderr",
       "text": [
        "manifold_reflected_brownian_motion.py:218: UserWarning: Newton iteration failed for the 1406th time. Process reset to x0.\n",
        "  + str(self.newton_failures) + \"th time. Process reset to x0.\")\n",
        "manifold_reflected_brownian_motion.py:218: UserWarning: Newton iteration failed for the 1407th time. Process reset to x0.\n",
        "  + str(self.newton_failures) + \"th time. Process reset to x0.\")\n",
        "manifold_reflected_brownian_motion.py:218: UserWarning: Newton iteration failed for the 1408th time. Process reset to x0.\n",
        "  + str(self.newton_failures) + \"th time. Process reset to x0.\")\n",
        "manifold_reflected_brownian_motion.py:218: UserWarning: Newton iteration failed for the 1409th time. Process reset to x0.\n",
        "  + str(self.newton_failures) + \"th time. Process reset to x0.\")\n"
       ]
      },
      {
       "output_type": "stream",
       "stream": "stderr",
       "text": [
        "manifold_reflected_brownian_motion.py:218: UserWarning: Newton iteration failed for the 1410th time. Process reset to x0.\n",
        "  + str(self.newton_failures) + \"th time. Process reset to x0.\")\n",
        "manifold_reflected_brownian_motion.py:218: UserWarning: Newton iteration failed for the 1411th time. Process reset to x0.\n",
        "  + str(self.newton_failures) + \"th time. Process reset to x0.\")\n",
        "manifold_reflected_brownian_motion.py:218: UserWarning: Newton iteration failed for the 1412th time. Process reset to x0.\n",
        "  + str(self.newton_failures) + \"th time. Process reset to x0.\")\n",
        "manifold_reflected_brownian_motion.py:218: UserWarning: Newton iteration failed for the 1413th time. Process reset to x0.\n",
        "  + str(self.newton_failures) + \"th time. Process reset to x0.\")\n",
        "manifold_reflected_brownian_motion.py:218: UserWarning: Newton iteration failed for the 1414th time. Process reset to x0.\n",
        "  + str(self.newton_failures) + \"th time. Process reset to x0.\")\n"
       ]
      },
      {
       "output_type": "stream",
       "stream": "stderr",
       "text": [
        "manifold_reflected_brownian_motion.py:218: UserWarning: Newton iteration failed for the 1415th time. Process reset to x0.\n",
        "  + str(self.newton_failures) + \"th time. Process reset to x0.\")\n",
        "manifold_reflected_brownian_motion.py:218: UserWarning: Newton iteration failed for the 1416th time. Process reset to x0.\n",
        "  + str(self.newton_failures) + \"th time. Process reset to x0.\")\n",
        "manifold_reflected_brownian_motion.py:218: UserWarning: Newton iteration failed for the 1417th time. Process reset to x0.\n",
        "  + str(self.newton_failures) + \"th time. Process reset to x0.\")\n",
        "manifold_reflected_brownian_motion.py:218: UserWarning: Newton iteration failed for the 1418th time. Process reset to x0.\n",
        "  + str(self.newton_failures) + \"th time. Process reset to x0.\")\n",
        "manifold_reflected_brownian_motion.py:218: UserWarning: Newton iteration failed for the 1419th time. Process reset to x0.\n",
        "  + str(self.newton_failures) + \"th time. Process reset to x0.\")\n"
       ]
      },
      {
       "output_type": "stream",
       "stream": "stderr",
       "text": [
        "manifold_reflected_brownian_motion.py:218: UserWarning: Newton iteration failed for the 1420th time. Process reset to x0.\n",
        "  + str(self.newton_failures) + \"th time. Process reset to x0.\")\n",
        "manifold_reflected_brownian_motion.py:218: UserWarning: Newton iteration failed for the 1421th time. Process reset to x0.\n",
        "  + str(self.newton_failures) + \"th time. Process reset to x0.\")\n",
        "manifold_reflected_brownian_motion.py:218: UserWarning: Newton iteration failed for the 1422th time. Process reset to x0.\n",
        "  + str(self.newton_failures) + \"th time. Process reset to x0.\")\n",
        "manifold_reflected_brownian_motion.py:218: UserWarning: Newton iteration failed for the 1423th time. Process reset to x0.\n",
        "  + str(self.newton_failures) + \"th time. Process reset to x0.\")\n",
        "manifold_reflected_brownian_motion.py:218: UserWarning: Newton iteration failed for the 1424th time. Process reset to x0.\n",
        "  + str(self.newton_failures) + \"th time. Process reset to x0.\")\n"
       ]
      },
      {
       "output_type": "stream",
       "stream": "stderr",
       "text": [
        "manifold_reflected_brownian_motion.py:218: UserWarning: Newton iteration failed for the 1425th time. Process reset to x0.\n",
        "  + str(self.newton_failures) + \"th time. Process reset to x0.\")\n",
        "manifold_reflected_brownian_motion.py:218: UserWarning: Newton iteration failed for the 1426th time. Process reset to x0.\n",
        "  + str(self.newton_failures) + \"th time. Process reset to x0.\")\n",
        "manifold_reflected_brownian_motion.py:218: UserWarning: Newton iteration failed for the 1427th time. Process reset to x0.\n",
        "  + str(self.newton_failures) + \"th time. Process reset to x0.\")\n",
        "manifold_reflected_brownian_motion.py:218: UserWarning: Newton iteration failed for the 1428th time. Process reset to x0.\n",
        "  + str(self.newton_failures) + \"th time. Process reset to x0.\")\n",
        "manifold_reflected_brownian_motion.py:218: UserWarning: Newton iteration failed for the 1429th time. Process reset to x0.\n",
        "  + str(self.newton_failures) + \"th time. Process reset to x0.\")\n"
       ]
      },
      {
       "output_type": "stream",
       "stream": "stderr",
       "text": [
        "manifold_reflected_brownian_motion.py:218: UserWarning: Newton iteration failed for the 1430th time. Process reset to x0.\n",
        "  + str(self.newton_failures) + \"th time. Process reset to x0.\")\n",
        "manifold_reflected_brownian_motion.py:218: UserWarning: Newton iteration failed for the 1431th time. Process reset to x0.\n",
        "  + str(self.newton_failures) + \"th time. Process reset to x0.\")\n",
        "manifold_reflected_brownian_motion.py:218: UserWarning: Newton iteration failed for the 1432th time. Process reset to x0.\n",
        "  + str(self.newton_failures) + \"th time. Process reset to x0.\")\n",
        "manifold_reflected_brownian_motion.py:218: UserWarning: Newton iteration failed for the 1433th time. Process reset to x0.\n",
        "  + str(self.newton_failures) + \"th time. Process reset to x0.\")\n",
        "manifold_reflected_brownian_motion.py:218: UserWarning: Newton iteration failed for the 1434th time. Process reset to x0.\n",
        "  + str(self.newton_failures) + \"th time. Process reset to x0.\")\n"
       ]
      },
      {
       "output_type": "stream",
       "stream": "stderr",
       "text": [
        "manifold_reflected_brownian_motion.py:218: UserWarning: Newton iteration failed for the 1435th time. Process reset to x0.\n",
        "  + str(self.newton_failures) + \"th time. Process reset to x0.\")\n",
        "manifold_reflected_brownian_motion.py:218: UserWarning: Newton iteration failed for the 1436th time. Process reset to x0.\n",
        "  + str(self.newton_failures) + \"th time. Process reset to x0.\")\n",
        "manifold_reflected_brownian_motion.py:218: UserWarning: Newton iteration failed for the 1437th time. Process reset to x0.\n",
        "  + str(self.newton_failures) + \"th time. Process reset to x0.\")\n",
        "manifold_reflected_brownian_motion.py:218: UserWarning: Newton iteration failed for the 1438th time. Process reset to x0.\n",
        "  + str(self.newton_failures) + \"th time. Process reset to x0.\")\n"
       ]
      },
      {
       "output_type": "stream",
       "stream": "stderr",
       "text": [
        "manifold_reflected_brownian_motion.py:218: UserWarning: Newton iteration failed for the 1439th time. Process reset to x0.\n",
        "  + str(self.newton_failures) + \"th time. Process reset to x0.\")\n",
        "manifold_reflected_brownian_motion.py:218: UserWarning: Newton iteration failed for the 1440th time. Process reset to x0.\n",
        "  + str(self.newton_failures) + \"th time. Process reset to x0.\")\n",
        "manifold_reflected_brownian_motion.py:218: UserWarning: Newton iteration failed for the 1441th time. Process reset to x0.\n",
        "  + str(self.newton_failures) + \"th time. Process reset to x0.\")\n",
        "manifold_reflected_brownian_motion.py:218: UserWarning: Newton iteration failed for the 1442th time. Process reset to x0.\n",
        "  + str(self.newton_failures) + \"th time. Process reset to x0.\")\n"
       ]
      },
      {
       "output_type": "stream",
       "stream": "stderr",
       "text": [
        "manifold_reflected_brownian_motion.py:218: UserWarning: Newton iteration failed for the 1443th time. Process reset to x0.\n",
        "  + str(self.newton_failures) + \"th time. Process reset to x0.\")\n",
        "manifold_reflected_brownian_motion.py:218: UserWarning: Newton iteration failed for the 1444th time. Process reset to x0.\n",
        "  + str(self.newton_failures) + \"th time. Process reset to x0.\")\n",
        "manifold_reflected_brownian_motion.py:218: UserWarning: Newton iteration failed for the 1445th time. Process reset to x0.\n",
        "  + str(self.newton_failures) + \"th time. Process reset to x0.\")\n",
        "manifold_reflected_brownian_motion.py:218: UserWarning: Newton iteration failed for the 1446th time. Process reset to x0.\n",
        "  + str(self.newton_failures) + \"th time. Process reset to x0.\")\n"
       ]
      },
      {
       "output_type": "stream",
       "stream": "stderr",
       "text": [
        "manifold_reflected_brownian_motion.py:218: UserWarning: Newton iteration failed for the 1447th time. Process reset to x0.\n",
        "  + str(self.newton_failures) + \"th time. Process reset to x0.\")\n",
        "manifold_reflected_brownian_motion.py:218: UserWarning: Newton iteration failed for the 1448th time. Process reset to x0.\n",
        "  + str(self.newton_failures) + \"th time. Process reset to x0.\")\n",
        "manifold_reflected_brownian_motion.py:218: UserWarning: Newton iteration failed for the 1449th time. Process reset to x0.\n",
        "  + str(self.newton_failures) + \"th time. Process reset to x0.\")\n",
        "manifold_reflected_brownian_motion.py:218: UserWarning: Newton iteration failed for the 1450th time. Process reset to x0.\n",
        "  + str(self.newton_failures) + \"th time. Process reset to x0.\")\n",
        "manifold_reflected_brownian_motion.py:218: UserWarning: Newton iteration failed for the 1451th time. Process reset to x0.\n",
        "  + str(self.newton_failures) + \"th time. Process reset to x0.\")\n"
       ]
      },
      {
       "output_type": "stream",
       "stream": "stderr",
       "text": [
        "manifold_reflected_brownian_motion.py:218: UserWarning: Newton iteration failed for the 1452th time. Process reset to x0.\n",
        "  + str(self.newton_failures) + \"th time. Process reset to x0.\")\n",
        "manifold_reflected_brownian_motion.py:218: UserWarning: Newton iteration failed for the 1453th time. Process reset to x0.\n",
        "  + str(self.newton_failures) + \"th time. Process reset to x0.\")\n",
        "manifold_reflected_brownian_motion.py:218: UserWarning: Newton iteration failed for the 1454th time. Process reset to x0.\n",
        "  + str(self.newton_failures) + \"th time. Process reset to x0.\")\n",
        "manifold_reflected_brownian_motion.py:218: UserWarning: Newton iteration failed for the 1455th time. Process reset to x0.\n",
        "  + str(self.newton_failures) + \"th time. Process reset to x0.\")\n"
       ]
      },
      {
       "output_type": "stream",
       "stream": "stderr",
       "text": [
        "manifold_reflected_brownian_motion.py:218: UserWarning: Newton iteration failed for the 1456th time. Process reset to x0.\n",
        "  + str(self.newton_failures) + \"th time. Process reset to x0.\")\n",
        "manifold_reflected_brownian_motion.py:218: UserWarning: Newton iteration failed for the 1457th time. Process reset to x0.\n",
        "  + str(self.newton_failures) + \"th time. Process reset to x0.\")\n",
        "manifold_reflected_brownian_motion.py:218: UserWarning: Newton iteration failed for the 1458th time. Process reset to x0.\n",
        "  + str(self.newton_failures) + \"th time. Process reset to x0.\")\n",
        "manifold_reflected_brownian_motion.py:218: UserWarning: Newton iteration failed for the 1459th time. Process reset to x0.\n",
        "  + str(self.newton_failures) + \"th time. Process reset to x0.\")\n"
       ]
      },
      {
       "output_type": "stream",
       "stream": "stderr",
       "text": [
        "manifold_reflected_brownian_motion.py:218: UserWarning: Newton iteration failed for the 1460th time. Process reset to x0.\n",
        "  + str(self.newton_failures) + \"th time. Process reset to x0.\")\n",
        "manifold_reflected_brownian_motion.py:218: UserWarning: Newton iteration failed for the 1461th time. Process reset to x0.\n",
        "  + str(self.newton_failures) + \"th time. Process reset to x0.\")\n",
        "manifold_reflected_brownian_motion.py:218: UserWarning: Newton iteration failed for the 1462th time. Process reset to x0.\n",
        "  + str(self.newton_failures) + \"th time. Process reset to x0.\")\n",
        "manifold_reflected_brownian_motion.py:218: UserWarning: Newton iteration failed for the 1463th time. Process reset to x0.\n",
        "  + str(self.newton_failures) + \"th time. Process reset to x0.\")\n"
       ]
      },
      {
       "output_type": "stream",
       "stream": "stderr",
       "text": [
        "manifold_reflected_brownian_motion.py:218: UserWarning: Newton iteration failed for the 1464th time. Process reset to x0.\n",
        "  + str(self.newton_failures) + \"th time. Process reset to x0.\")\n",
        "manifold_reflected_brownian_motion.py:218: UserWarning: Newton iteration failed for the 1465th time. Process reset to x0.\n",
        "  + str(self.newton_failures) + \"th time. Process reset to x0.\")\n",
        "manifold_reflected_brownian_motion.py:218: UserWarning: Newton iteration failed for the 1466th time. Process reset to x0.\n",
        "  + str(self.newton_failures) + \"th time. Process reset to x0.\")\n",
        "manifold_reflected_brownian_motion.py:218: UserWarning: Newton iteration failed for the 1467th time. Process reset to x0.\n",
        "  + str(self.newton_failures) + \"th time. Process reset to x0.\")\n"
       ]
      },
      {
       "output_type": "stream",
       "stream": "stderr",
       "text": [
        "manifold_reflected_brownian_motion.py:218: UserWarning: Newton iteration failed for the 1468th time. Process reset to x0.\n",
        "  + str(self.newton_failures) + \"th time. Process reset to x0.\")\n",
        "manifold_reflected_brownian_motion.py:218: UserWarning: Newton iteration failed for the 1469th time. Process reset to x0.\n",
        "  + str(self.newton_failures) + \"th time. Process reset to x0.\")\n",
        "manifold_reflected_brownian_motion.py:218: UserWarning: Newton iteration failed for the 1470th time. Process reset to x0.\n",
        "  + str(self.newton_failures) + \"th time. Process reset to x0.\")\n",
        "manifold_reflected_brownian_motion.py:218: UserWarning: Newton iteration failed for the 1471th time. Process reset to x0.\n",
        "  + str(self.newton_failures) + \"th time. Process reset to x0.\")\n",
        "manifold_reflected_brownian_motion.py:218: UserWarning: Newton iteration failed for the 1472th time. Process reset to x0.\n",
        "  + str(self.newton_failures) + \"th time. Process reset to x0.\")\n"
       ]
      },
      {
       "output_type": "stream",
       "stream": "stderr",
       "text": [
        "manifold_reflected_brownian_motion.py:218: UserWarning: Newton iteration failed for the 1473th time. Process reset to x0.\n",
        "  + str(self.newton_failures) + \"th time. Process reset to x0.\")\n",
        "manifold_reflected_brownian_motion.py:218: UserWarning: Newton iteration failed for the 1474th time. Process reset to x0.\n",
        "  + str(self.newton_failures) + \"th time. Process reset to x0.\")\n",
        "manifold_reflected_brownian_motion.py:218: UserWarning: Newton iteration failed for the 1475th time. Process reset to x0.\n",
        "  + str(self.newton_failures) + \"th time. Process reset to x0.\")\n",
        "manifold_reflected_brownian_motion.py:218: UserWarning: Newton iteration failed for the 1476th time. Process reset to x0.\n",
        "  + str(self.newton_failures) + \"th time. Process reset to x0.\")\n"
       ]
      },
      {
       "output_type": "stream",
       "stream": "stderr",
       "text": [
        "manifold_reflected_brownian_motion.py:218: UserWarning: Newton iteration failed for the 1477th time. Process reset to x0.\n",
        "  + str(self.newton_failures) + \"th time. Process reset to x0.\")\n",
        "manifold_reflected_brownian_motion.py:218: UserWarning: Newton iteration failed for the 1478th time. Process reset to x0.\n",
        "  + str(self.newton_failures) + \"th time. Process reset to x0.\")\n",
        "manifold_reflected_brownian_motion.py:218: UserWarning: Newton iteration failed for the 1479th time. Process reset to x0.\n",
        "  + str(self.newton_failures) + \"th time. Process reset to x0.\")\n",
        "manifold_reflected_brownian_motion.py:218: UserWarning: Newton iteration failed for the 1480th time. Process reset to x0.\n",
        "  + str(self.newton_failures) + \"th time. Process reset to x0.\")\n",
        "manifold_reflected_brownian_motion.py:218: UserWarning: Newton iteration failed for the 1481th time. Process reset to x0.\n",
        "  + str(self.newton_failures) + \"th time. Process reset to x0.\")\n"
       ]
      },
      {
       "output_type": "stream",
       "stream": "stderr",
       "text": [
        "manifold_reflected_brownian_motion.py:218: UserWarning: Newton iteration failed for the 1482th time. Process reset to x0.\n",
        "  + str(self.newton_failures) + \"th time. Process reset to x0.\")\n",
        "manifold_reflected_brownian_motion.py:218: UserWarning: Newton iteration failed for the 1483th time. Process reset to x0.\n",
        "  + str(self.newton_failures) + \"th time. Process reset to x0.\")\n",
        "manifold_reflected_brownian_motion.py:218: UserWarning: Newton iteration failed for the 1484th time. Process reset to x0.\n",
        "  + str(self.newton_failures) + \"th time. Process reset to x0.\")\n",
        "manifold_reflected_brownian_motion.py:218: UserWarning: Newton iteration failed for the 1485th time. Process reset to x0.\n",
        "  + str(self.newton_failures) + \"th time. Process reset to x0.\")\n",
        "manifold_reflected_brownian_motion.py:218: UserWarning: Newton iteration failed for the 1486th time. Process reset to x0.\n",
        "  + str(self.newton_failures) + \"th time. Process reset to x0.\")\n"
       ]
      },
      {
       "output_type": "stream",
       "stream": "stderr",
       "text": [
        "manifold_reflected_brownian_motion.py:218: UserWarning: Newton iteration failed for the 1487th time. Process reset to x0.\n",
        "  + str(self.newton_failures) + \"th time. Process reset to x0.\")\n",
        "manifold_reflected_brownian_motion.py:218: UserWarning: Newton iteration failed for the 1488th time. Process reset to x0.\n",
        "  + str(self.newton_failures) + \"th time. Process reset to x0.\")\n",
        "manifold_reflected_brownian_motion.py:218: UserWarning: Newton iteration failed for the 1489th time. Process reset to x0.\n",
        "  + str(self.newton_failures) + \"th time. Process reset to x0.\")\n",
        "manifold_reflected_brownian_motion.py:218: UserWarning: Newton iteration failed for the 1490th time. Process reset to x0.\n",
        "  + str(self.newton_failures) + \"th time. Process reset to x0.\")\n"
       ]
      },
      {
       "output_type": "stream",
       "stream": "stderr",
       "text": [
        "manifold_reflected_brownian_motion.py:218: UserWarning: Newton iteration failed for the 1491th time. Process reset to x0.\n",
        "  + str(self.newton_failures) + \"th time. Process reset to x0.\")\n",
        "manifold_reflected_brownian_motion.py:218: UserWarning: Newton iteration failed for the 1492th time. Process reset to x0.\n",
        "  + str(self.newton_failures) + \"th time. Process reset to x0.\")\n",
        "manifold_reflected_brownian_motion.py:218: UserWarning: Newton iteration failed for the 1493th time. Process reset to x0.\n",
        "  + str(self.newton_failures) + \"th time. Process reset to x0.\")\n",
        "manifold_reflected_brownian_motion.py:218: UserWarning: Newton iteration failed for the 1494th time. Process reset to x0.\n",
        "  + str(self.newton_failures) + \"th time. Process reset to x0.\")\n",
        "manifold_reflected_brownian_motion.py:218: UserWarning: Newton iteration failed for the 1495th time. Process reset to x0.\n",
        "  + str(self.newton_failures) + \"th time. Process reset to x0.\")\n"
       ]
      },
      {
       "output_type": "stream",
       "stream": "stderr",
       "text": [
        "manifold_reflected_brownian_motion.py:218: UserWarning: Newton iteration failed for the 1496th time. Process reset to x0.\n",
        "  + str(self.newton_failures) + \"th time. Process reset to x0.\")\n",
        "manifold_reflected_brownian_motion.py:218: UserWarning: Newton iteration failed for the 1497th time. Process reset to x0.\n",
        "  + str(self.newton_failures) + \"th time. Process reset to x0.\")\n",
        "manifold_reflected_brownian_motion.py:218: UserWarning: Newton iteration failed for the 1498th time. Process reset to x0.\n",
        "  + str(self.newton_failures) + \"th time. Process reset to x0.\")\n",
        "manifold_reflected_brownian_motion.py:218: UserWarning: Newton iteration failed for the 1499th time. Process reset to x0.\n",
        "  + str(self.newton_failures) + \"th time. Process reset to x0.\")\n",
        "manifold_reflected_brownian_motion.py:218: UserWarning: Newton iteration failed for the 1500th time. Process reset to x0.\n",
        "  + str(self.newton_failures) + \"th time. Process reset to x0.\")\n"
       ]
      },
      {
       "output_type": "stream",
       "stream": "stderr",
       "text": [
        "manifold_reflected_brownian_motion.py:218: UserWarning: Newton iteration failed for the 1501th time. Process reset to x0.\n",
        "  + str(self.newton_failures) + \"th time. Process reset to x0.\")\n",
        "manifold_reflected_brownian_motion.py:218: UserWarning: Newton iteration failed for the 1502th time. Process reset to x0.\n",
        "  + str(self.newton_failures) + \"th time. Process reset to x0.\")\n",
        "manifold_reflected_brownian_motion.py:218: UserWarning: Newton iteration failed for the 1503th time. Process reset to x0.\n",
        "  + str(self.newton_failures) + \"th time. Process reset to x0.\")\n",
        "manifold_reflected_brownian_motion.py:218: UserWarning: Newton iteration failed for the 1504th time. Process reset to x0.\n",
        "  + str(self.newton_failures) + \"th time. Process reset to x0.\")\n"
       ]
      },
      {
       "output_type": "stream",
       "stream": "stderr",
       "text": [
        "manifold_reflected_brownian_motion.py:218: UserWarning: Newton iteration failed for the 1505th time. Process reset to x0.\n",
        "  + str(self.newton_failures) + \"th time. Process reset to x0.\")\n",
        "manifold_reflected_brownian_motion.py:218: UserWarning: Newton iteration failed for the 1506th time. Process reset to x0.\n",
        "  + str(self.newton_failures) + \"th time. Process reset to x0.\")\n",
        "manifold_reflected_brownian_motion.py:218: UserWarning: Newton iteration failed for the 1507th time. Process reset to x0.\n",
        "  + str(self.newton_failures) + \"th time. Process reset to x0.\")\n",
        "manifold_reflected_brownian_motion.py:218: UserWarning: Newton iteration failed for the 1508th time. Process reset to x0.\n",
        "  + str(self.newton_failures) + \"th time. Process reset to x0.\")\n"
       ]
      },
      {
       "output_type": "stream",
       "stream": "stderr",
       "text": [
        "manifold_reflected_brownian_motion.py:218: UserWarning: Newton iteration failed for the 1509th time. Process reset to x0.\n",
        "  + str(self.newton_failures) + \"th time. Process reset to x0.\")\n",
        "manifold_reflected_brownian_motion.py:218: UserWarning: Newton iteration failed for the 1510th time. Process reset to x0.\n",
        "  + str(self.newton_failures) + \"th time. Process reset to x0.\")\n",
        "manifold_reflected_brownian_motion.py:218: UserWarning: Newton iteration failed for the 1511th time. Process reset to x0.\n",
        "  + str(self.newton_failures) + \"th time. Process reset to x0.\")\n",
        "manifold_reflected_brownian_motion.py:218: UserWarning: Newton iteration failed for the 1512th time. Process reset to x0.\n",
        "  + str(self.newton_failures) + \"th time. Process reset to x0.\")\n",
        "manifold_reflected_brownian_motion.py:218: UserWarning: Newton iteration failed for the 1513th time. Process reset to x0.\n",
        "  + str(self.newton_failures) + \"th time. Process reset to x0.\")\n"
       ]
      },
      {
       "output_type": "stream",
       "stream": "stderr",
       "text": [
        "manifold_reflected_brownian_motion.py:218: UserWarning: Newton iteration failed for the 1514th time. Process reset to x0.\n",
        "  + str(self.newton_failures) + \"th time. Process reset to x0.\")\n",
        "manifold_reflected_brownian_motion.py:218: UserWarning: Newton iteration failed for the 1515th time. Process reset to x0.\n",
        "  + str(self.newton_failures) + \"th time. Process reset to x0.\")\n",
        "manifold_reflected_brownian_motion.py:218: UserWarning: Newton iteration failed for the 1516th time. Process reset to x0.\n",
        "  + str(self.newton_failures) + \"th time. Process reset to x0.\")\n",
        "manifold_reflected_brownian_motion.py:218: UserWarning: Newton iteration failed for the 1517th time. Process reset to x0.\n",
        "  + str(self.newton_failures) + \"th time. Process reset to x0.\")\n"
       ]
      },
      {
       "output_type": "stream",
       "stream": "stderr",
       "text": [
        "manifold_reflected_brownian_motion.py:218: UserWarning: Newton iteration failed for the 1518th time. Process reset to x0.\n",
        "  + str(self.newton_failures) + \"th time. Process reset to x0.\")\n",
        "manifold_reflected_brownian_motion.py:218: UserWarning: Newton iteration failed for the 1519th time. Process reset to x0.\n",
        "  + str(self.newton_failures) + \"th time. Process reset to x0.\")\n",
        "manifold_reflected_brownian_motion.py:218: UserWarning: Newton iteration failed for the 1520th time. Process reset to x0.\n",
        "  + str(self.newton_failures) + \"th time. Process reset to x0.\")\n",
        "manifold_reflected_brownian_motion.py:218: UserWarning: Newton iteration failed for the 1521th time. Process reset to x0.\n",
        "  + str(self.newton_failures) + \"th time. Process reset to x0.\")\n",
        "manifold_reflected_brownian_motion.py:218: UserWarning: Newton iteration failed for the 1522th time. Process reset to x0.\n",
        "  + str(self.newton_failures) + \"th time. Process reset to x0.\")\n"
       ]
      },
      {
       "output_type": "stream",
       "stream": "stderr",
       "text": [
        "manifold_reflected_brownian_motion.py:218: UserWarning: Newton iteration failed for the 1523th time. Process reset to x0.\n",
        "  + str(self.newton_failures) + \"th time. Process reset to x0.\")\n",
        "manifold_reflected_brownian_motion.py:218: UserWarning: Newton iteration failed for the 1524th time. Process reset to x0.\n",
        "  + str(self.newton_failures) + \"th time. Process reset to x0.\")\n",
        "manifold_reflected_brownian_motion.py:218: UserWarning: Newton iteration failed for the 1525th time. Process reset to x0.\n",
        "  + str(self.newton_failures) + \"th time. Process reset to x0.\")\n",
        "manifold_reflected_brownian_motion.py:218: UserWarning: Newton iteration failed for the 1526th time. Process reset to x0.\n",
        "  + str(self.newton_failures) + \"th time. Process reset to x0.\")\n",
        "manifold_reflected_brownian_motion.py:218: UserWarning: Newton iteration failed for the 1527th time. Process reset to x0.\n",
        "  + str(self.newton_failures) + \"th time. Process reset to x0.\")\n"
       ]
      },
      {
       "output_type": "stream",
       "stream": "stderr",
       "text": [
        "manifold_reflected_brownian_motion.py:218: UserWarning: Newton iteration failed for the 1528th time. Process reset to x0.\n",
        "  + str(self.newton_failures) + \"th time. Process reset to x0.\")\n",
        "manifold_reflected_brownian_motion.py:218: UserWarning: Newton iteration failed for the 1529th time. Process reset to x0.\n",
        "  + str(self.newton_failures) + \"th time. Process reset to x0.\")\n",
        "manifold_reflected_brownian_motion.py:218: UserWarning: Newton iteration failed for the 1530th time. Process reset to x0.\n",
        "  + str(self.newton_failures) + \"th time. Process reset to x0.\")\n",
        "manifold_reflected_brownian_motion.py:218: UserWarning: Newton iteration failed for the 1531th time. Process reset to x0.\n",
        "  + str(self.newton_failures) + \"th time. Process reset to x0.\")\n",
        "manifold_reflected_brownian_motion.py:218: UserWarning: Newton iteration failed for the 1532th time. Process reset to x0.\n",
        "  + str(self.newton_failures) + \"th time. Process reset to x0.\")\n"
       ]
      },
      {
       "output_type": "stream",
       "stream": "stderr",
       "text": [
        "manifold_reflected_brownian_motion.py:218: UserWarning: Newton iteration failed for the 1533th time. Process reset to x0.\n",
        "  + str(self.newton_failures) + \"th time. Process reset to x0.\")\n",
        "manifold_reflected_brownian_motion.py:218: UserWarning: Newton iteration failed for the 1534th time. Process reset to x0.\n",
        "  + str(self.newton_failures) + \"th time. Process reset to x0.\")\n",
        "manifold_reflected_brownian_motion.py:218: UserWarning: Newton iteration failed for the 1535th time. Process reset to x0.\n",
        "  + str(self.newton_failures) + \"th time. Process reset to x0.\")\n",
        "manifold_reflected_brownian_motion.py:218: UserWarning: Newton iteration failed for the 1536th time. Process reset to x0.\n",
        "  + str(self.newton_failures) + \"th time. Process reset to x0.\")\n"
       ]
      },
      {
       "output_type": "stream",
       "stream": "stderr",
       "text": [
        "manifold_reflected_brownian_motion.py:218: UserWarning: Newton iteration failed for the 1537th time. Process reset to x0.\n",
        "  + str(self.newton_failures) + \"th time. Process reset to x0.\")\n",
        "manifold_reflected_brownian_motion.py:218: UserWarning: Newton iteration failed for the 1538th time. Process reset to x0.\n",
        "  + str(self.newton_failures) + \"th time. Process reset to x0.\")\n",
        "manifold_reflected_brownian_motion.py:218: UserWarning: Newton iteration failed for the 1539th time. Process reset to x0.\n",
        "  + str(self.newton_failures) + \"th time. Process reset to x0.\")\n",
        "manifold_reflected_brownian_motion.py:218: UserWarning: Newton iteration failed for the 1540th time. Process reset to x0.\n",
        "  + str(self.newton_failures) + \"th time. Process reset to x0.\")\n",
        "manifold_reflected_brownian_motion.py:218: UserWarning: Newton iteration failed for the 1541th time. Process reset to x0.\n",
        "  + str(self.newton_failures) + \"th time. Process reset to x0.\")\n"
       ]
      },
      {
       "output_type": "stream",
       "stream": "stderr",
       "text": [
        "manifold_reflected_brownian_motion.py:218: UserWarning: Newton iteration failed for the 1542th time. Process reset to x0.\n",
        "  + str(self.newton_failures) + \"th time. Process reset to x0.\")\n",
        "manifold_reflected_brownian_motion.py:218: UserWarning: Newton iteration failed for the 1543th time. Process reset to x0.\n",
        "  + str(self.newton_failures) + \"th time. Process reset to x0.\")\n",
        "manifold_reflected_brownian_motion.py:218: UserWarning: Newton iteration failed for the 1544th time. Process reset to x0.\n",
        "  + str(self.newton_failures) + \"th time. Process reset to x0.\")\n",
        "manifold_reflected_brownian_motion.py:218: UserWarning: Newton iteration failed for the 1545th time. Process reset to x0.\n",
        "  + str(self.newton_failures) + \"th time. Process reset to x0.\")\n",
        "manifold_reflected_brownian_motion.py:218: UserWarning: Newton iteration failed for the 1546th time. Process reset to x0.\n",
        "  + str(self.newton_failures) + \"th time. Process reset to x0.\")\n"
       ]
      },
      {
       "output_type": "stream",
       "stream": "stderr",
       "text": [
        "manifold_reflected_brownian_motion.py:218: UserWarning: Newton iteration failed for the 1547th time. Process reset to x0.\n",
        "  + str(self.newton_failures) + \"th time. Process reset to x0.\")\n",
        "manifold_reflected_brownian_motion.py:218: UserWarning: Newton iteration failed for the 1548th time. Process reset to x0.\n",
        "  + str(self.newton_failures) + \"th time. Process reset to x0.\")\n",
        "manifold_reflected_brownian_motion.py:218: UserWarning: Newton iteration failed for the 1549th time. Process reset to x0.\n",
        "  + str(self.newton_failures) + \"th time. Process reset to x0.\")\n",
        "manifold_reflected_brownian_motion.py:218: UserWarning: Newton iteration failed for the 1550th time. Process reset to x0.\n",
        "  + str(self.newton_failures) + \"th time. Process reset to x0.\")\n"
       ]
      },
      {
       "output_type": "stream",
       "stream": "stderr",
       "text": [
        "manifold_reflected_brownian_motion.py:218: UserWarning: Newton iteration failed for the 1551th time. Process reset to x0.\n",
        "  + str(self.newton_failures) + \"th time. Process reset to x0.\")\n",
        "manifold_reflected_brownian_motion.py:218: UserWarning: Newton iteration failed for the 1552th time. Process reset to x0.\n",
        "  + str(self.newton_failures) + \"th time. Process reset to x0.\")\n",
        "manifold_reflected_brownian_motion.py:218: UserWarning: Newton iteration failed for the 1553th time. Process reset to x0.\n",
        "  + str(self.newton_failures) + \"th time. Process reset to x0.\")\n",
        "manifold_reflected_brownian_motion.py:218: UserWarning: Newton iteration failed for the 1554th time. Process reset to x0.\n",
        "  + str(self.newton_failures) + \"th time. Process reset to x0.\")\n"
       ]
      },
      {
       "output_type": "stream",
       "stream": "stderr",
       "text": [
        "manifold_reflected_brownian_motion.py:218: UserWarning: Newton iteration failed for the 1555th time. Process reset to x0.\n",
        "  + str(self.newton_failures) + \"th time. Process reset to x0.\")\n",
        "manifold_reflected_brownian_motion.py:218: UserWarning: Newton iteration failed for the 1556th time. Process reset to x0.\n",
        "  + str(self.newton_failures) + \"th time. Process reset to x0.\")\n",
        "manifold_reflected_brownian_motion.py:218: UserWarning: Newton iteration failed for the 1557th time. Process reset to x0.\n",
        "  + str(self.newton_failures) + \"th time. Process reset to x0.\")\n",
        "manifold_reflected_brownian_motion.py:218: UserWarning: Newton iteration failed for the 1558th time. Process reset to x0.\n",
        "  + str(self.newton_failures) + \"th time. Process reset to x0.\")\n"
       ]
      },
      {
       "output_type": "stream",
       "stream": "stderr",
       "text": [
        "manifold_reflected_brownian_motion.py:218: UserWarning: Newton iteration failed for the 1559th time. Process reset to x0.\n",
        "  + str(self.newton_failures) + \"th time. Process reset to x0.\")\n",
        "manifold_reflected_brownian_motion.py:218: UserWarning: Newton iteration failed for the 1560th time. Process reset to x0.\n",
        "  + str(self.newton_failures) + \"th time. Process reset to x0.\")\n",
        "manifold_reflected_brownian_motion.py:218: UserWarning: Newton iteration failed for the 1561th time. Process reset to x0.\n",
        "  + str(self.newton_failures) + \"th time. Process reset to x0.\")\n",
        "manifold_reflected_brownian_motion.py:218: UserWarning: Newton iteration failed for the 1562th time. Process reset to x0.\n",
        "  + str(self.newton_failures) + \"th time. Process reset to x0.\")\n",
        "manifold_reflected_brownian_motion.py:218: UserWarning: Newton iteration failed for the 1563th time. Process reset to x0.\n",
        "  + str(self.newton_failures) + \"th time. Process reset to x0.\")\n"
       ]
      },
      {
       "output_type": "stream",
       "stream": "stderr",
       "text": [
        "manifold_reflected_brownian_motion.py:218: UserWarning: Newton iteration failed for the 1564th time. Process reset to x0.\n",
        "  + str(self.newton_failures) + \"th time. Process reset to x0.\")\n",
        "manifold_reflected_brownian_motion.py:218: UserWarning: Newton iteration failed for the 1565th time. Process reset to x0.\n",
        "  + str(self.newton_failures) + \"th time. Process reset to x0.\")\n",
        "manifold_reflected_brownian_motion.py:218: UserWarning: Newton iteration failed for the 1566th time. Process reset to x0.\n",
        "  + str(self.newton_failures) + \"th time. Process reset to x0.\")\n",
        "manifold_reflected_brownian_motion.py:218: UserWarning: Newton iteration failed for the 1567th time. Process reset to x0.\n",
        "  + str(self.newton_failures) + \"th time. Process reset to x0.\")\n"
       ]
      },
      {
       "output_type": "stream",
       "stream": "stderr",
       "text": [
        "manifold_reflected_brownian_motion.py:218: UserWarning: Newton iteration failed for the 1568th time. Process reset to x0.\n",
        "  + str(self.newton_failures) + \"th time. Process reset to x0.\")\n",
        "manifold_reflected_brownian_motion.py:218: UserWarning: Newton iteration failed for the 1569th time. Process reset to x0.\n",
        "  + str(self.newton_failures) + \"th time. Process reset to x0.\")\n",
        "manifold_reflected_brownian_motion.py:218: UserWarning: Newton iteration failed for the 1570th time. Process reset to x0.\n",
        "  + str(self.newton_failures) + \"th time. Process reset to x0.\")\n",
        "manifold_reflected_brownian_motion.py:218: UserWarning: Newton iteration failed for the 1571th time. Process reset to x0.\n",
        "  + str(self.newton_failures) + \"th time. Process reset to x0.\")\n"
       ]
      },
      {
       "output_type": "stream",
       "stream": "stderr",
       "text": [
        "manifold_reflected_brownian_motion.py:218: UserWarning: Newton iteration failed for the 1572th time. Process reset to x0.\n",
        "  + str(self.newton_failures) + \"th time. Process reset to x0.\")\n",
        "manifold_reflected_brownian_motion.py:218: UserWarning: Newton iteration failed for the 1573th time. Process reset to x0.\n",
        "  + str(self.newton_failures) + \"th time. Process reset to x0.\")\n",
        "manifold_reflected_brownian_motion.py:218: UserWarning: Newton iteration failed for the 1574th time. Process reset to x0.\n",
        "  + str(self.newton_failures) + \"th time. Process reset to x0.\")\n",
        "manifold_reflected_brownian_motion.py:218: UserWarning: Newton iteration failed for the 1575th time. Process reset to x0.\n",
        "  + str(self.newton_failures) + \"th time. Process reset to x0.\")\n",
        "manifold_reflected_brownian_motion.py:218: UserWarning: Newton iteration failed for the 1576th time. Process reset to x0.\n",
        "  + str(self.newton_failures) + \"th time. Process reset to x0.\")\n"
       ]
      },
      {
       "output_type": "stream",
       "stream": "stderr",
       "text": [
        "manifold_reflected_brownian_motion.py:218: UserWarning: Newton iteration failed for the 1577th time. Process reset to x0.\n",
        "  + str(self.newton_failures) + \"th time. Process reset to x0.\")\n",
        "manifold_reflected_brownian_motion.py:218: UserWarning: Newton iteration failed for the 1578th time. Process reset to x0.\n",
        "  + str(self.newton_failures) + \"th time. Process reset to x0.\")\n",
        "manifold_reflected_brownian_motion.py:218: UserWarning: Newton iteration failed for the 1579th time. Process reset to x0.\n",
        "  + str(self.newton_failures) + \"th time. Process reset to x0.\")\n",
        "manifold_reflected_brownian_motion.py:218: UserWarning: Newton iteration failed for the 1580th time. Process reset to x0.\n",
        "  + str(self.newton_failures) + \"th time. Process reset to x0.\")\n",
        "manifold_reflected_brownian_motion.py:218: UserWarning: Newton iteration failed for the 1581th time. Process reset to x0.\n",
        "  + str(self.newton_failures) + \"th time. Process reset to x0.\")\n"
       ]
      },
      {
       "output_type": "stream",
       "stream": "stderr",
       "text": [
        "manifold_reflected_brownian_motion.py:218: UserWarning: Newton iteration failed for the 1582th time. Process reset to x0.\n",
        "  + str(self.newton_failures) + \"th time. Process reset to x0.\")\n",
        "manifold_reflected_brownian_motion.py:218: UserWarning: Newton iteration failed for the 1583th time. Process reset to x0.\n",
        "  + str(self.newton_failures) + \"th time. Process reset to x0.\")\n",
        "manifold_reflected_brownian_motion.py:218: UserWarning: Newton iteration failed for the 1584th time. Process reset to x0.\n",
        "  + str(self.newton_failures) + \"th time. Process reset to x0.\")\n",
        "manifold_reflected_brownian_motion.py:218: UserWarning: Newton iteration failed for the 1585th time. Process reset to x0.\n",
        "  + str(self.newton_failures) + \"th time. Process reset to x0.\")\n"
       ]
      },
      {
       "output_type": "stream",
       "stream": "stderr",
       "text": [
        "manifold_reflected_brownian_motion.py:218: UserWarning: Newton iteration failed for the 1586th time. Process reset to x0.\n",
        "  + str(self.newton_failures) + \"th time. Process reset to x0.\")\n",
        "manifold_reflected_brownian_motion.py:218: UserWarning: Newton iteration failed for the 1587th time. Process reset to x0.\n",
        "  + str(self.newton_failures) + \"th time. Process reset to x0.\")\n",
        "manifold_reflected_brownian_motion.py:218: UserWarning: Newton iteration failed for the 1588th time. Process reset to x0.\n",
        "  + str(self.newton_failures) + \"th time. Process reset to x0.\")\n",
        "manifold_reflected_brownian_motion.py:218: UserWarning: Newton iteration failed for the 1589th time. Process reset to x0.\n",
        "  + str(self.newton_failures) + \"th time. Process reset to x0.\")\n",
        "manifold_reflected_brownian_motion.py:218: UserWarning: Newton iteration failed for the 1590th time. Process reset to x0.\n",
        "  + str(self.newton_failures) + \"th time. Process reset to x0.\")\n"
       ]
      },
      {
       "output_type": "stream",
       "stream": "stderr",
       "text": [
        "manifold_reflected_brownian_motion.py:218: UserWarning: Newton iteration failed for the 1591th time. Process reset to x0.\n",
        "  + str(self.newton_failures) + \"th time. Process reset to x0.\")\n",
        "manifold_reflected_brownian_motion.py:218: UserWarning: Newton iteration failed for the 1592th time. Process reset to x0.\n",
        "  + str(self.newton_failures) + \"th time. Process reset to x0.\")\n",
        "manifold_reflected_brownian_motion.py:218: UserWarning: Newton iteration failed for the 1593th time. Process reset to x0.\n",
        "  + str(self.newton_failures) + \"th time. Process reset to x0.\")\n",
        "manifold_reflected_brownian_motion.py:218: UserWarning: Newton iteration failed for the 1594th time. Process reset to x0.\n",
        "  + str(self.newton_failures) + \"th time. Process reset to x0.\")\n"
       ]
      },
      {
       "output_type": "stream",
       "stream": "stderr",
       "text": [
        "manifold_reflected_brownian_motion.py:218: UserWarning: Newton iteration failed for the 1595th time. Process reset to x0.\n",
        "  + str(self.newton_failures) + \"th time. Process reset to x0.\")\n",
        "manifold_reflected_brownian_motion.py:218: UserWarning: Newton iteration failed for the 1596th time. Process reset to x0.\n",
        "  + str(self.newton_failures) + \"th time. Process reset to x0.\")\n",
        "manifold_reflected_brownian_motion.py:218: UserWarning: Newton iteration failed for the 1597th time. Process reset to x0.\n",
        "  + str(self.newton_failures) + \"th time. Process reset to x0.\")\n",
        "manifold_reflected_brownian_motion.py:218: UserWarning: Newton iteration failed for the 1598th time. Process reset to x0.\n",
        "  + str(self.newton_failures) + \"th time. Process reset to x0.\")\n"
       ]
      },
      {
       "output_type": "stream",
       "stream": "stderr",
       "text": [
        "manifold_reflected_brownian_motion.py:218: UserWarning: Newton iteration failed for the 1599th time. Process reset to x0.\n",
        "  + str(self.newton_failures) + \"th time. Process reset to x0.\")\n",
        "manifold_reflected_brownian_motion.py:218: UserWarning: Newton iteration failed for the 1600th time. Process reset to x0.\n",
        "  + str(self.newton_failures) + \"th time. Process reset to x0.\")\n",
        "manifold_reflected_brownian_motion.py:218: UserWarning: Newton iteration failed for the 1601th time. Process reset to x0.\n",
        "  + str(self.newton_failures) + \"th time. Process reset to x0.\")\n",
        "manifold_reflected_brownian_motion.py:218: UserWarning: Newton iteration failed for the 1602th time. Process reset to x0.\n",
        "  + str(self.newton_failures) + \"th time. Process reset to x0.\")\n",
        "manifold_reflected_brownian_motion.py:218: UserWarning: Newton iteration failed for the 1603th time. Process reset to x0.\n",
        "  + str(self.newton_failures) + \"th time. Process reset to x0.\")\n"
       ]
      },
      {
       "output_type": "stream",
       "stream": "stderr",
       "text": [
        "manifold_reflected_brownian_motion.py:218: UserWarning: Newton iteration failed for the 1604th time. Process reset to x0.\n",
        "  + str(self.newton_failures) + \"th time. Process reset to x0.\")\n",
        "manifold_reflected_brownian_motion.py:218: UserWarning: Newton iteration failed for the 1605th time. Process reset to x0.\n",
        "  + str(self.newton_failures) + \"th time. Process reset to x0.\")\n",
        "manifold_reflected_brownian_motion.py:218: UserWarning: Newton iteration failed for the 1606th time. Process reset to x0.\n",
        "  + str(self.newton_failures) + \"th time. Process reset to x0.\")\n",
        "manifold_reflected_brownian_motion.py:218: UserWarning: Newton iteration failed for the 1607th time. Process reset to x0.\n",
        "  + str(self.newton_failures) + \"th time. Process reset to x0.\")\n"
       ]
      },
      {
       "output_type": "stream",
       "stream": "stderr",
       "text": [
        "manifold_reflected_brownian_motion.py:218: UserWarning: Newton iteration failed for the 1608th time. Process reset to x0.\n",
        "  + str(self.newton_failures) + \"th time. Process reset to x0.\")\n",
        "manifold_reflected_brownian_motion.py:218: UserWarning: Newton iteration failed for the 1609th time. Process reset to x0.\n",
        "  + str(self.newton_failures) + \"th time. Process reset to x0.\")\n",
        "manifold_reflected_brownian_motion.py:218: UserWarning: Newton iteration failed for the 1610th time. Process reset to x0.\n",
        "  + str(self.newton_failures) + \"th time. Process reset to x0.\")\n",
        "manifold_reflected_brownian_motion.py:218: UserWarning: Newton iteration failed for the 1611th time. Process reset to x0.\n",
        "  + str(self.newton_failures) + \"th time. Process reset to x0.\")\n",
        "manifold_reflected_brownian_motion.py:218: UserWarning: Newton iteration failed for the 1612th time. Process reset to x0.\n",
        "  + str(self.newton_failures) + \"th time. Process reset to x0.\")\n"
       ]
      },
      {
       "output_type": "stream",
       "stream": "stderr",
       "text": [
        "manifold_reflected_brownian_motion.py:218: UserWarning: Newton iteration failed for the 1613th time. Process reset to x0.\n",
        "  + str(self.newton_failures) + \"th time. Process reset to x0.\")\n",
        "manifold_reflected_brownian_motion.py:218: UserWarning: Newton iteration failed for the 1614th time. Process reset to x0.\n",
        "  + str(self.newton_failures) + \"th time. Process reset to x0.\")\n",
        "manifold_reflected_brownian_motion.py:218: UserWarning: Newton iteration failed for the 1615th time. Process reset to x0.\n",
        "  + str(self.newton_failures) + \"th time. Process reset to x0.\")\n",
        "manifold_reflected_brownian_motion.py:218: UserWarning: Newton iteration failed for the 1616th time. Process reset to x0.\n",
        "  + str(self.newton_failures) + \"th time. Process reset to x0.\")\n",
        "manifold_reflected_brownian_motion.py:218: UserWarning: Newton iteration failed for the 1617th time. Process reset to x0.\n",
        "  + str(self.newton_failures) + \"th time. Process reset to x0.\")\n"
       ]
      },
      {
       "output_type": "stream",
       "stream": "stderr",
       "text": [
        "manifold_reflected_brownian_motion.py:218: UserWarning: Newton iteration failed for the 1618th time. Process reset to x0.\n",
        "  + str(self.newton_failures) + \"th time. Process reset to x0.\")\n",
        "manifold_reflected_brownian_motion.py:218: UserWarning: Newton iteration failed for the 1619th time. Process reset to x0.\n",
        "  + str(self.newton_failures) + \"th time. Process reset to x0.\")\n",
        "manifold_reflected_brownian_motion.py:218: UserWarning: Newton iteration failed for the 1620th time. Process reset to x0.\n",
        "  + str(self.newton_failures) + \"th time. Process reset to x0.\")\n",
        "manifold_reflected_brownian_motion.py:218: UserWarning: Newton iteration failed for the 1621th time. Process reset to x0.\n",
        "  + str(self.newton_failures) + \"th time. Process reset to x0.\")\n",
        "manifold_reflected_brownian_motion.py:218: UserWarning: Newton iteration failed for the 1622th time. Process reset to x0.\n",
        "  + str(self.newton_failures) + \"th time. Process reset to x0.\")\n"
       ]
      },
      {
       "output_type": "stream",
       "stream": "stderr",
       "text": [
        "manifold_reflected_brownian_motion.py:218: UserWarning: Newton iteration failed for the 1623th time. Process reset to x0.\n",
        "  + str(self.newton_failures) + \"th time. Process reset to x0.\")\n",
        "manifold_reflected_brownian_motion.py:218: UserWarning: Newton iteration failed for the 1624th time. Process reset to x0.\n",
        "  + str(self.newton_failures) + \"th time. Process reset to x0.\")\n",
        "manifold_reflected_brownian_motion.py:218: UserWarning: Newton iteration failed for the 1625th time. Process reset to x0.\n",
        "  + str(self.newton_failures) + \"th time. Process reset to x0.\")\n",
        "manifold_reflected_brownian_motion.py:218: UserWarning: Newton iteration failed for the 1626th time. Process reset to x0.\n",
        "  + str(self.newton_failures) + \"th time. Process reset to x0.\")\n"
       ]
      },
      {
       "output_type": "stream",
       "stream": "stderr",
       "text": [
        "manifold_reflected_brownian_motion.py:218: UserWarning: Newton iteration failed for the 1627th time. Process reset to x0.\n",
        "  + str(self.newton_failures) + \"th time. Process reset to x0.\")\n",
        "manifold_reflected_brownian_motion.py:218: UserWarning: Newton iteration failed for the 1628th time. Process reset to x0.\n",
        "  + str(self.newton_failures) + \"th time. Process reset to x0.\")\n",
        "manifold_reflected_brownian_motion.py:218: UserWarning: Newton iteration failed for the 1629th time. Process reset to x0.\n",
        "  + str(self.newton_failures) + \"th time. Process reset to x0.\")\n",
        "manifold_reflected_brownian_motion.py:218: UserWarning: Newton iteration failed for the 1630th time. Process reset to x0.\n",
        "  + str(self.newton_failures) + \"th time. Process reset to x0.\")\n",
        "manifold_reflected_brownian_motion.py:218: UserWarning: Newton iteration failed for the 1631th time. Process reset to x0.\n",
        "  + str(self.newton_failures) + \"th time. Process reset to x0.\")\n"
       ]
      },
      {
       "output_type": "stream",
       "stream": "stderr",
       "text": [
        "manifold_reflected_brownian_motion.py:218: UserWarning: Newton iteration failed for the 1632th time. Process reset to x0.\n",
        "  + str(self.newton_failures) + \"th time. Process reset to x0.\")\n",
        "manifold_reflected_brownian_motion.py:218: UserWarning: Newton iteration failed for the 1633th time. Process reset to x0.\n",
        "  + str(self.newton_failures) + \"th time. Process reset to x0.\")\n",
        "manifold_reflected_brownian_motion.py:218: UserWarning: Newton iteration failed for the 1634th time. Process reset to x0.\n",
        "  + str(self.newton_failures) + \"th time. Process reset to x0.\")\n",
        "manifold_reflected_brownian_motion.py:218: UserWarning: Newton iteration failed for the 1635th time. Process reset to x0.\n",
        "  + str(self.newton_failures) + \"th time. Process reset to x0.\")\n"
       ]
      },
      {
       "output_type": "stream",
       "stream": "stderr",
       "text": [
        "manifold_reflected_brownian_motion.py:218: UserWarning: Newton iteration failed for the 1636th time. Process reset to x0.\n",
        "  + str(self.newton_failures) + \"th time. Process reset to x0.\")\n",
        "manifold_reflected_brownian_motion.py:218: UserWarning: Newton iteration failed for the 1637th time. Process reset to x0.\n",
        "  + str(self.newton_failures) + \"th time. Process reset to x0.\")\n",
        "manifold_reflected_brownian_motion.py:218: UserWarning: Newton iteration failed for the 1638th time. Process reset to x0.\n",
        "  + str(self.newton_failures) + \"th time. Process reset to x0.\")\n",
        "manifold_reflected_brownian_motion.py:218: UserWarning: Newton iteration failed for the 1639th time. Process reset to x0.\n",
        "  + str(self.newton_failures) + \"th time. Process reset to x0.\")\n",
        "manifold_reflected_brownian_motion.py:218: UserWarning: Newton iteration failed for the 1640th time. Process reset to x0.\n",
        "  + str(self.newton_failures) + \"th time. Process reset to x0.\")\n"
       ]
      },
      {
       "output_type": "stream",
       "stream": "stderr",
       "text": [
        "manifold_reflected_brownian_motion.py:218: UserWarning: Newton iteration failed for the 1641th time. Process reset to x0.\n",
        "  + str(self.newton_failures) + \"th time. Process reset to x0.\")\n",
        "manifold_reflected_brownian_motion.py:218: UserWarning: Newton iteration failed for the 1642th time. Process reset to x0.\n",
        "  + str(self.newton_failures) + \"th time. Process reset to x0.\")\n",
        "manifold_reflected_brownian_motion.py:218: UserWarning: Newton iteration failed for the 1643th time. Process reset to x0.\n",
        "  + str(self.newton_failures) + \"th time. Process reset to x0.\")\n",
        "manifold_reflected_brownian_motion.py:218: UserWarning: Newton iteration failed for the 1644th time. Process reset to x0.\n",
        "  + str(self.newton_failures) + \"th time. Process reset to x0.\")\n",
        "manifold_reflected_brownian_motion.py:218: UserWarning: Newton iteration failed for the 1645th time. Process reset to x0.\n",
        "  + str(self.newton_failures) + \"th time. Process reset to x0.\")\n"
       ]
      },
      {
       "output_type": "stream",
       "stream": "stderr",
       "text": [
        "manifold_reflected_brownian_motion.py:218: UserWarning: Newton iteration failed for the 1646th time. Process reset to x0.\n",
        "  + str(self.newton_failures) + \"th time. Process reset to x0.\")\n",
        "manifold_reflected_brownian_motion.py:218: UserWarning: Newton iteration failed for the 1647th time. Process reset to x0.\n",
        "  + str(self.newton_failures) + \"th time. Process reset to x0.\")\n",
        "manifold_reflected_brownian_motion.py:218: UserWarning: Newton iteration failed for the 1648th time. Process reset to x0.\n",
        "  + str(self.newton_failures) + \"th time. Process reset to x0.\")\n",
        "manifold_reflected_brownian_motion.py:218: UserWarning: Newton iteration failed for the 1649th time. Process reset to x0.\n",
        "  + str(self.newton_failures) + \"th time. Process reset to x0.\")\n",
        "manifold_reflected_brownian_motion.py:218: UserWarning: Newton iteration failed for the 1650th time. Process reset to x0.\n",
        "  + str(self.newton_failures) + \"th time. Process reset to x0.\")\n"
       ]
      },
      {
       "output_type": "stream",
       "stream": "stderr",
       "text": [
        "manifold_reflected_brownian_motion.py:218: UserWarning: Newton iteration failed for the 1651th time. Process reset to x0.\n",
        "  + str(self.newton_failures) + \"th time. Process reset to x0.\")\n",
        "manifold_reflected_brownian_motion.py:218: UserWarning: Newton iteration failed for the 1652th time. Process reset to x0.\n",
        "  + str(self.newton_failures) + \"th time. Process reset to x0.\")\n",
        "manifold_reflected_brownian_motion.py:218: UserWarning: Newton iteration failed for the 1653th time. Process reset to x0.\n",
        "  + str(self.newton_failures) + \"th time. Process reset to x0.\")\n",
        "manifold_reflected_brownian_motion.py:218: UserWarning: Newton iteration failed for the 1654th time. Process reset to x0.\n",
        "  + str(self.newton_failures) + \"th time. Process reset to x0.\")\n",
        "manifold_reflected_brownian_motion.py:218: UserWarning: Newton iteration failed for the 1655th time. Process reset to x0.\n",
        "  + str(self.newton_failures) + \"th time. Process reset to x0.\")\n"
       ]
      },
      {
       "output_type": "stream",
       "stream": "stderr",
       "text": [
        "manifold_reflected_brownian_motion.py:218: UserWarning: Newton iteration failed for the 1656th time. Process reset to x0.\n",
        "  + str(self.newton_failures) + \"th time. Process reset to x0.\")\n",
        "manifold_reflected_brownian_motion.py:218: UserWarning: Newton iteration failed for the 1657th time. Process reset to x0.\n",
        "  + str(self.newton_failures) + \"th time. Process reset to x0.\")\n",
        "manifold_reflected_brownian_motion.py:218: UserWarning: Newton iteration failed for the 1658th time. Process reset to x0.\n",
        "  + str(self.newton_failures) + \"th time. Process reset to x0.\")\n",
        "manifold_reflected_brownian_motion.py:218: UserWarning: Newton iteration failed for the 1659th time. Process reset to x0.\n",
        "  + str(self.newton_failures) + \"th time. Process reset to x0.\")\n",
        "manifold_reflected_brownian_motion.py:218: UserWarning: Newton iteration failed for the 1660th time. Process reset to x0.\n",
        "  + str(self.newton_failures) + \"th time. Process reset to x0.\")\n"
       ]
      },
      {
       "output_type": "stream",
       "stream": "stderr",
       "text": [
        "manifold_reflected_brownian_motion.py:218: UserWarning: Newton iteration failed for the 1661th time. Process reset to x0.\n",
        "  + str(self.newton_failures) + \"th time. Process reset to x0.\")\n",
        "manifold_reflected_brownian_motion.py:218: UserWarning: Newton iteration failed for the 1662th time. Process reset to x0.\n",
        "  + str(self.newton_failures) + \"th time. Process reset to x0.\")\n",
        "manifold_reflected_brownian_motion.py:218: UserWarning: Newton iteration failed for the 1663th time. Process reset to x0.\n",
        "  + str(self.newton_failures) + \"th time. Process reset to x0.\")\n",
        "manifold_reflected_brownian_motion.py:218: UserWarning: Newton iteration failed for the 1664th time. Process reset to x0.\n",
        "  + str(self.newton_failures) + \"th time. Process reset to x0.\")\n",
        "manifold_reflected_brownian_motion.py:218: UserWarning: Newton iteration failed for the 1665th time. Process reset to x0.\n",
        "  + str(self.newton_failures) + \"th time. Process reset to x0.\")\n"
       ]
      },
      {
       "output_type": "stream",
       "stream": "stderr",
       "text": [
        "manifold_reflected_brownian_motion.py:218: UserWarning: Newton iteration failed for the 1666th time. Process reset to x0.\n",
        "  + str(self.newton_failures) + \"th time. Process reset to x0.\")\n",
        "manifold_reflected_brownian_motion.py:218: UserWarning: Newton iteration failed for the 1667th time. Process reset to x0.\n",
        "  + str(self.newton_failures) + \"th time. Process reset to x0.\")\n",
        "manifold_reflected_brownian_motion.py:218: UserWarning: Newton iteration failed for the 1668th time. Process reset to x0.\n",
        "  + str(self.newton_failures) + \"th time. Process reset to x0.\")\n",
        "manifold_reflected_brownian_motion.py:218: UserWarning: Newton iteration failed for the 1669th time. Process reset to x0.\n",
        "  + str(self.newton_failures) + \"th time. Process reset to x0.\")\n",
        "manifold_reflected_brownian_motion.py:218: UserWarning: Newton iteration failed for the 1670th time. Process reset to x0.\n",
        "  + str(self.newton_failures) + \"th time. Process reset to x0.\")\n"
       ]
      },
      {
       "output_type": "stream",
       "stream": "stderr",
       "text": [
        "manifold_reflected_brownian_motion.py:218: UserWarning: Newton iteration failed for the 1671th time. Process reset to x0.\n",
        "  + str(self.newton_failures) + \"th time. Process reset to x0.\")\n",
        "manifold_reflected_brownian_motion.py:218: UserWarning: Newton iteration failed for the 1672th time. Process reset to x0.\n",
        "  + str(self.newton_failures) + \"th time. Process reset to x0.\")\n",
        "manifold_reflected_brownian_motion.py:218: UserWarning: Newton iteration failed for the 1673th time. Process reset to x0.\n",
        "  + str(self.newton_failures) + \"th time. Process reset to x0.\")\n",
        "manifold_reflected_brownian_motion.py:218: UserWarning: Newton iteration failed for the 1674th time. Process reset to x0.\n",
        "  + str(self.newton_failures) + \"th time. Process reset to x0.\")\n"
       ]
      },
      {
       "output_type": "stream",
       "stream": "stderr",
       "text": [
        "manifold_reflected_brownian_motion.py:218: UserWarning: Newton iteration failed for the 1675th time. Process reset to x0.\n",
        "  + str(self.newton_failures) + \"th time. Process reset to x0.\")\n",
        "manifold_reflected_brownian_motion.py:218: UserWarning: Newton iteration failed for the 1676th time. Process reset to x0.\n",
        "  + str(self.newton_failures) + \"th time. Process reset to x0.\")\n",
        "manifold_reflected_brownian_motion.py:218: UserWarning: Newton iteration failed for the 1677th time. Process reset to x0.\n",
        "  + str(self.newton_failures) + \"th time. Process reset to x0.\")\n",
        "manifold_reflected_brownian_motion.py:218: UserWarning: Newton iteration failed for the 1678th time. Process reset to x0.\n",
        "  + str(self.newton_failures) + \"th time. Process reset to x0.\")\n",
        "manifold_reflected_brownian_motion.py:218: UserWarning: Newton iteration failed for the 1679th time. Process reset to x0.\n",
        "  + str(self.newton_failures) + \"th time. Process reset to x0.\")\n"
       ]
      },
      {
       "output_type": "stream",
       "stream": "stderr",
       "text": [
        "manifold_reflected_brownian_motion.py:218: UserWarning: Newton iteration failed for the 1680th time. Process reset to x0.\n",
        "  + str(self.newton_failures) + \"th time. Process reset to x0.\")\n",
        "manifold_reflected_brownian_motion.py:218: UserWarning: Newton iteration failed for the 1681th time. Process reset to x0.\n",
        "  + str(self.newton_failures) + \"th time. Process reset to x0.\")\n",
        "manifold_reflected_brownian_motion.py:218: UserWarning: Newton iteration failed for the 1682th time. Process reset to x0.\n",
        "  + str(self.newton_failures) + \"th time. Process reset to x0.\")\n",
        "manifold_reflected_brownian_motion.py:218: UserWarning: Newton iteration failed for the 1683th time. Process reset to x0.\n",
        "  + str(self.newton_failures) + \"th time. Process reset to x0.\")\n",
        "manifold_reflected_brownian_motion.py:218: UserWarning: Newton iteration failed for the 1684th time. Process reset to x0.\n",
        "  + str(self.newton_failures) + \"th time. Process reset to x0.\")\n"
       ]
      },
      {
       "output_type": "stream",
       "stream": "stderr",
       "text": [
        "manifold_reflected_brownian_motion.py:218: UserWarning: Newton iteration failed for the 1685th time. Process reset to x0.\n",
        "  + str(self.newton_failures) + \"th time. Process reset to x0.\")\n",
        "manifold_reflected_brownian_motion.py:218: UserWarning: Newton iteration failed for the 1686th time. Process reset to x0.\n",
        "  + str(self.newton_failures) + \"th time. Process reset to x0.\")\n",
        "manifold_reflected_brownian_motion.py:218: UserWarning: Newton iteration failed for the 1687th time. Process reset to x0.\n",
        "  + str(self.newton_failures) + \"th time. Process reset to x0.\")\n",
        "manifold_reflected_brownian_motion.py:218: UserWarning: Newton iteration failed for the 1688th time. Process reset to x0.\n",
        "  + str(self.newton_failures) + \"th time. Process reset to x0.\")\n",
        "manifold_reflected_brownian_motion.py:218: UserWarning: Newton iteration failed for the 1689th time. Process reset to x0.\n",
        "  + str(self.newton_failures) + \"th time. Process reset to x0.\")\n"
       ]
      },
      {
       "output_type": "stream",
       "stream": "stderr",
       "text": [
        "manifold_reflected_brownian_motion.py:218: UserWarning: Newton iteration failed for the 1690th time. Process reset to x0.\n",
        "  + str(self.newton_failures) + \"th time. Process reset to x0.\")\n",
        "manifold_reflected_brownian_motion.py:218: UserWarning: Newton iteration failed for the 1691th time. Process reset to x0.\n",
        "  + str(self.newton_failures) + \"th time. Process reset to x0.\")\n",
        "manifold_reflected_brownian_motion.py:218: UserWarning: Newton iteration failed for the 1692th time. Process reset to x0.\n",
        "  + str(self.newton_failures) + \"th time. Process reset to x0.\")\n",
        "manifold_reflected_brownian_motion.py:218: UserWarning: Newton iteration failed for the 1693th time. Process reset to x0.\n",
        "  + str(self.newton_failures) + \"th time. Process reset to x0.\")\n",
        "manifold_reflected_brownian_motion.py:218: UserWarning: Newton iteration failed for the 1694th time. Process reset to x0.\n",
        "  + str(self.newton_failures) + \"th time. Process reset to x0.\")\n"
       ]
      },
      {
       "output_type": "stream",
       "stream": "stderr",
       "text": [
        "manifold_reflected_brownian_motion.py:218: UserWarning: Newton iteration failed for the 1695th time. Process reset to x0.\n",
        "  + str(self.newton_failures) + \"th time. Process reset to x0.\")\n",
        "manifold_reflected_brownian_motion.py:218: UserWarning: Newton iteration failed for the 1696th time. Process reset to x0.\n",
        "  + str(self.newton_failures) + \"th time. Process reset to x0.\")\n",
        "manifold_reflected_brownian_motion.py:218: UserWarning: Newton iteration failed for the 1697th time. Process reset to x0.\n",
        "  + str(self.newton_failures) + \"th time. Process reset to x0.\")\n",
        "manifold_reflected_brownian_motion.py:218: UserWarning: Newton iteration failed for the 1698th time. Process reset to x0.\n",
        "  + str(self.newton_failures) + \"th time. Process reset to x0.\")\n"
       ]
      },
      {
       "output_type": "stream",
       "stream": "stderr",
       "text": [
        "manifold_reflected_brownian_motion.py:218: UserWarning: Newton iteration failed for the 1699th time. Process reset to x0.\n",
        "  + str(self.newton_failures) + \"th time. Process reset to x0.\")\n",
        "manifold_reflected_brownian_motion.py:218: UserWarning: Newton iteration failed for the 1700th time. Process reset to x0.\n",
        "  + str(self.newton_failures) + \"th time. Process reset to x0.\")\n",
        "manifold_reflected_brownian_motion.py:218: UserWarning: Newton iteration failed for the 1701th time. Process reset to x0.\n",
        "  + str(self.newton_failures) + \"th time. Process reset to x0.\")\n",
        "manifold_reflected_brownian_motion.py:218: UserWarning: Newton iteration failed for the 1702th time. Process reset to x0.\n",
        "  + str(self.newton_failures) + \"th time. Process reset to x0.\")\n",
        "manifold_reflected_brownian_motion.py:218: UserWarning: Newton iteration failed for the 1703th time. Process reset to x0.\n",
        "  + str(self.newton_failures) + \"th time. Process reset to x0.\")\n"
       ]
      },
      {
       "output_type": "stream",
       "stream": "stderr",
       "text": [
        "manifold_reflected_brownian_motion.py:218: UserWarning: Newton iteration failed for the 1704th time. Process reset to x0.\n",
        "  + str(self.newton_failures) + \"th time. Process reset to x0.\")\n",
        "manifold_reflected_brownian_motion.py:218: UserWarning: Newton iteration failed for the 1705th time. Process reset to x0.\n",
        "  + str(self.newton_failures) + \"th time. Process reset to x0.\")\n",
        "manifold_reflected_brownian_motion.py:218: UserWarning: Newton iteration failed for the 1706th time. Process reset to x0.\n",
        "  + str(self.newton_failures) + \"th time. Process reset to x0.\")\n",
        "manifold_reflected_brownian_motion.py:218: UserWarning: Newton iteration failed for the 1707th time. Process reset to x0.\n",
        "  + str(self.newton_failures) + \"th time. Process reset to x0.\")\n"
       ]
      },
      {
       "output_type": "stream",
       "stream": "stderr",
       "text": [
        "manifold_reflected_brownian_motion.py:218: UserWarning: Newton iteration failed for the 1708th time. Process reset to x0.\n",
        "  + str(self.newton_failures) + \"th time. Process reset to x0.\")\n",
        "manifold_reflected_brownian_motion.py:218: UserWarning: Newton iteration failed for the 1709th time. Process reset to x0.\n",
        "  + str(self.newton_failures) + \"th time. Process reset to x0.\")\n",
        "manifold_reflected_brownian_motion.py:218: UserWarning: Newton iteration failed for the 1710th time. Process reset to x0.\n",
        "  + str(self.newton_failures) + \"th time. Process reset to x0.\")\n",
        "manifold_reflected_brownian_motion.py:218: UserWarning: Newton iteration failed for the 1711th time. Process reset to x0.\n",
        "  + str(self.newton_failures) + \"th time. Process reset to x0.\")\n",
        "manifold_reflected_brownian_motion.py:218: UserWarning: Newton iteration failed for the 1712th time. Process reset to x0.\n",
        "  + str(self.newton_failures) + \"th time. Process reset to x0.\")\n"
       ]
      },
      {
       "output_type": "stream",
       "stream": "stderr",
       "text": [
        "manifold_reflected_brownian_motion.py:218: UserWarning: Newton iteration failed for the 1713th time. Process reset to x0.\n",
        "  + str(self.newton_failures) + \"th time. Process reset to x0.\")\n",
        "manifold_reflected_brownian_motion.py:218: UserWarning: Newton iteration failed for the 1714th time. Process reset to x0.\n",
        "  + str(self.newton_failures) + \"th time. Process reset to x0.\")\n",
        "manifold_reflected_brownian_motion.py:218: UserWarning: Newton iteration failed for the 1715th time. Process reset to x0.\n",
        "  + str(self.newton_failures) + \"th time. Process reset to x0.\")\n",
        "manifold_reflected_brownian_motion.py:218: UserWarning: Newton iteration failed for the 1716th time. Process reset to x0.\n",
        "  + str(self.newton_failures) + \"th time. Process reset to x0.\")\n"
       ]
      },
      {
       "output_type": "stream",
       "stream": "stderr",
       "text": [
        "manifold_reflected_brownian_motion.py:218: UserWarning: Newton iteration failed for the 1717th time. Process reset to x0.\n",
        "  + str(self.newton_failures) + \"th time. Process reset to x0.\")\n",
        "manifold_reflected_brownian_motion.py:218: UserWarning: Newton iteration failed for the 1718th time. Process reset to x0.\n",
        "  + str(self.newton_failures) + \"th time. Process reset to x0.\")\n",
        "manifold_reflected_brownian_motion.py:218: UserWarning: Newton iteration failed for the 1719th time. Process reset to x0.\n",
        "  + str(self.newton_failures) + \"th time. Process reset to x0.\")\n",
        "manifold_reflected_brownian_motion.py:218: UserWarning: Newton iteration failed for the 1720th time. Process reset to x0.\n",
        "  + str(self.newton_failures) + \"th time. Process reset to x0.\")\n",
        "manifold_reflected_brownian_motion.py:218: UserWarning: Newton iteration failed for the 1721th time. Process reset to x0.\n",
        "  + str(self.newton_failures) + \"th time. Process reset to x0.\")\n"
       ]
      },
      {
       "output_type": "stream",
       "stream": "stderr",
       "text": [
        "manifold_reflected_brownian_motion.py:218: UserWarning: Newton iteration failed for the 1722th time. Process reset to x0.\n",
        "  + str(self.newton_failures) + \"th time. Process reset to x0.\")\n",
        "manifold_reflected_brownian_motion.py:218: UserWarning: Newton iteration failed for the 1723th time. Process reset to x0.\n",
        "  + str(self.newton_failures) + \"th time. Process reset to x0.\")\n",
        "manifold_reflected_brownian_motion.py:218: UserWarning: Newton iteration failed for the 1724th time. Process reset to x0.\n",
        "  + str(self.newton_failures) + \"th time. Process reset to x0.\")\n",
        "manifold_reflected_brownian_motion.py:218: UserWarning: Newton iteration failed for the 1725th time. Process reset to x0.\n",
        "  + str(self.newton_failures) + \"th time. Process reset to x0.\")\n",
        "manifold_reflected_brownian_motion.py:218: UserWarning: Newton iteration failed for the 1726th time. Process reset to x0.\n",
        "  + str(self.newton_failures) + \"th time. Process reset to x0.\")\n"
       ]
      },
      {
       "output_type": "stream",
       "stream": "stderr",
       "text": [
        "manifold_reflected_brownian_motion.py:218: UserWarning: Newton iteration failed for the 1727th time. Process reset to x0.\n",
        "  + str(self.newton_failures) + \"th time. Process reset to x0.\")\n",
        "manifold_reflected_brownian_motion.py:218: UserWarning: Newton iteration failed for the 1728th time. Process reset to x0.\n",
        "  + str(self.newton_failures) + \"th time. Process reset to x0.\")\n",
        "manifold_reflected_brownian_motion.py:218: UserWarning: Newton iteration failed for the 1729th time. Process reset to x0.\n",
        "  + str(self.newton_failures) + \"th time. Process reset to x0.\")\n",
        "manifold_reflected_brownian_motion.py:218: UserWarning: Newton iteration failed for the 1730th time. Process reset to x0.\n",
        "  + str(self.newton_failures) + \"th time. Process reset to x0.\")\n",
        "manifold_reflected_brownian_motion.py:218: UserWarning: Newton iteration failed for the 1731th time. Process reset to x0.\n",
        "  + str(self.newton_failures) + \"th time. Process reset to x0.\")\n"
       ]
      },
      {
       "output_type": "stream",
       "stream": "stderr",
       "text": [
        "manifold_reflected_brownian_motion.py:218: UserWarning: Newton iteration failed for the 1732th time. Process reset to x0.\n",
        "  + str(self.newton_failures) + \"th time. Process reset to x0.\")\n",
        "manifold_reflected_brownian_motion.py:218: UserWarning: Newton iteration failed for the 1733th time. Process reset to x0.\n",
        "  + str(self.newton_failures) + \"th time. Process reset to x0.\")\n",
        "manifold_reflected_brownian_motion.py:218: UserWarning: Newton iteration failed for the 1734th time. Process reset to x0.\n",
        "  + str(self.newton_failures) + \"th time. Process reset to x0.\")\n",
        "manifold_reflected_brownian_motion.py:218: UserWarning: Newton iteration failed for the 1735th time. Process reset to x0.\n",
        "  + str(self.newton_failures) + \"th time. Process reset to x0.\")\n",
        "manifold_reflected_brownian_motion.py:218: UserWarning: Newton iteration failed for the 1736th time. Process reset to x0.\n",
        "  + str(self.newton_failures) + \"th time. Process reset to x0.\")\n"
       ]
      },
      {
       "output_type": "stream",
       "stream": "stderr",
       "text": [
        "manifold_reflected_brownian_motion.py:218: UserWarning: Newton iteration failed for the 1737th time. Process reset to x0.\n",
        "  + str(self.newton_failures) + \"th time. Process reset to x0.\")\n",
        "manifold_reflected_brownian_motion.py:218: UserWarning: Newton iteration failed for the 1738th time. Process reset to x0.\n",
        "  + str(self.newton_failures) + \"th time. Process reset to x0.\")\n",
        "manifold_reflected_brownian_motion.py:218: UserWarning: Newton iteration failed for the 1739th time. Process reset to x0.\n",
        "  + str(self.newton_failures) + \"th time. Process reset to x0.\")\n",
        "manifold_reflected_brownian_motion.py:218: UserWarning: Newton iteration failed for the 1740th time. Process reset to x0.\n",
        "  + str(self.newton_failures) + \"th time. Process reset to x0.\")\n",
        "manifold_reflected_brownian_motion.py:218: UserWarning: Newton iteration failed for the 1741th time. Process reset to x0.\n",
        "  + str(self.newton_failures) + \"th time. Process reset to x0.\")\n"
       ]
      },
      {
       "output_type": "stream",
       "stream": "stderr",
       "text": [
        "manifold_reflected_brownian_motion.py:218: UserWarning: Newton iteration failed for the 1742th time. Process reset to x0.\n",
        "  + str(self.newton_failures) + \"th time. Process reset to x0.\")\n",
        "manifold_reflected_brownian_motion.py:218: UserWarning: Newton iteration failed for the 1743th time. Process reset to x0.\n",
        "  + str(self.newton_failures) + \"th time. Process reset to x0.\")\n",
        "manifold_reflected_brownian_motion.py:218: UserWarning: Newton iteration failed for the 1744th time. Process reset to x0.\n",
        "  + str(self.newton_failures) + \"th time. Process reset to x0.\")\n",
        "manifold_reflected_brownian_motion.py:218: UserWarning: Newton iteration failed for the 1745th time. Process reset to x0.\n",
        "  + str(self.newton_failures) + \"th time. Process reset to x0.\")\n",
        "manifold_reflected_brownian_motion.py:218: UserWarning: Newton iteration failed for the 1746th time. Process reset to x0.\n",
        "  + str(self.newton_failures) + \"th time. Process reset to x0.\")\n"
       ]
      },
      {
       "output_type": "stream",
       "stream": "stderr",
       "text": [
        "manifold_reflected_brownian_motion.py:218: UserWarning: Newton iteration failed for the 1747th time. Process reset to x0.\n",
        "  + str(self.newton_failures) + \"th time. Process reset to x0.\")\n",
        "manifold_reflected_brownian_motion.py:218: UserWarning: Newton iteration failed for the 1748th time. Process reset to x0.\n",
        "  + str(self.newton_failures) + \"th time. Process reset to x0.\")\n",
        "manifold_reflected_brownian_motion.py:218: UserWarning: Newton iteration failed for the 1749th time. Process reset to x0.\n",
        "  + str(self.newton_failures) + \"th time. Process reset to x0.\")\n",
        "manifold_reflected_brownian_motion.py:218: UserWarning: Newton iteration failed for the 1750th time. Process reset to x0.\n",
        "  + str(self.newton_failures) + \"th time. Process reset to x0.\")\n",
        "manifold_reflected_brownian_motion.py:218: UserWarning: Newton iteration failed for the 1751th time. Process reset to x0.\n",
        "  + str(self.newton_failures) + \"th time. Process reset to x0.\")\n"
       ]
      },
      {
       "output_type": "stream",
       "stream": "stderr",
       "text": [
        "manifold_reflected_brownian_motion.py:218: UserWarning: Newton iteration failed for the 1752th time. Process reset to x0.\n",
        "  + str(self.newton_failures) + \"th time. Process reset to x0.\")\n",
        "manifold_reflected_brownian_motion.py:218: UserWarning: Newton iteration failed for the 1753th time. Process reset to x0.\n",
        "  + str(self.newton_failures) + \"th time. Process reset to x0.\")\n",
        "manifold_reflected_brownian_motion.py:218: UserWarning: Newton iteration failed for the 1754th time. Process reset to x0.\n",
        "  + str(self.newton_failures) + \"th time. Process reset to x0.\")\n",
        "manifold_reflected_brownian_motion.py:218: UserWarning: Newton iteration failed for the 1755th time. Process reset to x0.\n",
        "  + str(self.newton_failures) + \"th time. Process reset to x0.\")\n",
        "manifold_reflected_brownian_motion.py:218: UserWarning: Newton iteration failed for the 1756th time. Process reset to x0.\n",
        "  + str(self.newton_failures) + \"th time. Process reset to x0.\")\n"
       ]
      },
      {
       "output_type": "stream",
       "stream": "stderr",
       "text": [
        "manifold_reflected_brownian_motion.py:218: UserWarning: Newton iteration failed for the 1757th time. Process reset to x0.\n",
        "  + str(self.newton_failures) + \"th time. Process reset to x0.\")\n",
        "manifold_reflected_brownian_motion.py:218: UserWarning: Newton iteration failed for the 1758th time. Process reset to x0.\n",
        "  + str(self.newton_failures) + \"th time. Process reset to x0.\")\n",
        "manifold_reflected_brownian_motion.py:218: UserWarning: Newton iteration failed for the 1759th time. Process reset to x0.\n",
        "  + str(self.newton_failures) + \"th time. Process reset to x0.\")\n",
        "manifold_reflected_brownian_motion.py:218: UserWarning: Newton iteration failed for the 1760th time. Process reset to x0.\n",
        "  + str(self.newton_failures) + \"th time. Process reset to x0.\")\n"
       ]
      },
      {
       "output_type": "stream",
       "stream": "stderr",
       "text": [
        "manifold_reflected_brownian_motion.py:218: UserWarning: Newton iteration failed for the 1761th time. Process reset to x0.\n",
        "  + str(self.newton_failures) + \"th time. Process reset to x0.\")\n",
        "manifold_reflected_brownian_motion.py:218: UserWarning: Newton iteration failed for the 1762th time. Process reset to x0.\n",
        "  + str(self.newton_failures) + \"th time. Process reset to x0.\")\n",
        "manifold_reflected_brownian_motion.py:218: UserWarning: Newton iteration failed for the 1763th time. Process reset to x0.\n",
        "  + str(self.newton_failures) + \"th time. Process reset to x0.\")\n",
        "manifold_reflected_brownian_motion.py:218: UserWarning: Newton iteration failed for the 1764th time. Process reset to x0.\n",
        "  + str(self.newton_failures) + \"th time. Process reset to x0.\")\n"
       ]
      },
      {
       "output_type": "stream",
       "stream": "stderr",
       "text": [
        "manifold_reflected_brownian_motion.py:218: UserWarning: Newton iteration failed for the 1765th time. Process reset to x0.\n",
        "  + str(self.newton_failures) + \"th time. Process reset to x0.\")\n",
        "manifold_reflected_brownian_motion.py:218: UserWarning: Newton iteration failed for the 1766th time. Process reset to x0.\n",
        "  + str(self.newton_failures) + \"th time. Process reset to x0.\")\n",
        "manifold_reflected_brownian_motion.py:218: UserWarning: Newton iteration failed for the 1767th time. Process reset to x0.\n",
        "  + str(self.newton_failures) + \"th time. Process reset to x0.\")\n",
        "manifold_reflected_brownian_motion.py:218: UserWarning: Newton iteration failed for the 1768th time. Process reset to x0.\n",
        "  + str(self.newton_failures) + \"th time. Process reset to x0.\")\n"
       ]
      },
      {
       "output_type": "stream",
       "stream": "stderr",
       "text": [
        "manifold_reflected_brownian_motion.py:218: UserWarning: Newton iteration failed for the 1769th time. Process reset to x0.\n",
        "  + str(self.newton_failures) + \"th time. Process reset to x0.\")\n",
        "manifold_reflected_brownian_motion.py:218: UserWarning: Newton iteration failed for the 1770th time. Process reset to x0.\n",
        "  + str(self.newton_failures) + \"th time. Process reset to x0.\")\n",
        "manifold_reflected_brownian_motion.py:218: UserWarning: Newton iteration failed for the 1771th time. Process reset to x0.\n",
        "  + str(self.newton_failures) + \"th time. Process reset to x0.\")\n",
        "manifold_reflected_brownian_motion.py:218: UserWarning: Newton iteration failed for the 1772th time. Process reset to x0.\n",
        "  + str(self.newton_failures) + \"th time. Process reset to x0.\")\n"
       ]
      },
      {
       "output_type": "stream",
       "stream": "stderr",
       "text": [
        "manifold_reflected_brownian_motion.py:218: UserWarning: Newton iteration failed for the 1773th time. Process reset to x0.\n",
        "  + str(self.newton_failures) + \"th time. Process reset to x0.\")\n",
        "manifold_reflected_brownian_motion.py:218: UserWarning: Newton iteration failed for the 1774th time. Process reset to x0.\n",
        "  + str(self.newton_failures) + \"th time. Process reset to x0.\")\n",
        "manifold_reflected_brownian_motion.py:218: UserWarning: Newton iteration failed for the 1775th time. Process reset to x0.\n",
        "  + str(self.newton_failures) + \"th time. Process reset to x0.\")\n",
        "manifold_reflected_brownian_motion.py:218: UserWarning: Newton iteration failed for the 1776th time. Process reset to x0.\n",
        "  + str(self.newton_failures) + \"th time. Process reset to x0.\")\n"
       ]
      },
      {
       "output_type": "stream",
       "stream": "stderr",
       "text": [
        "manifold_reflected_brownian_motion.py:218: UserWarning: Newton iteration failed for the 1777th time. Process reset to x0.\n",
        "  + str(self.newton_failures) + \"th time. Process reset to x0.\")\n",
        "manifold_reflected_brownian_motion.py:218: UserWarning: Newton iteration failed for the 1778th time. Process reset to x0.\n",
        "  + str(self.newton_failures) + \"th time. Process reset to x0.\")\n",
        "manifold_reflected_brownian_motion.py:218: UserWarning: Newton iteration failed for the 1779th time. Process reset to x0.\n",
        "  + str(self.newton_failures) + \"th time. Process reset to x0.\")\n",
        "manifold_reflected_brownian_motion.py:218: UserWarning: Newton iteration failed for the 1780th time. Process reset to x0.\n",
        "  + str(self.newton_failures) + \"th time. Process reset to x0.\")\n",
        "manifold_reflected_brownian_motion.py:218: UserWarning: Newton iteration failed for the 1781th time. Process reset to x0.\n",
        "  + str(self.newton_failures) + \"th time. Process reset to x0.\")\n"
       ]
      },
      {
       "output_type": "stream",
       "stream": "stderr",
       "text": [
        "manifold_reflected_brownian_motion.py:218: UserWarning: Newton iteration failed for the 1782th time. Process reset to x0.\n",
        "  + str(self.newton_failures) + \"th time. Process reset to x0.\")\n",
        "manifold_reflected_brownian_motion.py:218: UserWarning: Newton iteration failed for the 1783th time. Process reset to x0.\n",
        "  + str(self.newton_failures) + \"th time. Process reset to x0.\")\n",
        "manifold_reflected_brownian_motion.py:218: UserWarning: Newton iteration failed for the 1784th time. Process reset to x0.\n",
        "  + str(self.newton_failures) + \"th time. Process reset to x0.\")\n",
        "manifold_reflected_brownian_motion.py:218: UserWarning: Newton iteration failed for the 1785th time. Process reset to x0.\n",
        "  + str(self.newton_failures) + \"th time. Process reset to x0.\")\n",
        "manifold_reflected_brownian_motion.py:218: UserWarning: Newton iteration failed for the 1786th time. Process reset to x0.\n",
        "  + str(self.newton_failures) + \"th time. Process reset to x0.\")\n"
       ]
      },
      {
       "output_type": "stream",
       "stream": "stderr",
       "text": [
        "manifold_reflected_brownian_motion.py:218: UserWarning: Newton iteration failed for the 1787th time. Process reset to x0.\n",
        "  + str(self.newton_failures) + \"th time. Process reset to x0.\")\n",
        "manifold_reflected_brownian_motion.py:218: UserWarning: Newton iteration failed for the 1788th time. Process reset to x0.\n",
        "  + str(self.newton_failures) + \"th time. Process reset to x0.\")\n",
        "manifold_reflected_brownian_motion.py:218: UserWarning: Newton iteration failed for the 1789th time. Process reset to x0.\n",
        "  + str(self.newton_failures) + \"th time. Process reset to x0.\")\n",
        "manifold_reflected_brownian_motion.py:218: UserWarning: Newton iteration failed for the 1790th time. Process reset to x0.\n",
        "  + str(self.newton_failures) + \"th time. Process reset to x0.\")\n",
        "manifold_reflected_brownian_motion.py:218: UserWarning: Newton iteration failed for the 1791th time. Process reset to x0.\n",
        "  + str(self.newton_failures) + \"th time. Process reset to x0.\")\n"
       ]
      },
      {
       "output_type": "stream",
       "stream": "stderr",
       "text": [
        "manifold_reflected_brownian_motion.py:218: UserWarning: Newton iteration failed for the 1792th time. Process reset to x0.\n",
        "  + str(self.newton_failures) + \"th time. Process reset to x0.\")\n",
        "manifold_reflected_brownian_motion.py:218: UserWarning: Newton iteration failed for the 1793th time. Process reset to x0.\n",
        "  + str(self.newton_failures) + \"th time. Process reset to x0.\")\n",
        "manifold_reflected_brownian_motion.py:218: UserWarning: Newton iteration failed for the 1794th time. Process reset to x0.\n",
        "  + str(self.newton_failures) + \"th time. Process reset to x0.\")\n",
        "manifold_reflected_brownian_motion.py:218: UserWarning: Newton iteration failed for the 1795th time. Process reset to x0.\n",
        "  + str(self.newton_failures) + \"th time. Process reset to x0.\")\n"
       ]
      },
      {
       "output_type": "stream",
       "stream": "stderr",
       "text": [
        "manifold_reflected_brownian_motion.py:218: UserWarning: Newton iteration failed for the 1796th time. Process reset to x0.\n",
        "  + str(self.newton_failures) + \"th time. Process reset to x0.\")\n",
        "manifold_reflected_brownian_motion.py:218: UserWarning: Newton iteration failed for the 1797th time. Process reset to x0.\n",
        "  + str(self.newton_failures) + \"th time. Process reset to x0.\")\n",
        "manifold_reflected_brownian_motion.py:218: UserWarning: Newton iteration failed for the 1798th time. Process reset to x0.\n",
        "  + str(self.newton_failures) + \"th time. Process reset to x0.\")\n",
        "manifold_reflected_brownian_motion.py:218: UserWarning: Newton iteration failed for the 1799th time. Process reset to x0.\n",
        "  + str(self.newton_failures) + \"th time. Process reset to x0.\")\n"
       ]
      },
      {
       "output_type": "stream",
       "stream": "stderr",
       "text": [
        "manifold_reflected_brownian_motion.py:218: UserWarning: Newton iteration failed for the 1800th time. Process reset to x0.\n",
        "  + str(self.newton_failures) + \"th time. Process reset to x0.\")\n",
        "manifold_reflected_brownian_motion.py:218: UserWarning: Newton iteration failed for the 1801th time. Process reset to x0.\n",
        "  + str(self.newton_failures) + \"th time. Process reset to x0.\")\n",
        "manifold_reflected_brownian_motion.py:218: UserWarning: Newton iteration failed for the 1802th time. Process reset to x0.\n",
        "  + str(self.newton_failures) + \"th time. Process reset to x0.\")\n",
        "manifold_reflected_brownian_motion.py:218: UserWarning: Newton iteration failed for the 1803th time. Process reset to x0.\n",
        "  + str(self.newton_failures) + \"th time. Process reset to x0.\")\n",
        "manifold_reflected_brownian_motion.py:218: UserWarning: Newton iteration failed for the 1804th time. Process reset to x0.\n",
        "  + str(self.newton_failures) + \"th time. Process reset to x0.\")\n"
       ]
      },
      {
       "output_type": "stream",
       "stream": "stderr",
       "text": [
        "manifold_reflected_brownian_motion.py:218: UserWarning: Newton iteration failed for the 1805th time. Process reset to x0.\n",
        "  + str(self.newton_failures) + \"th time. Process reset to x0.\")\n",
        "manifold_reflected_brownian_motion.py:218: UserWarning: Newton iteration failed for the 1806th time. Process reset to x0.\n",
        "  + str(self.newton_failures) + \"th time. Process reset to x0.\")\n",
        "manifold_reflected_brownian_motion.py:218: UserWarning: Newton iteration failed for the 1807th time. Process reset to x0.\n",
        "  + str(self.newton_failures) + \"th time. Process reset to x0.\")\n",
        "manifold_reflected_brownian_motion.py:218: UserWarning: Newton iteration failed for the 1808th time. Process reset to x0.\n",
        "  + str(self.newton_failures) + \"th time. Process reset to x0.\")\n"
       ]
      },
      {
       "output_type": "stream",
       "stream": "stderr",
       "text": [
        "manifold_reflected_brownian_motion.py:218: UserWarning: Newton iteration failed for the 1809th time. Process reset to x0.\n",
        "  + str(self.newton_failures) + \"th time. Process reset to x0.\")\n",
        "manifold_reflected_brownian_motion.py:218: UserWarning: Newton iteration failed for the 1810th time. Process reset to x0.\n",
        "  + str(self.newton_failures) + \"th time. Process reset to x0.\")\n",
        "manifold_reflected_brownian_motion.py:218: UserWarning: Newton iteration failed for the 1811th time. Process reset to x0.\n",
        "  + str(self.newton_failures) + \"th time. Process reset to x0.\")\n",
        "manifold_reflected_brownian_motion.py:218: UserWarning: Newton iteration failed for the 1812th time. Process reset to x0.\n",
        "  + str(self.newton_failures) + \"th time. Process reset to x0.\")\n"
       ]
      },
      {
       "output_type": "stream",
       "stream": "stderr",
       "text": [
        "manifold_reflected_brownian_motion.py:218: UserWarning: Newton iteration failed for the 1813th time. Process reset to x0.\n",
        "  + str(self.newton_failures) + \"th time. Process reset to x0.\")\n",
        "manifold_reflected_brownian_motion.py:218: UserWarning: Newton iteration failed for the 1814th time. Process reset to x0.\n",
        "  + str(self.newton_failures) + \"th time. Process reset to x0.\")\n",
        "manifold_reflected_brownian_motion.py:218: UserWarning: Newton iteration failed for the 1815th time. Process reset to x0.\n",
        "  + str(self.newton_failures) + \"th time. Process reset to x0.\")\n",
        "manifold_reflected_brownian_motion.py:218: UserWarning: Newton iteration failed for the 1816th time. Process reset to x0.\n",
        "  + str(self.newton_failures) + \"th time. Process reset to x0.\")\n"
       ]
      },
      {
       "output_type": "stream",
       "stream": "stderr",
       "text": [
        "manifold_reflected_brownian_motion.py:218: UserWarning: Newton iteration failed for the 1817th time. Process reset to x0.\n",
        "  + str(self.newton_failures) + \"th time. Process reset to x0.\")\n",
        "manifold_reflected_brownian_motion.py:218: UserWarning: Newton iteration failed for the 1818th time. Process reset to x0.\n",
        "  + str(self.newton_failures) + \"th time. Process reset to x0.\")\n",
        "manifold_reflected_brownian_motion.py:218: UserWarning: Newton iteration failed for the 1819th time. Process reset to x0.\n",
        "  + str(self.newton_failures) + \"th time. Process reset to x0.\")\n",
        "manifold_reflected_brownian_motion.py:218: UserWarning: Newton iteration failed for the 1820th time. Process reset to x0.\n",
        "  + str(self.newton_failures) + \"th time. Process reset to x0.\")\n",
        "manifold_reflected_brownian_motion.py:218: UserWarning: Newton iteration failed for the 1821th time. Process reset to x0.\n",
        "  + str(self.newton_failures) + \"th time. Process reset to x0.\")\n"
       ]
      },
      {
       "output_type": "stream",
       "stream": "stderr",
       "text": [
        "manifold_reflected_brownian_motion.py:218: UserWarning: Newton iteration failed for the 1822th time. Process reset to x0.\n",
        "  + str(self.newton_failures) + \"th time. Process reset to x0.\")\n",
        "manifold_reflected_brownian_motion.py:218: UserWarning: Newton iteration failed for the 1823th time. Process reset to x0.\n",
        "  + str(self.newton_failures) + \"th time. Process reset to x0.\")\n",
        "manifold_reflected_brownian_motion.py:218: UserWarning: Newton iteration failed for the 1824th time. Process reset to x0.\n",
        "  + str(self.newton_failures) + \"th time. Process reset to x0.\")\n",
        "manifold_reflected_brownian_motion.py:218: UserWarning: Newton iteration failed for the 1825th time. Process reset to x0.\n",
        "  + str(self.newton_failures) + \"th time. Process reset to x0.\")\n"
       ]
      },
      {
       "output_type": "stream",
       "stream": "stderr",
       "text": [
        "manifold_reflected_brownian_motion.py:218: UserWarning: Newton iteration failed for the 1826th time. Process reset to x0.\n",
        "  + str(self.newton_failures) + \"th time. Process reset to x0.\")\n",
        "manifold_reflected_brownian_motion.py:218: UserWarning: Newton iteration failed for the 1827th time. Process reset to x0.\n",
        "  + str(self.newton_failures) + \"th time. Process reset to x0.\")\n",
        "manifold_reflected_brownian_motion.py:218: UserWarning: Newton iteration failed for the 1828th time. Process reset to x0.\n",
        "  + str(self.newton_failures) + \"th time. Process reset to x0.\")\n",
        "manifold_reflected_brownian_motion.py:218: UserWarning: Newton iteration failed for the 1829th time. Process reset to x0.\n",
        "  + str(self.newton_failures) + \"th time. Process reset to x0.\")\n",
        "manifold_reflected_brownian_motion.py:218: UserWarning: Newton iteration failed for the 1830th time. Process reset to x0.\n",
        "  + str(self.newton_failures) + \"th time. Process reset to x0.\")\n"
       ]
      },
      {
       "output_type": "stream",
       "stream": "stderr",
       "text": [
        "manifold_reflected_brownian_motion.py:218: UserWarning: Newton iteration failed for the 1831th time. Process reset to x0.\n",
        "  + str(self.newton_failures) + \"th time. Process reset to x0.\")\n",
        "manifold_reflected_brownian_motion.py:218: UserWarning: Newton iteration failed for the 1832th time. Process reset to x0.\n",
        "  + str(self.newton_failures) + \"th time. Process reset to x0.\")\n",
        "manifold_reflected_brownian_motion.py:218: UserWarning: Newton iteration failed for the 1833th time. Process reset to x0.\n",
        "  + str(self.newton_failures) + \"th time. Process reset to x0.\")\n",
        "manifold_reflected_brownian_motion.py:218: UserWarning: Newton iteration failed for the 1834th time. Process reset to x0.\n",
        "  + str(self.newton_failures) + \"th time. Process reset to x0.\")\n",
        "manifold_reflected_brownian_motion.py:218: UserWarning: Newton iteration failed for the 1835th time. Process reset to x0.\n",
        "  + str(self.newton_failures) + \"th time. Process reset to x0.\")\n"
       ]
      },
      {
       "output_type": "stream",
       "stream": "stderr",
       "text": [
        "manifold_reflected_brownian_motion.py:218: UserWarning: Newton iteration failed for the 1836th time. Process reset to x0.\n",
        "  + str(self.newton_failures) + \"th time. Process reset to x0.\")\n",
        "manifold_reflected_brownian_motion.py:218: UserWarning: Newton iteration failed for the 1837th time. Process reset to x0.\n",
        "  + str(self.newton_failures) + \"th time. Process reset to x0.\")\n",
        "manifold_reflected_brownian_motion.py:218: UserWarning: Newton iteration failed for the 1838th time. Process reset to x0.\n",
        "  + str(self.newton_failures) + \"th time. Process reset to x0.\")\n",
        "manifold_reflected_brownian_motion.py:218: UserWarning: Newton iteration failed for the 1839th time. Process reset to x0.\n",
        "  + str(self.newton_failures) + \"th time. Process reset to x0.\")\n",
        "manifold_reflected_brownian_motion.py:218: UserWarning: Newton iteration failed for the 1840th time. Process reset to x0.\n",
        "  + str(self.newton_failures) + \"th time. Process reset to x0.\")\n"
       ]
      },
      {
       "output_type": "stream",
       "stream": "stderr",
       "text": [
        "manifold_reflected_brownian_motion.py:218: UserWarning: Newton iteration failed for the 1841th time. Process reset to x0.\n",
        "  + str(self.newton_failures) + \"th time. Process reset to x0.\")\n",
        "manifold_reflected_brownian_motion.py:218: UserWarning: Newton iteration failed for the 1842th time. Process reset to x0.\n",
        "  + str(self.newton_failures) + \"th time. Process reset to x0.\")\n",
        "manifold_reflected_brownian_motion.py:218: UserWarning: Newton iteration failed for the 1843th time. Process reset to x0.\n",
        "  + str(self.newton_failures) + \"th time. Process reset to x0.\")\n",
        "manifold_reflected_brownian_motion.py:218: UserWarning: Newton iteration failed for the 1844th time. Process reset to x0.\n",
        "  + str(self.newton_failures) + \"th time. Process reset to x0.\")\n",
        "manifold_reflected_brownian_motion.py:218: UserWarning: Newton iteration failed for the 1845th time. Process reset to x0.\n",
        "  + str(self.newton_failures) + \"th time. Process reset to x0.\")\n"
       ]
      },
      {
       "output_type": "stream",
       "stream": "stderr",
       "text": [
        "manifold_reflected_brownian_motion.py:218: UserWarning: Newton iteration failed for the 1846th time. Process reset to x0.\n",
        "  + str(self.newton_failures) + \"th time. Process reset to x0.\")\n",
        "manifold_reflected_brownian_motion.py:218: UserWarning: Newton iteration failed for the 1847th time. Process reset to x0.\n",
        "  + str(self.newton_failures) + \"th time. Process reset to x0.\")\n",
        "manifold_reflected_brownian_motion.py:218: UserWarning: Newton iteration failed for the 1848th time. Process reset to x0.\n",
        "  + str(self.newton_failures) + \"th time. Process reset to x0.\")\n",
        "manifold_reflected_brownian_motion.py:218: UserWarning: Newton iteration failed for the 1849th time. Process reset to x0.\n",
        "  + str(self.newton_failures) + \"th time. Process reset to x0.\")\n",
        "manifold_reflected_brownian_motion.py:218: UserWarning: Newton iteration failed for the 1850th time. Process reset to x0.\n",
        "  + str(self.newton_failures) + \"th time. Process reset to x0.\")\n"
       ]
      },
      {
       "output_type": "stream",
       "stream": "stderr",
       "text": [
        "manifold_reflected_brownian_motion.py:218: UserWarning: Newton iteration failed for the 1851th time. Process reset to x0.\n",
        "  + str(self.newton_failures) + \"th time. Process reset to x0.\")\n",
        "manifold_reflected_brownian_motion.py:218: UserWarning: Newton iteration failed for the 1852th time. Process reset to x0.\n",
        "  + str(self.newton_failures) + \"th time. Process reset to x0.\")\n",
        "manifold_reflected_brownian_motion.py:218: UserWarning: Newton iteration failed for the 1853th time. Process reset to x0.\n",
        "  + str(self.newton_failures) + \"th time. Process reset to x0.\")\n",
        "manifold_reflected_brownian_motion.py:218: UserWarning: Newton iteration failed for the 1854th time. Process reset to x0.\n",
        "  + str(self.newton_failures) + \"th time. Process reset to x0.\")\n",
        "manifold_reflected_brownian_motion.py:218: UserWarning: Newton iteration failed for the 1855th time. Process reset to x0.\n",
        "  + str(self.newton_failures) + \"th time. Process reset to x0.\")\n"
       ]
      },
      {
       "output_type": "stream",
       "stream": "stderr",
       "text": [
        "manifold_reflected_brownian_motion.py:218: UserWarning: Newton iteration failed for the 1856th time. Process reset to x0.\n",
        "  + str(self.newton_failures) + \"th time. Process reset to x0.\")\n",
        "manifold_reflected_brownian_motion.py:218: UserWarning: Newton iteration failed for the 1857th time. Process reset to x0.\n",
        "  + str(self.newton_failures) + \"th time. Process reset to x0.\")\n",
        "manifold_reflected_brownian_motion.py:218: UserWarning: Newton iteration failed for the 1858th time. Process reset to x0.\n",
        "  + str(self.newton_failures) + \"th time. Process reset to x0.\")\n",
        "manifold_reflected_brownian_motion.py:218: UserWarning: Newton iteration failed for the 1859th time. Process reset to x0.\n",
        "  + str(self.newton_failures) + \"th time. Process reset to x0.\")\n",
        "manifold_reflected_brownian_motion.py:218: UserWarning: Newton iteration failed for the 1860th time. Process reset to x0.\n",
        "  + str(self.newton_failures) + \"th time. Process reset to x0.\")\n"
       ]
      },
      {
       "output_type": "stream",
       "stream": "stderr",
       "text": [
        "manifold_reflected_brownian_motion.py:218: UserWarning: Newton iteration failed for the 1861th time. Process reset to x0.\n",
        "  + str(self.newton_failures) + \"th time. Process reset to x0.\")\n",
        "manifold_reflected_brownian_motion.py:218: UserWarning: Newton iteration failed for the 1862th time. Process reset to x0.\n",
        "  + str(self.newton_failures) + \"th time. Process reset to x0.\")\n",
        "manifold_reflected_brownian_motion.py:218: UserWarning: Newton iteration failed for the 1863th time. Process reset to x0.\n",
        "  + str(self.newton_failures) + \"th time. Process reset to x0.\")\n",
        "manifold_reflected_brownian_motion.py:218: UserWarning: Newton iteration failed for the 1864th time. Process reset to x0.\n",
        "  + str(self.newton_failures) + \"th time. Process reset to x0.\")\n",
        "manifold_reflected_brownian_motion.py:218: UserWarning: Newton iteration failed for the 1865th time. Process reset to x0.\n",
        "  + str(self.newton_failures) + \"th time. Process reset to x0.\")\n"
       ]
      },
      {
       "output_type": "stream",
       "stream": "stderr",
       "text": [
        "manifold_reflected_brownian_motion.py:218: UserWarning: Newton iteration failed for the 1866th time. Process reset to x0.\n",
        "  + str(self.newton_failures) + \"th time. Process reset to x0.\")\n",
        "manifold_reflected_brownian_motion.py:218: UserWarning: Newton iteration failed for the 1867th time. Process reset to x0.\n",
        "  + str(self.newton_failures) + \"th time. Process reset to x0.\")\n",
        "manifold_reflected_brownian_motion.py:218: UserWarning: Newton iteration failed for the 1868th time. Process reset to x0.\n",
        "  + str(self.newton_failures) + \"th time. Process reset to x0.\")\n",
        "manifold_reflected_brownian_motion.py:218: UserWarning: Newton iteration failed for the 1869th time. Process reset to x0.\n",
        "  + str(self.newton_failures) + \"th time. Process reset to x0.\")\n",
        "manifold_reflected_brownian_motion.py:218: UserWarning: Newton iteration failed for the 1870th time. Process reset to x0.\n",
        "  + str(self.newton_failures) + \"th time. Process reset to x0.\")\n"
       ]
      },
      {
       "output_type": "stream",
       "stream": "stderr",
       "text": [
        "manifold_reflected_brownian_motion.py:218: UserWarning: Newton iteration failed for the 1871th time. Process reset to x0.\n",
        "  + str(self.newton_failures) + \"th time. Process reset to x0.\")\n",
        "manifold_reflected_brownian_motion.py:218: UserWarning: Newton iteration failed for the 1872th time. Process reset to x0.\n",
        "  + str(self.newton_failures) + \"th time. Process reset to x0.\")\n",
        "manifold_reflected_brownian_motion.py:218: UserWarning: Newton iteration failed for the 1873th time. Process reset to x0.\n",
        "  + str(self.newton_failures) + \"th time. Process reset to x0.\")\n",
        "manifold_reflected_brownian_motion.py:218: UserWarning: Newton iteration failed for the 1874th time. Process reset to x0.\n",
        "  + str(self.newton_failures) + \"th time. Process reset to x0.\")\n",
        "manifold_reflected_brownian_motion.py:218: UserWarning: Newton iteration failed for the 1875th time. Process reset to x0.\n",
        "  + str(self.newton_failures) + \"th time. Process reset to x0.\")\n"
       ]
      },
      {
       "output_type": "stream",
       "stream": "stderr",
       "text": [
        "manifold_reflected_brownian_motion.py:218: UserWarning: Newton iteration failed for the 1876th time. Process reset to x0.\n",
        "  + str(self.newton_failures) + \"th time. Process reset to x0.\")\n",
        "manifold_reflected_brownian_motion.py:218: UserWarning: Newton iteration failed for the 1877th time. Process reset to x0.\n",
        "  + str(self.newton_failures) + \"th time. Process reset to x0.\")\n",
        "manifold_reflected_brownian_motion.py:218: UserWarning: Newton iteration failed for the 1878th time. Process reset to x0.\n",
        "  + str(self.newton_failures) + \"th time. Process reset to x0.\")\n",
        "manifold_reflected_brownian_motion.py:218: UserWarning: Newton iteration failed for the 1879th time. Process reset to x0.\n",
        "  + str(self.newton_failures) + \"th time. Process reset to x0.\")\n"
       ]
      },
      {
       "output_type": "stream",
       "stream": "stderr",
       "text": [
        "manifold_reflected_brownian_motion.py:218: UserWarning: Newton iteration failed for the 1880th time. Process reset to x0.\n",
        "  + str(self.newton_failures) + \"th time. Process reset to x0.\")\n",
        "manifold_reflected_brownian_motion.py:218: UserWarning: Newton iteration failed for the 1881th time. Process reset to x0.\n",
        "  + str(self.newton_failures) + \"th time. Process reset to x0.\")\n",
        "manifold_reflected_brownian_motion.py:218: UserWarning: Newton iteration failed for the 1882th time. Process reset to x0.\n",
        "  + str(self.newton_failures) + \"th time. Process reset to x0.\")\n",
        "manifold_reflected_brownian_motion.py:218: UserWarning: Newton iteration failed for the 1883th time. Process reset to x0.\n",
        "  + str(self.newton_failures) + \"th time. Process reset to x0.\")\n"
       ]
      },
      {
       "output_type": "stream",
       "stream": "stderr",
       "text": [
        "manifold_reflected_brownian_motion.py:218: UserWarning: Newton iteration failed for the 1884th time. Process reset to x0.\n",
        "  + str(self.newton_failures) + \"th time. Process reset to x0.\")\n",
        "manifold_reflected_brownian_motion.py:218: UserWarning: Newton iteration failed for the 1885th time. Process reset to x0.\n",
        "  + str(self.newton_failures) + \"th time. Process reset to x0.\")\n",
        "manifold_reflected_brownian_motion.py:218: UserWarning: Newton iteration failed for the 1886th time. Process reset to x0.\n",
        "  + str(self.newton_failures) + \"th time. Process reset to x0.\")\n",
        "manifold_reflected_brownian_motion.py:218: UserWarning: Newton iteration failed for the 1887th time. Process reset to x0.\n",
        "  + str(self.newton_failures) + \"th time. Process reset to x0.\")\n",
        "manifold_reflected_brownian_motion.py:218: UserWarning: Newton iteration failed for the 1888th time. Process reset to x0.\n",
        "  + str(self.newton_failures) + \"th time. Process reset to x0.\")\n"
       ]
      },
      {
       "output_type": "stream",
       "stream": "stderr",
       "text": [
        "manifold_reflected_brownian_motion.py:218: UserWarning: Newton iteration failed for the 1889th time. Process reset to x0.\n",
        "  + str(self.newton_failures) + \"th time. Process reset to x0.\")\n",
        "manifold_reflected_brownian_motion.py:218: UserWarning: Newton iteration failed for the 1890th time. Process reset to x0.\n",
        "  + str(self.newton_failures) + \"th time. Process reset to x0.\")\n",
        "manifold_reflected_brownian_motion.py:218: UserWarning: Newton iteration failed for the 1891th time. Process reset to x0.\n",
        "  + str(self.newton_failures) + \"th time. Process reset to x0.\")\n",
        "manifold_reflected_brownian_motion.py:218: UserWarning: Newton iteration failed for the 1892th time. Process reset to x0.\n",
        "  + str(self.newton_failures) + \"th time. Process reset to x0.\")\n",
        "manifold_reflected_brownian_motion.py:218: UserWarning: Newton iteration failed for the 1893th time. Process reset to x0.\n",
        "  + str(self.newton_failures) + \"th time. Process reset to x0.\")\n"
       ]
      },
      {
       "output_type": "stream",
       "stream": "stderr",
       "text": [
        "manifold_reflected_brownian_motion.py:218: UserWarning: Newton iteration failed for the 1894th time. Process reset to x0.\n",
        "  + str(self.newton_failures) + \"th time. Process reset to x0.\")\n",
        "manifold_reflected_brownian_motion.py:218: UserWarning: Newton iteration failed for the 1895th time. Process reset to x0.\n",
        "  + str(self.newton_failures) + \"th time. Process reset to x0.\")\n",
        "manifold_reflected_brownian_motion.py:218: UserWarning: Newton iteration failed for the 1896th time. Process reset to x0.\n",
        "  + str(self.newton_failures) + \"th time. Process reset to x0.\")\n",
        "manifold_reflected_brownian_motion.py:218: UserWarning: Newton iteration failed for the 1897th time. Process reset to x0.\n",
        "  + str(self.newton_failures) + \"th time. Process reset to x0.\")\n",
        "manifold_reflected_brownian_motion.py:218: UserWarning: Newton iteration failed for the 1898th time. Process reset to x0.\n",
        "  + str(self.newton_failures) + \"th time. Process reset to x0.\")\n"
       ]
      },
      {
       "output_type": "stream",
       "stream": "stderr",
       "text": [
        "manifold_reflected_brownian_motion.py:218: UserWarning: Newton iteration failed for the 1899th time. Process reset to x0.\n",
        "  + str(self.newton_failures) + \"th time. Process reset to x0.\")\n",
        "manifold_reflected_brownian_motion.py:218: UserWarning: Newton iteration failed for the 1900th time. Process reset to x0.\n",
        "  + str(self.newton_failures) + \"th time. Process reset to x0.\")\n",
        "manifold_reflected_brownian_motion.py:218: UserWarning: Newton iteration failed for the 1901th time. Process reset to x0.\n",
        "  + str(self.newton_failures) + \"th time. Process reset to x0.\")\n",
        "manifold_reflected_brownian_motion.py:218: UserWarning: Newton iteration failed for the 1902th time. Process reset to x0.\n",
        "  + str(self.newton_failures) + \"th time. Process reset to x0.\")\n",
        "manifold_reflected_brownian_motion.py:218: UserWarning: Newton iteration failed for the 1903th time. Process reset to x0.\n",
        "  + str(self.newton_failures) + \"th time. Process reset to x0.\")\n"
       ]
      },
      {
       "output_type": "stream",
       "stream": "stderr",
       "text": [
        "manifold_reflected_brownian_motion.py:218: UserWarning: Newton iteration failed for the 1904th time. Process reset to x0.\n",
        "  + str(self.newton_failures) + \"th time. Process reset to x0.\")\n",
        "manifold_reflected_brownian_motion.py:218: UserWarning: Newton iteration failed for the 1905th time. Process reset to x0.\n",
        "  + str(self.newton_failures) + \"th time. Process reset to x0.\")\n",
        "manifold_reflected_brownian_motion.py:218: UserWarning: Newton iteration failed for the 1906th time. Process reset to x0.\n",
        "  + str(self.newton_failures) + \"th time. Process reset to x0.\")\n",
        "manifold_reflected_brownian_motion.py:218: UserWarning: Newton iteration failed for the 1907th time. Process reset to x0.\n",
        "  + str(self.newton_failures) + \"th time. Process reset to x0.\")\n",
        "manifold_reflected_brownian_motion.py:218: UserWarning: Newton iteration failed for the 1908th time. Process reset to x0.\n",
        "  + str(self.newton_failures) + \"th time. Process reset to x0.\")\n"
       ]
      },
      {
       "output_type": "stream",
       "stream": "stderr",
       "text": [
        "manifold_reflected_brownian_motion.py:218: UserWarning: Newton iteration failed for the 1909th time. Process reset to x0.\n",
        "  + str(self.newton_failures) + \"th time. Process reset to x0.\")\n",
        "manifold_reflected_brownian_motion.py:218: UserWarning: Newton iteration failed for the 1910th time. Process reset to x0.\n",
        "  + str(self.newton_failures) + \"th time. Process reset to x0.\")\n",
        "manifold_reflected_brownian_motion.py:218: UserWarning: Newton iteration failed for the 1911th time. Process reset to x0.\n",
        "  + str(self.newton_failures) + \"th time. Process reset to x0.\")\n",
        "manifold_reflected_brownian_motion.py:218: UserWarning: Newton iteration failed for the 1912th time. Process reset to x0.\n",
        "  + str(self.newton_failures) + \"th time. Process reset to x0.\")\n",
        "manifold_reflected_brownian_motion.py:218: UserWarning: Newton iteration failed for the 1913th time. Process reset to x0.\n",
        "  + str(self.newton_failures) + \"th time. Process reset to x0.\")\n"
       ]
      },
      {
       "output_type": "stream",
       "stream": "stderr",
       "text": [
        "manifold_reflected_brownian_motion.py:218: UserWarning: Newton iteration failed for the 1914th time. Process reset to x0.\n",
        "  + str(self.newton_failures) + \"th time. Process reset to x0.\")\n",
        "manifold_reflected_brownian_motion.py:218: UserWarning: Newton iteration failed for the 1915th time. Process reset to x0.\n",
        "  + str(self.newton_failures) + \"th time. Process reset to x0.\")\n",
        "manifold_reflected_brownian_motion.py:218: UserWarning: Newton iteration failed for the 1916th time. Process reset to x0.\n",
        "  + str(self.newton_failures) + \"th time. Process reset to x0.\")\n",
        "manifold_reflected_brownian_motion.py:218: UserWarning: Newton iteration failed for the 1917th time. Process reset to x0.\n",
        "  + str(self.newton_failures) + \"th time. Process reset to x0.\")\n",
        "manifold_reflected_brownian_motion.py:218: UserWarning: Newton iteration failed for the 1918th time. Process reset to x0.\n",
        "  + str(self.newton_failures) + \"th time. Process reset to x0.\")\n"
       ]
      },
      {
       "output_type": "stream",
       "stream": "stderr",
       "text": [
        "manifold_reflected_brownian_motion.py:218: UserWarning: Newton iteration failed for the 1919th time. Process reset to x0.\n",
        "  + str(self.newton_failures) + \"th time. Process reset to x0.\")\n",
        "manifold_reflected_brownian_motion.py:218: UserWarning: Newton iteration failed for the 1920th time. Process reset to x0.\n",
        "  + str(self.newton_failures) + \"th time. Process reset to x0.\")\n",
        "manifold_reflected_brownian_motion.py:218: UserWarning: Newton iteration failed for the 1921th time. Process reset to x0.\n",
        "  + str(self.newton_failures) + \"th time. Process reset to x0.\")\n",
        "manifold_reflected_brownian_motion.py:218: UserWarning: Newton iteration failed for the 1922th time. Process reset to x0.\n",
        "  + str(self.newton_failures) + \"th time. Process reset to x0.\")\n",
        "manifold_reflected_brownian_motion.py:218: UserWarning: Newton iteration failed for the 1923th time. Process reset to x0.\n",
        "  + str(self.newton_failures) + \"th time. Process reset to x0.\")\n"
       ]
      },
      {
       "output_type": "stream",
       "stream": "stderr",
       "text": [
        "manifold_reflected_brownian_motion.py:218: UserWarning: Newton iteration failed for the 1924th time. Process reset to x0.\n",
        "  + str(self.newton_failures) + \"th time. Process reset to x0.\")\n",
        "manifold_reflected_brownian_motion.py:218: UserWarning: Newton iteration failed for the 1925th time. Process reset to x0.\n",
        "  + str(self.newton_failures) + \"th time. Process reset to x0.\")\n",
        "manifold_reflected_brownian_motion.py:218: UserWarning: Newton iteration failed for the 1926th time. Process reset to x0.\n",
        "  + str(self.newton_failures) + \"th time. Process reset to x0.\")\n",
        "manifold_reflected_brownian_motion.py:218: UserWarning: Newton iteration failed for the 1927th time. Process reset to x0.\n",
        "  + str(self.newton_failures) + \"th time. Process reset to x0.\")\n",
        "manifold_reflected_brownian_motion.py:218: UserWarning: Newton iteration failed for the 1928th time. Process reset to x0.\n",
        "  + str(self.newton_failures) + \"th time. Process reset to x0.\")\n"
       ]
      },
      {
       "output_type": "stream",
       "stream": "stderr",
       "text": [
        "manifold_reflected_brownian_motion.py:218: UserWarning: Newton iteration failed for the 1929th time. Process reset to x0.\n",
        "  + str(self.newton_failures) + \"th time. Process reset to x0.\")\n",
        "manifold_reflected_brownian_motion.py:218: UserWarning: Newton iteration failed for the 1930th time. Process reset to x0.\n",
        "  + str(self.newton_failures) + \"th time. Process reset to x0.\")\n",
        "manifold_reflected_brownian_motion.py:218: UserWarning: Newton iteration failed for the 1931th time. Process reset to x0.\n",
        "  + str(self.newton_failures) + \"th time. Process reset to x0.\")\n",
        "manifold_reflected_brownian_motion.py:218: UserWarning: Newton iteration failed for the 1932th time. Process reset to x0.\n",
        "  + str(self.newton_failures) + \"th time. Process reset to x0.\")\n",
        "manifold_reflected_brownian_motion.py:218: UserWarning: Newton iteration failed for the 1933th time. Process reset to x0.\n",
        "  + str(self.newton_failures) + \"th time. Process reset to x0.\")\n"
       ]
      },
      {
       "output_type": "stream",
       "stream": "stderr",
       "text": [
        "manifold_reflected_brownian_motion.py:218: UserWarning: Newton iteration failed for the 1934th time. Process reset to x0.\n",
        "  + str(self.newton_failures) + \"th time. Process reset to x0.\")\n",
        "manifold_reflected_brownian_motion.py:218: UserWarning: Newton iteration failed for the 1935th time. Process reset to x0.\n",
        "  + str(self.newton_failures) + \"th time. Process reset to x0.\")\n",
        "manifold_reflected_brownian_motion.py:218: UserWarning: Newton iteration failed for the 1936th time. Process reset to x0.\n",
        "  + str(self.newton_failures) + \"th time. Process reset to x0.\")\n",
        "manifold_reflected_brownian_motion.py:218: UserWarning: Newton iteration failed for the 1937th time. Process reset to x0.\n",
        "  + str(self.newton_failures) + \"th time. Process reset to x0.\")\n",
        "manifold_reflected_brownian_motion.py:218: UserWarning: Newton iteration failed for the 1938th time. Process reset to x0.\n",
        "  + str(self.newton_failures) + \"th time. Process reset to x0.\")\n"
       ]
      },
      {
       "output_type": "stream",
       "stream": "stderr",
       "text": [
        "manifold_reflected_brownian_motion.py:218: UserWarning: Newton iteration failed for the 1939th time. Process reset to x0.\n",
        "  + str(self.newton_failures) + \"th time. Process reset to x0.\")\n",
        "manifold_reflected_brownian_motion.py:218: UserWarning: Newton iteration failed for the 1940th time. Process reset to x0.\n",
        "  + str(self.newton_failures) + \"th time. Process reset to x0.\")\n",
        "manifold_reflected_brownian_motion.py:218: UserWarning: Newton iteration failed for the 1941th time. Process reset to x0.\n",
        "  + str(self.newton_failures) + \"th time. Process reset to x0.\")\n",
        "manifold_reflected_brownian_motion.py:218: UserWarning: Newton iteration failed for the 1942th time. Process reset to x0.\n",
        "  + str(self.newton_failures) + \"th time. Process reset to x0.\")\n",
        "manifold_reflected_brownian_motion.py:218: UserWarning: Newton iteration failed for the 1943th time. Process reset to x0.\n",
        "  + str(self.newton_failures) + \"th time. Process reset to x0.\")\n"
       ]
      },
      {
       "output_type": "stream",
       "stream": "stderr",
       "text": [
        "manifold_reflected_brownian_motion.py:218: UserWarning: Newton iteration failed for the 1944th time. Process reset to x0.\n",
        "  + str(self.newton_failures) + \"th time. Process reset to x0.\")\n",
        "manifold_reflected_brownian_motion.py:218: UserWarning: Newton iteration failed for the 1945th time. Process reset to x0.\n",
        "  + str(self.newton_failures) + \"th time. Process reset to x0.\")\n",
        "manifold_reflected_brownian_motion.py:218: UserWarning: Newton iteration failed for the 1946th time. Process reset to x0.\n",
        "  + str(self.newton_failures) + \"th time. Process reset to x0.\")\n",
        "manifold_reflected_brownian_motion.py:218: UserWarning: Newton iteration failed for the 1947th time. Process reset to x0.\n",
        "  + str(self.newton_failures) + \"th time. Process reset to x0.\")\n",
        "manifold_reflected_brownian_motion.py:218: UserWarning: Newton iteration failed for the 1948th time. Process reset to x0.\n",
        "  + str(self.newton_failures) + \"th time. Process reset to x0.\")\n"
       ]
      },
      {
       "output_type": "stream",
       "stream": "stderr",
       "text": [
        "manifold_reflected_brownian_motion.py:218: UserWarning: Newton iteration failed for the 1949th time. Process reset to x0.\n",
        "  + str(self.newton_failures) + \"th time. Process reset to x0.\")\n",
        "manifold_reflected_brownian_motion.py:218: UserWarning: Newton iteration failed for the 1950th time. Process reset to x0.\n",
        "  + str(self.newton_failures) + \"th time. Process reset to x0.\")\n",
        "manifold_reflected_brownian_motion.py:218: UserWarning: Newton iteration failed for the 1951th time. Process reset to x0.\n",
        "  + str(self.newton_failures) + \"th time. Process reset to x0.\")\n",
        "manifold_reflected_brownian_motion.py:218: UserWarning: Newton iteration failed for the 1952th time. Process reset to x0.\n",
        "  + str(self.newton_failures) + \"th time. Process reset to x0.\")\n",
        "manifold_reflected_brownian_motion.py:218: UserWarning: Newton iteration failed for the 1953th time. Process reset to x0.\n",
        "  + str(self.newton_failures) + \"th time. Process reset to x0.\")\n"
       ]
      },
      {
       "output_type": "stream",
       "stream": "stderr",
       "text": [
        "manifold_reflected_brownian_motion.py:218: UserWarning: Newton iteration failed for the 1954th time. Process reset to x0.\n",
        "  + str(self.newton_failures) + \"th time. Process reset to x0.\")\n",
        "manifold_reflected_brownian_motion.py:218: UserWarning: Newton iteration failed for the 1955th time. Process reset to x0.\n",
        "  + str(self.newton_failures) + \"th time. Process reset to x0.\")\n",
        "manifold_reflected_brownian_motion.py:218: UserWarning: Newton iteration failed for the 1956th time. Process reset to x0.\n",
        "  + str(self.newton_failures) + \"th time. Process reset to x0.\")\n",
        "manifold_reflected_brownian_motion.py:218: UserWarning: Newton iteration failed for the 1957th time. Process reset to x0.\n",
        "  + str(self.newton_failures) + \"th time. Process reset to x0.\")\n",
        "manifold_reflected_brownian_motion.py:218: UserWarning: Newton iteration failed for the 1958th time. Process reset to x0.\n",
        "  + str(self.newton_failures) + \"th time. Process reset to x0.\")\n"
       ]
      },
      {
       "output_type": "stream",
       "stream": "stderr",
       "text": [
        "manifold_reflected_brownian_motion.py:218: UserWarning: Newton iteration failed for the 1959th time. Process reset to x0.\n",
        "  + str(self.newton_failures) + \"th time. Process reset to x0.\")\n",
        "manifold_reflected_brownian_motion.py:218: UserWarning: Newton iteration failed for the 1960th time. Process reset to x0.\n",
        "  + str(self.newton_failures) + \"th time. Process reset to x0.\")\n",
        "manifold_reflected_brownian_motion.py:218: UserWarning: Newton iteration failed for the 1961th time. Process reset to x0.\n",
        "  + str(self.newton_failures) + \"th time. Process reset to x0.\")\n",
        "manifold_reflected_brownian_motion.py:218: UserWarning: Newton iteration failed for the 1962th time. Process reset to x0.\n",
        "  + str(self.newton_failures) + \"th time. Process reset to x0.\")\n",
        "manifold_reflected_brownian_motion.py:218: UserWarning: Newton iteration failed for the 1963th time. Process reset to x0.\n",
        "  + str(self.newton_failures) + \"th time. Process reset to x0.\")\n"
       ]
      },
      {
       "output_type": "stream",
       "stream": "stderr",
       "text": [
        "manifold_reflected_brownian_motion.py:218: UserWarning: Newton iteration failed for the 1964th time. Process reset to x0.\n",
        "  + str(self.newton_failures) + \"th time. Process reset to x0.\")\n",
        "manifold_reflected_brownian_motion.py:218: UserWarning: Newton iteration failed for the 1965th time. Process reset to x0.\n",
        "  + str(self.newton_failures) + \"th time. Process reset to x0.\")\n",
        "manifold_reflected_brownian_motion.py:218: UserWarning: Newton iteration failed for the 1966th time. Process reset to x0.\n",
        "  + str(self.newton_failures) + \"th time. Process reset to x0.\")\n",
        "manifold_reflected_brownian_motion.py:218: UserWarning: Newton iteration failed for the 1967th time. Process reset to x0.\n",
        "  + str(self.newton_failures) + \"th time. Process reset to x0.\")\n",
        "manifold_reflected_brownian_motion.py:218: UserWarning: Newton iteration failed for the 1968th time. Process reset to x0.\n",
        "  + str(self.newton_failures) + \"th time. Process reset to x0.\")\n"
       ]
      },
      {
       "output_type": "stream",
       "stream": "stderr",
       "text": [
        "manifold_reflected_brownian_motion.py:218: UserWarning: Newton iteration failed for the 1969th time. Process reset to x0.\n",
        "  + str(self.newton_failures) + \"th time. Process reset to x0.\")\n",
        "manifold_reflected_brownian_motion.py:218: UserWarning: Newton iteration failed for the 1970th time. Process reset to x0.\n",
        "  + str(self.newton_failures) + \"th time. Process reset to x0.\")\n",
        "manifold_reflected_brownian_motion.py:218: UserWarning: Newton iteration failed for the 1971th time. Process reset to x0.\n",
        "  + str(self.newton_failures) + \"th time. Process reset to x0.\")\n",
        "manifold_reflected_brownian_motion.py:218: UserWarning: Newton iteration failed for the 1972th time. Process reset to x0.\n",
        "  + str(self.newton_failures) + \"th time. Process reset to x0.\")\n",
        "manifold_reflected_brownian_motion.py:218: UserWarning: Newton iteration failed for the 1973th time. Process reset to x0.\n",
        "  + str(self.newton_failures) + \"th time. Process reset to x0.\")\n"
       ]
      },
      {
       "output_type": "stream",
       "stream": "stderr",
       "text": [
        "manifold_reflected_brownian_motion.py:218: UserWarning: Newton iteration failed for the 1974th time. Process reset to x0.\n",
        "  + str(self.newton_failures) + \"th time. Process reset to x0.\")\n",
        "manifold_reflected_brownian_motion.py:218: UserWarning: Newton iteration failed for the 1975th time. Process reset to x0.\n",
        "  + str(self.newton_failures) + \"th time. Process reset to x0.\")\n",
        "manifold_reflected_brownian_motion.py:218: UserWarning: Newton iteration failed for the 1976th time. Process reset to x0.\n",
        "  + str(self.newton_failures) + \"th time. Process reset to x0.\")\n",
        "manifold_reflected_brownian_motion.py:218: UserWarning: Newton iteration failed for the 1977th time. Process reset to x0.\n",
        "  + str(self.newton_failures) + \"th time. Process reset to x0.\")\n",
        "manifold_reflected_brownian_motion.py:218: UserWarning: Newton iteration failed for the 1978th time. Process reset to x0.\n",
        "  + str(self.newton_failures) + \"th time. Process reset to x0.\")\n"
       ]
      },
      {
       "output_type": "stream",
       "stream": "stderr",
       "text": [
        "manifold_reflected_brownian_motion.py:218: UserWarning: Newton iteration failed for the 1979th time. Process reset to x0.\n",
        "  + str(self.newton_failures) + \"th time. Process reset to x0.\")\n",
        "manifold_reflected_brownian_motion.py:218: UserWarning: Newton iteration failed for the 1980th time. Process reset to x0.\n",
        "  + str(self.newton_failures) + \"th time. Process reset to x0.\")\n",
        "manifold_reflected_brownian_motion.py:218: UserWarning: Newton iteration failed for the 1981th time. Process reset to x0.\n",
        "  + str(self.newton_failures) + \"th time. Process reset to x0.\")\n",
        "manifold_reflected_brownian_motion.py:218: UserWarning: Newton iteration failed for the 1982th time. Process reset to x0.\n",
        "  + str(self.newton_failures) + \"th time. Process reset to x0.\")\n",
        "manifold_reflected_brownian_motion.py:218: UserWarning: Newton iteration failed for the 1983th time. Process reset to x0.\n",
        "  + str(self.newton_failures) + \"th time. Process reset to x0.\")\n"
       ]
      },
      {
       "output_type": "stream",
       "stream": "stderr",
       "text": [
        "manifold_reflected_brownian_motion.py:218: UserWarning: Newton iteration failed for the 1984th time. Process reset to x0.\n",
        "  + str(self.newton_failures) + \"th time. Process reset to x0.\")\n",
        "manifold_reflected_brownian_motion.py:218: UserWarning: Newton iteration failed for the 1985th time. Process reset to x0.\n",
        "  + str(self.newton_failures) + \"th time. Process reset to x0.\")\n",
        "manifold_reflected_brownian_motion.py:218: UserWarning: Newton iteration failed for the 1986th time. Process reset to x0.\n",
        "  + str(self.newton_failures) + \"th time. Process reset to x0.\")\n",
        "manifold_reflected_brownian_motion.py:218: UserWarning: Newton iteration failed for the 1987th time. Process reset to x0.\n",
        "  + str(self.newton_failures) + \"th time. Process reset to x0.\")\n"
       ]
      },
      {
       "output_type": "stream",
       "stream": "stderr",
       "text": [
        "manifold_reflected_brownian_motion.py:218: UserWarning: Newton iteration failed for the 1988th time. Process reset to x0.\n",
        "  + str(self.newton_failures) + \"th time. Process reset to x0.\")\n",
        "manifold_reflected_brownian_motion.py:218: UserWarning: Newton iteration failed for the 1989th time. Process reset to x0.\n",
        "  + str(self.newton_failures) + \"th time. Process reset to x0.\")\n",
        "manifold_reflected_brownian_motion.py:218: UserWarning: Newton iteration failed for the 1990th time. Process reset to x0.\n",
        "  + str(self.newton_failures) + \"th time. Process reset to x0.\")\n",
        "manifold_reflected_brownian_motion.py:218: UserWarning: Newton iteration failed for the 1991th time. Process reset to x0.\n",
        "  + str(self.newton_failures) + \"th time. Process reset to x0.\")\n",
        "manifold_reflected_brownian_motion.py:218: UserWarning: Newton iteration failed for the 1992th time. Process reset to x0.\n",
        "  + str(self.newton_failures) + \"th time. Process reset to x0.\")\n"
       ]
      },
      {
       "output_type": "stream",
       "stream": "stderr",
       "text": [
        "manifold_reflected_brownian_motion.py:218: UserWarning: Newton iteration failed for the 1993th time. Process reset to x0.\n",
        "  + str(self.newton_failures) + \"th time. Process reset to x0.\")\n",
        "manifold_reflected_brownian_motion.py:218: UserWarning: Newton iteration failed for the 1994th time. Process reset to x0.\n",
        "  + str(self.newton_failures) + \"th time. Process reset to x0.\")\n",
        "manifold_reflected_brownian_motion.py:218: UserWarning: Newton iteration failed for the 1995th time. Process reset to x0.\n",
        "  + str(self.newton_failures) + \"th time. Process reset to x0.\")\n",
        "manifold_reflected_brownian_motion.py:218: UserWarning: Newton iteration failed for the 1996th time. Process reset to x0.\n",
        "  + str(self.newton_failures) + \"th time. Process reset to x0.\")\n",
        "manifold_reflected_brownian_motion.py:218: UserWarning: Newton iteration failed for the 1997th time. Process reset to x0.\n",
        "  + str(self.newton_failures) + \"th time. Process reset to x0.\")\n"
       ]
      },
      {
       "output_type": "stream",
       "stream": "stderr",
       "text": [
        "manifold_reflected_brownian_motion.py:218: UserWarning: Newton iteration failed for the 1998th time. Process reset to x0.\n",
        "  + str(self.newton_failures) + \"th time. Process reset to x0.\")\n",
        "manifold_reflected_brownian_motion.py:218: UserWarning: Newton iteration failed for the 1999th time. Process reset to x0.\n",
        "  + str(self.newton_failures) + \"th time. Process reset to x0.\")\n",
        "manifold_reflected_brownian_motion.py:218: UserWarning: Newton iteration failed for the 2000th time. Process reset to x0.\n",
        "  + str(self.newton_failures) + \"th time. Process reset to x0.\")\n",
        "manifold_reflected_brownian_motion.py:218: UserWarning: Newton iteration failed for the 2001th time. Process reset to x0.\n",
        "  + str(self.newton_failures) + \"th time. Process reset to x0.\")\n",
        "manifold_reflected_brownian_motion.py:218: UserWarning: Newton iteration failed for the 2002th time. Process reset to x0.\n",
        "  + str(self.newton_failures) + \"th time. Process reset to x0.\")\n"
       ]
      },
      {
       "output_type": "stream",
       "stream": "stderr",
       "text": [
        "manifold_reflected_brownian_motion.py:218: UserWarning: Newton iteration failed for the 2003th time. Process reset to x0.\n",
        "  + str(self.newton_failures) + \"th time. Process reset to x0.\")\n",
        "manifold_reflected_brownian_motion.py:218: UserWarning: Newton iteration failed for the 2004th time. Process reset to x0.\n",
        "  + str(self.newton_failures) + \"th time. Process reset to x0.\")\n",
        "manifold_reflected_brownian_motion.py:218: UserWarning: Newton iteration failed for the 2005th time. Process reset to x0.\n",
        "  + str(self.newton_failures) + \"th time. Process reset to x0.\")\n",
        "manifold_reflected_brownian_motion.py:218: UserWarning: Newton iteration failed for the 2006th time. Process reset to x0.\n",
        "  + str(self.newton_failures) + \"th time. Process reset to x0.\")\n",
        "manifold_reflected_brownian_motion.py:218: UserWarning: Newton iteration failed for the 2007th time. Process reset to x0.\n",
        "  + str(self.newton_failures) + \"th time. Process reset to x0.\")\n"
       ]
      },
      {
       "output_type": "stream",
       "stream": "stderr",
       "text": [
        "manifold_reflected_brownian_motion.py:218: UserWarning: Newton iteration failed for the 2008th time. Process reset to x0.\n",
        "  + str(self.newton_failures) + \"th time. Process reset to x0.\")\n",
        "manifold_reflected_brownian_motion.py:218: UserWarning: Newton iteration failed for the 2009th time. Process reset to x0.\n",
        "  + str(self.newton_failures) + \"th time. Process reset to x0.\")\n",
        "manifold_reflected_brownian_motion.py:218: UserWarning: Newton iteration failed for the 2010th time. Process reset to x0.\n",
        "  + str(self.newton_failures) + \"th time. Process reset to x0.\")\n",
        "manifold_reflected_brownian_motion.py:218: UserWarning: Newton iteration failed for the 2011th time. Process reset to x0.\n",
        "  + str(self.newton_failures) + \"th time. Process reset to x0.\")\n",
        "manifold_reflected_brownian_motion.py:218: UserWarning: Newton iteration failed for the 2012th time. Process reset to x0.\n",
        "  + str(self.newton_failures) + \"th time. Process reset to x0.\")\n"
       ]
      },
      {
       "output_type": "stream",
       "stream": "stderr",
       "text": [
        "manifold_reflected_brownian_motion.py:218: UserWarning: Newton iteration failed for the 2013th time. Process reset to x0.\n",
        "  + str(self.newton_failures) + \"th time. Process reset to x0.\")\n",
        "manifold_reflected_brownian_motion.py:218: UserWarning: Newton iteration failed for the 2014th time. Process reset to x0.\n",
        "  + str(self.newton_failures) + \"th time. Process reset to x0.\")\n",
        "manifold_reflected_brownian_motion.py:218: UserWarning: Newton iteration failed for the 2015th time. Process reset to x0.\n",
        "  + str(self.newton_failures) + \"th time. Process reset to x0.\")\n",
        "manifold_reflected_brownian_motion.py:218: UserWarning: Newton iteration failed for the 2016th time. Process reset to x0.\n",
        "  + str(self.newton_failures) + \"th time. Process reset to x0.\")\n"
       ]
      },
      {
       "output_type": "stream",
       "stream": "stderr",
       "text": [
        "manifold_reflected_brownian_motion.py:218: UserWarning: Newton iteration failed for the 2017th time. Process reset to x0.\n",
        "  + str(self.newton_failures) + \"th time. Process reset to x0.\")\n",
        "manifold_reflected_brownian_motion.py:218: UserWarning: Newton iteration failed for the 2018th time. Process reset to x0.\n",
        "  + str(self.newton_failures) + \"th time. Process reset to x0.\")\n",
        "manifold_reflected_brownian_motion.py:218: UserWarning: Newton iteration failed for the 2019th time. Process reset to x0.\n",
        "  + str(self.newton_failures) + \"th time. Process reset to x0.\")\n",
        "manifold_reflected_brownian_motion.py:218: UserWarning: Newton iteration failed for the 2020th time. Process reset to x0.\n",
        "  + str(self.newton_failures) + \"th time. Process reset to x0.\")\n",
        "manifold_reflected_brownian_motion.py:218: UserWarning: Newton iteration failed for the 2021th time. Process reset to x0.\n",
        "  + str(self.newton_failures) + \"th time. Process reset to x0.\")\n"
       ]
      },
      {
       "output_type": "stream",
       "stream": "stderr",
       "text": [
        "manifold_reflected_brownian_motion.py:218: UserWarning: Newton iteration failed for the 2022th time. Process reset to x0.\n",
        "  + str(self.newton_failures) + \"th time. Process reset to x0.\")\n",
        "manifold_reflected_brownian_motion.py:218: UserWarning: Newton iteration failed for the 2023th time. Process reset to x0.\n",
        "  + str(self.newton_failures) + \"th time. Process reset to x0.\")\n",
        "manifold_reflected_brownian_motion.py:218: UserWarning: Newton iteration failed for the 2024th time. Process reset to x0.\n",
        "  + str(self.newton_failures) + \"th time. Process reset to x0.\")\n",
        "manifold_reflected_brownian_motion.py:218: UserWarning: Newton iteration failed for the 2025th time. Process reset to x0.\n",
        "  + str(self.newton_failures) + \"th time. Process reset to x0.\")\n",
        "manifold_reflected_brownian_motion.py:218: UserWarning: Newton iteration failed for the 2026th time. Process reset to x0.\n",
        "  + str(self.newton_failures) + \"th time. Process reset to x0.\")\n"
       ]
      },
      {
       "output_type": "stream",
       "stream": "stderr",
       "text": [
        "manifold_reflected_brownian_motion.py:218: UserWarning: Newton iteration failed for the 2027th time. Process reset to x0.\n",
        "  + str(self.newton_failures) + \"th time. Process reset to x0.\")\n",
        "manifold_reflected_brownian_motion.py:218: UserWarning: Newton iteration failed for the 2028th time. Process reset to x0.\n",
        "  + str(self.newton_failures) + \"th time. Process reset to x0.\")\n",
        "manifold_reflected_brownian_motion.py:218: UserWarning: Newton iteration failed for the 2029th time. Process reset to x0.\n",
        "  + str(self.newton_failures) + \"th time. Process reset to x0.\")\n",
        "manifold_reflected_brownian_motion.py:218: UserWarning: Newton iteration failed for the 2030th time. Process reset to x0.\n",
        "  + str(self.newton_failures) + \"th time. Process reset to x0.\")\n",
        "manifold_reflected_brownian_motion.py:218: UserWarning: Newton iteration failed for the 2031th time. Process reset to x0.\n",
        "  + str(self.newton_failures) + \"th time. Process reset to x0.\")\n"
       ]
      },
      {
       "output_type": "stream",
       "stream": "stderr",
       "text": [
        "manifold_reflected_brownian_motion.py:218: UserWarning: Newton iteration failed for the 2032th time. Process reset to x0.\n",
        "  + str(self.newton_failures) + \"th time. Process reset to x0.\")\n",
        "manifold_reflected_brownian_motion.py:218: UserWarning: Newton iteration failed for the 2033th time. Process reset to x0.\n",
        "  + str(self.newton_failures) + \"th time. Process reset to x0.\")\n",
        "manifold_reflected_brownian_motion.py:218: UserWarning: Newton iteration failed for the 2034th time. Process reset to x0.\n",
        "  + str(self.newton_failures) + \"th time. Process reset to x0.\")\n",
        "manifold_reflected_brownian_motion.py:218: UserWarning: Newton iteration failed for the 2035th time. Process reset to x0.\n",
        "  + str(self.newton_failures) + \"th time. Process reset to x0.\")\n"
       ]
      },
      {
       "output_type": "stream",
       "stream": "stderr",
       "text": [
        "manifold_reflected_brownian_motion.py:218: UserWarning: Newton iteration failed for the 2036th time. Process reset to x0.\n",
        "  + str(self.newton_failures) + \"th time. Process reset to x0.\")\n",
        "manifold_reflected_brownian_motion.py:218: UserWarning: Newton iteration failed for the 2037th time. Process reset to x0.\n",
        "  + str(self.newton_failures) + \"th time. Process reset to x0.\")\n",
        "manifold_reflected_brownian_motion.py:218: UserWarning: Newton iteration failed for the 2038th time. Process reset to x0.\n",
        "  + str(self.newton_failures) + \"th time. Process reset to x0.\")\n",
        "manifold_reflected_brownian_motion.py:218: UserWarning: Newton iteration failed for the 2039th time. Process reset to x0.\n",
        "  + str(self.newton_failures) + \"th time. Process reset to x0.\")\n",
        "manifold_reflected_brownian_motion.py:218: UserWarning: Newton iteration failed for the 2040th time. Process reset to x0.\n",
        "  + str(self.newton_failures) + \"th time. Process reset to x0.\")\n"
       ]
      },
      {
       "output_type": "stream",
       "stream": "stderr",
       "text": [
        "manifold_reflected_brownian_motion.py:218: UserWarning: Newton iteration failed for the 2041th time. Process reset to x0.\n",
        "  + str(self.newton_failures) + \"th time. Process reset to x0.\")\n",
        "manifold_reflected_brownian_motion.py:218: UserWarning: Newton iteration failed for the 2042th time. Process reset to x0.\n",
        "  + str(self.newton_failures) + \"th time. Process reset to x0.\")\n",
        "manifold_reflected_brownian_motion.py:218: UserWarning: Newton iteration failed for the 2043th time. Process reset to x0.\n",
        "  + str(self.newton_failures) + \"th time. Process reset to x0.\")\n",
        "manifold_reflected_brownian_motion.py:218: UserWarning: Newton iteration failed for the 2044th time. Process reset to x0.\n",
        "  + str(self.newton_failures) + \"th time. Process reset to x0.\")\n",
        "manifold_reflected_brownian_motion.py:218: UserWarning: Newton iteration failed for the 2045th time. Process reset to x0.\n",
        "  + str(self.newton_failures) + \"th time. Process reset to x0.\")\n"
       ]
      },
      {
       "output_type": "stream",
       "stream": "stderr",
       "text": [
        "manifold_reflected_brownian_motion.py:218: UserWarning: Newton iteration failed for the 2046th time. Process reset to x0.\n",
        "  + str(self.newton_failures) + \"th time. Process reset to x0.\")\n",
        "manifold_reflected_brownian_motion.py:218: UserWarning: Newton iteration failed for the 2047th time. Process reset to x0.\n",
        "  + str(self.newton_failures) + \"th time. Process reset to x0.\")\n",
        "manifold_reflected_brownian_motion.py:218: UserWarning: Newton iteration failed for the 2048th time. Process reset to x0.\n",
        "  + str(self.newton_failures) + \"th time. Process reset to x0.\")\n",
        "manifold_reflected_brownian_motion.py:218: UserWarning: Newton iteration failed for the 2049th time. Process reset to x0.\n",
        "  + str(self.newton_failures) + \"th time. Process reset to x0.\")\n",
        "manifold_reflected_brownian_motion.py:218: UserWarning: Newton iteration failed for the 2050th time. Process reset to x0.\n",
        "  + str(self.newton_failures) + \"th time. Process reset to x0.\")\n"
       ]
      },
      {
       "output_type": "stream",
       "stream": "stderr",
       "text": [
        "manifold_reflected_brownian_motion.py:218: UserWarning: Newton iteration failed for the 2051th time. Process reset to x0.\n",
        "  + str(self.newton_failures) + \"th time. Process reset to x0.\")\n",
        "manifold_reflected_brownian_motion.py:218: UserWarning: Newton iteration failed for the 2052th time. Process reset to x0.\n",
        "  + str(self.newton_failures) + \"th time. Process reset to x0.\")\n",
        "manifold_reflected_brownian_motion.py:218: UserWarning: Newton iteration failed for the 2053th time. Process reset to x0.\n",
        "  + str(self.newton_failures) + \"th time. Process reset to x0.\")\n",
        "manifold_reflected_brownian_motion.py:218: UserWarning: Newton iteration failed for the 2054th time. Process reset to x0.\n",
        "  + str(self.newton_failures) + \"th time. Process reset to x0.\")\n",
        "manifold_reflected_brownian_motion.py:218: UserWarning: Newton iteration failed for the 2055th time. Process reset to x0.\n",
        "  + str(self.newton_failures) + \"th time. Process reset to x0.\")\n"
       ]
      },
      {
       "output_type": "stream",
       "stream": "stderr",
       "text": [
        "manifold_reflected_brownian_motion.py:218: UserWarning: Newton iteration failed for the 2056th time. Process reset to x0.\n",
        "  + str(self.newton_failures) + \"th time. Process reset to x0.\")\n",
        "manifold_reflected_brownian_motion.py:218: UserWarning: Newton iteration failed for the 2057th time. Process reset to x0.\n",
        "  + str(self.newton_failures) + \"th time. Process reset to x0.\")\n",
        "manifold_reflected_brownian_motion.py:218: UserWarning: Newton iteration failed for the 2058th time. Process reset to x0.\n",
        "  + str(self.newton_failures) + \"th time. Process reset to x0.\")\n",
        "manifold_reflected_brownian_motion.py:218: UserWarning: Newton iteration failed for the 2059th time. Process reset to x0.\n",
        "  + str(self.newton_failures) + \"th time. Process reset to x0.\")\n",
        "manifold_reflected_brownian_motion.py:218: UserWarning: Newton iteration failed for the 2060th time. Process reset to x0.\n",
        "  + str(self.newton_failures) + \"th time. Process reset to x0.\")\n"
       ]
      },
      {
       "output_type": "stream",
       "stream": "stderr",
       "text": [
        "manifold_reflected_brownian_motion.py:218: UserWarning: Newton iteration failed for the 2061th time. Process reset to x0.\n",
        "  + str(self.newton_failures) + \"th time. Process reset to x0.\")\n",
        "manifold_reflected_brownian_motion.py:218: UserWarning: Newton iteration failed for the 2062th time. Process reset to x0.\n",
        "  + str(self.newton_failures) + \"th time. Process reset to x0.\")\n",
        "manifold_reflected_brownian_motion.py:218: UserWarning: Newton iteration failed for the 2063th time. Process reset to x0.\n",
        "  + str(self.newton_failures) + \"th time. Process reset to x0.\")\n",
        "manifold_reflected_brownian_motion.py:218: UserWarning: Newton iteration failed for the 2064th time. Process reset to x0.\n",
        "  + str(self.newton_failures) + \"th time. Process reset to x0.\")\n"
       ]
      },
      {
       "output_type": "stream",
       "stream": "stderr",
       "text": [
        "manifold_reflected_brownian_motion.py:218: UserWarning: Newton iteration failed for the 2065th time. Process reset to x0.\n",
        "  + str(self.newton_failures) + \"th time. Process reset to x0.\")\n",
        "manifold_reflected_brownian_motion.py:218: UserWarning: Newton iteration failed for the 2066th time. Process reset to x0.\n",
        "  + str(self.newton_failures) + \"th time. Process reset to x0.\")\n",
        "manifold_reflected_brownian_motion.py:218: UserWarning: Newton iteration failed for the 2067th time. Process reset to x0.\n",
        "  + str(self.newton_failures) + \"th time. Process reset to x0.\")\n",
        "manifold_reflected_brownian_motion.py:218: UserWarning: Newton iteration failed for the 2068th time. Process reset to x0.\n",
        "  + str(self.newton_failures) + \"th time. Process reset to x0.\")\n",
        "manifold_reflected_brownian_motion.py:218: UserWarning: Newton iteration failed for the 2069th time. Process reset to x0.\n",
        "  + str(self.newton_failures) + \"th time. Process reset to x0.\")\n"
       ]
      },
      {
       "output_type": "stream",
       "stream": "stderr",
       "text": [
        "manifold_reflected_brownian_motion.py:218: UserWarning: Newton iteration failed for the 2070th time. Process reset to x0.\n",
        "  + str(self.newton_failures) + \"th time. Process reset to x0.\")\n",
        "manifold_reflected_brownian_motion.py:218: UserWarning: Newton iteration failed for the 2071th time. Process reset to x0.\n",
        "  + str(self.newton_failures) + \"th time. Process reset to x0.\")\n",
        "manifold_reflected_brownian_motion.py:218: UserWarning: Newton iteration failed for the 2072th time. Process reset to x0.\n",
        "  + str(self.newton_failures) + \"th time. Process reset to x0.\")\n",
        "manifold_reflected_brownian_motion.py:218: UserWarning: Newton iteration failed for the 2073th time. Process reset to x0.\n",
        "  + str(self.newton_failures) + \"th time. Process reset to x0.\")\n",
        "manifold_reflected_brownian_motion.py:218: UserWarning: Newton iteration failed for the 2074th time. Process reset to x0.\n",
        "  + str(self.newton_failures) + \"th time. Process reset to x0.\")\n"
       ]
      },
      {
       "output_type": "stream",
       "stream": "stderr",
       "text": [
        "manifold_reflected_brownian_motion.py:218: UserWarning: Newton iteration failed for the 2075th time. Process reset to x0.\n",
        "  + str(self.newton_failures) + \"th time. Process reset to x0.\")\n",
        "manifold_reflected_brownian_motion.py:218: UserWarning: Newton iteration failed for the 2076th time. Process reset to x0.\n",
        "  + str(self.newton_failures) + \"th time. Process reset to x0.\")\n",
        "manifold_reflected_brownian_motion.py:218: UserWarning: Newton iteration failed for the 2077th time. Process reset to x0.\n",
        "  + str(self.newton_failures) + \"th time. Process reset to x0.\")\n",
        "manifold_reflected_brownian_motion.py:218: UserWarning: Newton iteration failed for the 2078th time. Process reset to x0.\n",
        "  + str(self.newton_failures) + \"th time. Process reset to x0.\")\n",
        "manifold_reflected_brownian_motion.py:218: UserWarning: Newton iteration failed for the 2079th time. Process reset to x0.\n",
        "  + str(self.newton_failures) + \"th time. Process reset to x0.\")\n"
       ]
      },
      {
       "output_type": "stream",
       "stream": "stderr",
       "text": [
        "manifold_reflected_brownian_motion.py:218: UserWarning: Newton iteration failed for the 2080th time. Process reset to x0.\n",
        "  + str(self.newton_failures) + \"th time. Process reset to x0.\")\n",
        "manifold_reflected_brownian_motion.py:218: UserWarning: Newton iteration failed for the 2081th time. Process reset to x0.\n",
        "  + str(self.newton_failures) + \"th time. Process reset to x0.\")\n",
        "manifold_reflected_brownian_motion.py:218: UserWarning: Newton iteration failed for the 2082th time. Process reset to x0.\n",
        "  + str(self.newton_failures) + \"th time. Process reset to x0.\")\n",
        "manifold_reflected_brownian_motion.py:218: UserWarning: Newton iteration failed for the 2083th time. Process reset to x0.\n",
        "  + str(self.newton_failures) + \"th time. Process reset to x0.\")\n",
        "manifold_reflected_brownian_motion.py:218: UserWarning: Newton iteration failed for the 2084th time. Process reset to x0.\n",
        "  + str(self.newton_failures) + \"th time. Process reset to x0.\")\n"
       ]
      },
      {
       "output_type": "stream",
       "stream": "stderr",
       "text": [
        "manifold_reflected_brownian_motion.py:218: UserWarning: Newton iteration failed for the 2085th time. Process reset to x0.\n",
        "  + str(self.newton_failures) + \"th time. Process reset to x0.\")\n",
        "manifold_reflected_brownian_motion.py:218: UserWarning: Newton iteration failed for the 2086th time. Process reset to x0.\n",
        "  + str(self.newton_failures) + \"th time. Process reset to x0.\")\n",
        "manifold_reflected_brownian_motion.py:218: UserWarning: Newton iteration failed for the 2087th time. Process reset to x0.\n",
        "  + str(self.newton_failures) + \"th time. Process reset to x0.\")\n",
        "manifold_reflected_brownian_motion.py:218: UserWarning: Newton iteration failed for the 2088th time. Process reset to x0.\n",
        "  + str(self.newton_failures) + \"th time. Process reset to x0.\")\n",
        "manifold_reflected_brownian_motion.py:218: UserWarning: Newton iteration failed for the 2089th time. Process reset to x0.\n",
        "  + str(self.newton_failures) + \"th time. Process reset to x0.\")\n"
       ]
      },
      {
       "output_type": "stream",
       "stream": "stderr",
       "text": [
        "manifold_reflected_brownian_motion.py:218: UserWarning: Newton iteration failed for the 2090th time. Process reset to x0.\n",
        "  + str(self.newton_failures) + \"th time. Process reset to x0.\")\n",
        "manifold_reflected_brownian_motion.py:218: UserWarning: Newton iteration failed for the 2091th time. Process reset to x0.\n",
        "  + str(self.newton_failures) + \"th time. Process reset to x0.\")\n",
        "manifold_reflected_brownian_motion.py:218: UserWarning: Newton iteration failed for the 2092th time. Process reset to x0.\n",
        "  + str(self.newton_failures) + \"th time. Process reset to x0.\")\n",
        "manifold_reflected_brownian_motion.py:218: UserWarning: Newton iteration failed for the 2093th time. Process reset to x0.\n",
        "  + str(self.newton_failures) + \"th time. Process reset to x0.\")\n",
        "manifold_reflected_brownian_motion.py:218: UserWarning: Newton iteration failed for the 2094th time. Process reset to x0.\n",
        "  + str(self.newton_failures) + \"th time. Process reset to x0.\")\n"
       ]
      },
      {
       "output_type": "stream",
       "stream": "stderr",
       "text": [
        "manifold_reflected_brownian_motion.py:218: UserWarning: Newton iteration failed for the 2095th time. Process reset to x0.\n",
        "  + str(self.newton_failures) + \"th time. Process reset to x0.\")\n",
        "manifold_reflected_brownian_motion.py:218: UserWarning: Newton iteration failed for the 2096th time. Process reset to x0.\n",
        "  + str(self.newton_failures) + \"th time. Process reset to x0.\")\n",
        "manifold_reflected_brownian_motion.py:218: UserWarning: Newton iteration failed for the 2097th time. Process reset to x0.\n",
        "  + str(self.newton_failures) + \"th time. Process reset to x0.\")\n",
        "manifold_reflected_brownian_motion.py:218: UserWarning: Newton iteration failed for the 2098th time. Process reset to x0.\n",
        "  + str(self.newton_failures) + \"th time. Process reset to x0.\")\n",
        "manifold_reflected_brownian_motion.py:218: UserWarning: Newton iteration failed for the 2099th time. Process reset to x0.\n",
        "  + str(self.newton_failures) + \"th time. Process reset to x0.\")\n"
       ]
      },
      {
       "output_type": "stream",
       "stream": "stderr",
       "text": [
        "manifold_reflected_brownian_motion.py:218: UserWarning: Newton iteration failed for the 2100th time. Process reset to x0.\n",
        "  + str(self.newton_failures) + \"th time. Process reset to x0.\")\n",
        "manifold_reflected_brownian_motion.py:218: UserWarning: Newton iteration failed for the 2101th time. Process reset to x0.\n",
        "  + str(self.newton_failures) + \"th time. Process reset to x0.\")\n",
        "manifold_reflected_brownian_motion.py:218: UserWarning: Newton iteration failed for the 2102th time. Process reset to x0.\n",
        "  + str(self.newton_failures) + \"th time. Process reset to x0.\")\n",
        "manifold_reflected_brownian_motion.py:218: UserWarning: Newton iteration failed for the 2103th time. Process reset to x0.\n",
        "  + str(self.newton_failures) + \"th time. Process reset to x0.\")\n",
        "manifold_reflected_brownian_motion.py:218: UserWarning: Newton iteration failed for the 2104th time. Process reset to x0.\n",
        "  + str(self.newton_failures) + \"th time. Process reset to x0.\")\n"
       ]
      },
      {
       "output_type": "stream",
       "stream": "stderr",
       "text": [
        "manifold_reflected_brownian_motion.py:218: UserWarning: Newton iteration failed for the 2105th time. Process reset to x0.\n",
        "  + str(self.newton_failures) + \"th time. Process reset to x0.\")\n",
        "manifold_reflected_brownian_motion.py:218: UserWarning: Newton iteration failed for the 2106th time. Process reset to x0.\n",
        "  + str(self.newton_failures) + \"th time. Process reset to x0.\")\n",
        "manifold_reflected_brownian_motion.py:218: UserWarning: Newton iteration failed for the 2107th time. Process reset to x0.\n",
        "  + str(self.newton_failures) + \"th time. Process reset to x0.\")\n",
        "manifold_reflected_brownian_motion.py:218: UserWarning: Newton iteration failed for the 2108th time. Process reset to x0.\n",
        "  + str(self.newton_failures) + \"th time. Process reset to x0.\")\n",
        "manifold_reflected_brownian_motion.py:218: UserWarning: Newton iteration failed for the 2109th time. Process reset to x0.\n",
        "  + str(self.newton_failures) + \"th time. Process reset to x0.\")\n"
       ]
      },
      {
       "output_type": "stream",
       "stream": "stderr",
       "text": [
        "manifold_reflected_brownian_motion.py:218: UserWarning: Newton iteration failed for the 2110th time. Process reset to x0.\n",
        "  + str(self.newton_failures) + \"th time. Process reset to x0.\")\n",
        "manifold_reflected_brownian_motion.py:218: UserWarning: Newton iteration failed for the 2111th time. Process reset to x0.\n",
        "  + str(self.newton_failures) + \"th time. Process reset to x0.\")\n",
        "manifold_reflected_brownian_motion.py:218: UserWarning: Newton iteration failed for the 2112th time. Process reset to x0.\n",
        "  + str(self.newton_failures) + \"th time. Process reset to x0.\")\n",
        "manifold_reflected_brownian_motion.py:218: UserWarning: Newton iteration failed for the 2113th time. Process reset to x0.\n",
        "  + str(self.newton_failures) + \"th time. Process reset to x0.\")\n",
        "manifold_reflected_brownian_motion.py:218: UserWarning: Newton iteration failed for the 2114th time. Process reset to x0.\n",
        "  + str(self.newton_failures) + \"th time. Process reset to x0.\")\n"
       ]
      },
      {
       "output_type": "stream",
       "stream": "stderr",
       "text": [
        "manifold_reflected_brownian_motion.py:218: UserWarning: Newton iteration failed for the 2115th time. Process reset to x0.\n",
        "  + str(self.newton_failures) + \"th time. Process reset to x0.\")\n",
        "manifold_reflected_brownian_motion.py:218: UserWarning: Newton iteration failed for the 2116th time. Process reset to x0.\n",
        "  + str(self.newton_failures) + \"th time. Process reset to x0.\")\n",
        "manifold_reflected_brownian_motion.py:218: UserWarning: Newton iteration failed for the 2117th time. Process reset to x0.\n",
        "  + str(self.newton_failures) + \"th time. Process reset to x0.\")\n",
        "manifold_reflected_brownian_motion.py:218: UserWarning: Newton iteration failed for the 2118th time. Process reset to x0.\n",
        "  + str(self.newton_failures) + \"th time. Process reset to x0.\")\n",
        "manifold_reflected_brownian_motion.py:218: UserWarning: Newton iteration failed for the 2119th time. Process reset to x0.\n",
        "  + str(self.newton_failures) + \"th time. Process reset to x0.\")\n"
       ]
      },
      {
       "output_type": "stream",
       "stream": "stderr",
       "text": [
        "manifold_reflected_brownian_motion.py:218: UserWarning: Newton iteration failed for the 2120th time. Process reset to x0.\n",
        "  + str(self.newton_failures) + \"th time. Process reset to x0.\")\n",
        "manifold_reflected_brownian_motion.py:218: UserWarning: Newton iteration failed for the 2121th time. Process reset to x0.\n",
        "  + str(self.newton_failures) + \"th time. Process reset to x0.\")\n",
        "manifold_reflected_brownian_motion.py:218: UserWarning: Newton iteration failed for the 2122th time. Process reset to x0.\n",
        "  + str(self.newton_failures) + \"th time. Process reset to x0.\")\n",
        "manifold_reflected_brownian_motion.py:218: UserWarning: Newton iteration failed for the 2123th time. Process reset to x0.\n",
        "  + str(self.newton_failures) + \"th time. Process reset to x0.\")\n",
        "manifold_reflected_brownian_motion.py:218: UserWarning: Newton iteration failed for the 2124th time. Process reset to x0.\n",
        "  + str(self.newton_failures) + \"th time. Process reset to x0.\")\n"
       ]
      },
      {
       "output_type": "stream",
       "stream": "stderr",
       "text": [
        "manifold_reflected_brownian_motion.py:218: UserWarning: Newton iteration failed for the 2125th time. Process reset to x0.\n",
        "  + str(self.newton_failures) + \"th time. Process reset to x0.\")\n",
        "manifold_reflected_brownian_motion.py:218: UserWarning: Newton iteration failed for the 2126th time. Process reset to x0.\n",
        "  + str(self.newton_failures) + \"th time. Process reset to x0.\")\n",
        "manifold_reflected_brownian_motion.py:218: UserWarning: Newton iteration failed for the 2127th time. Process reset to x0.\n",
        "  + str(self.newton_failures) + \"th time. Process reset to x0.\")\n",
        "manifold_reflected_brownian_motion.py:218: UserWarning: Newton iteration failed for the 2128th time. Process reset to x0.\n",
        "  + str(self.newton_failures) + \"th time. Process reset to x0.\")\n",
        "manifold_reflected_brownian_motion.py:218: UserWarning: Newton iteration failed for the 2129th time. Process reset to x0.\n",
        "  + str(self.newton_failures) + \"th time. Process reset to x0.\")\n"
       ]
      },
      {
       "output_type": "stream",
       "stream": "stderr",
       "text": [
        "manifold_reflected_brownian_motion.py:218: UserWarning: Newton iteration failed for the 2130th time. Process reset to x0.\n",
        "  + str(self.newton_failures) + \"th time. Process reset to x0.\")\n",
        "manifold_reflected_brownian_motion.py:218: UserWarning: Newton iteration failed for the 2131th time. Process reset to x0.\n",
        "  + str(self.newton_failures) + \"th time. Process reset to x0.\")\n",
        "manifold_reflected_brownian_motion.py:218: UserWarning: Newton iteration failed for the 2132th time. Process reset to x0.\n",
        "  + str(self.newton_failures) + \"th time. Process reset to x0.\")\n",
        "manifold_reflected_brownian_motion.py:218: UserWarning: Newton iteration failed for the 2133th time. Process reset to x0.\n",
        "  + str(self.newton_failures) + \"th time. Process reset to x0.\")\n",
        "manifold_reflected_brownian_motion.py:218: UserWarning: Newton iteration failed for the 2134th time. Process reset to x0.\n",
        "  + str(self.newton_failures) + \"th time. Process reset to x0.\")\n"
       ]
      },
      {
       "output_type": "stream",
       "stream": "stderr",
       "text": [
        "manifold_reflected_brownian_motion.py:218: UserWarning: Newton iteration failed for the 2135th time. Process reset to x0.\n",
        "  + str(self.newton_failures) + \"th time. Process reset to x0.\")\n",
        "manifold_reflected_brownian_motion.py:218: UserWarning: Newton iteration failed for the 2136th time. Process reset to x0.\n",
        "  + str(self.newton_failures) + \"th time. Process reset to x0.\")\n",
        "manifold_reflected_brownian_motion.py:218: UserWarning: Newton iteration failed for the 2137th time. Process reset to x0.\n",
        "  + str(self.newton_failures) + \"th time. Process reset to x0.\")\n",
        "manifold_reflected_brownian_motion.py:218: UserWarning: Newton iteration failed for the 2138th time. Process reset to x0.\n",
        "  + str(self.newton_failures) + \"th time. Process reset to x0.\")\n",
        "manifold_reflected_brownian_motion.py:218: UserWarning: Newton iteration failed for the 2139th time. Process reset to x0.\n",
        "  + str(self.newton_failures) + \"th time. Process reset to x0.\")\n"
       ]
      },
      {
       "output_type": "stream",
       "stream": "stderr",
       "text": [
        "manifold_reflected_brownian_motion.py:218: UserWarning: Newton iteration failed for the 2140th time. Process reset to x0.\n",
        "  + str(self.newton_failures) + \"th time. Process reset to x0.\")\n",
        "manifold_reflected_brownian_motion.py:218: UserWarning: Newton iteration failed for the 2141th time. Process reset to x0.\n",
        "  + str(self.newton_failures) + \"th time. Process reset to x0.\")\n",
        "manifold_reflected_brownian_motion.py:218: UserWarning: Newton iteration failed for the 2142th time. Process reset to x0.\n",
        "  + str(self.newton_failures) + \"th time. Process reset to x0.\")\n",
        "manifold_reflected_brownian_motion.py:218: UserWarning: Newton iteration failed for the 2143th time. Process reset to x0.\n",
        "  + str(self.newton_failures) + \"th time. Process reset to x0.\")\n",
        "manifold_reflected_brownian_motion.py:218: UserWarning: Newton iteration failed for the 2144th time. Process reset to x0.\n",
        "  + str(self.newton_failures) + \"th time. Process reset to x0.\")\n"
       ]
      },
      {
       "output_type": "stream",
       "stream": "stderr",
       "text": [
        "manifold_reflected_brownian_motion.py:218: UserWarning: Newton iteration failed for the 2145th time. Process reset to x0.\n",
        "  + str(self.newton_failures) + \"th time. Process reset to x0.\")\n",
        "manifold_reflected_brownian_motion.py:218: UserWarning: Newton iteration failed for the 2146th time. Process reset to x0.\n",
        "  + str(self.newton_failures) + \"th time. Process reset to x0.\")\n",
        "manifold_reflected_brownian_motion.py:218: UserWarning: Newton iteration failed for the 2147th time. Process reset to x0.\n",
        "  + str(self.newton_failures) + \"th time. Process reset to x0.\")\n",
        "manifold_reflected_brownian_motion.py:218: UserWarning: Newton iteration failed for the 2148th time. Process reset to x0.\n",
        "  + str(self.newton_failures) + \"th time. Process reset to x0.\")\n",
        "manifold_reflected_brownian_motion.py:218: UserWarning: Newton iteration failed for the 2149th time. Process reset to x0.\n",
        "  + str(self.newton_failures) + \"th time. Process reset to x0.\")\n"
       ]
      },
      {
       "output_type": "stream",
       "stream": "stderr",
       "text": [
        "manifold_reflected_brownian_motion.py:218: UserWarning: Newton iteration failed for the 2150th time. Process reset to x0.\n",
        "  + str(self.newton_failures) + \"th time. Process reset to x0.\")\n",
        "manifold_reflected_brownian_motion.py:218: UserWarning: Newton iteration failed for the 2151th time. Process reset to x0.\n",
        "  + str(self.newton_failures) + \"th time. Process reset to x0.\")\n",
        "manifold_reflected_brownian_motion.py:218: UserWarning: Newton iteration failed for the 2152th time. Process reset to x0.\n",
        "  + str(self.newton_failures) + \"th time. Process reset to x0.\")\n",
        "manifold_reflected_brownian_motion.py:218: UserWarning: Newton iteration failed for the 2153th time. Process reset to x0.\n",
        "  + str(self.newton_failures) + \"th time. Process reset to x0.\")\n",
        "manifold_reflected_brownian_motion.py:218: UserWarning: Newton iteration failed for the 2154th time. Process reset to x0.\n",
        "  + str(self.newton_failures) + \"th time. Process reset to x0.\")\n"
       ]
      },
      {
       "output_type": "stream",
       "stream": "stderr",
       "text": [
        "manifold_reflected_brownian_motion.py:218: UserWarning: Newton iteration failed for the 2155th time. Process reset to x0.\n",
        "  + str(self.newton_failures) + \"th time. Process reset to x0.\")\n",
        "manifold_reflected_brownian_motion.py:218: UserWarning: Newton iteration failed for the 2156th time. Process reset to x0.\n",
        "  + str(self.newton_failures) + \"th time. Process reset to x0.\")\n",
        "manifold_reflected_brownian_motion.py:218: UserWarning: Newton iteration failed for the 2157th time. Process reset to x0.\n",
        "  + str(self.newton_failures) + \"th time. Process reset to x0.\")\n",
        "manifold_reflected_brownian_motion.py:218: UserWarning: Newton iteration failed for the 2158th time. Process reset to x0.\n",
        "  + str(self.newton_failures) + \"th time. Process reset to x0.\")\n",
        "manifold_reflected_brownian_motion.py:218: UserWarning: Newton iteration failed for the 2159th time. Process reset to x0.\n",
        "  + str(self.newton_failures) + \"th time. Process reset to x0.\")\n"
       ]
      },
      {
       "output_type": "stream",
       "stream": "stderr",
       "text": [
        "manifold_reflected_brownian_motion.py:218: UserWarning: Newton iteration failed for the 2160th time. Process reset to x0.\n",
        "  + str(self.newton_failures) + \"th time. Process reset to x0.\")\n",
        "manifold_reflected_brownian_motion.py:218: UserWarning: Newton iteration failed for the 2161th time. Process reset to x0.\n",
        "  + str(self.newton_failures) + \"th time. Process reset to x0.\")\n",
        "manifold_reflected_brownian_motion.py:218: UserWarning: Newton iteration failed for the 2162th time. Process reset to x0.\n",
        "  + str(self.newton_failures) + \"th time. Process reset to x0.\")\n",
        "manifold_reflected_brownian_motion.py:218: UserWarning: Newton iteration failed for the 2163th time. Process reset to x0.\n",
        "  + str(self.newton_failures) + \"th time. Process reset to x0.\")\n",
        "manifold_reflected_brownian_motion.py:218: UserWarning: Newton iteration failed for the 2164th time. Process reset to x0.\n",
        "  + str(self.newton_failures) + \"th time. Process reset to x0.\")\n"
       ]
      },
      {
       "output_type": "stream",
       "stream": "stderr",
       "text": [
        "manifold_reflected_brownian_motion.py:218: UserWarning: Newton iteration failed for the 2165th time. Process reset to x0.\n",
        "  + str(self.newton_failures) + \"th time. Process reset to x0.\")\n",
        "manifold_reflected_brownian_motion.py:218: UserWarning: Newton iteration failed for the 2166th time. Process reset to x0.\n",
        "  + str(self.newton_failures) + \"th time. Process reset to x0.\")\n",
        "manifold_reflected_brownian_motion.py:218: UserWarning: Newton iteration failed for the 2167th time. Process reset to x0.\n",
        "  + str(self.newton_failures) + \"th time. Process reset to x0.\")\n",
        "manifold_reflected_brownian_motion.py:218: UserWarning: Newton iteration failed for the 2168th time. Process reset to x0.\n",
        "  + str(self.newton_failures) + \"th time. Process reset to x0.\")\n"
       ]
      },
      {
       "output_type": "stream",
       "stream": "stderr",
       "text": [
        "manifold_reflected_brownian_motion.py:218: UserWarning: Newton iteration failed for the 2169th time. Process reset to x0.\n",
        "  + str(self.newton_failures) + \"th time. Process reset to x0.\")\n",
        "manifold_reflected_brownian_motion.py:218: UserWarning: Newton iteration failed for the 2170th time. Process reset to x0.\n",
        "  + str(self.newton_failures) + \"th time. Process reset to x0.\")\n",
        "manifold_reflected_brownian_motion.py:218: UserWarning: Newton iteration failed for the 2171th time. Process reset to x0.\n",
        "  + str(self.newton_failures) + \"th time. Process reset to x0.\")\n",
        "manifold_reflected_brownian_motion.py:218: UserWarning: Newton iteration failed for the 2172th time. Process reset to x0.\n",
        "  + str(self.newton_failures) + \"th time. Process reset to x0.\")\n",
        "manifold_reflected_brownian_motion.py:218: UserWarning: Newton iteration failed for the 2173th time. Process reset to x0.\n",
        "  + str(self.newton_failures) + \"th time. Process reset to x0.\")\n"
       ]
      },
      {
       "output_type": "stream",
       "stream": "stderr",
       "text": [
        "manifold_reflected_brownian_motion.py:218: UserWarning: Newton iteration failed for the 2174th time. Process reset to x0.\n",
        "  + str(self.newton_failures) + \"th time. Process reset to x0.\")\n",
        "manifold_reflected_brownian_motion.py:218: UserWarning: Newton iteration failed for the 2175th time. Process reset to x0.\n",
        "  + str(self.newton_failures) + \"th time. Process reset to x0.\")\n",
        "manifold_reflected_brownian_motion.py:218: UserWarning: Newton iteration failed for the 2176th time. Process reset to x0.\n",
        "  + str(self.newton_failures) + \"th time. Process reset to x0.\")\n",
        "manifold_reflected_brownian_motion.py:218: UserWarning: Newton iteration failed for the 2177th time. Process reset to x0.\n",
        "  + str(self.newton_failures) + \"th time. Process reset to x0.\")\n",
        "manifold_reflected_brownian_motion.py:218: UserWarning: Newton iteration failed for the 2178th time. Process reset to x0.\n",
        "  + str(self.newton_failures) + \"th time. Process reset to x0.\")\n"
       ]
      },
      {
       "output_type": "stream",
       "stream": "stderr",
       "text": [
        "manifold_reflected_brownian_motion.py:218: UserWarning: Newton iteration failed for the 2179th time. Process reset to x0.\n",
        "  + str(self.newton_failures) + \"th time. Process reset to x0.\")\n",
        "manifold_reflected_brownian_motion.py:218: UserWarning: Newton iteration failed for the 2180th time. Process reset to x0.\n",
        "  + str(self.newton_failures) + \"th time. Process reset to x0.\")\n",
        "manifold_reflected_brownian_motion.py:218: UserWarning: Newton iteration failed for the 2181th time. Process reset to x0.\n",
        "  + str(self.newton_failures) + \"th time. Process reset to x0.\")\n",
        "manifold_reflected_brownian_motion.py:218: UserWarning: Newton iteration failed for the 2182th time. Process reset to x0.\n",
        "  + str(self.newton_failures) + \"th time. Process reset to x0.\")\n",
        "manifold_reflected_brownian_motion.py:218: UserWarning: Newton iteration failed for the 2183th time. Process reset to x0.\n",
        "  + str(self.newton_failures) + \"th time. Process reset to x0.\")\n"
       ]
      },
      {
       "output_type": "stream",
       "stream": "stderr",
       "text": [
        "manifold_reflected_brownian_motion.py:218: UserWarning: Newton iteration failed for the 2184th time. Process reset to x0.\n",
        "  + str(self.newton_failures) + \"th time. Process reset to x0.\")\n",
        "manifold_reflected_brownian_motion.py:218: UserWarning: Newton iteration failed for the 2185th time. Process reset to x0.\n",
        "  + str(self.newton_failures) + \"th time. Process reset to x0.\")\n",
        "manifold_reflected_brownian_motion.py:218: UserWarning: Newton iteration failed for the 2186th time. Process reset to x0.\n",
        "  + str(self.newton_failures) + \"th time. Process reset to x0.\")\n",
        "manifold_reflected_brownian_motion.py:218: UserWarning: Newton iteration failed for the 2187th time. Process reset to x0.\n",
        "  + str(self.newton_failures) + \"th time. Process reset to x0.\")\n",
        "manifold_reflected_brownian_motion.py:218: UserWarning: Newton iteration failed for the 2188th time. Process reset to x0.\n",
        "  + str(self.newton_failures) + \"th time. Process reset to x0.\")\n"
       ]
      },
      {
       "output_type": "stream",
       "stream": "stderr",
       "text": [
        "manifold_reflected_brownian_motion.py:218: UserWarning: Newton iteration failed for the 2189th time. Process reset to x0.\n",
        "  + str(self.newton_failures) + \"th time. Process reset to x0.\")\n",
        "manifold_reflected_brownian_motion.py:218: UserWarning: Newton iteration failed for the 2190th time. Process reset to x0.\n",
        "  + str(self.newton_failures) + \"th time. Process reset to x0.\")\n",
        "manifold_reflected_brownian_motion.py:218: UserWarning: Newton iteration failed for the 2191th time. Process reset to x0.\n",
        "  + str(self.newton_failures) + \"th time. Process reset to x0.\")\n",
        "manifold_reflected_brownian_motion.py:218: UserWarning: Newton iteration failed for the 2192th time. Process reset to x0.\n",
        "  + str(self.newton_failures) + \"th time. Process reset to x0.\")\n",
        "manifold_reflected_brownian_motion.py:218: UserWarning: Newton iteration failed for the 2193th time. Process reset to x0.\n",
        "  + str(self.newton_failures) + \"th time. Process reset to x0.\")\n"
       ]
      },
      {
       "output_type": "stream",
       "stream": "stderr",
       "text": [
        "manifold_reflected_brownian_motion.py:218: UserWarning: Newton iteration failed for the 2194th time. Process reset to x0.\n",
        "  + str(self.newton_failures) + \"th time. Process reset to x0.\")\n",
        "manifold_reflected_brownian_motion.py:218: UserWarning: Newton iteration failed for the 2195th time. Process reset to x0.\n",
        "  + str(self.newton_failures) + \"th time. Process reset to x0.\")\n",
        "manifold_reflected_brownian_motion.py:218: UserWarning: Newton iteration failed for the 2196th time. Process reset to x0.\n",
        "  + str(self.newton_failures) + \"th time. Process reset to x0.\")\n",
        "manifold_reflected_brownian_motion.py:218: UserWarning: Newton iteration failed for the 2197th time. Process reset to x0.\n",
        "  + str(self.newton_failures) + \"th time. Process reset to x0.\")\n"
       ]
      },
      {
       "output_type": "stream",
       "stream": "stderr",
       "text": [
        "manifold_reflected_brownian_motion.py:218: UserWarning: Newton iteration failed for the 2198th time. Process reset to x0.\n",
        "  + str(self.newton_failures) + \"th time. Process reset to x0.\")\n",
        "manifold_reflected_brownian_motion.py:218: UserWarning: Newton iteration failed for the 2199th time. Process reset to x0.\n",
        "  + str(self.newton_failures) + \"th time. Process reset to x0.\")\n",
        "manifold_reflected_brownian_motion.py:218: UserWarning: Newton iteration failed for the 2200th time. Process reset to x0.\n",
        "  + str(self.newton_failures) + \"th time. Process reset to x0.\")\n",
        "manifold_reflected_brownian_motion.py:218: UserWarning: Newton iteration failed for the 2201th time. Process reset to x0.\n",
        "  + str(self.newton_failures) + \"th time. Process reset to x0.\")\n",
        "manifold_reflected_brownian_motion.py:218: UserWarning: Newton iteration failed for the 2202th time. Process reset to x0.\n",
        "  + str(self.newton_failures) + \"th time. Process reset to x0.\")\n"
       ]
      },
      {
       "output_type": "stream",
       "stream": "stderr",
       "text": [
        "manifold_reflected_brownian_motion.py:218: UserWarning: Newton iteration failed for the 2203th time. Process reset to x0.\n",
        "  + str(self.newton_failures) + \"th time. Process reset to x0.\")\n",
        "manifold_reflected_brownian_motion.py:218: UserWarning: Newton iteration failed for the 2204th time. Process reset to x0.\n",
        "  + str(self.newton_failures) + \"th time. Process reset to x0.\")\n",
        "manifold_reflected_brownian_motion.py:218: UserWarning: Newton iteration failed for the 2205th time. Process reset to x0.\n",
        "  + str(self.newton_failures) + \"th time. Process reset to x0.\")\n",
        "manifold_reflected_brownian_motion.py:218: UserWarning: Newton iteration failed for the 2206th time. Process reset to x0.\n",
        "  + str(self.newton_failures) + \"th time. Process reset to x0.\")\n",
        "manifold_reflected_brownian_motion.py:218: UserWarning: Newton iteration failed for the 2207th time. Process reset to x0.\n",
        "  + str(self.newton_failures) + \"th time. Process reset to x0.\")\n"
       ]
      },
      {
       "output_type": "stream",
       "stream": "stderr",
       "text": [
        "manifold_reflected_brownian_motion.py:218: UserWarning: Newton iteration failed for the 2208th time. Process reset to x0.\n",
        "  + str(self.newton_failures) + \"th time. Process reset to x0.\")\n",
        "manifold_reflected_brownian_motion.py:218: UserWarning: Newton iteration failed for the 2209th time. Process reset to x0.\n",
        "  + str(self.newton_failures) + \"th time. Process reset to x0.\")\n",
        "manifold_reflected_brownian_motion.py:218: UserWarning: Newton iteration failed for the 2210th time. Process reset to x0.\n",
        "  + str(self.newton_failures) + \"th time. Process reset to x0.\")\n",
        "manifold_reflected_brownian_motion.py:218: UserWarning: Newton iteration failed for the 2211th time. Process reset to x0.\n",
        "  + str(self.newton_failures) + \"th time. Process reset to x0.\")\n",
        "manifold_reflected_brownian_motion.py:218: UserWarning: Newton iteration failed for the 2212th time. Process reset to x0.\n",
        "  + str(self.newton_failures) + \"th time. Process reset to x0.\")\n"
       ]
      },
      {
       "output_type": "stream",
       "stream": "stderr",
       "text": [
        "manifold_reflected_brownian_motion.py:218: UserWarning: Newton iteration failed for the 2213th time. Process reset to x0.\n",
        "  + str(self.newton_failures) + \"th time. Process reset to x0.\")\n",
        "manifold_reflected_brownian_motion.py:218: UserWarning: Newton iteration failed for the 2214th time. Process reset to x0.\n",
        "  + str(self.newton_failures) + \"th time. Process reset to x0.\")\n",
        "manifold_reflected_brownian_motion.py:218: UserWarning: Newton iteration failed for the 2215th time. Process reset to x0.\n",
        "  + str(self.newton_failures) + \"th time. Process reset to x0.\")\n",
        "manifold_reflected_brownian_motion.py:218: UserWarning: Newton iteration failed for the 2216th time. Process reset to x0.\n",
        "  + str(self.newton_failures) + \"th time. Process reset to x0.\")\n"
       ]
      },
      {
       "output_type": "stream",
       "stream": "stderr",
       "text": [
        "manifold_reflected_brownian_motion.py:218: UserWarning: Newton iteration failed for the 2217th time. Process reset to x0.\n",
        "  + str(self.newton_failures) + \"th time. Process reset to x0.\")\n",
        "manifold_reflected_brownian_motion.py:218: UserWarning: Newton iteration failed for the 2218th time. Process reset to x0.\n",
        "  + str(self.newton_failures) + \"th time. Process reset to x0.\")\n",
        "manifold_reflected_brownian_motion.py:218: UserWarning: Newton iteration failed for the 2219th time. Process reset to x0.\n",
        "  + str(self.newton_failures) + \"th time. Process reset to x0.\")\n",
        "manifold_reflected_brownian_motion.py:218: UserWarning: Newton iteration failed for the 2220th time. Process reset to x0.\n",
        "  + str(self.newton_failures) + \"th time. Process reset to x0.\")\n",
        "manifold_reflected_brownian_motion.py:218: UserWarning: Newton iteration failed for the 2221th time. Process reset to x0.\n",
        "  + str(self.newton_failures) + \"th time. Process reset to x0.\")\n"
       ]
      },
      {
       "output_type": "stream",
       "stream": "stderr",
       "text": [
        "manifold_reflected_brownian_motion.py:218: UserWarning: Newton iteration failed for the 2222th time. Process reset to x0.\n",
        "  + str(self.newton_failures) + \"th time. Process reset to x0.\")\n",
        "manifold_reflected_brownian_motion.py:218: UserWarning: Newton iteration failed for the 2223th time. Process reset to x0.\n",
        "  + str(self.newton_failures) + \"th time. Process reset to x0.\")\n",
        "manifold_reflected_brownian_motion.py:218: UserWarning: Newton iteration failed for the 2224th time. Process reset to x0.\n",
        "  + str(self.newton_failures) + \"th time. Process reset to x0.\")\n",
        "manifold_reflected_brownian_motion.py:218: UserWarning: Newton iteration failed for the 2225th time. Process reset to x0.\n",
        "  + str(self.newton_failures) + \"th time. Process reset to x0.\")\n",
        "manifold_reflected_brownian_motion.py:218: UserWarning: Newton iteration failed for the 2226th time. Process reset to x0.\n",
        "  + str(self.newton_failures) + \"th time. Process reset to x0.\")\n"
       ]
      },
      {
       "output_type": "stream",
       "stream": "stderr",
       "text": [
        "manifold_reflected_brownian_motion.py:218: UserWarning: Newton iteration failed for the 2227th time. Process reset to x0.\n",
        "  + str(self.newton_failures) + \"th time. Process reset to x0.\")\n",
        "manifold_reflected_brownian_motion.py:218: UserWarning: Newton iteration failed for the 2228th time. Process reset to x0.\n",
        "  + str(self.newton_failures) + \"th time. Process reset to x0.\")\n",
        "manifold_reflected_brownian_motion.py:218: UserWarning: Newton iteration failed for the 2229th time. Process reset to x0.\n",
        "  + str(self.newton_failures) + \"th time. Process reset to x0.\")\n",
        "manifold_reflected_brownian_motion.py:218: UserWarning: Newton iteration failed for the 2230th time. Process reset to x0.\n",
        "  + str(self.newton_failures) + \"th time. Process reset to x0.\")\n",
        "manifold_reflected_brownian_motion.py:218: UserWarning: Newton iteration failed for the 2231th time. Process reset to x0.\n",
        "  + str(self.newton_failures) + \"th time. Process reset to x0.\")\n"
       ]
      },
      {
       "output_type": "stream",
       "stream": "stderr",
       "text": [
        "manifold_reflected_brownian_motion.py:218: UserWarning: Newton iteration failed for the 2232th time. Process reset to x0.\n",
        "  + str(self.newton_failures) + \"th time. Process reset to x0.\")\n",
        "manifold_reflected_brownian_motion.py:218: UserWarning: Newton iteration failed for the 2233th time. Process reset to x0.\n",
        "  + str(self.newton_failures) + \"th time. Process reset to x0.\")\n",
        "manifold_reflected_brownian_motion.py:218: UserWarning: Newton iteration failed for the 2234th time. Process reset to x0.\n",
        "  + str(self.newton_failures) + \"th time. Process reset to x0.\")\n",
        "manifold_reflected_brownian_motion.py:218: UserWarning: Newton iteration failed for the 2235th time. Process reset to x0.\n",
        "  + str(self.newton_failures) + \"th time. Process reset to x0.\")\n",
        "manifold_reflected_brownian_motion.py:218: UserWarning: Newton iteration failed for the 2236th time. Process reset to x0.\n",
        "  + str(self.newton_failures) + \"th time. Process reset to x0.\")\n"
       ]
      },
      {
       "output_type": "stream",
       "stream": "stderr",
       "text": [
        "manifold_reflected_brownian_motion.py:218: UserWarning: Newton iteration failed for the 2237th time. Process reset to x0.\n",
        "  + str(self.newton_failures) + \"th time. Process reset to x0.\")\n",
        "manifold_reflected_brownian_motion.py:218: UserWarning: Newton iteration failed for the 2238th time. Process reset to x0.\n",
        "  + str(self.newton_failures) + \"th time. Process reset to x0.\")\n",
        "manifold_reflected_brownian_motion.py:218: UserWarning: Newton iteration failed for the 2239th time. Process reset to x0.\n",
        "  + str(self.newton_failures) + \"th time. Process reset to x0.\")\n",
        "manifold_reflected_brownian_motion.py:218: UserWarning: Newton iteration failed for the 2240th time. Process reset to x0.\n",
        "  + str(self.newton_failures) + \"th time. Process reset to x0.\")\n"
       ]
      },
      {
       "output_type": "stream",
       "stream": "stderr",
       "text": [
        "manifold_reflected_brownian_motion.py:218: UserWarning: Newton iteration failed for the 2241th time. Process reset to x0.\n",
        "  + str(self.newton_failures) + \"th time. Process reset to x0.\")\n",
        "manifold_reflected_brownian_motion.py:218: UserWarning: Newton iteration failed for the 2242th time. Process reset to x0.\n",
        "  + str(self.newton_failures) + \"th time. Process reset to x0.\")\n",
        "manifold_reflected_brownian_motion.py:218: UserWarning: Newton iteration failed for the 2243th time. Process reset to x0.\n",
        "  + str(self.newton_failures) + \"th time. Process reset to x0.\")\n",
        "manifold_reflected_brownian_motion.py:218: UserWarning: Newton iteration failed for the 2244th time. Process reset to x0.\n",
        "  + str(self.newton_failures) + \"th time. Process reset to x0.\")\n",
        "manifold_reflected_brownian_motion.py:218: UserWarning: Newton iteration failed for the 2245th time. Process reset to x0.\n",
        "  + str(self.newton_failures) + \"th time. Process reset to x0.\")\n"
       ]
      },
      {
       "output_type": "stream",
       "stream": "stderr",
       "text": [
        "manifold_reflected_brownian_motion.py:218: UserWarning: Newton iteration failed for the 2246th time. Process reset to x0.\n",
        "  + str(self.newton_failures) + \"th time. Process reset to x0.\")\n",
        "manifold_reflected_brownian_motion.py:218: UserWarning: Newton iteration failed for the 2247th time. Process reset to x0.\n",
        "  + str(self.newton_failures) + \"th time. Process reset to x0.\")\n",
        "manifold_reflected_brownian_motion.py:218: UserWarning: Newton iteration failed for the 2248th time. Process reset to x0.\n",
        "  + str(self.newton_failures) + \"th time. Process reset to x0.\")\n",
        "manifold_reflected_brownian_motion.py:218: UserWarning: Newton iteration failed for the 2249th time. Process reset to x0.\n",
        "  + str(self.newton_failures) + \"th time. Process reset to x0.\")\n",
        "manifold_reflected_brownian_motion.py:218: UserWarning: Newton iteration failed for the 2250th time. Process reset to x0.\n",
        "  + str(self.newton_failures) + \"th time. Process reset to x0.\")\n"
       ]
      },
      {
       "output_type": "stream",
       "stream": "stderr",
       "text": [
        "manifold_reflected_brownian_motion.py:218: UserWarning: Newton iteration failed for the 2251th time. Process reset to x0.\n",
        "  + str(self.newton_failures) + \"th time. Process reset to x0.\")\n",
        "manifold_reflected_brownian_motion.py:218: UserWarning: Newton iteration failed for the 2252th time. Process reset to x0.\n",
        "  + str(self.newton_failures) + \"th time. Process reset to x0.\")\n",
        "manifold_reflected_brownian_motion.py:218: UserWarning: Newton iteration failed for the 2253th time. Process reset to x0.\n",
        "  + str(self.newton_failures) + \"th time. Process reset to x0.\")\n",
        "manifold_reflected_brownian_motion.py:218: UserWarning: Newton iteration failed for the 2254th time. Process reset to x0.\n",
        "  + str(self.newton_failures) + \"th time. Process reset to x0.\")\n",
        "manifold_reflected_brownian_motion.py:218: UserWarning: Newton iteration failed for the 2255th time. Process reset to x0.\n",
        "  + str(self.newton_failures) + \"th time. Process reset to x0.\")\n"
       ]
      },
      {
       "output_type": "stream",
       "stream": "stderr",
       "text": [
        "manifold_reflected_brownian_motion.py:218: UserWarning: Newton iteration failed for the 2256th time. Process reset to x0.\n",
        "  + str(self.newton_failures) + \"th time. Process reset to x0.\")\n",
        "manifold_reflected_brownian_motion.py:218: UserWarning: Newton iteration failed for the 2257th time. Process reset to x0.\n",
        "  + str(self.newton_failures) + \"th time. Process reset to x0.\")\n",
        "manifold_reflected_brownian_motion.py:218: UserWarning: Newton iteration failed for the 2258th time. Process reset to x0.\n",
        "  + str(self.newton_failures) + \"th time. Process reset to x0.\")\n",
        "manifold_reflected_brownian_motion.py:218: UserWarning: Newton iteration failed for the 2259th time. Process reset to x0.\n",
        "  + str(self.newton_failures) + \"th time. Process reset to x0.\")\n",
        "manifold_reflected_brownian_motion.py:218: UserWarning: Newton iteration failed for the 2260th time. Process reset to x0.\n",
        "  + str(self.newton_failures) + \"th time. Process reset to x0.\")\n"
       ]
      },
      {
       "output_type": "stream",
       "stream": "stderr",
       "text": [
        "manifold_reflected_brownian_motion.py:218: UserWarning: Newton iteration failed for the 2261th time. Process reset to x0.\n",
        "  + str(self.newton_failures) + \"th time. Process reset to x0.\")\n",
        "manifold_reflected_brownian_motion.py:218: UserWarning: Newton iteration failed for the 2262th time. Process reset to x0.\n",
        "  + str(self.newton_failures) + \"th time. Process reset to x0.\")\n",
        "manifold_reflected_brownian_motion.py:218: UserWarning: Newton iteration failed for the 2263th time. Process reset to x0.\n",
        "  + str(self.newton_failures) + \"th time. Process reset to x0.\")\n",
        "manifold_reflected_brownian_motion.py:218: UserWarning: Newton iteration failed for the 2264th time. Process reset to x0.\n",
        "  + str(self.newton_failures) + \"th time. Process reset to x0.\")\n",
        "manifold_reflected_brownian_motion.py:218: UserWarning: Newton iteration failed for the 2265th time. Process reset to x0.\n",
        "  + str(self.newton_failures) + \"th time. Process reset to x0.\")\n"
       ]
      },
      {
       "output_type": "stream",
       "stream": "stderr",
       "text": [
        "manifold_reflected_brownian_motion.py:218: UserWarning: Newton iteration failed for the 2266th time. Process reset to x0.\n",
        "  + str(self.newton_failures) + \"th time. Process reset to x0.\")\n",
        "manifold_reflected_brownian_motion.py:218: UserWarning: Newton iteration failed for the 2267th time. Process reset to x0.\n",
        "  + str(self.newton_failures) + \"th time. Process reset to x0.\")\n",
        "manifold_reflected_brownian_motion.py:218: UserWarning: Newton iteration failed for the 2268th time. Process reset to x0.\n",
        "  + str(self.newton_failures) + \"th time. Process reset to x0.\")\n",
        "manifold_reflected_brownian_motion.py:218: UserWarning: Newton iteration failed for the 2269th time. Process reset to x0.\n",
        "  + str(self.newton_failures) + \"th time. Process reset to x0.\")\n"
       ]
      },
      {
       "output_type": "stream",
       "stream": "stderr",
       "text": [
        "manifold_reflected_brownian_motion.py:218: UserWarning: Newton iteration failed for the 2270th time. Process reset to x0.\n",
        "  + str(self.newton_failures) + \"th time. Process reset to x0.\")\n",
        "manifold_reflected_brownian_motion.py:218: UserWarning: Newton iteration failed for the 2271th time. Process reset to x0.\n",
        "  + str(self.newton_failures) + \"th time. Process reset to x0.\")\n",
        "manifold_reflected_brownian_motion.py:218: UserWarning: Newton iteration failed for the 2272th time. Process reset to x0.\n",
        "  + str(self.newton_failures) + \"th time. Process reset to x0.\")\n",
        "manifold_reflected_brownian_motion.py:218: UserWarning: Newton iteration failed for the 2273th time. Process reset to x0.\n",
        "  + str(self.newton_failures) + \"th time. Process reset to x0.\")\n",
        "manifold_reflected_brownian_motion.py:218: UserWarning: Newton iteration failed for the 2274th time. Process reset to x0.\n",
        "  + str(self.newton_failures) + \"th time. Process reset to x0.\")\n"
       ]
      },
      {
       "output_type": "stream",
       "stream": "stderr",
       "text": [
        "manifold_reflected_brownian_motion.py:218: UserWarning: Newton iteration failed for the 2275th time. Process reset to x0.\n",
        "  + str(self.newton_failures) + \"th time. Process reset to x0.\")\n",
        "manifold_reflected_brownian_motion.py:218: UserWarning: Newton iteration failed for the 2276th time. Process reset to x0.\n",
        "  + str(self.newton_failures) + \"th time. Process reset to x0.\")\n",
        "manifold_reflected_brownian_motion.py:218: UserWarning: Newton iteration failed for the 2277th time. Process reset to x0.\n",
        "  + str(self.newton_failures) + \"th time. Process reset to x0.\")\n",
        "manifold_reflected_brownian_motion.py:218: UserWarning: Newton iteration failed for the 2278th time. Process reset to x0.\n",
        "  + str(self.newton_failures) + \"th time. Process reset to x0.\")\n",
        "manifold_reflected_brownian_motion.py:218: UserWarning: Newton iteration failed for the 2279th time. Process reset to x0.\n",
        "  + str(self.newton_failures) + \"th time. Process reset to x0.\")\n"
       ]
      },
      {
       "output_type": "stream",
       "stream": "stderr",
       "text": [
        "manifold_reflected_brownian_motion.py:218: UserWarning: Newton iteration failed for the 2280th time. Process reset to x0.\n",
        "  + str(self.newton_failures) + \"th time. Process reset to x0.\")\n",
        "manifold_reflected_brownian_motion.py:218: UserWarning: Newton iteration failed for the 2281th time. Process reset to x0.\n",
        "  + str(self.newton_failures) + \"th time. Process reset to x0.\")\n",
        "manifold_reflected_brownian_motion.py:218: UserWarning: Newton iteration failed for the 2282th time. Process reset to x0.\n",
        "  + str(self.newton_failures) + \"th time. Process reset to x0.\")\n",
        "manifold_reflected_brownian_motion.py:218: UserWarning: Newton iteration failed for the 2283th time. Process reset to x0.\n",
        "  + str(self.newton_failures) + \"th time. Process reset to x0.\")\n"
       ]
      },
      {
       "output_type": "stream",
       "stream": "stderr",
       "text": [
        "manifold_reflected_brownian_motion.py:218: UserWarning: Newton iteration failed for the 2284th time. Process reset to x0.\n",
        "  + str(self.newton_failures) + \"th time. Process reset to x0.\")\n",
        "manifold_reflected_brownian_motion.py:218: UserWarning: Newton iteration failed for the 2285th time. Process reset to x0.\n",
        "  + str(self.newton_failures) + \"th time. Process reset to x0.\")\n",
        "manifold_reflected_brownian_motion.py:218: UserWarning: Newton iteration failed for the 2286th time. Process reset to x0.\n",
        "  + str(self.newton_failures) + \"th time. Process reset to x0.\")\n",
        "manifold_reflected_brownian_motion.py:218: UserWarning: Newton iteration failed for the 2287th time. Process reset to x0.\n",
        "  + str(self.newton_failures) + \"th time. Process reset to x0.\")\n"
       ]
      },
      {
       "output_type": "stream",
       "stream": "stderr",
       "text": [
        "manifold_reflected_brownian_motion.py:218: UserWarning: Newton iteration failed for the 2288th time. Process reset to x0.\n",
        "  + str(self.newton_failures) + \"th time. Process reset to x0.\")\n",
        "manifold_reflected_brownian_motion.py:218: UserWarning: Newton iteration failed for the 2289th time. Process reset to x0.\n",
        "  + str(self.newton_failures) + \"th time. Process reset to x0.\")\n",
        "manifold_reflected_brownian_motion.py:218: UserWarning: Newton iteration failed for the 2290th time. Process reset to x0.\n",
        "  + str(self.newton_failures) + \"th time. Process reset to x0.\")\n",
        "manifold_reflected_brownian_motion.py:218: UserWarning: Newton iteration failed for the 2291th time. Process reset to x0.\n",
        "  + str(self.newton_failures) + \"th time. Process reset to x0.\")\n",
        "manifold_reflected_brownian_motion.py:218: UserWarning: Newton iteration failed for the 2292th time. Process reset to x0.\n",
        "  + str(self.newton_failures) + \"th time. Process reset to x0.\")\n"
       ]
      },
      {
       "output_type": "stream",
       "stream": "stderr",
       "text": [
        "manifold_reflected_brownian_motion.py:218: UserWarning: Newton iteration failed for the 2293th time. Process reset to x0.\n",
        "  + str(self.newton_failures) + \"th time. Process reset to x0.\")\n",
        "manifold_reflected_brownian_motion.py:218: UserWarning: Newton iteration failed for the 2294th time. Process reset to x0.\n",
        "  + str(self.newton_failures) + \"th time. Process reset to x0.\")\n",
        "manifold_reflected_brownian_motion.py:218: UserWarning: Newton iteration failed for the 2295th time. Process reset to x0.\n",
        "  + str(self.newton_failures) + \"th time. Process reset to x0.\")\n",
        "manifold_reflected_brownian_motion.py:218: UserWarning: Newton iteration failed for the 2296th time. Process reset to x0.\n",
        "  + str(self.newton_failures) + \"th time. Process reset to x0.\")\n",
        "manifold_reflected_brownian_motion.py:218: UserWarning: Newton iteration failed for the 2297th time. Process reset to x0.\n",
        "  + str(self.newton_failures) + \"th time. Process reset to x0.\")\n"
       ]
      },
      {
       "output_type": "stream",
       "stream": "stderr",
       "text": [
        "manifold_reflected_brownian_motion.py:218: UserWarning: Newton iteration failed for the 2298th time. Process reset to x0.\n",
        "  + str(self.newton_failures) + \"th time. Process reset to x0.\")\n",
        "manifold_reflected_brownian_motion.py:218: UserWarning: Newton iteration failed for the 2299th time. Process reset to x0.\n",
        "  + str(self.newton_failures) + \"th time. Process reset to x0.\")\n",
        "manifold_reflected_brownian_motion.py:218: UserWarning: Newton iteration failed for the 2300th time. Process reset to x0.\n",
        "  + str(self.newton_failures) + \"th time. Process reset to x0.\")\n",
        "manifold_reflected_brownian_motion.py:218: UserWarning: Newton iteration failed for the 2301th time. Process reset to x0.\n",
        "  + str(self.newton_failures) + \"th time. Process reset to x0.\")\n"
       ]
      },
      {
       "output_type": "stream",
       "stream": "stderr",
       "text": [
        "manifold_reflected_brownian_motion.py:218: UserWarning: Newton iteration failed for the 2302th time. Process reset to x0.\n",
        "  + str(self.newton_failures) + \"th time. Process reset to x0.\")\n",
        "manifold_reflected_brownian_motion.py:218: UserWarning: Newton iteration failed for the 2303th time. Process reset to x0.\n",
        "  + str(self.newton_failures) + \"th time. Process reset to x0.\")\n",
        "manifold_reflected_brownian_motion.py:218: UserWarning: Newton iteration failed for the 2304th time. Process reset to x0.\n",
        "  + str(self.newton_failures) + \"th time. Process reset to x0.\")\n",
        "manifold_reflected_brownian_motion.py:218: UserWarning: Newton iteration failed for the 2305th time. Process reset to x0.\n",
        "  + str(self.newton_failures) + \"th time. Process reset to x0.\")\n"
       ]
      },
      {
       "output_type": "stream",
       "stream": "stderr",
       "text": [
        "manifold_reflected_brownian_motion.py:218: UserWarning: Newton iteration failed for the 2306th time. Process reset to x0.\n",
        "  + str(self.newton_failures) + \"th time. Process reset to x0.\")\n",
        "manifold_reflected_brownian_motion.py:218: UserWarning: Newton iteration failed for the 2307th time. Process reset to x0.\n",
        "  + str(self.newton_failures) + \"th time. Process reset to x0.\")\n",
        "manifold_reflected_brownian_motion.py:218: UserWarning: Newton iteration failed for the 2308th time. Process reset to x0.\n",
        "  + str(self.newton_failures) + \"th time. Process reset to x0.\")\n",
        "manifold_reflected_brownian_motion.py:218: UserWarning: Newton iteration failed for the 2309th time. Process reset to x0.\n",
        "  + str(self.newton_failures) + \"th time. Process reset to x0.\")\n",
        "manifold_reflected_brownian_motion.py:218: UserWarning: Newton iteration failed for the 2310th time. Process reset to x0.\n",
        "  + str(self.newton_failures) + \"th time. Process reset to x0.\")\n"
       ]
      },
      {
       "output_type": "stream",
       "stream": "stderr",
       "text": [
        "manifold_reflected_brownian_motion.py:218: UserWarning: Newton iteration failed for the 2311th time. Process reset to x0.\n",
        "  + str(self.newton_failures) + \"th time. Process reset to x0.\")\n",
        "manifold_reflected_brownian_motion.py:218: UserWarning: Newton iteration failed for the 2312th time. Process reset to x0.\n",
        "  + str(self.newton_failures) + \"th time. Process reset to x0.\")\n",
        "manifold_reflected_brownian_motion.py:218: UserWarning: Newton iteration failed for the 2313th time. Process reset to x0.\n",
        "  + str(self.newton_failures) + \"th time. Process reset to x0.\")\n",
        "manifold_reflected_brownian_motion.py:218: UserWarning: Newton iteration failed for the 2314th time. Process reset to x0.\n",
        "  + str(self.newton_failures) + \"th time. Process reset to x0.\")\n",
        "manifold_reflected_brownian_motion.py:218: UserWarning: Newton iteration failed for the 2315th time. Process reset to x0.\n",
        "  + str(self.newton_failures) + \"th time. Process reset to x0.\")\n"
       ]
      },
      {
       "output_type": "stream",
       "stream": "stderr",
       "text": [
        "manifold_reflected_brownian_motion.py:218: UserWarning: Newton iteration failed for the 2316th time. Process reset to x0.\n",
        "  + str(self.newton_failures) + \"th time. Process reset to x0.\")\n",
        "manifold_reflected_brownian_motion.py:218: UserWarning: Newton iteration failed for the 2317th time. Process reset to x0.\n",
        "  + str(self.newton_failures) + \"th time. Process reset to x0.\")\n",
        "manifold_reflected_brownian_motion.py:218: UserWarning: Newton iteration failed for the 2318th time. Process reset to x0.\n",
        "  + str(self.newton_failures) + \"th time. Process reset to x0.\")\n",
        "manifold_reflected_brownian_motion.py:218: UserWarning: Newton iteration failed for the 2319th time. Process reset to x0.\n",
        "  + str(self.newton_failures) + \"th time. Process reset to x0.\")\n",
        "manifold_reflected_brownian_motion.py:218: UserWarning: Newton iteration failed for the 2320th time. Process reset to x0.\n",
        "  + str(self.newton_failures) + \"th time. Process reset to x0.\")\n"
       ]
      },
      {
       "output_type": "stream",
       "stream": "stderr",
       "text": [
        "manifold_reflected_brownian_motion.py:218: UserWarning: Newton iteration failed for the 2321th time. Process reset to x0.\n",
        "  + str(self.newton_failures) + \"th time. Process reset to x0.\")\n",
        "manifold_reflected_brownian_motion.py:218: UserWarning: Newton iteration failed for the 2322th time. Process reset to x0.\n",
        "  + str(self.newton_failures) + \"th time. Process reset to x0.\")\n",
        "manifold_reflected_brownian_motion.py:218: UserWarning: Newton iteration failed for the 2323th time. Process reset to x0.\n",
        "  + str(self.newton_failures) + \"th time. Process reset to x0.\")\n",
        "manifold_reflected_brownian_motion.py:218: UserWarning: Newton iteration failed for the 2324th time. Process reset to x0.\n",
        "  + str(self.newton_failures) + \"th time. Process reset to x0.\")\n",
        "manifold_reflected_brownian_motion.py:218: UserWarning: Newton iteration failed for the 2325th time. Process reset to x0.\n",
        "  + str(self.newton_failures) + \"th time. Process reset to x0.\")\n"
       ]
      },
      {
       "output_type": "stream",
       "stream": "stderr",
       "text": [
        "manifold_reflected_brownian_motion.py:218: UserWarning: Newton iteration failed for the 2326th time. Process reset to x0.\n",
        "  + str(self.newton_failures) + \"th time. Process reset to x0.\")\n",
        "manifold_reflected_brownian_motion.py:218: UserWarning: Newton iteration failed for the 2327th time. Process reset to x0.\n",
        "  + str(self.newton_failures) + \"th time. Process reset to x0.\")\n",
        "manifold_reflected_brownian_motion.py:218: UserWarning: Newton iteration failed for the 2328th time. Process reset to x0.\n",
        "  + str(self.newton_failures) + \"th time. Process reset to x0.\")\n",
        "manifold_reflected_brownian_motion.py:218: UserWarning: Newton iteration failed for the 2329th time. Process reset to x0.\n",
        "  + str(self.newton_failures) + \"th time. Process reset to x0.\")\n",
        "manifold_reflected_brownian_motion.py:218: UserWarning: Newton iteration failed for the 2330th time. Process reset to x0.\n",
        "  + str(self.newton_failures) + \"th time. Process reset to x0.\")\n"
       ]
      },
      {
       "output_type": "stream",
       "stream": "stderr",
       "text": [
        "manifold_reflected_brownian_motion.py:218: UserWarning: Newton iteration failed for the 2331th time. Process reset to x0.\n",
        "  + str(self.newton_failures) + \"th time. Process reset to x0.\")\n",
        "manifold_reflected_brownian_motion.py:218: UserWarning: Newton iteration failed for the 2332th time. Process reset to x0.\n",
        "  + str(self.newton_failures) + \"th time. Process reset to x0.\")\n",
        "manifold_reflected_brownian_motion.py:218: UserWarning: Newton iteration failed for the 2333th time. Process reset to x0.\n",
        "  + str(self.newton_failures) + \"th time. Process reset to x0.\")\n",
        "manifold_reflected_brownian_motion.py:218: UserWarning: Newton iteration failed for the 2334th time. Process reset to x0.\n",
        "  + str(self.newton_failures) + \"th time. Process reset to x0.\")\n",
        "manifold_reflected_brownian_motion.py:218: UserWarning: Newton iteration failed for the 2335th time. Process reset to x0.\n",
        "  + str(self.newton_failures) + \"th time. Process reset to x0.\")\n"
       ]
      },
      {
       "output_type": "stream",
       "stream": "stderr",
       "text": [
        "manifold_reflected_brownian_motion.py:218: UserWarning: Newton iteration failed for the 2336th time. Process reset to x0.\n",
        "  + str(self.newton_failures) + \"th time. Process reset to x0.\")\n",
        "manifold_reflected_brownian_motion.py:218: UserWarning: Newton iteration failed for the 2337th time. Process reset to x0.\n",
        "  + str(self.newton_failures) + \"th time. Process reset to x0.\")\n",
        "manifold_reflected_brownian_motion.py:218: UserWarning: Newton iteration failed for the 2338th time. Process reset to x0.\n",
        "  + str(self.newton_failures) + \"th time. Process reset to x0.\")\n",
        "manifold_reflected_brownian_motion.py:218: UserWarning: Newton iteration failed for the 2339th time. Process reset to x0.\n",
        "  + str(self.newton_failures) + \"th time. Process reset to x0.\")\n",
        "manifold_reflected_brownian_motion.py:218: UserWarning: Newton iteration failed for the 2340th time. Process reset to x0.\n",
        "  + str(self.newton_failures) + \"th time. Process reset to x0.\")\n"
       ]
      },
      {
       "output_type": "stream",
       "stream": "stderr",
       "text": [
        "manifold_reflected_brownian_motion.py:218: UserWarning: Newton iteration failed for the 2341th time. Process reset to x0.\n",
        "  + str(self.newton_failures) + \"th time. Process reset to x0.\")\n",
        "manifold_reflected_brownian_motion.py:218: UserWarning: Newton iteration failed for the 2342th time. Process reset to x0.\n",
        "  + str(self.newton_failures) + \"th time. Process reset to x0.\")\n",
        "manifold_reflected_brownian_motion.py:218: UserWarning: Newton iteration failed for the 2343th time. Process reset to x0.\n",
        "  + str(self.newton_failures) + \"th time. Process reset to x0.\")\n",
        "manifold_reflected_brownian_motion.py:218: UserWarning: Newton iteration failed for the 2344th time. Process reset to x0.\n",
        "  + str(self.newton_failures) + \"th time. Process reset to x0.\")\n",
        "manifold_reflected_brownian_motion.py:218: UserWarning: Newton iteration failed for the 2345th time. Process reset to x0.\n",
        "  + str(self.newton_failures) + \"th time. Process reset to x0.\")\n"
       ]
      },
      {
       "output_type": "stream",
       "stream": "stderr",
       "text": [
        "manifold_reflected_brownian_motion.py:218: UserWarning: Newton iteration failed for the 2346th time. Process reset to x0.\n",
        "  + str(self.newton_failures) + \"th time. Process reset to x0.\")\n",
        "manifold_reflected_brownian_motion.py:218: UserWarning: Newton iteration failed for the 2347th time. Process reset to x0.\n",
        "  + str(self.newton_failures) + \"th time. Process reset to x0.\")\n",
        "manifold_reflected_brownian_motion.py:218: UserWarning: Newton iteration failed for the 2348th time. Process reset to x0.\n",
        "  + str(self.newton_failures) + \"th time. Process reset to x0.\")\n",
        "manifold_reflected_brownian_motion.py:218: UserWarning: Newton iteration failed for the 2349th time. Process reset to x0.\n",
        "  + str(self.newton_failures) + \"th time. Process reset to x0.\")\n",
        "manifold_reflected_brownian_motion.py:218: UserWarning: Newton iteration failed for the 2350th time. Process reset to x0.\n",
        "  + str(self.newton_failures) + \"th time. Process reset to x0.\")\n"
       ]
      },
      {
       "output_type": "stream",
       "stream": "stderr",
       "text": [
        "manifold_reflected_brownian_motion.py:218: UserWarning: Newton iteration failed for the 2351th time. Process reset to x0.\n",
        "  + str(self.newton_failures) + \"th time. Process reset to x0.\")\n",
        "manifold_reflected_brownian_motion.py:218: UserWarning: Newton iteration failed for the 2352th time. Process reset to x0.\n",
        "  + str(self.newton_failures) + \"th time. Process reset to x0.\")\n",
        "manifold_reflected_brownian_motion.py:218: UserWarning: Newton iteration failed for the 2353th time. Process reset to x0.\n",
        "  + str(self.newton_failures) + \"th time. Process reset to x0.\")\n",
        "manifold_reflected_brownian_motion.py:218: UserWarning: Newton iteration failed for the 2354th time. Process reset to x0.\n",
        "  + str(self.newton_failures) + \"th time. Process reset to x0.\")\n",
        "manifold_reflected_brownian_motion.py:218: UserWarning: Newton iteration failed for the 2355th time. Process reset to x0.\n",
        "  + str(self.newton_failures) + \"th time. Process reset to x0.\")\n"
       ]
      },
      {
       "output_type": "stream",
       "stream": "stderr",
       "text": [
        "manifold_reflected_brownian_motion.py:218: UserWarning: Newton iteration failed for the 2356th time. Process reset to x0.\n",
        "  + str(self.newton_failures) + \"th time. Process reset to x0.\")\n",
        "manifold_reflected_brownian_motion.py:218: UserWarning: Newton iteration failed for the 2357th time. Process reset to x0.\n",
        "  + str(self.newton_failures) + \"th time. Process reset to x0.\")\n",
        "manifold_reflected_brownian_motion.py:218: UserWarning: Newton iteration failed for the 2358th time. Process reset to x0.\n",
        "  + str(self.newton_failures) + \"th time. Process reset to x0.\")\n",
        "manifold_reflected_brownian_motion.py:218: UserWarning: Newton iteration failed for the 2359th time. Process reset to x0.\n",
        "  + str(self.newton_failures) + \"th time. Process reset to x0.\")\n",
        "manifold_reflected_brownian_motion.py:218: UserWarning: Newton iteration failed for the 2360th time. Process reset to x0.\n",
        "  + str(self.newton_failures) + \"th time. Process reset to x0.\")\n"
       ]
      },
      {
       "output_type": "stream",
       "stream": "stderr",
       "text": [
        "manifold_reflected_brownian_motion.py:218: UserWarning: Newton iteration failed for the 2361th time. Process reset to x0.\n",
        "  + str(self.newton_failures) + \"th time. Process reset to x0.\")\n",
        "manifold_reflected_brownian_motion.py:218: UserWarning: Newton iteration failed for the 2362th time. Process reset to x0.\n",
        "  + str(self.newton_failures) + \"th time. Process reset to x0.\")\n",
        "manifold_reflected_brownian_motion.py:218: UserWarning: Newton iteration failed for the 2363th time. Process reset to x0.\n",
        "  + str(self.newton_failures) + \"th time. Process reset to x0.\")\n",
        "manifold_reflected_brownian_motion.py:218: UserWarning: Newton iteration failed for the 2364th time. Process reset to x0.\n",
        "  + str(self.newton_failures) + \"th time. Process reset to x0.\")\n",
        "manifold_reflected_brownian_motion.py:218: UserWarning: Newton iteration failed for the 2365th time. Process reset to x0.\n",
        "  + str(self.newton_failures) + \"th time. Process reset to x0.\")\n"
       ]
      },
      {
       "output_type": "stream",
       "stream": "stderr",
       "text": [
        "manifold_reflected_brownian_motion.py:218: UserWarning: Newton iteration failed for the 2366th time. Process reset to x0.\n",
        "  + str(self.newton_failures) + \"th time. Process reset to x0.\")\n",
        "manifold_reflected_brownian_motion.py:218: UserWarning: Newton iteration failed for the 2367th time. Process reset to x0.\n",
        "  + str(self.newton_failures) + \"th time. Process reset to x0.\")\n",
        "manifold_reflected_brownian_motion.py:218: UserWarning: Newton iteration failed for the 2368th time. Process reset to x0.\n",
        "  + str(self.newton_failures) + \"th time. Process reset to x0.\")\n",
        "manifold_reflected_brownian_motion.py:218: UserWarning: Newton iteration failed for the 2369th time. Process reset to x0.\n",
        "  + str(self.newton_failures) + \"th time. Process reset to x0.\")\n",
        "manifold_reflected_brownian_motion.py:218: UserWarning: Newton iteration failed for the 2370th time. Process reset to x0.\n",
        "  + str(self.newton_failures) + \"th time. Process reset to x0.\")\n"
       ]
      },
      {
       "output_type": "stream",
       "stream": "stderr",
       "text": [
        "manifold_reflected_brownian_motion.py:218: UserWarning: Newton iteration failed for the 2371th time. Process reset to x0.\n",
        "  + str(self.newton_failures) + \"th time. Process reset to x0.\")\n",
        "manifold_reflected_brownian_motion.py:218: UserWarning: Newton iteration failed for the 2372th time. Process reset to x0.\n",
        "  + str(self.newton_failures) + \"th time. Process reset to x0.\")\n",
        "manifold_reflected_brownian_motion.py:218: UserWarning: Newton iteration failed for the 2373th time. Process reset to x0.\n",
        "  + str(self.newton_failures) + \"th time. Process reset to x0.\")\n",
        "manifold_reflected_brownian_motion.py:218: UserWarning: Newton iteration failed for the 2374th time. Process reset to x0.\n",
        "  + str(self.newton_failures) + \"th time. Process reset to x0.\")\n",
        "manifold_reflected_brownian_motion.py:218: UserWarning: Newton iteration failed for the 2375th time. Process reset to x0.\n",
        "  + str(self.newton_failures) + \"th time. Process reset to x0.\")\n"
       ]
      },
      {
       "output_type": "stream",
       "stream": "stderr",
       "text": [
        "manifold_reflected_brownian_motion.py:218: UserWarning: Newton iteration failed for the 2376th time. Process reset to x0.\n",
        "  + str(self.newton_failures) + \"th time. Process reset to x0.\")\n",
        "manifold_reflected_brownian_motion.py:218: UserWarning: Newton iteration failed for the 2377th time. Process reset to x0.\n",
        "  + str(self.newton_failures) + \"th time. Process reset to x0.\")\n",
        "manifold_reflected_brownian_motion.py:218: UserWarning: Newton iteration failed for the 2378th time. Process reset to x0.\n",
        "  + str(self.newton_failures) + \"th time. Process reset to x0.\")\n",
        "manifold_reflected_brownian_motion.py:218: UserWarning: Newton iteration failed for the 2379th time. Process reset to x0.\n",
        "  + str(self.newton_failures) + \"th time. Process reset to x0.\")\n",
        "manifold_reflected_brownian_motion.py:218: UserWarning: Newton iteration failed for the 2380th time. Process reset to x0.\n",
        "  + str(self.newton_failures) + \"th time. Process reset to x0.\")\n"
       ]
      },
      {
       "output_type": "stream",
       "stream": "stderr",
       "text": [
        "manifold_reflected_brownian_motion.py:218: UserWarning: Newton iteration failed for the 2381th time. Process reset to x0.\n",
        "  + str(self.newton_failures) + \"th time. Process reset to x0.\")\n",
        "manifold_reflected_brownian_motion.py:218: UserWarning: Newton iteration failed for the 2382th time. Process reset to x0.\n",
        "  + str(self.newton_failures) + \"th time. Process reset to x0.\")\n",
        "manifold_reflected_brownian_motion.py:218: UserWarning: Newton iteration failed for the 2383th time. Process reset to x0.\n",
        "  + str(self.newton_failures) + \"th time. Process reset to x0.\")\n",
        "manifold_reflected_brownian_motion.py:218: UserWarning: Newton iteration failed for the 2384th time. Process reset to x0.\n",
        "  + str(self.newton_failures) + \"th time. Process reset to x0.\")\n",
        "manifold_reflected_brownian_motion.py:218: UserWarning: Newton iteration failed for the 2385th time. Process reset to x0.\n",
        "  + str(self.newton_failures) + \"th time. Process reset to x0.\")\n"
       ]
      },
      {
       "output_type": "stream",
       "stream": "stderr",
       "text": [
        "manifold_reflected_brownian_motion.py:218: UserWarning: Newton iteration failed for the 2386th time. Process reset to x0.\n",
        "  + str(self.newton_failures) + \"th time. Process reset to x0.\")\n",
        "manifold_reflected_brownian_motion.py:218: UserWarning: Newton iteration failed for the 2387th time. Process reset to x0.\n",
        "  + str(self.newton_failures) + \"th time. Process reset to x0.\")\n",
        "manifold_reflected_brownian_motion.py:218: UserWarning: Newton iteration failed for the 2388th time. Process reset to x0.\n",
        "  + str(self.newton_failures) + \"th time. Process reset to x0.\")\n",
        "manifold_reflected_brownian_motion.py:218: UserWarning: Newton iteration failed for the 2389th time. Process reset to x0.\n",
        "  + str(self.newton_failures) + \"th time. Process reset to x0.\")\n",
        "manifold_reflected_brownian_motion.py:218: UserWarning: Newton iteration failed for the 2390th time. Process reset to x0.\n",
        "  + str(self.newton_failures) + \"th time. Process reset to x0.\")\n"
       ]
      },
      {
       "output_type": "stream",
       "stream": "stderr",
       "text": [
        "manifold_reflected_brownian_motion.py:218: UserWarning: Newton iteration failed for the 2391th time. Process reset to x0.\n",
        "  + str(self.newton_failures) + \"th time. Process reset to x0.\")\n",
        "manifold_reflected_brownian_motion.py:218: UserWarning: Newton iteration failed for the 2392th time. Process reset to x0.\n",
        "  + str(self.newton_failures) + \"th time. Process reset to x0.\")\n",
        "manifold_reflected_brownian_motion.py:218: UserWarning: Newton iteration failed for the 2393th time. Process reset to x0.\n",
        "  + str(self.newton_failures) + \"th time. Process reset to x0.\")\n",
        "manifold_reflected_brownian_motion.py:218: UserWarning: Newton iteration failed for the 2394th time. Process reset to x0.\n",
        "  + str(self.newton_failures) + \"th time. Process reset to x0.\")\n",
        "manifold_reflected_brownian_motion.py:218: UserWarning: Newton iteration failed for the 2395th time. Process reset to x0.\n",
        "  + str(self.newton_failures) + \"th time. Process reset to x0.\")\n"
       ]
      },
      {
       "output_type": "stream",
       "stream": "stderr",
       "text": [
        "manifold_reflected_brownian_motion.py:218: UserWarning: Newton iteration failed for the 2396th time. Process reset to x0.\n",
        "  + str(self.newton_failures) + \"th time. Process reset to x0.\")\n",
        "manifold_reflected_brownian_motion.py:218: UserWarning: Newton iteration failed for the 2397th time. Process reset to x0.\n",
        "  + str(self.newton_failures) + \"th time. Process reset to x0.\")\n",
        "manifold_reflected_brownian_motion.py:218: UserWarning: Newton iteration failed for the 2398th time. Process reset to x0.\n",
        "  + str(self.newton_failures) + \"th time. Process reset to x0.\")\n",
        "manifold_reflected_brownian_motion.py:218: UserWarning: Newton iteration failed for the 2399th time. Process reset to x0.\n",
        "  + str(self.newton_failures) + \"th time. Process reset to x0.\")\n",
        "manifold_reflected_brownian_motion.py:218: UserWarning: Newton iteration failed for the 2400th time. Process reset to x0.\n",
        "  + str(self.newton_failures) + \"th time. Process reset to x0.\")\n"
       ]
      },
      {
       "output_type": "stream",
       "stream": "stderr",
       "text": [
        "manifold_reflected_brownian_motion.py:218: UserWarning: Newton iteration failed for the 2401th time. Process reset to x0.\n",
        "  + str(self.newton_failures) + \"th time. Process reset to x0.\")\n",
        "manifold_reflected_brownian_motion.py:218: UserWarning: Newton iteration failed for the 2402th time. Process reset to x0.\n",
        "  + str(self.newton_failures) + \"th time. Process reset to x0.\")\n",
        "manifold_reflected_brownian_motion.py:218: UserWarning: Newton iteration failed for the 2403th time. Process reset to x0.\n",
        "  + str(self.newton_failures) + \"th time. Process reset to x0.\")\n",
        "manifold_reflected_brownian_motion.py:218: UserWarning: Newton iteration failed for the 2404th time. Process reset to x0.\n",
        "  + str(self.newton_failures) + \"th time. Process reset to x0.\")\n",
        "manifold_reflected_brownian_motion.py:218: UserWarning: Newton iteration failed for the 2405th time. Process reset to x0.\n",
        "  + str(self.newton_failures) + \"th time. Process reset to x0.\")\n"
       ]
      },
      {
       "output_type": "stream",
       "stream": "stderr",
       "text": [
        "manifold_reflected_brownian_motion.py:218: UserWarning: Newton iteration failed for the 2406th time. Process reset to x0.\n",
        "  + str(self.newton_failures) + \"th time. Process reset to x0.\")\n",
        "manifold_reflected_brownian_motion.py:218: UserWarning: Newton iteration failed for the 2407th time. Process reset to x0.\n",
        "  + str(self.newton_failures) + \"th time. Process reset to x0.\")\n",
        "manifold_reflected_brownian_motion.py:218: UserWarning: Newton iteration failed for the 2408th time. Process reset to x0.\n",
        "  + str(self.newton_failures) + \"th time. Process reset to x0.\")\n",
        "manifold_reflected_brownian_motion.py:218: UserWarning: Newton iteration failed for the 2409th time. Process reset to x0.\n",
        "  + str(self.newton_failures) + \"th time. Process reset to x0.\")\n",
        "manifold_reflected_brownian_motion.py:218: UserWarning: Newton iteration failed for the 2410th time. Process reset to x0.\n",
        "  + str(self.newton_failures) + \"th time. Process reset to x0.\")\n"
       ]
      },
      {
       "output_type": "stream",
       "stream": "stderr",
       "text": [
        "manifold_reflected_brownian_motion.py:218: UserWarning: Newton iteration failed for the 2411th time. Process reset to x0.\n",
        "  + str(self.newton_failures) + \"th time. Process reset to x0.\")\n",
        "manifold_reflected_brownian_motion.py:218: UserWarning: Newton iteration failed for the 2412th time. Process reset to x0.\n",
        "  + str(self.newton_failures) + \"th time. Process reset to x0.\")\n",
        "manifold_reflected_brownian_motion.py:218: UserWarning: Newton iteration failed for the 2413th time. Process reset to x0.\n",
        "  + str(self.newton_failures) + \"th time. Process reset to x0.\")\n",
        "manifold_reflected_brownian_motion.py:218: UserWarning: Newton iteration failed for the 2414th time. Process reset to x0.\n",
        "  + str(self.newton_failures) + \"th time. Process reset to x0.\")\n",
        "manifold_reflected_brownian_motion.py:218: UserWarning: Newton iteration failed for the 2415th time. Process reset to x0.\n",
        "  + str(self.newton_failures) + \"th time. Process reset to x0.\")\n"
       ]
      },
      {
       "output_type": "stream",
       "stream": "stderr",
       "text": [
        "manifold_reflected_brownian_motion.py:218: UserWarning: Newton iteration failed for the 2416th time. Process reset to x0.\n",
        "  + str(self.newton_failures) + \"th time. Process reset to x0.\")\n",
        "manifold_reflected_brownian_motion.py:218: UserWarning: Newton iteration failed for the 2417th time. Process reset to x0.\n",
        "  + str(self.newton_failures) + \"th time. Process reset to x0.\")\n",
        "manifold_reflected_brownian_motion.py:218: UserWarning: Newton iteration failed for the 2418th time. Process reset to x0.\n",
        "  + str(self.newton_failures) + \"th time. Process reset to x0.\")\n",
        "manifold_reflected_brownian_motion.py:218: UserWarning: Newton iteration failed for the 2419th time. Process reset to x0.\n",
        "  + str(self.newton_failures) + \"th time. Process reset to x0.\")\n"
       ]
      },
      {
       "output_type": "stream",
       "stream": "stderr",
       "text": [
        "manifold_reflected_brownian_motion.py:218: UserWarning: Newton iteration failed for the 2420th time. Process reset to x0.\n",
        "  + str(self.newton_failures) + \"th time. Process reset to x0.\")\n",
        "manifold_reflected_brownian_motion.py:218: UserWarning: Newton iteration failed for the 2421th time. Process reset to x0.\n",
        "  + str(self.newton_failures) + \"th time. Process reset to x0.\")\n",
        "manifold_reflected_brownian_motion.py:218: UserWarning: Newton iteration failed for the 2422th time. Process reset to x0.\n",
        "  + str(self.newton_failures) + \"th time. Process reset to x0.\")\n",
        "manifold_reflected_brownian_motion.py:218: UserWarning: Newton iteration failed for the 2423th time. Process reset to x0.\n",
        "  + str(self.newton_failures) + \"th time. Process reset to x0.\")\n",
        "manifold_reflected_brownian_motion.py:218: UserWarning: Newton iteration failed for the 2424th time. Process reset to x0.\n",
        "  + str(self.newton_failures) + \"th time. Process reset to x0.\")\n"
       ]
      },
      {
       "output_type": "stream",
       "stream": "stderr",
       "text": [
        "manifold_reflected_brownian_motion.py:218: UserWarning: Newton iteration failed for the 2425th time. Process reset to x0.\n",
        "  + str(self.newton_failures) + \"th time. Process reset to x0.\")\n",
        "manifold_reflected_brownian_motion.py:218: UserWarning: Newton iteration failed for the 2426th time. Process reset to x0.\n",
        "  + str(self.newton_failures) + \"th time. Process reset to x0.\")\n",
        "manifold_reflected_brownian_motion.py:218: UserWarning: Newton iteration failed for the 2427th time. Process reset to x0.\n",
        "  + str(self.newton_failures) + \"th time. Process reset to x0.\")\n",
        "manifold_reflected_brownian_motion.py:218: UserWarning: Newton iteration failed for the 2428th time. Process reset to x0.\n",
        "  + str(self.newton_failures) + \"th time. Process reset to x0.\")\n"
       ]
      },
      {
       "output_type": "stream",
       "stream": "stderr",
       "text": [
        "manifold_reflected_brownian_motion.py:218: UserWarning: Newton iteration failed for the 2429th time. Process reset to x0.\n",
        "  + str(self.newton_failures) + \"th time. Process reset to x0.\")\n",
        "manifold_reflected_brownian_motion.py:218: UserWarning: Newton iteration failed for the 2430th time. Process reset to x0.\n",
        "  + str(self.newton_failures) + \"th time. Process reset to x0.\")\n",
        "manifold_reflected_brownian_motion.py:218: UserWarning: Newton iteration failed for the 2431th time. Process reset to x0.\n",
        "  + str(self.newton_failures) + \"th time. Process reset to x0.\")\n",
        "manifold_reflected_brownian_motion.py:218: UserWarning: Newton iteration failed for the 2432th time. Process reset to x0.\n",
        "  + str(self.newton_failures) + \"th time. Process reset to x0.\")\n",
        "manifold_reflected_brownian_motion.py:218: UserWarning: Newton iteration failed for the 2433th time. Process reset to x0.\n",
        "  + str(self.newton_failures) + \"th time. Process reset to x0.\")\n"
       ]
      },
      {
       "output_type": "stream",
       "stream": "stderr",
       "text": [
        "manifold_reflected_brownian_motion.py:218: UserWarning: Newton iteration failed for the 2434th time. Process reset to x0.\n",
        "  + str(self.newton_failures) + \"th time. Process reset to x0.\")\n",
        "manifold_reflected_brownian_motion.py:218: UserWarning: Newton iteration failed for the 2435th time. Process reset to x0.\n",
        "  + str(self.newton_failures) + \"th time. Process reset to x0.\")\n",
        "manifold_reflected_brownian_motion.py:218: UserWarning: Newton iteration failed for the 2436th time. Process reset to x0.\n",
        "  + str(self.newton_failures) + \"th time. Process reset to x0.\")\n",
        "manifold_reflected_brownian_motion.py:218: UserWarning: Newton iteration failed for the 2437th time. Process reset to x0.\n",
        "  + str(self.newton_failures) + \"th time. Process reset to x0.\")\n",
        "manifold_reflected_brownian_motion.py:218: UserWarning: Newton iteration failed for the 2438th time. Process reset to x0.\n",
        "  + str(self.newton_failures) + \"th time. Process reset to x0.\")\n"
       ]
      },
      {
       "output_type": "stream",
       "stream": "stderr",
       "text": [
        "manifold_reflected_brownian_motion.py:218: UserWarning: Newton iteration failed for the 2439th time. Process reset to x0.\n",
        "  + str(self.newton_failures) + \"th time. Process reset to x0.\")\n",
        "manifold_reflected_brownian_motion.py:218: UserWarning: Newton iteration failed for the 2440th time. Process reset to x0.\n",
        "  + str(self.newton_failures) + \"th time. Process reset to x0.\")\n",
        "manifold_reflected_brownian_motion.py:218: UserWarning: Newton iteration failed for the 2441th time. Process reset to x0.\n",
        "  + str(self.newton_failures) + \"th time. Process reset to x0.\")\n",
        "manifold_reflected_brownian_motion.py:218: UserWarning: Newton iteration failed for the 2442th time. Process reset to x0.\n",
        "  + str(self.newton_failures) + \"th time. Process reset to x0.\")\n",
        "manifold_reflected_brownian_motion.py:218: UserWarning: Newton iteration failed for the 2443th time. Process reset to x0.\n",
        "  + str(self.newton_failures) + \"th time. Process reset to x0.\")\n"
       ]
      },
      {
       "output_type": "stream",
       "stream": "stderr",
       "text": [
        "manifold_reflected_brownian_motion.py:218: UserWarning: Newton iteration failed for the 2444th time. Process reset to x0.\n",
        "  + str(self.newton_failures) + \"th time. Process reset to x0.\")\n",
        "manifold_reflected_brownian_motion.py:218: UserWarning: Newton iteration failed for the 2445th time. Process reset to x0.\n",
        "  + str(self.newton_failures) + \"th time. Process reset to x0.\")\n",
        "manifold_reflected_brownian_motion.py:218: UserWarning: Newton iteration failed for the 2446th time. Process reset to x0.\n",
        "  + str(self.newton_failures) + \"th time. Process reset to x0.\")\n",
        "manifold_reflected_brownian_motion.py:218: UserWarning: Newton iteration failed for the 2447th time. Process reset to x0.\n",
        "  + str(self.newton_failures) + \"th time. Process reset to x0.\")\n",
        "manifold_reflected_brownian_motion.py:218: UserWarning: Newton iteration failed for the 2448th time. Process reset to x0.\n",
        "  + str(self.newton_failures) + \"th time. Process reset to x0.\")\n"
       ]
      },
      {
       "output_type": "stream",
       "stream": "stderr",
       "text": [
        "manifold_reflected_brownian_motion.py:218: UserWarning: Newton iteration failed for the 2449th time. Process reset to x0.\n",
        "  + str(self.newton_failures) + \"th time. Process reset to x0.\")\n",
        "manifold_reflected_brownian_motion.py:218: UserWarning: Newton iteration failed for the 2450th time. Process reset to x0.\n",
        "  + str(self.newton_failures) + \"th time. Process reset to x0.\")\n",
        "manifold_reflected_brownian_motion.py:218: UserWarning: Newton iteration failed for the 2451th time. Process reset to x0.\n",
        "  + str(self.newton_failures) + \"th time. Process reset to x0.\")\n",
        "manifold_reflected_brownian_motion.py:218: UserWarning: Newton iteration failed for the 2452th time. Process reset to x0.\n",
        "  + str(self.newton_failures) + \"th time. Process reset to x0.\")\n",
        "manifold_reflected_brownian_motion.py:218: UserWarning: Newton iteration failed for the 2453th time. Process reset to x0.\n",
        "  + str(self.newton_failures) + \"th time. Process reset to x0.\")\n"
       ]
      },
      {
       "output_type": "stream",
       "stream": "stderr",
       "text": [
        "manifold_reflected_brownian_motion.py:218: UserWarning: Newton iteration failed for the 2454th time. Process reset to x0.\n",
        "  + str(self.newton_failures) + \"th time. Process reset to x0.\")\n",
        "manifold_reflected_brownian_motion.py:218: UserWarning: Newton iteration failed for the 2455th time. Process reset to x0.\n",
        "  + str(self.newton_failures) + \"th time. Process reset to x0.\")\n",
        "manifold_reflected_brownian_motion.py:218: UserWarning: Newton iteration failed for the 2456th time. Process reset to x0.\n",
        "  + str(self.newton_failures) + \"th time. Process reset to x0.\")\n",
        "manifold_reflected_brownian_motion.py:218: UserWarning: Newton iteration failed for the 2457th time. Process reset to x0.\n",
        "  + str(self.newton_failures) + \"th time. Process reset to x0.\")\n"
       ]
      },
      {
       "output_type": "stream",
       "stream": "stderr",
       "text": [
        "manifold_reflected_brownian_motion.py:218: UserWarning: Newton iteration failed for the 2458th time. Process reset to x0.\n",
        "  + str(self.newton_failures) + \"th time. Process reset to x0.\")\n",
        "manifold_reflected_brownian_motion.py:218: UserWarning: Newton iteration failed for the 2459th time. Process reset to x0.\n",
        "  + str(self.newton_failures) + \"th time. Process reset to x0.\")\n",
        "manifold_reflected_brownian_motion.py:218: UserWarning: Newton iteration failed for the 2460th time. Process reset to x0.\n",
        "  + str(self.newton_failures) + \"th time. Process reset to x0.\")\n",
        "manifold_reflected_brownian_motion.py:218: UserWarning: Newton iteration failed for the 2461th time. Process reset to x0.\n",
        "  + str(self.newton_failures) + \"th time. Process reset to x0.\")\n",
        "manifold_reflected_brownian_motion.py:218: UserWarning: Newton iteration failed for the 2462th time. Process reset to x0.\n",
        "  + str(self.newton_failures) + \"th time. Process reset to x0.\")\n"
       ]
      },
      {
       "output_type": "stream",
       "stream": "stderr",
       "text": [
        "manifold_reflected_brownian_motion.py:218: UserWarning: Newton iteration failed for the 2463th time. Process reset to x0.\n",
        "  + str(self.newton_failures) + \"th time. Process reset to x0.\")\n",
        "manifold_reflected_brownian_motion.py:218: UserWarning: Newton iteration failed for the 2464th time. Process reset to x0.\n",
        "  + str(self.newton_failures) + \"th time. Process reset to x0.\")\n",
        "manifold_reflected_brownian_motion.py:218: UserWarning: Newton iteration failed for the 2465th time. Process reset to x0.\n",
        "  + str(self.newton_failures) + \"th time. Process reset to x0.\")\n",
        "manifold_reflected_brownian_motion.py:218: UserWarning: Newton iteration failed for the 2466th time. Process reset to x0.\n",
        "  + str(self.newton_failures) + \"th time. Process reset to x0.\")\n",
        "manifold_reflected_brownian_motion.py:218: UserWarning: Newton iteration failed for the 2467th time. Process reset to x0.\n",
        "  + str(self.newton_failures) + \"th time. Process reset to x0.\")\n"
       ]
      },
      {
       "output_type": "stream",
       "stream": "stderr",
       "text": [
        "manifold_reflected_brownian_motion.py:218: UserWarning: Newton iteration failed for the 2468th time. Process reset to x0.\n",
        "  + str(self.newton_failures) + \"th time. Process reset to x0.\")\n",
        "manifold_reflected_brownian_motion.py:218: UserWarning: Newton iteration failed for the 2469th time. Process reset to x0.\n",
        "  + str(self.newton_failures) + \"th time. Process reset to x0.\")\n",
        "manifold_reflected_brownian_motion.py:218: UserWarning: Newton iteration failed for the 2470th time. Process reset to x0.\n",
        "  + str(self.newton_failures) + \"th time. Process reset to x0.\")\n",
        "manifold_reflected_brownian_motion.py:218: UserWarning: Newton iteration failed for the 2471th time. Process reset to x0.\n",
        "  + str(self.newton_failures) + \"th time. Process reset to x0.\")\n",
        "manifold_reflected_brownian_motion.py:218: UserWarning: Newton iteration failed for the 2472th time. Process reset to x0.\n",
        "  + str(self.newton_failures) + \"th time. Process reset to x0.\")\n"
       ]
      },
      {
       "output_type": "stream",
       "stream": "stderr",
       "text": [
        "manifold_reflected_brownian_motion.py:218: UserWarning: Newton iteration failed for the 2473th time. Process reset to x0.\n",
        "  + str(self.newton_failures) + \"th time. Process reset to x0.\")\n",
        "manifold_reflected_brownian_motion.py:218: UserWarning: Newton iteration failed for the 2474th time. Process reset to x0.\n",
        "  + str(self.newton_failures) + \"th time. Process reset to x0.\")\n",
        "manifold_reflected_brownian_motion.py:218: UserWarning: Newton iteration failed for the 2475th time. Process reset to x0.\n",
        "  + str(self.newton_failures) + \"th time. Process reset to x0.\")\n",
        "manifold_reflected_brownian_motion.py:218: UserWarning: Newton iteration failed for the 2476th time. Process reset to x0.\n",
        "  + str(self.newton_failures) + \"th time. Process reset to x0.\")\n"
       ]
      },
      {
       "output_type": "stream",
       "stream": "stderr",
       "text": [
        "manifold_reflected_brownian_motion.py:218: UserWarning: Newton iteration failed for the 2477th time. Process reset to x0.\n",
        "  + str(self.newton_failures) + \"th time. Process reset to x0.\")\n",
        "manifold_reflected_brownian_motion.py:218: UserWarning: Newton iteration failed for the 2478th time. Process reset to x0.\n",
        "  + str(self.newton_failures) + \"th time. Process reset to x0.\")\n",
        "manifold_reflected_brownian_motion.py:218: UserWarning: Newton iteration failed for the 2479th time. Process reset to x0.\n",
        "  + str(self.newton_failures) + \"th time. Process reset to x0.\")\n",
        "manifold_reflected_brownian_motion.py:218: UserWarning: Newton iteration failed for the 2480th time. Process reset to x0.\n",
        "  + str(self.newton_failures) + \"th time. Process reset to x0.\")\n",
        "manifold_reflected_brownian_motion.py:218: UserWarning: Newton iteration failed for the 2481th time. Process reset to x0.\n",
        "  + str(self.newton_failures) + \"th time. Process reset to x0.\")\n"
       ]
      },
      {
       "output_type": "stream",
       "stream": "stderr",
       "text": [
        "manifold_reflected_brownian_motion.py:218: UserWarning: Newton iteration failed for the 2482th time. Process reset to x0.\n",
        "  + str(self.newton_failures) + \"th time. Process reset to x0.\")\n",
        "manifold_reflected_brownian_motion.py:218: UserWarning: Newton iteration failed for the 2483th time. Process reset to x0.\n",
        "  + str(self.newton_failures) + \"th time. Process reset to x0.\")\n",
        "manifold_reflected_brownian_motion.py:218: UserWarning: Newton iteration failed for the 2484th time. Process reset to x0.\n",
        "  + str(self.newton_failures) + \"th time. Process reset to x0.\")\n",
        "manifold_reflected_brownian_motion.py:218: UserWarning: Newton iteration failed for the 2485th time. Process reset to x0.\n",
        "  + str(self.newton_failures) + \"th time. Process reset to x0.\")\n",
        "manifold_reflected_brownian_motion.py:218: UserWarning: Newton iteration failed for the 2486th time. Process reset to x0.\n",
        "  + str(self.newton_failures) + \"th time. Process reset to x0.\")\n"
       ]
      }
     ]
    },
    {
     "cell_type": "code",
     "collapsed": false,
     "input": [],
     "language": "python",
     "metadata": {},
     "outputs": []
    },
    {
     "cell_type": "code",
     "collapsed": false,
     "input": [
      "s_4 = z_4.sample(N=N, record_trace=False, record_stats=False)"
     ],
     "language": "python",
     "metadata": {},
     "outputs": []
    },
    {
     "cell_type": "code",
     "collapsed": false,
     "input": [],
     "language": "python",
     "metadata": {},
     "outputs": []
    },
    {
     "cell_type": "code",
     "collapsed": false,
     "input": [
      "s_5 = z_5.sample(N=N, record_trace=False, record_stats=False)"
     ],
     "language": "python",
     "metadata": {},
     "outputs": []
    },
    {
     "cell_type": "code",
     "collapsed": false,
     "input": [],
     "language": "python",
     "metadata": {},
     "outputs": []
    },
    {
     "cell_type": "code",
     "collapsed": false,
     "input": [
      "s_6 = z_6.sample(N=N, record_trace=False, record_stats=False)"
     ],
     "language": "python",
     "metadata": {},
     "outputs": []
    },
    {
     "cell_type": "code",
     "collapsed": false,
     "input": [],
     "language": "python",
     "metadata": {},
     "outputs": []
    }
   ],
   "metadata": {}
  }
 ]
}