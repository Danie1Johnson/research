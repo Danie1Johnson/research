{
 "metadata": {
  "name": "",
  "signature": "sha256:69ad8920ae70e582dad2642815d0e5043158e3e0c23e2e40fe4dd9cca9e12927"
 },
 "nbformat": 3,
 "nbformat_minor": 0,
 "worksheets": [
  {
   "cells": [
    {
     "cell_type": "code",
     "collapsed": false,
     "input": [
      "import numpy as np\n",
      "\n",
      "import bga_4_0 as bga\n",
      "import manifold_reflected_brownian_motion as mrbm\n",
      "\n",
      "bga = reload(bga)\n",
      "mrbm = reload(mrbm)\n"
     ],
     "language": "python",
     "metadata": {},
     "outputs": [],
     "prompt_number": 7
    },
    {
     "cell_type": "code",
     "collapsed": false,
     "input": [
      "poly_name = 'octahedron'\n",
      "int_num = 4\n",
      "\n",
      "boundary_name = 'none'\n",
      "manifold_name = poly_name + \"__\" + str(int_num)"
     ],
     "language": "python",
     "metadata": {},
     "outputs": [],
     "prompt_number": 8
    },
    {
     "cell_type": "code",
     "collapsed": false,
     "input": [
      "scheme = 'rej'\n",
      "err_tol = 10**-12\n",
      "h = 0.01\n",
      "N = 1000000"
     ],
     "language": "python",
     "metadata": {},
     "outputs": [],
     "prompt_number": 9
    },
    {
     "cell_type": "code",
     "collapsed": false,
     "input": [
      "n, dim, x0, masses, links, lengths, faces = bga.load_bg_int(poly_name, int_num)\n",
      "z = mrbm.MRBM(manifold_name, boundary_name, x0, h, scheme, run_args={'N': N}, err_tol=err_tol)\n",
      "           "
     ],
     "language": "python",
     "metadata": {},
     "outputs": [],
     "prompt_number": 10
    },
    {
     "cell_type": "code",
     "collapsed": false,
     "input": [
      "#bga.bg_animation(z, faces)\n",
      "z.sample(N=N)"
     ],
     "language": "python",
     "metadata": {},
     "outputs": [
      {
       "metadata": {},
       "output_type": "pyout",
       "prompt_number": 11,
       "text": [
        "array([-6.39908572,  0.77623281,  3.36711327, -7.53926364,  0.13487356,\n",
        "        4.02460286, -6.56742011,  1.7360838 ,  3.59150047, -7.22812551,\n",
        "        0.29206987,  3.08732895, -7.28810102,  1.05661098,  3.72910759,\n",
        "       -7.11278333,  0.57746465,  4.03877311])"
       ]
      }
     ],
     "prompt_number": 11
    },
    {
     "cell_type": "code",
     "collapsed": false,
     "input": [
      "#print z.xs\n",
      "print 'done'"
     ],
     "language": "python",
     "metadata": {},
     "outputs": [
      {
       "output_type": "stream",
       "stream": "stdout",
       "text": [
        "done\n"
       ]
      }
     ],
     "prompt_number": 12
    },
    {
     "cell_type": "code",
     "collapsed": false,
     "input": [
      "print faces\n",
      "import numpy as np"
     ],
     "language": "python",
     "metadata": {},
     "outputs": [
      {
       "output_type": "stream",
       "stream": "stdout",
       "text": [
        "[[0, 3, 4], [1, 4, 3], [0, 4, 2], [0, 5, 3]]\n"
       ]
      }
     ],
     "prompt_number": 18
    },
    {
     "cell_type": "code",
     "collapsed": false,
     "input": [
      "import numpy.linalg\n",
      "def find_dihedrals(f1, f2, x, faces):\n",
      "    \"\"\"\n",
      "    Take the index of two faces of a BG intermediate and compute the dihedral angle between them\n",
      "    \"\"\"\n",
      "    n1 = triangle_normal(f1, x, faces)\n",
      "    n2 = triangle_normal(f2, x, faces)\n",
      "    return np.arccos(np.dot(n1, n2))\n",
      "\n",
      "def triangle_normal(f, x, faces):\n",
      "    \"\"\"\n",
      "    Find normal vector to triangle. \n",
      "    \"\"\"\n",
      "    v1 = x[3*faces[f][0]:3*faces[f][0]+3] - x[3*faces[f][1]:3*faces[f][1]+3] \n",
      "    v2 = x[3*faces[f][2]:3*faces[f][2]+3] - x[3*faces[f][1]:3*faces[f][1]+3] \n",
      "    n = np.cross(v1, v2)\n",
      "    return n/numpy.linalg.norm(n)\n",
      "\n",
      "angs = np.array([find_dihedrals(0, 1, z.xs[k,:], faces) for k in range(z.xs.shape[0])])"
     ],
     "language": "python",
     "metadata": {},
     "outputs": [],
     "prompt_number": 19
    },
    {
     "cell_type": "code",
     "collapsed": false,
     "input": [
      "print angs.shape\n"
     ],
     "language": "python",
     "metadata": {},
     "outputs": [
      {
       "output_type": "stream",
       "stream": "stdout",
       "text": [
        "(1000001,)\n"
       ]
      }
     ]
    },
    {
     "cell_type": "code",
     "collapsed": false,
     "input": [
      "import matplotlib.pyplot as plt\n",
      "plt.hist(angs, bins=40)\n",
      "plt.show()"
     ],
     "language": "python",
     "metadata": {},
     "outputs": []
    }
   ],
   "metadata": {}
  }
 ]
}