{
 "metadata": {
  "name": "",
  "signature": "sha256:ea45b73f716346f64826fe1b9003bc13bcb225747e200c3a43036cc5a6abf208"
 },
 "nbformat": 3,
 "nbformat_minor": 0,
 "worksheets": [
  {
   "cells": [
    {
     "cell_type": "code",
     "collapsed": false,
     "input": [
      "import numpy as np\n",
      "\n",
      "import bga_4_0 as bga\n",
      "import manifold_reflected_brownian_motion as mrbm\n",
      "\n",
      "bga = reload(bga)\n",
      "mrbm = reload(mrbm)\n"
     ],
     "language": "python",
     "metadata": {},
     "outputs": [],
     "prompt_number": 20
    },
    {
     "cell_type": "code",
     "collapsed": false,
     "input": [
      "poly_name = 'octahedron'\n",
      "int_num = 5\n",
      "\n",
      "boundary_name = 'none'\n",
      "manifold_name = poly_name + \"__\" + str(int_num)"
     ],
     "language": "python",
     "metadata": {},
     "outputs": [],
     "prompt_number": 21
    },
    {
     "cell_type": "code",
     "collapsed": false,
     "input": [
      "scheme = 'rej'\n",
      "h = 0.1\n",
      "N = 10"
     ],
     "language": "python",
     "metadata": {},
     "outputs": [],
     "prompt_number": 22
    },
    {
     "cell_type": "code",
     "collapsed": false,
     "input": [
      "n, dim, x0, masses, links, lengths, faces = bga.load_bg_int(poly_name, int_num)\n",
      "z = mrbm.MRBM(manifold_name, boundary_name, x0, h, scheme, run_args={'N': N})\n",
      "           "
     ],
     "language": "python",
     "metadata": {},
     "outputs": [],
     "prompt_number": 23
    },
    {
     "cell_type": "code",
     "collapsed": false,
     "input": [
      "z.sample(N=1000)\n",
      "\n"
     ],
     "language": "python",
     "metadata": {},
     "outputs": [
      {
       "metadata": {},
       "output_type": "pyout",
       "prompt_number": 25,
       "text": [
        "array([ 0.20300252, -0.100459  , -0.52374265, -1.44835649,  0.36278544,\n",
        "       -0.73382196,  0.45870773,  0.43265684, -1.33021792, -0.72297189,\n",
        "       -0.01223578, -0.15660772, -0.49948303,  0.3797439 , -1.0490228 ,\n",
        "       -1.12697716,  0.87601966,  0.06198327])"
       ]
      }
     ],
     "prompt_number": 25
    }
   ],
   "metadata": {}
  }
 ]
}