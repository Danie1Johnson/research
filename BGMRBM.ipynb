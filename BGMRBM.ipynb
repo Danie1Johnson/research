{
 "metadata": {
  "name": "",
  "signature": "sha256:ba2019650cafd6f333e321f5629214bb49e877cc01bb3b57f0a8a54ab9c45548"
 },
 "nbformat": 3,
 "nbformat_minor": 0,
 "worksheets": [
  {
   "cells": [
    {
     "cell_type": "code",
     "collapsed": false,
     "input": [
      "import numpy as np\n",
      "\n",
      "import bga_4_0 as bga\n",
      "import manifold_reflected_brownian_motion as mrbm\n",
      "\n",
      "bga = reload(bga)\n",
      "mrbm = reload(mrbm)\n"
     ],
     "language": "python",
     "metadata": {},
     "outputs": [],
     "prompt_number": 343
    },
    {
     "cell_type": "code",
     "collapsed": false,
     "input": [
      "#poly_name = 'octahedron'\n",
      "#int_num = 13\n",
      "\n",
      "poly_name = 'icosahedron'\n",
      "int_num = 400\n",
      "\n",
      "\n",
      "manifold_name = poly_name\n",
      "manifold_kwargs = {'int_num': int_num}\n",
      "\n",
      "#boundary_name = 'none'\n",
      "#boundary_kwargs = {}\n",
      "boundary_name = poly_name\n",
      "boundary_kwargs = {'int_num': int_num}\n"
     ],
     "language": "python",
     "metadata": {},
     "outputs": [],
     "prompt_number": 344
    },
    {
     "cell_type": "code",
     "collapsed": false,
     "input": [
      "scheme = 'rej'\n",
      "err_tol = 10**-12\n",
      "h = 0.01\n",
      "N = 1000000\n",
      "run_kwargs = {'N': N}\n",
      "\n",
      "kwargs = {'run_kwargs': run_kwargs, \n",
      "          'err_tol': err_tol,\n",
      "          'manifold_kwargs': manifold_kwargs,\n",
      "          'boundary_kwargs': boundary_kwargs}"
     ],
     "language": "python",
     "metadata": {},
     "outputs": [],
     "prompt_number": 345
    },
    {
     "cell_type": "code",
     "collapsed": false,
     "input": [
      "n, dim, x0, masses, links, lengths, faces = bga.load_bg_int(poly_name, int_num)\n",
      "z = mrbm.MRBM(manifold_name, \n",
      "              boundary_name, \n",
      "              x0, \n",
      "              h, \n",
      "              scheme, \n",
      "              **kwargs)\n",
      "           "
     ],
     "language": "python",
     "metadata": {},
     "outputs": [],
     "prompt_number": 346
    },
    {
     "cell_type": "code",
     "collapsed": false,
     "input": [
      "#bga.bg_animation(z, faces)\n",
      "#z.sample(N=N)"
     ],
     "language": "python",
     "metadata": {},
     "outputs": [],
     "prompt_number": 347
    },
    {
     "cell_type": "code",
     "collapsed": false,
     "input": [
      "#print z.xs\n",
      "print 'done'"
     ],
     "language": "python",
     "metadata": {},
     "outputs": [
      {
       "output_type": "stream",
       "stream": "stdout",
       "text": [
        "done\n"
       ]
      }
     ],
     "prompt_number": 348
    },
    {
     "cell_type": "code",
     "collapsed": false,
     "input": [
      "print faces\n",
      "import numpy as np"
     ],
     "language": "python",
     "metadata": {},
     "outputs": [
      {
       "output_type": "stream",
       "stream": "stdout",
       "text": [
        "[[0, 2, 10], [0, 8, 2], [2, 7, 10], [0, 10, 6], [0, 4, 8], [4, 9, 8], [2, 5, 7], [3, 7, 5], [6, 10, 11], [1, 6, 11]]\n"
       ]
      }
     ],
     "prompt_number": 349
    },
    {
     "cell_type": "code",
     "collapsed": false,
     "input": [
      "#import numpy.linalg\n",
      "\n",
      "#angs = np.array([bga.find_dihedrals(0, 1, z.xs[k,:], faces) for k in range(z.xs.shape[0])])"
     ],
     "language": "python",
     "metadata": {},
     "outputs": [],
     "prompt_number": 350
    },
    {
     "cell_type": "code",
     "collapsed": false,
     "input": [
      "#print angs.shape\n"
     ],
     "language": "python",
     "metadata": {},
     "outputs": [],
     "prompt_number": 351
    },
    {
     "cell_type": "code",
     "collapsed": false,
     "input": [
      "#import matplotlib.pyplot as plt\n",
      "#plt.hist(angs, bins=40)\n",
      "#plt.show()"
     ],
     "language": "python",
     "metadata": {},
     "outputs": [],
     "prompt_number": 352
    },
    {
     "cell_type": "code",
     "collapsed": false,
     "input": [
      "bga.bg_animation(z, faces)"
     ],
     "language": "python",
     "metadata": {},
     "outputs": [],
     "prompt_number": 353
    }
   ],
   "metadata": {}
  }
 ]
}