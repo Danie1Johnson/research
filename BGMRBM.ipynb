{
 "metadata": {
  "name": "",
  "signature": "sha256:fec8c7d7b326fc255734611086ba3f4c0b3e8e57cbe59cf7a44df6b70c8dcc87"
 },
 "nbformat": 3,
 "nbformat_minor": 0,
 "worksheets": [
  {
   "cells": [
    {
     "cell_type": "code",
     "collapsed": false,
     "input": [
      "import numpy as np\n",
      "\n",
      "import bga_4_0 as bga\n",
      "import manifold_reflected_brownian_motion as mrbm\n",
      "\n",
      "bga = reload(bga)\n",
      "mrbm = reload(mrbm)\n"
     ],
     "language": "python",
     "metadata": {},
     "outputs": [],
     "prompt_number": 1
    },
    {
     "cell_type": "code",
     "collapsed": false,
     "input": [
      "poly_name = 'octahedron'\n",
      "int_num = 5\n",
      "\n",
      "boundary_name = 'none'\n",
      "manifold_name = poly_name + \"__\" + str(int_num)"
     ],
     "language": "python",
     "metadata": {},
     "outputs": [],
     "prompt_number": 2
    },
    {
     "cell_type": "code",
     "collapsed": false,
     "input": [
      "scheme = 'rej'\n",
      "h = 0.1\n",
      "N = 10"
     ],
     "language": "python",
     "metadata": {},
     "outputs": [],
     "prompt_number": 3
    },
    {
     "cell_type": "code",
     "collapsed": false,
     "input": [
      "n, dim, x0, masses, links, lengths, faces = bga.load_bg_int(poly_name, int_num)\n",
      "z = mrbm.MRBM(manifold_name, boundary_name, x0, h, scheme, run_args={'N': N})\n",
      "           "
     ],
     "language": "python",
     "metadata": {},
     "outputs": [],
     "prompt_number": 4
    },
    {
     "cell_type": "code",
     "collapsed": false,
     "input": [
      "bga.bg_animation(z, faces)\n"
     ],
     "language": "python",
     "metadata": {},
     "outputs": [],
     "prompt_number": 5
    }
   ],
   "metadata": {}
  }
 ]
}