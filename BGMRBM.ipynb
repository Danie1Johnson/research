{
 "metadata": {
  "name": "",
  "signature": "sha256:697b6d8c5210799100f159270bf20de506aef4e6f99f53c409d88b71f64db0fa"
 },
 "nbformat": 3,
 "nbformat_minor": 0,
 "worksheets": [
  {
   "cells": [
    {
     "cell_type": "code",
     "collapsed": false,
     "input": [
      "%matplotlib inline"
     ],
     "language": "python",
     "metadata": {},
     "outputs": [],
     "prompt_number": 389
    },
    {
     "cell_type": "code",
     "collapsed": false,
     "input": [
      "import numpy as np\n",
      "\n",
      "import bga_4_0 as bga\n",
      "import manifold_reflected_brownian_motion as mrbm\n",
      "import triangle_geometry as ti\n",
      "import matplotlib.pyplot as plt\n",
      "import polyhedra as poly\n",
      "bga = reload(bga)\n",
      "mrbm = reload(mrbm)\n"
     ],
     "language": "python",
     "metadata": {},
     "outputs": [],
     "prompt_number": 390
    },
    {
     "cell_type": "code",
     "collapsed": false,
     "input": [
      "manifold_name = 'building_game'\n",
      "#poly_name = 'tetrahedron'\n",
      "#poly_name = 'octahedron'\n",
      "poly_name = 'icosahedron'\n",
      "int_num = 1222\n",
      "\n",
      "unary_boundary_name = 'self_intersection'\n",
      "binary_boundary_name = 'dihedrals'\n",
      "\n",
      "#stat_name = 'test_1'\n",
      "#stat_name = 'test_2'\n",
      "stat_name = 'bg_attachment'"
     ],
     "language": "python",
     "metadata": {},
     "outputs": [],
     "prompt_number": 391
    },
    {
     "cell_type": "code",
     "collapsed": false,
     "input": [
      "manifold_kwargs = {'poly_name': poly_name, \n",
      "                   'int_num': int_num, \n",
      "                   'fixed_com': True,\n",
      "                   'fixed_rotation': True}\n",
      "#manifold_kwargs = {'poly_name': poly_name, \n",
      "#                   'int_num': int_num}\n",
      "unary_boundary_kwargs = {'poly_name': poly_name, 'int_num': int_num}\n",
      "binary_boundary_kwargs = {'poly_name': poly_name, 'int_num': int_num}\n",
      "stat_kwargs = {'poly_name': poly_name, 'int_num': int_num}\n",
      "#stat_kwargs = {}"
     ],
     "language": "python",
     "metadata": {},
     "outputs": [],
     "prompt_number": 392
    },
    {
     "cell_type": "code",
     "collapsed": false,
     "input": [
      "err_tol = 10**-12\n",
      "h = 0.05\n",
      "N = 10**2\n",
      "\n",
      "hist_min = 0.0\n",
      "hist_max = 2.0*np.pi\n",
      "hist_bins = 1000"
     ],
     "language": "python",
     "metadata": {},
     "outputs": [],
     "prompt_number": 393
    },
    {
     "cell_type": "code",
     "collapsed": false,
     "input": [
      "kwargs = {'manifold_name': manifold_name,  \n",
      "          'stat_name': stat_name,\n",
      "          'manifold_kwargs': manifold_kwargs,\n",
      "          'stat_kwargs': stat_kwargs,\n",
      "          'record_hist': True, \n",
      "          'hist_min': hist_min, \n",
      "          'hist_max': hist_max, \n",
      "          'hist_bins': hist_bins,\n",
      "          'err_tol': err_tol}"
     ],
     "language": "python",
     "metadata": {},
     "outputs": [],
     "prompt_number": 394
    },
    {
     "cell_type": "code",
     "collapsed": false,
     "input": [
      "x0, links, lengths, faces = bga.load_bg_int(poly_name, int_num)"
     ],
     "language": "python",
     "metadata": {},
     "outputs": [],
     "prompt_number": 395
    },
    {
     "cell_type": "code",
     "collapsed": false,
     "input": [
      "V, E, F, S, species, f_types, adj_list, dual = bga.get_poly(poly_name)\n",
      "        \n",
      "print faces\n",
      "print adj_list"
     ],
     "language": "python",
     "metadata": {},
     "outputs": [
      {
       "output_type": "stream",
       "stream": "stdout",
       "text": [
        "[[0, 3, 12], [0, 10, 3], [3, 8, 12], [0, 12, 7], [0, 7, 5], [5, 11, 9], [3, 6, 8], [4, 8, 6], [4, 13, 8], [1, 5, 7], [1, 11, 5], [2, 13, 4]]\n",
        "[[3, 1, 2], [0, 5, 8], [0, 9, 12], [4, 0, 13], [5, 3, 15], [1, 4, 6], [5, 16, 7], [18, 8, 6], [9, 1, 7], [2, 8, 10], [18, 11, 9], [10, 19, 12], [2, 11, 13], [14, 3, 12], [19, 15, 13], [14, 16, 4], [15, 17, 6], [16, 19, 18], [17, 10, 7], [17, 14, 11]]\n"
       ]
      }
     ],
     "prompt_number": 396
    },
    {
     "cell_type": "code",
     "collapsed": false,
     "input": [
      "z = mrbm.MRBM(x0, h, **kwargs)"
     ],
     "language": "python",
     "metadata": {},
     "outputs": [],
     "prompt_number": 397
    },
    {
     "cell_type": "code",
     "collapsed": false,
     "input": [
      "z.sample(N=N)"
     ],
     "language": "python",
     "metadata": {},
     "outputs": [
      {
       "output_type": "stream",
       "stream": "stdout",
       "text": [
        "____________________\n"
       ]
      },
      {
       "output_type": "stream",
       "stream": "stdout",
       "text": [
        "-"
       ]
      },
      {
       "output_type": "stream",
       "stream": "stdout",
       "text": [
        "-"
       ]
      },
      {
       "output_type": "stream",
       "stream": "stdout",
       "text": [
        "-"
       ]
      },
      {
       "output_type": "stream",
       "stream": "stdout",
       "text": [
        "-"
       ]
      },
      {
       "output_type": "stream",
       "stream": "stdout",
       "text": [
        "-"
       ]
      },
      {
       "output_type": "stream",
       "stream": "stdout",
       "text": [
        "-"
       ]
      },
      {
       "output_type": "stream",
       "stream": "stdout",
       "text": [
        "-"
       ]
      },
      {
       "output_type": "stream",
       "stream": "stdout",
       "text": [
        "-"
       ]
      },
      {
       "output_type": "stream",
       "stream": "stdout",
       "text": [
        "-"
       ]
      },
      {
       "output_type": "stream",
       "stream": "stdout",
       "text": [
        "-"
       ]
      },
      {
       "output_type": "stream",
       "stream": "stdout",
       "text": [
        "-"
       ]
      },
      {
       "output_type": "stream",
       "stream": "stdout",
       "text": [
        "-"
       ]
      },
      {
       "output_type": "stream",
       "stream": "stdout",
       "text": [
        "-"
       ]
      },
      {
       "output_type": "stream",
       "stream": "stdout",
       "text": [
        "-"
       ]
      },
      {
       "output_type": "stream",
       "stream": "stdout",
       "text": [
        "-"
       ]
      },
      {
       "output_type": "stream",
       "stream": "stdout",
       "text": [
        "-"
       ]
      },
      {
       "output_type": "stream",
       "stream": "stdout",
       "text": [
        "-"
       ]
      },
      {
       "output_type": "stream",
       "stream": "stdout",
       "text": [
        "-"
       ]
      },
      {
       "output_type": "stream",
       "stream": "stdout",
       "text": [
        "-"
       ]
      },
      {
       "output_type": "stream",
       "stream": "stdout",
       "text": [
        "-"
       ]
      },
      {
       "output_type": "stream",
       "stream": "stdout",
       "text": [
        "\n"
       ]
      },
      {
       "metadata": {},
       "output_type": "pyout",
       "prompt_number": 398,
       "text": [
        "array([-0.08807476,  0.59966574,  0.67607653,  0.12943787,  1.08236321,\n",
        "        0.1217255 ,  0.34137356, -0.32081185, -1.01508518, -0.07700816,\n",
        "       -0.36590989,  0.93596348, -0.32534204, -0.93183755, -0.58830903,\n",
        "        0.17599444,  0.12505627, -0.16357418,  0.05632342, -0.18841107,\n",
        "       -0.03908363, -0.70878516,  0.58772503, -0.10787246, -0.76072425,\n",
        "       -0.67268279,  0.27382852,  1.06141007, -0.33602554, -0.22224888,\n",
        "       -0.74623176, -0.03479688,  0.27075377,  1.01689282,  0.63096878,\n",
        "        0.02862998,  0.00674203, -0.10605088, -0.02604442, -0.08200808,\n",
        "       -0.06925258, -0.14476   ])"
       ]
      }
     ],
     "prompt_number": 398
    },
    {
     "cell_type": "code",
     "collapsed": false,
     "input": [
      "z.stat_log"
     ],
     "language": "python",
     "metadata": {},
     "outputs": [
      {
       "metadata": {},
       "output_type": "pyout",
       "prompt_number": 399,
       "text": [
        "array([[ 1.04719755,  1.04719755,  1.04719755,  1.04719755],\n",
        "       [ 1.02199076,  0.9518556 ,  1.00751689,  1.14158983],\n",
        "       [ 0.83372581,  1.0487636 ,  1.01146728,  1.15753172],\n",
        "       [ 0.8139627 ,  1.12275333,  1.00218381,  1.06358032],\n",
        "       [ 0.76614337,  1.22671604,  0.94523368,  1.01028196],\n",
        "       [ 0.83850869,  1.03800868,  1.1803873 ,  1.05371667],\n",
        "       [ 0.78436065,  0.89533072,  1.15450594,  1.13396566],\n",
        "       [ 0.73414685,  1.0699265 ,  1.2276302 ,  1.10326596],\n",
        "       [ 0.59831406,  1.35702618,  1.31422656,  1.25200658],\n",
        "       [ 0.80409353,  1.2584815 ,  1.3282666 ,  1.17885725],\n",
        "       [ 0.80540546,  1.18947058,  1.24365545,  1.21142434],\n",
        "       [ 0.90451587,  1.21215575,  1.51355979,  1.1524364 ],\n",
        "       [ 0.92139414,  1.27398322,  1.68307452,  1.34970649],\n",
        "       [ 0.82362924,  1.15839522,  1.69235195,  1.40973717],\n",
        "       [ 0.81468301,  1.31080696,  1.72685924,  1.48302396],\n",
        "       [ 0.71876403,  1.38629651,  1.70596745,  1.62119183],\n",
        "       [ 0.79500588,  1.42246154,  1.74357249,  1.44576421],\n",
        "       [ 0.85305663,  1.55059318,  1.84011949,  1.31174314],\n",
        "       [ 0.92078512,  1.5219219 ,  2.09478682,  1.15640561],\n",
        "       [ 0.81016815,  1.55871145,  2.36757071,  1.28003073],\n",
        "       [ 0.70583981,  1.40779678,  2.56704199,  1.43366419],\n",
        "       [ 0.56709216,  1.36985278,  2.50204715,  1.13028828],\n",
        "       [ 0.36778689,  1.4675089 ,  2.576574  ,  1.0192438 ],\n",
        "       [ 0.41688715,  1.51724074,  2.24209385,  1.02358204],\n",
        "       [ 0.40825228,  1.38571528,  2.46436451,  1.13599276],\n",
        "       [ 0.35728942,  1.34925463,  2.45698108,  1.25836874],\n",
        "       [ 0.37121637,  1.45633857,  2.11683192,  1.14584313],\n",
        "       [ 0.20849794,  1.6253488 ,  2.05790444,  1.10088844],\n",
        "       [ 0.01860271,  1.72983696,  2.04216086,  1.07432132],\n",
        "       [ 0.11312577,  1.91412341,  2.01679132,  0.94348401],\n",
        "       [ 0.17859939,  1.94962953,  2.02023262,  0.89768259],\n",
        "       [ 0.15710268,  1.9102028 ,  2.09167554,  0.67662479],\n",
        "       [ 0.15850194,  1.98809968,  1.92385197,  0.54646764],\n",
        "       [ 0.11335359,  1.95144119,  1.72322634,  0.41088123],\n",
        "       [ 0.16190751,  2.09123025,  1.73561647,  0.50380715],\n",
        "       [ 0.33157003,  2.10120933,  1.93248636,  0.60492776],\n",
        "       [ 0.34439007,  2.12986568,  1.88577856,  0.41414767],\n",
        "       [ 0.33653353,  2.12951608,  1.91536923,  0.37209056],\n",
        "       [ 0.21232704,  2.07490402,  1.70411403,  0.51948424],\n",
        "       [ 0.29606305,  2.13503053,  1.61641369,  0.60459026],\n",
        "       [ 0.3770734 ,  2.01744574,  1.73093608,  0.56141481],\n",
        "       [ 0.56759508,  1.97272135,  1.91410589,  0.63944152],\n",
        "       [ 0.56949721,  1.94966887,  1.9994864 ,  0.57028121],\n",
        "       [ 0.41051822,  1.86699204,  2.10111678,  0.53463213],\n",
        "       [ 0.57254079,  2.07338851,  2.10861621,  0.5852242 ],\n",
        "       [ 0.47265789,  1.76105052,  1.99786223,  0.52777346],\n",
        "       [ 0.58854364,  1.64864139,  2.02627361,  0.54165535],\n",
        "       [ 0.60356174,  1.74744552,  1.99910473,  0.52703976],\n",
        "       [ 0.58030271,  1.84640337,  1.76147083,  0.53115658],\n",
        "       [ 0.63898266,  1.92393078,  1.61550197,  0.51953515],\n",
        "       [ 0.47817767,  2.00934941,  1.50549144,  0.36304026],\n",
        "       [ 0.51279562,  2.11207559,  1.47925253,  0.23460762],\n",
        "       [ 0.49875215,  1.92590501,  1.45403869,  0.314708  ],\n",
        "       [ 0.69114995,  1.95514578,  1.46908257,  0.34245688],\n",
        "       [ 0.63277355,  1.84542289,  1.44741996,  0.35943489],\n",
        "       [ 0.83995484,  1.80588537,  1.55967448,  0.23018196],\n",
        "       [ 0.85963666,  1.79092994,  1.55053479,  0.34328862],\n",
        "       [ 0.84359403,  1.94209912,  1.48385799,  0.33983112],\n",
        "       [ 0.81307385,  1.91611833,  1.52595502,  0.49563623],\n",
        "       [ 0.88290703,  2.0241663 ,  1.51371134,  0.45746592],\n",
        "       [ 0.96502481,  2.12418182,  1.47748384,  0.48330876],\n",
        "       [ 1.00501043,  2.17975175,  1.58221926,  0.26988479],\n",
        "       [ 1.19683901,  2.25123741,  1.6593105 ,  0.4784035 ],\n",
        "       [ 0.96031313,  2.30889918,  1.51580509,  0.49537527],\n",
        "       [ 0.9354672 ,  2.13837899,  1.4406741 ,  0.36244181],\n",
        "       [ 0.79839218,  1.75066218,  1.39357708,  0.38202009],\n",
        "       [ 0.90495626,  1.61694025,  1.28706602,  0.40613192],\n",
        "       [ 0.86910544,  1.74973202,  1.34142474,  0.36389663],\n",
        "       [ 0.9478282 ,  1.67474265,  1.29264866,  0.43664337],\n",
        "       [ 0.93553276,  1.85578089,  1.32363281,  0.28336472],\n",
        "       [ 1.12309444,  1.93272111,  1.47329642,  0.29420504],\n",
        "       [ 1.13936439,  1.85195512,  1.57210595,  0.09882318],\n",
        "       [ 1.0403823 ,  2.00026217,  1.47483388,  0.23206497],\n",
        "       [ 1.04376749,  1.84537899,  1.66228469,  0.33322321],\n",
        "       [ 1.03313532,  1.74742472,  1.49293138,  0.11882843],\n",
        "       [ 1.2298438 ,  1.51172552,  1.58047334,  0.27803303],\n",
        "       [ 1.30070792,  1.47720046,  1.69913908,  0.04752289],\n",
        "       [ 1.17366476,  1.80533378,  1.61794877,  0.10349294],\n",
        "       [ 1.08237571,  2.09291337,  1.48592188,  0.04792423],\n",
        "       [ 1.22902482,  2.24978231,  1.54649047,  0.16349114],\n",
        "       [ 1.19116331,  2.41478458,  1.47820125,  0.29812999],\n",
        "       [ 1.26453736,  2.54737106,  1.35890113,  0.31043363],\n",
        "       [ 1.27437732,  2.67747194,  1.46090373,  0.28837054],\n",
        "       [ 1.30402319,  2.62032155,  1.46535056,  0.08827057],\n",
        "       [ 1.27665655,  2.53505724,  1.48245647,  0.12473348],\n",
        "       [ 1.24417181,  2.49028082,  1.52422383,  0.12270857],\n",
        "       [ 1.25793094,  2.52262094,  1.56331433,  0.12913653],\n",
        "       [ 1.35215949,  2.52168121,  1.68103205,  0.15914546],\n",
        "       [ 1.39293643,  2.28452205,  1.77966331,  0.34819333],\n",
        "       [ 1.25553014,  2.25978523,  1.59891762,  0.32588132],\n",
        "       [ 1.26349463,  1.99298079,  1.59492885,  0.24569437],\n",
        "       [ 0.98380203,  1.99743459,  1.39084983,  0.18236038],\n",
        "       [ 1.0374187 ,  1.9817259 ,  1.32801209,  0.27472199],\n",
        "       [ 1.04182131,  1.95182675,  1.25310444,  0.24770816],\n",
        "       [ 0.85441851,  1.89862476,  1.09747421,  0.3161709 ],\n",
        "       [ 0.90374221,  1.88181963,  1.07584322,  0.30284866],\n",
        "       [ 0.85785207,  1.90287571,  1.13758666,  0.30418248],\n",
        "       [ 0.92264114,  1.80721331,  1.17822489,  0.27310478],\n",
        "       [ 0.96059086,  1.96745439,  0.94336428,  0.23440231],\n",
        "       [ 0.95128405,  2.05291673,  0.78440847,  0.11340121],\n",
        "       [ 1.0841632 ,  2.0966032 ,  0.90440382,  0.15287106]])"
       ]
      }
     ],
     "prompt_number": 399
    },
    {
     "cell_type": "code",
     "collapsed": false,
     "input": [
      "#x_A = np.array([0.5*3.0**0.5, 0.0, 0.0,\n",
      "#                -0.5*3.0**0.5, 0.0, 0.0,\n",
      "#                0.0, 0.5, 0.0,\n",
      "#                0.0, -0.5, 0.0])\n",
      "#x_B = np.array([0.25*3.0**0.5, 0.0, 0.0,\n",
      "#                0.25*3.0**0.5, 0.0, 0.0,\n",
      "#                -0.25*3.0**0.5, 0.5, 0.0,\n",
      "#                -0.25*3.0**0.5, -0.5, 0.0])"
     ],
     "language": "python",
     "metadata": {},
     "outputs": [],
     "prompt_number": 400
    },
    {
     "cell_type": "code",
     "collapsed": false,
     "input": [
      "#z_A = mrbm.MRBM(x_A, h, **kwargs)\n",
      "#z_B = mrbm.MRBM(x_B, h, **kwargs)"
     ],
     "language": "python",
     "metadata": {},
     "outputs": [],
     "prompt_number": 401
    },
    {
     "cell_type": "code",
     "collapsed": false,
     "input": [
      "#aaa = z_A.sample(N=N)\n",
      "#print z_A.stat_log\n",
      "#print z_A.stat_log[1,0] - z_A.stat_log[0,0] "
     ],
     "language": "python",
     "metadata": {},
     "outputs": [],
     "prompt_number": 402
    },
    {
     "cell_type": "code",
     "collapsed": false,
     "input": [
      "#print z_A.stat_log"
     ],
     "language": "python",
     "metadata": {},
     "outputs": [],
     "prompt_number": 403
    },
    {
     "cell_type": "code",
     "collapsed": false,
     "input": [
      "#bbb = z_B.sample()\n",
      "#print z_B.stat_log\n",
      "#print 2.0*np.pi + z_B.stat_log[1,0] - z_B.stat_log[0,0] "
     ],
     "language": "python",
     "metadata": {},
     "outputs": [],
     "prompt_number": 404
    },
    {
     "cell_type": "code",
     "collapsed": false,
     "input": [
      "#N = 10**5\n",
      "#z_A.sample(N=N)"
     ],
     "language": "python",
     "metadata": {},
     "outputs": [],
     "prompt_number": 405
    },
    {
     "cell_type": "code",
     "collapsed": false,
     "input": [
      "#z_A.stat_log"
     ],
     "language": "python",
     "metadata": {},
     "outputs": [],
     "prompt_number": 406
    },
    {
     "cell_type": "code",
     "collapsed": false,
     "input": [
      "#plt.plot(z_A.stat_log[1:-1,0], abs(z_A.stat_log[2:,0] - z_A.stat_log[:-2,0])/(2*h), '.')\n",
      "#plt.ylim(0.0, 12.)\n",
      "#plt.xlabel(\"Dihedral angle between triangles\")\n",
      "#plt.ylabel(\"Magnituge of rate of change of the Dihedral angle\")\n",
      "#plt.savefig(\"dihedral_change.png\")"
     ],
     "language": "python",
     "metadata": {},
     "outputs": [],
     "prompt_number": 407
    }
   ],
   "metadata": {}
  }
 ]
}