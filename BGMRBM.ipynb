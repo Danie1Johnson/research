{
 "metadata": {
  "name": "",
  "signature": "sha256:bf012323125d778606b87085191916b70ff584300dc9e2245b32f353f845425e"
 },
 "nbformat": 3,
 "nbformat_minor": 0,
 "worksheets": [
  {
   "cells": [
    {
     "cell_type": "code",
     "collapsed": false,
     "input": [
      "import numpy as np\n",
      "\n",
      "import bga_4_0 as bga\n",
      "import manifold_reflected_brownian_motion as mrbm\n",
      "import triangle_geometry as ti\n",
      "\n",
      "bga = reload(bga)\n",
      "mrbm = reload(mrbm)\n"
     ],
     "language": "python",
     "metadata": {},
     "outputs": [],
     "prompt_number": 26
    },
    {
     "cell_type": "code",
     "collapsed": false,
     "input": [
      "manifold_name = 'building_game'\n",
      "poly_name = 'octahedron'\n",
      "int_num = 2\n",
      "\n",
      "unary_boundary_name = 'self_intersection'\n",
      "binary_boundary_name = 'dihedrals'\n",
      "\n",
      "stat_name = 'test_1'"
     ],
     "language": "python",
     "metadata": {},
     "outputs": [],
     "prompt_number": 27
    },
    {
     "cell_type": "code",
     "collapsed": false,
     "input": [
      "manifold_kwargs = {'poly_name': poly_name, \n",
      "                   'int_num': int_num, \n",
      "                   'fixed_com': True,\n",
      "                   'fixed_rotation': True}\n",
      "unary_boundary_kwargs = {'poly_name': poly_name, 'int_num': int_num}\n",
      "binary_boundary_kwargs = {'poly_name': poly_name, 'int_num': int_num}\n",
      "stat_kwargs = {}"
     ],
     "language": "python",
     "metadata": {},
     "outputs": [],
     "prompt_number": 28
    },
    {
     "cell_type": "code",
     "collapsed": false,
     "input": [
      "err_tol = 10**-12\n",
      "h = 0.05\n",
      "N = 10**6\n",
      "\n",
      "hist_min = 0.0\n",
      "hist_max = 2.0*np.pi\n",
      "hist_bins = 1000"
     ],
     "language": "python",
     "metadata": {},
     "outputs": [],
     "prompt_number": 29
    },
    {
     "cell_type": "code",
     "collapsed": false,
     "input": [
      "kwargs = {'manifold_name': manifold_name,  \n",
      "          'stat_name': stat_name,\n",
      "          'manifold_kwargs': manifold_kwargs,\n",
      "          'stat_kwargs': stat_kwargs,\n",
      "          'record_hist': True, \n",
      "          'hist_min': hist_min, \n",
      "          'hist_max': hist_max, \n",
      "          'hist_bins': hist_bins,\n",
      "          'err_tol': err_tol}"
     ],
     "language": "python",
     "metadata": {},
     "outputs": [],
     "prompt_number": 30
    },
    {
     "cell_type": "code",
     "collapsed": false,
     "input": [
      "x0, links, lengths, faces = bga.load_bg_int(poly_name, int_num)"
     ],
     "language": "python",
     "metadata": {},
     "outputs": [],
     "prompt_number": 31
    },
    {
     "cell_type": "code",
     "collapsed": false,
     "input": [],
     "language": "python",
     "metadata": {},
     "outputs": [],
     "prompt_number": 31
    },
    {
     "cell_type": "code",
     "collapsed": false,
     "input": [
      "z = mrbm.MRBM(x0, h, **kwargs)"
     ],
     "language": "python",
     "metadata": {},
     "outputs": [],
     "prompt_number": 32
    },
    {
     "cell_type": "code",
     "collapsed": false,
     "input": [
      "from numpy.linalg import norms\n",
      "R = ti.sample_SO3()\n",
      "x1 = np.dot(x0.reshape((-1,3)), R).flatten()\n",
      "x2 = np.dot(x0.reshape((-1,3)), R.T).flatten()\n",
      "x3 = z.manifold_reframe(x1, x0)\n",
      "x4 = z.manifold_reframe(x2, x0)\n",
      "x5 = z.manifold_reframe(x0, x1)\n",
      "x6 = z.manifold_reframe(x0, x2)\n",
      "print norm(x0 - x1)\n",
      "print norm(x0 - x2)\n",
      "print norm(x0 - x3)\n",
      "print norm(x0 - x4)\n",
      "print norm(x0 - x5)\n",
      "print norm(x0 - x6)"
     ],
     "language": "python",
     "metadata": {},
     "outputs": [
      {
       "output_type": "stream",
       "stream": "stdout",
       "text": [
        "1.98437607681\n",
        "1.98437607681\n",
        "3.25481464915e-16\n",
        "2.96348452778e-16\n",
        "1.98437607681\n",
        "1.98437607681\n"
       ]
      }
     ],
     "prompt_number": 33
    },
    {
     "cell_type": "code",
     "collapsed": false,
     "input": [
      "bga.bg_animation(z, faces)"
     ],
     "language": "python",
     "metadata": {},
     "outputs": [],
     "prompt_number": 34
    }
   ],
   "metadata": {}
  }
 ]
}