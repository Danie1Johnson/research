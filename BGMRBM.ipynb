{
 "metadata": {
  "name": "",
  "signature": "sha256:fc9060302a9c0afc703fab4c670ff0d38bd0ef1bb1b8b22ccbeabccc90d9eddf"
 },
 "nbformat": 3,
 "nbformat_minor": 0,
 "worksheets": [
  {
   "cells": [
    {
     "cell_type": "code",
     "collapsed": false,
     "input": [
      "%matplotlib inline"
     ],
     "language": "python",
     "metadata": {},
     "outputs": [],
     "prompt_number": 258
    },
    {
     "cell_type": "code",
     "collapsed": false,
     "input": [
      "import numpy as np\n",
      "\n",
      "import bga_4_0 as bga\n",
      "import manifold_reflected_brownian_motion as mrbm\n",
      "import triangle_geometry as ti\n",
      "import matplotlib.pyplot as plt\n",
      "\n",
      "bga = reload(bga)\n",
      "mrbm = reload(mrbm)\n"
     ],
     "language": "python",
     "metadata": {},
     "outputs": [],
     "prompt_number": 259
    },
    {
     "cell_type": "code",
     "collapsed": false,
     "input": [
      "manifold_name = 'building_game'\n",
      "poly_name = 'octahedron'\n",
      "int_num = 2\n",
      "\n",
      "unary_boundary_name = 'self_intersection'\n",
      "binary_boundary_name = 'dihedrals'\n",
      "\n",
      "stat_name = 'test_1'"
     ],
     "language": "python",
     "metadata": {},
     "outputs": [],
     "prompt_number": 260
    },
    {
     "cell_type": "code",
     "collapsed": false,
     "input": [
      "manifold_kwargs = {'poly_name': poly_name, \n",
      "                   'int_num': int_num, \n",
      "                   'fixed_com': True,\n",
      "                   'fixed_rotation': True}\n",
      "unary_boundary_kwargs = {'poly_name': poly_name, 'int_num': int_num}\n",
      "binary_boundary_kwargs = {'poly_name': poly_name, 'int_num': int_num}\n",
      "stat_kwargs = {}"
     ],
     "language": "python",
     "metadata": {},
     "outputs": [],
     "prompt_number": 261
    },
    {
     "cell_type": "code",
     "collapsed": false,
     "input": [
      "err_tol = 10**-12\n",
      "h = 0.05\n",
      "N = 10**6\n",
      "\n",
      "hist_min = 0.0\n",
      "hist_max = 2.0*np.pi\n",
      "hist_bins = 1000"
     ],
     "language": "python",
     "metadata": {},
     "outputs": [],
     "prompt_number": 262
    },
    {
     "cell_type": "code",
     "collapsed": false,
     "input": [
      "kwargs = {'manifold_name': manifold_name,  \n",
      "          'stat_name': stat_name,\n",
      "          'manifold_kwargs': manifold_kwargs,\n",
      "          'stat_kwargs': stat_kwargs,\n",
      "          'record_hist': True, \n",
      "          'hist_min': hist_min, \n",
      "          'hist_max': hist_max, \n",
      "          'hist_bins': hist_bins,\n",
      "          'err_tol': err_tol}"
     ],
     "language": "python",
     "metadata": {},
     "outputs": [],
     "prompt_number": 263
    },
    {
     "cell_type": "code",
     "collapsed": false,
     "input": [
      "x0, links, lengths, faces = bga.load_bg_int(poly_name, int_num)"
     ],
     "language": "python",
     "metadata": {},
     "outputs": [],
     "prompt_number": 264
    },
    {
     "cell_type": "code",
     "collapsed": false,
     "input": [
      "print faces"
     ],
     "language": "python",
     "metadata": {},
     "outputs": [
      {
       "output_type": "stream",
       "stream": "stdout",
       "text": [
        "[[0, 2, 3], [1, 3, 2]]\n"
       ]
      }
     ],
     "prompt_number": 265
    },
    {
     "cell_type": "code",
     "collapsed": false,
     "input": [
      "x_A = np.array([0.5*3.0**0.5, 0.0, 0.0,\n",
      "                -0.5*3.0**0.5, 0.0, 0.0,\n",
      "                0.0, 0.5, 0.0,\n",
      "                0.0, -0.5, 0.0])\n",
      "x_B = np.array([0.25*3.0**0.5, 0.0, 0.0,\n",
      "                0.25*3.0**0.5, 0.0, 0.0,\n",
      "                -0.25*3.0**0.5, 0.5, 0.0,\n",
      "                -0.25*3.0**0.5, -0.5, 0.0])"
     ],
     "language": "python",
     "metadata": {},
     "outputs": [],
     "prompt_number": 266
    },
    {
     "cell_type": "code",
     "collapsed": false,
     "input": [
      "z_A = mrbm.MRBM(x_A, h, **kwargs)\n",
      "z_B = mrbm.MRBM(x_B, h, **kwargs)"
     ],
     "language": "python",
     "metadata": {},
     "outputs": [],
     "prompt_number": 267
    },
    {
     "cell_type": "code",
     "collapsed": false,
     "input": [
      "aaa = z_A.sample()\n",
      "print z_A.stat_log\n",
      "print z_A.stat_log[1,0] - z_A.stat_log[0,0] "
     ],
     "language": "python",
     "metadata": {},
     "outputs": [
      {
       "output_type": "stream",
       "stream": "stdout",
       "text": [
        "____________________\n"
       ]
      },
      {
       "output_type": "stream",
       "stream": "stdout",
       "text": [
        "-"
       ]
      },
      {
       "output_type": "stream",
       "stream": "stdout",
       "text": [
        "-"
       ]
      },
      {
       "output_type": "stream",
       "stream": "stdout",
       "text": [
        "-"
       ]
      },
      {
       "output_type": "stream",
       "stream": "stdout",
       "text": [
        "-"
       ]
      },
      {
       "output_type": "stream",
       "stream": "stdout",
       "text": [
        "-"
       ]
      },
      {
       "output_type": "stream",
       "stream": "stdout",
       "text": [
        "-"
       ]
      },
      {
       "output_type": "stream",
       "stream": "stdout",
       "text": [
        "-"
       ]
      },
      {
       "output_type": "stream",
       "stream": "stdout",
       "text": [
        "-"
       ]
      },
      {
       "output_type": "stream",
       "stream": "stdout",
       "text": [
        "-"
       ]
      },
      {
       "output_type": "stream",
       "stream": "stdout",
       "text": [
        "-"
       ]
      },
      {
       "output_type": "stream",
       "stream": "stdout",
       "text": [
        "-"
       ]
      },
      {
       "output_type": "stream",
       "stream": "stdout",
       "text": [
        "-"
       ]
      },
      {
       "output_type": "stream",
       "stream": "stdout",
       "text": [
        "-"
       ]
      },
      {
       "output_type": "stream",
       "stream": "stdout",
       "text": [
        "-"
       ]
      },
      {
       "output_type": "stream",
       "stream": "stdout",
       "text": [
        "-"
       ]
      },
      {
       "output_type": "stream",
       "stream": "stdout",
       "text": [
        "-"
       ]
      },
      {
       "output_type": "stream",
       "stream": "stdout",
       "text": [
        "-"
       ]
      },
      {
       "output_type": "stream",
       "stream": "stdout",
       "text": [
        "-"
       ]
      },
      {
       "output_type": "stream",
       "stream": "stdout",
       "text": [
        "-"
       ]
      },
      {
       "output_type": "stream",
       "stream": "stdout",
       "text": [
        "[  3.01922304e-17   7.60607926e-17  -5.00000000e-01   2.29052748e-18\n",
        "  -3.70751020e-17  -5.00000000e-01  -2.63924996e-17   1.26053581e-17\n",
        "   5.00000000e-01  -6.09025830e-18  -5.15910488e-17   5.00000000e-01]\n",
        "-"
       ]
      },
      {
       "output_type": "stream",
       "stream": "stdout",
       "text": [
        "\n",
        "[[ 3.14159265]\n",
        " [ 3.5443085 ]]\n",
        "0.402715841581\n"
       ]
      }
     ],
     "prompt_number": 268
    },
    {
     "cell_type": "code",
     "collapsed": false,
     "input": [
      "bbb = z_B.sample()\n",
      "print z_B.stat_log\n",
      "print 2.0*np.pi + z_B.stat_log[1,0] - z_B.stat_log[0,0] "
     ],
     "language": "python",
     "metadata": {},
     "outputs": [
      {
       "output_type": "stream",
       "stream": "stdout",
       "text": [
        "____________________\n"
       ]
      },
      {
       "output_type": "stream",
       "stream": "stdout",
       "text": [
        "-"
       ]
      },
      {
       "output_type": "stream",
       "stream": "stdout",
       "text": [
        "-"
       ]
      },
      {
       "output_type": "stream",
       "stream": "stdout",
       "text": [
        "-"
       ]
      },
      {
       "output_type": "stream",
       "stream": "stdout",
       "text": [
        "-"
       ]
      },
      {
       "output_type": "stream",
       "stream": "stdout",
       "text": [
        "-"
       ]
      },
      {
       "output_type": "stream",
       "stream": "stdout",
       "text": [
        "-"
       ]
      },
      {
       "output_type": "stream",
       "stream": "stdout",
       "text": [
        "-"
       ]
      },
      {
       "output_type": "stream",
       "stream": "stdout",
       "text": [
        "-"
       ]
      },
      {
       "output_type": "stream",
       "stream": "stdout",
       "text": [
        "-"
       ]
      },
      {
       "output_type": "stream",
       "stream": "stdout",
       "text": [
        "-"
       ]
      },
      {
       "output_type": "stream",
       "stream": "stdout",
       "text": [
        "-"
       ]
      },
      {
       "output_type": "stream",
       "stream": "stdout",
       "text": [
        "-"
       ]
      },
      {
       "output_type": "stream",
       "stream": "stdout",
       "text": [
        "-"
       ]
      },
      {
       "output_type": "stream",
       "stream": "stdout",
       "text": [
        "-"
       ]
      },
      {
       "output_type": "stream",
       "stream": "stdout",
       "text": [
        "-"
       ]
      },
      {
       "output_type": "stream",
       "stream": "stdout",
       "text": [
        "-"
       ]
      },
      {
       "output_type": "stream",
       "stream": "stdout",
       "text": [
        "-"
       ]
      },
      {
       "output_type": "stream",
       "stream": "stdout",
       "text": [
        "-"
       ]
      },
      {
       "output_type": "stream",
       "stream": "stdout",
       "text": [
        "-"
       ]
      },
      {
       "output_type": "stream",
       "stream": "stdout",
       "text": [
        "[ -1.26129309e-16  -7.73619172e-17   7.07106781e-01   1.95079248e-17\n",
        "   5.59032302e-17  -7.07106781e-01   2.72295362e-17   6.92774535e-17\n",
        "  -1.11022302e-16   7.93918476e-17  -4.78187665e-17  -5.55111512e-17]\n",
        "-"
       ]
      },
      {
       "output_type": "stream",
       "stream": "stdout",
       "text": [
        "\n",
        "[[ 6.28318531]\n",
        " [ 5.9993912 ]]\n",
        "5.99939119797\n"
       ]
      }
     ],
     "prompt_number": 269
    },
    {
     "cell_type": "code",
     "collapsed": false,
     "input": [
      "N = 10**5\n",
      "#z_A.sample(N=N)"
     ],
     "language": "python",
     "metadata": {},
     "outputs": [],
     "prompt_number": 270
    },
    {
     "cell_type": "code",
     "collapsed": false,
     "input": [
      "#z_A.stat_log"
     ],
     "language": "python",
     "metadata": {},
     "outputs": [],
     "prompt_number": 271
    },
    {
     "cell_type": "code",
     "collapsed": false,
     "input": [
      "plt.plot(z_A.stat_log[1:-1,0], abs(z_A.stat_log[2:,0] - z_A.stat_log[:-2,0])/(2*h), '.')\n",
      "plt.ylim(0.0, 12.)\n",
      "plt.xlabel(\"Dihedral angle between triangles\")\n",
      "plt.ylabel(\"Magnituge of rate of change of the Dihedral angle\")\n",
      "#plt.savefig(\"dihedral_change.png\")"
     ],
     "language": "python",
     "metadata": {},
     "outputs": [
      {
       "metadata": {},
       "output_type": "pyout",
       "prompt_number": 272,
       "text": [
        "<matplotlib.text.Text at 0x7f2c8c30ed50>"
       ]
      },
      {
       "metadata": {},
       "output_type": "display_data",
       "png": "[encoded data removed]",
       "text": [
        "<matplotlib.figure.Figure at 0x7f2c8cf19950>"
       ]
      }
     ],
     "prompt_number": 272
    }
   ],
   "metadata": {}
  }
 ]
}