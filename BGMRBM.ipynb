{
 "metadata": {
  "name": "",
  "signature": "sha256:c905d8eaf4b1e4eed7405d1dba99bbc8c02837f436ba58cc5edae2b453dd7cd4"
 },
 "nbformat": 3,
 "nbformat_minor": 0,
 "worksheets": [
  {
   "cells": [
    {
     "cell_type": "code",
     "collapsed": false,
     "input": [
      "import numpy as np\n",
      "\n",
      "import bga_4_0 as bga\n",
      "import manifold_reflected_brownian_motion as mrbm\n",
      "\n",
      "bga = reload(bga)\n",
      "mrbm = reload(mrbm)\n"
     ],
     "language": "python",
     "metadata": {},
     "outputs": [],
     "prompt_number": 476
    },
    {
     "cell_type": "code",
     "collapsed": false,
     "input": [
      "poly_name = 'octahedron'\n",
      "int_num = 11\n",
      "\n",
      "#poly_name = 'icosahedron'\n",
      "#int_num = 400\n",
      "\n",
      "\n",
      "manifold_name = poly_name\n",
      "manifold_kwargs = {'int_num': int_num}\n",
      "\n",
      "#boundary_name = 'none'\n",
      "#boundary_kwargs = {}\n",
      "boundary_name = poly_name\n",
      "boundary_kwargs = {'int_num': int_num}\n"
     ],
     "language": "python",
     "metadata": {},
     "outputs": [],
     "prompt_number": 477
    },
    {
     "cell_type": "code",
     "collapsed": false,
     "input": [
      "scheme = 'rej'\n",
      "err_tol = 10**-12\n",
      "h = 0.01\n",
      "N = 1000000\n",
      "run_kwargs = {'N': N}\n",
      "\n",
      "kwargs = {'run_kwargs': run_kwargs, \n",
      "          'err_tol': err_tol,\n",
      "          'manifold_kwargs': manifold_kwargs,\n",
      "          'boundary_kwargs': boundary_kwargs}"
     ],
     "language": "python",
     "metadata": {},
     "outputs": [],
     "prompt_number": 478
    },
    {
     "cell_type": "code",
     "collapsed": false,
     "input": [
      "#n, dim, x0, masses, links, lengths, faces = bga.load_bg_int(poly_name, int_num)\n",
      "x0, links, lengths, faces = bga.load_bg_int(poly_name, int_num)\n",
      "\n",
      "#print x0, links, lengths, faces\n",
      "#print x0.shape, len(links), lengths, faces\n",
      "\n",
      "z = mrbm.MRBM(manifold_name, \n",
      "              boundary_name, \n",
      "              x0, \n",
      "              h, \n",
      "              scheme, \n",
      "              **kwargs)\n",
      "           "
     ],
     "language": "python",
     "metadata": {},
     "outputs": [],
     "prompt_number": 479
    },
    {
     "cell_type": "code",
     "collapsed": false,
     "input": [
      "#bga.bg_animation(z, faces)\n",
      "#z.sample(N=N)"
     ],
     "language": "python",
     "metadata": {},
     "outputs": [],
     "prompt_number": 480
    },
    {
     "cell_type": "code",
     "collapsed": false,
     "input": [
      "#print z.xs\n",
      "print 'done'"
     ],
     "language": "python",
     "metadata": {},
     "outputs": [
      {
       "output_type": "stream",
       "stream": "stdout",
       "text": [
        "done\n"
       ]
      }
     ],
     "prompt_number": 481
    },
    {
     "cell_type": "code",
     "collapsed": false,
     "input": [
      "print faces\n",
      "import numpy as np"
     ],
     "language": "python",
     "metadata": {},
     "outputs": [
      {
       "output_type": "stream",
       "stream": "stdout",
       "text": [
        "[[0, 4, 5], [1, 5, 4], [0, 5, 3], [0, 6, 4], [1, 4, 6], [1, 6, 2]]\n"
       ]
      }
     ],
     "prompt_number": 482
    },
    {
     "cell_type": "code",
     "collapsed": false,
     "input": [
      "#import numpy.linalg\n",
      "\n",
      "#angs = np.array([bga.find_dihedrals(0, 1, z.xs[k,:], faces) for k in range(z.xs.shape[0])])"
     ],
     "language": "python",
     "metadata": {},
     "outputs": [],
     "prompt_number": 483
    },
    {
     "cell_type": "code",
     "collapsed": false,
     "input": [
      "#print angs.shape\n"
     ],
     "language": "python",
     "metadata": {},
     "outputs": [],
     "prompt_number": 484
    },
    {
     "cell_type": "code",
     "collapsed": false,
     "input": [
      "#import matplotlib.pyplot as plt\n",
      "#plt.hist(angs, bins=40)\n",
      "#plt.show()"
     ],
     "language": "python",
     "metadata": {},
     "outputs": [],
     "prompt_number": 485
    },
    {
     "cell_type": "code",
     "collapsed": false,
     "input": [
      "bga.bg_animation(z, faces)"
     ],
     "language": "python",
     "metadata": {},
     "outputs": [],
     "prompt_number": 486
    }
   ],
   "metadata": {}
  }
 ]
}