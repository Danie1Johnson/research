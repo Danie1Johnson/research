{
 "metadata": {
  "name": "",
  "signature": "sha256:bf012323125d778606b87085191916b70ff584300dc9e2245b32f353f845425e"
 },
 "nbformat": 3,
 "nbformat_minor": 0,
 "worksheets": [
  {
   "cells": [
    {
     "cell_type": "code",
     "collapsed": false,
     "input": [
      "import numpy as np\n",
      "\n",
      "import bga_4_0 as bga\n",
      "import manifold_reflected_brownian_motion as mrbm\n",
      "\n",
      "bga = reload(bga)\n",
      "mrbm = reload(mrbm)\n"
     ],
     "language": "python",
     "metadata": {},
     "outputs": [],
     "prompt_number": 28
    },
    {
     "cell_type": "code",
     "collapsed": false,
     "input": [
      "poly_name = 'octahedron'\n",
      "int_num = 3\n",
      "\n",
      "#poly_name = 'icosahedron'\n",
      "#int_num = 400\n",
      "\n",
      "stat_name = 'test_2'\n",
      "stat_kwargs = {}\n",
      "\n",
      "manifold_name = poly_name\n",
      "manifold_kwargs = {'int_num': int_num}\n",
      "\n",
      "#boundary_name = 'none'\n",
      "#boundary_kwargs = {}\n",
      "boundary_name = poly_name\n",
      "boundary_kwargs = {'int_num': int_num}\n"
     ],
     "language": "python",
     "metadata": {},
     "outputs": [],
     "prompt_number": 29
    },
    {
     "cell_type": "code",
     "collapsed": false,
     "input": [
      "scheme = 'rej'\n",
      "err_tol = 10**-12\n",
      "h = 0.01\n",
      "N = 1000000\n",
      "run_kwargs = {'N': N}\n",
      "\n",
      "\n",
      "kwargs = {'stat_name': stat_name,\n",
      "          'run_kwargs': run_kwargs, \n",
      "          'err_tol': err_tol,\n",
      "          'manifold_kwargs': manifold_kwargs,\n",
      "          'boundary_kwargs': boundary_kwargs,\n",
      "          'stat_kwargs': stat_kwargs}"
     ],
     "language": "python",
     "metadata": {},
     "outputs": [],
     "prompt_number": 30
    },
    {
     "cell_type": "code",
     "collapsed": false,
     "input": [
      "#n, dim, x0, masses, links, lengths, faces = bga.load_bg_int(poly_name, int_num)\n",
      "x0, links, lengths, faces = bga.load_bg_int(poly_name, int_num)\n",
      "\n",
      "#print x0, links, lengths, faces\n",
      "#print x0.shape, len(links), lengths, faces\n",
      "z = mrbm.MRBM(manifold_name, \n",
      "              boundary_name, \n",
      "              x0, \n",
      "              h, \n",
      "              **kwargs)\n",
      "\n"
     ],
     "language": "python",
     "metadata": {},
     "outputs": [],
     "prompt_number": 31
    },
    {
     "cell_type": "code",
     "collapsed": false,
     "input": [
      "#bga.bg_animation(z, faces)\n",
      "#z.sample(N=N)"
     ],
     "language": "python",
     "metadata": {},
     "outputs": [],
     "prompt_number": 32
    },
    {
     "cell_type": "code",
     "collapsed": false,
     "input": [
      "#print z.xs\n",
      "print 'done'"
     ],
     "language": "python",
     "metadata": {},
     "outputs": [
      {
       "output_type": "stream",
       "stream": "stdout",
       "text": [
        "done\n"
       ]
      }
     ],
     "prompt_number": 33
    },
    {
     "cell_type": "code",
     "collapsed": false,
     "input": [
      "print faces\n",
      "import numpy as np"
     ],
     "language": "python",
     "metadata": {},
     "outputs": [
      {
       "output_type": "stream",
       "stream": "stdout",
       "text": [
        "[[0, 3, 4], [1, 4, 3], [0, 4, 2]]\n"
       ]
      }
     ],
     "prompt_number": 34
    },
    {
     "cell_type": "code",
     "collapsed": false,
     "input": [
      "#import numpy.linalg\n",
      "\n",
      "#angs = np.array([bga.find_dihedrals(0, 1, z.xs[k,:], faces) for k in range(z.xs.shape[0])])"
     ],
     "language": "python",
     "metadata": {},
     "outputs": [],
     "prompt_number": 35
    },
    {
     "cell_type": "code",
     "collapsed": false,
     "input": [
      "#print angs.shape\n"
     ],
     "language": "python",
     "metadata": {},
     "outputs": [],
     "prompt_number": 36
    },
    {
     "cell_type": "code",
     "collapsed": false,
     "input": [
      "#import matplotlib.pyplot as plt\n",
      "#plt.hist(angs, bins=40)\n",
      "#plt.show()"
     ],
     "language": "python",
     "metadata": {},
     "outputs": [],
     "prompt_number": 37
    },
    {
     "cell_type": "code",
     "collapsed": false,
     "input": [
      "bga.bg_animation(z, faces)"
     ],
     "language": "python",
     "metadata": {},
     "outputs": [],
     "prompt_number": 38
    }
   ],
   "metadata": {}
  }
 ]
}