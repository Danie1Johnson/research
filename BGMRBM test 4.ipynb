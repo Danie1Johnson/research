{
 "metadata": {
  "name": "",
  "signature": "sha256:1c487905f9f85fc1b6ae9fa7285c1da3a805ca0b6c69f9efac9ad009bd5ac77f"
 },
 "nbformat": 3,
 "nbformat_minor": 0,
 "worksheets": [
  {
   "cells": [
    {
     "cell_type": "code",
     "collapsed": false,
     "input": [
      "# TEST FIXING OF THE CENTER OF MASS FOR TWO LINKED TRIANGLES. \n",
      "# USE BOTH UNIFORM WEIGHTS AND WEIGHTS PROPORTIONAL TO THE NUMBER OF FACES MEETING AT THE VERTEX"
     ],
     "language": "python",
     "metadata": {},
     "outputs": [],
     "prompt_number": 182
    },
    {
     "cell_type": "code",
     "collapsed": false,
     "input": [
      "%matplotlib inline"
     ],
     "language": "python",
     "metadata": {},
     "outputs": [],
     "prompt_number": 183
    },
    {
     "cell_type": "code",
     "collapsed": false,
     "input": [
      "import datetime\n",
      "dts = str(datetime.datetime.now())\n",
      "date_time_str = dts[:10] + \"-\" + dts[11:13] + \"-\" + dts[14:16]\n",
      "print date_time_str\n"
     ],
     "language": "python",
     "metadata": {},
     "outputs": [
      {
       "output_type": "stream",
       "stream": "stdout",
       "text": [
        "2015-01-28-16-53\n"
       ]
      }
     ],
     "prompt_number": 184
    },
    {
     "cell_type": "code",
     "collapsed": false,
     "input": [
      "import numpy as np\n",
      "\n",
      "import matplotlib.pyplot as plt\n",
      "\n",
      "import bga_4_0 as bga\n",
      "import manifold_reflected_brownian_motion as mrbm\n",
      "\n",
      "bga = reload(bga)\n",
      "mrbm = reload(mrbm)\n"
     ],
     "language": "python",
     "metadata": {},
     "outputs": [],
     "prompt_number": 185
    },
    {
     "cell_type": "code",
     "collapsed": false,
     "input": [
      "poly_name = 'octahedron'\n",
      "int_num = 3"
     ],
     "language": "python",
     "metadata": {},
     "outputs": [],
     "prompt_number": 186
    },
    {
     "cell_type": "code",
     "collapsed": false,
     "input": [
      "boundary_name = poly_name\n",
      "boundary_kwargs = {'int_num': int_num}\n",
      "\n",
      "stat_name = 'test_2'\n",
      "stat_kwargs = {}"
     ],
     "language": "python",
     "metadata": {},
     "outputs": [],
     "prompt_number": 187
    },
    {
     "cell_type": "code",
     "collapsed": false,
     "input": [
      "err_tol = 10**-12\n",
      "h = 0.05\n",
      "N = 5*10**6\n",
      "run_kwargs = {'N': N}"
     ],
     "language": "python",
     "metadata": {},
     "outputs": [],
     "prompt_number": 188
    },
    {
     "cell_type": "code",
     "collapsed": false,
     "input": [
      "x0, links, lengths, faces = bga.load_bg_int(poly_name, int_num)"
     ],
     "language": "python",
     "metadata": {},
     "outputs": [],
     "prompt_number": 189
    },
    {
     "cell_type": "code",
     "collapsed": false,
     "input": [
      "def get_masses(x0, faces):\n",
      "    V = len(x0)/3\n",
      "    masses = np.zeros(V)\n",
      "    for face in faces:\n",
      "        for v in face:\n",
      "            masses[v] += 1.0\n",
      "    return masses\n",
      "\n",
      "print get_masses(x0, faces)        "
     ],
     "language": "python",
     "metadata": {},
     "outputs": [
      {
       "output_type": "stream",
       "stream": "stdout",
       "text": [
        "[ 2.  1.  1.  2.  3.]\n"
       ]
      }
     ],
     "prompt_number": 190
    },
    {
     "cell_type": "code",
     "collapsed": false,
     "input": [
      "manifold_name = poly_name\n",
      "manifold_kwargs_n = {'int_num': int_num, 'fixed_com': False}\n",
      "manifold_kwargs_1 = {'int_num': int_num, 'fixed_com': True}\n",
      "manifold_kwargs_m = {'int_num': int_num, 'fixed_com': True, 'masses': get_masses(x0,faces)}"
     ],
     "language": "python",
     "metadata": {},
     "outputs": [],
     "prompt_number": 191
    },
    {
     "cell_type": "code",
     "collapsed": false,
     "input": [
      "kwargs_n = {'stat_name': stat_name,\n",
      "            'run_kwargs': run_kwargs, \n",
      "            'err_tol': err_tol,\n",
      "            'manifold_kwargs': manifold_kwargs_n,\n",
      "            'boundary_kwargs': {},\n",
      "            'stat_kwargs': stat_kwargs}\n",
      "kwargs_1 = {'stat_name': stat_name,\n",
      "            'run_kwargs': run_kwargs, \n",
      "            'err_tol': err_tol,\n",
      "            'manifold_kwargs': manifold_kwargs_1,\n",
      "            'boundary_kwargs': {},\n",
      "            'stat_kwargs': stat_kwargs}\n",
      "kwargs_m = {'stat_name': stat_name,\n",
      "            'run_kwargs': run_kwargs, \n",
      "            'err_tol': err_tol,\n",
      "            'manifold_kwargs': manifold_kwargs_m,\n",
      "            'boundary_kwargs': {},\n",
      "            'stat_kwargs': stat_kwargs}"
     ],
     "language": "python",
     "metadata": {},
     "outputs": [],
     "prompt_number": 192
    },
    {
     "cell_type": "code",
     "collapsed": false,
     "input": [
      "z_n = mrbm.MRBM(manifold_name, 'none', x0, h, **kwargs_n)\n",
      "z_1 = mrbm.MRBM(manifold_name, 'none', x0, h, **kwargs_1)\n",
      "z_m = mrbm.MRBM(manifold_name, 'none', x0, h, **kwargs_m)"
     ],
     "language": "python",
     "metadata": {},
     "outputs": []
    },
    {
     "cell_type": "code",
     "collapsed": false,
     "input": [
      "s_n = z_n.sample(N=N, record_trace=False, record_stats=True)\n",
      "print 'done'"
     ],
     "language": "python",
     "metadata": {},
     "outputs": []
    },
    {
     "cell_type": "code",
     "collapsed": false,
     "input": [
      "hist_n = plt.hist2d(z_n.stat_log[:,0], z_n.stat_log[:,1], bins=100, normed=True)\n",
      "plt.colorbar()\n",
      "plt.savefig('test_4_n_'+date_time_str+'.png')"
     ],
     "language": "python",
     "metadata": {},
     "outputs": []
    },
    {
     "cell_type": "code",
     "collapsed": false,
     "input": [
      "hist_n_0 = plt.hist(z_n.stat_log[:,0], bins=100, normed=True)\n",
      "plt.savefig('test_4_n_x_'+date_time_str+'.png')"
     ],
     "language": "python",
     "metadata": {},
     "outputs": []
    },
    {
     "cell_type": "code",
     "collapsed": false,
     "input": [
      "hist_n_1 = plt.hist(z_n.stat_log[:,1], bins=100, normed=True)\n",
      "plt.savefig('test_4_n_y_'+date_time_str+'.png')"
     ],
     "language": "python",
     "metadata": {},
     "outputs": []
    },
    {
     "cell_type": "code",
     "collapsed": false,
     "input": [
      "s_1 = z_1.sample(N=N, record_trace=False, record_stats=True)\n",
      "print 'done'"
     ],
     "language": "python",
     "metadata": {},
     "outputs": []
    },
    {
     "cell_type": "code",
     "collapsed": false,
     "input": [
      "hist_1 = plt.hist2d(z_1.stat_log[:,0], z_1.stat_log[:,1], bins=100, normed=True)\n",
      "plt.colorbar()\n",
      "plt.savefig('test_4_1_'+date_time_str+'.png')"
     ],
     "language": "python",
     "metadata": {},
     "outputs": []
    },
    {
     "cell_type": "code",
     "collapsed": false,
     "input": [
      "hist_1_0 = plt.hist(z_1.stat_log[:,0], bins=100, normed=True)\n",
      "plt.savefig('test_4_1_x_'+date_time_str+'.png')\n"
     ],
     "language": "python",
     "metadata": {},
     "outputs": []
    },
    {
     "cell_type": "code",
     "collapsed": false,
     "input": [
      "hist_1_1 = plt.hist(z_1.stat_log[:,1], bins=100, normed=True)\n",
      "plt.savefig('test_4_1_y_'+date_time_str+'.png')\n"
     ],
     "language": "python",
     "metadata": {},
     "outputs": []
    },
    {
     "cell_type": "code",
     "collapsed": false,
     "input": [
      "s_m = z_m.sample(N=N, record_trace=False, record_stats=True)\n",
      "print 'done'"
     ],
     "language": "python",
     "metadata": {},
     "outputs": []
    },
    {
     "cell_type": "code",
     "collapsed": false,
     "input": [
      "hist_m = plt.hist2d(z_m.stat_log[:,0], z_m.stat_log[:,1], bins=100, normed=True)\n",
      "plt.colorbar()\n",
      "plt.savefig('test_4_m_'+date_time_str+'.png')"
     ],
     "language": "python",
     "metadata": {},
     "outputs": []
    },
    {
     "cell_type": "code",
     "collapsed": false,
     "input": [
      "hist_m_0 = plt.hist(z_m.stat_log[:,0], bins=100, normed=True)\n",
      "plt.savefig('test_4_m_x_'+date_time_str+'.png')\n"
     ],
     "language": "python",
     "metadata": {},
     "outputs": []
    },
    {
     "cell_type": "code",
     "collapsed": false,
     "input": [
      "hist_m_1 = plt.hist(z_m.stat_log[:,1], bins=100, normed=True)\n",
      "plt.savefig('test_4_m_y_'+date_time_str+'.png')\n"
     ],
     "language": "python",
     "metadata": {},
     "outputs": []
    }
   ],
   "metadata": {}
  }
 ]
}