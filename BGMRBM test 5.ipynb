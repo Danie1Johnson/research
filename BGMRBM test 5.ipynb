{
 "metadata": {
  "name": "",
  "signature": "sha256:cef34759d7cd9b163a99ca74a9c6eea5bd14159e01db1bc0fcf6da2009e0974f"
 },
 "nbformat": 3,
 "nbformat_minor": 0,
 "worksheets": [
  {
   "cells": [
    {
     "cell_type": "code",
     "collapsed": false,
     "input": [
      "# TEST FIXING OF THE CENTER OF MASS FOR TWO LINKED TRIANGLES. \n",
      "# USE BOTH UNIFORM WEIGHTS AND WEIGHTS PROPORTIONAL TO THE NUMBER OF FACES MEETING AT THE VERTEX"
     ],
     "language": "python",
     "metadata": {},
     "outputs": [],
     "prompt_number": 23
    },
    {
     "cell_type": "code",
     "collapsed": false,
     "input": [
      "%matplotlib inline"
     ],
     "language": "python",
     "metadata": {},
     "outputs": [],
     "prompt_number": 24
    },
    {
     "cell_type": "code",
     "collapsed": false,
     "input": [
      "import datetime\n",
      "dts = str(datetime.datetime.now())\n",
      "date_time_str = dts[:10] + \"-\" + dts[11:13] + \"-\" + dts[14:16]\n",
      "print date_time_str\n"
     ],
     "language": "python",
     "metadata": {},
     "outputs": [
      {
       "output_type": "stream",
       "stream": "stdout",
       "text": [
        "2015-02-02-15-18\n"
       ]
      }
     ],
     "prompt_number": 25
    },
    {
     "cell_type": "code",
     "collapsed": false,
     "input": [
      "import numpy as np\n",
      "\n",
      "import matplotlib.pyplot as plt\n",
      "\n",
      "import bga_4_0 as bga\n",
      "import manifold_reflected_brownian_motion as mrbm\n",
      "\n",
      "bga = reload(bga)\n",
      "mrbm = reload(mrbm)"
     ],
     "language": "python",
     "metadata": {},
     "outputs": [],
     "prompt_number": 26
    },
    {
     "cell_type": "code",
     "collapsed": false,
     "input": [
      "def get_masses(x0, faces):\n",
      "    V = len(x0)/3\n",
      "    masses = np.zeros(V)\n",
      "    for face in faces:\n",
      "        for v in face:\n",
      "            masses[v] += 1.0\n",
      "    return masses   "
     ],
     "language": "python",
     "metadata": {},
     "outputs": [],
     "prompt_number": 27
    },
    {
     "cell_type": "code",
     "collapsed": false,
     "input": [
      "save_images = False"
     ],
     "language": "python",
     "metadata": {},
     "outputs": [],
     "prompt_number": 28
    },
    {
     "cell_type": "code",
     "collapsed": false,
     "input": [
      "manifold_name = 'building_game'\n",
      "poly_name = 'octahedron'\n",
      "int_num = 2"
     ],
     "language": "python",
     "metadata": {},
     "outputs": [],
     "prompt_number": 29
    },
    {
     "cell_type": "code",
     "collapsed": false,
     "input": [
      "stat_name = 'test_1'"
     ],
     "language": "python",
     "metadata": {},
     "outputs": [],
     "prompt_number": 30
    },
    {
     "cell_type": "code",
     "collapsed": false,
     "input": [
      "err_tol = 10**-12\n",
      "h = 0.05\n",
      "N = 10**7\n",
      "\n",
      "hist_min = 0.0\n",
      "hist_max = 2.0*np.pi\n",
      "hist_bins = 1000"
     ],
     "language": "python",
     "metadata": {},
     "outputs": [],
     "prompt_number": 31
    },
    {
     "cell_type": "code",
     "collapsed": false,
     "input": [
      "x0, links, lengths, faces = bga.load_bg_int(poly_name, int_num)"
     ],
     "language": "python",
     "metadata": {},
     "outputs": [],
     "prompt_number": 32
    },
    {
     "cell_type": "code",
     "collapsed": false,
     "input": [
      "manifold_kwargs_n = {'poly_name': poly_name, 'int_num': int_num, 'fixed_com': False}\n",
      "manifold_kwargs_1 = {'poly_name': poly_name, 'int_num': int_num, 'fixed_com': True}\n",
      "manifold_kwargs_m = {'poly_name': poly_name, 'int_num': int_num, 'fixed_com': True, 'masses': get_masses(x0,faces)}\n",
      "manifold_kwargs_i = {'poly_name': poly_name, 'int_num': int_num, 'fixed_com': True, 'masses': 1.0/get_masses(x0,faces)}"
     ],
     "language": "python",
     "metadata": {},
     "outputs": [],
     "prompt_number": 33
    },
    {
     "cell_type": "code",
     "collapsed": false,
     "input": [
      "kwargs_n = {'manifold_name': manifold_name,\n",
      "            'stat_name': stat_name, \n",
      "            'record_hist': True, \n",
      "            'hist_min': hist_min, \n",
      "            'hist_max': hist_max, \n",
      "            'hist_bins': hist_bins,\n",
      "            'err_tol': err_tol,\n",
      "            'manifold_kwargs': manifold_kwargs_n}\n",
      "\n",
      "kwargs_1 = {'manifold_name': manifold_name,\n",
      "            'stat_name': stat_name, \n",
      "            'record_hist': True, \n",
      "            'hist_min': hist_min, \n",
      "            'hist_max': hist_max, \n",
      "            'hist_bins': hist_bins,\n",
      "            'err_tol': err_tol,\n",
      "            'manifold_kwargs': manifold_kwargs_1}\n",
      "\n",
      "kwargs_m = {'manifold_name': manifold_name,\n",
      "            'stat_name': stat_name, \n",
      "            'record_hist': True, \n",
      "            'hist_min': hist_min, \n",
      "            'hist_max': hist_max, \n",
      "            'hist_bins': hist_bins,\n",
      "            'err_tol': err_tol,\n",
      "            'manifold_kwargs': manifold_kwargs_m}\n",
      "\n",
      "kwargs_i = {'manifold_name': manifold_name,\n",
      "            'stat_name': stat_name,\n",
      "            'record_hist': True, \n",
      "            'hist_min': hist_min, \n",
      "            'hist_max': hist_max, \n",
      "            'hist_bins': hist_bins,\n",
      "            'err_tol': err_tol,\n",
      "            'manifold_kwargs': manifold_kwargs_i}"
     ],
     "language": "python",
     "metadata": {},
     "outputs": [],
     "prompt_number": 34
    },
    {
     "cell_type": "code",
     "collapsed": false,
     "input": [
      "z_n = mrbm.MRBM(x0, h, **kwargs_n)\n",
      "z_1 = mrbm.MRBM(x0, h, **kwargs_1)\n",
      "z_m = mrbm.MRBM(x0, h, **kwargs_m)\n",
      "z_i = mrbm.MRBM(x0, h, **kwargs_i)"
     ],
     "language": "python",
     "metadata": {},
     "outputs": [],
     "prompt_number": 35
    },
    {
     "cell_type": "code",
     "collapsed": false,
     "input": [
      "x_range = np.linspace(0.0, 2.0*np.pi)\n",
      "a = 0.5/np.pi\n",
      "b = -a*0.1\n",
      "c = -a*0.1\n",
      "ys = a + b*np.cos(x_range) + c*np.cos(2*x_range)"
     ],
     "language": "python",
     "metadata": {},
     "outputs": [],
     "prompt_number": 36
    },
    {
     "cell_type": "code",
     "collapsed": false,
     "input": [
      "s_n = z_n.sample(N=N, record_trace=False, record_stats=False)\n",
      "print 'done'"
     ],
     "language": "python",
     "metadata": {},
     "outputs": [
      {
       "output_type": "stream",
       "stream": "stdout",
       "text": [
        "done\n"
       ]
      }
     ],
     "prompt_number": 37
    },
    {
     "cell_type": "code",
     "collapsed": false,
     "input": [
      "hist_n_0 = plt.hist(z_n.hist.midpoints, weights=z_n.hist.hist[0,:], bins=100, normed=True)\n",
      "pp = plt.plot(x_range, ys, 'r')\n",
      "if save_images == True:\n",
      "    plt.savefig('test_5_n_'+date_time_str+'.png')"
     ],
     "language": "python",
     "metadata": {},
     "outputs": [
      {
       "metadata": {},
       "output_type": "display_data",
       "png": "[encoded data removed]",
       "text": [
        "<matplotlib.figure.Figure at 0x7f8fb37ce210>"
       ]
      }
     ],
     "prompt_number": 38
    },
    {
     "cell_type": "code",
     "collapsed": false,
     "input": [
      "s_1 = z_1.sample(N=N, record_trace=False, record_stats=True)\n",
      "print 'done'"
     ],
     "language": "python",
     "metadata": {},
     "outputs": [
      {
       "output_type": "stream",
       "stream": "stdout",
       "text": [
        "done\n"
       ]
      }
     ],
     "prompt_number": 39
    },
    {
     "cell_type": "code",
     "collapsed": false,
     "input": [
      "hist_1_0 = plt.hist(z_1.hist.midpoints, weights=z_1.hist.hist[0,:], bins=100, normed=True)\n",
      "pp = plt.plot(x_range, ys, 'r')\n",
      "if save_images == True:\n",
      "    plt.savefig('test_5_1_'+date_time_str+'.png')"
     ],
     "language": "python",
     "metadata": {},
     "outputs": [
      {
       "metadata": {},
       "output_type": "display_data",
       "png": "[encoded data removed]",
       "text": [
        "<matplotlib.figure.Figure at 0x7f8fad571750>"
       ]
      }
     ],
     "prompt_number": 40
    },
    {
     "cell_type": "code",
     "collapsed": false,
     "input": [
      "s_m = z_m.sample(N=N, record_trace=False, record_stats=True)\n",
      "print 'done'"
     ],
     "language": "python",
     "metadata": {},
     "outputs": [
      {
       "output_type": "stream",
       "stream": "stdout",
       "text": [
        "done\n"
       ]
      }
     ],
     "prompt_number": 41
    },
    {
     "cell_type": "code",
     "collapsed": false,
     "input": [
      "hist_m_0 = plt.hist(z_m.hist.midpoints, weights=z_m.hist.hist[0,:], bins=100, normed=True)\n",
      "pp = plt.plot(x_range, ys, 'r')\n",
      "if save_images == True:\n",
      "    plt.savefig('test_5_m_'+date_time_str+'.png')"
     ],
     "language": "python",
     "metadata": {},
     "outputs": [
      {
       "metadata": {},
       "output_type": "display_data",
       "png": "[encoded data removed]",
       "text": [
        "<matplotlib.figure.Figure at 0x7f8fada85150>"
       ]
      }
     ],
     "prompt_number": 42
    },
    {
     "cell_type": "code",
     "collapsed": false,
     "input": [
      "s_i = z_i.sample(N=N, record_trace=False, record_stats=True)\n",
      "print 'done'"
     ],
     "language": "python",
     "metadata": {},
     "outputs": [
      {
       "output_type": "stream",
       "stream": "stdout",
       "text": [
        "done\n"
       ]
      }
     ],
     "prompt_number": 43
    },
    {
     "cell_type": "code",
     "collapsed": false,
     "input": [
      "hist_i_0 = plt.hist(z_i.hist.midpoints, weights=z_i.hist.hist[0,:], bins=100, normed=True)\n",
      "pp = plt.plot(x_range, ys, 'r')\n",
      "if save_images == True:\n",
      "    plt.savefig('test_5_i_'+date_time_str+'.png')"
     ],
     "language": "python",
     "metadata": {},
     "outputs": [
      {
       "metadata": {},
       "output_type": "display_data",
       "png": "[encoded data removed]",
       "text": [
        "<matplotlib.figure.Figure at 0x7f8fad647810>"
       ]
      }
     ],
     "prompt_number": 44
    }
   ],
   "metadata": {}
  }
 ]
}