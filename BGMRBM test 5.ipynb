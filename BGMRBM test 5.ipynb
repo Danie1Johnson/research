{
 "metadata": {
  "name": "",
  "signature": "sha256:0c3080b9ccb6413d44c6be691937e829545795f6e05ed045d3d1190f781a0742"
 },
 "nbformat": 3,
 "nbformat_minor": 0,
 "worksheets": [
  {
   "cells": [
    {
     "cell_type": "code",
     "collapsed": false,
     "input": [
      "# TEST FIXING OF THE CENTER OF MASS FOR TWO LINKED TRIANGLES. \n",
      "# USE BOTH UNIFORM WEIGHTS AND WEIGHTS PROPORTIONAL TO THE NUMBER OF FACES MEETING AT THE VERTEX"
     ],
     "language": "python",
     "metadata": {},
     "outputs": [],
     "prompt_number": 211
    },
    {
     "cell_type": "code",
     "collapsed": false,
     "input": [
      "%matplotlib inline"
     ],
     "language": "python",
     "metadata": {},
     "outputs": [],
     "prompt_number": 212
    },
    {
     "cell_type": "code",
     "collapsed": false,
     "input": [
      "import datetime\n",
      "dts = str(datetime.datetime.now())\n",
      "date_time_str = dts[:10] + \"-\" + dts[11:13] + \"-\" + dts[14:16]\n",
      "print date_time_str\n"
     ],
     "language": "python",
     "metadata": {},
     "outputs": [
      {
       "output_type": "stream",
       "stream": "stdout",
       "text": [
        "2015-01-31-18-54\n"
       ]
      }
     ],
     "prompt_number": 213
    },
    {
     "cell_type": "code",
     "collapsed": false,
     "input": [
      "import numpy as np\n",
      "\n",
      "import matplotlib.pyplot as plt\n",
      "\n",
      "import bga_4_0 as bga\n",
      "import manifold_reflected_brownian_motion as mrbm\n",
      "\n",
      "bga = reload(bga)\n",
      "mrbm = reload(mrbm)\n"
     ],
     "language": "python",
     "metadata": {},
     "outputs": [],
     "prompt_number": 214
    },
    {
     "cell_type": "code",
     "collapsed": false,
     "input": [
      "def get_masses(x0, faces):\n",
      "    V = len(x0)/3\n",
      "    masses = np.zeros(V)\n",
      "    for face in faces:\n",
      "        for v in face:\n",
      "            masses[v] += 1.0\n",
      "    return masses   "
     ],
     "language": "python",
     "metadata": {},
     "outputs": [],
     "prompt_number": 215
    },
    {
     "cell_type": "code",
     "collapsed": false,
     "input": [
      "poly_name = 'octahedron'\n",
      "int_num = 2"
     ],
     "language": "python",
     "metadata": {},
     "outputs": [],
     "prompt_number": 216
    },
    {
     "cell_type": "code",
     "collapsed": false,
     "input": [
      "boundary_name = poly_name\n",
      "boundary_kwargs = {'int_num': int_num}\n",
      "\n",
      "stat_name = 'test_1'\n",
      "stat_kwargs = {}"
     ],
     "language": "python",
     "metadata": {},
     "outputs": [],
     "prompt_number": 217
    },
    {
     "cell_type": "code",
     "collapsed": false,
     "input": [
      "err_tol = 10**-12\n",
      "h = 0.05\n",
      "N = 10**2\n",
      "hist_min = 0.0\n",
      "hist_max = 2.0*np.pi\n",
      "hist_bins = 1000"
     ],
     "language": "python",
     "metadata": {},
     "outputs": [],
     "prompt_number": 218
    },
    {
     "cell_type": "code",
     "collapsed": false,
     "input": [
      "x0, links, lengths, faces = bga.load_bg_int(poly_name, int_num)"
     ],
     "language": "python",
     "metadata": {},
     "outputs": [],
     "prompt_number": 219
    },
    {
     "cell_type": "code",
     "collapsed": false,
     "input": [
      "manifold_name = poly_name\n",
      "manifold_kwargs_n = {'poly_name': poly_name, 'int_num': int_num, 'fixed_com': False}\n",
      "manifold_kwargs_1 = {'poly_name': poly_name, 'int_num': int_num, 'fixed_com': True}\n",
      "manifold_kwargs_m = {'poly_name': poly_name, 'int_num': int_num, 'fixed_com': True, 'masses': get_masses(x0,faces)}\n",
      "manifold_kwargs_i = {'poly_name': poly_name, 'int_num': int_num, 'fixed_com': True, 'masses': 1.0/get_masses(x0,faces)}"
     ],
     "language": "python",
     "metadata": {},
     "outputs": [],
     "prompt_number": 220
    },
    {
     "cell_type": "code",
     "collapsed": false,
     "input": [
      "\n",
      "\n",
      "kwargs_n = {'stat_name': stat_name, \n",
      "            'record_hist': True, \n",
      "            'hist_min': hist_min, \n",
      "            'hist_max': hist_max, \n",
      "            'hist_bins': hist_bins,\n",
      "            'err_tol': err_tol,\n",
      "            'manifold_kwargs': manifold_kwargs_n,\n",
      "            'boundary_kwargs': {},\n",
      "            'stat_kwargs': stat_kwargs}\n",
      "kwargs_1 = {'stat_name': stat_name, \n",
      "            'record_hist': True, \n",
      "            'hist_min': hist_min, \n",
      "            'hist_max': hist_max, \n",
      "            'hist_bins': hist_bins,\n",
      "            'err_tol': err_tol,\n",
      "            'manifold_kwargs': manifold_kwargs_1,\n",
      "            'boundary_kwargs': {},\n",
      "            'stat_kwargs': stat_kwargs}\n",
      "kwargs_m = {'stat_name': stat_name, \n",
      "            'record_hist': True, \n",
      "            'hist_min': hist_min, \n",
      "            'hist_max': hist_max, \n",
      "            'hist_bins': hist_bins,\n",
      "            'err_tol': err_tol,\n",
      "            'manifold_kwargs': manifold_kwargs_m,\n",
      "            'boundary_kwargs': {},\n",
      "            'stat_kwargs': stat_kwargs}\n",
      "kwargs_i = {'stat_name': stat_name,\n",
      "            'record_hist': True, \n",
      "            'hist_min': hist_min, \n",
      "            'hist_max': hist_max, \n",
      "            'hist_bins': hist_bins,\n",
      "            'err_tol': err_tol,\n",
      "            'manifold_kwargs': manifold_kwargs_i,\n",
      "            'boundary_kwargs': {},\n",
      "            'stat_kwargs': stat_kwargs}"
     ],
     "language": "python",
     "metadata": {},
     "outputs": [],
     "prompt_number": 221
    },
    {
     "cell_type": "code",
     "collapsed": false,
     "input": [
      "z_n = mrbm.MRBM('building_game', 'none', x0, h, **kwargs_n)\n",
      "z_1 = mrbm.MRBM('building_game', 'none', x0, h, **kwargs_1)\n",
      "z_m = mrbm.MRBM('building_game', 'none', x0, h, **kwargs_m)\n",
      "z_i = mrbm.MRBM('building_game', 'none', x0, h, **kwargs_i)"
     ],
     "language": "python",
     "metadata": {},
     "outputs": [
      {
       "ename": "NameError",
       "evalue": "global name 'dim' is not defined",
       "output_type": "pyerr",
       "traceback": [
        "\u001b[1;31m---------------------------------------------------------------------------\u001b[0m\n\u001b[1;31mNameError\u001b[0m                                 Traceback (most recent call last)",
        "\u001b[1;32m<ipython-input-222-8bd8053d206d>\u001b[0m in \u001b[0;36m<module>\u001b[1;34m()\u001b[0m\n\u001b[1;32m----> 1\u001b[1;33m \u001b[0mz_n\u001b[0m \u001b[1;33m=\u001b[0m \u001b[0mmrbm\u001b[0m\u001b[1;33m.\u001b[0m\u001b[0mMRBM\u001b[0m\u001b[1;33m(\u001b[0m\u001b[1;34m'building_game'\u001b[0m\u001b[1;33m,\u001b[0m \u001b[1;34m'none'\u001b[0m\u001b[1;33m,\u001b[0m \u001b[0mx0\u001b[0m\u001b[1;33m,\u001b[0m \u001b[0mh\u001b[0m\u001b[1;33m,\u001b[0m \u001b[1;33m**\u001b[0m\u001b[0mkwargs_n\u001b[0m\u001b[1;33m)\u001b[0m\u001b[1;33m\u001b[0m\u001b[0m\n\u001b[0m\u001b[0;32m      2\u001b[0m \u001b[0mz_1\u001b[0m \u001b[1;33m=\u001b[0m \u001b[0mmrbm\u001b[0m\u001b[1;33m.\u001b[0m\u001b[0mMRBM\u001b[0m\u001b[1;33m(\u001b[0m\u001b[1;34m'building_game'\u001b[0m\u001b[1;33m,\u001b[0m \u001b[1;34m'none'\u001b[0m\u001b[1;33m,\u001b[0m \u001b[0mx0\u001b[0m\u001b[1;33m,\u001b[0m \u001b[0mh\u001b[0m\u001b[1;33m,\u001b[0m \u001b[1;33m**\u001b[0m\u001b[0mkwargs_1\u001b[0m\u001b[1;33m)\u001b[0m\u001b[1;33m\u001b[0m\u001b[0m\n\u001b[0;32m      3\u001b[0m \u001b[0mz_m\u001b[0m \u001b[1;33m=\u001b[0m \u001b[0mmrbm\u001b[0m\u001b[1;33m.\u001b[0m\u001b[0mMRBM\u001b[0m\u001b[1;33m(\u001b[0m\u001b[1;34m'building_game'\u001b[0m\u001b[1;33m,\u001b[0m \u001b[1;34m'none'\u001b[0m\u001b[1;33m,\u001b[0m \u001b[0mx0\u001b[0m\u001b[1;33m,\u001b[0m \u001b[0mh\u001b[0m\u001b[1;33m,\u001b[0m \u001b[1;33m**\u001b[0m\u001b[0mkwargs_m\u001b[0m\u001b[1;33m)\u001b[0m\u001b[1;33m\u001b[0m\u001b[0m\n\u001b[0;32m      4\u001b[0m \u001b[0mz_i\u001b[0m \u001b[1;33m=\u001b[0m \u001b[0mmrbm\u001b[0m\u001b[1;33m.\u001b[0m\u001b[0mMRBM\u001b[0m\u001b[1;33m(\u001b[0m\u001b[1;34m'building_game'\u001b[0m\u001b[1;33m,\u001b[0m \u001b[1;34m'none'\u001b[0m\u001b[1;33m,\u001b[0m \u001b[0mx0\u001b[0m\u001b[1;33m,\u001b[0m \u001b[0mh\u001b[0m\u001b[1;33m,\u001b[0m \u001b[1;33m**\u001b[0m\u001b[0mkwargs_i\u001b[0m\u001b[1;33m)\u001b[0m\u001b[1;33m\u001b[0m\u001b[0m\n",
        "\u001b[1;32m/home/daniel/School/research/manifold_reflected_brownian_motion.pyc\u001b[0m in \u001b[0;36m__init__\u001b[1;34m(self, manifold_name, boundary_name, x0, h, stat_name, record_hist, hist_min, hist_max, hist_bins, manifold_kwargs, boundary_kwargs, stat_kwargs, err_tol, Sig)\u001b[0m\n\u001b[0;32m     45\u001b[0m         \"\"\"\n\u001b[0;32m     46\u001b[0m         \u001b[1;31m# Manifold and Boundary functions\u001b[0m\u001b[1;33m\u001b[0m\u001b[1;33m\u001b[0m\u001b[0m\n\u001b[1;32m---> 47\u001b[1;33m         \u001b[0mself\u001b[0m\u001b[1;33m.\u001b[0m\u001b[0mc\u001b[0m\u001b[1;33m,\u001b[0m \u001b[0mself\u001b[0m\u001b[1;33m.\u001b[0m\u001b[0mC\u001b[0m \u001b[1;33m=\u001b[0m \u001b[0mmfs\u001b[0m\u001b[1;33m.\u001b[0m\u001b[0mget_manifold\u001b[0m\u001b[1;33m(\u001b[0m\u001b[0mmanifold_name\u001b[0m\u001b[1;33m,\u001b[0m \u001b[0mkwargs\u001b[0m\u001b[1;33m=\u001b[0m\u001b[0mmanifold_kwargs\u001b[0m\u001b[1;33m)\u001b[0m\u001b[1;33m\u001b[0m\u001b[0m\n\u001b[0m\u001b[0;32m     48\u001b[0m         \u001b[0mself\u001b[0m\u001b[1;33m.\u001b[0m\u001b[0mboundary\u001b[0m \u001b[1;33m=\u001b[0m \u001b[0mbds\u001b[0m\u001b[1;33m.\u001b[0m\u001b[0mget_boundary\u001b[0m\u001b[1;33m(\u001b[0m\u001b[0mboundary_name\u001b[0m\u001b[1;33m,\u001b[0m \u001b[0mkwargs\u001b[0m\u001b[1;33m=\u001b[0m\u001b[0mboundary_kwargs\u001b[0m\u001b[1;33m)\u001b[0m\u001b[1;33m\u001b[0m\u001b[0m\n\u001b[0;32m     49\u001b[0m         \u001b[0mself\u001b[0m\u001b[1;33m.\u001b[0m\u001b[0mmanifold_name\u001b[0m \u001b[1;33m=\u001b[0m \u001b[0mmanifold_name\u001b[0m\u001b[1;33m\u001b[0m\u001b[0m\n",
        "\u001b[1;32m/home/daniel/School/research/manifolds.pyc\u001b[0m in \u001b[0;36mget_manifold\u001b[1;34m(manifold_name, kwargs)\u001b[0m\n\u001b[0;32m     14\u001b[0m     \u001b[0mUse\u001b[0m \u001b[0mmanifold\u001b[0m \u001b[0mname\u001b[0m \u001b[0mto\u001b[0m \u001b[0mfind\u001b[0m \u001b[1;32mand\u001b[0m \u001b[1;32mreturn\u001b[0m \u001b[0mconstraint\u001b[0m \u001b[0mfunctions\u001b[0m\u001b[1;33m.\u001b[0m\u001b[1;33m\u001b[0m\u001b[0m\n\u001b[0;32m     15\u001b[0m     \"\"\"\n\u001b[1;32m---> 16\u001b[1;33m     \u001b[1;32mreturn\u001b[0m \u001b[0mglobals\u001b[0m\u001b[1;33m(\u001b[0m\u001b[1;33m)\u001b[0m\u001b[1;33m[\u001b[0m\u001b[0mmanifold_name\u001b[0m\u001b[1;33m]\u001b[0m\u001b[1;33m(\u001b[0m\u001b[1;33m**\u001b[0m\u001b[0mkwargs\u001b[0m\u001b[1;33m)\u001b[0m\u001b[1;33m\u001b[0m\u001b[0m\n\u001b[0m\u001b[0;32m     17\u001b[0m \u001b[1;33m\u001b[0m\u001b[0m\n\u001b[0;32m     18\u001b[0m     \u001b[1;32mtry\u001b[0m\u001b[1;33m:\u001b[0m\u001b[1;33m\u001b[0m\u001b[0m\n",
        "\u001b[1;32m/home/daniel/School/research/manifolds.pyc\u001b[0m in \u001b[0;36mbuilding_game\u001b[1;34m(poly_name, int_num, fixed_face, fixed_inds, fixed_vals, fixed_com, masses)\u001b[0m\n\u001b[0;32m     51\u001b[0m                    \u001b[0mfixed_com\u001b[0m\u001b[1;33m=\u001b[0m\u001b[0mfixed_com\u001b[0m\u001b[1;33m,\u001b[0m\u001b[1;33m\u001b[0m\u001b[0m\n\u001b[0;32m     52\u001b[0m                    \u001b[0mmasses\u001b[0m\u001b[1;33m=\u001b[0m\u001b[0mmasses\u001b[0m\u001b[1;33m,\u001b[0m\u001b[1;33m\u001b[0m\u001b[0m\n\u001b[1;32m---> 53\u001b[1;33m                    dim=dim)\n\u001b[0m\u001b[0;32m     54\u001b[0m \u001b[1;31m###--------------------------------------------------------------------------\u001b[0m\u001b[1;33m\u001b[0m\u001b[1;33m\u001b[0m\u001b[0m\n\u001b[0;32m     55\u001b[0m \u001b[1;32mdef\u001b[0m \u001b[0msphere\u001b[0m\u001b[1;33m(\u001b[0m\u001b[0mr\u001b[0m\u001b[1;33m=\u001b[0m\u001b[1;36m1.0\u001b[0m\u001b[1;33m)\u001b[0m\u001b[1;33m:\u001b[0m\u001b[1;33m\u001b[0m\u001b[0m\n",
        "\u001b[1;31mNameError\u001b[0m: global name 'dim' is not defined"
       ]
      }
     ],
     "prompt_number": 222
    },
    {
     "cell_type": "code",
     "collapsed": false,
     "input": [
      "x_range = np.linspace(0.0, 2.0*np.pi)\n",
      "\n",
      "a = 0.5/np.pi\n",
      "b = -a*0.1\n",
      "c = -a*0.1\n",
      "\n",
      "ys = a + b*np.cos(x_range) + c*np.cos(2*x_range)"
     ],
     "language": "python",
     "metadata": {},
     "outputs": []
    },
    {
     "cell_type": "code",
     "collapsed": false,
     "input": [
      "s_n = z_n.sample(N=N, record_trace=False, record_stats=True)\n",
      "print 'done'"
     ],
     "language": "python",
     "metadata": {},
     "outputs": []
    },
    {
     "cell_type": "code",
     "collapsed": false,
     "input": [
      "hist_n_0 = plt.hist(z_n.hist.midpoints, weights=z_n.hist.hist[0,:], bins=100, normed=True)\n",
      "pp = plt.plot(x_range, ys, 'r')\n",
      "plt.savefig('test_5_n_'+date_time_str+'.png')"
     ],
     "language": "python",
     "metadata": {},
     "outputs": []
    },
    {
     "cell_type": "code",
     "collapsed": false,
     "input": [
      "s_1 = z_1.sample(N=N, record_trace=False, record_stats=True)\n",
      "print 'done'"
     ],
     "language": "python",
     "metadata": {},
     "outputs": []
    },
    {
     "cell_type": "code",
     "collapsed": false,
     "input": [
      "#hist_1_0 = plt.hist(z_1.stat_log, bins=100, normed=True)\n",
      "hist_1_0 = plt.hist(z_1.hist.midpoints, weights=z_1.hist.hist[0,:], bins=100, normed=True)\n",
      "pp = plt.plot(x_range, ys, 'r')\n",
      "plt.savefig('test_5_1_'+date_time_str+'.png')"
     ],
     "language": "python",
     "metadata": {},
     "outputs": []
    },
    {
     "cell_type": "code",
     "collapsed": false,
     "input": [
      "s_m = z_m.sample(N=N, record_trace=False, record_stats=True)\n",
      "print 'done'"
     ],
     "language": "python",
     "metadata": {},
     "outputs": []
    },
    {
     "cell_type": "code",
     "collapsed": false,
     "input": [
      "#hist_m_0 = plt.hist(z_m.stat_log, bins=100, normed=True)\n",
      "hist_m_0 = plt.hist(z_m.hist.midpoints, weights=z_m.hist.hist[0,:], bins=100, normed=True)\n",
      "pp = plt.plot(x_range, ys, 'r')\n",
      "plt.savefig('test_5_m_'+date_time_str+'.png')"
     ],
     "language": "python",
     "metadata": {},
     "outputs": []
    },
    {
     "cell_type": "code",
     "collapsed": false,
     "input": [
      "s_i = z_i.sample(N=N, record_trace=False, record_stats=True)\n",
      "print 'done'"
     ],
     "language": "python",
     "metadata": {},
     "outputs": []
    },
    {
     "cell_type": "code",
     "collapsed": false,
     "input": [
      "    print z_i.hist.midpoints[:2]\n"
     ],
     "language": "python",
     "metadata": {},
     "outputs": []
    }
   ],
   "metadata": {}
  }
 ]
}