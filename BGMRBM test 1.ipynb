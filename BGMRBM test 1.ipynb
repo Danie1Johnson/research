{
 "metadata": {
  "name": "",
  "signature": "sha256:f0eb2b7bb7325ec7ec7c03120f1fcbe74578e53fbbc8dd986c1e755ab64e5a61"
 },
 "nbformat": 3,
 "nbformat_minor": 0,
 "worksheets": [
  {
   "cells": [
    {
     "cell_type": "code",
     "collapsed": false,
     "input": [
      "%matplotlib inline"
     ],
     "language": "python",
     "metadata": {},
     "outputs": [],
     "prompt_number": 31
    },
    {
     "cell_type": "code",
     "collapsed": false,
     "input": [
      "import numpy as np\n",
      "\n",
      "import matplotlib.pyplot as plt\n",
      "\n",
      "import bga_4_0 as bga\n",
      "import manifold_reflected_brownian_motion as mrbm\n",
      "\n",
      "bga = reload(bga)\n",
      "mrbm = reload(mrbm)\n"
     ],
     "language": "python",
     "metadata": {},
     "outputs": [],
     "prompt_number": 32
    },
    {
     "cell_type": "code",
     "collapsed": false,
     "input": [
      "poly_name = 'octahedron'\n",
      "int_num = 2\n",
      "\n",
      "manifold_name = poly_name\n",
      "manifold_kwargs = {'int_num': int_num}\n",
      "\n",
      "boundary_name = poly_name\n",
      "boundary_kwargs = {'int_num': int_num}\n",
      "\n",
      "stat_name = 'test_1'\n",
      "stat_kwargs = {}"
     ],
     "language": "python",
     "metadata": {},
     "outputs": [],
     "prompt_number": 33
    },
    {
     "cell_type": "code",
     "collapsed": false,
     "input": [
      "err_tol = 10**-12\n",
      "#h0 = 0.05\n",
      "h = 0.05\n",
      "N = 10**7\n",
      "run_kwargs = {'N': N, 'bg': True}\n",
      "\n",
      "kwargs_nb = {'stat_name': stat_name,\n",
      "            'run_kwargs': run_kwargs, \n",
      "            'err_tol': err_tol,\n",
      "            'manifold_kwargs': manifold_kwargs,\n",
      "            'boundary_kwargs': {},\n",
      "            'stat_kwargs': stat_kwargs}\n",
      "\n",
      "kwargs_b = {'stat_name': stat_name,\n",
      "            'run_kwargs': run_kwargs, \n",
      "            'err_tol': err_tol,\n",
      "            'manifold_kwargs': manifold_kwargs,\n",
      "            'boundary_kwargs': boundary_kwargs,\n",
      "            'stat_kwargs': stat_kwargs}"
     ],
     "language": "python",
     "metadata": {},
     "outputs": [],
     "prompt_number": 34
    },
    {
     "cell_type": "code",
     "collapsed": false,
     "input": [
      "x0, links, lengths, faces = bga.load_bg_int(poly_name, int_num)"
     ],
     "language": "python",
     "metadata": {},
     "outputs": [],
     "prompt_number": 35
    },
    {
     "cell_type": "code",
     "collapsed": false,
     "input": [
      "z_no_boundary = mrbm.MRBM(manifold_name, \n",
      "                          'none', \n",
      "                          x0, \n",
      "                          h, \n",
      "                          **kwargs_nb)\n",
      "z_boundary = mrbm.MRBM(manifold_name, \n",
      "                       boundary_name, \n",
      "                       x0, \n",
      "                       h, \n",
      "                       **kwargs_b)"
     ],
     "language": "python",
     "metadata": {},
     "outputs": [],
     "prompt_number": 36
    },
    {
     "cell_type": "code",
     "collapsed": false,
     "input": [
      "s_nb = z_no_boundary.sample(N=N, record_trace=False, record_stats=True)"
     ],
     "language": "python",
     "metadata": {},
     "outputs": [],
     "prompt_number": 37
    },
    {
     "cell_type": "code",
     "collapsed": false,
     "input": [
      "s_b = z_boundary.sample(N=N, record_trace=False, record_stats=True)"
     ],
     "language": "python",
     "metadata": {},
     "outputs": [],
     "prompt_number": 38
    },
    {
     "cell_type": "code",
     "collapsed": false,
     "input": [
      "import datetime\n",
      "dts = str(datetime.datetime.now())\n",
      "date_time_str = dts[:10] + \"-\" + dts[11:13] + \"-\" + dts[14:16]\n",
      "print date_time_str"
     ],
     "language": "python",
     "metadata": {},
     "outputs": [
      {
       "output_type": "stream",
       "stream": "stdout",
       "text": [
        "2015-01-22-10-05\n"
       ]
      }
     ],
     "prompt_number": 46
    },
    {
     "cell_type": "code",
     "collapsed": false,
     "input": [
      "hist_nb = plt.hist(z_no_boundary.stat_log[~np.isnan(z_no_boundary.stat_log)], bins=80, normed=True)\n",
      "xs = np.linspace(0.0, 2.0*np.pi)\n",
      "\n",
      "#a = 0.158\n",
      "#b = -0.0145\n",
      "#c = -0.017\n",
      "\n",
      "a = 0.5/np.pi\n",
      "b = -a*0.1\n",
      "c = -a*0.1\n",
      "\n",
      "ys = a + b*np.cos(xs) + c*np.cos(2*xs)\n",
      "plt.plot(xs, ys, 'r')\n",
      "\n",
      "plt.savefig('two_triangles_no_boundaries_'+date_time_str+'.png')"
     ],
     "language": "python",
     "metadata": {},
     "outputs": [
      {
       "metadata": {},
       "output_type": "display_data",
       "png": "[encoded data removed]",
       "text": [
        "<matplotlib.figure.Figure at 0x7f01178bd890>"
       ]
      }
     ],
     "prompt_number": 47
    },
    {
     "cell_type": "code",
     "collapsed": false,
     "input": [
      "hist_b = plt.hist(z_boundary.stat_log, bins=80, normed=True)\n",
      "plt.plot(xs, ys, 'r')\n",
      "plt.savefig('two_triangles_boundaries_'+date_time_str+'.png')\n",
      "#plt.savefig('two_triangles_boundaries_err_13.png')"
     ],
     "language": "python",
     "metadata": {},
     "outputs": [
      {
       "metadata": {},
       "output_type": "display_data",
       "png": "[encoded data removed]",
       "text": [
        "<matplotlib.figure.Figure at 0x7f01179feb10>"
       ]
      }
     ],
     "prompt_number": 48
    },
    {
     "cell_type": "code",
     "collapsed": false,
     "input": [
      "plot_nb = plt.plot(z_no_boundary.stat_log[:10000])"
     ],
     "language": "python",
     "metadata": {},
     "outputs": [
      {
       "metadata": {},
       "output_type": "display_data",
       "png": "[encoded data removed]",
       "text": [
        "<matplotlib.figure.Figure at 0x7f0117d9d790>"
       ]
      }
     ],
     "prompt_number": 42
    },
    {
     "cell_type": "code",
     "collapsed": false,
     "input": [
      "plot_b = plt.plot(z_boundary.stat_log[:10000])"
     ],
     "language": "python",
     "metadata": {},
     "outputs": [
      {
       "metadata": {},
       "output_type": "display_data",
       "png": "[encoded data removed]",
       "text": [
        "<matplotlib.figure.Figure at 0x7f0117e3fe50>"
       ]
      }
     ],
     "prompt_number": 43
    },
    {
     "cell_type": "code",
     "collapsed": false,
     "input": [
      "print z_boundary.faces\n",
      "print z_boundary.dihedral_inds\n",
      "print z_boundary.links\n",
      "print z_boundary.lengths\n"
     ],
     "language": "python",
     "metadata": {},
     "outputs": [
      {
       "output_type": "stream",
       "stream": "stdout",
       "text": [
        "[[0, 2, 3], [1, 3, 2]]\n",
        "[[0, 2, 3, 1]]\n",
        "[[1, 3], [1, 2], [2, 3], [0, 2], [0, 3]]\n",
        "[ 1.  1.  1.  1.  1.]\n"
       ]
      }
     ],
     "prompt_number": 49
    },
    {
     "cell_type": "code",
     "collapsed": false,
     "input": [
      "#bga.bg_animation(z_boundary, z_boundary.faces)\n",
      "#s"
     ],
     "language": "python",
     "metadata": {},
     "outputs": [],
     "prompt_number": 45
    }
   ],
   "metadata": {}
  }
 ]
}