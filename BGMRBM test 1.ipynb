{
 "metadata": {
  "name": "",
  "signature": "sha256:926ab75cb93601c21324fad34b4fbb3941ca70015f4c14fdfc46343fc47ac8b9"
 },
 "nbformat": 3,
 "nbformat_minor": 0,
 "worksheets": [
  {
   "cells": [
    {
     "cell_type": "code",
     "collapsed": false,
     "input": [
      "%matplotlib inline"
     ],
     "language": "python",
     "metadata": {},
     "outputs": [],
     "prompt_number": 16
    },
    {
     "cell_type": "code",
     "collapsed": false,
     "input": [
      "import numpy as np\n",
      "\n",
      "import matplotlib.pyplot as plt\n",
      "\n",
      "import bga_4_0 as bga\n",
      "import manifold_reflected_brownian_motion as mrbm\n",
      "\n",
      "bga = reload(bga)\n",
      "mrbm = reload(mrbm)\n"
     ],
     "language": "python",
     "metadata": {},
     "outputs": [],
     "prompt_number": 17
    },
    {
     "cell_type": "code",
     "collapsed": false,
     "input": [
      "poly_name = 'octahedron'\n",
      "int_num = 2\n",
      "\n",
      "manifold_name = poly_name\n",
      "manifold_kwargs = {'int_num': int_num}\n",
      "\n",
      "boundary_name = poly_name\n",
      "boundary_kwargs = {'int_num': int_num}\n",
      "\n",
      "stat_name = 'test_1'\n",
      "stat_kwargs = {}"
     ],
     "language": "python",
     "metadata": {},
     "outputs": [],
     "prompt_number": 18
    },
    {
     "cell_type": "code",
     "collapsed": false,
     "input": [
      "err_tol = 10**-12\n",
      "#h0 = 0.05\n",
      "h = 0.05\n",
      "N = 10**7\n",
      "run_kwargs = {'N': N, 'bg': True}\n",
      "\n",
      "kwargs_nb = {'stat_name': stat_name,\n",
      "            'run_kwargs': run_kwargs, \n",
      "            'err_tol': err_tol,\n",
      "            'manifold_kwargs': manifold_kwargs,\n",
      "            'boundary_kwargs': {},\n",
      "            'stat_kwargs': stat_kwargs}\n",
      "\n",
      "kwargs_b = {'stat_name': stat_name,\n",
      "            'run_kwargs': run_kwargs, \n",
      "            'err_tol': err_tol,\n",
      "            'manifold_kwargs': manifold_kwargs,\n",
      "            'boundary_kwargs': boundary_kwargs,\n",
      "            'stat_kwargs': stat_kwargs}"
     ],
     "language": "python",
     "metadata": {},
     "outputs": [],
     "prompt_number": 19
    },
    {
     "cell_type": "code",
     "collapsed": false,
     "input": [
      "x0, links, lengths, faces = bga.load_bg_int(poly_name, int_num)"
     ],
     "language": "python",
     "metadata": {},
     "outputs": [],
     "prompt_number": 20
    },
    {
     "cell_type": "code",
     "collapsed": false,
     "input": [
      "z_no_boundary = mrbm.MRBM(manifold_name, \n",
      "                          'none', \n",
      "                          x0, \n",
      "                          h, \n",
      "                          **kwargs_nb)\n",
      "z_boundary = mrbm.MRBM(manifold_name, \n",
      "                       boundary_name, \n",
      "                       x0, \n",
      "                       h, \n",
      "                       **kwargs_b)"
     ],
     "language": "python",
     "metadata": {},
     "outputs": [],
     "prompt_number": 21
    },
    {
     "cell_type": "code",
     "collapsed": false,
     "input": [
      "s_nb = z_no_boundary.sample(N=N, record_trace=False, record_stats=True)"
     ],
     "language": "python",
     "metadata": {},
     "outputs": [],
     "prompt_number": 22
    },
    {
     "cell_type": "code",
     "collapsed": false,
     "input": [
      "s_b = z_boundary.sample(N=N, record_trace=False, record_stats=True)"
     ],
     "language": "python",
     "metadata": {},
     "outputs": [],
     "prompt_number": 23
    },
    {
     "cell_type": "code",
     "collapsed": false,
     "input": [
      "z_boundary.samples"
     ],
     "language": "python",
     "metadata": {},
     "outputs": [
      {
       "metadata": {},
       "output_type": "pyout",
       "prompt_number": 24,
       "text": [
        "1000001"
       ]
      }
     ],
     "prompt_number": 24
    },
    {
     "cell_type": "code",
     "collapsed": false,
     "input": [
      "hist_nb = plt.hist(z_no_boundary.stat_log[~np.isnan(z_no_boundary.stat_log)], bins=80, normed=True)\n",
      "xs = np.linspace(0.0, 2.0*np.pi)\n",
      "\n",
      "#a = 0.158\n",
      "#b = -0.0145\n",
      "#c = -0.017\n",
      "\n",
      "a = 0.5/np.pi\n",
      "b = -a*0.1\n",
      "c = -a*0.1\n",
      "\n",
      "ys = a + b*np.cos(xs) + c*np.cos(2*xs)\n",
      "plt.plot(xs, ys, 'r')\n",
      "\n",
      "#plt.savefig('two_triangles_no_boundaries_err_13.png')"
     ],
     "language": "python",
     "metadata": {},
     "outputs": [
      {
       "metadata": {},
       "output_type": "pyout",
       "prompt_number": 25,
       "text": [
        "[<matplotlib.lines.Line2D at 0x7f01186b4f90>]"
       ]
      },
      {
       "metadata": {},
       "output_type": "display_data",
       "png": "[encoded data removed]",
       "text": [
        "<matplotlib.figure.Figure at 0x7f0117e29750>"
       ]
      }
     ],
     "prompt_number": 25
    },
    {
     "cell_type": "code",
     "collapsed": false,
     "input": [
      "hist_b = plt.hist(z_boundary.stat_log, bins=80, normed=True)\n",
      "plt.plot(xs, ys, 'r')\n",
      "#plt.savefig('two_triangles_boundaries_err_13.png')"
     ],
     "language": "python",
     "metadata": {},
     "outputs": [
      {
       "metadata": {},
       "output_type": "pyout",
       "prompt_number": 26,
       "text": [
        "[<matplotlib.lines.Line2D at 0x7f011e8a80d0>]"
       ]
      },
      {
       "metadata": {},
       "output_type": "display_data",
       "png": "[encoded data removed]",
       "text": [
        "<matplotlib.figure.Figure at 0x7f011e8a8050>"
       ]
      }
     ],
     "prompt_number": 26
    },
    {
     "cell_type": "code",
     "collapsed": false,
     "input": [
      "plot_nb = plt.plot(z_no_boundary.stat_log)"
     ],
     "language": "python",
     "metadata": {},
     "outputs": [
      {
       "metadata": {},
       "output_type": "display_data",
       "png": "[encoded data removed]",
       "text": [
        "<matplotlib.figure.Figure at 0x7f0117e07910>"
       ]
      }
     ],
     "prompt_number": 27
    },
    {
     "cell_type": "code",
     "collapsed": false,
     "input": [
      "plot_b = plt.plot(z_boundary.stat_log)"
     ],
     "language": "python",
     "metadata": {},
     "outputs": [
      {
       "metadata": {},
       "output_type": "display_data",
       "png": "[encoded data removed]",
       "text": [
        "<matplotlib.figure.Figure at 0x7f0117bbf310>"
       ]
      }
     ],
     "prompt_number": 28
    },
    {
     "cell_type": "code",
     "collapsed": false,
     "input": [
      "print z_boundary.faces\n",
      "print z_boundary.dihedral_inds\n",
      "print max(z_boundary.stat_log)"
     ],
     "language": "python",
     "metadata": {},
     "outputs": [
      {
       "output_type": "stream",
       "stream": "stdout",
       "text": [
        "[[0, 2, 3], [1, 3, 2]]\n",
        "[[0, 2, 3, 1]]\n",
        "[ 6.28317919]"
       ]
      },
      {
       "output_type": "stream",
       "stream": "stdout",
       "text": [
        "\n"
       ]
      }
     ],
     "prompt_number": 29
    },
    {
     "cell_type": "code",
     "collapsed": false,
     "input": [
      "#bga.bg_animation(z_boundary, z_boundary.faces)\n",
      "#s"
     ],
     "language": "python",
     "metadata": {},
     "outputs": [],
     "prompt_number": 30
    }
   ],
   "metadata": {}
  }
 ]
}