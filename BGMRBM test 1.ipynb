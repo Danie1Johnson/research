{
 "metadata": {
  "name": "",
  "signature": "sha256:0ef7b90a09446828c949e9bcff6613639619e04ab01b589dee4f1bbdcee28122"
 },
 "nbformat": 3,
 "nbformat_minor": 0,
 "worksheets": [
  {
   "cells": [
    {
     "cell_type": "code",
     "collapsed": false,
     "input": [
      "%matplotlib inline"
     ],
     "language": "python",
     "metadata": {},
     "outputs": [],
     "prompt_number": 196
    },
    {
     "cell_type": "code",
     "collapsed": false,
     "input": [
      "import numpy as np\n",
      "\n",
      "import matplotlib.pyplot as plt\n",
      "\n",
      "import bga_4_0 as bga\n",
      "import manifold_reflected_brownian_motion as mrbm\n",
      "\n",
      "bga = reload(bga)\n",
      "mrbm = reload(mrbm)\n"
     ],
     "language": "python",
     "metadata": {},
     "outputs": [],
     "prompt_number": 197
    },
    {
     "cell_type": "code",
     "collapsed": false,
     "input": [
      "poly_name = 'octahedron'\n",
      "int_num = 2\n",
      "\n",
      "manifold_name = poly_name\n",
      "manifold_kwargs = {'int_num': int_num}\n",
      "\n",
      "boundary_name = poly_name\n",
      "boundary_kwargs = {'int_num': int_num}\n",
      "\n",
      "stat_name = 'test_1'\n",
      "stat_kwargs = {}"
     ],
     "language": "python",
     "metadata": {},
     "outputs": [],
     "prompt_number": 198
    },
    {
     "cell_type": "code",
     "collapsed": false,
     "input": [
      "err_tol = 10**-12\n",
      "h = 0.05\n",
      "N = 10**7\n",
      "run_kwargs = {'N': N}\n",
      "\n",
      "kwargs_nb = {'stat_name': stats_name,\n",
      "            'run_kwargs': run_kwargs, \n",
      "            'err_tol': err_tol,\n",
      "            'manifold_kwargs': manifold_kwargs,\n",
      "            'boundary_kwargs': {},\n",
      "            'stat_kwargs': stat_kwargs}\n",
      "\n",
      "kwargs_b = {'stat_name': stats_name,\n",
      "            'run_kwargs': run_kwargs, \n",
      "            'err_tol': err_tol,\n",
      "            'manifold_kwargs': manifold_kwargs,\n",
      "            'boundary_kwargs': boundary_kwargs,\n",
      "            'stat_kwargs': stat_kwargs}"
     ],
     "language": "python",
     "metadata": {},
     "outputs": [],
     "prompt_number": 199
    },
    {
     "cell_type": "code",
     "collapsed": false,
     "input": [
      "x0, links, lengths, faces = bga.load_bg_int(poly_name, int_num)"
     ],
     "language": "python",
     "metadata": {},
     "outputs": [],
     "prompt_number": 200
    },
    {
     "cell_type": "code",
     "collapsed": false,
     "input": [
      "z_no_boundary = mrbm.MRBM(manifold_name, \n",
      "                          'none', \n",
      "                          x0, \n",
      "                          h, \n",
      "                          **kwargs_nb)\n",
      "z_boundary = mrbm.MRBM(manifold_name, \n",
      "                       boundary_name, \n",
      "                       x0, \n",
      "                       h, \n",
      "                       **kwargs_b)"
     ],
     "language": "python",
     "metadata": {},
     "outputs": [],
     "prompt_number": 201
    },
    {
     "cell_type": "code",
     "collapsed": false,
     "input": [
      "s_nb = z_no_boundary.sample(N=N, record_trace=False, record_stats=True)\n",
      "s_b = z_boundary.sample(N=N, record_trace=False, record_stats=True)"
     ],
     "language": "python",
     "metadata": {},
     "outputs": [],
     "prompt_number": 202
    },
    {
     "cell_type": "code",
     "collapsed": false,
     "input": [
      "hist_nb = plt.hist(z_no_boundary.stat_log, bins=40, normed=True)\n",
      "xs = np.linspace(0.0, 2.0*np.pi)\n",
      "\n",
      "a = 0.15\n",
      "b = -0.02\n",
      "c = -0.02\n",
      "\n",
      "ys = a + b*np.cos(xs) + c*np.cos(2*xs)\n",
      "plt.plot(xs, ys, 'r')"
     ],
     "language": "python",
     "metadata": {},
     "outputs": [
      {
       "metadata": {},
       "output_type": "pyout",
       "prompt_number": 219,
       "text": [
        "[<matplotlib.lines.Line2D at 0x7f138ac4a910>]"
       ]
      },
      {
       "metadata": {},
       "output_type": "display_data",
       "png": "[encoded data removed]",
       "text": [
        "<matplotlib.figure.Figure at 0x7f1389d710d0>"
       ]
      }
     ],
     "prompt_number": 219
    },
    {
     "cell_type": "code",
     "collapsed": false,
     "input": [
      "hist_b = plt.hist(z_boundary.stat_log, bins=40, normed=True)"
     ],
     "language": "python",
     "metadata": {},
     "outputs": [
      {
       "metadata": {},
       "output_type": "display_data",
       "png": "[encoded data removed]",
       "text": [
        "<matplotlib.figure.Figure at 0x7f138b36dd50>"
       ]
      }
     ],
     "prompt_number": 204
    },
    {
     "cell_type": "code",
     "collapsed": false,
     "input": [
      "print faces"
     ],
     "language": "python",
     "metadata": {},
     "outputs": [
      {
       "output_type": "stream",
       "stream": "stdout",
       "text": [
        "[[0, 2, 3], [1, 3, 2]]\n"
       ]
      }
     ],
     "prompt_number": 220
    },
    {
     "cell_type": "code",
     "collapsed": false,
     "input": [
      "plt.plot(xs, np.log(ys))"
     ],
     "language": "python",
     "metadata": {},
     "outputs": [
      {
       "metadata": {},
       "output_type": "pyout",
       "prompt_number": 221,
       "text": [
        "[<matplotlib.lines.Line2D at 0x7f1389b82bd0>]"
       ]
      },
      {
       "metadata": {},
       "output_type": "display_data",
       "png": "[encoded data removed]",
       "text": [
        "<matplotlib.figure.Figure at 0x7f138b11a0d0>"
       ]
      }
     ],
     "prompt_number": 221
    }
   ],
   "metadata": {}
  }
 ]
}