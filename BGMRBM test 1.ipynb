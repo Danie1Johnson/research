{
 "metadata": {
  "name": "",
  "signature": "sha256:5006fd4c0c3ed6e83f2fe53acb440a13555bda3877fc63c627915238c88ef82c"
 },
 "nbformat": 3,
 "nbformat_minor": 0,
 "worksheets": [
  {
   "cells": [
    {
     "cell_type": "code",
     "collapsed": false,
     "input": [
      "# GET DISTRIBUTION OF DIHEDRAL ANGLES IN THE LINKAGE OF TWO TRIANGLES WITH "
     ],
     "language": "python",
     "metadata": {},
     "outputs": [],
     "prompt_number": 273
    },
    {
     "cell_type": "code",
     "collapsed": false,
     "input": [
      "%matplotlib inline"
     ],
     "language": "python",
     "metadata": {},
     "outputs": [],
     "prompt_number": 274
    },
    {
     "cell_type": "code",
     "collapsed": false,
     "input": [
      "import datetime\n",
      "dts = str(datetime.datetime.now())\n",
      "date_time_str = dts[:10] + \"-\" + dts[11:13] + \"-\" + dts[14:16]\n",
      "print date_time_str"
     ],
     "language": "python",
     "metadata": {},
     "outputs": [
      {
       "output_type": "stream",
       "stream": "stdout",
       "text": [
        "2015-02-01-12-38\n"
       ]
      }
     ],
     "prompt_number": 275
    },
    {
     "cell_type": "code",
     "collapsed": false,
     "input": [
      "import numpy as np\n",
      "\n",
      "import matplotlib.pyplot as plt\n",
      "\n",
      "import bga_4_0 as bga\n",
      "import manifold_reflected_brownian_motion as mrbm\n",
      "\n",
      "bga = reload(bga)\n",
      "mrbm = reload(mrbm)"
     ],
     "language": "python",
     "metadata": {},
     "outputs": [],
     "prompt_number": 276
    },
    {
     "cell_type": "code",
     "collapsed": false,
     "input": [
      "save_images = False\n",
      "fixed_com = True"
     ],
     "language": "python",
     "metadata": {},
     "outputs": [],
     "prompt_number": 277
    },
    {
     "cell_type": "code",
     "collapsed": false,
     "input": [
      "manifold_name = 'building_game'\n",
      "poly_name = 'octahedron'\n",
      "int_num = 2\n",
      "\n",
      "boundary_name = 'self_intersection'\n",
      "\n",
      "stat_name = 'test_1'"
     ],
     "language": "python",
     "metadata": {},
     "outputs": [],
     "prompt_number": 278
    },
    {
     "cell_type": "code",
     "collapsed": false,
     "input": [
      "manifold_kwargs = {'poly_name': poly_name, 'int_num': int_num, 'fixed_com': fixed_com}\n",
      "boundary_kwargs = {'poly_name': poly_name, 'int_num': int_num}\n",
      "stat_kwargs = {}"
     ],
     "language": "python",
     "metadata": {},
     "outputs": [],
     "prompt_number": 279
    },
    {
     "cell_type": "code",
     "collapsed": false,
     "input": [
      "err_tol = 10**-12\n",
      "h = 0.05\n",
      "N = 10**2\n",
      "\n",
      "hist_min = 0.0\n",
      "hist_max = 2.0*np.pi\n",
      "hist_bins = 1000"
     ],
     "language": "python",
     "metadata": {},
     "outputs": [],
     "prompt_number": 280
    },
    {
     "cell_type": "code",
     "collapsed": false,
     "input": [
      "kwargs_nb = {'manifold_name': manifold_name,  \n",
      "             'boundary_name': None,\n",
      "             'stat_name': stat_name,\n",
      "             'manifold_kwargs': manifold_kwargs,\n",
      "             'boundary_kwargs': {},\n",
      "             'stat_kwargs': stat_kwargs,\n",
      "             'record_hist': True, \n",
      "             'hist_min': hist_min, \n",
      "             'hist_max': hist_max, \n",
      "             'hist_bins': hist_bins,\n",
      "             'err_tol': err_tol}\n",
      "\n",
      "kwargs_b  = {'manifold_name': manifold_name,  \n",
      "             'boundary_name': boundary_name,\n",
      "             'stat_name': stat_name,\n",
      "             'manifold_kwargs': manifold_kwargs,\n",
      "             'boundary_kwargs': boundary_kwargs,\n",
      "             'stat_kwargs': stat_kwargs,\n",
      "             'record_hist': True, \n",
      "             'hist_min': hist_min, \n",
      "             'hist_max': hist_max, \n",
      "             'hist_bins': hist_bins,\n",
      "             'err_tol': err_tol}"
     ],
     "language": "python",
     "metadata": {},
     "outputs": [],
     "prompt_number": 281
    },
    {
     "cell_type": "code",
     "collapsed": false,
     "input": [
      "x0, links, lengths, faces = bga.load_bg_int(poly_name, int_num)\n",
      "if fixed_com == True:\n",
      "    x0 = recenter(x0, masses=)"
     ],
     "language": "python",
     "metadata": {},
     "outputs": [],
     "prompt_number": 282
    },
    {
     "cell_type": "code",
     "collapsed": false,
     "input": [
      "z_nb = mrbm.MRBM(x0, h, **kwargs_nb)\n",
      "z_b = mrbm.MRBM(x0, h, **kwargs_b)"
     ],
     "language": "python",
     "metadata": {},
     "outputs": [
      {
       "ename": "Exception",
       "evalue": "ERROR: initial point x0 does not satisfy constraints to tolerance.",
       "output_type": "pyerr",
       "traceback": [
        "\u001b[1;31m---------------------------------------------------------------------------\u001b[0m\n\u001b[1;31mException\u001b[0m                                 Traceback (most recent call last)",
        "\u001b[1;32m<ipython-input-283-f3ecbff982bf>\u001b[0m in \u001b[0;36m<module>\u001b[1;34m()\u001b[0m\n\u001b[1;32m----> 1\u001b[1;33m \u001b[0mz_nb\u001b[0m \u001b[1;33m=\u001b[0m \u001b[0mmrbm\u001b[0m\u001b[1;33m.\u001b[0m\u001b[0mMRBM\u001b[0m\u001b[1;33m(\u001b[0m\u001b[0mx0\u001b[0m\u001b[1;33m,\u001b[0m \u001b[0mh\u001b[0m\u001b[1;33m,\u001b[0m \u001b[1;33m**\u001b[0m\u001b[0mkwargs_nb\u001b[0m\u001b[1;33m)\u001b[0m\u001b[1;33m\u001b[0m\u001b[0m\n\u001b[0m\u001b[0;32m      2\u001b[0m \u001b[0mz_b\u001b[0m \u001b[1;33m=\u001b[0m \u001b[0mmrbm\u001b[0m\u001b[1;33m.\u001b[0m\u001b[0mMRBM\u001b[0m\u001b[1;33m(\u001b[0m\u001b[0mx0\u001b[0m\u001b[1;33m,\u001b[0m \u001b[0mh\u001b[0m\u001b[1;33m,\u001b[0m \u001b[1;33m**\u001b[0m\u001b[0mkwargs_b\u001b[0m\u001b[1;33m)\u001b[0m\u001b[1;33m\u001b[0m\u001b[0m\n",
        "\u001b[1;32m/home/daniel/School/research/manifold_reflected_brownian_motion.pyc\u001b[0m in \u001b[0;36m__init__\u001b[1;34m(self, x0, h, manifold_name, boundary_name, stat_name, manifold_kwargs, boundary_kwargs, stat_kwargs, record_hist, hist_min, hist_max, hist_bins, err_tol, Sig)\u001b[0m\n\u001b[0;32m     54\u001b[0m         \u001b[1;31m# Verify initial point is valid\u001b[0m\u001b[1;33m\u001b[0m\u001b[1;33m\u001b[0m\u001b[0m\n\u001b[0;32m     55\u001b[0m         \u001b[1;32mif\u001b[0m \u001b[0mnp\u001b[0m\u001b[1;33m.\u001b[0m\u001b[0mlinalg\u001b[0m\u001b[1;33m.\u001b[0m\u001b[0mnorm\u001b[0m\u001b[1;33m(\u001b[0m\u001b[0mself\u001b[0m\u001b[1;33m.\u001b[0m\u001b[0mc\u001b[0m\u001b[1;33m(\u001b[0m\u001b[0mx0\u001b[0m\u001b[1;33m)\u001b[0m\u001b[1;33m)\u001b[0m \u001b[1;33m>\u001b[0m \u001b[0merr_tol\u001b[0m\u001b[1;33m:\u001b[0m\u001b[1;33m\u001b[0m\u001b[0m\n\u001b[1;32m---> 56\u001b[1;33m             \u001b[1;32mraise\u001b[0m \u001b[0mException\u001b[0m\u001b[1;33m(\u001b[0m\u001b[1;34m\"ERROR: initial point x0 does not satisfy constraints to tolerance.\"\u001b[0m\u001b[1;33m)\u001b[0m\u001b[1;33m\u001b[0m\u001b[0m\n\u001b[0m\u001b[0;32m     57\u001b[0m         \u001b[1;32mif\u001b[0m \u001b[0mself\u001b[0m\u001b[1;33m.\u001b[0m\u001b[0mboundary\u001b[0m\u001b[1;33m(\u001b[0m\u001b[0mx0\u001b[0m\u001b[1;33m)\u001b[0m \u001b[1;33m==\u001b[0m \u001b[0mFalse\u001b[0m\u001b[1;33m:\u001b[0m\u001b[1;33m\u001b[0m\u001b[0m\n\u001b[0;32m     58\u001b[0m             \u001b[1;32mraise\u001b[0m \u001b[0mException\u001b[0m\u001b[1;33m(\u001b[0m\u001b[1;34m\"ERROR: initial point x0 outside of boundary\"\u001b[0m\u001b[1;33m)\u001b[0m\u001b[1;33m\u001b[0m\u001b[0m\n",
        "\u001b[1;31mException\u001b[0m: ERROR: initial point x0 does not satisfy constraints to tolerance."
       ]
      }
     ],
     "prompt_number": 283
    },
    {
     "cell_type": "code",
     "collapsed": false,
     "input": [
      "s_nb = z_nb.sample(N=N, record_trace=False, record_stats=True)\n",
      "print 'done'"
     ],
     "language": "python",
     "metadata": {},
     "outputs": []
    },
    {
     "cell_type": "code",
     "collapsed": false,
     "input": [
      "s_b = z_b.sample(N=N, record_trace=False, record_stats=True)\n",
      "print 'done'"
     ],
     "language": "python",
     "metadata": {},
     "outputs": []
    },
    {
     "cell_type": "code",
     "collapsed": false,
     "input": [
      "a = 0.5/np.pi\n",
      "b = -a*0.1\n",
      "c = -a*0.1\n",
      "x_range = np.linspace(0.0, 2.0*np.pi)\n",
      "ys = a + b*np.cos(x_range) + c*np.cos(2*x_range)"
     ],
     "language": "python",
     "metadata": {},
     "outputs": []
    },
    {
     "cell_type": "code",
     "collapsed": false,
     "input": [
      "xx1 = plt.hist(z_nb.hist.midpoints, weights=z_nb.hist.hist, normed=True, bins=40)\n",
      "yy1 = plt.plot(x_range, ys, 'r') \n",
      "if save_images == True:\n",
      "    plt.savefig('test_1_nb_'+date_time_str+'.png')"
     ],
     "language": "python",
     "metadata": {},
     "outputs": []
    },
    {
     "cell_type": "code",
     "collapsed": false,
     "input": [
      "xx2 = plt.hist(z_b.hist.midpoints, weights=z_b.hist.hist, normed=True, bins=40)\n",
      "yy2 = plt.plot(x_range, ys, 'r')\n",
      "if save_images == True:\n",
      "    plt.savefig('test_1_b_'+date_time_str+'.png')"
     ],
     "language": "python",
     "metadata": {},
     "outputs": []
    }
   ],
   "metadata": {}
  }
 ]
}