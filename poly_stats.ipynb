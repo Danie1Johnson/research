{
 "metadata": {
  "name": "",
  "signature": "sha256:33bebbf354d6390d524a1bf48bad15397da658d9a8f4a1198c86e85c2e62fcf1"
 },
 "nbformat": 3,
 "nbformat_minor": 0,
 "worksheets": [
  {
   "cells": [
    {
     "cell_type": "code",
     "collapsed": false,
     "input": [
      "%matplotlib inline"
     ],
     "language": "python",
     "metadata": {},
     "outputs": [],
     "prompt_number": 116
    },
    {
     "cell_type": "code",
     "collapsed": false,
     "input": [
      "import numpy as np\n",
      "import matplotlib.pyplot as plt\n",
      "import mpmath as mp\n",
      "mp.mp.dps = 100\n",
      "import polyhedra as poly\n",
      "import bga_4_0 as bga\n",
      "\n",
      "bga = reload(bga)"
     ],
     "language": "python",
     "metadata": {},
     "outputs": [],
     "prompt_number": 117
    },
    {
     "cell_type": "code",
     "collapsed": false,
     "input": [
      "#poly_name = \"rhombicuboctahedron\"\n",
      "#poly_name = \"truncated_octahedron\"\n",
      "#poly_name = \"truncated_cuboctahedron\"\n",
      "#poly_name = \"rhombic_triacontahedron\"\n",
      "#poly_name = \"rhombic_dodecahedron\"\n",
      "poly_name = \"octahedron\""
     ],
     "language": "python",
     "metadata": {},
     "outputs": [],
     "prompt_number": 118
    },
    {
     "cell_type": "code",
     "collapsed": false,
     "input": [
      "verts, face_inds, cents = getattr(poly, poly_name)()\n",
      "V, E, F, S, species, f_types, adj_list, dual = bga.get_poly(poly_name)\n",
      "ints, ids, paths, shell_int, shell_paths, edges, shell_edge, degens = bga.get_bg_ss(poly_name, get_degens=True)"
     ],
     "language": "python",
     "metadata": {},
     "outputs": [],
     "prompt_number": 119
    },
    {
     "cell_type": "code",
     "collapsed": false,
     "input": [
      "#print adj_list"
     ],
     "language": "python",
     "metadata": {},
     "outputs": [],
     "prompt_number": 120
    },
    {
     "cell_type": "code",
     "collapsed": false,
     "input": [
      "Rs = bga.generate_rotations(adj_list)\n",
      "print len(Rs)"
     ],
     "language": "python",
     "metadata": {},
     "outputs": [
      {
       "output_type": "stream",
       "stream": "stdout",
       "text": [
        "24\n"
       ]
      }
     ],
     "prompt_number": 121
    },
    {
     "cell_type": "code",
     "collapsed": false,
     "input": [
      "#rs = bga.get_rs(ints, adj_list, Rs)"
     ],
     "language": "python",
     "metadata": {},
     "outputs": [],
     "prompt_number": 122
    },
    {
     "cell_type": "code",
     "collapsed": false,
     "input": [
      "#Ss, Ts = bga.get_degeneracies(ints, edges, adj_list, Rs=Rs)"
     ],
     "language": "python",
     "metadata": {},
     "outputs": [],
     "prompt_number": 123
    },
    {
     "cell_type": "code",
     "collapsed": false,
     "input": [
      "#edge_adj, edge_adj_inds = bga.edge_adj_list(edges, inds=True)   "
     ],
     "language": "python",
     "metadata": {},
     "outputs": [],
     "prompt_number": 124
    },
    {
     "cell_type": "code",
     "collapsed": false,
     "input": [
      "#shellings = bga.get_shellings(edges,ints,degens,shell_int,adj_list)\n",
      "#print shellings[-5:]"
     ],
     "language": "python",
     "metadata": {},
     "outputs": [],
     "prompt_number": 125
    },
    {
     "cell_type": "code",
     "collapsed": false,
     "input": [
      "#shellings[-1]"
     ],
     "language": "python",
     "metadata": {},
     "outputs": [],
     "prompt_number": 126
    },
    {
     "cell_type": "code",
     "collapsed": false,
     "input": [
      "for int in range(len(ints)):\n",
      "    print int, bga.DoF(ints[int], verts, face_inds)[0]"
     ],
     "language": "python",
     "metadata": {},
     "outputs": [
      {
       "output_type": "stream",
       "stream": "stdout",
       "text": [
        "0 0\n",
        "1 0\n",
        "2 1\n",
        "3 2\n",
        "4 3\n",
        "5 3\n",
        "6 1\n",
        "7 3\n",
        "8 2\n",
        "9 4\n",
        "10 1\n",
        "11 3\n",
        "12 0\n",
        "13 0\n",
        "14 0\n"
       ]
      }
     ],
     "prompt_number": 129
    },
    {
     "cell_type": "code",
     "collapsed": false,
     "input": [
      "edges"
     ],
     "language": "python",
     "metadata": {},
     "outputs": [
      {
       "metadata": {},
       "output_type": "pyout",
       "prompt_number": 128,
       "text": [
        "array([[ 0,  1],\n",
        "       [ 1,  2],\n",
        "       [ 2,  3],\n",
        "       [ 3,  4],\n",
        "       [ 3,  5],\n",
        "       [ 3,  6],\n",
        "       [ 3,  7],\n",
        "       [ 4,  8],\n",
        "       [ 5,  8],\n",
        "       [ 5,  9],\n",
        "       [ 6,  8],\n",
        "       [ 7,  8],\n",
        "       [ 7,  9],\n",
        "       [ 8, 10],\n",
        "       [ 8, 11],\n",
        "       [ 9, 10],\n",
        "       [ 9, 11],\n",
        "       [ 9, 12],\n",
        "       [10, 13],\n",
        "       [11, 13],\n",
        "       [12, 13],\n",
        "       [13, 14]])"
       ]
      }
     ],
     "prompt_number": 128
    },
    {
     "cell_type": "code",
     "collapsed": false,
     "input": [],
     "language": "python",
     "metadata": {},
     "outputs": [],
     "prompt_number": 128
    }
   ],
   "metadata": {}
  }
 ]
}