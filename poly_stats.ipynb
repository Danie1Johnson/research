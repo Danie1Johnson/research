{
 "metadata": {
  "name": "",
  "signature": "sha256:48595dc8f1779f6ba72b88ab48d10267598d879f21cbea8c65adbfcb60ccab71"
 },
 "nbformat": 3,
 "nbformat_minor": 0,
 "worksheets": [
  {
   "cells": [
    {
     "cell_type": "code",
     "collapsed": false,
     "input": [
      "%matplotlib inline"
     ],
     "language": "python",
     "metadata": {},
     "outputs": [],
     "prompt_number": 368
    },
    {
     "cell_type": "code",
     "collapsed": false,
     "input": [
      "import numpy as np\n",
      "import matplotlib.pyplot as plt\n",
      "import mpmath as mp\n",
      "mp.mp.dps = 100\n",
      "import polyhedra as poly\n",
      "import bga_4_0 as bga\n",
      "\n",
      "bga = reload(bga)"
     ],
     "language": "python",
     "metadata": {},
     "outputs": [],
     "prompt_number": 369
    },
    {
     "cell_type": "code",
     "collapsed": false,
     "input": [
      "#poly_name = \"cube\"\n",
      "#poly_name = \"rhombicuboctahedron\"\n",
      "####poly_name = \"truncated_octahedron\"\n",
      "###poly_name = \"triakis_octahedron\"\n",
      "poly_name = \"deltoidal_icositetrahedron\""
     ],
     "language": "python",
     "metadata": {},
     "outputs": [],
     "prompt_number": 370
    },
    {
     "cell_type": "code",
     "collapsed": false,
     "input": [
      "verts, face_inds, cents = getattr(poly, poly_name)()\n",
      "V, E, F, S, species, f_types, adj_list, dual = bga.get_poly(poly_name)\n",
      "ints, ids, paths, shell_int, shell_paths, edges, shell_edge = bga.get_bg_ss(poly_name)"
     ],
     "language": "python",
     "metadata": {},
     "outputs": [],
     "prompt_number": 371
    },
    {
     "cell_type": "code",
     "collapsed": false,
     "input": [
      "#"
     ],
     "language": "python",
     "metadata": {},
     "outputs": [],
     "prompt_number": 372
    },
    {
     "cell_type": "code",
     "collapsed": false,
     "input": [
      "Rs = bga.generate_rotations(adj_list)"
     ],
     "language": "python",
     "metadata": {},
     "outputs": [],
     "prompt_number": 373
    },
    {
     "cell_type": "code",
     "collapsed": false,
     "input": [
      "#rs = bga.get_rs(ints, adj_list, Rs)"
     ],
     "language": "python",
     "metadata": {},
     "outputs": []
    },
    {
     "cell_type": "code",
     "collapsed": false,
     "input": [
      "Ss, Ts = bga.get_degeneracies(ints, edges, adj_list, Rs=Rs)"
     ],
     "language": "python",
     "metadata": {},
     "outputs": []
    },
    {
     "cell_type": "code",
     "collapsed": false,
     "input": [
      "#edge_adj, edge_adj_inds = bga.edge_adj_list(edges, inds=True)   "
     ],
     "language": "python",
     "metadata": {},
     "outputs": []
    },
    {
     "cell_type": "code",
     "collapsed": false,
     "input": [
      "shellings = bga.get_shellings(edges,ints,Ss,shell_int,adj_list)\n",
      "print shellings[-5:]\n"
     ],
     "language": "python",
     "metadata": {},
     "outputs": []
    },
    {
     "cell_type": "code",
     "collapsed": false,
     "input": [
      "shellings[-1]"
     ],
     "language": "python",
     "metadata": {},
     "outputs": []
    },
    {
     "cell_type": "code",
     "collapsed": false,
     "input": [
      "#print shellings"
     ],
     "language": "python",
     "metadata": {},
     "outputs": []
    },
    {
     "cell_type": "code",
     "collapsed": false,
     "input": [
      "#print edges, shell_int, Ss"
     ],
     "language": "python",
     "metadata": {},
     "outputs": []
    },
    {
     "cell_type": "code",
     "collapsed": false,
     "input": [
      "#1389323257015296 tetrakis hex"
     ],
     "language": "python",
     "metadata": {},
     "outputs": []
    }
   ],
   "metadata": {}
  }
 ]
}