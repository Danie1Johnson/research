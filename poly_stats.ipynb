{
 "metadata": {
  "name": "",
  "signature": "sha256:6ebc188931c9c5ca4a9137261b4e63b035556d67791fa3cfba4b50556906507d"
 },
 "nbformat": 3,
 "nbformat_minor": 0,
 "worksheets": []
}