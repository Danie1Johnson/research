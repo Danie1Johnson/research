{
 "metadata": {
  "name": "",
  "signature": "sha256:8611e18d2296e4011c4e8f0d3652edbbf280d265e1f1d5e4a7eb093721ce5740"
 },
 "nbformat": 3,
 "nbformat_minor": 0,
 "worksheets": [
  {
   "cells": [
    {
     "cell_type": "code",
     "collapsed": false,
     "input": [
      "%matplotlib inline"
     ],
     "language": "python",
     "metadata": {},
     "outputs": [],
     "prompt_number": 787
    },
    {
     "cell_type": "code",
     "collapsed": false,
     "input": [
      "import numpy as np\n",
      "import matplotlib.pyplot as plt\n",
      "import mpmath as mp\n",
      "mp.mp.dps = 100\n",
      "import polyhedra as poly\n",
      "import bga_4_0 as bga\n",
      "\n",
      "bga = reload(bga)"
     ],
     "language": "python",
     "metadata": {},
     "outputs": [],
     "prompt_number": 788
    },
    {
     "cell_type": "code",
     "collapsed": false,
     "input": [
      "#poly_name = \"rhombicuboctahedron\"\n",
      "#poly_name = \"truncated_octahedron\"\n",
      "poly_name = \"truncated_cuboctahedron\"\n",
      "#poly_name = \"rhombic_triacontahedron\"\n",
      "#poly_name = \"rhombic_dodecahedron\""
     ],
     "language": "python",
     "metadata": {},
     "outputs": [],
     "prompt_number": 789
    },
    {
     "cell_type": "code",
     "collapsed": false,
     "input": [
      "#verts, face_inds, cents = getattr(poly, poly_name)()\n",
      "V, E, F, S, species, f_types, adj_list, dual = bga.get_poly(poly_name)\n",
      "ints, ids, paths, shell_int, shell_paths, edges, shell_edge, degens = bga.get_bg_ss(poly_name, get_degens=True)"
     ],
     "language": "python",
     "metadata": {},
     "outputs": [],
     "prompt_number": 790
    },
    {
     "cell_type": "code",
     "collapsed": false,
     "input": [
      "#print adj_list"
     ],
     "language": "python",
     "metadata": {},
     "outputs": [],
     "prompt_number": 791
    },
    {
     "cell_type": "code",
     "collapsed": false,
     "input": [
      "Rs = bga.generate_rotations(adj_list)\n",
      "print len(Rs)"
     ],
     "language": "python",
     "metadata": {},
     "outputs": [
      {
       "output_type": "stream",
       "stream": "stdout",
       "text": [
        "24\n"
       ]
      }
     ],
     "prompt_number": 792
    },
    {
     "cell_type": "code",
     "collapsed": false,
     "input": [
      "#rs = bga.get_rs(ints, adj_list, Rs)"
     ],
     "language": "python",
     "metadata": {},
     "outputs": [],
     "prompt_number": 793
    },
    {
     "cell_type": "code",
     "collapsed": false,
     "input": [
      "#Ss, Ts = bga.get_degeneracies(ints, edges, adj_list, Rs=Rs)\n"
     ],
     "language": "python",
     "metadata": {},
     "outputs": [],
     "prompt_number": 794
    },
    {
     "cell_type": "code",
     "collapsed": false,
     "input": [
      "#edge_adj, edge_adj_inds = bga.edge_adj_list(edges, inds=True)   "
     ],
     "language": "python",
     "metadata": {},
     "outputs": [],
     "prompt_number": 795
    },
    {
     "cell_type": "code",
     "collapsed": false,
     "input": [
      "shellings = bga.get_shellings(edges,ints,degens,shell_int,adj_list)\n",
      "print shellings[-5:]\n"
     ],
     "language": "python",
     "metadata": {},
     "outputs": [
      {
       "output_type": "stream",
       "stream": "stdout",
       "text": [
        "[mpf('0.0'), mpf('192517698230282618784.0'), mpf('219823660923700103712.0'), mpf('276157667790496923456.0'), mpf('688499026944479645952.0')]\n"
       ]
      }
     ],
     "prompt_number": 796
    },
    {
     "cell_type": "code",
     "collapsed": false,
     "input": [
      "shellings[-1]"
     ],
     "language": "python",
     "metadata": {},
     "outputs": [
      {
       "metadata": {},
       "output_type": "pyout",
       "prompt_number": 797,
       "text": [
        "mpf('688499026944479645952.0')"
       ]
      }
     ],
     "prompt_number": 797
    },
    {
     "cell_type": "code",
     "collapsed": false,
     "input": [
      "#print shellings"
     ],
     "language": "python",
     "metadata": {},
     "outputs": [],
     "prompt_number": 798
    },
    {
     "cell_type": "code",
     "collapsed": false,
     "input": [
      "#print edges, shell_int, Ss"
     ],
     "language": "python",
     "metadata": {},
     "outputs": [],
     "prompt_number": 799
    },
    {
     "cell_type": "code",
     "collapsed": false,
     "input": [
      "#1389323257015296 tetrakis hex"
     ],
     "language": "python",
     "metadata": {},
     "outputs": [],
     "prompt_number": 800
    }
   ],
   "metadata": {}
  }
 ]
}