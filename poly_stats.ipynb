{
 "metadata": {
  "name": "",
  "signature": "sha256:3532d8829b9210fcd270ee646bd548c8859a0f50f8140f4917fc7e0f3cd892a3"
 },
 "nbformat": 3,
 "nbformat_minor": 0,
 "worksheets": [
  {
   "cells": [
    {
     "cell_type": "code",
     "collapsed": false,
     "input": [
      "%matplotlib inline"
     ],
     "language": "python",
     "metadata": {},
     "outputs": [],
     "prompt_number": 400
    },
    {
     "cell_type": "code",
     "collapsed": false,
     "input": [
      "import numpy as np\n",
      "import scipy as sp\n",
      "import matplotlib.pyplot as plt\n",
      "import matplotlib.colors as colors\n",
      "import matplotlib.cm as cm\n",
      "\n",
      "import mpmath as mp\n",
      "mp.mp.dps = 100\n",
      "import polyhedra as poly\n",
      "import bga_4_0 as bga\n",
      "\n",
      "bga = reload(bga)"
     ],
     "language": "python",
     "metadata": {},
     "outputs": [],
     "prompt_number": 401
    },
    {
     "cell_type": "code",
     "collapsed": false,
     "input": [
      "#poly_name = \"rhombicuboctahedron\"\n",
      "#poly_name = \"truncated_octahedron\"\n",
      "#poly_name = \"truncated_cuboctahedron\"\n",
      "#poly_name = \"rhombic_triacontahedron\"\n",
      "#poly_name = \"rhombic_dodecahedron\"\n",
      "\n",
      "#poly_name, PolyName = \"tetrahedron\", \"Tetrahedron\"\n",
      "#poly_name, PolyName = \"cube\", \"Cube\"\n",
      "#poly_name, PolyName = \"octahedron\", \"Octahedron\"\n",
      "#poly_name, PolyName = \"dodecahedron\", \"Dodecahedron\"\n",
      "#poly_name, PolyName = \"icosahedron\", \"Icosahedron\"\n",
      "\n",
      "#poly_name, PolyName = \"truncated_tetrahedron\", \"Truncated Tetrahedron\"\n",
      "#poly_name, PolyName = \"cuboctahedron\", \"Cuboctahedron\"\n",
      "#poly_name, PolyName = \"truncated_cube\", \"Truncated Cube\"\n",
      "#poly_name, PolyName = \"truncated_octahedron\", \"Truncated Octahedron\"\n",
      "\n",
      "#poly_name, PolyName = \"triakis_tetrahedron\", \"Triakis Tetrahedron\"\n",
      "#ERR#poly_name, PolyName = \"rhombic_dodecahedron\", \"Rhombic Dodecahedron\"\n",
      "#ERR#poly_name, PolyName = \"triakis_octahedron\", \"Triakis Octahedron\"\n"
     ],
     "language": "python",
     "metadata": {},
     "outputs": [],
     "prompt_number": 402
    },
    {
     "cell_type": "code",
     "collapsed": false,
     "input": [
      "verts, face_inds, cents = getattr(poly, poly_name)()\n",
      "V, E, F, S, species, f_types, adj_list, dual = bga.get_poly(poly_name)\n",
      "ints, ids, paths, shell_int, shell_paths, edges, shell_edge, degens = bga.get_bg_ss(poly_name, get_degens=True)"
     ],
     "language": "python",
     "metadata": {},
     "outputs": [],
     "prompt_number": 403
    },
    {
     "cell_type": "code",
     "collapsed": false,
     "input": [
      "from matplotlib import rc\n",
      "rc('font', **{'family':'serif','serif':['Palatino']})\n",
      "rc('text', usetex=True)\n",
      "\n",
      "fig_width = 10\n",
      "fig_height = 10\n",
      "fig_dpi = 200"
     ],
     "language": "python",
     "metadata": {},
     "outputs": [],
     "prompt_number": 404
    },
    {
     "cell_type": "code",
     "collapsed": false,
     "input": [
      "Rs = bga.generate_rotations(adj_list)\n",
      "print len(Rs)"
     ],
     "language": "python",
     "metadata": {},
     "outputs": [
      {
       "output_type": "stream",
       "stream": "stdout",
       "text": [
        "24\n"
       ]
      }
     ],
     "prompt_number": 405
    },
    {
     "cell_type": "code",
     "collapsed": false,
     "input": [
      "#rs = bga.get_rs(ints, adj_list, Rs)"
     ],
     "language": "python",
     "metadata": {},
     "outputs": [],
     "prompt_number": 406
    },
    {
     "cell_type": "code",
     "collapsed": false,
     "input": [
      "#Ss, Ts = bga.get_degeneracies(ints, edges, adj_list, Rs=Rs)"
     ],
     "language": "python",
     "metadata": {},
     "outputs": [],
     "prompt_number": 407
    },
    {
     "cell_type": "code",
     "collapsed": false,
     "input": [
      "#edge_adj, edge_adj_inds = bga.edge_adj_list(edges, inds=True)   "
     ],
     "language": "python",
     "metadata": {},
     "outputs": [],
     "prompt_number": 408
    },
    {
     "cell_type": "code",
     "collapsed": false,
     "input": [
      "#shellings = bga.get_shellings(edges,ints,degens,shell_int,adj_list)\n",
      "#print shellings[-5:]"
     ],
     "language": "python",
     "metadata": {},
     "outputs": [],
     "prompt_number": 409
    },
    {
     "cell_type": "code",
     "collapsed": false,
     "input": [
      "#shellings[-1]"
     ],
     "language": "python",
     "metadata": {},
     "outputs": [],
     "prompt_number": 410
    },
    {
     "cell_type": "code",
     "collapsed": false,
     "input": [
      "def int_hist(data):\n",
      "    counts = np.zeros(int(data.max()) - int(data.min()) + 1)\n",
      "    for x in data:\n",
      "        counts[int(round(x))] += 1\n",
      "    return counts, data.min(), data.max()"
     ],
     "language": "python",
     "metadata": {},
     "outputs": [],
     "prompt_number": 411
    },
    {
     "cell_type": "code",
     "collapsed": false,
     "input": [
      "dofs = np.zeros(len(ints))\n",
      "for k, int_num in enumerate(range(len(ints))):\n",
      "    dofs[k] = bga.DoF(ints[int_num], verts, face_inds)[0]\n",
      "\n",
      "dof_max = int(dofs.max())\n",
      "counts, dmin, dmax = int_hist(dofs)\n",
      "N = dmax - dmin + 1\n",
      "\n",
      "ind = np.arange(N)  # the x locations for the groups\n",
      "width = 0.65       # the width of the bars\n",
      "\n",
      "fig, ax = plt.subplots()\n",
      "rects1 = ax.bar(ind, counts, width)\n",
      "\n",
      "ax.set_ylabel('Number of Intermediates')\n",
      "ax.set_xlabel('Degrees of Freedom')\n",
      "ax.set_title(PolyName+' Degrees of Freedom Histogram')\n",
      "ax.set_xticks(ind+width*0.5)\n",
      "ax.set_xticklabels(range(dof_max+1))\n",
      "ax.set_xlim(dmin - 0.25, dmax+1)\n",
      "ax.set_ylim(0,1.2*counts.max())\n",
      "\n",
      "plt.savefig(poly_name+\"_dof_hist.eps\", dpi=fig_dpi, format='eps')"
     ],
     "language": "python",
     "metadata": {},
     "outputs": [
      {
       "metadata": {},
       "output_type": "display_data",
       "png": "[encoded data removed]",
       "text": [
        "<matplotlib.figure.Figure at 0x7f495db9cc90>"
       ]
      }
     ],
     "prompt_number": 412
    },
    {
     "cell_type": "code",
     "collapsed": false,
     "input": [
      "M = int(round(max(dofs)))\n",
      "N = len(ints[0,:])\n",
      "w = 0.8\n",
      "\n",
      "inds = np.arange(N+1)\n",
      "df_dist = np.zeros((M+1,N+1))\n",
      "\n",
      "for k,d in enumerate(dofs):\n",
      "    t = sum([1 for x in ints[k,:] if x != 0])\n",
      "    df_dist[d,t] += 1.0\n",
      "\n",
      "for j in range(N+1):\n",
      "    df_dist[:,j] /= sum(df_dist[:,j])\n",
      "\n",
      "fig = plt.figure(202)\n",
      "plt.clf()\n",
      "ax = fig.add_subplot(111)\n",
      "\n",
      "rects_total = np.zeros((N+1))\n",
      "for i in range(M+1):\n",
      "    colour = colors.rgb2hex(sp.rand(3))\n",
      "    rects = ax.bar(inds,df_dist[i,:],width=w,color=colour,bottom=rects_total)\n",
      "    rects_total += df_dist[i,:]\n",
      "\n",
      "ax.set_xlabel('Number of faces of intermediate')\n",
      "ax.set_ylabel('Distribution of degrees of freedom')\n",
      "ax.set_title('Degrees of freedom distribution by size of intermediate for the '+PolyName)\n",
      "ax.set_xticks(inds+w*.5)\n",
      "ax.set_xticklabels(inds)\n",
      "ax.set_xlim(-0.5*w,N+1.5*w)\n",
      "ax.set_ylim(0.0,1.0)"
     ],
     "language": "python",
     "metadata": {},
     "outputs": [
      {
       "metadata": {},
       "output_type": "pyout",
       "prompt_number": 413,
       "text": [
        "(0.0, 1.0)"
       ]
      },
      {
       "metadata": {},
       "output_type": "display_data",
       "png": "[encoded data removed]",
       "text": [
        "<matplotlib.figure.Figure at 0x7f495cb276d0>"
       ]
      }
     ],
     "prompt_number": 413
    },
    {
     "cell_type": "heading",
     "level": 5,
     "metadata": {},
     "source": [
      "M = int(round(max(dofs)))\n",
      "N = len(ints[0,:])\n",
      "w = 0.8\n",
      "\n",
      "inds = np.arange(N+1)\n",
      "df_dist = np.zeros((M+1,N+1))\n",
      "\n",
      "for k,d in enumerate(dofs):\n",
      "    t = sum([1 for x in ints[k,:] if x != 0])\n",
      "    df_dist[d,t] += 1.0\n",
      "\n",
      "for j in range(N+1):\n",
      "    df_dist[:,j] /= sum(df_dist[:,j])\n",
      "\n",
      "fig = plt.figure(202)\n",
      "plt.clf()\n",
      "ax = fig.add_subplot(111)\n",
      "\n",
      "for i in range(M+1):\n",
      "    colour = colors.rgb2hex(sp.rand(3))\n",
      "    rects = ax.plot(inds,df_dist[i,:],color=colour)\n",
      "\n",
      "ax.set_xlabel('Number of faces of intermediate')\n",
      "ax.set_ylabel('Proportion of intermediates')\n",
      "ax.set_title('Degrees of freedom distribution by size of intermediate for the '+poly_name)\n",
      "ax.set_xticks(inds)\n",
      "ax.set_xticklabels(inds)\n",
      "#ax.legend()\n",
      "#ax.set_xlim(-0.5*w,N+1.5*w)\n",
      "#ax.set_ylim(0.0,1.0)"
     ]
    },
    {
     "cell_type": "code",
     "collapsed": false,
     "input": [
      "M = int(round(max(dofs)))\n",
      "N = len(ints[0,:])\n",
      "w = 0.8\n",
      "\n",
      "inds = np.arange(N+1)\n",
      "df_dist = np.zeros((M+1,N+1))\n",
      "\n",
      "for k,d in enumerate(dofs):\n",
      "    t = sum([1 for x in ints[k,:] if x != 0])\n",
      "    df_dist[d,t] += 1.0\n",
      "\n",
      "for j in range(N+1):\n",
      "    df_dist[:,j] /= sum(df_dist[:,j])\n",
      "\n",
      "amp = 1.0\n",
      "fig = plt.figure(num=None, figsize=(amp*fig_width, 0.4*fig_height), dpi=fig_dpi, facecolor='w', edgecolor='k')\n",
      "plt.clf()\n",
      "ax = fig.add_subplot(111)\n",
      "\n",
      "plt.tick_params(\n",
      "    axis='both',          # changes apply to the x-axis\n",
      "    which='both',      # both major and minor ticks are affected\n",
      "    bottom='off',      # ticks along the bottom edge are off\n",
      "    top='off',         # ticks along the top edge are off\n",
      "    left='off',\n",
      "    right='off')\n",
      "\n",
      "#grd = ax.imshow(df_dist, cmap=cm.gist_earth, interpolation='nearest')\n",
      "grd = ax.imshow(df_dist, cmap=cm.bone_r, interpolation='nearest')\n",
      "plt.colorbar(grd)\n",
      "ax.set_xlabel('Faces in Intermediate')\n",
      "ax.set_ylabel('Degrees of Freedom Proportion')\n",
      "ax.set_title(PolyName + ' Degrees of Freedom Histograms by Face Count')\n",
      "ax.set_xticks(inds)\n",
      "ax.set_xticklabels(inds)\n",
      "#ax.set_xlim(-0.5*w,N+1.5*w)\n",
      "#ax.set_ylim(0.0,1.0)\n",
      "\n",
      "\n",
      "plt.savefig(poly_name+\"_dof_hist_facecount.eps\", dpi=fig_dpi, format='eps')"
     ],
     "language": "python",
     "metadata": {},
     "outputs": [
      {
       "metadata": {},
       "output_type": "display_data",
       "png": "[encoded data removed]",
       "text": [
        "<matplotlib.figure.Figure at 0x7f495cc25490>"
       ]
      }
     ],
     "prompt_number": 414
    }
   ],
   "metadata": {}
  }
 ]
}