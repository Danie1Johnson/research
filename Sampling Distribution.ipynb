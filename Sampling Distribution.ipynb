{
 "metadata": {
  "name": "",
  "signature": "sha256:1ad2debd779c9fec7cb34e691dd53df8592c17fe027e0b0d0e326174e0cbc89a"
 },
 "nbformat": 3,
 "nbformat_minor": 0,
 "worksheets": [
  {
   "cells": [
    {
     "cell_type": "code",
     "collapsed": false,
     "input": [
      "%matplotlib inline"
     ],
     "language": "python",
     "metadata": {},
     "outputs": [],
     "prompt_number": 2
    },
    {
     "cell_type": "code",
     "collapsed": false,
     "input": [
      "import numpy as np\n",
      "import matplotlib.pyplot as plt"
     ],
     "language": "python",
     "metadata": {},
     "outputs": [],
     "prompt_number": 3
    },
    {
     "cell_type": "code",
     "collapsed": false,
     "input": [
      "def h(phi, omega, theta, xi):\n",
      "    ans = 3*np.sin(theta)**2 + 3*np.sin(theta + xi)**2 + 2.0\n",
      "    ans *= (3*np.sin(theta)**2*np.sin(omega)**2 + 3*np.sin(theta + xi)**2*np.sin(omega)**2 + 2.0*np.sin(phi)**2)\n",
      "    return (ans)**0.5"
     ],
     "language": "python",
     "metadata": {},
     "outputs": [],
     "prompt_number": 4
    },
    {
     "cell_type": "code",
     "collapsed": false,
     "input": [
      "# Number of samples\n",
      "N = 10**5\n",
      "xis = np.zeros(N)\n",
      "\n",
      "# Rejection sample\n",
      "for k in range(N):\n",
      "    while True:\n",
      "        u = np.random.uniform()\n",
      "        phi = np.pi*np.random.uniform()\n",
      "        omega = 2.0*np.pi*np.random.uniform()\n",
      "        theta = 2.0*np.pi*np.random.uniform()\n",
      "        xi = 2.0*np.pi*np.random.uniform()\n",
      "        if 8.0*u < h(phi, omega, theta, xi):\n",
      "            xis[k] = xi\n",
      "            break\n",
      "        #print 'hi', k, u, h(phi, omega, theta, xi)\n",
      "        #break"
     ],
     "language": "python",
     "metadata": {},
     "outputs": [],
     "prompt_number": 5
    },
    {
     "cell_type": "code",
     "collapsed": false,
     "input": [
      "hh = plt.hist(xis, bins=100, normed=True)\n",
      "\n",
      "a = 0.5/np.pi\n",
      "b = -a*0.1\n",
      "c = -a*0.1\n",
      "\n",
      "xs = np.linspace(0.0, 2.0*np.pi)\n",
      "ys = a + b*np.cos(xs) + c*np.cos(2*xs)\n",
      "ph = plt.plot(xs, ys, 'r')"
     ],
     "language": "python",
     "metadata": {},
     "outputs": [
      {
       "metadata": {},
       "output_type": "display_data",
       "png": "[encoded data removed]",
       "text": [
        "<matplotlib.figure.Figure at 0x3a0a5d0>"
       ]
      }
     ],
     "prompt_number": 6
    },
    {
     "cell_type": "code",
     "collapsed": false,
     "input": [
      "import numpy as np\n",
      " \n",
      "import matplotlib.pyplot as plt\n",
      " \n",
      "import bga_4_0 as bga\n",
      "import manifold_reflected_brownian_motion as mrbm\n",
      "import statistics as sts\n",
      " \n",
      "bga = reload(bga)\n",
      "mrbm = reload(mrbm)\n",
      " "
     ],
     "language": "python",
     "metadata": {},
     "outputs": [],
     "prompt_number": 23
    },
    {
     "cell_type": "code",
     "collapsed": false,
     "input": [
      "poly_name = 'octahedron'\n",
      "int_num = 2\n",
      "\n",
      "manifold_name = poly_name\n",
      "manifold_kwargs = {'int_num': int_num}\n",
      "\n",
      "boundary_name = poly_name\n",
      "boundary_kwargs = {'int_num': int_num}\n",
      "\n",
      "stat_name = 'test_1'\n",
      "stat_kwargs = {}"
     ],
     "language": "python",
     "metadata": {},
     "outputs": [],
     "prompt_number": 24
    },
    {
     "cell_type": "code",
     "collapsed": false,
     "input": [
      "err_tol = 10**-12\n",
      "#h0 = 0.05\n",
      "h = 0.05\n",
      "N = 10**7\n",
      "run_kwargs = {'N': N, 'bg': True}\n",
      "\n",
      "kwargs = {'stat_name': stat_name,\n",
      "            'run_kwargs': run_kwargs, \n",
      "            'err_tol': err_tol,\n",
      "            'manifold_kwargs': manifold_kwargs,\n",
      "            'boundary_kwargs': {},\n",
      "            'stat_kwargs': stat_kwargs}"
     ],
     "language": "python",
     "metadata": {},
     "outputs": [],
     "prompt_number": 25
    },
    {
     "cell_type": "code",
     "collapsed": false,
     "input": [
      "x0, links, lengths, faces = bga.load_bg_int(poly_name, int_num)"
     ],
     "language": "python",
     "metadata": {},
     "outputs": [],
     "prompt_number": 26
    },
    {
     "cell_type": "code",
     "collapsed": false,
     "input": [
      "z = mrbm.MRBM(manifold_name, 'none', x0, h, **kwargs)"
     ],
     "language": "python",
     "metadata": {},
     "outputs": [],
     "prompt_number": 27
    },
    {
     "cell_type": "code",
     "collapsed": false,
     "input": [],
     "language": "python",
     "metadata": {},
     "outputs": [
      {
       "output_type": "stream",
       "stream": "stdout",
       "text": [
        "[ 0.70710678  0.          0.         -0.70710678  0.          0.          0.\n",
        " -0.70710678  0.          0.          0.          0.70710678]\n",
        "[  2.22044605e-16   2.22044605e-16   2.22044605e-16   2.22044605e-16\n",
        "   2.22044605e-16]\n",
        "[[ 0.          0.          0.         -1.41421356  0.         -1.41421356\n",
        "   0.          0.          0.          1.41421356  0.          1.41421356]\n",
        " [ 0.          0.          0.         -1.41421356  1.41421356  0.\n",
        "   1.41421356 -1.41421356  0.          0.          0.          0.        ]\n",
        " [ 0.          0.          0.          0.          0.          0.          0.\n",
        "  -1.41421356 -1.41421356  0.          1.41421356  1.41421356]\n",
        " [ 1.41421356  1.41421356  0.          0.          0.          0.\n",
        "  -1.41421356 -1.41421356  0.          0.          0.          0.        ]\n",
        " [ 1.41421356  0.         -1.41421356  0.          0.          0.          0.\n",
        "   0.          0.         -1.41421356  0.          1.41421356]]\n",
        "[ 1.  1.  1.  1.  1.] [ 0.70710678  0.          0.         -0.70710678  0.          0.          0.\n",
        " -0.70710678  0.          0.          0.          0.70710678]\n",
        "1.91063323625\n",
        "1.91063323625\n"
       ]
      }
     ],
     "prompt_number": 29
    }
   ],
   "metadata": {}
  }
 ]
}