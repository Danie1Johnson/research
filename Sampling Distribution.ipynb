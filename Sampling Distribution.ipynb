{
 "metadata": {
  "name": "",
  "signature": "sha256:1ad2debd779c9fec7cb34e691dd53df8592c17fe027e0b0d0e326174e0cbc89a"
 },
 "nbformat": 3,
 "nbformat_minor": 0,
 "worksheets": [
  {
   "cells": [
    {
     "cell_type": "code",
     "collapsed": false,
     "input": [
      "%matplotlib inline"
     ],
     "language": "python",
     "metadata": {},
     "outputs": [],
     "prompt_number": 7
    },
    {
     "cell_type": "code",
     "collapsed": false,
     "input": [
      "import numpy as np\n",
      "import matplotlib.pyplot as plt"
     ],
     "language": "python",
     "metadata": {},
     "outputs": [],
     "prompt_number": 8
    },
    {
     "cell_type": "code",
     "collapsed": false,
     "input": [
      "def h(phi, omega, theta, xi):\n",
      "    ans = 3*np.sin(theta)**2 + 3*np.sin(theta + xi)**2 + 2.0\n",
      "    ans *= (3*np.sin(theta)**2*np.sin(omega)**2 + 3*np.sin(theta + xi)**2*np.sin(omega)**2 + 2.0*np.sin(phi)**2)\n",
      "    return (ans)**0.5"
     ],
     "language": "python",
     "metadata": {},
     "outputs": [],
     "prompt_number": 9
    },
    {
     "cell_type": "code",
     "collapsed": false,
     "input": [
      "# Number of samples\n",
      "N = 10**5\n",
      "xis = np.zeros(N)\n",
      "\n",
      "# Rejection sample\n",
      "for k in range(N):\n",
      "    while True:\n",
      "        u = np.random.uniform()\n",
      "        phi = np.pi*np.random.uniform()\n",
      "        omega = 2.0*np.pi*np.random.uniform()\n",
      "        theta = 2.0*np.pi*np.random.uniform()\n",
      "        xi = 2.0*np.pi*np.random.uniform()\n",
      "        if 8.0*u < h(phi, omega, theta, xi):\n",
      "            xis[k] = xi\n",
      "            break\n",
      "        #print 'hi', k, u, h(phi, omega, theta, xi)\n",
      "        #break"
     ],
     "language": "python",
     "metadata": {},
     "outputs": [],
     "prompt_number": 10
    },
    {
     "cell_type": "code",
     "collapsed": false,
     "input": [
      "hh = plt.hist(xis, bins=100, normed=True)\n",
      "\n",
      "a = 0.5/np.pi\n",
      "b = -a*0.1\n",
      "c = -a*0.1\n",
      "\n",
      "xs = np.linspace(0.0, 2.0*np.pi)\n",
      "ys = a + b*np.cos(xs) + c*np.cos(2*xs)\n",
      "ph = plt.plot(xs, ys, 'r')"
     ],
     "language": "python",
     "metadata": {},
     "outputs": [
      {
       "metadata": {},
       "output_type": "display_data",
       "png": "[encoded data removed]",
       "text": [
        "<matplotlib.figure.Figure at 0x7fc0c0be9150>"
       ]
      }
     ],
     "prompt_number": 11
    }
   ],
   "metadata": {}
  }
 ]
}