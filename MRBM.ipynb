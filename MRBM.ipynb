{
 "metadata": {
  "name": "",
  "signature": "sha256:c13e297e3179a6cdc3b8cd71a581327f2387487c09bcbe7efde9425b324f658a"
 },
 "nbformat": 3,
 "nbformat_minor": 0,
 "worksheets": [
  {
   "cells": [
    {
     "cell_type": "code",
     "collapsed": false,
     "input": [
      "%matplotlib inline"
     ],
     "language": "python",
     "metadata": {},
     "outputs": [],
     "prompt_number": 1
    },
    {
     "cell_type": "code",
     "collapsed": false,
     "input": [
      "import numpy as np\n",
      "import matplotlib.pyplot as plt\n",
      "import numpy.linalg\n",
      "import cPickle\n",
      "import time"
     ],
     "language": "python",
     "metadata": {},
     "outputs": [],
     "prompt_number": 2
    },
    {
     "cell_type": "code",
     "collapsed": false,
     "input": [
      "import manifold_reflected_brownian_motion as mrbm\n",
      "#import manifolds as mfs\n",
      "#import boundaries as bds\n",
      "mrbm = reload(mrbm)\n",
      "#mfs = reload(mfs)\n",
      "#bds = reload(bds)"
     ],
     "language": "python",
     "metadata": {},
     "outputs": [],
     "prompt_number": 3
    },
    {
     "cell_type": "code",
     "collapsed": false,
     "input": [
      "manifold_name = 'sphere'\n",
      "manifold_kwargs = {}\n",
      "boundary_name = 'positive'\n",
      "boundary_kwargs = {}"
     ],
     "language": "python",
     "metadata": {},
     "outputs": [],
     "prompt_number": 4
    },
    {
     "cell_type": "code",
     "collapsed": false,
     "input": [
      "# Set parameters\n",
      "#ds = range(2,6)\n",
      "#hs = [0.100, 0.050, 0.025]   \n",
      "#schemes = ['rej', 'ref']\n",
      "# Set parameters\n",
      "ds = range(2,6)\n",
      "hs = [0.100, 0.050, 0.025]   \n",
      "schemes = ['ref']"
     ],
     "language": "python",
     "metadata": {},
     "outputs": [],
     "prompt_number": 5
    },
    {
     "cell_type": "code",
     "collapsed": false,
     "input": [
      "# Draw samples\n",
      "N = 10**2\n",
      "traces = {}\n",
      "for j, h in enumerate(hs):     \n",
      "    traces[j] = {}\n",
      "    for k, d in enumerate(ds):\n",
      "        traces[j][k] = {}\n",
      "        x0 = np.ones(d)\n",
      "        x0 /= numpy.linalg.norm(x0)\n",
      "        for s, scheme in enumerate(schemes):\n",
      "            print \"Running... \\t\", scheme, d, h, \"\\t\", time.ctime()\n",
      "            z = mrbm.MRBM(manifold_name, boundary_name, x0, h, scheme, run_args={'N': N}, manifold_kwargs=manifold_kwargs, boundary_kwargs=boundary_kwargs)\n",
      "            #parm_str = z.parm_str(**{'N':N})\n",
      "            if z.load_trace() == False:\n",
      "                z.sample(N)\n",
      "                #z.dump_trace()\n",
      "            traces[j][k][s] = z"
     ],
     "language": "python",
     "metadata": {},
     "outputs": [
      {
       "output_type": "stream",
       "stream": "stdout",
       "text": [
        "Running... \tref 2 0.1 \tTue Dec 16 09:47:51 2014\n",
        "Running... \t"
       ]
      },
      {
       "output_type": "stream",
       "stream": "stdout",
       "text": [
        "ref 3 0.1 \tTue Dec 16 09:47:51 2014\n",
        "Running... \t"
       ]
      },
      {
       "output_type": "stream",
       "stream": "stdout",
       "text": [
        "ref 4 0.1 \tTue Dec 16 09:47:51 2014\n",
        "ERROR: projection lies outside domain"
       ]
      },
      {
       "ename": "TypeError",
       "evalue": "unsupported operand type(s) for *: 'float' and 'NoneType'",
       "output_type": "pyerr",
       "traceback": [
        "\u001b[1;31m---------------------------------------------------------------------------\u001b[0m\n\u001b[1;31mTypeError\u001b[0m                                 Traceback (most recent call last)",
        "\u001b[1;32m<ipython-input-6-bba3cb732f65>\u001b[0m in \u001b[0;36m<module>\u001b[1;34m()\u001b[0m\n\u001b[0;32m     13\u001b[0m             \u001b[1;31m#parm_str = z.parm_str(**{'N':N})\u001b[0m\u001b[1;33m\u001b[0m\u001b[1;33m\u001b[0m\u001b[0m\n\u001b[0;32m     14\u001b[0m             \u001b[1;32mif\u001b[0m \u001b[0mz\u001b[0m\u001b[1;33m.\u001b[0m\u001b[0mload_trace\u001b[0m\u001b[1;33m(\u001b[0m\u001b[1;33m)\u001b[0m \u001b[1;33m==\u001b[0m \u001b[0mFalse\u001b[0m\u001b[1;33m:\u001b[0m\u001b[1;33m\u001b[0m\u001b[0m\n\u001b[1;32m---> 15\u001b[1;33m                 \u001b[0mz\u001b[0m\u001b[1;33m.\u001b[0m\u001b[0msample\u001b[0m\u001b[1;33m(\u001b[0m\u001b[0mN\u001b[0m\u001b[1;33m)\u001b[0m\u001b[1;33m\u001b[0m\u001b[0m\n\u001b[0m\u001b[0;32m     16\u001b[0m                 \u001b[1;31m#z.dump_trace()\u001b[0m\u001b[1;33m\u001b[0m\u001b[1;33m\u001b[0m\u001b[0m\n\u001b[0;32m     17\u001b[0m             \u001b[0mtraces\u001b[0m\u001b[1;33m[\u001b[0m\u001b[0mj\u001b[0m\u001b[1;33m]\u001b[0m\u001b[1;33m[\u001b[0m\u001b[0mk\u001b[0m\u001b[1;33m]\u001b[0m\u001b[1;33m[\u001b[0m\u001b[0ms\u001b[0m\u001b[1;33m]\u001b[0m \u001b[1;33m=\u001b[0m \u001b[0mz\u001b[0m\u001b[1;33m\u001b[0m\u001b[0m\n",
        "\u001b[1;32m/home/daniel/Research/Brownian Motion Schemes/manifold_reflected_brownian_motion.pyc\u001b[0m in \u001b[0;36msample\u001b[1;34m(self, N, record_trace)\u001b[0m\n\u001b[0;32m    121\u001b[0m         \u001b[1;32mfor\u001b[0m \u001b[0mkt\u001b[0m\u001b[1;33m,\u001b[0m \u001b[0mt\u001b[0m \u001b[1;32min\u001b[0m \u001b[0menumerate\u001b[0m\u001b[1;33m(\u001b[0m\u001b[0mT_run\u001b[0m\u001b[1;33m[\u001b[0m\u001b[1;36m1\u001b[0m\u001b[1;33m:\u001b[0m\u001b[1;33m]\u001b[0m\u001b[1;33m)\u001b[0m\u001b[1;33m:\u001b[0m\u001b[1;33m\u001b[0m\u001b[0m\n\u001b[0;32m    122\u001b[0m             \u001b[1;32mif\u001b[0m \u001b[0mself\u001b[0m\u001b[1;33m.\u001b[0m\u001b[0mscheme\u001b[0m \u001b[1;33m==\u001b[0m \u001b[1;34m'ref'\u001b[0m\u001b[1;33m:\u001b[0m\u001b[1;33m\u001b[0m\u001b[0m\n\u001b[1;32m--> 123\u001b[1;33m                 \u001b[0mself\u001b[0m\u001b[1;33m.\u001b[0m\u001b[0mx\u001b[0m \u001b[1;33m=\u001b[0m \u001b[0mself\u001b[0m\u001b[1;33m.\u001b[0m\u001b[0mnew_reflection_sample\u001b[0m\u001b[1;33m(\u001b[0m\u001b[1;33m)\u001b[0m\u001b[1;33m\u001b[0m\u001b[0m\n\u001b[0m\u001b[0;32m    124\u001b[0m             \u001b[1;32melse\u001b[0m\u001b[1;33m:\u001b[0m\u001b[1;33m\u001b[0m\u001b[0m\n\u001b[0;32m    125\u001b[0m                 \u001b[0mself\u001b[0m\u001b[1;33m.\u001b[0m\u001b[0mx\u001b[0m \u001b[1;33m=\u001b[0m \u001b[0mself\u001b[0m\u001b[1;33m.\u001b[0m\u001b[0mnew_rejection_sample\u001b[0m\u001b[1;33m(\u001b[0m\u001b[1;33m)\u001b[0m\u001b[1;33m\u001b[0m\u001b[0m\n",
        "\u001b[1;32m/home/daniel/Research/Brownian Motion Schemes/manifold_reflected_brownian_motion.pyc\u001b[0m in \u001b[0;36mnew_reflection_sample\u001b[1;34m(self)\u001b[0m\n\u001b[0;32m    180\u001b[0m         \u001b[0mL\u001b[0m \u001b[1;33m=\u001b[0m \u001b[1;33m(\u001b[0m\u001b[0mself\u001b[0m\u001b[1;33m.\u001b[0m\u001b[0md\u001b[0m\u001b[1;33m)\u001b[0m\u001b[1;33m**\u001b[0m\u001b[1;36m0.5\u001b[0m\u001b[1;33m*\u001b[0m\u001b[0mself\u001b[0m\u001b[1;33m.\u001b[0m\u001b[0mh\u001b[0m\u001b[1;33m\u001b[0m\u001b[0m\n\u001b[0;32m    181\u001b[0m         \u001b[1;31m# Find Bases\u001b[0m\u001b[1;33m\u001b[0m\u001b[1;33m\u001b[0m\u001b[0m\n\u001b[1;32m--> 182\u001b[1;33m         \u001b[0mA\u001b[0m \u001b[1;33m=\u001b[0m \u001b[0mnp\u001b[0m\u001b[1;33m.\u001b[0m\u001b[0mhstack\u001b[0m\u001b[1;33m(\u001b[0m\u001b[1;33m(\u001b[0m\u001b[0mself\u001b[0m\u001b[1;33m.\u001b[0m\u001b[0mC\u001b[0m\u001b[1;33m(\u001b[0m\u001b[0mx\u001b[0m\u001b[1;33m)\u001b[0m\u001b[1;33m.\u001b[0m\u001b[0mT\u001b[0m\u001b[1;33m,\u001b[0m \u001b[0mself\u001b[0m\u001b[1;33m.\u001b[0m\u001b[0mB\u001b[0m\u001b[1;33m)\u001b[0m\u001b[1;33m)\u001b[0m\u001b[1;33m\u001b[0m\u001b[0m\n\u001b[0m\u001b[0;32m    183\u001b[0m         \u001b[0mQ\u001b[0m\u001b[1;33m,\u001b[0m \u001b[0mR\u001b[0m \u001b[1;33m=\u001b[0m \u001b[0mnumpy\u001b[0m\u001b[1;33m.\u001b[0m\u001b[0mlinalg\u001b[0m\u001b[1;33m.\u001b[0m\u001b[0mqr\u001b[0m\u001b[1;33m(\u001b[0m\u001b[0mA\u001b[0m\u001b[1;33m)\u001b[0m\u001b[1;33m\u001b[0m\u001b[0m\n\u001b[0;32m    184\u001b[0m         \u001b[1;31m# Check for full rank\u001b[0m\u001b[1;33m\u001b[0m\u001b[1;33m\u001b[0m\u001b[0m\n",
        "\u001b[1;32m/home/daniel/Research/Brownian Motion Schemes/manifolds.pyc\u001b[0m in \u001b[0;36m<lambda>\u001b[1;34m(x)\u001b[0m\n\u001b[0;32m     13\u001b[0m         \u001b[0mC_fun\u001b[0m \u001b[1;33m=\u001b[0m \u001b[0mglobals\u001b[0m\u001b[1;33m(\u001b[0m\u001b[1;33m)\u001b[0m\u001b[1;33m[\u001b[0m\u001b[0mmanifold_name\u001b[0m\u001b[1;33m+\u001b[0m\u001b[1;34m\"_C\"\u001b[0m\u001b[1;33m]\u001b[0m\u001b[1;33m\u001b[0m\u001b[0m\n\u001b[0;32m     14\u001b[0m         \u001b[0mc\u001b[0m \u001b[1;33m=\u001b[0m \u001b[1;32mlambda\u001b[0m \u001b[0mx\u001b[0m\u001b[1;33m:\u001b[0m \u001b[0mc_fun\u001b[0m\u001b[1;33m(\u001b[0m\u001b[0mx\u001b[0m\u001b[1;33m,\u001b[0m\u001b[1;33m**\u001b[0m\u001b[0mkwargs\u001b[0m\u001b[1;33m)\u001b[0m\u001b[1;33m\u001b[0m\u001b[0m\n\u001b[1;32m---> 15\u001b[1;33m         \u001b[0mC\u001b[0m \u001b[1;33m=\u001b[0m \u001b[1;32mlambda\u001b[0m \u001b[0mx\u001b[0m\u001b[1;33m:\u001b[0m \u001b[0mC_fun\u001b[0m\u001b[1;33m(\u001b[0m\u001b[0mx\u001b[0m\u001b[1;33m,\u001b[0m\u001b[1;33m**\u001b[0m\u001b[0mkwargs\u001b[0m\u001b[1;33m)\u001b[0m\u001b[1;33m\u001b[0m\u001b[0m\n\u001b[0m\u001b[0;32m     16\u001b[0m         \u001b[1;32mreturn\u001b[0m \u001b[0mc\u001b[0m\u001b[1;33m,\u001b[0m \u001b[0mC\u001b[0m\u001b[1;33m\u001b[0m\u001b[0m\n\u001b[0;32m     17\u001b[0m     \u001b[1;32mexcept\u001b[0m \u001b[0mKeyError\u001b[0m\u001b[1;33m,\u001b[0m \u001b[0mNameError\u001b[0m\u001b[1;33m:\u001b[0m\u001b[1;33m\u001b[0m\u001b[0m\n",
        "\u001b[1;32m/home/daniel/Research/Brownian Motion Schemes/manifolds.pyc\u001b[0m in \u001b[0;36msphere_C\u001b[1;34m(x)\u001b[0m\n\u001b[0;32m     23\u001b[0m \u001b[1;33m\u001b[0m\u001b[0m\n\u001b[0;32m     24\u001b[0m \u001b[1;32mdef\u001b[0m \u001b[0msphere_C\u001b[0m\u001b[1;33m(\u001b[0m\u001b[0mx\u001b[0m\u001b[1;33m)\u001b[0m\u001b[1;33m:\u001b[0m\u001b[1;33m\u001b[0m\u001b[0m\n\u001b[1;32m---> 25\u001b[1;33m     \u001b[1;32mreturn\u001b[0m \u001b[0mellipse_C\u001b[0m\u001b[1;33m(\u001b[0m\u001b[0mx\u001b[0m\u001b[1;33m)\u001b[0m\u001b[1;33m\u001b[0m\u001b[0m\n\u001b[0m\u001b[0;32m     26\u001b[0m \u001b[1;31m###--------------------------------------------------------------------------\u001b[0m\u001b[1;33m\u001b[0m\u001b[1;33m\u001b[0m\u001b[0m\n\u001b[0;32m     27\u001b[0m \u001b[1;32mdef\u001b[0m \u001b[0mellipse_c\u001b[0m\u001b[1;33m(\u001b[0m\u001b[0mx\u001b[0m\u001b[1;33m,\u001b[0m \u001b[0mr\u001b[0m\u001b[1;33m=\u001b[0m\u001b[1;36m1.0\u001b[0m\u001b[1;33m,\u001b[0m \u001b[0ma\u001b[0m\u001b[1;33m=\u001b[0m\u001b[0mNone\u001b[0m\u001b[1;33m,\u001b[0m \u001b[0mA\u001b[0m\u001b[1;33m=\u001b[0m\u001b[0mNone\u001b[0m\u001b[1;33m)\u001b[0m\u001b[1;33m:\u001b[0m\u001b[1;33m\u001b[0m\u001b[0m\n",
        "\u001b[1;32m/home/daniel/Research/Brownian Motion Schemes/manifolds.pyc\u001b[0m in \u001b[0;36mellipse_C\u001b[1;34m(x, a, A)\u001b[0m\n\u001b[0;32m     42\u001b[0m         \u001b[0mC\u001b[0m\u001b[1;33m.\u001b[0m\u001b[0mappend\u001b[0m\u001b[1;33m(\u001b[0m\u001b[1;36m2.0\u001b[0m\u001b[1;33m*\u001b[0m\u001b[0mnp\u001b[0m\u001b[1;33m.\u001b[0m\u001b[0mdot\u001b[0m\u001b[1;33m(\u001b[0m\u001b[0mA\u001b[0m\u001b[1;33m,\u001b[0m\u001b[0mx\u001b[0m\u001b[1;33m)\u001b[0m\u001b[1;33m)\u001b[0m\u001b[1;33m\u001b[0m\u001b[0m\n\u001b[0;32m     43\u001b[0m     \u001b[1;32melse\u001b[0m\u001b[1;33m:\u001b[0m\u001b[1;33m\u001b[0m\u001b[0m\n\u001b[1;32m---> 44\u001b[1;33m         \u001b[0mC\u001b[0m\u001b[1;33m.\u001b[0m\u001b[0mappend\u001b[0m\u001b[1;33m(\u001b[0m\u001b[1;36m2.0\u001b[0m\u001b[1;33m*\u001b[0m\u001b[0mx\u001b[0m\u001b[1;33m)\u001b[0m\u001b[1;33m\u001b[0m\u001b[0m\n\u001b[0m\u001b[0;32m     45\u001b[0m     \u001b[1;32mreturn\u001b[0m \u001b[0mnp\u001b[0m\u001b[1;33m.\u001b[0m\u001b[0marray\u001b[0m\u001b[1;33m(\u001b[0m\u001b[0mC\u001b[0m\u001b[1;33m)\u001b[0m\u001b[1;33m\u001b[0m\u001b[0m\n\u001b[0;32m     46\u001b[0m \u001b[1;31m###--------------------------------------------------------------------------\u001b[0m\u001b[1;33m\u001b[0m\u001b[1;33m\u001b[0m\u001b[0m\n",
        "\u001b[1;31mTypeError\u001b[0m: unsupported operand type(s) for *: 'float' and 'NoneType'"
       ]
      },
      {
       "output_type": "stream",
       "stream": "stdout",
       "text": [
        " [-0.0018246   0.36483223  0.79910559  0.47783299]\n"
       ]
      }
     ],
     "prompt_number": 6
    },
    {
     "cell_type": "code",
     "collapsed": false,
     "input": [
      "x_range = [-1.0, 1.0]\n",
      "y_range = [-1.0, 1.0]\n",
      "\n",
      "for s in [0,1]:\n",
      "    fig, axes = plt.subplots(nrows=len(ds), ncols=len(hs), figsize=(15,15))\n",
      "    fig.suptitle('Rejection Sampled Traces on a '+'manifold_name'+' with '+boundary_name+' boundaries', fontsize=20)\n",
      "    N_red = 500\n",
      "    N_blue = 50000\n",
      "    j_max = len(hs)-1\n",
      "    k_max = len(ds)-1\n",
      "    k_max_half = (k_max)/2\n",
      "    for j, h in enumerate(hs):\n",
      "        for k, d in enumerate(ds):\n",
      "            #k_act = 2*k + s\n",
      "            axes[k,j].set_xlim(x_range)\n",
      "            axes[k,j].set_ylim(y_range)\n",
      "            line1 = axes[k,j].plot(traces[j][k][s].xs[:N_blue,0], traces[j][k][s].xs[:N_blue,1])\n",
      "            line2 = axes[k,j].plot(traces[j][k][s].xs[:N_red,0], traces[j][k][s].xs[:N_red,1], 'r')\n",
      "            if k == 0:\n",
      "                axes[k,j].set_title('h = '+str(h), fontsize=14)\n",
      "            if j == 0:\n",
      "                axes[k,j].set_ylabel('d = '+ str(d), fontsize=14)\n",
      "            if k == 0 and j == j_max:\n",
      "                axes[k,j].legend((line1[0], line2[0]),(str(N_blue)+' points', 'First '+str(N_red)+' points'),'upper right')\n",
      "            "
     ],
     "language": "python",
     "metadata": {},
     "outputs": []
    },
    {
     "cell_type": "code",
     "collapsed": false,
     "input": [
      "x_range = [0.0, 1.0]\n",
      "y_range = [0.0, 1.0]\n",
      "\n",
      "for s in [0,1]:\n",
      "    fig, axes = plt.subplots(nrows=len(sigs)/2, ncols=len(hs), figsize=(15,15))\n",
      "    fig.suptitle('Reflection Sampled Traces in a Prism', fontsize=20)\n",
      "    N_red = 500\n",
      "    N_blue = 50000\n",
      "    j_max = len(hs)-1\n",
      "    k_max = len(sigs)-1\n",
      "    k_max_half = (k_max - s)/2\n",
      "    for j, h in enumerate(hs):\n",
      "        for k, sig in enumerate(sigs[s::2]):\n",
      "            k_act = 2*k + s\n",
      "            axes[k.j].set_xlim(x_range)\n",
      "            axes[k.j].set_ylim(y_range)\n",
      "            line1 = axes[k,j].plot(traces[j][k_act][1].xs[:N_blue,0], traces[j][k_act][1].xs[:N_blue,1])\n",
      "            line2 = axes[k,j].plot(traces[j][k_act][1].xs[:N_red,0], traces[j][k_act][1].xs[:N_red,1], 'r')\n",
      "            if k == 0:\n",
      "                axes[k,j].set_title('h = '+str(h), fontsize=14)\n",
      "            if j == 0:\n",
      "                axes[k,j].set_ylabel('$\\sigma$ = '+ np.array_str(sig), fontsize=14)\n",
      "            if k == 0 and j == j_max:\n",
      "                axes[k,j].legend((line1[0], line2[0]),(str(N_blue)+' points', 'First '+str(N_red)+' points'),'upper right')\n",
      "            "
     ],
     "language": "python",
     "metadata": {},
     "outputs": []
    },
    {
     "cell_type": "code",
     "collapsed": false,
     "input": [
      "for s in [0,1]:\n",
      "    fig, axes = plt.subplots(nrows=len(sigs)/2, ncols=len(hs), figsize=(15,15))\n",
      "    fig.suptitle('Empirical vs. Exact Distributions of Rejection Sampling Mehtod', fontsize=20)\n",
      "    r_dist_x =  [0.0, 1.0]\n",
      "    r_dist_y =  [0.0, 2.0]\n",
      "    x_range = [0.0, 1.0]\n",
      "    y_range = [0.0, 2.5]\n",
      "    j_max = len(hs)-1\n",
      "    k_max = len(sigs)-1\n",
      "    k_max_half = (k_max - s)/2\n",
      "    for j, h in enumerate(hs):\n",
      "        for k, sig in enumerate(sigs[s::2]):\n",
      "            k_act = 2*k + s\n",
      "            ed = axes[k,j].plot([-1., 1.], (1.0/(2.0))*np.array([1.0, 1.0]),'m',linewidth=2) \n",
      "            a, b, c = axes[k,j].hist(traces[j][k_act][0].xs[:,-1], bins=40, normed=True)\n",
      "            #line1 = axes[k,j].plot(traces[h][k_act]['rej'][:N_blue,0], traces[h][k_act]['rej'][:N_blue,1])\n",
      "            #line2 = axes[k,j].plot(traces[h][k_act]['rej'][:N_red,0], traces[h][k_act]['rej'][:N_red,1], 'r')\n",
      "            if k == 0:\n",
      "                axes[k,j].set_title('h = '+str(h), fontsize=14)\n",
      "            if j == 0:\n",
      "                axes[k,j].set_ylabel('$\\sigma$ = '+ np.array_str(sig), fontsize=14)\n",
      "            #    axes[k,j].legend((line1[0], line2[0]),(str(N_blue)+' points', 'First '+str(N_red)+' points'),'upper right')\n",
      "            "
     ],
     "language": "python",
     "metadata": {},
     "outputs": []
    },
    {
     "cell_type": "code",
     "collapsed": false,
     "input": [
      "for s in [0,1]:\n",
      "    fig, axes = plt.subplots(nrows=len(sigs)/2, ncols=len(hs), figsize=(15,15))\n",
      "    fig.suptitle('Empirical vs. Exact Distributions of Reflection Sampling Mehtod', fontsize=20)\n",
      "    r_dist_x =  [0.0, 1.0]\n",
      "    r_dist_y =  [0.0, 2.0]\n",
      "    x_range = [0.0, 1.0]\n",
      "    y_range = [0.0, 2.5]\n",
      "    j_max = len(hs)-1\n",
      "    k_max = len(sigs)-1\n",
      "    k_max_half = (k_max - s)/2\n",
      "    for j, h in enumerate(hs):\n",
      "        for k, sig in enumerate(sigs[s::2]):\n",
      "            k_act = 2*k + s\n",
      "            ed = axes[k,j].plot([-1., 1.], (1.0/(2.0))*np.array([1.0, 1.0]),'m',linewidth=2) \n",
      "            a, b, c = axes[k,j].hist(traces[j][k_act][1].xs[:,-1], bins=40, normed=True)\n",
      "            #line1 = axes[k,j].plot(traces[h][k_act]['rej'][:N_blue,0], traces[h][k_act]['rej'][:N_blue,1])\n",
      "            #line2 = axes[k,j].plot(traces[h][k_act]['rej'][:N_red,0], traces[h][k_act]['rej'][:N_red,1], 'r')\n",
      "            if k == 0:\n",
      "                axes[k,j].set_title('h = '+str(h), fontsize=14)\n",
      "            if j == 0:\n",
      "                axes[k,j].set_ylabel('$\\sigma$ = '+ np.array_str(sig), fontsize=14)\n",
      "            #    axes[k,j].legend((line1[0], line2[0]),(str(N_blue)+' points', 'First '+str(N_red)+' points'),'upper right')\n",
      "            "
     ],
     "language": "python",
     "metadata": {},
     "outputs": []
    }
   ],
   "metadata": {}
  }
 ]
}