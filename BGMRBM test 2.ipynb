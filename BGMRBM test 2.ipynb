{
 "metadata": {
  "name": "",
  "signature": "sha256:638188447a449fadffbde48d3934268396f909b14a7941c6947b2885c950f08f"
 },
 "nbformat": 3,
 "nbformat_minor": 0,
 "worksheets": [
  {
   "cells": [
    {
     "cell_type": "code",
     "collapsed": false,
     "input": [
      "%matplotlib inline"
     ],
     "language": "python",
     "metadata": {},
     "outputs": [],
     "prompt_number": 21
    },
    {
     "cell_type": "code",
     "collapsed": false,
     "input": [
      "import numpy as np\n",
      "\n",
      "import matplotlib.pyplot as plt\n",
      "\n",
      "import bga_4_0 as bga\n",
      "import manifold_reflected_brownian_motion as mrbm\n",
      "\n",
      "bga = reload(bga)\n",
      "mrbm = reload(mrbm)\n"
     ],
     "language": "python",
     "metadata": {},
     "outputs": [],
     "prompt_number": 22
    },
    {
     "cell_type": "code",
     "collapsed": false,
     "input": [
      "poly_name = 'octahedron'\n",
      "int_num = 3\n",
      "\n",
      "manifold_name = poly_name\n",
      "manifold_kwargs = {'int_num': int_num}\n",
      "\n",
      "boundary_name = poly_name\n",
      "boundary_kwargs = {'int_num': int_num}\n",
      "\n",
      "stat_name = 'test_2'\n",
      "stat_kwargs = {}"
     ],
     "language": "python",
     "metadata": {},
     "outputs": [],
     "prompt_number": 23
    },
    {
     "cell_type": "code",
     "collapsed": false,
     "input": [
      "err_tol = 10**-12\n",
      "h = 0.01\n",
      "N = 10**2\n",
      "hist_min = 0.0\n",
      "hist_max = 2.0*np.pi\n",
      "kwargs_nb = {'stat_name': stat_name,\n",
      "             'record_hist': True, \n",
      "             'hist_min': hist_min, \n",
      "             'hist_max': hist_max, \n",
      "             'hist_bins': 10,\n",
      "             'err_tol': err_tol,\n",
      "             'manifold_kwargs': manifold_kwargs,\n",
      "             'boundary_kwargs': {},\n",
      "             'stat_kwargs': stat_kwargs}\n",
      "\n",
      "kwargs_b  = {'stat_name': stat_name,\n",
      "             'record_hist': True, \n",
      "             'hist_min': 0.0, \n",
      "             'hist_max': 2.0*np.pi, \n",
      "             'hist_bins': 10,\n",
      "             'err_tol': err_tol,\n",
      "             'manifold_kwargs': manifold_kwargs,\n",
      "             'boundary_kwargs': boundary_kwargs,\n",
      "             'stat_kwargs': stat_kwargs}"
     ],
     "language": "python",
     "metadata": {},
     "outputs": [],
     "prompt_number": 24
    },
    {
     "cell_type": "code",
     "collapsed": false,
     "input": [
      "x0, links, lengths, faces = bga.load_bg_int(poly_name, int_num)\n",
      "#print faces"
     ],
     "language": "python",
     "metadata": {},
     "outputs": [],
     "prompt_number": 25
    },
    {
     "cell_type": "code",
     "collapsed": false,
     "input": [
      "z_no_boundary = mrbm.MRBM(manifold_name, \n",
      "                          'none', \n",
      "                          x0, \n",
      "                          h, \n",
      "                          **kwargs_nb)\n",
      "z_boundary = mrbm.MRBM(manifold_name, \n",
      "                       boundary_name, \n",
      "                       x0, \n",
      "                       h, \n",
      "                       **kwargs_b)"
     ],
     "language": "python",
     "metadata": {},
     "outputs": [],
     "prompt_number": 26
    },
    {
     "cell_type": "code",
     "collapsed": false,
     "input": [
      "s_nb = z_no_boundary.sample(N=N, record_trace=False, record_stats=True)\n",
      "print 'domne'"
     ],
     "language": "python",
     "metadata": {},
     "outputs": [
      {
       "output_type": "stream",
       "stream": "stdout",
       "text": [
        "1.91765956508\n",
        "4.39426877091\n",
        "1.940704433\n",
        "4.38237510437\n",
        "1.94076369395\n",
        "4.38004079987\n",
        "1.95967335408\n",
        "4.39367754206\n",
        "1.94568291474\n",
        "4.40269471106\n",
        "1.94692297226\n",
        "4.40079358812\n",
        "1.95892089811\n",
        "4.37770603893\n",
        "1.94355354816\n",
        "4.36116830821\n",
        "1.91004911878\n",
        "4.39205637121\n",
        "1.93815127253\n",
        "4.42469087645\n",
        "1.94638851524\n",
        "4.39556182987\n",
        "1.99364334139\n",
        "4.41625438757\n",
        "2.02191773557\n",
        "4.40779619702\n",
        "1.98009785597\n",
        "4.39071951322\n",
        "1.99169367575\n",
        "4.36126682981\n",
        "1.93904487659\n",
        "4.36572896119\n",
        "1.94618808361\n",
        "4.39137023448\n",
        "1.98426760814\n",
        "4.41377028391\n",
        "1.96033763856\n",
        "4.40779775192\n",
        "1.9260489694\n",
        "4.38832642055\n",
        "1.89627044146\n",
        "4.37479673388\n",
        "1.88261708622\n",
        "4.39580247449\n",
        "1.8854164037\n",
        "4.35628693514\n",
        "1.8763657726\n",
        "4.35645653662\n",
        "1.86436854578\n",
        "4.35211024651\n",
        "1.91113772936\n",
        "4.3599976569\n",
        "1.93515234612\n",
        "4.36719825595\n",
        "1.99613577412\n",
        "4.38489224694\n",
        "2.02520391631\n",
        "4.39747255374\n",
        "2.06338774483\n",
        "4.38843684522\n",
        "2.09776517501\n",
        "4.40779134255\n",
        "2.09045682402\n",
        "4.44443202589\n",
        "2.10739566207\n",
        "4.42529241543\n",
        "2.06800388433\n",
        "4.40812327483\n",
        "2.08493135685\n",
        "4.39462165603\n",
        "2.07938862522\n",
        "4.44434930156\n",
        "2.09013726511\n",
        "4.44496659842\n",
        "2.09844424837"
       ]
      },
      {
       "output_type": "stream",
       "stream": "stdout",
       "text": [
        "\n",
        "4.48615012856\n",
        "2.1032128568\n",
        "4.46859679084\n",
        "2.09303408829\n",
        "4.45849689872\n",
        "2.07495437106\n",
        "4.44976598382\n",
        "2.06498431203\n",
        "4.47238392421\n",
        "2.02519296524\n",
        "4.46453069968\n",
        "2.02646974258\n",
        "4.50421157432\n",
        "2.02990114841\n",
        "4.4778271116\n",
        "2.0494311329\n",
        "4.49839852354\n",
        "2.03310330527\n",
        "4.47803052839\n",
        "2.06758363913\n",
        "4.52478406194\n",
        "2.09759110313\n",
        "4.56520543984\n",
        "2.10706848971\n",
        "4.57787468351\n",
        "2.0983530333\n",
        "4.54322838184\n",
        "2.13536383024\n",
        "4.54476396491\n",
        "2.15175583693\n",
        "4.53429417063\n",
        "2.16268850177\n",
        "4.50916511777\n",
        "2.13928646265\n",
        "4.47208068968\n",
        "2.08746164949\n",
        "4.45091384937\n",
        "2.08016370828\n",
        "4.40612330092\n",
        "2.07060139286\n",
        "4.43301590505\n",
        "2.09618296361\n",
        "4.44373233324\n",
        "2.06299520888\n",
        "4.43354439627\n",
        "2.1037292126\n",
        "4.44492887964\n",
        "2.113425067\n",
        "4.46063198417\n",
        "2.14163758555\n",
        "4.48830296352\n",
        "2.12858558483\n",
        "4.44134981004\n",
        "2.14379577793\n",
        "4.47191937607\n",
        "2.17709540931\n",
        "4.48420538359\n",
        "2.18775431983\n",
        "4.4757346341\n",
        "2.20304747168\n",
        "4.47755944282\n",
        "2.20642658152\n",
        "4.44730150281\n",
        "2.21631628104\n",
        "4.42038216974\n",
        "2.22343523303\n",
        "4.39725980306\n",
        "2.26214704655\n",
        "4.42323512979\n",
        "2.23038501575\n",
        "4.40155675392\n",
        "2.19697645505\n",
        "4.3745570962\n",
        "2.17090780958\n",
        "4.36085340182\n",
        "2.18684467164\n",
        "4.33663247974\n",
        "2.19169944228\n",
        "4.35450299775\n",
        "2.23489123201"
       ]
      },
      {
       "output_type": "stream",
       "stream": "stdout",
       "text": [
        "\n",
        "4.37057366743\n",
        "2.24977952047\n",
        "4.39385676528\n",
        "2.24455351606\n",
        "4.3776030721\n",
        "2.25649336942\n",
        "4.36947508194\n",
        "2.25607924106\n",
        "4.3790982624\n",
        "2.23487618858\n",
        "4.35061473167\n",
        "2.21956050709\n",
        "4.3348394467\n",
        "2.22984451544\n",
        "4.33510352045\n",
        "2.26188975241\n",
        "4.32677318955\n",
        "2.26094495086\n",
        "4.27885668423\n",
        "2.26573575992\n",
        "4.28648228879\n",
        "2.27723274496\n",
        "4.33135251005\n",
        "2.24005330507\n",
        "4.30553751206\n",
        "2.22612967018\n",
        "4.34028787272\n",
        "2.21969079374\n",
        "4.35316463683\n",
        "2.27266926476\n",
        "4.40029021093\n",
        "2.32215566311\n",
        "4.43514244959\n",
        "2.29177183094\n",
        "4.42006406308\n",
        "2.26614322487\n",
        "4.39040290253\n",
        "2.27468186784\n",
        "4.35868205339\n",
        "2.28484402292\n",
        "4.36452059738\n",
        "2.30928629511\n",
        "4.36740729703\n",
        "2.30287080996\n",
        "4.36771437147\n",
        "domne\n"
       ]
      }
     ],
     "prompt_number": 27
    },
    {
     "cell_type": "code",
     "collapsed": false,
     "input": [
      "s_b = z_boundary.sample(N=N, record_trace=False, record_stats=True)"
     ],
     "language": "python",
     "metadata": {},
     "outputs": [
      {
       "output_type": "stream",
       "stream": "stdout",
       "text": [
        "1.92774271546\n",
        "4.40560397518\n",
        "1.90858603279\n",
        "4.36367534111\n",
        "1.90458192977\n",
        "4.39096543485\n",
        "1.91355305694\n",
        "4.40372602039\n",
        "1.9356513825\n",
        "4.41908340087\n",
        "1.94712041276\n",
        "4.40338857505\n",
        "1.94779481504\n",
        "4.40127977333\n",
        "1.94969891588\n",
        "4.39932663149\n",
        "1.95593437979\n",
        "4.37951281637\n",
        "1.94468552793\n",
        "4.343473693\n",
        "1.99977184906\n",
        "4.37843776061\n",
        "1.97115952992\n",
        "4.37911552253\n",
        "1.93326324817\n",
        "4.37284948093\n",
        "1.95775288584\n",
        "4.3620154506\n",
        "1.98635130831\n",
        "4.3321225466\n",
        "1.98509841078\n",
        "4.34931014341\n",
        "1.97343593337\n",
        "4.35329092721\n",
        "1.96510595786\n",
        "4.32214828411\n",
        "1.98466392013\n",
        "4.31543610433\n",
        "1.99071560025\n",
        "4.27634366505\n",
        "1.98816436413\n",
        "4.32265124032\n",
        "1.98171937033\n",
        "4.36677460819\n",
        "1.99100985001\n",
        "4.39601547267\n",
        "1.95970921508\n",
        "4.36724339715\n",
        "1.95723372073\n",
        "4.36167556244\n",
        "1.98781932336\n",
        "4.35896592177\n",
        "1.99623111538\n",
        "4.32130714738\n",
        "1.99879470799\n",
        "4.33498055426\n",
        "2.01319349848"
       ]
      },
      {
       "output_type": "stream",
       "stream": "stdout",
       "text": [
        "\n",
        "4.30130283404\n",
        "2.00890692572\n",
        "4.31732538861\n",
        "2.01916439923\n",
        "4.33965086552\n",
        "2.00496856668\n",
        "4.37588999507\n",
        "2.03960496795\n",
        "4.3645722683\n",
        "2.03083389103\n",
        "4.39225566973\n",
        "1.99711774536\n",
        "4.38164378563\n",
        "1.96825352078\n",
        "4.36794008794\n",
        "1.95890150416\n",
        "4.37683622584\n",
        "1.96116416646\n",
        "4.41366031723\n",
        "1.93828011427\n",
        "4.36540030027\n",
        "1.96512674355\n",
        "4.35821866791\n",
        "1.93249421657\n",
        "4.35625934183\n",
        "1.9397427492\n",
        "4.3362516855\n",
        "1.93259193935\n",
        "4.32286449649\n",
        "1.96246982095\n",
        "4.31522296583\n",
        "1.94584030276\n",
        "4.34227053274\n",
        "1.95196542819\n",
        "4.33729936533\n",
        "1.95925713306\n",
        "4.32735278259\n",
        "1.9634788345\n",
        "4.3454232291\n",
        "1.97417548085\n",
        "4.33533568926\n",
        "1.94822849526\n",
        "4.31248117183\n",
        "1.96051831474\n",
        "4.29700711891\n",
        "1.96872590449\n",
        "4.33884293681\n",
        "1.93509574128\n",
        "4.32046581054\n",
        "1.91236683959\n",
        "4.33679825031\n",
        "1.91380883413\n",
        "4.31009059395\n",
        "1.91242761393\n",
        "4.34611662558\n",
        "1.91521949417\n",
        "4.39558074802\n",
        "1.94835697368\n",
        "4.41524684222\n",
        "1.96029588986"
       ]
      },
      {
       "output_type": "stream",
       "stream": "stdout",
       "text": [
        "\n",
        "4.4229654256\n",
        "1.98122859688\n",
        "4.41694080657\n",
        "1.95411476678\n",
        "4.42749736144\n",
        "1.96823264276\n",
        "4.48244003685\n",
        "2.01050924098\n",
        "4.50255767006\n",
        "2.00525603956\n",
        "4.50948866503\n",
        "2.00428459785\n",
        "4.48971158188\n",
        "2.03328353945\n",
        "4.47690871634\n",
        "2.08043321685\n",
        "4.50199668476\n",
        "2.05374176012\n",
        "4.50984497358\n",
        "2.05931581844\n",
        "4.48403670194\n",
        "2.06584069987\n",
        "4.4510641427\n",
        "2.03288664763\n",
        "4.42054160783\n",
        "2.04865965121\n",
        "4.41515968807\n",
        "2.01003413085\n",
        "4.40763091777\n",
        "2.01869906202\n",
        "4.4402233933\n",
        "2.03494717834\n",
        "4.42208809875\n",
        "2.03686296768\n",
        "4.43859463743\n",
        "2.05724176584\n",
        "4.41688514313\n",
        "2.09234847191\n",
        "4.47085705703\n",
        "2.12353565619\n",
        "4.5013014125\n",
        "2.16554432985\n",
        "4.52257777256\n",
        "2.1422284889\n",
        "4.52233572344\n",
        "2.14781161826\n",
        "4.49000831513\n",
        "2.12571497521\n",
        "4.48725106311\n",
        "2.13064348633\n",
        "4.49888956989\n",
        "2.13488007872\n",
        "4.52062091815\n",
        "2.10442345021\n",
        "4.55225051434\n",
        "2.07990645838\n",
        "4.55596426057\n",
        "2.0817238288\n",
        "4.54893256878\n",
        "2.05631348669"
       ]
      },
      {
       "output_type": "stream",
       "stream": "stdout",
       "text": [
        "\n",
        "4.51871450053\n",
        "2.06347758546\n",
        "4.51874137546\n",
        "2.06057500153\n",
        "4.49902920772\n",
        "2.06497390252\n",
        "4.5005969341\n",
        "2.10108141423\n",
        "4.52828514394\n",
        "2.11134312185\n",
        "4.52116140199\n",
        "2.09325487198\n",
        "4.53926026373\n",
        "2.07474747716\n",
        "4.49375807851\n",
        "2.05606293825\n",
        "4.47163262709\n",
        "2.0625384948\n",
        "4.48879596264\n",
        "2.03881201392\n",
        "4.50184085541\n",
        "2.05598917629\n",
        "4.53138222119\n"
       ]
      }
     ],
     "prompt_number": 28
    },
    {
     "cell_type": "code",
     "collapsed": false,
     "input": [
      "import datetime\n",
      "dts = str(datetime.datetime.now())\n",
      "date_time_str = dts[:10] + \"-\" + dts[11:13] + \"-\" + dts[14:16]\n",
      "print date_time_str\n"
     ],
     "language": "python",
     "metadata": {},
     "outputs": [
      {
       "output_type": "stream",
       "stream": "stdout",
       "text": [
        "2015-01-31-16-01\n"
       ]
      }
     ],
     "prompt_number": 29
    },
    {
     "cell_type": "code",
     "collapsed": false,
     "input": [
      "hist_nb = plt.hist2d(z_no_boundary.stat_log[:,0],\n",
      "                     z_no_boundary.stat_log[:,1],\n",
      "                     bins=100, \n",
      "                     normed=True)\n",
      "plt.colorbar(ticks=[0.0, np.array(hist_nb[0]).max()])\n",
      "#plt.savefig('three_triangles_no_boundaries_'+date_time_str+'.png')\n",
      "#plt.savefig('three_triangles_no_boundaries.png')"
     ],
     "language": "python",
     "metadata": {},
     "outputs": [
      {
       "metadata": {},
       "output_type": "pyout",
       "prompt_number": 30,
       "text": [
        "<matplotlib.colorbar.Colorbar instance at 0x407c2d8>"
       ]
      },
      {
       "metadata": {},
       "output_type": "display_data",
       "png": "[encoded data removed]",
       "text": [
        "<matplotlib.figure.Figure at 0x3fe5d10>"
       ]
      }
     ],
     "prompt_number": 30
    },
    {
     "cell_type": "code",
     "collapsed": false,
     "input": [
      "hist_b = plt.hist2d(z_boundary.stat_log[:,0],\n",
      "                     z_boundary.stat_log[:,1],\n",
      "                     bins=100, \n",
      "                     normed=True)\n",
      "plt.colorbar()\n",
      "plt.savefig('three_triangles_boundaries_'+date_time_str+'.png')\n",
      "#plt.savefig('three_triangles_no_boundaries.png')\n",
      "#plt.savefig('three_triangles_boundaries.png')"
     ],
     "language": "python",
     "metadata": {},
     "outputs": [
      {
       "metadata": {},
       "output_type": "display_data",
       "png": "[encoded data removed]",
       "text": [
        "<matplotlib.figure.Figure at 0x3ee1950>"
       ]
      }
     ],
     "prompt_number": 31
    },
    {
     "cell_type": "code",
     "collapsed": false,
     "input": [
      "print np.array(hist_nb[0]).max()\n"
     ],
     "language": "python",
     "metadata": {},
     "outputs": [
      {
       "output_type": "stream",
       "stream": "stdout",
       "text": [
        "1446.59754467\n"
       ]
      }
     ],
     "prompt_number": 32
    },
    {
     "cell_type": "code",
     "collapsed": false,
     "input": [
      "T = 10000"
     ],
     "language": "python",
     "metadata": {},
     "outputs": [],
     "prompt_number": 33
    },
    {
     "cell_type": "code",
     "collapsed": false,
     "input": [
      "plot_nb = plt.plot(z_no_boundary.stat_log[:T,0],\n",
      "                     z_no_boundary.stat_log[:T,1])"
     ],
     "language": "python",
     "metadata": {},
     "outputs": [
      {
       "metadata": {},
       "output_type": "display_data",
       "png": "[encoded data removed]",
       "text": [
        "<matplotlib.figure.Figure at 0x405dd10>"
       ]
      }
     ],
     "prompt_number": 34
    },
    {
     "cell_type": "code",
     "collapsed": false,
     "input": [
      "plot_nb = plt.plot(z_boundary.stat_log[:T,0],\n",
      "                     z_boundary.stat_log[:T,1])"
     ],
     "language": "python",
     "metadata": {},
     "outputs": [
      {
       "metadata": {},
       "output_type": "display_data",
       "png": "[encoded data removed]",
       "text": [
        "<matplotlib.figure.Figure at 0x3ffd850>"
       ]
      }
     ],
     "prompt_number": 35
    },
    {
     "cell_type": "code",
     "collapsed": false,
     "input": [
      "print z_boundary.dihedrals\n",
      "print z_boundary.dihedral_inds\n",
      "print z_boundary.faces\n",
      "print z_boundary.stat_log[140:160,1]"
     ],
     "language": "python",
     "metadata": {},
     "outputs": [
      {
       "output_type": "stream",
       "stream": "stdout",
       "text": [
        "[ 2.05598918  4.53138222]\n",
        "[[0, 3, 4, 1], [3, 0, 4, 2]]\n",
        "[[0, 3, 4], [1, 4, 3], [0, 4, 2]]\n",
        "[]\n"
       ]
      }
     ],
     "prompt_number": 36
    },
    {
     "cell_type": "code",
     "collapsed": true,
     "input": [
      "plt.plot(z_boundary.stat_log[:,0])\n",
      "plt.plot(z_boundary.stat_log[:,1])"
     ],
     "language": "python",
     "metadata": {},
     "outputs": [
      {
       "metadata": {},
       "output_type": "pyout",
       "prompt_number": 37,
       "text": [
        "[<matplotlib.lines.Line2D at 0x480bf50>]"
       ]
      },
      {
       "metadata": {},
       "output_type": "display_data",
       "png": "[encoded data removed]",
       "text": [
        "<matplotlib.figure.Figure at 0x480bf10>"
       ]
      }
     ],
     "prompt_number": 37
    }
   ],
   "metadata": {}
  }
 ]
}